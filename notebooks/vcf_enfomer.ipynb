{
 "cells": [
  {
   "cell_type": "markdown",
   "id": "a205db32-77c8-4a06-a877-2ec32ba8945d",
   "metadata": {},
   "source": [
    "# Run enformer on variants around the TSS "
   ]
  },
  {
   "cell_type": "markdown",
   "id": "890e00f9-9e6a-46a5-bb1f-22c1985ed997",
   "metadata": {
    "tags": []
   },
   "source": [
    "## Imports"
   ]
  },
  {
   "cell_type": "code",
   "execution_count": 1,
   "id": "251cefde-b7a2-4ea6-bb52-62d93f1212b0",
   "metadata": {},
   "outputs": [
    {
     "name": "stderr",
     "output_type": "stream",
     "text": [
      "2024-04-03 14:18:27.167303: E external/local_xla/xla/stream_executor/cuda/cuda_dnn.cc:9261] Unable to register cuDNN factory: Attempting to register factory for plugin cuDNN when one has already been registered\n",
      "2024-04-03 14:18:27.167379: E external/local_xla/xla/stream_executor/cuda/cuda_fft.cc:607] Unable to register cuFFT factory: Attempting to register factory for plugin cuFFT when one has already been registered\n",
      "2024-04-03 14:18:27.425760: E external/local_xla/xla/stream_executor/cuda/cuda_blas.cc:1515] Unable to register cuBLAS factory: Attempting to register factory for plugin cuBLAS when one has already been registered\n",
      "2024-04-03 14:18:27.743813: I tensorflow/core/platform/cpu_feature_guard.cc:182] This TensorFlow binary is optimized to use available CPU instructions in performance-critical operations.\n",
      "To enable the following instructions: SSE4.1 SSE4.2 AVX AVX2 FMA, in other operations, rebuild TensorFlow with the appropriate compiler flags.\n"
     ]
    }
   ],
   "source": [
    "%load_ext autoreload\n",
    "%autoreload 2\n",
    "from kipoi_enformer.veff.dataloader import VCFEnformerDL, get_tss_from_genome_annotation\n",
    "import tensorflow as tf\n",
    "from kipoi_enformer.veff.utils import Enformer\n",
    "from pathlib import Path\n",
    "from kipoi_enformer.logger import logger\n",
    "import logging\n",
    "import os\n",
    "import pyarrow.parquet as pq\n",
    "import numpy as np"
   ]
  },
  {
   "cell_type": "markdown",
   "id": "e462bdb0-ac92-4e92-8233-356f9a2fd771",
   "metadata": {},
   "source": [
    "## Config"
   ]
  },
  {
   "cell_type": "code",
   "execution_count": 2,
   "id": "6b10f5e2-8a27-4249-bf2c-b04e87f61f8d",
   "metadata": {
    "tags": []
   },
   "outputs": [],
   "source": [
    "# show logs in notebook\n",
    "logging.basicConfig()\n",
    "logger.setLevel(logging.DEBUG)"
   ]
  },
  {
   "cell_type": "code",
   "execution_count": 3,
   "id": "99337caf-10dd-41db-b5f1-ecc8548ce675",
   "metadata": {
    "tags": []
   },
   "outputs": [
    {
     "name": "stderr",
     "output_type": "stream",
     "text": [
      "2024-04-03 14:18:37.862788: I external/local_xla/xla/stream_executor/cuda/cuda_executor.cc:901] successful NUMA node read from SysFS had negative value (-1), but there must be at least one NUMA node, so returning NUMA node zero. See more at https://github.com/torvalds/linux/blob/v6.0/Documentation/ABI/testing/sysfs-bus-pci#L344-L355\n",
      "2024-04-03 14:18:39.268555: I external/local_xla/xla/stream_executor/cuda/cuda_executor.cc:901] successful NUMA node read from SysFS had negative value (-1), but there must be at least one NUMA node, so returning NUMA node zero. See more at https://github.com/torvalds/linux/blob/v6.0/Documentation/ABI/testing/sysfs-bus-pci#L344-L355\n",
      "2024-04-03 14:18:39.268878: I external/local_xla/xla/stream_executor/cuda/cuda_executor.cc:901] successful NUMA node read from SysFS had negative value (-1), but there must be at least one NUMA node, so returning NUMA node zero. See more at https://github.com/torvalds/linux/blob/v6.0/Documentation/ABI/testing/sysfs-bus-pci#L344-L355\n"
     ]
    },
    {
     "data": {
      "text/plain": [
       "[PhysicalDevice(name='/physical_device:GPU:0', device_type='GPU')]"
      ]
     },
     "execution_count": 3,
     "metadata": {},
     "output_type": "execute_result"
    }
   ],
   "source": [
    "# Check if TensorFlow is able to see your GPU\n",
    "tf.config.list_physical_devices('GPU')"
   ]
  },
  {
   "cell_type": "code",
   "execution_count": 4,
   "id": "c97ee550-c0e8-4858-9144-4f774466da94",
   "metadata": {
    "tags": []
   },
   "outputs": [
    {
     "data": {
      "text/plain": [
       "'/data/nasif12/home_if12/tsi/projects/kipoi_enformer/notebooks'"
      ]
     },
     "execution_count": 4,
     "metadata": {},
     "output_type": "execute_result"
    }
   ],
   "source": [
    "os.getcwd()"
   ]
  },
  {
   "cell_type": "code",
   "execution_count": 5,
   "id": "601d2b4f-8553-4221-b99e-147ee195dbab",
   "metadata": {
    "tags": []
   },
   "outputs": [],
   "source": [
    "base = Path(\"../example_files/chr22\")\n",
    "files = {\n",
    "        'fasta': base / \"seq.chr22.fa\",\n",
    "        'gtf': base / \"annot.chr22.gtf\",\n",
    "        'vcf': base / \"promoter_variants.chr22.vcf\",\n",
    "        }"
   ]
  },
  {
   "cell_type": "markdown",
   "id": "e94268ce-84e0-4173-be3f-62217af5921b",
   "metadata": {},
   "source": [
    "## Run enformer and save results"
   ]
  },
  {
   "cell_type": "code",
   "execution_count": 6,
   "id": "9bfd31fd-6792-40d6-bd75-bb6d0ba6df37",
   "metadata": {},
   "outputs": [],
   "source": [
    "size = 100"
   ]
  },
  {
   "cell_type": "code",
   "execution_count": 7,
   "id": "425eee17-a776-4d5c-9b3c-86372238316c",
   "metadata": {
    "tags": []
   },
   "outputs": [],
   "source": [
    "def get_dataloader(_size=None, _seq_length=393_216, _shift=43, _tss_ext=500):\n",
    "    return VCF_Enformer_DL(\n",
    "        fasta_file=files['fasta'],\n",
    "        gtf_file=files['gtf'],\n",
    "        vcf_file=files['vcf'],\n",
    "        downstream_tss=_tss_ext,\n",
    "        upstream_tss=_tss_ext,\n",
    "        shift=_shift,\n",
    "        seq_length=_seq_length,\n",
    "        size=_size\n",
    "    )"
   ]
  },
  {
   "cell_type": "code",
   "execution_count": 8,
   "id": "18a5a7a3-5e83-4b1c-acbc-763df1474e03",
   "metadata": {
    "tags": []
   },
   "outputs": [
    {
     "name": "stderr",
     "output_type": "stream",
     "text": [
      "/opt/modules/i12g/anaconda/envs/kipoi-enformer-george/lib/python3.10/site-packages/pyranges/methods/init.py:45: FutureWarning: The default of observed=False is deprecated and will be changed to True in a future version of pandas. Pass observed=False to retain current behavior or observed=True to adopt the future default and silence this warning.\n",
      "  return {k: v for k, v in df.groupby(grpby_key)}\n",
      "[W::vcf_parse] Contig 'chr22' is not defined in the header. (Quick workaround: index the file with tabix.)\n",
      "/opt/modules/i12g/anaconda/envs/kipoi-enformer-george/lib/python3.10/site-packages/pyranges/methods/init.py:45: FutureWarning: The default of observed=False is deprecated and will be changed to True in a future version of pandas. Pass observed=False to retain current behavior or observed=True to adopt the future default and silence this warning.\n",
      "  return {k: v for k, v in df.groupby(grpby_key)}\n"
     ]
    },
    {
     "data": {
      "text/plain": [
       "100"
      ]
     },
     "execution_count": 8,
     "metadata": {},
     "output_type": "execute_result"
    }
   ],
   "source": [
    "len([1 for _,_ in get_dataloader(_seq_length=21, _shift=1, _tss_ext=10, _size=size)])"
   ]
  },
  {
   "cell_type": "code",
   "execution_count": null,
   "id": "6c3b2937-7c40-420e-83eb-1ce87d972e90",
   "metadata": {},
   "outputs": [],
   "source": [
    "output_dir = Path('../output')\n",
    "output_dir.mkdir(exist_ok=True, parents=True)\n",
    "output_dir = output_dir / 'enformer_test'"
   ]
  },
  {
   "cell_type": "code",
   "execution_count": 10,
   "id": "926afa9b-d864-4bfa-8459-66f4e4801d04",
   "metadata": {
    "collapsed": true,
    "jupyter": {
     "outputs_hidden": true
    },
    "tags": []
   },
   "outputs": [
    {
     "name": "stderr",
     "output_type": "stream",
     "text": [
      "/opt/modules/i12g/anaconda/envs/kipoi-enformer-george/lib/python3.10/site-packages/pyranges/methods/init.py:45: FutureWarning: The default of observed=False is deprecated and will be changed to True in a future version of pandas. Pass observed=False to retain current behavior or observed=True to adopt the future default and silence this warning.\n",
      "  return {k: v for k, v in df.groupby(grpby_key)}\n",
      "DEBUG:kipoi_enformer:Predicting on dataloader\n",
      "[W::vcf_parse] Contig 'chr22' is not defined in the header. (Quick workaround: index the file with tabix.)\n",
      "/opt/modules/i12g/anaconda/envs/kipoi-enformer-george/lib/python3.10/site-packages/pyranges/methods/init.py:45: FutureWarning: The default of observed=False is deprecated and will be changed to True in a future version of pandas. Pass observed=False to retain current behavior or observed=True to adopt the future default and silence this warning.\n",
      "  return {k: v for k, v in df.groupby(grpby_key)}\n",
      "DEBUG:kipoi_enformer:Processing batch 1\n",
      "2024-04-03 13:53:39.478271: W tensorflow/core/kernels/gpu_utils.cc:54] Failed to allocate memory for convolution redzone checking; skipping this check. This is benign and only means that we won't check cudnn for out-of-bounds reads and writes. This message will only be printed once.\n",
      "2024-04-03 13:53:39.484629: I external/local_xla/xla/stream_executor/cuda/cuda_dnn.cc:454] Loaded cuDNN version 8907\n",
      "DEBUG:kipoi_enformer:Converting results to pyarrow\n",
      "DEBUG:kipoi_enformer:Constructing pyarrow record batch\n",
      "DEBUG:kipoi_enformer:Processing batch 2\n",
      "DEBUG:kipoi_enformer:Converting results to pyarrow\n",
      "DEBUG:kipoi_enformer:Constructing pyarrow record batch\n",
      "DEBUG:kipoi_enformer:Processing batch 3\n",
      "DEBUG:kipoi_enformer:Converting results to pyarrow\n",
      "DEBUG:kipoi_enformer:Constructing pyarrow record batch\n",
      "DEBUG:kipoi_enformer:Processing batch 4\n",
      "DEBUG:kipoi_enformer:Converting results to pyarrow\n",
      "DEBUG:kipoi_enformer:Constructing pyarrow record batch\n",
      "DEBUG:kipoi_enformer:Processing batch 5\n",
      "DEBUG:kipoi_enformer:Converting results to pyarrow\n",
      "DEBUG:kipoi_enformer:Constructing pyarrow record batch\n",
      "DEBUG:kipoi_enformer:Processing batch 6\n",
      "DEBUG:kipoi_enformer:Converting results to pyarrow\n",
      "DEBUG:kipoi_enformer:Constructing pyarrow record batch\n",
      "DEBUG:kipoi_enformer:Processing batch 7\n",
      "DEBUG:kipoi_enformer:Converting results to pyarrow\n",
      "DEBUG:kipoi_enformer:Constructing pyarrow record batch\n",
      "DEBUG:kipoi_enformer:Processing batch 8\n",
      "DEBUG:kipoi_enformer:Converting results to pyarrow\n",
      "DEBUG:kipoi_enformer:Constructing pyarrow record batch\n",
      "DEBUG:kipoi_enformer:Processing batch 9\n",
      "DEBUG:kipoi_enformer:Converting results to pyarrow\n",
      "DEBUG:kipoi_enformer:Constructing pyarrow record batch\n",
      "DEBUG:kipoi_enformer:Processing batch 10\n",
      "DEBUG:kipoi_enformer:Converting results to pyarrow\n",
      "DEBUG:kipoi_enformer:Constructing pyarrow record batch\n",
      "DEBUG:kipoi_enformer:Processing batch 11\n",
      "DEBUG:kipoi_enformer:Converting results to pyarrow\n",
      "DEBUG:kipoi_enformer:Constructing pyarrow record batch\n",
      "DEBUG:kipoi_enformer:Processing batch 12\n",
      "DEBUG:kipoi_enformer:Converting results to pyarrow\n",
      "DEBUG:kipoi_enformer:Constructing pyarrow record batch\n",
      "DEBUG:kipoi_enformer:Processing batch 13\n",
      "DEBUG:kipoi_enformer:Converting results to pyarrow\n",
      "DEBUG:kipoi_enformer:Constructing pyarrow record batch\n",
      "DEBUG:kipoi_enformer:Processing batch 14\n",
      "DEBUG:kipoi_enformer:Converting results to pyarrow\n",
      "DEBUG:kipoi_enformer:Constructing pyarrow record batch\n",
      "DEBUG:kipoi_enformer:Processing batch 15\n",
      "DEBUG:kipoi_enformer:Converting results to pyarrow\n",
      "DEBUG:kipoi_enformer:Constructing pyarrow record batch\n",
      "DEBUG:kipoi_enformer:Processing batch 16\n",
      "DEBUG:kipoi_enformer:Converting results to pyarrow\n",
      "DEBUG:kipoi_enformer:Constructing pyarrow record batch\n",
      "DEBUG:kipoi_enformer:Processing batch 17\n",
      "DEBUG:kipoi_enformer:Converting results to pyarrow\n",
      "DEBUG:kipoi_enformer:Constructing pyarrow record batch\n",
      "DEBUG:kipoi_enformer:Processing batch 18\n",
      "DEBUG:kipoi_enformer:Converting results to pyarrow\n",
      "DEBUG:kipoi_enformer:Constructing pyarrow record batch\n",
      "DEBUG:kipoi_enformer:Processing batch 19\n",
      "DEBUG:kipoi_enformer:Converting results to pyarrow\n",
      "DEBUG:kipoi_enformer:Constructing pyarrow record batch\n",
      "DEBUG:kipoi_enformer:Processing batch 20\n",
      "DEBUG:kipoi_enformer:Converting results to pyarrow\n",
      "DEBUG:kipoi_enformer:Constructing pyarrow record batch\n",
      "DEBUG:kipoi_enformer:Processing batch 21\n",
      "DEBUG:kipoi_enformer:Converting results to pyarrow\n",
      "DEBUG:kipoi_enformer:Constructing pyarrow record batch\n",
      "DEBUG:kipoi_enformer:Processing batch 22\n",
      "DEBUG:kipoi_enformer:Converting results to pyarrow\n",
      "DEBUG:kipoi_enformer:Constructing pyarrow record batch\n",
      "DEBUG:kipoi_enformer:Processing batch 23\n",
      "DEBUG:kipoi_enformer:Converting results to pyarrow\n",
      "DEBUG:kipoi_enformer:Constructing pyarrow record batch\n",
      "DEBUG:kipoi_enformer:Processing batch 24\n",
      "DEBUG:kipoi_enformer:Converting results to pyarrow\n",
      "DEBUG:kipoi_enformer:Constructing pyarrow record batch\n",
      "DEBUG:kipoi_enformer:Processing batch 25\n",
      "DEBUG:kipoi_enformer:Converting results to pyarrow\n",
      "DEBUG:kipoi_enformer:Constructing pyarrow record batch\n",
      "DEBUG:kipoi_enformer:Processing batch 26\n",
      "DEBUG:kipoi_enformer:Converting results to pyarrow\n",
      "DEBUG:kipoi_enformer:Constructing pyarrow record batch\n",
      "DEBUG:kipoi_enformer:Processing batch 27\n",
      "DEBUG:kipoi_enformer:Converting results to pyarrow\n",
      "DEBUG:kipoi_enformer:Constructing pyarrow record batch\n",
      "DEBUG:kipoi_enformer:Processing batch 28\n",
      "DEBUG:kipoi_enformer:Converting results to pyarrow\n",
      "DEBUG:kipoi_enformer:Constructing pyarrow record batch\n",
      "DEBUG:kipoi_enformer:Processing batch 29\n",
      "DEBUG:kipoi_enformer:Converting results to pyarrow\n",
      "DEBUG:kipoi_enformer:Constructing pyarrow record batch\n",
      "DEBUG:kipoi_enformer:Processing batch 30\n",
      "DEBUG:kipoi_enformer:Converting results to pyarrow\n",
      "DEBUG:kipoi_enformer:Constructing pyarrow record batch\n",
      "DEBUG:kipoi_enformer:Processing batch 31\n",
      "DEBUG:kipoi_enformer:Converting results to pyarrow\n",
      "DEBUG:kipoi_enformer:Constructing pyarrow record batch\n",
      "DEBUG:kipoi_enformer:Processing batch 32\n",
      "DEBUG:kipoi_enformer:Converting results to pyarrow\n",
      "DEBUG:kipoi_enformer:Constructing pyarrow record batch\n",
      "DEBUG:kipoi_enformer:Processing batch 33\n",
      "DEBUG:kipoi_enformer:Converting results to pyarrow\n",
      "DEBUG:kipoi_enformer:Constructing pyarrow record batch\n",
      "DEBUG:kipoi_enformer:Processing batch 34\n",
      "DEBUG:kipoi_enformer:Converting results to pyarrow\n",
      "DEBUG:kipoi_enformer:Constructing pyarrow record batch\n",
      "DEBUG:kipoi_enformer:Processing batch 35\n",
      "DEBUG:kipoi_enformer:Converting results to pyarrow\n",
      "DEBUG:kipoi_enformer:Constructing pyarrow record batch\n",
      "DEBUG:kipoi_enformer:Processing batch 36\n",
      "DEBUG:kipoi_enformer:Converting results to pyarrow\n",
      "DEBUG:kipoi_enformer:Constructing pyarrow record batch\n",
      "DEBUG:kipoi_enformer:Processing batch 37\n",
      "DEBUG:kipoi_enformer:Converting results to pyarrow\n",
      "DEBUG:kipoi_enformer:Constructing pyarrow record batch\n",
      "DEBUG:kipoi_enformer:Processing batch 38\n",
      "DEBUG:kipoi_enformer:Converting results to pyarrow\n",
      "DEBUG:kipoi_enformer:Constructing pyarrow record batch\n",
      "DEBUG:kipoi_enformer:Processing batch 39\n",
      "DEBUG:kipoi_enformer:Converting results to pyarrow\n",
      "DEBUG:kipoi_enformer:Constructing pyarrow record batch\n",
      "DEBUG:kipoi_enformer:Processing batch 40\n",
      "DEBUG:kipoi_enformer:Converting results to pyarrow\n",
      "DEBUG:kipoi_enformer:Constructing pyarrow record batch\n",
      "DEBUG:kipoi_enformer:Processing batch 41\n",
      "DEBUG:kipoi_enformer:Converting results to pyarrow\n",
      "DEBUG:kipoi_enformer:Constructing pyarrow record batch\n",
      "DEBUG:kipoi_enformer:Processing batch 42\n",
      "DEBUG:kipoi_enformer:Converting results to pyarrow\n",
      "DEBUG:kipoi_enformer:Constructing pyarrow record batch\n",
      "DEBUG:kipoi_enformer:Processing batch 43\n",
      "DEBUG:kipoi_enformer:Converting results to pyarrow\n",
      "DEBUG:kipoi_enformer:Constructing pyarrow record batch\n",
      "DEBUG:kipoi_enformer:Processing batch 44\n",
      "DEBUG:kipoi_enformer:Converting results to pyarrow\n",
      "DEBUG:kipoi_enformer:Constructing pyarrow record batch\n",
      "DEBUG:kipoi_enformer:Processing batch 45\n",
      "DEBUG:kipoi_enformer:Converting results to pyarrow\n",
      "DEBUG:kipoi_enformer:Constructing pyarrow record batch\n",
      "DEBUG:kipoi_enformer:Processing batch 46\n",
      "DEBUG:kipoi_enformer:Converting results to pyarrow\n",
      "DEBUG:kipoi_enformer:Constructing pyarrow record batch\n",
      "DEBUG:kipoi_enformer:Processing batch 47\n",
      "DEBUG:kipoi_enformer:Converting results to pyarrow\n",
      "DEBUG:kipoi_enformer:Constructing pyarrow record batch\n",
      "DEBUG:kipoi_enformer:Processing batch 48\n",
      "DEBUG:kipoi_enformer:Converting results to pyarrow\n",
      "DEBUG:kipoi_enformer:Constructing pyarrow record batch\n",
      "DEBUG:kipoi_enformer:Processing batch 49\n",
      "DEBUG:kipoi_enformer:Converting results to pyarrow\n",
      "DEBUG:kipoi_enformer:Constructing pyarrow record batch\n",
      "DEBUG:kipoi_enformer:Processing batch 50\n",
      "DEBUG:kipoi_enformer:Converting results to pyarrow\n",
      "DEBUG:kipoi_enformer:Constructing pyarrow record batch\n"
     ]
    }
   ],
   "source": [
    "batch_size = 2\n",
    "dl = get_dataloader(_size=size)\n",
    "\n",
    "enformer = Enformer()\n",
    "enformer.predict(dl, batch_size=batch_size, output_dir=output_dir)"
   ]
  },
  {
   "cell_type": "markdown",
   "id": "d8ba774a-1d4e-4c3a-b423-0de61c32a79b",
   "metadata": {},
   "source": [
    "## Read results file"
   ]
  },
  {
   "cell_type": "code",
   "execution_count": 10,
   "id": "d72f58b8-a388-4795-ba23-0d54b1a76675",
   "metadata": {},
   "outputs": [],
   "source": [
    "results_table = pq.read_table(output_dir, columns = ['enformer_start', 'enformer_end', 'landmark_pos', 'chr', 'strand',\n",
    "                                                    'gene_id', 'transcript_id', 'transcript_start', 'transcript_end',\n",
    "                                                    'variant_start', 'variant_end', 'ref', 'alt'])"
   ]
  },
  {
   "cell_type": "code",
   "execution_count": 11,
   "id": "a4b74478-7b67-4fa7-8cd9-99ef1d1e8a84",
   "metadata": {
    "tags": []
   },
   "outputs": [
    {
     "data": {
      "text/plain": [
       "(100, 13)"
      ]
     },
     "execution_count": 11,
     "metadata": {},
     "output_type": "execute_result"
    }
   ],
   "source": [
    "assert results_table.shape == (size, 13)\n",
    "results_table.shape"
   ]
  },
  {
   "cell_type": "code",
   "execution_count": 13,
   "id": "4d1ded27-e998-4b93-8795-fd78041b5b1a",
   "metadata": {
    "tags": []
   },
   "outputs": [
    {
     "data": {
      "text/plain": [
       "enformer_start: int64\n",
       "enformer_end: int64\n",
       "landmark_pos: int64\n",
       "chr: string\n",
       "strand: string\n",
       "gene_id: string\n",
       "transcript_id: string\n",
       "transcript_start: int64\n",
       "transcript_end: int64\n",
       "variant_start: int64\n",
       "variant_end: int64\n",
       "ref: string\n",
       "alt: string"
      ]
     },
     "execution_count": 13,
     "metadata": {},
     "output_type": "execute_result"
    }
   ],
   "source": [
    "results_table.schema"
   ]
  },
  {
   "cell_type": "code",
   "execution_count": 21,
   "id": "5ff70716-1bdd-48f9-87f6-006dbd380075",
   "metadata": {},
   "outputs": [
    {
     "data": {
      "text/plain": [
       "<pyarrow.StringScalar: 'ENST00000424770.1'>"
      ]
     },
     "execution_count": 21,
     "metadata": {},
     "output_type": "execute_result"
    }
   ],
   "source": [
    "results_table['transcript_id'][0]"
   ]
  },
  {
   "cell_type": "code",
   "execution_count": 23,
   "id": "12049f61-d3a4-4937-ac5d-7ece9227d4f6",
   "metadata": {
    "tags": []
   },
   "outputs": [],
   "source": [
    "filtered_tbl = pq.read_table(output_dir, filters=[(\"transcript_id\", \"=\", 'ENST00000424770.1')])"
   ]
  },
  {
   "cell_type": "code",
   "execution_count": 24,
   "id": "7e032fd0-7b35-48bf-ad1a-5a7aff12b47d",
   "metadata": {
    "tags": []
   },
   "outputs": [
    {
     "data": {
      "text/plain": [
       "(5, 19)"
      ]
     },
     "execution_count": 24,
     "metadata": {},
     "output_type": "execute_result"
    }
   ],
   "source": [
    "filtered_tbl.shape"
   ]
  },
  {
   "cell_type": "code",
   "execution_count": 26,
   "id": "2c4ce93c-74c5-4b67-ac5a-db7f1b269f0c",
   "metadata": {
    "tags": []
   },
   "outputs": [],
   "source": [
    "X = filtered_tbl['ref_0'].to_pylist()\n",
    "X = np.array(X)"
   ]
  },
  {
   "cell_type": "code",
   "execution_count": 28,
   "id": "299ca95b-7b79-4577-bf82-6381b11396c7",
   "metadata": {
    "tags": []
   },
   "outputs": [
    {
     "data": {
      "text/plain": [
       "(5, 896, 5313)"
      ]
     },
     "execution_count": 28,
     "metadata": {},
     "output_type": "execute_result"
    }
   ],
   "source": [
    "assert X.shape  == (len(X), 896, 5313)\n",
    "X.shape"
   ]
  }
 ],
 "metadata": {
  "kernelspec": {
   "display_name": "Python [conda env:anaconda-kipoi-enformer-george]",
   "language": "python",
   "name": "conda-env-anaconda-kipoi-enformer-george-py"
  },
  "language_info": {
   "codemirror_mode": {
    "name": "ipython",
    "version": 3
   },
   "file_extension": ".py",
   "mimetype": "text/x-python",
   "name": "python",
   "nbconvert_exporter": "python",
   "pygments_lexer": "ipython3",
   "version": "3.10.14"
  }
 },
 "nbformat": 4,
 "nbformat_minor": 5
}
