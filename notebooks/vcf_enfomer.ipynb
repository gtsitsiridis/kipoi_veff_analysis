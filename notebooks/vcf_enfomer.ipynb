{
 "cells": [
  {
   "cell_type": "markdown",
   "id": "a205db32-77c8-4a06-a877-2ec32ba8945d",
   "metadata": {},
   "source": [
    "# Run enformer on variants around the TSS "
   ]
  },
  {
   "cell_type": "markdown",
   "id": "890e00f9-9e6a-46a5-bb1f-22c1985ed997",
   "metadata": {
    "tags": []
   },
   "source": [
    "## Imports"
   ]
  },
  {
   "cell_type": "code",
   "execution_count": 1,
   "id": "251cefde-b7a2-4ea6-bb52-62d93f1212b0",
   "metadata": {},
   "outputs": [
    {
     "name": "stderr",
     "output_type": "stream",
     "text": [
      "2024-04-02 17:41:22.973279: E external/local_xla/xla/stream_executor/cuda/cuda_dnn.cc:9261] Unable to register cuDNN factory: Attempting to register factory for plugin cuDNN when one has already been registered\n",
      "2024-04-02 17:41:22.973337: E external/local_xla/xla/stream_executor/cuda/cuda_fft.cc:607] Unable to register cuFFT factory: Attempting to register factory for plugin cuFFT when one has already been registered\n",
      "2024-04-02 17:41:22.974295: E external/local_xla/xla/stream_executor/cuda/cuda_blas.cc:1515] Unable to register cuBLAS factory: Attempting to register factory for plugin cuBLAS when one has already been registered\n",
      "2024-04-02 17:41:22.980948: I tensorflow/core/platform/cpu_feature_guard.cc:182] This TensorFlow binary is optimized to use available CPU instructions in performance-critical operations.\n",
      "To enable the following instructions: SSE4.1 SSE4.2 AVX AVX2 FMA, in other operations, rebuild TensorFlow with the appropriate compiler flags.\n"
     ]
    }
   ],
   "source": [
    "%load_ext autoreload\n",
    "%autoreload 2\n",
    "from kipoi_enformer.veff.dataloader import VCF_Enformer_DL, get_tss_from_genome_annotation\n",
    "import tensorflow as tf\n",
    "from kipoi_enformer.veff.utils import Enformer\n",
    "from pathlib import Path\n",
    "from kipoi_enformer.logger import logger\n",
    "import logging\n",
    "import os\n",
    "import pyarrow.parquet as pq\n",
    "import numpy as np"
   ]
  },
  {
   "cell_type": "markdown",
   "id": "e462bdb0-ac92-4e92-8233-356f9a2fd771",
   "metadata": {},
   "source": [
    "## Config"
   ]
  },
  {
   "cell_type": "code",
   "execution_count": 2,
   "id": "6b10f5e2-8a27-4249-bf2c-b04e87f61f8d",
   "metadata": {
    "tags": []
   },
   "outputs": [],
   "source": [
    "# show logs in notebook\n",
    "logging.basicConfig()\n",
    "logger.setLevel(logging.DEBUG)"
   ]
  },
  {
   "cell_type": "code",
   "execution_count": 3,
   "id": "99337caf-10dd-41db-b5f1-ecc8548ce675",
   "metadata": {
    "tags": []
   },
   "outputs": [
    {
     "name": "stderr",
     "output_type": "stream",
     "text": [
      "2024-04-02 17:41:28.317164: I external/local_xla/xla/stream_executor/cuda/cuda_executor.cc:901] successful NUMA node read from SysFS had negative value (-1), but there must be at least one NUMA node, so returning NUMA node zero. See more at https://github.com/torvalds/linux/blob/v6.0/Documentation/ABI/testing/sysfs-bus-pci#L344-L355\n"
     ]
    },
    {
     "data": {
      "text/plain": [
       "[PhysicalDevice(name='/physical_device:GPU:0', device_type='GPU')]"
      ]
     },
     "execution_count": 3,
     "metadata": {},
     "output_type": "execute_result"
    },
    {
     "name": "stderr",
     "output_type": "stream",
     "text": [
      "2024-04-02 17:41:28.353150: I external/local_xla/xla/stream_executor/cuda/cuda_executor.cc:901] successful NUMA node read from SysFS had negative value (-1), but there must be at least one NUMA node, so returning NUMA node zero. See more at https://github.com/torvalds/linux/blob/v6.0/Documentation/ABI/testing/sysfs-bus-pci#L344-L355\n",
      "2024-04-02 17:41:28.353520: I external/local_xla/xla/stream_executor/cuda/cuda_executor.cc:901] successful NUMA node read from SysFS had negative value (-1), but there must be at least one NUMA node, so returning NUMA node zero. See more at https://github.com/torvalds/linux/blob/v6.0/Documentation/ABI/testing/sysfs-bus-pci#L344-L355\n"
     ]
    }
   ],
   "source": [
    "# Check if TensorFlow is able to see your GPU\n",
    "tf.config.list_physical_devices('GPU')"
   ]
  },
  {
   "cell_type": "code",
   "execution_count": 4,
   "id": "c97ee550-c0e8-4858-9144-4f774466da94",
   "metadata": {
    "tags": []
   },
   "outputs": [
    {
     "data": {
      "text/plain": [
       "'/data/nasif12/home_if12/tsi/projects/kipoi_enformer/notebooks'"
      ]
     },
     "execution_count": 4,
     "metadata": {},
     "output_type": "execute_result"
    }
   ],
   "source": [
    "os.getcwd()"
   ]
  },
  {
   "cell_type": "code",
   "execution_count": 5,
   "id": "601d2b4f-8553-4221-b99e-147ee195dbab",
   "metadata": {
    "tags": []
   },
   "outputs": [],
   "source": [
    "base = Path(\"../example_files/chr22\")\n",
    "files = {\n",
    "        'fasta': base / \"seq.chr22.fa\",\n",
    "        'gtf': base / \"annot.chr22.gtf\",\n",
    "        'vcf': base / \"promoter_variants.chr22.vcf\",\n",
    "        }"
   ]
  },
  {
   "cell_type": "markdown",
   "id": "e94268ce-84e0-4173-be3f-62217af5921b",
   "metadata": {},
   "source": [
    "## Run enformer and save results"
   ]
  },
  {
   "cell_type": "code",
   "execution_count": 6,
   "id": "926afa9b-d864-4bfa-8459-66f4e4801d04",
   "metadata": {
    "tags": []
   },
   "outputs": [
    {
     "name": "stderr",
     "output_type": "stream",
     "text": [
      "/opt/modules/i12g/anaconda/envs/kipoi-enformer-george/lib/python3.10/site-packages/pyranges/methods/init.py:45: FutureWarning: The default of observed=False is deprecated and will be changed to True in a future version of pandas. Pass observed=False to retain current behavior or observed=True to adopt the future default and silence this warning.\n",
      "  return {k: v for k, v in df.groupby(grpby_key)}\n",
      "2024-04-02 17:41:30.548672: I external/local_xla/xla/stream_executor/cuda/cuda_executor.cc:901] successful NUMA node read from SysFS had negative value (-1), but there must be at least one NUMA node, so returning NUMA node zero. See more at https://github.com/torvalds/linux/blob/v6.0/Documentation/ABI/testing/sysfs-bus-pci#L344-L355\n",
      "2024-04-02 17:41:30.549028: I external/local_xla/xla/stream_executor/cuda/cuda_executor.cc:901] successful NUMA node read from SysFS had negative value (-1), but there must be at least one NUMA node, so returning NUMA node zero. See more at https://github.com/torvalds/linux/blob/v6.0/Documentation/ABI/testing/sysfs-bus-pci#L344-L355\n",
      "2024-04-02 17:41:30.549281: I external/local_xla/xla/stream_executor/cuda/cuda_executor.cc:901] successful NUMA node read from SysFS had negative value (-1), but there must be at least one NUMA node, so returning NUMA node zero. See more at https://github.com/torvalds/linux/blob/v6.0/Documentation/ABI/testing/sysfs-bus-pci#L344-L355\n",
      "2024-04-02 17:41:30.640659: I external/local_xla/xla/stream_executor/cuda/cuda_executor.cc:901] successful NUMA node read from SysFS had negative value (-1), but there must be at least one NUMA node, so returning NUMA node zero. See more at https://github.com/torvalds/linux/blob/v6.0/Documentation/ABI/testing/sysfs-bus-pci#L344-L355\n",
      "2024-04-02 17:41:30.640987: I external/local_xla/xla/stream_executor/cuda/cuda_executor.cc:901] successful NUMA node read from SysFS had negative value (-1), but there must be at least one NUMA node, so returning NUMA node zero. See more at https://github.com/torvalds/linux/blob/v6.0/Documentation/ABI/testing/sysfs-bus-pci#L344-L355\n",
      "2024-04-02 17:41:30.641251: I external/local_xla/xla/stream_executor/cuda/cuda_executor.cc:901] successful NUMA node read from SysFS had negative value (-1), but there must be at least one NUMA node, so returning NUMA node zero. See more at https://github.com/torvalds/linux/blob/v6.0/Documentation/ABI/testing/sysfs-bus-pci#L344-L355\n",
      "2024-04-02 17:41:30.641459: I tensorflow/core/common_runtime/gpu/gpu_device.cc:1929] Created device /job:localhost/replica:0/task:0/device:GPU:0 with 46867 MB memory:  -> device: 0, name: NVIDIA RTX A6000, pci bus id: 0000:44:00.0, compute capability: 8.6\n",
      "DEBUG:kipoi_enformer:Predicting on dataloader\n",
      "[W::vcf_parse] Contig 'chr22' is not defined in the header. (Quick workaround: index the file with tabix.)\n",
      "/opt/modules/i12g/anaconda/envs/kipoi-enformer-george/lib/python3.10/site-packages/pyranges/methods/init.py:45: FutureWarning: The default of observed=False is deprecated and will be changed to True in a future version of pandas. Pass observed=False to retain current behavior or observed=True to adopt the future default and silence this warning.\n",
      "  return {k: v for k, v in df.groupby(grpby_key)}\n",
      "DEBUG:kipoi_enformer:Processing batch 1\n",
      "2024-04-02 17:41:37.011443: I external/local_xla/xla/stream_executor/cuda/cuda_dnn.cc:454] Loaded cuDNN version 8907\n",
      "DEBUG:kipoi_enformer:Processing batch 2\n",
      "DEBUG:kipoi_enformer:Processing batch 3\n",
      "DEBUG:kipoi_enformer:Processing batch 4\n",
      "DEBUG:kipoi_enformer:Processing batch 5\n",
      "DEBUG:kipoi_enformer:Processing batch 6\n",
      "DEBUG:kipoi_enformer:Processing batch 7\n",
      "DEBUG:kipoi_enformer:Processing batch 8\n",
      "DEBUG:kipoi_enformer:Processing batch 9\n",
      "DEBUG:kipoi_enformer:Processing batch 10\n"
     ]
    }
   ],
   "source": [
    "batch_size = 6\n",
    "size = 10\n",
    "\n",
    "dl = VCF_Enformer_DL(\n",
    "    fasta_file=files['fasta'],\n",
    "    gtf_file=files['gtf'],\n",
    "    vcf_file=files['vcf'],\n",
    "    is_onehot=True,\n",
    "    downstream_tss=500,\n",
    "    upstream_tss=500,\n",
    "    shift=43,\n",
    "    seq_length=393_216,\n",
    "    size=size\n",
    ")\n",
    "\n",
    "enformer = Enformer()\n",
    "results = enformer.predict(dl, batch_size=batch_size)\n",
    "assert len(results) == size"
   ]
  },
  {
   "cell_type": "code",
   "execution_count": 7,
   "id": "f6803885-7021-4344-b52f-aeb89b9c6d42",
   "metadata": {},
   "outputs": [
    {
     "name": "stderr",
     "output_type": "stream",
     "text": [
      "DEBUG:kipoi_enformer:Converting results to pyarrow table\n",
      "DEBUG:kipoi_enformer:Constructing pyarrow table\n",
      "DEBUG:kipoi_enformer:Writing pyarrow table to ../output/enformer_test.parquet\n"
     ]
    }
   ],
   "source": [
    "output_dir = Path('../output')\n",
    "output_dir.mkdir(exist_ok=True, parents=True)\n",
    "Enformer.to_parquet(results, output_dir / 'enformer_test.parquet')"
   ]
  },
  {
   "cell_type": "markdown",
   "id": "d8ba774a-1d4e-4c3a-b423-0de61c32a79b",
   "metadata": {},
   "source": [
    "## Read results file"
   ]
  },
  {
   "cell_type": "code",
   "execution_count": 8,
   "id": "d72f58b8-a388-4795-ba23-0d54b1a76675",
   "metadata": {},
   "outputs": [],
   "source": [
    "results_table = pq.read_table(output_dir / 'enformer_test.parquet')"
   ]
  },
  {
   "cell_type": "code",
   "execution_count": 9,
   "id": "a4b74478-7b67-4fa7-8cd9-99ef1d1e8a84",
   "metadata": {
    "tags": []
   },
   "outputs": [
    {
     "data": {
      "text/plain": [
       "(10, 19)"
      ]
     },
     "execution_count": 9,
     "metadata": {},
     "output_type": "execute_result"
    }
   ],
   "source": [
    "assert results_table.shape == (size, 6 + 13)\n",
    "results_table.shape"
   ]
  },
  {
   "cell_type": "code",
   "execution_count": 10,
   "id": "4d1ded27-e998-4b93-8795-fd78041b5b1a",
   "metadata": {
    "tags": []
   },
   "outputs": [
    {
     "data": {
      "text/plain": [
       "['ref_-43',\n",
       " 'alt_-43',\n",
       " 'ref_0',\n",
       " 'alt_0',\n",
       " 'ref_43',\n",
       " 'alt_43',\n",
       " 'enformer_start',\n",
       " 'enformer_stop',\n",
       " 'landmark_pos',\n",
       " 'chr',\n",
       " 'strand',\n",
       " 'gene_id',\n",
       " 'transcript_id',\n",
       " 'transcript_start',\n",
       " 'transcript_end',\n",
       " 'variant_start',\n",
       " 'variant_stop',\n",
       " 'ref',\n",
       " 'alt']"
      ]
     },
     "execution_count": 10,
     "metadata": {},
     "output_type": "execute_result"
    }
   ],
   "source": [
    "results_table.column_names"
   ]
  },
  {
   "cell_type": "code",
   "execution_count": 11,
   "id": "738589e0-4435-442c-b890-c694bfd6264d",
   "metadata": {
    "tags": []
   },
   "outputs": [],
   "source": [
    "X = results_table['ref_0'].to_pylist()\n",
    "X = np.array(X)"
   ]
  },
  {
   "cell_type": "code",
   "execution_count": 12,
   "id": "4e7f5181-bc28-45a4-874c-2fa4ab403b6f",
   "metadata": {
    "tags": []
   },
   "outputs": [
    {
     "data": {
      "text/plain": [
       "(10, 896, 5313)"
      ]
     },
     "execution_count": 12,
     "metadata": {},
     "output_type": "execute_result"
    }
   ],
   "source": [
    "assert X.shape  == (size, 896, 5313)\n",
    "X.shape"
   ]
  },
  {
   "cell_type": "code",
   "execution_count": null,
   "id": "5ff70716-1bdd-48f9-87f6-006dbd380075",
   "metadata": {},
   "outputs": [],
   "source": []
  }
 ],
 "metadata": {
  "kernelspec": {
   "display_name": "Python [conda env:anaconda-kipoi-enformer-george]",
   "language": "python",
   "name": "conda-env-anaconda-kipoi-enformer-george-py"
  },
  "language_info": {
   "codemirror_mode": {
    "name": "ipython",
    "version": 3
   },
   "file_extension": ".py",
   "mimetype": "text/x-python",
   "name": "python",
   "nbconvert_exporter": "python",
   "pygments_lexer": "ipython3",
   "version": "3.10.14"
  }
 },
 "nbformat": 4,
 "nbformat_minor": 5
}
