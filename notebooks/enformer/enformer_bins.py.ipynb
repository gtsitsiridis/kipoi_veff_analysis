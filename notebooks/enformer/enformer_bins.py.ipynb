{
 "cells": [
  {
   "cell_type": "markdown",
   "id": "2343df18-f394-4cdc-afcd-f3bdc9c9f4ed",
   "metadata": {},
   "source": [
    "# Enformer-GTEx results"
   ]
  },
  {
   "cell_type": "markdown",
   "id": "f7859e43-37fa-4002-a3f5-de7b0a6dd8c2",
   "metadata": {},
   "source": [
    "Explore Enformer predictions on GTEx variants"
   ]
  },
  {
   "cell_type": "markdown",
   "id": "815614a0-81f3-4da0-bade-2b288e5312ca",
   "metadata": {},
   "source": [
    "## Setup"
   ]
  },
  {
   "cell_type": "code",
   "execution_count": 1,
   "id": "2122e34b-e806-41a5-af16-b7eea0f53861",
   "metadata": {
    "tags": []
   },
   "outputs": [
    {
     "name": "stderr",
     "output_type": "stream",
     "text": [
      "2024-09-04 13:14:35.950921: I tensorflow/core/platform/cpu_feature_guard.cc:210] This TensorFlow binary is optimized to use available CPU instructions in performance-critical operations.\n",
      "To enable the following instructions: SSE4.1 SSE4.2 AVX AVX2 FMA, in other operations, rebuild TensorFlow with the appropriate compiler flags.\n"
     ]
    }
   ],
   "source": [
    "import polars as pl\n",
    "import matplotlib.pyplot as plt\n",
    "from pathlib import Path\n",
    "import pandas as pd\n",
    "import seaborn as sns\n",
    "from kipoi_enformer.utils import get_tss_from_genome_annotation\n",
    "import numpy as np\n",
    "import statsmodels.api as sm\n",
    "import plotnine as pn\n",
    "from scipy.stats import ranksums\n",
    "import lightgbm as lgb\n",
    "from datetime import datetime\n",
    "\n",
    "%load_ext autoreload\n",
    "%autoreload 2"
   ]
  },
  {
   "cell_type": "code",
   "execution_count": 2,
   "id": "a2ba1d92-0736-4a89-949d-5f877a9f90a6",
   "metadata": {
    "tags": []
   },
   "outputs": [],
   "source": [
    "plt.rcParams['figure.dpi'] = 150"
   ]
  },
  {
   "cell_type": "code",
   "execution_count": 3,
   "id": "54a9bea2-0acc-47eb-bf27-85909ad8a34d",
   "metadata": {
    "tags": []
   },
   "outputs": [
    {
     "data": {
      "text/plain": [
       "polars.config.Config"
      ]
     },
     "execution_count": 3,
     "metadata": {},
     "output_type": "execute_result"
    }
   ],
   "source": [
    "pl.Config.set_fmt_str_lengths(100)"
   ]
  },
  {
   "cell_type": "code",
   "execution_count": 4,
   "id": "ad26162c-e67a-4def-8b5a-d3422e35e628",
   "metadata": {
    "tags": []
   },
   "outputs": [],
   "source": [
    "pn.theme_set(pn.theme_bw())\n",
    "pn.theme_update(dpi=150)"
   ]
  },
  {
   "cell_type": "code",
   "execution_count": 5,
   "id": "269121c2-f008-4b85-8d3c-37f9e293d5c9",
   "metadata": {
    "tags": []
   },
   "outputs": [],
   "source": [
    "# Files relevant to the GTEx analysis\n",
    "enformer_run_name = 'enformer_gtexv8_elasticnet_cage_canonical_2000_500'\n",
    "# enformer variant effect on GTEx variants\n",
    "enformer_path = f'/s/project/promoter_prediction/kipoi_expression_prediction/veff.parquet/run={enformer_run_name}'\n",
    "# GTEx variants\n",
    "variant_path = '/s/project/rep/processed/training_results_v15/gtex_v8_old_dna/private_variants.parquet/rare_variants.vcf.parquet/**/*.parquet'\n",
    "# abexp benchmark dataset\n",
    "gtex_benchmark_with_annotation_path = \"/s/project/rep/processed/training_results_v15/gtex_benchmark_with_annotation.parquet/*.parquet\"\n",
    "\n",
    "# Output path\n",
    "output_path = Path(f'/data/nasif12/home_if12/tsi/output/enformer/{enformer_run_name}/')\n",
    "output_path.mkdir(exist_ok=True, parents=True)"
   ]
  },
  {
   "cell_type": "markdown",
   "id": "79df0229-d2b9-43ca-bf70-deb6ab688864",
   "metadata": {
    "tags": []
   },
   "source": [
    "## Analysis"
   ]
  },
  {
   "cell_type": "markdown",
   "id": "082cde02-be21-4207-9455-7e4a32358457",
   "metadata": {},
   "source": [
    "We are only loading ensembl canonical transcripts for this analysis. So there is 1 transcript per gene!"
   ]
  },
  {
   "cell_type": "code",
   "execution_count": 6,
   "id": "71e4e1c1-2d43-4aea-9c4e-025df9dbe794",
   "metadata": {
    "tags": []
   },
   "outputs": [],
   "source": [
    "veff_transcript_ldf = (pl.scan_parquet(Path(enformer_path) / '*.parquet').\n",
    "                       select(pl.col(['tissue', 'gene_id', 'transcript_id', 'transcript_start', 'transcript_end']), \n",
    "                              pl.col('strand').cast(pl.Enum(['-', '+'])),\n",
    "                              pl.col(['chrom', 'variant_start', 'variant_end', 'ref', 'alt', 'veff_score', 'ref_score', 'alt_score'])).\n",
    "                       rename({'gene_id': 'gene', 'transcript_id': 'transcript'}).\n",
    "                       with_columns(pl.col('gene').str.replace(r'([^\\.]+)\\..+$', \"${1}\").alias('gene'),\n",
    "                                    pl.col('transcript').str.replace(r'([^\\.]+)\\..+$', \"${1}\").alias('transcript')))\n",
    "\n",
    "\n",
    "# It is possible that a gene comes multiple times (different versions)"
   ]
  },
  {
   "cell_type": "code",
   "execution_count": 7,
   "id": "cde38f58-ff43-495b-9994-ea34026c3cfd",
   "metadata": {
    "tags": []
   },
   "outputs": [],
   "source": [
    "variant_ldf = pl.scan_parquet(variant_path).select(['sampleId', 'chrom', 'start', 'end', 'ref', 'alt']).rename({'sampleId': 'individual',\n",
    "                                                                                                                'start': 'variant_start',\n",
    "                                                                                                                'end': 'variant_end'})"
   ]
  },
  {
   "cell_type": "code",
   "execution_count": 8,
   "id": "8d49e109-c20a-4fb2-805a-93ef6de6be94",
   "metadata": {
    "tags": []
   },
   "outputs": [],
   "source": [
    "training_benchmark_ldf = (pl.scan_parquet(gtex_benchmark_with_annotation_path)\n",
    "                          .select(['gene', 'individual', 'tissue', 'FDR', \n",
    "                                   'mu', 'zscore', 'l2fc', 'is_obvious_outlier'])\n",
    "                          .unique()\n",
    "                          .rename({'l2fc': 'l2fc_outrider'})\n",
    "                          .with_columns((pl.when(pl.col('FDR') > 0.2)\n",
    "                                         .then(pl.lit('normal'))\n",
    "                                         .otherwise(\n",
    "                                             pl.when(pl.col('zscore') > 0)\n",
    "                                             .then(pl.lit('overexpressed'))\n",
    "                                             .otherwise(\n",
    "                                                 pl.when(pl.col('zscore') < 0)\n",
    "                                                 .then(pl.lit('underexpressed'))\n",
    "                                                 # this should never be the case\n",
    "                                                 .otherwise(pl.lit('CHECK'))\n",
    "                                             ))).cast(pl.Enum(['underexpressed', 'normal', 'overexpressed'])).alias('outlier_state')))"
   ]
  },
  {
   "cell_type": "markdown",
   "id": "08f9f2c0-8aa2-4092-82e7-02a75f84b9b6",
   "metadata": {
    "tags": []
   },
   "source": [
    "### What is the enformer variant-effect-score distribution around the TSS?"
   ]
  },
  {
   "cell_type": "code",
   "execution_count": 9,
   "id": "88bbacbe-6f16-4faf-a11e-7e641392dda4",
   "metadata": {
    "tags": []
   },
   "outputs": [],
   "source": [
    "upstream=2000\n",
    "downstream=500\n",
    "\n",
    "# join variants with enformer_veff on veff\n",
    "veff_variant_ldf = variant_ldf.join(veff_transcript_ldf, how='inner', on=['chrom', 'variant_start', 'variant_end', 'ref', 'alt'])\n",
    "# calculate variant position relative to the tss: rel_var_pos\n",
    "veff_variant_ldf = veff_variant_ldf.with_columns((pl.when(pl.col('strand') == '+')\n",
    "                                 .then(pl.col('variant_start') - pl.col('transcript_start'))\n",
    "                                 .otherwise(pl.col('transcript_end') - pl.col('variant_start'))\n",
    "                            ).alias('rel_var_pos'))\n",
    "# filter out variants far from the TSS (-2000, 500)\n",
    "veff_variant_ldf = veff_variant_ldf.filter((pl.col('rel_var_pos') >= -upstream) & (pl.col('rel_var_pos') < downstream))\n",
    "# rename scores to canonical_scores\n",
    "veff_variant_ldf = (veff_variant_ldf.\n",
    "                              select(['individual', 'chrom', 'variant_start', 'variant_end', 'ref', 'alt', 'tissue', 'gene', 'transcript', 'strand', 'veff_score', 'ref_score', 'alt_score', 'rel_var_pos']))\n",
    "\n",
    "# join outrider with variants on individual\n",
    "veff_outrider_ldf = (veff_variant_ldf.join(training_benchmark_ldf, how='inner', on=['individual', 'gene', 'tissue']).\n",
    "                               select(['gene', 'tissue', 'individual', 'rel_var_pos', 'outlier_state', 'zscore', 'FDR', 'veff_score',\n",
    "                                       'l2fc_outrider', 'mu', 'is_obvious_outlier']))"
   ]
  },
  {
   "cell_type": "code",
   "execution_count": 10,
   "id": "00837749-30dd-475c-a0bc-cbb2b16b9132",
   "metadata": {
    "scrolled": true,
    "tags": []
   },
   "outputs": [],
   "source": [
    "# pl.Config.set_streaming_chunk_size(100)\n",
    "# print(veff_outrider_ldf.explain(streaming=True))"
   ]
  },
  {
   "cell_type": "code",
   "execution_count": 10,
   "id": "c45f7015-2f38-4121-8516-cc6a24c64624",
   "metadata": {
    "tags": []
   },
   "outputs": [],
   "source": [
    "veff_outrider_df = veff_outrider_ldf.collect(streaming=True)"
   ]
  },
  {
   "cell_type": "code",
   "execution_count": 12,
   "id": "5aa91767-2825-4f69-b18b-3892274f993e",
   "metadata": {},
   "outputs": [],
   "source": [
    "# rel_var_pos in bins\n",
    "bin_size=50\n",
    "cuts = list(range(-upstream + bin_size, downstream, bin_size))\n",
    "cut_labels = [str(x) for x in [-upstream, *cuts]]\n",
    "# cut_labels = [f'[-{upstream}, -{upstream - bin_size})'] + [f'[{cuts[i]}, {cuts[i+1]})' for i in range(len(cuts) - 1)] + [f'[{downstream - bin_size}, {downstream})']\n",
    "veff_outrider_df = (veff_outrider_df.with_columns(\n",
    "    (pl.col('rel_var_pos').cut(cuts, labels=cut_labels)).alias('rel_var_pos_bin').cast(pl.Enum(cut_labels))\n",
    ").with_columns((pl.col('outlier_state') == 'underexpressed').alias('is_underexpressed')))\n",
    "\n",
    "veff_outrider_df = veff_outrider_df.with_columns(rel_var_pos_bin_label = pl.col(\"rel_var_pos_bin\").cast(pl.String), bin_size=pl.lit(50))\n",
    "for c in cut_labels:\n",
    "    veff_outrider_df = veff_outrider_df.with_columns(rel_var_pos_bin_label = pl.col(\"rel_var_pos_bin_label\")\n",
    "                                                     .replace(str(c), f'[{c}, {int(c) + bin_size})'))"
   ]
  },
  {
   "cell_type": "code",
   "execution_count": 13,
   "id": "5f8b45c5-c91e-4153-b161-a178ca8be46f",
   "metadata": {},
   "outputs": [],
   "source": [
    "# set new bins\n",
    "# new_bins = [(-2000, -500),\n",
    "#             *[(i, i + 100) for i in range(-500, -100, 100)],\n",
    "#             (-100, -50),\n",
    "#             (-50, 0),\n",
    "#             (0, 50),\n",
    "#             (50, 100),\n",
    "#             *[(i, i + 100) for i in range(100, 500, 100)],]\n",
    "new_bins = [(-2000, -1500),\n",
    "            (-1500, -1000),\n",
    "            (-1000, -500),\n",
    "            *[(i, i + 100) for i in range(-500, -100, 100)],\n",
    "            (-100, -50),\n",
    "            (-50, 0),\n",
    "            (0, 50),\n",
    "            (50, 100),\n",
    "            *[(i, i + 100) for i in range(100, 500, 100)],]\n",
    "new_bin_labels  = [f'[{start}, {stop})' for start, stop in new_bins]\n",
    "\n",
    "for start, stop in new_bins:\n",
    "    veff_outrider_df = veff_outrider_df.with_columns(\n",
    "        rel_var_pos_bin_label = pl.when((pl.col('rel_var_pos_bin').cast(pl.Int16) >= start) & (pl.col('rel_var_pos_bin').cast(pl.Int16) < stop))\n",
    "                                  .then(pl.lit(f'[{start}, {stop})'))\n",
    "                                  .otherwise(pl.col('rel_var_pos_bin_label')),\n",
    "        bin_size = pl.when((pl.col('rel_var_pos_bin').cast(pl.Int16) >= start) & (pl.col('rel_var_pos_bin').cast(pl.Int16) < stop))\n",
    "                                  .then(pl.lit(stop - start))\n",
    "                                  .otherwise(pl.col('bin_size')))\n",
    "veff_outrider_df = veff_outrider_df.with_columns(rel_var_pos_bin_label=pl.col('rel_var_pos_bin_label').cast(pl.Enum(new_bin_labels)))"
   ]
  },
  {
   "cell_type": "code",
   "execution_count": 14,
   "id": "1c62b971-b44c-480e-86b8-419877835703",
   "metadata": {},
   "outputs": [],
   "source": [
    "# calculate counts per bins\n",
    "bin_count_df = veff_outrider_df.group_by(['outlier_state', 'rel_var_pos_bin_label', 'bin_size']). \\\n",
    "    agg((pl.len()).alias('count'))\n",
    "\n",
    "# # calculate mean of each bin and then sum the means in each outlier state\n",
    "totals_df = bin_count_df.group_by('outlier_state').agg(pl.sum('count').alias('total_count'))\n",
    "# # normalize each count by the mean calculated above\n",
    "enrichment_df = bin_count_df.join(totals_df, on='outlier_state').with_columns((pl.col('count') / pl.col('total_count')).alias('enrichment'))\n",
    "ci_low, ci_high = sm.stats.proportion_confint(enrichment_df[\"count\"], enrichment_df[\"total_count\"])\n",
    "enrichment_df = enrichment_df.with_columns(pl.Series(ci_low).alias('ci_low'), pl.Series(ci_high).alias('ci_high'))\n",
    "# normalize by bin size\n",
    "enrichment_df = enrichment_df.with_columns(enrichment = pl.col('enrichment') / pl.col('bin_size'),\n",
    "                                           ci_low = pl.col('ci_low') / pl.col('bin_size'),\n",
    "                                           ci_high = pl.col('ci_high') / pl.col('bin_size'))"
   ]
  },
  {
   "cell_type": "code",
   "execution_count": 15,
   "id": "37f2ff67-8ade-40a2-a5d6-8ffce99ac257",
   "metadata": {},
   "outputs": [],
   "source": [
    "score_column = 'veff_score'"
   ]
  },
  {
   "cell_type": "code",
   "execution_count": 17,
   "id": "d0aac604-4405-4d6e-b671-4fffb494388f",
   "metadata": {},
   "outputs": [
    {
     "data": {
      "text/plain": [
       "0.04207185646598733"
      ]
     },
     "execution_count": 17,
     "metadata": {},
     "output_type": "execute_result"
    }
   ],
   "source": [
    "115691 / 2749843"
   ]
  },
  {
   "cell_type": "code",
   "execution_count": 16,
   "id": "d8bf6454-ea32-4652-b389-53d113a750b1",
   "metadata": {},
   "outputs": [
    {
     "data": {
      "text/html": [
       "<div><style>\n",
       ".dataframe > thead > tr,\n",
       ".dataframe > tbody > tr {\n",
       "  text-align: right;\n",
       "  white-space: pre-wrap;\n",
       "}\n",
       "</style>\n",
       "<small>shape: (45, 8)</small><table border=\"1\" class=\"dataframe\"><thead><tr><th>outlier_state</th><th>rel_var_pos_bin_label</th><th>bin_size</th><th>count</th><th>total_count</th><th>enrichment</th><th>ci_low</th><th>ci_high</th></tr><tr><td>enum</td><td>enum</td><td>i32</td><td>u32</td><td>u32</td><td>f64</td><td>f64</td><td>f64</td></tr></thead><tbody><tr><td>&quot;normal&quot;</td><td>&quot;[-400, -300)&quot;</td><td>100</td><td>115691</td><td>2749843</td><td>0.000421</td><td>0.000418</td><td>0.000423</td></tr><tr><td>&quot;underexpressed&quot;</td><td>&quot;[400, 500)&quot;</td><td>100</td><td>38</td><td>2051</td><td>0.000185</td><td>0.000127</td><td>0.000244</td></tr><tr><td>&quot;normal&quot;</td><td>&quot;[300, 400)&quot;</td><td>100</td><td>112672</td><td>2749843</td><td>0.00041</td><td>0.000407</td><td>0.000412</td></tr><tr><td>&quot;normal&quot;</td><td>&quot;[400, 500)&quot;</td><td>100</td><td>114017</td><td>2749843</td><td>0.000415</td><td>0.000412</td><td>0.000417</td></tr><tr><td>&quot;normal&quot;</td><td>&quot;[-1000, -500)&quot;</td><td>500</td><td>508802</td><td>2749843</td><td>0.00037</td><td>0.000369</td><td>0.000371</td></tr><tr><td>&hellip;</td><td>&hellip;</td><td>&hellip;</td><td>&hellip;</td><td>&hellip;</td><td>&hellip;</td><td>&hellip;</td><td>&hellip;</td></tr><tr><td>&quot;overexpressed&quot;</td><td>&quot;[100, 200)&quot;</td><td>100</td><td>95</td><td>1177</td><td>0.000807</td><td>0.000652</td><td>0.000963</td></tr><tr><td>&quot;normal&quot;</td><td>&quot;[100, 200)&quot;</td><td>100</td><td>109829</td><td>2749843</td><td>0.000399</td><td>0.000397</td><td>0.000402</td></tr><tr><td>&quot;overexpressed&quot;</td><td>&quot;[0, 50)&quot;</td><td>50</td><td>104</td><td>1177</td><td>0.001767</td><td>0.001443</td><td>0.002091</td></tr><tr><td>&quot;overexpressed&quot;</td><td>&quot;[50, 100)&quot;</td><td>50</td><td>67</td><td>1177</td><td>0.001138</td><td>0.000874</td><td>0.001403</td></tr><tr><td>&quot;normal&quot;</td><td>&quot;[-2000, -1500)&quot;</td><td>500</td><td>482832</td><td>2749843</td><td>0.000351</td><td>0.00035</td><td>0.000352</td></tr></tbody></table></div>"
      ],
      "text/plain": [
       "shape: (45, 8)\n",
       "┌──────────────┬──────────────┬──────────┬────────┬─────────────┬────────────┬──────────┬──────────┐\n",
       "│ outlier_stat ┆ rel_var_pos_ ┆ bin_size ┆ count  ┆ total_count ┆ enrichment ┆ ci_low   ┆ ci_high  │\n",
       "│ e            ┆ bin_label    ┆ ---      ┆ ---    ┆ ---         ┆ ---        ┆ ---      ┆ ---      │\n",
       "│ ---          ┆ ---          ┆ i32      ┆ u32    ┆ u32         ┆ f64        ┆ f64      ┆ f64      │\n",
       "│ enum         ┆ enum         ┆          ┆        ┆             ┆            ┆          ┆          │\n",
       "╞══════════════╪══════════════╪══════════╪════════╪═════════════╪════════════╪══════════╪══════════╡\n",
       "│ normal       ┆ [-400, -300) ┆ 100      ┆ 115691 ┆ 2749843     ┆ 0.000421   ┆ 0.000418 ┆ 0.000423 │\n",
       "│ underexpress ┆ [400, 500)   ┆ 100      ┆ 38     ┆ 2051        ┆ 0.000185   ┆ 0.000127 ┆ 0.000244 │\n",
       "│ ed           ┆              ┆          ┆        ┆             ┆            ┆          ┆          │\n",
       "│ normal       ┆ [300, 400)   ┆ 100      ┆ 112672 ┆ 2749843     ┆ 0.00041    ┆ 0.000407 ┆ 0.000412 │\n",
       "│ normal       ┆ [400, 500)   ┆ 100      ┆ 114017 ┆ 2749843     ┆ 0.000415   ┆ 0.000412 ┆ 0.000417 │\n",
       "│ normal       ┆ [-1000,      ┆ 500      ┆ 508802 ┆ 2749843     ┆ 0.00037    ┆ 0.000369 ┆ 0.000371 │\n",
       "│              ┆ -500)        ┆          ┆        ┆             ┆            ┆          ┆          │\n",
       "│ …            ┆ …            ┆ …        ┆ …      ┆ …           ┆ …          ┆ …        ┆ …        │\n",
       "│ overexpresse ┆ [100, 200)   ┆ 100      ┆ 95     ┆ 1177        ┆ 0.000807   ┆ 0.000652 ┆ 0.000963 │\n",
       "│ d            ┆              ┆          ┆        ┆             ┆            ┆          ┆          │\n",
       "│ normal       ┆ [100, 200)   ┆ 100      ┆ 109829 ┆ 2749843     ┆ 0.000399   ┆ 0.000397 ┆ 0.000402 │\n",
       "│ overexpresse ┆ [0, 50)      ┆ 50       ┆ 104    ┆ 1177        ┆ 0.001767   ┆ 0.001443 ┆ 0.002091 │\n",
       "│ d            ┆              ┆          ┆        ┆             ┆            ┆          ┆          │\n",
       "│ overexpresse ┆ [50, 100)    ┆ 50       ┆ 67     ┆ 1177        ┆ 0.001138   ┆ 0.000874 ┆ 0.001403 │\n",
       "│ d            ┆              ┆          ┆        ┆             ┆            ┆          ┆          │\n",
       "│ normal       ┆ [-2000,      ┆ 500      ┆ 482832 ┆ 2749843     ┆ 0.000351   ┆ 0.00035  ┆ 0.000352 │\n",
       "│              ┆ -1500)       ┆          ┆        ┆             ┆            ┆          ┆          │\n",
       "└──────────────┴──────────────┴──────────┴────────┴─────────────┴────────────┴──────────┴──────────┘"
      ]
     },
     "execution_count": 16,
     "metadata": {},
     "output_type": "execute_result"
    }
   ],
   "source": [
    "enrichment_df"
   ]
  },
  {
   "cell_type": "code",
   "execution_count": 18,
   "id": "3825f050-83be-4290-a921-f99dc70e8120",
   "metadata": {},
   "outputs": [
    {
     "data": {
      "text/html": [
       "<div><style>\n",
       ".dataframe > thead > tr,\n",
       ".dataframe > tbody > tr {\n",
       "  text-align: right;\n",
       "  white-space: pre-wrap;\n",
       "}\n",
       "</style>\n",
       "<small>shape: (3, 2)</small><table border=\"1\" class=\"dataframe\"><thead><tr><th>outlier_state</th><th>total_count</th></tr><tr><td>enum</td><td>u32</td></tr></thead><tbody><tr><td>&quot;underexpressed&quot;</td><td>2051</td></tr><tr><td>&quot;overexpressed&quot;</td><td>1177</td></tr><tr><td>&quot;normal&quot;</td><td>2749843</td></tr></tbody></table></div>"
      ],
      "text/plain": [
       "shape: (3, 2)\n",
       "┌────────────────┬─────────────┐\n",
       "│ outlier_state  ┆ total_count │\n",
       "│ ---            ┆ ---         │\n",
       "│ enum           ┆ u32         │\n",
       "╞════════════════╪═════════════╡\n",
       "│ underexpressed ┆ 2051        │\n",
       "│ overexpressed  ┆ 1177        │\n",
       "│ normal         ┆ 2749843     │\n",
       "└────────────────┴─────────────┘"
      ]
     },
     "execution_count": 18,
     "metadata": {},
     "output_type": "execute_result"
    }
   ],
   "source": [
    "totals_df"
   ]
  },
  {
   "cell_type": "code",
   "execution_count": 37,
   "id": "45efc31a-e3a9-4c3e-919e-baa1d774fbf8",
   "metadata": {},
   "outputs": [],
   "source": [
    "# cnt = veff_outrider_df.group_by(['outlier_state']).len().with_columns(\n",
    "#         (pl.col(\"len\").map_elements(lambda x: format(x, ','), str))\n",
    "#     )\n",
    "# p1 = (\n",
    "#         pn.ggplot(veff_outrider_df, pn.aes(x=\"outlier_state\", fill=\"outlier_state\"))\n",
    "#         + pn.geom_boxplot(pn.aes(y=score_column))\n",
    "#         + pn.theme(\n",
    "#             figure_size=(8, 6),\n",
    "#             axis_text_x=pn.element_text(angle=90),\n",
    "#             dpi=150\n",
    "#         )\n",
    "#         + pn.labs(\n",
    "#             x=\"Outlier state\", \n",
    "#             y=\"Enformer log2FC\",\n",
    "#             color=\"\",\n",
    "#             fill=\"\",\n",
    "#             title=f\"Enformer variant-effect of rare promoter variants in GTEx v7 (-{upstream}, +{downstream})\",\n",
    "#         )\n",
    "#         + pn.guides(size='none', fill = pn.guide_legend(reverse = True))\n",
    "#         + pn.geom_label(cnt, pn.aes(label='len', y=1, size=8), show_legend=False)\n",
    "#         + pn.coord_flip(ylim=[-1, 1])\n",
    "#     )\n",
    "# p1"
   ]
  },
  {
   "cell_type": "code",
   "execution_count": 38,
   "id": "78869d59-4fdc-40b8-b6e4-be2b55de14f9",
   "metadata": {
    "tags": []
   },
   "outputs": [],
   "source": [
    "# p2 = boxplot_per_bin(veff_bin_df, score_column=score_column)\n",
    "# cnt = tmp.group_by(['rel_var_pos_bin_label', 'outlier_state']).len().with_columns(\n",
    "#         (pl.when(pl.col('outlier_state') == 'underexpressed').then(1).otherwise(\n",
    "#             pl.when(pl.col('outlier_state')=='normal').then(0.9).otherwise(0.8)\n",
    "#         )).alias('pos'),\n",
    "#         (pl.col(\"len\").map_elements(lambda x: format(x, ','), str))\n",
    "#     )\n",
    "# p2 = (\n",
    "#         pn.ggplot(veff_outrider_df, pn.aes(x=\"rel_var_pos_bin_label\", fill=\"outlier_state\"))\n",
    "#         + pn.geom_boxplot(pn.aes(y=score_column))\n",
    "#         + pn.theme(\n",
    "#             figure_size=(12, 6),\n",
    "#             axis_text_x=pn.element_text(angle=90),\n",
    "#             dpi=150\n",
    "#         )\n",
    "#         + pn.labs(\n",
    "#             x=\"Distance to TSS\", \n",
    "#             y=\"Enformer log2FC\",\n",
    "#             color=\"\",\n",
    "#             fill=\"\",\n",
    "#             title=\"Enformer variant-effect of rare promoter variants in GTEx v7\",\n",
    "#         )\n",
    "#         + pn.coord_cartesian(ylim=[-1, 1])\n",
    "#         + pn.guides(size='none', fill = pn.guide_legend(reverse = True))\n",
    "#     )\n",
    "# p2"
   ]
  },
  {
   "cell_type": "code",
   "execution_count": 39,
   "id": "e5d9bf31-6378-4a88-a018-b5ba9e31ac20",
   "metadata": {},
   "outputs": [],
   "source": [
    "# p3 = (\n",
    "#     pn.ggplot(enrichment_df, pn.aes(x=\"rel_var_pos_bin_label\", y=\"enrichment\", fill=\"outlier_state\", color=\"outlier_state\"))\n",
    "#     + pn.geom_line(pn.aes(group=\"outlier_state\"), linetype=\"dashed\")\n",
    "#     + pn.geom_point()\n",
    "#     + pn.geom_errorbar(pn.aes(ymin=\"ci_low\", ymax=\"ci_high\"))\n",
    "#     + pn.theme(\n",
    "#         figure_size=(8, 6),\n",
    "#         axis_text_x=pn.element_text(angle=90),\n",
    "#         dpi=150\n",
    "#     )\n",
    "#     + pn.labs(\n",
    "#         x=\"Distance to TSS\", \n",
    "#         y=\"Variant enrichment\",\n",
    "#         color=\"\",\n",
    "#         fill=\"\",\n",
    "#         title=\"Enrichment of rare promoter variants in GTEx v7\",\n",
    "#     )\n",
    "# )\n",
    "# p3"
   ]
  },
  {
   "cell_type": "code",
   "execution_count": 40,
   "id": "2486ed23-7275-4e0f-9775-773db69379ac",
   "metadata": {},
   "outputs": [
    {
     "data": {
      "text/plain": [
       "PosixPath('/data/nasif12/home_if12/tsi/kipoi_expression_prediction/etc/enformer_bins/202407252235')"
      ]
     },
     "execution_count": 40,
     "metadata": {},
     "output_type": "execute_result"
    }
   ],
   "source": [
    "base_path = Path('/data/nasif12/home_if12/tsi/kipoi_expression_prediction/etc/enformer_bins') / datetime.now().strftime(\"%Y%m%d%H%M\")\n",
    "base_path.mkdir(parents=True)\n",
    "veff_outrider_df.write_parquet(base_path / 'veff_bin.parquet', use_pyarrow=True)\n",
    "enrichment_df.write_parquet(base_path / 'enrichment.parquet', use_pyarrow=True)\n",
    "base_path"
   ]
  },
  {
   "cell_type": "code",
   "execution_count": null,
   "id": "4b463f55-80ac-4d88-ac21-d9b9fbd63627",
   "metadata": {},
   "outputs": [],
   "source": []
  }
 ],
 "metadata": {
  "jupytext": {
   "formats": "ipynb,py:percent"
  },
  "kernelspec": {
   "display_name": "Python [conda env:anaconda-kipoi-enformer-george]",
   "language": "python",
   "name": "conda-env-anaconda-kipoi-enformer-george-py"
  },
  "language_info": {
   "codemirror_mode": {
    "name": "ipython",
    "version": 3
   },
   "file_extension": ".py",
   "mimetype": "text/x-python",
   "name": "python",
   "nbconvert_exporter": "python",
   "pygments_lexer": "ipython3",
   "version": "3.11.9"
  }
 },
 "nbformat": 4,
 "nbformat_minor": 5
}
