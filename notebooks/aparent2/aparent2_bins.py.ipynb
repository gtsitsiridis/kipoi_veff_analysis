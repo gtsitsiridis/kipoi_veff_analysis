{
 "cells": [
  {
   "cell_type": "markdown",
   "id": "2343df18-f394-4cdc-afcd-f3bdc9c9f4ed",
   "metadata": {},
   "source": [
    "# Enformer-GTEx results"
   ]
  },
  {
   "cell_type": "markdown",
   "id": "f7859e43-37fa-4002-a3f5-de7b0a6dd8c2",
   "metadata": {},
   "source": [
    "Explore Enformer predictions on GTEx variants"
   ]
  },
  {
   "cell_type": "markdown",
   "id": "815614a0-81f3-4da0-bade-2b288e5312ca",
   "metadata": {},
   "source": [
    "## Setup"
   ]
  },
  {
   "cell_type": "code",
   "execution_count": 1,
   "id": "2122e34b-e806-41a5-af16-b7eea0f53861",
   "metadata": {
    "tags": []
   },
   "outputs": [],
   "source": [
    "import polars as pl\n",
    "import matplotlib.pyplot as plt\n",
    "from pathlib import Path\n",
    "import pandas as pd\n",
    "import seaborn as sns\n",
    "import numpy as np\n",
    "import statsmodels.api as sm\n",
    "import plotnine as pn\n",
    "from scipy.stats import ranksums\n",
    "from datetime import datetime\n",
    "\n",
    "%load_ext autoreload\n",
    "%autoreload 2"
   ]
  },
  {
   "cell_type": "code",
   "execution_count": 2,
   "id": "a2ba1d92-0736-4a89-949d-5f877a9f90a6",
   "metadata": {
    "tags": []
   },
   "outputs": [],
   "source": [
    "plt.rcParams['figure.dpi'] = 150"
   ]
  },
  {
   "cell_type": "code",
   "execution_count": 3,
   "id": "54a9bea2-0acc-47eb-bf27-85909ad8a34d",
   "metadata": {
    "tags": []
   },
   "outputs": [
    {
     "data": {
      "text/plain": [
       "polars.config.Config"
      ]
     },
     "execution_count": 3,
     "metadata": {},
     "output_type": "execute_result"
    }
   ],
   "source": [
    "pl.Config.set_fmt_str_lengths(100)"
   ]
  },
  {
   "cell_type": "code",
   "execution_count": 4,
   "id": "ad26162c-e67a-4def-8b5a-d3422e35e628",
   "metadata": {
    "tags": []
   },
   "outputs": [],
   "source": [
    "pn.theme_set(pn.theme_bw())\n",
    "pn.theme_update(dpi=150)"
   ]
  },
  {
   "cell_type": "code",
   "execution_count": 5,
   "id": "269121c2-f008-4b85-8d3c-37f9e293d5c9",
   "metadata": {
    "tags": []
   },
   "outputs": [],
   "source": [
    "# Files relevant to the GTEx analysis\n",
    "enformer_run_name = 'aparent2_ensembl_deltapdui_wide_70_130'\n",
    "# enformer variant effect on GTEx variants\n",
    "enformer_path = f'/s/project/promoter_prediction/kipoi_expression_prediction/veff/aparent2.parquet/run={enformer_run_name}'\n",
    "# GTEx variants\n",
    "variant_path = '/s/project/rep/processed/training_results_v16/gtex_v8_old_dna/private_variants.parquet/rare_variants.vcf.parquet/**/*.parquet'\n",
    "# abexp benchmark dataset\n",
    "gtex_benchmark_with_annotation_path = \"/s/project/rep/processed/training_results_v16/gtex_benchmark_with_annotation.parquet/*.parquet\""
   ]
  },
  {
   "cell_type": "markdown",
   "id": "79df0229-d2b9-43ca-bf70-deb6ab688864",
   "metadata": {
    "tags": []
   },
   "source": [
    "## Analysis"
   ]
  },
  {
   "cell_type": "markdown",
   "id": "082cde02-be21-4207-9455-7e4a32358457",
   "metadata": {},
   "source": [
    "We are only loading ensembl canonical transcripts for this analysis. So there is 1 transcript per gene!"
   ]
  },
  {
   "cell_type": "code",
   "execution_count": 6,
   "id": "71e4e1c1-2d43-4aea-9c4e-025df9dbe794",
   "metadata": {
    "tags": []
   },
   "outputs": [],
   "source": [
    "veff_transcript_ldf = (pl.scan_parquet(Path(enformer_path) / '*.parquet').\n",
    "                       select(pl.col(['gene_id', 'pas_id', 'cse_pos']), \n",
    "                              pl.col('strand').cast(pl.Enum(['-', '+'])),\n",
    "                              pl.col(['chrom', 'variant_start', 'variant_end', 'ref', 'alt', 'veff_score'])).\n",
    "                       rename({'gene_id': 'gene', 'pas_id': 'pas'}).\n",
    "                       with_columns(pl.col('gene').str.replace(r'([^\\.]+)\\..+$', \"${1}\").alias('gene')))\n",
    "\n",
    "# It is possible that a gene comes multiple times (different versions)"
   ]
  },
  {
   "cell_type": "code",
   "execution_count": 7,
   "id": "cde38f58-ff43-495b-9994-ea34026c3cfd",
   "metadata": {
    "tags": []
   },
   "outputs": [],
   "source": [
    "variant_ldf = pl.scan_parquet(variant_path, hive_partitioning=True).select(['sampleId', 'chrom', 'start', 'end', 'ref', 'alt']).rename({'sampleId': 'individual',\n",
    "                                                                                                                'start': 'variant_start',\n",
    "                                                                                                                'end': 'variant_end'})"
   ]
  },
  {
   "cell_type": "code",
   "execution_count": 8,
   "id": "8d49e109-c20a-4fb2-805a-93ef6de6be94",
   "metadata": {
    "tags": []
   },
   "outputs": [],
   "source": [
    "training_benchmark_ldf = (pl.scan_parquet(gtex_benchmark_with_annotation_path)\n",
    "                          .select(['gene', 'individual', 'tissue', 'FDR', \n",
    "                                   'mu', 'zscore', 'l2fc'])\n",
    "                          .unique()\n",
    "                          .rename({'l2fc': 'l2fc_outrider'})\n",
    "                          .with_columns((pl.when(pl.col('FDR') > 0.05)\n",
    "                                         .then(pl.lit('normal'))\n",
    "                                         .otherwise(\n",
    "                                             pl.when(pl.col('zscore') > 0)\n",
    "                                             .then(pl.lit('overexpressed'))\n",
    "                                             .otherwise(\n",
    "                                                 pl.when(pl.col('zscore') < 0)\n",
    "                                                 .then(pl.lit('underexpressed'))\n",
    "                                                 # this should never be the case\n",
    "                                                 .otherwise(pl.lit('CHECK'))\n",
    "                                             ))).cast(pl.Enum(['underexpressed', 'normal', 'overexpressed'])).alias('outlier_state')))"
   ]
  },
  {
   "cell_type": "markdown",
   "id": "2218d4e2-dc97-4ed8-bd3c-41ec0f650c78",
   "metadata": {
    "tags": []
   },
   "source": [
    "### What is the enformer variant-effect-score distribution around the TSS?"
   ]
  },
  {
   "cell_type": "code",
   "execution_count": 9,
   "id": "197cf5f9-e149-451b-8152-d18f52db398e",
   "metadata": {},
   "outputs": [
    {
     "data": {
      "text/html": [
       "<div><style>\n",
       ".dataframe > thead > tr,\n",
       ".dataframe > tbody > tr {\n",
       "  text-align: right;\n",
       "  white-space: pre-wrap;\n",
       "}\n",
       "</style>\n",
       "<small>shape: (1, 2)</small><table border=\"1\" class=\"dataframe\"><thead><tr><th>upstream_tss</th><th>downstream_tss</th></tr><tr><td>i64</td><td>i64</td></tr></thead><tbody><tr><td>-70</td><td>130</td></tr></tbody></table></div>"
      ],
      "text/plain": [
       "shape: (1, 2)\n",
       "┌──────────────┬────────────────┐\n",
       "│ upstream_tss ┆ downstream_tss │\n",
       "│ ---          ┆ ---            │\n",
       "│ i64          ┆ i64            │\n",
       "╞══════════════╪════════════════╡\n",
       "│ -70          ┆ 130            │\n",
       "└──────────────┴────────────────┘"
      ]
     },
     "execution_count": 9,
     "metadata": {},
     "output_type": "execute_result"
    }
   ],
   "source": [
    "veff_transcript_ldf = (veff_transcript_ldf\n",
    "                       .with_columns(cse_distance=(pl.when(pl.col('strand') == '+')\n",
    "                                                   .then(pl.col('variant_start') - pl.col('cse_pos'))\n",
    "                                                   .otherwise(pl.col('cse_pos') - pl.col('variant_start'))))\n",
    "                       .with_columns(absolute_cse_distance=pl.col('cse_distance').abs(),                \n",
    "                                     absolute_veff_score=pl.col('veff_score').abs()))\n",
    "\n",
    "veff_transcript_ldf.select(upstream_tss=pl.col('cse_distance').min(), downstream_tss=pl.col('cse_distance').max()).collect()"
   ]
  },
  {
   "cell_type": "code",
   "execution_count": 10,
   "id": "11ff1a2b-bfe8-4525-9ed5-146ae4de1980",
   "metadata": {},
   "outputs": [],
   "source": [
    "upstream=70\n",
    "downstream=130\n",
    "\n",
    "# filter out variants out of this range\n",
    "veff_transcript_ldf = veff_transcript_ldf.filter((pl.col('cse_distance') >= -upstream) & (pl.col('cse_distance') <= downstream))\n",
    "\n",
    "# join tss variants with individuals\n",
    "veff_individual_ldf = (variant_ldf.join(veff_transcript_ldf, how='inner', on=['chrom', 'variant_start', 'variant_end', 'ref', 'alt']).\n",
    "                              select([\n",
    "                                  'individual', 'chrom', 'variant_start', 'variant_end', 'ref', 'alt',\n",
    "                                  'gene', 'pas', 'strand', 'cse_distance', 'absolute_cse_distance', \n",
    "                                  'veff_score', 'absolute_veff_score'\n",
    "                                ])\n",
    "                             )"
   ]
  },
  {
   "cell_type": "code",
   "execution_count": 11,
   "id": "7ae94a77-0cb4-4e5c-b984-4f74cfd0134c",
   "metadata": {},
   "outputs": [],
   "source": [
    "# keep the variant with the signed maximum absolute enformer score for each individual\n",
    "veff_individual_ldf = veff_individual_ldf.sort('absolute_veff_score', descending=True). \\\n",
    "    group_by(['individual', 'gene', 'chrom', 'strand']). \\\n",
    "    agg(pl.col(['variant_start', 'variant_end', 'ref', 'alt', 'pas', 'cse_distance', 'veff_score']).first())\n",
    "\n",
    "# join outrider with variants on individual\n",
    "veff_outrider_ldf = (\n",
    "    veff_individual_ldf\n",
    "    .join(training_benchmark_ldf, how='inner', on=['individual', 'gene'])\n",
    "    .select(['gene', 'tissue', 'individual', 'cse_distance', 'outlier_state', \n",
    "             'zscore', 'FDR', 'veff_score']))"
   ]
  },
  {
   "cell_type": "code",
   "execution_count": 26,
   "id": "c45f7015-2f38-4121-8516-cc6a24c64624",
   "metadata": {
    "tags": []
   },
   "outputs": [],
   "source": [
    "df = veff_outrider_ldf.collect()"
   ]
  },
  {
   "cell_type": "code",
   "execution_count": 27,
   "id": "1a7b4c80-8066-40e9-aa52-42a494fad893",
   "metadata": {},
   "outputs": [
    {
     "data": {
      "text/plain": [
       "(1209239, 8)"
      ]
     },
     "execution_count": 27,
     "metadata": {},
     "output_type": "execute_result"
    }
   ],
   "source": [
    "df.shape"
   ]
  },
  {
   "cell_type": "code",
   "execution_count": 28,
   "id": "d91f5356-bfda-4d3a-b942-61ff05ac46fb",
   "metadata": {},
   "outputs": [
    {
     "data": {
      "text/html": [
       "<div><style>\n",
       ".dataframe > thead > tr,\n",
       ".dataframe > tbody > tr {\n",
       "  text-align: right;\n",
       "  white-space: pre-wrap;\n",
       "}\n",
       "</style>\n",
       "<small>shape: (5, 8)</small><table border=\"1\" class=\"dataframe\"><thead><tr><th>gene</th><th>tissue</th><th>individual</th><th>cse_distance</th><th>outlier_state</th><th>zscore</th><th>FDR</th><th>veff_score</th></tr><tr><td>str</td><td>str</td><td>str</td><td>i64</td><td>enum</td><td>f32</td><td>f64</td><td>f64</td></tr></thead><tbody><tr><td>&quot;ENSG00000162066&quot;</td><td>&quot;Pituitary&quot;</td><td>&quot;GTEX-13VXU&quot;</td><td>59</td><td>&quot;normal&quot;</td><td>-0.824748</td><td>1.0</td><td>0.0</td></tr><tr><td>&quot;ENSG00000159202&quot;</td><td>&quot;Brain - Cortex&quot;</td><td>&quot;GTEX-QMR6&quot;</td><td>89</td><td>&quot;normal&quot;</td><td>1.085511</td><td>1.0</td><td>0.002301</td></tr><tr><td>&quot;ENSG00000178397&quot;</td><td>&quot;Cells - EBV-transformed lymphocytes&quot;</td><td>&quot;GTEX-WFON&quot;</td><td>19</td><td>&quot;normal&quot;</td><td>0.306976</td><td>1.0</td><td>-0.079601</td></tr><tr><td>&quot;ENSG00000076924&quot;</td><td>&quot;Skin - Sun Exposed (Lower leg)&quot;</td><td>&quot;GTEX-XMD2&quot;</td><td>61</td><td>&quot;normal&quot;</td><td>-1.820325</td><td>1.0</td><td>-0.003106</td></tr><tr><td>&quot;ENSG00000119684&quot;</td><td>&quot;Brain - Frontal Cortex (BA9)&quot;</td><td>&quot;GTEX-12WSA&quot;</td><td>94</td><td>&quot;normal&quot;</td><td>0.029072</td><td>1.0</td><td>0.019442</td></tr></tbody></table></div>"
      ],
      "text/plain": [
       "shape: (5, 8)\n",
       "┌─────────────┬─────────────┬────────────┬─────────────┬────────────┬───────────┬─────┬────────────┐\n",
       "│ gene        ┆ tissue      ┆ individual ┆ cse_distanc ┆ outlier_st ┆ zscore    ┆ FDR ┆ veff_score │\n",
       "│ ---         ┆ ---         ┆ ---        ┆ e           ┆ ate        ┆ ---       ┆ --- ┆ ---        │\n",
       "│ str         ┆ str         ┆ str        ┆ ---         ┆ ---        ┆ f32       ┆ f64 ┆ f64        │\n",
       "│             ┆             ┆            ┆ i64         ┆ enum       ┆           ┆     ┆            │\n",
       "╞═════════════╪═════════════╪════════════╪═════════════╪════════════╪═══════════╪═════╪════════════╡\n",
       "│ ENSG0000016 ┆ Pituitary   ┆ GTEX-13VXU ┆ 59          ┆ normal     ┆ -0.824748 ┆ 1.0 ┆ 0.0        │\n",
       "│ 2066        ┆             ┆            ┆             ┆            ┆           ┆     ┆            │\n",
       "│ ENSG0000015 ┆ Brain -     ┆ GTEX-QMR6  ┆ 89          ┆ normal     ┆ 1.085511  ┆ 1.0 ┆ 0.002301   │\n",
       "│ 9202        ┆ Cortex      ┆            ┆             ┆            ┆           ┆     ┆            │\n",
       "│ ENSG0000017 ┆ Cells - EBV ┆ GTEX-WFON  ┆ 19          ┆ normal     ┆ 0.306976  ┆ 1.0 ┆ -0.079601  │\n",
       "│ 8397        ┆ -transforme ┆            ┆             ┆            ┆           ┆     ┆            │\n",
       "│             ┆ d           ┆            ┆             ┆            ┆           ┆     ┆            │\n",
       "│             ┆ lymphocytes ┆            ┆             ┆            ┆           ┆     ┆            │\n",
       "│ ENSG0000007 ┆ Skin - Sun  ┆ GTEX-XMD2  ┆ 61          ┆ normal     ┆ -1.820325 ┆ 1.0 ┆ -0.003106  │\n",
       "│ 6924        ┆ Exposed     ┆            ┆             ┆            ┆           ┆     ┆            │\n",
       "│             ┆ (Lower leg) ┆            ┆             ┆            ┆           ┆     ┆            │\n",
       "│ ENSG0000011 ┆ Brain -     ┆ GTEX-12WSA ┆ 94          ┆ normal     ┆ 0.029072  ┆ 1.0 ┆ 0.019442   │\n",
       "│ 9684        ┆ Frontal     ┆            ┆             ┆            ┆           ┆     ┆            │\n",
       "│             ┆ Cortex      ┆            ┆             ┆            ┆           ┆     ┆            │\n",
       "│             ┆ (BA9)       ┆            ┆             ┆            ┆           ┆     ┆            │\n",
       "└─────────────┴─────────────┴────────────┴─────────────┴────────────┴───────────┴─────┴────────────┘"
      ]
     },
     "execution_count": 28,
     "metadata": {},
     "output_type": "execute_result"
    }
   ],
   "source": [
    "df.head()"
   ]
  },
  {
   "cell_type": "code",
   "execution_count": 29,
   "id": "5aa91767-2825-4f69-b18b-3892274f993e",
   "metadata": {},
   "outputs": [],
   "source": [
    "df_bac = df\n",
    "\n",
    "# cse_distance in bins\n",
    "bin_size=20\n",
    "cuts = list(range(-upstream + bin_size, downstream, bin_size))\n",
    "cut_labels = [str(x) for x in [-upstream, *cuts]]\n",
    "cse_distance_labels = {c: f'[{c}, {int(c) + bin_size})' for c in cut_labels}\n",
    "df = (df.with_columns(cse_distance_bin=(pl.col('cse_distance').cut(cuts, labels=cut_labels))\n",
    "                      .cast(pl.Enum(cut_labels)))\n",
    "      .with_columns(is_underexpressed=(pl.col('outlier_state') == 'underexpressed')))\n",
    "\n",
    "df = (df.with_columns(cse_distance_bin_label=pl.col(\"cse_distance_bin\").replace_strict(cse_distance_labels), \n",
    "                                                      bin_size=pl.lit(50)))"
   ]
  },
  {
   "cell_type": "code",
   "execution_count": 16,
   "id": "2c69ecaf-2f60-45ec-a254-0566a75341a9",
   "metadata": {},
   "outputs": [
    {
     "data": {
      "text/html": [
       "<div><style>\n",
       ".dataframe > thead > tr,\n",
       ".dataframe > tbody > tr {\n",
       "  text-align: right;\n",
       "  white-space: pre-wrap;\n",
       "}\n",
       "</style>\n",
       "<small>shape: (5, 12)</small><table border=\"1\" class=\"dataframe\"><thead><tr><th>gene</th><th>tissue</th><th>individual</th><th>cse_distance</th><th>outlier_state</th><th>zscore</th><th>FDR</th><th>veff_score</th><th>cse_distance_bin</th><th>is_underexpressed</th><th>cse_distance_bin_label</th><th>bin_size</th></tr><tr><td>str</td><td>str</td><td>str</td><td>i64</td><td>enum</td><td>f32</td><td>f64</td><td>f64</td><td>enum</td><td>bool</td><td>str</td><td>i32</td></tr></thead><tbody><tr><td>&quot;ENSG00000165661&quot;</td><td>&quot;Brain - Hippocampus&quot;</td><td>&quot;GTEX-14JIY&quot;</td><td>119</td><td>&quot;normal&quot;</td><td>0.080449</td><td>1.0</td><td>0.002283</td><td>&quot;110&quot;</td><td>false</td><td>&quot;[110, 130)&quot;</td><td>50</td></tr><tr><td>&quot;ENSG00000134698&quot;</td><td>&quot;Liver&quot;</td><td>&quot;GTEX-17F96&quot;</td><td>6</td><td>&quot;normal&quot;</td><td>0.134341</td><td>1.0</td><td>-0.063687</td><td>&quot;-10&quot;</td><td>false</td><td>&quot;[-10, 10)&quot;</td><td>50</td></tr><tr><td>&quot;ENSG00000204348&quot;</td><td>&quot;Skin - Sun Exposed (Lower leg)&quot;</td><td>&quot;GTEX-183FY&quot;</td><td>-39</td><td>&quot;normal&quot;</td><td>1.089896</td><td>1.0</td><td>0.005534</td><td>&quot;-50&quot;</td><td>false</td><td>&quot;[-50, -30)&quot;</td><td>50</td></tr><tr><td>&quot;ENSG00000092020&quot;</td><td>&quot;Adipose - Subcutaneous&quot;</td><td>&quot;GTEX-1FIGZ&quot;</td><td>-68</td><td>&quot;normal&quot;</td><td>-0.618512</td><td>1.0</td><td>0.000268</td><td>&quot;-70&quot;</td><td>false</td><td>&quot;[-70, -50)&quot;</td><td>50</td></tr><tr><td>&quot;ENSG00000082898&quot;</td><td>&quot;Brain - Anterior cingulate cortex (BA24)&quot;</td><td>&quot;GTEX-13VXU&quot;</td><td>-44</td><td>&quot;normal&quot;</td><td>-0.450936</td><td>1.0</td><td>-0.0001</td><td>&quot;-50&quot;</td><td>false</td><td>&quot;[-50, -30)&quot;</td><td>50</td></tr></tbody></table></div>"
      ],
      "text/plain": [
       "shape: (5, 12)\n",
       "┌───────────┬───────────┬───────────┬───────────┬───┬───────────┬───────────┬───────────┬──────────┐\n",
       "│ gene      ┆ tissue    ┆ individua ┆ cse_dista ┆ … ┆ cse_dista ┆ is_undere ┆ cse_dista ┆ bin_size │\n",
       "│ ---       ┆ ---       ┆ l         ┆ nce       ┆   ┆ nce_bin   ┆ xpressed  ┆ nce_bin_l ┆ ---      │\n",
       "│ str       ┆ str       ┆ ---       ┆ ---       ┆   ┆ ---       ┆ ---       ┆ abel      ┆ i32      │\n",
       "│           ┆           ┆ str       ┆ i64       ┆   ┆ enum      ┆ bool      ┆ ---       ┆          │\n",
       "│           ┆           ┆           ┆           ┆   ┆           ┆           ┆ str       ┆          │\n",
       "╞═══════════╪═══════════╪═══════════╪═══════════╪═══╪═══════════╪═══════════╪═══════════╪══════════╡\n",
       "│ ENSG00000 ┆ Brain -   ┆ GTEX-14JI ┆ 119       ┆ … ┆ 110       ┆ false     ┆ [110,     ┆ 50       │\n",
       "│ 165661    ┆ Hippocamp ┆ Y         ┆           ┆   ┆           ┆           ┆ 130)      ┆          │\n",
       "│           ┆ us        ┆           ┆           ┆   ┆           ┆           ┆           ┆          │\n",
       "│ ENSG00000 ┆ Liver     ┆ GTEX-17F9 ┆ 6         ┆ … ┆ -10       ┆ false     ┆ [-10, 10) ┆ 50       │\n",
       "│ 134698    ┆           ┆ 6         ┆           ┆   ┆           ┆           ┆           ┆          │\n",
       "│ ENSG00000 ┆ Skin -    ┆ GTEX-183F ┆ -39       ┆ … ┆ -50       ┆ false     ┆ [-50,     ┆ 50       │\n",
       "│ 204348    ┆ Sun       ┆ Y         ┆           ┆   ┆           ┆           ┆ -30)      ┆          │\n",
       "│           ┆ Exposed   ┆           ┆           ┆   ┆           ┆           ┆           ┆          │\n",
       "│           ┆ (Lower    ┆           ┆           ┆   ┆           ┆           ┆           ┆          │\n",
       "│           ┆ leg)      ┆           ┆           ┆   ┆           ┆           ┆           ┆          │\n",
       "│ ENSG00000 ┆ Adipose - ┆ GTEX-1FIG ┆ -68       ┆ … ┆ -70       ┆ false     ┆ [-70,     ┆ 50       │\n",
       "│ 092020    ┆ Subcutane ┆ Z         ┆           ┆   ┆           ┆           ┆ -50)      ┆          │\n",
       "│           ┆ ous       ┆           ┆           ┆   ┆           ┆           ┆           ┆          │\n",
       "│ ENSG00000 ┆ Brain -   ┆ GTEX-13VX ┆ -44       ┆ … ┆ -50       ┆ false     ┆ [-50,     ┆ 50       │\n",
       "│ 082898    ┆ Anterior  ┆ U         ┆           ┆   ┆           ┆           ┆ -30)      ┆          │\n",
       "│           ┆ cingulate ┆           ┆           ┆   ┆           ┆           ┆           ┆          │\n",
       "│           ┆ cortex    ┆           ┆           ┆   ┆           ┆           ┆           ┆          │\n",
       "│           ┆ (BA24)    ┆           ┆           ┆   ┆           ┆           ┆           ┆          │\n",
       "└───────────┴───────────┴───────────┴───────────┴───┴───────────┴───────────┴───────────┴──────────┘"
      ]
     },
     "execution_count": 16,
     "metadata": {},
     "output_type": "execute_result"
    }
   ],
   "source": [
    "df.head()"
   ]
  },
  {
   "cell_type": "code",
   "execution_count": 30,
   "id": "5f8b45c5-c91e-4153-b161-a178ca8be46f",
   "metadata": {},
   "outputs": [],
   "source": [
    "new_bins = [*[(i, i + 20) for i in range(-70, 130, 20)]]\n",
    "new_bin_labels  = [f'[{start}, {stop})' for start, stop in new_bins]\n",
    "\n",
    "df_bac = df\n",
    "for start, stop in new_bins:\n",
    "    df = df.with_columns(cse_distance_bin_label=(pl.when((pl.col('cse_distance_bin').cast(pl.Int16) >= start) & (pl.col('cse_distance_bin').cast(pl.Int16) <= stop))\n",
    "                                                 .then(pl.lit(f'[{start}, {stop})'))                                  \n",
    "                                                 .otherwise(pl.col('cse_distance_bin_label'))),\n",
    "                         bin_size = (pl.when((pl.col('cse_distance_bin').cast(pl.Int16) >= start) & (pl.col('cse_distance_bin').cast(pl.Int16) < stop))\n",
    "                                     .then(pl.lit(stop - start))\n",
    "                                     .otherwise(pl.col('bin_size'))))\n",
    "\n",
    "df = df.with_columns(cse_distance_bin_label=pl.col('cse_distance_bin_label').cast(pl.Enum(new_bin_labels)))"
   ]
  },
  {
   "cell_type": "code",
   "execution_count": 32,
   "id": "9f1630e5-41a1-43cf-a454-a40d426d0eb2",
   "metadata": {},
   "outputs": [
    {
     "data": {
      "text/html": [
       "<div><style>\n",
       ".dataframe > thead > tr,\n",
       ".dataframe > tbody > tr {\n",
       "  text-align: right;\n",
       "  white-space: pre-wrap;\n",
       "}\n",
       "</style>\n",
       "<small>shape: (5, 12)</small><table border=\"1\" class=\"dataframe\"><thead><tr><th>gene</th><th>tissue</th><th>individual</th><th>cse_distance</th><th>outlier_state</th><th>zscore</th><th>FDR</th><th>veff_score</th><th>cse_distance_bin</th><th>is_underexpressed</th><th>cse_distance_bin_label</th><th>bin_size</th></tr><tr><td>str</td><td>str</td><td>str</td><td>i64</td><td>enum</td><td>f32</td><td>f64</td><td>f64</td><td>enum</td><td>bool</td><td>enum</td><td>i32</td></tr></thead><tbody><tr><td>&quot;ENSG00000162066&quot;</td><td>&quot;Pituitary&quot;</td><td>&quot;GTEX-13VXU&quot;</td><td>59</td><td>&quot;normal&quot;</td><td>-0.824748</td><td>1.0</td><td>0.0</td><td>&quot;50&quot;</td><td>false</td><td>&quot;[50, 70)&quot;</td><td>20</td></tr><tr><td>&quot;ENSG00000159202&quot;</td><td>&quot;Brain - Cortex&quot;</td><td>&quot;GTEX-QMR6&quot;</td><td>89</td><td>&quot;normal&quot;</td><td>1.085511</td><td>1.0</td><td>0.002301</td><td>&quot;70&quot;</td><td>false</td><td>&quot;[70, 90)&quot;</td><td>20</td></tr><tr><td>&quot;ENSG00000178397&quot;</td><td>&quot;Cells - EBV-transformed lymphocytes&quot;</td><td>&quot;GTEX-WFON&quot;</td><td>19</td><td>&quot;normal&quot;</td><td>0.306976</td><td>1.0</td><td>-0.079601</td><td>&quot;10&quot;</td><td>false</td><td>&quot;[10, 30)&quot;</td><td>20</td></tr><tr><td>&quot;ENSG00000076924&quot;</td><td>&quot;Skin - Sun Exposed (Lower leg)&quot;</td><td>&quot;GTEX-XMD2&quot;</td><td>61</td><td>&quot;normal&quot;</td><td>-1.820325</td><td>1.0</td><td>-0.003106</td><td>&quot;50&quot;</td><td>false</td><td>&quot;[50, 70)&quot;</td><td>20</td></tr><tr><td>&quot;ENSG00000119684&quot;</td><td>&quot;Brain - Frontal Cortex (BA9)&quot;</td><td>&quot;GTEX-12WSA&quot;</td><td>94</td><td>&quot;normal&quot;</td><td>0.029072</td><td>1.0</td><td>0.019442</td><td>&quot;90&quot;</td><td>false</td><td>&quot;[90, 110)&quot;</td><td>20</td></tr></tbody></table></div>"
      ],
      "text/plain": [
       "shape: (5, 12)\n",
       "┌───────────┬───────────┬───────────┬───────────┬───┬───────────┬───────────┬───────────┬──────────┐\n",
       "│ gene      ┆ tissue    ┆ individua ┆ cse_dista ┆ … ┆ cse_dista ┆ is_undere ┆ cse_dista ┆ bin_size │\n",
       "│ ---       ┆ ---       ┆ l         ┆ nce       ┆   ┆ nce_bin   ┆ xpressed  ┆ nce_bin_l ┆ ---      │\n",
       "│ str       ┆ str       ┆ ---       ┆ ---       ┆   ┆ ---       ┆ ---       ┆ abel      ┆ i32      │\n",
       "│           ┆           ┆ str       ┆ i64       ┆   ┆ enum      ┆ bool      ┆ ---       ┆          │\n",
       "│           ┆           ┆           ┆           ┆   ┆           ┆           ┆ enum      ┆          │\n",
       "╞═══════════╪═══════════╪═══════════╪═══════════╪═══╪═══════════╪═══════════╪═══════════╪══════════╡\n",
       "│ ENSG00000 ┆ Pituitary ┆ GTEX-13VX ┆ 59        ┆ … ┆ 50        ┆ false     ┆ [50, 70)  ┆ 20       │\n",
       "│ 162066    ┆           ┆ U         ┆           ┆   ┆           ┆           ┆           ┆          │\n",
       "│ ENSG00000 ┆ Brain -   ┆ GTEX-QMR6 ┆ 89        ┆ … ┆ 70        ┆ false     ┆ [70, 90)  ┆ 20       │\n",
       "│ 159202    ┆ Cortex    ┆           ┆           ┆   ┆           ┆           ┆           ┆          │\n",
       "│ ENSG00000 ┆ Cells -   ┆ GTEX-WFON ┆ 19        ┆ … ┆ 10        ┆ false     ┆ [10, 30)  ┆ 20       │\n",
       "│ 178397    ┆ EBV-trans ┆           ┆           ┆   ┆           ┆           ┆           ┆          │\n",
       "│           ┆ formed    ┆           ┆           ┆   ┆           ┆           ┆           ┆          │\n",
       "│           ┆ lymphocyt ┆           ┆           ┆   ┆           ┆           ┆           ┆          │\n",
       "│           ┆ es        ┆           ┆           ┆   ┆           ┆           ┆           ┆          │\n",
       "│ ENSG00000 ┆ Skin -    ┆ GTEX-XMD2 ┆ 61        ┆ … ┆ 50        ┆ false     ┆ [50, 70)  ┆ 20       │\n",
       "│ 076924    ┆ Sun       ┆           ┆           ┆   ┆           ┆           ┆           ┆          │\n",
       "│           ┆ Exposed   ┆           ┆           ┆   ┆           ┆           ┆           ┆          │\n",
       "│           ┆ (Lower    ┆           ┆           ┆   ┆           ┆           ┆           ┆          │\n",
       "│           ┆ leg)      ┆           ┆           ┆   ┆           ┆           ┆           ┆          │\n",
       "│ ENSG00000 ┆ Brain -   ┆ GTEX-12WS ┆ 94        ┆ … ┆ 90        ┆ false     ┆ [90, 110) ┆ 20       │\n",
       "│ 119684    ┆ Frontal   ┆ A         ┆           ┆   ┆           ┆           ┆           ┆          │\n",
       "│           ┆ Cortex    ┆           ┆           ┆   ┆           ┆           ┆           ┆          │\n",
       "│           ┆ (BA9)     ┆           ┆           ┆   ┆           ┆           ┆           ┆          │\n",
       "└───────────┴───────────┴───────────┴───────────┴───┴───────────┴───────────┴───────────┴──────────┘"
      ]
     },
     "execution_count": 32,
     "metadata": {},
     "output_type": "execute_result"
    }
   ],
   "source": [
    "df.head()"
   ]
  },
  {
   "cell_type": "code",
   "execution_count": 33,
   "id": "1c62b971-b44c-480e-86b8-419877835703",
   "metadata": {},
   "outputs": [],
   "source": [
    "# calculate counts per bins\n",
    "bin_count_df = (df.group_by(['outlier_state', 'cse_distance_bin_label', 'bin_size'])\n",
    "                .agg((pl.len()).alias('count')))\n",
    "\n",
    "# # calculate mean of each bin and then sum the means in each outlier state\n",
    "totals_df = (bin_count_df.group_by('outlier_state').agg(pl.sum('count').alias('total_count')))\n",
    "# # normalize each count by the mean calculated above\n",
    "enrichment_df = (bin_count_df.join(totals_df, on='outlier_state')\n",
    "                 .with_columns((pl.col('count') / pl.col('total_count')).alias('enrichment')))\n",
    "ci_low, ci_high = sm.stats.proportion_confint(enrichment_df[\"count\"], enrichment_df[\"total_count\"])\n",
    "enrichment_df = enrichment_df.with_columns(pl.Series(ci_low).alias('ci_low'), pl.Series(ci_high).alias('ci_high'))\n",
    "# normalize by bin size\n",
    "enrichment_df = enrichment_df.with_columns(enrichment = pl.col('enrichment') / pl.col('bin_size'),\n",
    "                                           ci_low = pl.col('ci_low') / pl.col('bin_size'),\n",
    "                                           ci_high = pl.col('ci_high') / pl.col('bin_size'))"
   ]
  },
  {
   "cell_type": "code",
   "execution_count": 34,
   "id": "751f498c-175a-42af-b000-b5a8f9b61111",
   "metadata": {},
   "outputs": [
    {
     "data": {
      "text/html": [
       "<div><style>\n",
       ".dataframe > thead > tr,\n",
       ".dataframe > tbody > tr {\n",
       "  text-align: right;\n",
       "  white-space: pre-wrap;\n",
       "}\n",
       "</style>\n",
       "<small>shape: (30, 8)</small><table border=\"1\" class=\"dataframe\"><thead><tr><th>outlier_state</th><th>cse_distance_bin_label</th><th>bin_size</th><th>count</th><th>total_count</th><th>enrichment</th><th>ci_low</th><th>ci_high</th></tr><tr><td>enum</td><td>enum</td><td>i32</td><td>u32</td><td>u32</td><td>f64</td><td>f64</td><td>f64</td></tr></thead><tbody><tr><td>&quot;underexpressed&quot;</td><td>&quot;[30, 50)&quot;</td><td>20</td><td>126</td><td>1042</td><td>0.006046</td><td>0.005056</td><td>0.007036</td></tr><tr><td>&quot;overexpressed&quot;</td><td>&quot;[-50, -30)&quot;</td><td>20</td><td>33</td><td>369</td><td>0.004472</td><td>0.003016</td><td>0.005927</td></tr><tr><td>&quot;overexpressed&quot;</td><td>&quot;[30, 50)&quot;</td><td>20</td><td>47</td><td>369</td><td>0.006369</td><td>0.004668</td><td>0.008069</td></tr><tr><td>&quot;normal&quot;</td><td>&quot;[-50, -30)&quot;</td><td>20</td><td>122784</td><td>1207828</td><td>0.005083</td><td>0.005056</td><td>0.00511</td></tr><tr><td>&quot;normal&quot;</td><td>&quot;[-10, 10)&quot;</td><td>20</td><td>116883</td><td>1207828</td><td>0.004839</td><td>0.004812</td><td>0.004865</td></tr><tr><td>&hellip;</td><td>&hellip;</td><td>&hellip;</td><td>&hellip;</td><td>&hellip;</td><td>&hellip;</td><td>&hellip;</td><td>&hellip;</td></tr><tr><td>&quot;underexpressed&quot;</td><td>&quot;[110, 130)&quot;</td><td>20</td><td>81</td><td>1042</td><td>0.003887</td><td>0.003074</td><td>0.0047</td></tr><tr><td>&quot;overexpressed&quot;</td><td>&quot;[110, 130)&quot;</td><td>20</td><td>38</td><td>369</td><td>0.005149</td><td>0.003599</td><td>0.0067</td></tr><tr><td>&quot;overexpressed&quot;</td><td>&quot;[10, 30)&quot;</td><td>20</td><td>35</td><td>369</td><td>0.004743</td><td>0.003248</td><td>0.006237</td></tr><tr><td>&quot;normal&quot;</td><td>&quot;[30, 50)&quot;</td><td>20</td><td>118820</td><td>1207828</td><td>0.004919</td><td>0.004892</td><td>0.004945</td></tr><tr><td>&quot;underexpressed&quot;</td><td>&quot;[-50, -30)&quot;</td><td>20</td><td>46</td><td>1042</td><td>0.002207</td><td>0.001584</td><td>0.002831</td></tr></tbody></table></div>"
      ],
      "text/plain": [
       "shape: (30, 8)\n",
       "┌──────────────┬──────────────┬──────────┬────────┬─────────────┬────────────┬──────────┬──────────┐\n",
       "│ outlier_stat ┆ cse_distance ┆ bin_size ┆ count  ┆ total_count ┆ enrichment ┆ ci_low   ┆ ci_high  │\n",
       "│ e            ┆ _bin_label   ┆ ---      ┆ ---    ┆ ---         ┆ ---        ┆ ---      ┆ ---      │\n",
       "│ ---          ┆ ---          ┆ i32      ┆ u32    ┆ u32         ┆ f64        ┆ f64      ┆ f64      │\n",
       "│ enum         ┆ enum         ┆          ┆        ┆             ┆            ┆          ┆          │\n",
       "╞══════════════╪══════════════╪══════════╪════════╪═════════════╪════════════╪══════════╪══════════╡\n",
       "│ underexpress ┆ [30, 50)     ┆ 20       ┆ 126    ┆ 1042        ┆ 0.006046   ┆ 0.005056 ┆ 0.007036 │\n",
       "│ ed           ┆              ┆          ┆        ┆             ┆            ┆          ┆          │\n",
       "│ overexpresse ┆ [-50, -30)   ┆ 20       ┆ 33     ┆ 369         ┆ 0.004472   ┆ 0.003016 ┆ 0.005927 │\n",
       "│ d            ┆              ┆          ┆        ┆             ┆            ┆          ┆          │\n",
       "│ overexpresse ┆ [30, 50)     ┆ 20       ┆ 47     ┆ 369         ┆ 0.006369   ┆ 0.004668 ┆ 0.008069 │\n",
       "│ d            ┆              ┆          ┆        ┆             ┆            ┆          ┆          │\n",
       "│ normal       ┆ [-50, -30)   ┆ 20       ┆ 122784 ┆ 1207828     ┆ 0.005083   ┆ 0.005056 ┆ 0.00511  │\n",
       "│ normal       ┆ [-10, 10)    ┆ 20       ┆ 116883 ┆ 1207828     ┆ 0.004839   ┆ 0.004812 ┆ 0.004865 │\n",
       "│ …            ┆ …            ┆ …        ┆ …      ┆ …           ┆ …          ┆ …        ┆ …        │\n",
       "│ underexpress ┆ [110, 130)   ┆ 20       ┆ 81     ┆ 1042        ┆ 0.003887   ┆ 0.003074 ┆ 0.0047   │\n",
       "│ ed           ┆              ┆          ┆        ┆             ┆            ┆          ┆          │\n",
       "│ overexpresse ┆ [110, 130)   ┆ 20       ┆ 38     ┆ 369         ┆ 0.005149   ┆ 0.003599 ┆ 0.0067   │\n",
       "│ d            ┆              ┆          ┆        ┆             ┆            ┆          ┆          │\n",
       "│ overexpresse ┆ [10, 30)     ┆ 20       ┆ 35     ┆ 369         ┆ 0.004743   ┆ 0.003248 ┆ 0.006237 │\n",
       "│ d            ┆              ┆          ┆        ┆             ┆            ┆          ┆          │\n",
       "│ normal       ┆ [30, 50)     ┆ 20       ┆ 118820 ┆ 1207828     ┆ 0.004919   ┆ 0.004892 ┆ 0.004945 │\n",
       "│ underexpress ┆ [-50, -30)   ┆ 20       ┆ 46     ┆ 1042        ┆ 0.002207   ┆ 0.001584 ┆ 0.002831 │\n",
       "│ ed           ┆              ┆          ┆        ┆             ┆            ┆          ┆          │\n",
       "└──────────────┴──────────────┴──────────┴────────┴─────────────┴────────────┴──────────┴──────────┘"
      ]
     },
     "execution_count": 34,
     "metadata": {},
     "output_type": "execute_result"
    }
   ],
   "source": [
    "enrichment_df"
   ]
  },
  {
   "cell_type": "code",
   "execution_count": 35,
   "id": "3825f050-83be-4290-a921-f99dc70e8120",
   "metadata": {},
   "outputs": [
    {
     "data": {
      "text/html": [
       "<div><style>\n",
       ".dataframe > thead > tr,\n",
       ".dataframe > tbody > tr {\n",
       "  text-align: right;\n",
       "  white-space: pre-wrap;\n",
       "}\n",
       "</style>\n",
       "<small>shape: (3, 2)</small><table border=\"1\" class=\"dataframe\"><thead><tr><th>outlier_state</th><th>total_count</th></tr><tr><td>enum</td><td>u32</td></tr></thead><tbody><tr><td>&quot;normal&quot;</td><td>1207828</td></tr><tr><td>&quot;underexpressed&quot;</td><td>1042</td></tr><tr><td>&quot;overexpressed&quot;</td><td>369</td></tr></tbody></table></div>"
      ],
      "text/plain": [
       "shape: (3, 2)\n",
       "┌────────────────┬─────────────┐\n",
       "│ outlier_state  ┆ total_count │\n",
       "│ ---            ┆ ---         │\n",
       "│ enum           ┆ u32         │\n",
       "╞════════════════╪═════════════╡\n",
       "│ normal         ┆ 1207828     │\n",
       "│ underexpressed ┆ 1042        │\n",
       "│ overexpressed  ┆ 369         │\n",
       "└────────────────┴─────────────┘"
      ]
     },
     "execution_count": 35,
     "metadata": {},
     "output_type": "execute_result"
    }
   ],
   "source": [
    "totals_df"
   ]
  },
  {
   "cell_type": "code",
   "execution_count": 36,
   "id": "2486ed23-7275-4e0f-9775-773db69379ac",
   "metadata": {},
   "outputs": [
    {
     "data": {
      "text/plain": [
       "PosixPath('.')"
      ]
     },
     "execution_count": 36,
     "metadata": {},
     "output_type": "execute_result"
    }
   ],
   "source": [
    "base_path = Path('.')\n",
    "df.write_parquet(base_path / 'veff_bin.parquet', use_pyarrow=True)\n",
    "enrichment_df.write_parquet(base_path / 'pas_enrichment.parquet', use_pyarrow=True)\n",
    "base_path"
   ]
  },
  {
   "cell_type": "code",
   "execution_count": null,
   "id": "4b463f55-80ac-4d88-ac21-d9b9fbd63627",
   "metadata": {},
   "outputs": [],
   "source": []
  },
  {
   "cell_type": "code",
   "execution_count": null,
   "id": "eef0e614-e33f-48ad-bb71-3758a958bc4a",
   "metadata": {},
   "outputs": [],
   "source": []
  }
 ],
 "metadata": {
  "kernelspec": {
   "display_name": "Python [conda env:anaconda-kipoi-veff-analysis]",
   "language": "python",
   "name": "conda-env-anaconda-kipoi-veff-analysis-py"
  },
  "language_info": {
   "codemirror_mode": {
    "name": "ipython",
    "version": 3
   },
   "file_extension": ".py",
   "mimetype": "text/x-python",
   "name": "python",
   "nbconvert_exporter": "python",
   "pygments_lexer": "ipython3",
   "version": "3.12.6"
  }
 },
 "nbformat": 4,
 "nbformat_minor": 5
}
