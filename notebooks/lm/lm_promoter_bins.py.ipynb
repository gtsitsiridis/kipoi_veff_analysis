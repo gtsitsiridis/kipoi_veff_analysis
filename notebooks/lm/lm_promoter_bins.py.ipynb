{
 "cells": [
  {
   "cell_type": "markdown",
   "id": "2343df18-f394-4cdc-afcd-f3bdc9c9f4ed",
   "metadata": {},
   "source": [
    "# Enformer-GTEx results"
   ]
  },
  {
   "cell_type": "markdown",
   "id": "f7859e43-37fa-4002-a3f5-de7b0a6dd8c2",
   "metadata": {},
   "source": [
    "Explore Enformer predictions on GTEx variants"
   ]
  },
  {
   "cell_type": "markdown",
   "id": "815614a0-81f3-4da0-bade-2b288e5312ca",
   "metadata": {},
   "source": [
    "## Setup"
   ]
  },
  {
   "cell_type": "code",
   "execution_count": 1,
   "id": "2122e34b-e806-41a5-af16-b7eea0f53861",
   "metadata": {
    "tags": []
   },
   "outputs": [],
   "source": [
    "import polars as pl\n",
    "import matplotlib.pyplot as plt\n",
    "from pathlib import Path\n",
    "import pandas as pd\n",
    "import seaborn as sns\n",
    "import numpy as np\n",
    "import statsmodels.api as sm\n",
    "import plotnine as pn\n",
    "from scipy.stats import ranksums\n",
    "from datetime import datetime\n",
    "\n",
    "%load_ext autoreload\n",
    "%autoreload 2"
   ]
  },
  {
   "cell_type": "code",
   "execution_count": 2,
   "id": "a2ba1d92-0736-4a89-949d-5f877a9f90a6",
   "metadata": {
    "tags": []
   },
   "outputs": [],
   "source": [
    "plt.rcParams['figure.dpi'] = 150"
   ]
  },
  {
   "cell_type": "code",
   "execution_count": 3,
   "id": "54a9bea2-0acc-47eb-bf27-85909ad8a34d",
   "metadata": {
    "tags": []
   },
   "outputs": [
    {
     "data": {
      "text/plain": [
       "polars.config.Config"
      ]
     },
     "execution_count": 3,
     "metadata": {},
     "output_type": "execute_result"
    }
   ],
   "source": [
    "pl.Config.set_fmt_str_lengths(100)"
   ]
  },
  {
   "cell_type": "code",
   "execution_count": 4,
   "id": "ad26162c-e67a-4def-8b5a-d3422e35e628",
   "metadata": {
    "tags": []
   },
   "outputs": [],
   "source": [
    "pn.theme_set(pn.theme_bw())\n",
    "pn.theme_update(dpi=150)"
   ]
  },
  {
   "cell_type": "code",
   "execution_count": 5,
   "id": "269121c2-f008-4b85-8d3c-37f9e293d5c9",
   "metadata": {
    "tags": []
   },
   "outputs": [],
   "source": [
    "# Files relevant to the GTEx analysis\n",
    "veff_path = '/s/project/promoter_prediction/kipoi_expression_prediction/veff/lm_tss_2kb.parquet/*.parquet'\n",
    "# GTEx variants\n",
    "variant_path = '/s/project/rep/processed/training_results_v16/gtex_v8_old_dna/private_variants.parquet/rare_variants.vcf.parquet/**/*.parquet'\n",
    "# abexp benchmark dataset\n",
    "gtex_benchmark_with_annotation_path = \"/s/project/rep/processed/training_results_v16/gtex_benchmark_with_annotation.parquet/*.parquet\""
   ]
  },
  {
   "cell_type": "markdown",
   "id": "79df0229-d2b9-43ca-bf70-deb6ab688864",
   "metadata": {
    "tags": []
   },
   "source": [
    "## Analysis"
   ]
  },
  {
   "cell_type": "markdown",
   "id": "082cde02-be21-4207-9455-7e4a32358457",
   "metadata": {},
   "source": [
    "We are only loading ensembl canonical transcripts for this analysis. So there is 1 transcript per gene!"
   ]
  },
  {
   "cell_type": "code",
   "execution_count": 6,
   "id": "71e4e1c1-2d43-4aea-9c4e-025df9dbe794",
   "metadata": {
    "tags": []
   },
   "outputs": [],
   "source": [
    "veff_transcript_ldf = (pl.scan_parquet(Path(veff_path)).\n",
    "                       select(pl.col(['tissue', 'gene_id', 'transcript_id', 'transcript_start', 'transcript_end']), \n",
    "                              pl.col('strand').cast(pl.Enum(['-', '+'])),\n",
    "                              pl.col(['chrom', 'variant_start', 'variant_end', 'ref', 'alt', 'veff_score',])).\n",
    "                       rename({'gene_id': 'gene', 'transcript_id': 'transcript'}).\n",
    "                       with_columns(pl.col('gene').str.replace(r'([^\\.]+)\\..+$', \"${1}\").alias('gene'),\n",
    "                                    pl.col('transcript').str.replace(r'([^\\.]+)\\..+$', \"${1}\").alias('transcript')))\n",
    "\n",
    "\n",
    "# It is possible that a gene comes multiple times (different versions)"
   ]
  },
  {
   "cell_type": "code",
   "execution_count": 7,
   "id": "cde38f58-ff43-495b-9994-ea34026c3cfd",
   "metadata": {
    "tags": []
   },
   "outputs": [],
   "source": [
    "variant_ldf = pl.scan_parquet(variant_path, hive_partitioning=True).select(['sampleId', 'chrom', 'start', 'end', 'ref', 'alt']).rename({'sampleId': 'individual',\n",
    "                                                                                                                'start': 'variant_start',\n",
    "                                                                                                                'end': 'variant_end'})"
   ]
  },
  {
   "cell_type": "code",
   "execution_count": 8,
   "id": "8d49e109-c20a-4fb2-805a-93ef6de6be94",
   "metadata": {
    "tags": []
   },
   "outputs": [],
   "source": [
    "training_benchmark_ldf = (pl.scan_parquet(gtex_benchmark_with_annotation_path)\n",
    "                          .select(['gene', 'individual', 'tissue', 'FDR', \n",
    "                                   'mu', 'zscore', 'l2fc'])\n",
    "                          .unique()\n",
    "                          .rename({'l2fc': 'l2fc_outrider'})\n",
    "                          .with_columns((pl.when(pl.col('FDR') > 0.05)\n",
    "                                         .then(pl.lit('normal'))\n",
    "                                         .otherwise(\n",
    "                                             pl.when(pl.col('zscore') > 0)\n",
    "                                             .then(pl.lit('overexpressed'))\n",
    "                                             .otherwise(\n",
    "                                                 pl.when(pl.col('zscore') < 0)\n",
    "                                                 .then(pl.lit('underexpressed'))\n",
    "                                                 # this should never be the case\n",
    "                                                 .otherwise(pl.lit('CHECK'))\n",
    "                                             ))).cast(pl.Enum(['underexpressed', 'normal', 'overexpressed'])).alias('outlier_state')))"
   ]
  },
  {
   "cell_type": "markdown",
   "id": "2218d4e2-dc97-4ed8-bd3c-41ec0f650c78",
   "metadata": {
    "tags": []
   },
   "source": [
    "### What is the enformer variant-effect-score distribution around the TSS?"
   ]
  },
  {
   "cell_type": "code",
   "execution_count": 9,
   "id": "197cf5f9-e149-451b-8152-d18f52db398e",
   "metadata": {},
   "outputs": [
    {
     "data": {
      "text/html": [
       "<div><style>\n",
       ".dataframe > thead > tr,\n",
       ".dataframe > tbody > tr {\n",
       "  text-align: right;\n",
       "  white-space: pre-wrap;\n",
       "}\n",
       "</style>\n",
       "<small>shape: (1, 2)</small><table border=\"1\" class=\"dataframe\"><thead><tr><th>upstream_tss</th><th>downstream_tss</th></tr><tr><td>i64</td><td>i64</td></tr></thead><tbody><tr><td>-2000</td><td>2001</td></tr></tbody></table></div>"
      ],
      "text/plain": [
       "shape: (1, 2)\n",
       "┌──────────────┬────────────────┐\n",
       "│ upstream_tss ┆ downstream_tss │\n",
       "│ ---          ┆ ---            │\n",
       "│ i64          ┆ i64            │\n",
       "╞══════════════╪════════════════╡\n",
       "│ -2000        ┆ 2001           │\n",
       "└──────────────┴────────────────┘"
      ]
     },
     "execution_count": 9,
     "metadata": {},
     "output_type": "execute_result"
    }
   ],
   "source": [
    "veff_transcript_ldf = veff_transcript_ldf. with_columns(tss_distance=(\n",
    "    pl.when(pl.col('strand') == '+')\n",
    "    .then(pl.col('variant_start') - pl.col('transcript_start'))\n",
    "    .otherwise(pl.col('transcript_end') - pl.col('variant_start'))\n",
    ")).with_columns(absolute_tss_distance=pl.col('tss_distance').abs(),\n",
    "                absolute_veff_score=pl.col('veff_score').abs())\n",
    "\n",
    "veff_transcript_ldf.select(upstream_tss=pl.col('tss_distance').min(), downstream_tss=pl.col('tss_distance').max()).collect()"
   ]
  },
  {
   "cell_type": "code",
   "execution_count": 10,
   "id": "11ff1a2b-bfe8-4525-9ed5-146ae4de1980",
   "metadata": {},
   "outputs": [],
   "source": [
    "upstream=2000\n",
    "downstream=2000\n",
    "\n",
    "# filter out variants out of this range\n",
    "veff_transcript_ldf = veff_transcript_ldf.filter((pl.col('tss_distance') >= -upstream) & (pl.col('tss_distance') <= downstream))\n",
    "\n",
    "# join tss variants with individuals\n",
    "veff_individual_ldf = (variant_ldf.join(veff_transcript_ldf, how='inner', on=['chrom', 'variant_start', 'variant_end', 'ref', 'alt']).\n",
    "                              select([\n",
    "                                  'individual', 'chrom', 'variant_start', 'variant_end', 'ref', 'alt',\n",
    "                                  'gene', 'transcript', 'strand', 'tss_distance', 'absolute_tss_distance', \n",
    "                                  'veff_score', 'absolute_veff_score'\n",
    "                                ])\n",
    "                             )"
   ]
  },
  {
   "cell_type": "code",
   "execution_count": 11,
   "id": "7ae94a77-0cb4-4e5c-b984-4f74cfd0134c",
   "metadata": {},
   "outputs": [],
   "source": [
    "# keep the variant with the signed maximum absolute enformer score for each individual\n",
    "veff_individual_ldf = veff_individual_ldf.sort('absolute_veff_score', descending=True). \\\n",
    "    group_by(['individual', 'gene', 'chrom', 'strand']). \\\n",
    "    agg(pl.col(['variant_start', 'variant_end', 'ref', 'alt', 'transcript', 'tss_distance', 'veff_score']).first())\n",
    "\n",
    "# join outrider with variants on individual\n",
    "veff_outrider_ldf = (\n",
    "    veff_individual_ldf\n",
    "    .join(training_benchmark_ldf, how='inner', on=['individual', 'gene'])\n",
    "    .select(['gene', 'tissue', 'individual', 'tss_distance', 'outlier_state', \n",
    "             'zscore', 'FDR', 'veff_score']))"
   ]
  },
  {
   "cell_type": "code",
   "execution_count": 12,
   "id": "8bcc5239-457e-4db1-8070-dc3ec85a842d",
   "metadata": {},
   "outputs": [
    {
     "data": {
      "text/plain": [
       "(99459917, 8)"
      ]
     },
     "execution_count": 12,
     "metadata": {},
     "output_type": "execute_result"
    }
   ],
   "source": [
    "training_benchmark_ldf.collect().shape"
   ]
  },
  {
   "cell_type": "code",
   "execution_count": 13,
   "id": "c6653cda-7511-40a7-b060-b54240f1f289",
   "metadata": {},
   "outputs": [
    {
     "data": {
      "text/plain": [
       "(1169408, 11)"
      ]
     },
     "execution_count": 13,
     "metadata": {},
     "output_type": "execute_result"
    }
   ],
   "source": [
    "veff_individual_ldf.collect().shape"
   ]
  },
  {
   "cell_type": "code",
   "execution_count": 14,
   "id": "33fcb8eb-a9cc-485e-8cdb-faa65218078c",
   "metadata": {},
   "outputs": [
    {
     "data": {
      "text/plain": [
       "(1271282, 15)"
      ]
     },
     "execution_count": 14,
     "metadata": {},
     "output_type": "execute_result"
    }
   ],
   "source": [
    "veff_transcript_ldf.collect().shape"
   ]
  },
  {
   "cell_type": "code",
   "execution_count": 15,
   "id": "c45f7015-2f38-4121-8516-cc6a24c64624",
   "metadata": {
    "tags": []
   },
   "outputs": [],
   "source": [
    "df = veff_outrider_ldf.collect()"
   ]
  },
  {
   "cell_type": "code",
   "execution_count": 16,
   "id": "1a7b4c80-8066-40e9-aa52-42a494fad893",
   "metadata": {},
   "outputs": [
    {
     "data": {
      "text/plain": [
       "(11332884, 8)"
      ]
     },
     "execution_count": 16,
     "metadata": {},
     "output_type": "execute_result"
    }
   ],
   "source": [
    "df.shape"
   ]
  },
  {
   "cell_type": "code",
   "execution_count": 17,
   "id": "d91f5356-bfda-4d3a-b942-61ff05ac46fb",
   "metadata": {},
   "outputs": [
    {
     "data": {
      "text/html": [
       "<div><style>\n",
       ".dataframe > thead > tr,\n",
       ".dataframe > tbody > tr {\n",
       "  text-align: right;\n",
       "  white-space: pre-wrap;\n",
       "}\n",
       "</style>\n",
       "<small>shape: (5, 8)</small><table border=\"1\" class=\"dataframe\"><thead><tr><th>gene</th><th>tissue</th><th>individual</th><th>tss_distance</th><th>outlier_state</th><th>zscore</th><th>FDR</th><th>veff_score</th></tr><tr><td>str</td><td>str</td><td>str</td><td>i64</td><td>enum</td><td>f32</td><td>f64</td><td>f64</td></tr></thead><tbody><tr><td>&quot;ENSG00000204131&quot;</td><td>&quot;Artery - Aorta&quot;</td><td>&quot;GTEX-Y3IK&quot;</td><td>926</td><td>&quot;normal&quot;</td><td>0.088653</td><td>1.0</td><td>-0.031</td></tr><tr><td>&quot;ENSG00000178927&quot;</td><td>&quot;Skin - Sun Exposed (Lower leg)&quot;</td><td>&quot;GTEX-1EU9M&quot;</td><td>-1576</td><td>&quot;normal&quot;</td><td>2.536026</td><td>1.0</td><td>-0.081665</td></tr><tr><td>&quot;ENSG00000178980&quot;</td><td>&quot;Minor Salivary Gland&quot;</td><td>&quot;GTEX-ZQUD&quot;</td><td>191</td><td>&quot;normal&quot;</td><td>2.287483</td><td>1.0</td><td>-0.01621</td></tr><tr><td>&quot;ENSG00000221988&quot;</td><td>&quot;Adipose - Subcutaneous&quot;</td><td>&quot;GTEX-14PJ2&quot;</td><td>1262</td><td>&quot;normal&quot;</td><td>-1.608454</td><td>1.0</td><td>-0.019317</td></tr><tr><td>&quot;ENSG00000131051&quot;</td><td>&quot;Small Intestine - Terminal Ileum&quot;</td><td>&quot;GTEX-WRHK&quot;</td><td>-1350</td><td>&quot;normal&quot;</td><td>-0.862461</td><td>1.0</td><td>-0.018581</td></tr></tbody></table></div>"
      ],
      "text/plain": [
       "shape: (5, 8)\n",
       "┌─────────────┬─────────────┬────────────┬─────────────┬────────────┬───────────┬─────┬────────────┐\n",
       "│ gene        ┆ tissue      ┆ individual ┆ tss_distanc ┆ outlier_st ┆ zscore    ┆ FDR ┆ veff_score │\n",
       "│ ---         ┆ ---         ┆ ---        ┆ e           ┆ ate        ┆ ---       ┆ --- ┆ ---        │\n",
       "│ str         ┆ str         ┆ str        ┆ ---         ┆ ---        ┆ f32       ┆ f64 ┆ f64        │\n",
       "│             ┆             ┆            ┆ i64         ┆ enum       ┆           ┆     ┆            │\n",
       "╞═════════════╪═════════════╪════════════╪═════════════╪════════════╪═══════════╪═════╪════════════╡\n",
       "│ ENSG0000020 ┆ Artery -    ┆ GTEX-Y3IK  ┆ 926         ┆ normal     ┆ 0.088653  ┆ 1.0 ┆ -0.031     │\n",
       "│ 4131        ┆ Aorta       ┆            ┆             ┆            ┆           ┆     ┆            │\n",
       "│ ENSG0000017 ┆ Skin - Sun  ┆ GTEX-1EU9M ┆ -1576       ┆ normal     ┆ 2.536026  ┆ 1.0 ┆ -0.081665  │\n",
       "│ 8927        ┆ Exposed     ┆            ┆             ┆            ┆           ┆     ┆            │\n",
       "│             ┆ (Lower leg) ┆            ┆             ┆            ┆           ┆     ┆            │\n",
       "│ ENSG0000017 ┆ Minor       ┆ GTEX-ZQUD  ┆ 191         ┆ normal     ┆ 2.287483  ┆ 1.0 ┆ -0.01621   │\n",
       "│ 8980        ┆ Salivary    ┆            ┆             ┆            ┆           ┆     ┆            │\n",
       "│             ┆ Gland       ┆            ┆             ┆            ┆           ┆     ┆            │\n",
       "│ ENSG0000022 ┆ Adipose -   ┆ GTEX-14PJ2 ┆ 1262        ┆ normal     ┆ -1.608454 ┆ 1.0 ┆ -0.019317  │\n",
       "│ 1988        ┆ Subcutaneou ┆            ┆             ┆            ┆           ┆     ┆            │\n",
       "│             ┆ s           ┆            ┆             ┆            ┆           ┆     ┆            │\n",
       "│ ENSG0000013 ┆ Small       ┆ GTEX-WRHK  ┆ -1350       ┆ normal     ┆ -0.862461 ┆ 1.0 ┆ -0.018581  │\n",
       "│ 1051        ┆ Intestine - ┆            ┆             ┆            ┆           ┆     ┆            │\n",
       "│             ┆ Terminal    ┆            ┆             ┆            ┆           ┆     ┆            │\n",
       "│             ┆ Ileum       ┆            ┆             ┆            ┆           ┆     ┆            │\n",
       "└─────────────┴─────────────┴────────────┴─────────────┴────────────┴───────────┴─────┴────────────┘"
      ]
     },
     "execution_count": 17,
     "metadata": {},
     "output_type": "execute_result"
    }
   ],
   "source": [
    "df.head()"
   ]
  },
  {
   "cell_type": "code",
   "execution_count": 18,
   "id": "5aa91767-2825-4f69-b18b-3892274f993e",
   "metadata": {},
   "outputs": [],
   "source": [
    "df_bac = df\n",
    "\n",
    "# tss_distance in bins\n",
    "bin_size=50\n",
    "cuts = list(range(-upstream + bin_size, downstream, bin_size))\n",
    "cut_labels = [str(x) for x in [-upstream, *cuts]]\n",
    "tss_distance_labels = {c: f'[{c}, {int(c) + bin_size})' for c in cut_labels}\n",
    "df = (df.with_columns(tss_distance_bin=(pl.col('tss_distance').cut(cuts, labels=cut_labels))\n",
    "                      .cast(pl.Enum(cut_labels)))\n",
    "      .with_columns(is_underexpressed=(pl.col('outlier_state') == 'underexpressed')))\n",
    "\n",
    "df = (df.with_columns(tss_distance_bin_label=pl.col(\"tss_distance_bin\").replace_strict(tss_distance_labels), \n",
    "                                                      bin_size=pl.lit(50)))"
   ]
  },
  {
   "cell_type": "code",
   "execution_count": 19,
   "id": "2c69ecaf-2f60-45ec-a254-0566a75341a9",
   "metadata": {},
   "outputs": [
    {
     "data": {
      "text/html": [
       "<div><style>\n",
       ".dataframe > thead > tr,\n",
       ".dataframe > tbody > tr {\n",
       "  text-align: right;\n",
       "  white-space: pre-wrap;\n",
       "}\n",
       "</style>\n",
       "<small>shape: (5, 12)</small><table border=\"1\" class=\"dataframe\"><thead><tr><th>gene</th><th>tissue</th><th>individual</th><th>tss_distance</th><th>outlier_state</th><th>zscore</th><th>FDR</th><th>veff_score</th><th>tss_distance_bin</th><th>is_underexpressed</th><th>tss_distance_bin_label</th><th>bin_size</th></tr><tr><td>str</td><td>str</td><td>str</td><td>i64</td><td>enum</td><td>f32</td><td>f64</td><td>f64</td><td>enum</td><td>bool</td><td>str</td><td>i32</td></tr></thead><tbody><tr><td>&quot;ENSG00000204131&quot;</td><td>&quot;Artery - Aorta&quot;</td><td>&quot;GTEX-Y3IK&quot;</td><td>926</td><td>&quot;normal&quot;</td><td>0.088653</td><td>1.0</td><td>-0.031</td><td>&quot;900&quot;</td><td>false</td><td>&quot;[900, 950)&quot;</td><td>50</td></tr><tr><td>&quot;ENSG00000178927&quot;</td><td>&quot;Skin - Sun Exposed (Lower leg)&quot;</td><td>&quot;GTEX-1EU9M&quot;</td><td>-1576</td><td>&quot;normal&quot;</td><td>2.536026</td><td>1.0</td><td>-0.081665</td><td>&quot;-1600&quot;</td><td>false</td><td>&quot;[-1600, -1550)&quot;</td><td>50</td></tr><tr><td>&quot;ENSG00000178980&quot;</td><td>&quot;Minor Salivary Gland&quot;</td><td>&quot;GTEX-ZQUD&quot;</td><td>191</td><td>&quot;normal&quot;</td><td>2.287483</td><td>1.0</td><td>-0.01621</td><td>&quot;150&quot;</td><td>false</td><td>&quot;[150, 200)&quot;</td><td>50</td></tr><tr><td>&quot;ENSG00000221988&quot;</td><td>&quot;Adipose - Subcutaneous&quot;</td><td>&quot;GTEX-14PJ2&quot;</td><td>1262</td><td>&quot;normal&quot;</td><td>-1.608454</td><td>1.0</td><td>-0.019317</td><td>&quot;1250&quot;</td><td>false</td><td>&quot;[1250, 1300)&quot;</td><td>50</td></tr><tr><td>&quot;ENSG00000131051&quot;</td><td>&quot;Small Intestine - Terminal Ileum&quot;</td><td>&quot;GTEX-WRHK&quot;</td><td>-1350</td><td>&quot;normal&quot;</td><td>-0.862461</td><td>1.0</td><td>-0.018581</td><td>&quot;-1400&quot;</td><td>false</td><td>&quot;[-1400, -1350)&quot;</td><td>50</td></tr></tbody></table></div>"
      ],
      "text/plain": [
       "shape: (5, 12)\n",
       "┌───────────┬───────────┬───────────┬───────────┬───┬───────────┬───────────┬───────────┬──────────┐\n",
       "│ gene      ┆ tissue    ┆ individua ┆ tss_dista ┆ … ┆ tss_dista ┆ is_undere ┆ tss_dista ┆ bin_size │\n",
       "│ ---       ┆ ---       ┆ l         ┆ nce       ┆   ┆ nce_bin   ┆ xpressed  ┆ nce_bin_l ┆ ---      │\n",
       "│ str       ┆ str       ┆ ---       ┆ ---       ┆   ┆ ---       ┆ ---       ┆ abel      ┆ i32      │\n",
       "│           ┆           ┆ str       ┆ i64       ┆   ┆ enum      ┆ bool      ┆ ---       ┆          │\n",
       "│           ┆           ┆           ┆           ┆   ┆           ┆           ┆ str       ┆          │\n",
       "╞═══════════╪═══════════╪═══════════╪═══════════╪═══╪═══════════╪═══════════╪═══════════╪══════════╡\n",
       "│ ENSG00000 ┆ Artery -  ┆ GTEX-Y3IK ┆ 926       ┆ … ┆ 900       ┆ false     ┆ [900,     ┆ 50       │\n",
       "│ 204131    ┆ Aorta     ┆           ┆           ┆   ┆           ┆           ┆ 950)      ┆          │\n",
       "│ ENSG00000 ┆ Skin -    ┆ GTEX-1EU9 ┆ -1576     ┆ … ┆ -1600     ┆ false     ┆ [-1600,   ┆ 50       │\n",
       "│ 178927    ┆ Sun       ┆ M         ┆           ┆   ┆           ┆           ┆ -1550)    ┆          │\n",
       "│           ┆ Exposed   ┆           ┆           ┆   ┆           ┆           ┆           ┆          │\n",
       "│           ┆ (Lower    ┆           ┆           ┆   ┆           ┆           ┆           ┆          │\n",
       "│           ┆ leg)      ┆           ┆           ┆   ┆           ┆           ┆           ┆          │\n",
       "│ ENSG00000 ┆ Minor     ┆ GTEX-ZQUD ┆ 191       ┆ … ┆ 150       ┆ false     ┆ [150,     ┆ 50       │\n",
       "│ 178980    ┆ Salivary  ┆           ┆           ┆   ┆           ┆           ┆ 200)      ┆          │\n",
       "│           ┆ Gland     ┆           ┆           ┆   ┆           ┆           ┆           ┆          │\n",
       "│ ENSG00000 ┆ Adipose - ┆ GTEX-14PJ ┆ 1262      ┆ … ┆ 1250      ┆ false     ┆ [1250,    ┆ 50       │\n",
       "│ 221988    ┆ Subcutane ┆ 2         ┆           ┆   ┆           ┆           ┆ 1300)     ┆          │\n",
       "│           ┆ ous       ┆           ┆           ┆   ┆           ┆           ┆           ┆          │\n",
       "│ ENSG00000 ┆ Small     ┆ GTEX-WRHK ┆ -1350     ┆ … ┆ -1400     ┆ false     ┆ [-1400,   ┆ 50       │\n",
       "│ 131051    ┆ Intestine ┆           ┆           ┆   ┆           ┆           ┆ -1350)    ┆          │\n",
       "│           ┆ -         ┆           ┆           ┆   ┆           ┆           ┆           ┆          │\n",
       "│           ┆ Terminal  ┆           ┆           ┆   ┆           ┆           ┆           ┆          │\n",
       "│           ┆ Ileum     ┆           ┆           ┆   ┆           ┆           ┆           ┆          │\n",
       "└───────────┴───────────┴───────────┴───────────┴───┴───────────┴───────────┴───────────┴──────────┘"
      ]
     },
     "execution_count": 19,
     "metadata": {},
     "output_type": "execute_result"
    }
   ],
   "source": [
    "df.head()"
   ]
  },
  {
   "cell_type": "code",
   "execution_count": 20,
   "id": "5f8b45c5-c91e-4153-b161-a178ca8be46f",
   "metadata": {},
   "outputs": [],
   "source": [
    "# set new bins\n",
    "# new_bins = [(-2000, -500),\n",
    "#             *[(i, i + 100) for i in range(-500, -100, 100)],\n",
    "#             (-100, -50),\n",
    "#             (-50, 0),\n",
    "#             (0, 50),\n",
    "#             (50, 100),\n",
    "#             *[(i, i + 100) for i in range(100, 500, 100)],]\n",
    "new_bins = [(-2000, -1000),\n",
    "            (-1000, -500),\n",
    "            *[(i, i + 100) for i in range(-500, -100, 100)],\n",
    "            (-100, -50),\n",
    "            (-50, 0),\n",
    "            (0, 50),\n",
    "            (50, 100),\n",
    "            *[(i, i + 100) for i in range(100, 500, 100)],\n",
    "            (500, 1000),\n",
    "            (1000, 2000),\n",
    "           ]\n",
    "new_bin_labels  = [f'[{start}, {stop})' for start, stop in new_bins]\n",
    "\n",
    "df_bac = df\n",
    "for start, stop in new_bins:\n",
    "    df = df.with_columns(tss_distance_bin_label=(pl.when((pl.col('tss_distance_bin').cast(pl.Int16) >= start) & (pl.col('tss_distance_bin').cast(pl.Int16) <= stop))\n",
    "                                                 .then(pl.lit(f'[{start}, {stop})'))                                  \n",
    "                                                 .otherwise(pl.col('tss_distance_bin_label'))),\n",
    "                         bin_size = (pl.when((pl.col('tss_distance_bin').cast(pl.Int16) >= start) & (pl.col('tss_distance_bin').cast(pl.Int16) < stop))\n",
    "                                     .then(pl.lit(stop - start))\n",
    "                                     .otherwise(pl.col('bin_size'))))\n",
    "\n",
    "df = df.with_columns(tss_distance_bin_label=pl.col('tss_distance_bin_label').cast(pl.Enum(new_bin_labels)))"
   ]
  },
  {
   "cell_type": "code",
   "execution_count": 21,
   "id": "9f1630e5-41a1-43cf-a454-a40d426d0eb2",
   "metadata": {},
   "outputs": [
    {
     "data": {
      "text/html": [
       "<div><style>\n",
       ".dataframe > thead > tr,\n",
       ".dataframe > tbody > tr {\n",
       "  text-align: right;\n",
       "  white-space: pre-wrap;\n",
       "}\n",
       "</style>\n",
       "<small>shape: (5, 12)</small><table border=\"1\" class=\"dataframe\"><thead><tr><th>gene</th><th>tissue</th><th>individual</th><th>tss_distance</th><th>outlier_state</th><th>zscore</th><th>FDR</th><th>veff_score</th><th>tss_distance_bin</th><th>is_underexpressed</th><th>tss_distance_bin_label</th><th>bin_size</th></tr><tr><td>str</td><td>str</td><td>str</td><td>i64</td><td>enum</td><td>f32</td><td>f64</td><td>f64</td><td>enum</td><td>bool</td><td>enum</td><td>i32</td></tr></thead><tbody><tr><td>&quot;ENSG00000204131&quot;</td><td>&quot;Artery - Aorta&quot;</td><td>&quot;GTEX-Y3IK&quot;</td><td>926</td><td>&quot;normal&quot;</td><td>0.088653</td><td>1.0</td><td>-0.031</td><td>&quot;900&quot;</td><td>false</td><td>&quot;[500, 1000)&quot;</td><td>500</td></tr><tr><td>&quot;ENSG00000178927&quot;</td><td>&quot;Skin - Sun Exposed (Lower leg)&quot;</td><td>&quot;GTEX-1EU9M&quot;</td><td>-1576</td><td>&quot;normal&quot;</td><td>2.536026</td><td>1.0</td><td>-0.081665</td><td>&quot;-1600&quot;</td><td>false</td><td>&quot;[-2000, -1000)&quot;</td><td>1000</td></tr><tr><td>&quot;ENSG00000178980&quot;</td><td>&quot;Minor Salivary Gland&quot;</td><td>&quot;GTEX-ZQUD&quot;</td><td>191</td><td>&quot;normal&quot;</td><td>2.287483</td><td>1.0</td><td>-0.01621</td><td>&quot;150&quot;</td><td>false</td><td>&quot;[100, 200)&quot;</td><td>100</td></tr><tr><td>&quot;ENSG00000221988&quot;</td><td>&quot;Adipose - Subcutaneous&quot;</td><td>&quot;GTEX-14PJ2&quot;</td><td>1262</td><td>&quot;normal&quot;</td><td>-1.608454</td><td>1.0</td><td>-0.019317</td><td>&quot;1250&quot;</td><td>false</td><td>&quot;[1000, 2000)&quot;</td><td>1000</td></tr><tr><td>&quot;ENSG00000131051&quot;</td><td>&quot;Small Intestine - Terminal Ileum&quot;</td><td>&quot;GTEX-WRHK&quot;</td><td>-1350</td><td>&quot;normal&quot;</td><td>-0.862461</td><td>1.0</td><td>-0.018581</td><td>&quot;-1400&quot;</td><td>false</td><td>&quot;[-2000, -1000)&quot;</td><td>1000</td></tr></tbody></table></div>"
      ],
      "text/plain": [
       "shape: (5, 12)\n",
       "┌───────────┬───────────┬───────────┬───────────┬───┬───────────┬───────────┬───────────┬──────────┐\n",
       "│ gene      ┆ tissue    ┆ individua ┆ tss_dista ┆ … ┆ tss_dista ┆ is_undere ┆ tss_dista ┆ bin_size │\n",
       "│ ---       ┆ ---       ┆ l         ┆ nce       ┆   ┆ nce_bin   ┆ xpressed  ┆ nce_bin_l ┆ ---      │\n",
       "│ str       ┆ str       ┆ ---       ┆ ---       ┆   ┆ ---       ┆ ---       ┆ abel      ┆ i32      │\n",
       "│           ┆           ┆ str       ┆ i64       ┆   ┆ enum      ┆ bool      ┆ ---       ┆          │\n",
       "│           ┆           ┆           ┆           ┆   ┆           ┆           ┆ enum      ┆          │\n",
       "╞═══════════╪═══════════╪═══════════╪═══════════╪═══╪═══════════╪═══════════╪═══════════╪══════════╡\n",
       "│ ENSG00000 ┆ Artery -  ┆ GTEX-Y3IK ┆ 926       ┆ … ┆ 900       ┆ false     ┆ [500,     ┆ 500      │\n",
       "│ 204131    ┆ Aorta     ┆           ┆           ┆   ┆           ┆           ┆ 1000)     ┆          │\n",
       "│ ENSG00000 ┆ Skin -    ┆ GTEX-1EU9 ┆ -1576     ┆ … ┆ -1600     ┆ false     ┆ [-2000,   ┆ 1000     │\n",
       "│ 178927    ┆ Sun       ┆ M         ┆           ┆   ┆           ┆           ┆ -1000)    ┆          │\n",
       "│           ┆ Exposed   ┆           ┆           ┆   ┆           ┆           ┆           ┆          │\n",
       "│           ┆ (Lower    ┆           ┆           ┆   ┆           ┆           ┆           ┆          │\n",
       "│           ┆ leg)      ┆           ┆           ┆   ┆           ┆           ┆           ┆          │\n",
       "│ ENSG00000 ┆ Minor     ┆ GTEX-ZQUD ┆ 191       ┆ … ┆ 150       ┆ false     ┆ [100,     ┆ 100      │\n",
       "│ 178980    ┆ Salivary  ┆           ┆           ┆   ┆           ┆           ┆ 200)      ┆          │\n",
       "│           ┆ Gland     ┆           ┆           ┆   ┆           ┆           ┆           ┆          │\n",
       "│ ENSG00000 ┆ Adipose - ┆ GTEX-14PJ ┆ 1262      ┆ … ┆ 1250      ┆ false     ┆ [1000,    ┆ 1000     │\n",
       "│ 221988    ┆ Subcutane ┆ 2         ┆           ┆   ┆           ┆           ┆ 2000)     ┆          │\n",
       "│           ┆ ous       ┆           ┆           ┆   ┆           ┆           ┆           ┆          │\n",
       "│ ENSG00000 ┆ Small     ┆ GTEX-WRHK ┆ -1350     ┆ … ┆ -1400     ┆ false     ┆ [-2000,   ┆ 1000     │\n",
       "│ 131051    ┆ Intestine ┆           ┆           ┆   ┆           ┆           ┆ -1000)    ┆          │\n",
       "│           ┆ -         ┆           ┆           ┆   ┆           ┆           ┆           ┆          │\n",
       "│           ┆ Terminal  ┆           ┆           ┆   ┆           ┆           ┆           ┆          │\n",
       "│           ┆ Ileum     ┆           ┆           ┆   ┆           ┆           ┆           ┆          │\n",
       "└───────────┴───────────┴───────────┴───────────┴───┴───────────┴───────────┴───────────┴──────────┘"
      ]
     },
     "execution_count": 21,
     "metadata": {},
     "output_type": "execute_result"
    }
   ],
   "source": [
    "df.head()"
   ]
  },
  {
   "cell_type": "code",
   "execution_count": 22,
   "id": "1c62b971-b44c-480e-86b8-419877835703",
   "metadata": {},
   "outputs": [],
   "source": [
    "# calculate counts per bins\n",
    "bin_count_df = (df.group_by(['outlier_state', 'tss_distance_bin_label', 'bin_size'])\n",
    "                .agg((pl.len()).alias('count')))\n",
    "\n",
    "# # calculate mean of each bin and then sum the means in each outlier state\n",
    "totals_df = (bin_count_df.group_by('outlier_state').agg(pl.sum('count').alias('total_count')))\n",
    "# # normalize each count by the mean calculated above\n",
    "enrichment_df = (bin_count_df.join(totals_df, on='outlier_state')\n",
    "                 .with_columns((pl.col('count') / pl.col('total_count')).alias('enrichment')))\n",
    "ci_low, ci_high = sm.stats.proportion_confint(enrichment_df[\"count\"], enrichment_df[\"total_count\"])\n",
    "enrichment_df = enrichment_df.with_columns(pl.Series(ci_low).alias('ci_low'), pl.Series(ci_high).alias('ci_high'))\n",
    "# normalize by bin size\n",
    "enrichment_df = enrichment_df.with_columns(enrichment = pl.col('enrichment') / pl.col('bin_size'),\n",
    "                                           ci_low = pl.col('ci_low') / pl.col('bin_size'),\n",
    "                                           ci_high = pl.col('ci_high') / pl.col('bin_size'))"
   ]
  },
  {
   "cell_type": "code",
   "execution_count": 23,
   "id": "751f498c-175a-42af-b000-b5a8f9b61111",
   "metadata": {},
   "outputs": [
    {
     "data": {
      "text/html": [
       "<div><style>\n",
       ".dataframe > thead > tr,\n",
       ".dataframe > tbody > tr {\n",
       "  text-align: right;\n",
       "  white-space: pre-wrap;\n",
       "}\n",
       "</style>\n",
       "<small>shape: (48, 8)</small><table border=\"1\" class=\"dataframe\"><thead><tr><th>outlier_state</th><th>tss_distance_bin_label</th><th>bin_size</th><th>count</th><th>total_count</th><th>enrichment</th><th>ci_low</th><th>ci_high</th></tr><tr><td>enum</td><td>enum</td><td>i32</td><td>u32</td><td>u32</td><td>f64</td><td>f64</td><td>f64</td></tr></thead><tbody><tr><td>&quot;overexpressed&quot;</td><td>&quot;[400, 500)&quot;</td><td>100</td><td>73</td><td>2599</td><td>0.000281</td><td>0.000217</td><td>0.000344</td></tr><tr><td>&quot;underexpressed&quot;</td><td>&quot;[-500, -400)&quot;</td><td>100</td><td>24</td><td>2962</td><td>0.000081</td><td>0.000049</td><td>0.000113</td></tr><tr><td>&quot;overexpressed&quot;</td><td>&quot;[1000, 2000)&quot;</td><td>1000</td><td>644</td><td>2599</td><td>0.000248</td><td>0.000231</td><td>0.000264</td></tr><tr><td>&quot;underexpressed&quot;</td><td>&quot;[50, 100)&quot;</td><td>50</td><td>97</td><td>2962</td><td>0.000655</td><td>0.000527</td><td>0.000783</td></tr><tr><td>&quot;normal&quot;</td><td>&quot;[-100, -50)&quot;</td><td>50</td><td>145962</td><td>11327323</td><td>0.000258</td><td>0.000256</td><td>0.000259</td></tr><tr><td>&hellip;</td><td>&hellip;</td><td>&hellip;</td><td>&hellip;</td><td>&hellip;</td><td>&hellip;</td><td>&hellip;</td><td>&hellip;</td></tr><tr><td>&quot;underexpressed&quot;</td><td>&quot;[-50, 0)&quot;</td><td>50</td><td>128</td><td>2962</td><td>0.000864</td><td>0.000718</td><td>0.001011</td></tr><tr><td>&quot;overexpressed&quot;</td><td>&quot;[-400, -300)&quot;</td><td>100</td><td>62</td><td>2599</td><td>0.000239</td><td>0.00018</td><td>0.000297</td></tr><tr><td>&quot;overexpressed&quot;</td><td>&quot;[-200, -100)&quot;</td><td>100</td><td>76</td><td>2599</td><td>0.000292</td><td>0.000228</td><td>0.000357</td></tr><tr><td>&quot;underexpressed&quot;</td><td>&quot;[-400, -300)&quot;</td><td>100</td><td>66</td><td>2962</td><td>0.000223</td><td>0.00017</td><td>0.000276</td></tr><tr><td>&quot;underexpressed&quot;</td><td>&quot;[-1000, -500)&quot;</td><td>500</td><td>264</td><td>2962</td><td>0.000178</td><td>0.000158</td><td>0.000199</td></tr></tbody></table></div>"
      ],
      "text/plain": [
       "shape: (48, 8)\n",
       "┌──────────────┬──────────────┬──────────┬────────┬─────────────┬────────────┬──────────┬──────────┐\n",
       "│ outlier_stat ┆ tss_distance ┆ bin_size ┆ count  ┆ total_count ┆ enrichment ┆ ci_low   ┆ ci_high  │\n",
       "│ e            ┆ _bin_label   ┆ ---      ┆ ---    ┆ ---         ┆ ---        ┆ ---      ┆ ---      │\n",
       "│ ---          ┆ ---          ┆ i32      ┆ u32    ┆ u32         ┆ f64        ┆ f64      ┆ f64      │\n",
       "│ enum         ┆ enum         ┆          ┆        ┆             ┆            ┆          ┆          │\n",
       "╞══════════════╪══════════════╪══════════╪════════╪═════════════╪════════════╪══════════╪══════════╡\n",
       "│ overexpresse ┆ [400, 500)   ┆ 100      ┆ 73     ┆ 2599        ┆ 0.000281   ┆ 0.000217 ┆ 0.000344 │\n",
       "│ d            ┆              ┆          ┆        ┆             ┆            ┆          ┆          │\n",
       "│ underexpress ┆ [-500, -400) ┆ 100      ┆ 24     ┆ 2962        ┆ 0.000081   ┆ 0.000049 ┆ 0.000113 │\n",
       "│ ed           ┆              ┆          ┆        ┆             ┆            ┆          ┆          │\n",
       "│ overexpresse ┆ [1000, 2000) ┆ 1000     ┆ 644    ┆ 2599        ┆ 0.000248   ┆ 0.000231 ┆ 0.000264 │\n",
       "│ d            ┆              ┆          ┆        ┆             ┆            ┆          ┆          │\n",
       "│ underexpress ┆ [50, 100)    ┆ 50       ┆ 97     ┆ 2962        ┆ 0.000655   ┆ 0.000527 ┆ 0.000783 │\n",
       "│ ed           ┆              ┆          ┆        ┆             ┆            ┆          ┆          │\n",
       "│ normal       ┆ [-100, -50)  ┆ 50       ┆ 145962 ┆ 11327323    ┆ 0.000258   ┆ 0.000256 ┆ 0.000259 │\n",
       "│ …            ┆ …            ┆ …        ┆ …      ┆ …           ┆ …          ┆ …        ┆ …        │\n",
       "│ underexpress ┆ [-50, 0)     ┆ 50       ┆ 128    ┆ 2962        ┆ 0.000864   ┆ 0.000718 ┆ 0.001011 │\n",
       "│ ed           ┆              ┆          ┆        ┆             ┆            ┆          ┆          │\n",
       "│ overexpresse ┆ [-400, -300) ┆ 100      ┆ 62     ┆ 2599        ┆ 0.000239   ┆ 0.00018  ┆ 0.000297 │\n",
       "│ d            ┆              ┆          ┆        ┆             ┆            ┆          ┆          │\n",
       "│ overexpresse ┆ [-200, -100) ┆ 100      ┆ 76     ┆ 2599        ┆ 0.000292   ┆ 0.000228 ┆ 0.000357 │\n",
       "│ d            ┆              ┆          ┆        ┆             ┆            ┆          ┆          │\n",
       "│ underexpress ┆ [-400, -300) ┆ 100      ┆ 66     ┆ 2962        ┆ 0.000223   ┆ 0.00017  ┆ 0.000276 │\n",
       "│ ed           ┆              ┆          ┆        ┆             ┆            ┆          ┆          │\n",
       "│ underexpress ┆ [-1000,      ┆ 500      ┆ 264    ┆ 2962        ┆ 0.000178   ┆ 0.000158 ┆ 0.000199 │\n",
       "│ ed           ┆ -500)        ┆          ┆        ┆             ┆            ┆          ┆          │\n",
       "└──────────────┴──────────────┴──────────┴────────┴─────────────┴────────────┴──────────┴──────────┘"
      ]
     },
     "execution_count": 23,
     "metadata": {},
     "output_type": "execute_result"
    }
   ],
   "source": [
    "enrichment_df"
   ]
  },
  {
   "cell_type": "code",
   "execution_count": 24,
   "id": "3825f050-83be-4290-a921-f99dc70e8120",
   "metadata": {},
   "outputs": [
    {
     "data": {
      "text/html": [
       "<div><style>\n",
       ".dataframe > thead > tr,\n",
       ".dataframe > tbody > tr {\n",
       "  text-align: right;\n",
       "  white-space: pre-wrap;\n",
       "}\n",
       "</style>\n",
       "<small>shape: (3, 2)</small><table border=\"1\" class=\"dataframe\"><thead><tr><th>outlier_state</th><th>total_count</th></tr><tr><td>enum</td><td>u32</td></tr></thead><tbody><tr><td>&quot;normal&quot;</td><td>11327323</td></tr><tr><td>&quot;overexpressed&quot;</td><td>2599</td></tr><tr><td>&quot;underexpressed&quot;</td><td>2962</td></tr></tbody></table></div>"
      ],
      "text/plain": [
       "shape: (3, 2)\n",
       "┌────────────────┬─────────────┐\n",
       "│ outlier_state  ┆ total_count │\n",
       "│ ---            ┆ ---         │\n",
       "│ enum           ┆ u32         │\n",
       "╞════════════════╪═════════════╡\n",
       "│ normal         ┆ 11327323    │\n",
       "│ overexpressed  ┆ 2599        │\n",
       "│ underexpressed ┆ 2962        │\n",
       "└────────────────┴─────────────┘"
      ]
     },
     "execution_count": 24,
     "metadata": {},
     "output_type": "execute_result"
    }
   ],
   "source": [
    "totals_df"
   ]
  },
  {
   "cell_type": "code",
   "execution_count": 25,
   "id": "2486ed23-7275-4e0f-9775-773db69379ac",
   "metadata": {},
   "outputs": [
    {
     "data": {
      "text/plain": [
       "PosixPath('.')"
      ]
     },
     "execution_count": 25,
     "metadata": {},
     "output_type": "execute_result"
    }
   ],
   "source": [
    "base_path = Path('.')\n",
    "df.write_parquet(base_path / 'promoter_veff_bin.parquet', use_pyarrow=True)\n",
    "enrichment_df.write_parquet(base_path / 'promoter_enrichment.parquet', use_pyarrow=True)\n",
    "base_path"
   ]
  },
  {
   "cell_type": "code",
   "execution_count": null,
   "id": "4b463f55-80ac-4d88-ac21-d9b9fbd63627",
   "metadata": {},
   "outputs": [],
   "source": []
  }
 ],
 "metadata": {
  "kernelspec": {
   "display_name": "Python [conda env:anaconda-kipoi-veff-analysis]",
   "language": "python",
   "name": "conda-env-anaconda-kipoi-veff-analysis-py"
  },
  "language_info": {
   "codemirror_mode": {
    "name": "ipython",
    "version": 3
   },
   "file_extension": ".py",
   "mimetype": "text/x-python",
   "name": "python",
   "nbconvert_exporter": "python",
   "pygments_lexer": "ipython3",
   "version": "3.12.6"
  }
 },
 "nbformat": 4,
 "nbformat_minor": 5
}
