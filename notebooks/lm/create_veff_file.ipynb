{
 "cells": [
  {
   "cell_type": "code",
   "execution_count": 1,
   "id": "9f394d26-f949-4ad5-93fd-a8588c4552f3",
   "metadata": {},
   "outputs": [],
   "source": [
    "import polars as pl"
   ]
  },
  {
   "cell_type": "markdown",
   "id": "b6ebca8b-f4fd-4cea-80d4-007dd77fb6b7",
   "metadata": {},
   "source": [
    "## Match LM scores to genes and write variant-effect files"
   ]
  },
  {
   "cell_type": "markdown",
   "id": "2e29b002-1e61-4606-97f5-0e37816ff5bb",
   "metadata": {},
   "source": [
    "### APAs"
   ]
  },
  {
   "cell_type": "code",
   "execution_count": 2,
   "id": "3e2b4dd6-0745-4f65-8756-d2d1c449be8a",
   "metadata": {},
   "outputs": [],
   "source": [
    "apa_variant_path = '/s/project/promoter_prediction/kipoi_expression_prediction/variant_tables/apa_variants.parquet'\n",
    "apa_influence_path = '/s/project/multispecies/fungi_code/ci_matrices/influence_score/data/apa_abex_inf_scores.tsv'"
   ]
  },
  {
   "cell_type": "code",
   "execution_count": 7,
   "id": "423cc8f4-dda3-4b85-a068-5988945ad820",
   "metadata": {},
   "outputs": [],
   "source": [
    "apa_variant_df = pl.read_parquet(apa_variant_path)\n",
    "apa_influence_df = pl.read_csv(apa_influence_path, separator='\\t'). \\\n",
    "    select(['Chromosome', 'variant_start', 'variant_end', 'ref', 'alt', 'influence_score']). \\\n",
    "    rename({'Chromosome': 'chrom',\n",
    "            'influence_score': 'veff_score'})"
   ]
  },
  {
   "cell_type": "code",
   "execution_count": 8,
   "id": "864146f1-567f-4cd8-a2bb-0fdc1d43b44e",
   "metadata": {},
   "outputs": [],
   "source": [
    "apa_df = apa_variant_df.join(apa_influence_df, on=['chrom', 'variant_start', 'variant_end', 'ref', 'alt'], how='inner'). \\\n",
    "    filter(~pl.col('veff_score').is_null())"
   ]
  },
  {
   "cell_type": "code",
   "execution_count": 9,
   "id": "61325819-8f10-47bf-9e46-242ddf6132fa",
   "metadata": {},
   "outputs": [
    {
     "data": {
      "text/plain": [
       "(3082141, 13)"
      ]
     },
     "execution_count": 9,
     "metadata": {},
     "output_type": "execute_result"
    }
   ],
   "source": [
    "apa_df.shape"
   ]
  },
  {
   "cell_type": "code",
   "execution_count": 10,
   "id": "eedcd950-05c9-4d29-82dd-d94f3049efac",
   "metadata": {},
   "outputs": [],
   "source": [
    "# group by gene\n",
    "apa_df = apa_df.sort(\"veff_score\", descending=True).group_by(['chrom', 'strand', 'gene_id', 'variant_start', 'variant_end', 'ref', 'alt', 'vcf_file']). \\\n",
    "    agg(pl.col(['pas_pos', 'cse_pos', 'pas_id', 'transcript_id', 'veff_score']).first())"
   ]
  },
  {
   "cell_type": "code",
   "execution_count": 22,
   "id": "d816a5b8-3ce7-440d-9318-89e8c1e8f561",
   "metadata": {},
   "outputs": [],
   "source": [
    "# make the score negative to match the pipeline (there is no directionality in the score)\n",
    "apa_df = apa_df.with_columns(veff_score=-pl.col('veff_score'))"
   ]
  },
  {
   "cell_type": "code",
   "execution_count": 23,
   "id": "c70024a2-10d4-4735-8aeb-16921c43344b",
   "metadata": {},
   "outputs": [],
   "source": [
    "apa_df.write_parquet('/s/project/promoter_prediction/kipoi_expression_prediction/veff/lm_apa.parquet')"
   ]
  },
  {
   "cell_type": "markdown",
   "id": "424f7900-dddd-4537-8771-865b7233c38c",
   "metadata": {},
   "source": [
    "### TSS"
   ]
  },
  {
   "cell_type": "code",
   "execution_count": 13,
   "id": "cbbc935d-c25b-492a-a52c-48efe39fbe69",
   "metadata": {},
   "outputs": [],
   "source": [
    "tss_variants_path = '/s/project/promoter_prediction/kipoi_expression_prediction/variant_tables/tss_variants.parquet'\n",
    "tss_influence_path = '/s/project/multispecies/fungi_code/ci_matrices/influence_score/data/tss_abex_inf_scores.tsv'"
   ]
  },
  {
   "cell_type": "code",
   "execution_count": 14,
   "id": "1cb175ad-6e29-4d70-b015-cddd4d9cd0c7",
   "metadata": {},
   "outputs": [],
   "source": [
    "tss_variant_df = pl.read_parquet(tss_variants_path)\n",
    "tss_influence_df = pl.read_csv(tss_influence_path, separator='\\t'). \\\n",
    "    select(['Chromosome', 'variant_start', 'variant_end', 'ref', 'alt', 'influence_score']). \\\n",
    "    rename({'Chromosome': 'chrom',\n",
    "            'influence_score': 'veff_score'})"
   ]
  },
  {
   "cell_type": "code",
   "execution_count": 15,
   "id": "14420d13-3cad-4b8a-93a2-89305bf7978e",
   "metadata": {},
   "outputs": [],
   "source": [
    "tss_df = tss_variant_df.join(tss_influence_df, on=['chrom', 'variant_start', 'variant_end', 'ref', 'alt'], how='inner'). \\\n",
    "    filter(~pl.col('veff_score').is_null())"
   ]
  },
  {
   "cell_type": "code",
   "execution_count": 16,
   "id": "f13e5da9-7444-4d60-b75c-cf72987269bc",
   "metadata": {},
   "outputs": [
    {
     "data": {
      "text/plain": [
       "(3739997, 13)"
      ]
     },
     "execution_count": 16,
     "metadata": {},
     "output_type": "execute_result"
    }
   ],
   "source": [
    "tss_df.shape"
   ]
  },
  {
   "cell_type": "code",
   "execution_count": 17,
   "id": "e58feae2-61e2-4311-8650-b3fc06d0751a",
   "metadata": {},
   "outputs": [],
   "source": [
    "# group by gene\n",
    "tss_df = tss_df.sort(\"veff_score\", descending=True).group_by(['chrom', 'strand', 'gene_id', 'variant_start', 'variant_end', 'ref', 'alt', 'vcf_file']). \\\n",
    "    agg(pl.col(['tss', 'transcript_start', 'transcript_end', 'transcript_id', 'veff_score']).first())"
   ]
  },
  {
   "cell_type": "code",
   "execution_count": 24,
   "id": "b82d23b0-181b-4653-b01c-13ae5825e72e",
   "metadata": {},
   "outputs": [],
   "source": [
    "# make the score negative to match the pipeline (there is no directionality in the score)\n",
    "tss_df = tss_df.with_columns(veff_score=-pl.col('veff_score'))"
   ]
  },
  {
   "cell_type": "code",
   "execution_count": 25,
   "id": "e7470b28-bf16-49a4-979e-d0e3f39f41c4",
   "metadata": {},
   "outputs": [
    {
     "data": {
      "text/html": [
       "<div><style>\n",
       ".dataframe > thead > tr,\n",
       ".dataframe > tbody > tr {\n",
       "  text-align: right;\n",
       "  white-space: pre-wrap;\n",
       "}\n",
       "</style>\n",
       "<small>shape: (1_271_419, 13)</small><table border=\"1\" class=\"dataframe\"><thead><tr><th>chrom</th><th>strand</th><th>gene_id</th><th>variant_start</th><th>variant_end</th><th>ref</th><th>alt</th><th>vcf_file</th><th>tss</th><th>transcript_start</th><th>transcript_end</th><th>transcript_id</th><th>veff_score</th></tr><tr><td>str</td><td>str</td><td>str</td><td>i64</td><td>i64</td><td>str</td><td>str</td><td>str</td><td>i64</td><td>i64</td><td>i64</td><td>str</td><td>f64</td></tr></thead><tbody><tr><td>&quot;chr7&quot;</td><td>&quot;+&quot;</td><td>&quot;ENSG00000174945.14_5&quot;</td><td>2744061</td><td>2744062</td><td>&quot;T&quot;</td><td>&quot;C&quot;</td><td>&quot;/s/project/rep/processed/train…</td><td>2742109</td><td>2742109</td><td>2748748</td><td>&quot;ENST00000480560.5_1&quot;</td><td>-0.024154</td></tr><tr><td>&quot;chr2&quot;</td><td>&quot;+&quot;</td><td>&quot;ENSG00000128654.14_7&quot;</td><td>177133343</td><td>177133344</td><td>&quot;T&quot;</td><td>&quot;C&quot;</td><td>&quot;/s/project/rep/processed/train…</td><td>177134122</td><td>177134122</td><td>177202753</td><td>&quot;ENST00000420864.5_1&quot;</td><td>-0.017664</td></tr><tr><td>&quot;chr5&quot;</td><td>&quot;+&quot;</td><td>&quot;ENSG00000145819.18_14&quot;</td><td>142289332</td><td>142289333</td><td>&quot;G&quot;</td><td>&quot;A&quot;</td><td>&quot;/s/project/rep/processed/train…</td><td>142288286</td><td>142288286</td><td>142421455</td><td>&quot;ENST00000469396.5_2&quot;</td><td>-0.013821</td></tr><tr><td>&quot;chr11&quot;</td><td>&quot;+&quot;</td><td>&quot;ENSG00000060749.16_10&quot;</td><td>32979058</td><td>32979059</td><td>&quot;A&quot;</td><td>&quot;G&quot;</td><td>&quot;/s/project/rep/processed/train…</td><td>32979351</td><td>32979351</td><td>32990614</td><td>&quot;ENST00000528034.1_1&quot;</td><td>-0.019565</td></tr><tr><td>&quot;chr12&quot;</td><td>&quot;+&quot;</td><td>&quot;ENSG00000118308.16_14&quot;</td><td>25189746</td><td>25189747</td><td>&quot;A&quot;</td><td>&quot;G&quot;</td><td>&quot;/s/project/rep/processed/train…</td><td>25188413</td><td>25188413</td><td>25190952</td><td>&quot;ENST00000555165.1_1&quot;</td><td>-0.015859</td></tr><tr><td>&hellip;</td><td>&hellip;</td><td>&hellip;</td><td>&hellip;</td><td>&hellip;</td><td>&hellip;</td><td>&hellip;</td><td>&hellip;</td><td>&hellip;</td><td>&hellip;</td><td>&hellip;</td><td>&hellip;</td><td>&hellip;</td></tr><tr><td>&quot;chr1&quot;</td><td>&quot;+&quot;</td><td>&quot;ENSG00000197056.11_7&quot;</td><td>35495773</td><td>35495774</td><td>&quot;T&quot;</td><td>&quot;C&quot;</td><td>&quot;/s/project/rep/processed/train…</td><td>35497772</td><td>35497772</td><td>35581225</td><td>&quot;ENST00000650449.1_2&quot;</td><td>-0.014425</td></tr><tr><td>&quot;chr1&quot;</td><td>&quot;+&quot;</td><td>&quot;ENSG00000152061.24_9&quot;</td><td>174606453</td><td>174606454</td><td>&quot;A&quot;</td><td>&quot;G&quot;</td><td>&quot;/s/project/rep/processed/train…</td><td>174606515</td><td>174606515</td><td>174674888</td><td>&quot;ENST00000474375.6_1&quot;</td><td>-0.017078</td></tr><tr><td>&quot;chr1&quot;</td><td>&quot;+&quot;</td><td>&quot;ENSG00000058453.17_9&quot;</td><td>17294467</td><td>17294468</td><td>&quot;G&quot;</td><td>&quot;C&quot;</td><td>&quot;/s/project/rep/processed/train…</td><td>17292522</td><td>17292522</td><td>17297237</td><td>&quot;ENST00000465021.5_1&quot;</td><td>-0.053038</td></tr><tr><td>&quot;chr8&quot;</td><td>&quot;-&quot;</td><td>&quot;ENSG00000129422.15_12&quot;</td><td>17512591</td><td>17512592</td><td>&quot;G&quot;</td><td>&quot;A&quot;</td><td>&quot;/s/project/rep/processed/train…</td><td>17512533</td><td>17504512</td><td>17512534</td><td>&quot;ENST00000523471.5_3&quot;</td><td>-0.037099</td></tr><tr><td>&quot;chr10&quot;</td><td>&quot;+&quot;</td><td>&quot;ENSG00000134453.16_7&quot;</td><td>6149659</td><td>6149660</td><td>&quot;G&quot;</td><td>&quot;A&quot;</td><td>&quot;/s/project/rep/processed/train…</td><td>6150450</td><td>6150450</td><td>6154386</td><td>&quot;ENST00000481147.1_1&quot;</td><td>-0.012678</td></tr></tbody></table></div>"
      ],
      "text/plain": [
       "shape: (1_271_419, 13)\n",
       "┌───────┬────────┬────────────┬────────────┬───┬────────────┬────────────┬────────────┬────────────┐\n",
       "│ chrom ┆ strand ┆ gene_id    ┆ variant_st ┆ … ┆ transcript ┆ transcript ┆ transcript ┆ veff_score │\n",
       "│ ---   ┆ ---    ┆ ---        ┆ art        ┆   ┆ _start     ┆ _end       ┆ _id        ┆ ---        │\n",
       "│ str   ┆ str    ┆ str        ┆ ---        ┆   ┆ ---        ┆ ---        ┆ ---        ┆ f64        │\n",
       "│       ┆        ┆            ┆ i64        ┆   ┆ i64        ┆ i64        ┆ str        ┆            │\n",
       "╞═══════╪════════╪════════════╪════════════╪═══╪════════════╪════════════╪════════════╪════════════╡\n",
       "│ chr7  ┆ +      ┆ ENSG000001 ┆ 2744061    ┆ … ┆ 2742109    ┆ 2748748    ┆ ENST000004 ┆ -0.024154  │\n",
       "│       ┆        ┆ 74945.14_5 ┆            ┆   ┆            ┆            ┆ 80560.5_1  ┆            │\n",
       "│ chr2  ┆ +      ┆ ENSG000001 ┆ 177133343  ┆ … ┆ 177134122  ┆ 177202753  ┆ ENST000004 ┆ -0.017664  │\n",
       "│       ┆        ┆ 28654.14_7 ┆            ┆   ┆            ┆            ┆ 20864.5_1  ┆            │\n",
       "│ chr5  ┆ +      ┆ ENSG000001 ┆ 142289332  ┆ … ┆ 142288286  ┆ 142421455  ┆ ENST000004 ┆ -0.013821  │\n",
       "│       ┆        ┆ 45819.18_1 ┆            ┆   ┆            ┆            ┆ 69396.5_2  ┆            │\n",
       "│       ┆        ┆ 4          ┆            ┆   ┆            ┆            ┆            ┆            │\n",
       "│ chr11 ┆ +      ┆ ENSG000000 ┆ 32979058   ┆ … ┆ 32979351   ┆ 32990614   ┆ ENST000005 ┆ -0.019565  │\n",
       "│       ┆        ┆ 60749.16_1 ┆            ┆   ┆            ┆            ┆ 28034.1_1  ┆            │\n",
       "│       ┆        ┆ 0          ┆            ┆   ┆            ┆            ┆            ┆            │\n",
       "│ chr12 ┆ +      ┆ ENSG000001 ┆ 25189746   ┆ … ┆ 25188413   ┆ 25190952   ┆ ENST000005 ┆ -0.015859  │\n",
       "│       ┆        ┆ 18308.16_1 ┆            ┆   ┆            ┆            ┆ 55165.1_1  ┆            │\n",
       "│       ┆        ┆ 4          ┆            ┆   ┆            ┆            ┆            ┆            │\n",
       "│ …     ┆ …      ┆ …          ┆ …          ┆ … ┆ …          ┆ …          ┆ …          ┆ …          │\n",
       "│ chr1  ┆ +      ┆ ENSG000001 ┆ 35495773   ┆ … ┆ 35497772   ┆ 35581225   ┆ ENST000006 ┆ -0.014425  │\n",
       "│       ┆        ┆ 97056.11_7 ┆            ┆   ┆            ┆            ┆ 50449.1_2  ┆            │\n",
       "│ chr1  ┆ +      ┆ ENSG000001 ┆ 174606453  ┆ … ┆ 174606515  ┆ 174674888  ┆ ENST000004 ┆ -0.017078  │\n",
       "│       ┆        ┆ 52061.24_9 ┆            ┆   ┆            ┆            ┆ 74375.6_1  ┆            │\n",
       "│ chr1  ┆ +      ┆ ENSG000000 ┆ 17294467   ┆ … ┆ 17292522   ┆ 17297237   ┆ ENST000004 ┆ -0.053038  │\n",
       "│       ┆        ┆ 58453.17_9 ┆            ┆   ┆            ┆            ┆ 65021.5_1  ┆            │\n",
       "│ chr8  ┆ -      ┆ ENSG000001 ┆ 17512591   ┆ … ┆ 17504512   ┆ 17512534   ┆ ENST000005 ┆ -0.037099  │\n",
       "│       ┆        ┆ 29422.15_1 ┆            ┆   ┆            ┆            ┆ 23471.5_3  ┆            │\n",
       "│       ┆        ┆ 2          ┆            ┆   ┆            ┆            ┆            ┆            │\n",
       "│ chr10 ┆ +      ┆ ENSG000001 ┆ 6149659    ┆ … ┆ 6150450    ┆ 6154386    ┆ ENST000004 ┆ -0.012678  │\n",
       "│       ┆        ┆ 34453.16_7 ┆            ┆   ┆            ┆            ┆ 81147.1_1  ┆            │\n",
       "└───────┴────────┴────────────┴────────────┴───┴────────────┴────────────┴────────────┴────────────┘"
      ]
     },
     "execution_count": 25,
     "metadata": {},
     "output_type": "execute_result"
    }
   ],
   "source": [
    "tss_df"
   ]
  },
  {
   "cell_type": "code",
   "execution_count": 26,
   "id": "93af22bd-da2f-4f93-9eb9-0d840a4f2802",
   "metadata": {},
   "outputs": [],
   "source": [
    "tss_df.write_parquet('/s/project/promoter_prediction/kipoi_expression_prediction/veff/lm_tss.parquet')"
   ]
  }
 ],
 "metadata": {
  "kernelspec": {
   "display_name": "Python [conda env:anaconda-kipoi-veff-analysis]",
   "language": "python",
   "name": "conda-env-anaconda-kipoi-veff-analysis-py"
  },
  "language_info": {
   "codemirror_mode": {
    "name": "ipython",
    "version": 3
   },
   "file_extension": ".py",
   "mimetype": "text/x-python",
   "name": "python",
   "nbconvert_exporter": "python",
   "pygments_lexer": "ipython3",
   "version": "3.12.6"
  }
 },
 "nbformat": 4,
 "nbformat_minor": 5
}
