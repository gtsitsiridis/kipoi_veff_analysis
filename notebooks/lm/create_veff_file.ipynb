{
 "cells": [
  {
   "cell_type": "code",
   "execution_count": 1,
   "id": "9f394d26-f949-4ad5-93fd-a8588c4552f3",
   "metadata": {},
   "outputs": [],
   "source": [
    "import polars as pl\n",
    "from pathlib import Path"
   ]
  },
  {
   "cell_type": "code",
   "execution_count": 2,
   "id": "c10c6273-bf5b-40da-8631-d3a69f2b3e10",
   "metadata": {},
   "outputs": [],
   "source": [
    "tissue_list = [\n",
    "    \"Adipose - Subcutaneous\",\n",
    "    \"Adipose - Visceral (Omentum)\",\n",
    "    \"Adrenal Gland\",\n",
    "    \"Artery - Aorta\",\n",
    "    \"Artery - Coronary\",\n",
    "    \"Artery - Tibial\",\n",
    "    \"Brain - Amygdala\",\n",
    "    \"Brain - Anterior cingulate cortex (BA24)\",\n",
    "    \"Brain - Caudate (basal ganglia)\",\n",
    "    \"Brain - Cerebellar Hemisphere\",\n",
    "    \"Brain - Cerebellum\",\n",
    "    \"Brain - Cortex\",\n",
    "    \"Brain - Frontal Cortex (BA9)\",\n",
    "    \"Brain - Hippocampus\",\n",
    "    \"Brain - Hypothalamus\",\n",
    "    \"Brain - Nucleus accumbens (basal ganglia)\",\n",
    "    \"Brain - Putamen (basal ganglia)\",\n",
    "    \"Brain - Spinal cord (cervical c-1)\",\n",
    "    \"Brain - Substantia nigra\",\n",
    "    \"Breast - Mammary Tissue\",\n",
    "    \"Cells - EBV-transformed lymphocytes\",\n",
    "    \"Cells - Cultured fibroblasts\",\n",
    "    \"Colon - Sigmoid\",\n",
    "    \"Colon - Transverse\",\n",
    "    \"Esophagus - Gastroesophageal Junction\",\n",
    "    \"Esophagus - Mucosa\",\n",
    "    \"Esophagus - Muscularis\",\n",
    "    \"Heart - Atrial Appendage\",\n",
    "    \"Heart - Left Ventricle\",\n",
    "    \"Kidney - Cortex\",\n",
    "    \"Liver\",\n",
    "    \"Lung\",\n",
    "    \"Minor Salivary Gland\",\n",
    "    \"Muscle - Skeletal\",\n",
    "    \"Nerve - Tibial\",\n",
    "    \"Ovary\",\n",
    "    \"Pancreas\",\n",
    "    \"Pituitary\",\n",
    "    \"Prostate\",\n",
    "    \"Skin - Not Sun Exposed (Suprapubic)\",\n",
    "    \"Skin - Sun Exposed (Lower leg)\",\n",
    "    \"Small Intestine - Terminal Ileum\",\n",
    "    \"Spleen\",\n",
    "    \"Stomach\",\n",
    "    \"Testis\",\n",
    "    \"Thyroid\",\n",
    "    \"Uterus\",\n",
    "    \"Vagina\",\n",
    "    \"Whole Blood\"\n",
    "]\n"
   ]
  },
  {
   "cell_type": "code",
   "execution_count": 3,
   "id": "a78e1ba5-4037-4295-b389-b0fe230756e7",
   "metadata": {},
   "outputs": [],
   "source": [
    "tissue_df = pl.DataFrame(dict(tissue=tissue_list))"
   ]
  },
  {
   "cell_type": "markdown",
   "id": "b6ebca8b-f4fd-4cea-80d4-007dd77fb6b7",
   "metadata": {},
   "source": [
    "## Match LM scores to genes and write variant-effect files"
   ]
  },
  {
   "cell_type": "markdown",
   "id": "2e29b002-1e61-4606-97f5-0e37816ff5bb",
   "metadata": {},
   "source": [
    "### APAs"
   ]
  },
  {
   "cell_type": "code",
   "execution_count": 4,
   "id": "3e2b4dd6-0745-4f65-8756-d2d1c449be8a",
   "metadata": {},
   "outputs": [],
   "source": [
    "apa_variant_path = '/s/project/promoter_prediction/kipoi_expression_prediction/variant_tables/apa_variants_2000_2000.parquet'\n",
    "apa_influence_path = '/s/project/multispecies/fungi_code/ci_matrices/influence_score/data/apa_abex_inf_scores.tsv'"
   ]
  },
  {
   "cell_type": "code",
   "execution_count": 5,
   "id": "423cc8f4-dda3-4b85-a068-5988945ad820",
   "metadata": {},
   "outputs": [],
   "source": [
    "apa_variant_df = pl.read_parquet(apa_variant_path)\n",
    "apa_influence_df = pl.read_csv(apa_influence_path, separator='\\t'). \\\n",
    "    select(['Chromosome', 'variant_start', 'variant_end', 'ref', 'alt', 'influence_score']). \\\n",
    "    rename({'Chromosome': 'chrom',\n",
    "            'influence_score': 'veff_score'})"
   ]
  },
  {
   "cell_type": "code",
   "execution_count": 6,
   "id": "864146f1-567f-4cd8-a2bb-0fdc1d43b44e",
   "metadata": {},
   "outputs": [],
   "source": [
    "apa_df = apa_variant_df.join(apa_influence_df, on=['chrom', 'variant_start', 'variant_end', 'ref', 'alt'], how='inner'). \\\n",
    "    filter(~pl.col('veff_score').is_null())"
   ]
  },
  {
   "cell_type": "code",
   "execution_count": 7,
   "id": "61325819-8f10-47bf-9e46-242ddf6132fa",
   "metadata": {},
   "outputs": [
    {
     "data": {
      "text/plain": [
       "(3082141, 13)"
      ]
     },
     "execution_count": 7,
     "metadata": {},
     "output_type": "execute_result"
    }
   ],
   "source": [
    "apa_df.shape"
   ]
  },
  {
   "cell_type": "code",
   "execution_count": 8,
   "id": "eedcd950-05c9-4d29-82dd-d94f3049efac",
   "metadata": {},
   "outputs": [],
   "source": [
    "# group by gene\n",
    "apa_df = apa_df.sort(\"veff_score\", descending=True).group_by(['chrom', 'strand', 'gene_id', 'variant_start', 'variant_end', 'ref', 'alt', 'vcf_file']). \\\n",
    "    agg(pl.col(['pas_pos', 'cse_pos', 'pas_id', 'transcript_id', 'veff_score']).first())"
   ]
  },
  {
   "cell_type": "code",
   "execution_count": 9,
   "id": "d816a5b8-3ce7-440d-9318-89e8c1e8f561",
   "metadata": {},
   "outputs": [],
   "source": [
    "# make the score negative to match the pipeline (there is no directionality in the score)\n",
    "# add empty tissue column\n",
    "apa_df = apa_df.with_columns(veff_score=-pl.col('veff_score'))"
   ]
  },
  {
   "cell_type": "code",
   "execution_count": 10,
   "id": "003847b6-ee23-4ba9-a8d7-6c943b2c7122",
   "metadata": {},
   "outputs": [
    {
     "data": {
      "text/html": [
       "<div><style>\n",
       ".dataframe > thead > tr,\n",
       ".dataframe > tbody > tr {\n",
       "  text-align: right;\n",
       "  white-space: pre-wrap;\n",
       "}\n",
       "</style>\n",
       "<small>shape: (65_933_077, 14)</small><table border=\"1\" class=\"dataframe\"><thead><tr><th>chrom</th><th>strand</th><th>gene_id</th><th>variant_start</th><th>variant_end</th><th>ref</th><th>alt</th><th>vcf_file</th><th>pas_pos</th><th>cse_pos</th><th>pas_id</th><th>transcript_id</th><th>veff_score</th><th>tissue</th></tr><tr><td>str</td><td>str</td><td>str</td><td>i64</td><td>i64</td><td>str</td><td>str</td><td>str</td><td>i64</td><td>i64</td><td>str</td><td>str</td><td>f64</td><td>str</td></tr></thead><tbody><tr><td>&quot;chr10&quot;</td><td>&quot;-&quot;</td><td>&quot;ENSG00000151474.23_13&quot;</td><td>13715311</td><td>13715312</td><td>&quot;A&quot;</td><td>&quot;G&quot;</td><td>&quot;/s/project/rep/processed/train…</td><td>13717037</td><td>13717067</td><td>&quot;chr10:13717037:-&quot;</td><td>&quot;ENST00000632570.1_6&quot;</td><td>-0.034918</td><td>&quot;Adipose - Subcutaneous&quot;</td></tr><tr><td>&quot;chr10&quot;</td><td>&quot;-&quot;</td><td>&quot;ENSG00000151474.23_13&quot;</td><td>13715311</td><td>13715312</td><td>&quot;A&quot;</td><td>&quot;G&quot;</td><td>&quot;/s/project/rep/processed/train…</td><td>13717037</td><td>13717067</td><td>&quot;chr10:13717037:-&quot;</td><td>&quot;ENST00000632570.1_6&quot;</td><td>-0.034918</td><td>&quot;Adipose - Visceral (Omentum)&quot;</td></tr><tr><td>&quot;chr10&quot;</td><td>&quot;-&quot;</td><td>&quot;ENSG00000151474.23_13&quot;</td><td>13715311</td><td>13715312</td><td>&quot;A&quot;</td><td>&quot;G&quot;</td><td>&quot;/s/project/rep/processed/train…</td><td>13717037</td><td>13717067</td><td>&quot;chr10:13717037:-&quot;</td><td>&quot;ENST00000632570.1_6&quot;</td><td>-0.034918</td><td>&quot;Adrenal Gland&quot;</td></tr><tr><td>&quot;chr10&quot;</td><td>&quot;-&quot;</td><td>&quot;ENSG00000151474.23_13&quot;</td><td>13715311</td><td>13715312</td><td>&quot;A&quot;</td><td>&quot;G&quot;</td><td>&quot;/s/project/rep/processed/train…</td><td>13717037</td><td>13717067</td><td>&quot;chr10:13717037:-&quot;</td><td>&quot;ENST00000632570.1_6&quot;</td><td>-0.034918</td><td>&quot;Artery - Aorta&quot;</td></tr><tr><td>&quot;chr10&quot;</td><td>&quot;-&quot;</td><td>&quot;ENSG00000151474.23_13&quot;</td><td>13715311</td><td>13715312</td><td>&quot;A&quot;</td><td>&quot;G&quot;</td><td>&quot;/s/project/rep/processed/train…</td><td>13717037</td><td>13717067</td><td>&quot;chr10:13717037:-&quot;</td><td>&quot;ENST00000632570.1_6&quot;</td><td>-0.034918</td><td>&quot;Artery - Coronary&quot;</td></tr><tr><td>&hellip;</td><td>&hellip;</td><td>&hellip;</td><td>&hellip;</td><td>&hellip;</td><td>&hellip;</td><td>&hellip;</td><td>&hellip;</td><td>&hellip;</td><td>&hellip;</td><td>&hellip;</td><td>&hellip;</td><td>&hellip;</td><td>&hellip;</td></tr><tr><td>&quot;chr3&quot;</td><td>&quot;+&quot;</td><td>&quot;ENSG00000058063.16_10&quot;</td><td>182614778</td><td>182614779</td><td>&quot;C&quot;</td><td>&quot;T&quot;</td><td>&quot;/s/project/rep/processed/train…</td><td>182615112</td><td>182615082</td><td>&quot;chr3:182615112:+&quot;</td><td>&quot;ENST00000482070.1_1&quot;</td><td>-0.031092</td><td>&quot;Testis&quot;</td></tr><tr><td>&quot;chr3&quot;</td><td>&quot;+&quot;</td><td>&quot;ENSG00000058063.16_10&quot;</td><td>182614778</td><td>182614779</td><td>&quot;C&quot;</td><td>&quot;T&quot;</td><td>&quot;/s/project/rep/processed/train…</td><td>182615112</td><td>182615082</td><td>&quot;chr3:182615112:+&quot;</td><td>&quot;ENST00000482070.1_1&quot;</td><td>-0.031092</td><td>&quot;Thyroid&quot;</td></tr><tr><td>&quot;chr3&quot;</td><td>&quot;+&quot;</td><td>&quot;ENSG00000058063.16_10&quot;</td><td>182614778</td><td>182614779</td><td>&quot;C&quot;</td><td>&quot;T&quot;</td><td>&quot;/s/project/rep/processed/train…</td><td>182615112</td><td>182615082</td><td>&quot;chr3:182615112:+&quot;</td><td>&quot;ENST00000482070.1_1&quot;</td><td>-0.031092</td><td>&quot;Uterus&quot;</td></tr><tr><td>&quot;chr3&quot;</td><td>&quot;+&quot;</td><td>&quot;ENSG00000058063.16_10&quot;</td><td>182614778</td><td>182614779</td><td>&quot;C&quot;</td><td>&quot;T&quot;</td><td>&quot;/s/project/rep/processed/train…</td><td>182615112</td><td>182615082</td><td>&quot;chr3:182615112:+&quot;</td><td>&quot;ENST00000482070.1_1&quot;</td><td>-0.031092</td><td>&quot;Vagina&quot;</td></tr><tr><td>&quot;chr3&quot;</td><td>&quot;+&quot;</td><td>&quot;ENSG00000058063.16_10&quot;</td><td>182614778</td><td>182614779</td><td>&quot;C&quot;</td><td>&quot;T&quot;</td><td>&quot;/s/project/rep/processed/train…</td><td>182615112</td><td>182615082</td><td>&quot;chr3:182615112:+&quot;</td><td>&quot;ENST00000482070.1_1&quot;</td><td>-0.031092</td><td>&quot;Whole Blood&quot;</td></tr></tbody></table></div>"
      ],
      "text/plain": [
       "shape: (65_933_077, 14)\n",
       "┌───────┬────────┬────────────┬────────────┬───┬────────────┬────────────┬────────────┬────────────┐\n",
       "│ chrom ┆ strand ┆ gene_id    ┆ variant_st ┆ … ┆ pas_id     ┆ transcript ┆ veff_score ┆ tissue     │\n",
       "│ ---   ┆ ---    ┆ ---        ┆ art        ┆   ┆ ---        ┆ _id        ┆ ---        ┆ ---        │\n",
       "│ str   ┆ str    ┆ str        ┆ ---        ┆   ┆ str        ┆ ---        ┆ f64        ┆ str        │\n",
       "│       ┆        ┆            ┆ i64        ┆   ┆            ┆ str        ┆            ┆            │\n",
       "╞═══════╪════════╪════════════╪════════════╪═══╪════════════╪════════════╪════════════╪════════════╡\n",
       "│ chr10 ┆ -      ┆ ENSG000001 ┆ 13715311   ┆ … ┆ chr10:1371 ┆ ENST000006 ┆ -0.034918  ┆ Adipose -  │\n",
       "│       ┆        ┆ 51474.23_1 ┆            ┆   ┆ 7037:-     ┆ 32570.1_6  ┆            ┆ Subcutaneo │\n",
       "│       ┆        ┆ 3          ┆            ┆   ┆            ┆            ┆            ┆ us         │\n",
       "│ chr10 ┆ -      ┆ ENSG000001 ┆ 13715311   ┆ … ┆ chr10:1371 ┆ ENST000006 ┆ -0.034918  ┆ Adipose -  │\n",
       "│       ┆        ┆ 51474.23_1 ┆            ┆   ┆ 7037:-     ┆ 32570.1_6  ┆            ┆ Visceral   │\n",
       "│       ┆        ┆ 3          ┆            ┆   ┆            ┆            ┆            ┆ (Omentum)  │\n",
       "│ chr10 ┆ -      ┆ ENSG000001 ┆ 13715311   ┆ … ┆ chr10:1371 ┆ ENST000006 ┆ -0.034918  ┆ Adrenal    │\n",
       "│       ┆        ┆ 51474.23_1 ┆            ┆   ┆ 7037:-     ┆ 32570.1_6  ┆            ┆ Gland      │\n",
       "│       ┆        ┆ 3          ┆            ┆   ┆            ┆            ┆            ┆            │\n",
       "│ chr10 ┆ -      ┆ ENSG000001 ┆ 13715311   ┆ … ┆ chr10:1371 ┆ ENST000006 ┆ -0.034918  ┆ Artery -   │\n",
       "│       ┆        ┆ 51474.23_1 ┆            ┆   ┆ 7037:-     ┆ 32570.1_6  ┆            ┆ Aorta      │\n",
       "│       ┆        ┆ 3          ┆            ┆   ┆            ┆            ┆            ┆            │\n",
       "│ chr10 ┆ -      ┆ ENSG000001 ┆ 13715311   ┆ … ┆ chr10:1371 ┆ ENST000006 ┆ -0.034918  ┆ Artery -   │\n",
       "│       ┆        ┆ 51474.23_1 ┆            ┆   ┆ 7037:-     ┆ 32570.1_6  ┆            ┆ Coronary   │\n",
       "│       ┆        ┆ 3          ┆            ┆   ┆            ┆            ┆            ┆            │\n",
       "│ …     ┆ …      ┆ …          ┆ …          ┆ … ┆ …          ┆ …          ┆ …          ┆ …          │\n",
       "│ chr3  ┆ +      ┆ ENSG000000 ┆ 182614778  ┆ … ┆ chr3:18261 ┆ ENST000004 ┆ -0.031092  ┆ Testis     │\n",
       "│       ┆        ┆ 58063.16_1 ┆            ┆   ┆ 5112:+     ┆ 82070.1_1  ┆            ┆            │\n",
       "│       ┆        ┆ 0          ┆            ┆   ┆            ┆            ┆            ┆            │\n",
       "│ chr3  ┆ +      ┆ ENSG000000 ┆ 182614778  ┆ … ┆ chr3:18261 ┆ ENST000004 ┆ -0.031092  ┆ Thyroid    │\n",
       "│       ┆        ┆ 58063.16_1 ┆            ┆   ┆ 5112:+     ┆ 82070.1_1  ┆            ┆            │\n",
       "│       ┆        ┆ 0          ┆            ┆   ┆            ┆            ┆            ┆            │\n",
       "│ chr3  ┆ +      ┆ ENSG000000 ┆ 182614778  ┆ … ┆ chr3:18261 ┆ ENST000004 ┆ -0.031092  ┆ Uterus     │\n",
       "│       ┆        ┆ 58063.16_1 ┆            ┆   ┆ 5112:+     ┆ 82070.1_1  ┆            ┆            │\n",
       "│       ┆        ┆ 0          ┆            ┆   ┆            ┆            ┆            ┆            │\n",
       "│ chr3  ┆ +      ┆ ENSG000000 ┆ 182614778  ┆ … ┆ chr3:18261 ┆ ENST000004 ┆ -0.031092  ┆ Vagina     │\n",
       "│       ┆        ┆ 58063.16_1 ┆            ┆   ┆ 5112:+     ┆ 82070.1_1  ┆            ┆            │\n",
       "│       ┆        ┆ 0          ┆            ┆   ┆            ┆            ┆            ┆            │\n",
       "│ chr3  ┆ +      ┆ ENSG000000 ┆ 182614778  ┆ … ┆ chr3:18261 ┆ ENST000004 ┆ -0.031092  ┆ Whole      │\n",
       "│       ┆        ┆ 58063.16_1 ┆            ┆   ┆ 5112:+     ┆ 82070.1_1  ┆            ┆ Blood      │\n",
       "│       ┆        ┆ 0          ┆            ┆   ┆            ┆            ┆            ┆            │\n",
       "└───────┴────────┴────────────┴────────────┴───┴────────────┴────────────┴────────────┴────────────┘"
      ]
     },
     "execution_count": 10,
     "metadata": {},
     "output_type": "execute_result"
    }
   ],
   "source": [
    "apa_df.join(tissue_df, how='cross')"
   ]
  },
  {
   "cell_type": "code",
   "execution_count": 11,
   "id": "123f28b7-a9c0-4b8a-a4b4-654366ee751a",
   "metadata": {
    "scrolled": true
   },
   "outputs": [],
   "source": [
    "apa_output_path = Path('/s/project/promoter_prediction/kipoi_expression_prediction/veff/lm_apa_2kb.parquet/')\n",
    "# apa_output_path.mkdir()\n",
    "for vcf_file, group_df in apa_df.join(tissue_df, how='cross').group_by(\"vcf_file\"):\n",
    "    vcf_file = Path(vcf_file[0]).name\n",
    "    group_df.select(pl.exclude('vcf_file')).write_parquet(apa_output_path / f'{vcf_file}.parquet')"
   ]
  },
  {
   "cell_type": "markdown",
   "id": "424f7900-dddd-4537-8771-865b7233c38c",
   "metadata": {},
   "source": [
    "### TSS"
   ]
  },
  {
   "cell_type": "code",
   "execution_count": 12,
   "id": "cbbc935d-c25b-492a-a52c-48efe39fbe69",
   "metadata": {},
   "outputs": [],
   "source": [
    "tss_variants_path = '/s/project/promoter_prediction/kipoi_expression_prediction/variant_tables/tss_variants_2000_2000.parquet'\n",
    "tss_influence_path = '/s/project/multispecies/fungi_code/ci_matrices/influence_score/data/tss_abex_inf_scores.tsv'"
   ]
  },
  {
   "cell_type": "code",
   "execution_count": 13,
   "id": "1cb175ad-6e29-4d70-b015-cddd4d9cd0c7",
   "metadata": {},
   "outputs": [],
   "source": [
    "tss_variant_df = pl.read_parquet(tss_variants_path)\n",
    "tss_influence_df = pl.read_csv(tss_influence_path, separator='\\t'). \\\n",
    "    select(['Chromosome', 'variant_start', 'variant_end', 'ref', 'alt', 'influence_score']). \\\n",
    "    rename({'Chromosome': 'chrom',\n",
    "            'influence_score': 'veff_score'})"
   ]
  },
  {
   "cell_type": "code",
   "execution_count": 14,
   "id": "14420d13-3cad-4b8a-93a2-89305bf7978e",
   "metadata": {},
   "outputs": [],
   "source": [
    "tss_df = tss_variant_df.join(tss_influence_df, on=['chrom', 'variant_start', 'variant_end', 'ref', 'alt'], how='inner'). \\\n",
    "    filter(~pl.col('veff_score').is_null())"
   ]
  },
  {
   "cell_type": "code",
   "execution_count": 15,
   "id": "f13e5da9-7444-4d60-b75c-cf72987269bc",
   "metadata": {},
   "outputs": [
    {
     "data": {
      "text/plain": [
       "(3739997, 13)"
      ]
     },
     "execution_count": 15,
     "metadata": {},
     "output_type": "execute_result"
    }
   ],
   "source": [
    "tss_df.shape"
   ]
  },
  {
   "cell_type": "code",
   "execution_count": 16,
   "id": "e58feae2-61e2-4311-8650-b3fc06d0751a",
   "metadata": {},
   "outputs": [],
   "source": [
    "# group by gene\n",
    "tss_df = tss_df.sort(\"veff_score\", descending=True).group_by(['chrom', 'strand', 'gene_id', 'variant_start', 'variant_end', 'ref', 'alt', 'vcf_file']). \\\n",
    "    agg(pl.col(['tss', 'transcript_start', 'transcript_end', 'transcript_id', 'veff_score']).first())"
   ]
  },
  {
   "cell_type": "code",
   "execution_count": 17,
   "id": "b82d23b0-181b-4653-b01c-13ae5825e72e",
   "metadata": {},
   "outputs": [],
   "source": [
    "# make the score negative to match the pipeline (there is no directionality in the score)\n",
    "tss_df = tss_df.with_columns(veff_score=-pl.col('veff_score'))"
   ]
  },
  {
   "cell_type": "code",
   "execution_count": 18,
   "id": "e7470b28-bf16-49a4-979e-d0e3f39f41c4",
   "metadata": {},
   "outputs": [
    {
     "data": {
      "text/html": [
       "<div><style>\n",
       ".dataframe > thead > tr,\n",
       ".dataframe > tbody > tr {\n",
       "  text-align: right;\n",
       "  white-space: pre-wrap;\n",
       "}\n",
       "</style>\n",
       "<small>shape: (62_299_531, 14)</small><table border=\"1\" class=\"dataframe\"><thead><tr><th>chrom</th><th>strand</th><th>gene_id</th><th>variant_start</th><th>variant_end</th><th>ref</th><th>alt</th><th>vcf_file</th><th>tss</th><th>transcript_start</th><th>transcript_end</th><th>transcript_id</th><th>veff_score</th><th>tissue</th></tr><tr><td>str</td><td>str</td><td>str</td><td>i64</td><td>i64</td><td>str</td><td>str</td><td>str</td><td>i64</td><td>i64</td><td>i64</td><td>str</td><td>f64</td><td>str</td></tr></thead><tbody><tr><td>&quot;chr8&quot;</td><td>&quot;+&quot;</td><td>&quot;ENSG00000168522.13_11&quot;</td><td>42941211</td><td>42941212</td><td>&quot;A&quot;</td><td>&quot;G&quot;</td><td>&quot;/s/project/rep/processed/train…</td><td>42939770</td><td>42939770</td><td>42940649</td><td>&quot;ENST00000528400.1_1&quot;</td><td>-0.017692</td><td>&quot;Adipose - Subcutaneous&quot;</td></tr><tr><td>&quot;chr8&quot;</td><td>&quot;+&quot;</td><td>&quot;ENSG00000168522.13_11&quot;</td><td>42941211</td><td>42941212</td><td>&quot;A&quot;</td><td>&quot;G&quot;</td><td>&quot;/s/project/rep/processed/train…</td><td>42939770</td><td>42939770</td><td>42940649</td><td>&quot;ENST00000528400.1_1&quot;</td><td>-0.017692</td><td>&quot;Adipose - Visceral (Omentum)&quot;</td></tr><tr><td>&quot;chr8&quot;</td><td>&quot;+&quot;</td><td>&quot;ENSG00000168522.13_11&quot;</td><td>42941211</td><td>42941212</td><td>&quot;A&quot;</td><td>&quot;G&quot;</td><td>&quot;/s/project/rep/processed/train…</td><td>42939770</td><td>42939770</td><td>42940649</td><td>&quot;ENST00000528400.1_1&quot;</td><td>-0.017692</td><td>&quot;Adrenal Gland&quot;</td></tr><tr><td>&quot;chr8&quot;</td><td>&quot;+&quot;</td><td>&quot;ENSG00000168522.13_11&quot;</td><td>42941211</td><td>42941212</td><td>&quot;A&quot;</td><td>&quot;G&quot;</td><td>&quot;/s/project/rep/processed/train…</td><td>42939770</td><td>42939770</td><td>42940649</td><td>&quot;ENST00000528400.1_1&quot;</td><td>-0.017692</td><td>&quot;Artery - Aorta&quot;</td></tr><tr><td>&quot;chr8&quot;</td><td>&quot;+&quot;</td><td>&quot;ENSG00000168522.13_11&quot;</td><td>42941211</td><td>42941212</td><td>&quot;A&quot;</td><td>&quot;G&quot;</td><td>&quot;/s/project/rep/processed/train…</td><td>42939770</td><td>42939770</td><td>42940649</td><td>&quot;ENST00000528400.1_1&quot;</td><td>-0.017692</td><td>&quot;Artery - Coronary&quot;</td></tr><tr><td>&hellip;</td><td>&hellip;</td><td>&hellip;</td><td>&hellip;</td><td>&hellip;</td><td>&hellip;</td><td>&hellip;</td><td>&hellip;</td><td>&hellip;</td><td>&hellip;</td><td>&hellip;</td><td>&hellip;</td><td>&hellip;</td><td>&hellip;</td></tr><tr><td>&quot;chr19&quot;</td><td>&quot;+&quot;</td><td>&quot;ENSG00000064961.19_7&quot;</td><td>3572414</td><td>3572415</td><td>&quot;G&quot;</td><td>&quot;A&quot;</td><td>&quot;/s/project/rep/processed/train…</td><td>3572774</td><td>3572774</td><td>3576942</td><td>&quot;ENST00000416526.5_3&quot;</td><td>-0.023363</td><td>&quot;Testis&quot;</td></tr><tr><td>&quot;chr19&quot;</td><td>&quot;+&quot;</td><td>&quot;ENSG00000064961.19_7&quot;</td><td>3572414</td><td>3572415</td><td>&quot;G&quot;</td><td>&quot;A&quot;</td><td>&quot;/s/project/rep/processed/train…</td><td>3572774</td><td>3572774</td><td>3576942</td><td>&quot;ENST00000416526.5_3&quot;</td><td>-0.023363</td><td>&quot;Thyroid&quot;</td></tr><tr><td>&quot;chr19&quot;</td><td>&quot;+&quot;</td><td>&quot;ENSG00000064961.19_7&quot;</td><td>3572414</td><td>3572415</td><td>&quot;G&quot;</td><td>&quot;A&quot;</td><td>&quot;/s/project/rep/processed/train…</td><td>3572774</td><td>3572774</td><td>3576942</td><td>&quot;ENST00000416526.5_3&quot;</td><td>-0.023363</td><td>&quot;Uterus&quot;</td></tr><tr><td>&quot;chr19&quot;</td><td>&quot;+&quot;</td><td>&quot;ENSG00000064961.19_7&quot;</td><td>3572414</td><td>3572415</td><td>&quot;G&quot;</td><td>&quot;A&quot;</td><td>&quot;/s/project/rep/processed/train…</td><td>3572774</td><td>3572774</td><td>3576942</td><td>&quot;ENST00000416526.5_3&quot;</td><td>-0.023363</td><td>&quot;Vagina&quot;</td></tr><tr><td>&quot;chr19&quot;</td><td>&quot;+&quot;</td><td>&quot;ENSG00000064961.19_7&quot;</td><td>3572414</td><td>3572415</td><td>&quot;G&quot;</td><td>&quot;A&quot;</td><td>&quot;/s/project/rep/processed/train…</td><td>3572774</td><td>3572774</td><td>3576942</td><td>&quot;ENST00000416526.5_3&quot;</td><td>-0.023363</td><td>&quot;Whole Blood&quot;</td></tr></tbody></table></div>"
      ],
      "text/plain": [
       "shape: (62_299_531, 14)\n",
       "┌───────┬────────┬────────────┬────────────┬───┬────────────┬────────────┬────────────┬────────────┐\n",
       "│ chrom ┆ strand ┆ gene_id    ┆ variant_st ┆ … ┆ transcript ┆ transcript ┆ veff_score ┆ tissue     │\n",
       "│ ---   ┆ ---    ┆ ---        ┆ art        ┆   ┆ _end       ┆ _id        ┆ ---        ┆ ---        │\n",
       "│ str   ┆ str    ┆ str        ┆ ---        ┆   ┆ ---        ┆ ---        ┆ f64        ┆ str        │\n",
       "│       ┆        ┆            ┆ i64        ┆   ┆ i64        ┆ str        ┆            ┆            │\n",
       "╞═══════╪════════╪════════════╪════════════╪═══╪════════════╪════════════╪════════════╪════════════╡\n",
       "│ chr8  ┆ +      ┆ ENSG000001 ┆ 42941211   ┆ … ┆ 42940649   ┆ ENST000005 ┆ -0.017692  ┆ Adipose -  │\n",
       "│       ┆        ┆ 68522.13_1 ┆            ┆   ┆            ┆ 28400.1_1  ┆            ┆ Subcutaneo │\n",
       "│       ┆        ┆ 1          ┆            ┆   ┆            ┆            ┆            ┆ us         │\n",
       "│ chr8  ┆ +      ┆ ENSG000001 ┆ 42941211   ┆ … ┆ 42940649   ┆ ENST000005 ┆ -0.017692  ┆ Adipose -  │\n",
       "│       ┆        ┆ 68522.13_1 ┆            ┆   ┆            ┆ 28400.1_1  ┆            ┆ Visceral   │\n",
       "│       ┆        ┆ 1          ┆            ┆   ┆            ┆            ┆            ┆ (Omentum)  │\n",
       "│ chr8  ┆ +      ┆ ENSG000001 ┆ 42941211   ┆ … ┆ 42940649   ┆ ENST000005 ┆ -0.017692  ┆ Adrenal    │\n",
       "│       ┆        ┆ 68522.13_1 ┆            ┆   ┆            ┆ 28400.1_1  ┆            ┆ Gland      │\n",
       "│       ┆        ┆ 1          ┆            ┆   ┆            ┆            ┆            ┆            │\n",
       "│ chr8  ┆ +      ┆ ENSG000001 ┆ 42941211   ┆ … ┆ 42940649   ┆ ENST000005 ┆ -0.017692  ┆ Artery -   │\n",
       "│       ┆        ┆ 68522.13_1 ┆            ┆   ┆            ┆ 28400.1_1  ┆            ┆ Aorta      │\n",
       "│       ┆        ┆ 1          ┆            ┆   ┆            ┆            ┆            ┆            │\n",
       "│ chr8  ┆ +      ┆ ENSG000001 ┆ 42941211   ┆ … ┆ 42940649   ┆ ENST000005 ┆ -0.017692  ┆ Artery -   │\n",
       "│       ┆        ┆ 68522.13_1 ┆            ┆   ┆            ┆ 28400.1_1  ┆            ┆ Coronary   │\n",
       "│       ┆        ┆ 1          ┆            ┆   ┆            ┆            ┆            ┆            │\n",
       "│ …     ┆ …      ┆ …          ┆ …          ┆ … ┆ …          ┆ …          ┆ …          ┆ …          │\n",
       "│ chr19 ┆ +      ┆ ENSG000000 ┆ 3572414    ┆ … ┆ 3576942    ┆ ENST000004 ┆ -0.023363  ┆ Testis     │\n",
       "│       ┆        ┆ 64961.19_7 ┆            ┆   ┆            ┆ 16526.5_3  ┆            ┆            │\n",
       "│ chr19 ┆ +      ┆ ENSG000000 ┆ 3572414    ┆ … ┆ 3576942    ┆ ENST000004 ┆ -0.023363  ┆ Thyroid    │\n",
       "│       ┆        ┆ 64961.19_7 ┆            ┆   ┆            ┆ 16526.5_3  ┆            ┆            │\n",
       "│ chr19 ┆ +      ┆ ENSG000000 ┆ 3572414    ┆ … ┆ 3576942    ┆ ENST000004 ┆ -0.023363  ┆ Uterus     │\n",
       "│       ┆        ┆ 64961.19_7 ┆            ┆   ┆            ┆ 16526.5_3  ┆            ┆            │\n",
       "│ chr19 ┆ +      ┆ ENSG000000 ┆ 3572414    ┆ … ┆ 3576942    ┆ ENST000004 ┆ -0.023363  ┆ Vagina     │\n",
       "│       ┆        ┆ 64961.19_7 ┆            ┆   ┆            ┆ 16526.5_3  ┆            ┆            │\n",
       "│ chr19 ┆ +      ┆ ENSG000000 ┆ 3572414    ┆ … ┆ 3576942    ┆ ENST000004 ┆ -0.023363  ┆ Whole      │\n",
       "│       ┆        ┆ 64961.19_7 ┆            ┆   ┆            ┆ 16526.5_3  ┆            ┆ Blood      │\n",
       "└───────┴────────┴────────────┴────────────┴───┴────────────┴────────────┴────────────┴────────────┘"
      ]
     },
     "execution_count": 18,
     "metadata": {},
     "output_type": "execute_result"
    }
   ],
   "source": [
    "tss_df.join(tissue_df, how='cross')"
   ]
  },
  {
   "cell_type": "code",
   "execution_count": 19,
   "id": "f5e78b86-11ba-41d4-be22-255a5a51f6da",
   "metadata": {},
   "outputs": [],
   "source": [
    "tss_output_path = Path('/s/project/promoter_prediction/kipoi_expression_prediction/veff/lm_tss_2kb.parquet/')\n",
    "# tss_output_path.mkdir()\n",
    "for vcf_file, group_df in tss_df.join(tissue_df, how='cross').group_by(\"vcf_file\"):\n",
    "    vcf_file = Path(vcf_file[0]).name\n",
    "    group_df.select(pl.exclude('vcf_file')).write_parquet(tss_output_path / f'{vcf_file}.parquet')"
   ]
  },
  {
   "cell_type": "markdown",
   "id": "2ae52de3-01e8-4378-967c-52d5a9abdcde",
   "metadata": {},
   "source": [
    "### Merged"
   ]
  },
  {
   "cell_type": "code",
   "execution_count": 20,
   "id": "7d55ebb9-2ece-412a-923e-2d581d9923b5",
   "metadata": {},
   "outputs": [
    {
     "data": {
      "text/html": [
       "<div><style>\n",
       ".dataframe > thead > tr,\n",
       ".dataframe > tbody > tr {\n",
       "  text-align: right;\n",
       "  white-space: pre-wrap;\n",
       "}\n",
       "</style>\n",
       "<small>shape: (1_271_419, 13)</small><table border=\"1\" class=\"dataframe\"><thead><tr><th>chrom</th><th>strand</th><th>gene_id</th><th>variant_start</th><th>variant_end</th><th>ref</th><th>alt</th><th>vcf_file</th><th>tss</th><th>transcript_start</th><th>transcript_end</th><th>transcript_id</th><th>veff_score</th></tr><tr><td>str</td><td>str</td><td>str</td><td>i64</td><td>i64</td><td>str</td><td>str</td><td>str</td><td>i64</td><td>i64</td><td>i64</td><td>str</td><td>f64</td></tr></thead><tbody><tr><td>&quot;chr8&quot;</td><td>&quot;+&quot;</td><td>&quot;ENSG00000168522.13_11&quot;</td><td>42941211</td><td>42941212</td><td>&quot;A&quot;</td><td>&quot;G&quot;</td><td>&quot;/s/project/rep/processed/train…</td><td>42939770</td><td>42939770</td><td>42940649</td><td>&quot;ENST00000528400.1_1&quot;</td><td>-0.017692</td></tr><tr><td>&quot;chr2&quot;</td><td>&quot;-&quot;</td><td>&quot;ENSG00000132031.13_7&quot;</td><td>20211183</td><td>20211184</td><td>&quot;A&quot;</td><td>&quot;G&quot;</td><td>&quot;/s/project/rep/processed/train…</td><td>20212425</td><td>20192797</td><td>20212426</td><td>&quot;ENST00000421259.2_3&quot;</td><td>-0.047707</td></tr><tr><td>&quot;chr7&quot;</td><td>&quot;-&quot;</td><td>&quot;ENSG00000155660.11_13&quot;</td><td>148705243</td><td>148705244</td><td>&quot;C&quot;</td><td>&quot;T&quot;</td><td>&quot;/s/project/rep/processed/train…</td><td>148703374</td><td>148701290</td><td>148703375</td><td>&quot;ENST00000466592.1_3&quot;</td><td>-0.041383</td></tr><tr><td>&quot;chr16&quot;</td><td>&quot;-&quot;</td><td>&quot;ENSG00000005339.15_13&quot;</td><td>3793638</td><td>3793639</td><td>&quot;T&quot;</td><td>&quot;C&quot;</td><td>&quot;/s/project/rep/processed/train…</td><td>3793468</td><td>3781911</td><td>3793469</td><td>&quot;ENST00000576720.1_3&quot;</td><td>-0.019578</td></tr><tr><td>&quot;chr19&quot;</td><td>&quot;+&quot;</td><td>&quot;ENSG00000088256.9_6&quot;</td><td>3114000</td><td>3114001</td><td>&quot;G&quot;</td><td>&quot;A&quot;</td><td>&quot;/s/project/rep/processed/train…</td><td>3113460</td><td>3113460</td><td>3121455</td><td>&quot;ENST00000587636.1_1&quot;</td><td>-0.023546</td></tr><tr><td>&hellip;</td><td>&hellip;</td><td>&hellip;</td><td>&hellip;</td><td>&hellip;</td><td>&hellip;</td><td>&hellip;</td><td>&hellip;</td><td>&hellip;</td><td>&hellip;</td><td>&hellip;</td><td>&hellip;</td><td>&hellip;</td></tr><tr><td>&quot;chr11&quot;</td><td>&quot;-&quot;</td><td>&quot;ENSG00000149243.17_9&quot;</td><td>75139698</td><td>75139699</td><td>&quot;T&quot;</td><td>&quot;C&quot;</td><td>&quot;/s/project/rep/processed/train…</td><td>75137883</td><td>75136550</td><td>75137884</td><td>&quot;ENST00000527491.1_3&quot;</td><td>-0.021486</td></tr><tr><td>&quot;chr15&quot;</td><td>&quot;-&quot;</td><td>&quot;ENSG00000273025.1_11&quot;</td><td>72614150</td><td>72614151</td><td>&quot;C&quot;</td><td>&quot;T&quot;</td><td>&quot;/s/project/rep/processed/train…</td><td>72612286</td><td>72559086</td><td>72612287</td><td>&quot;ENST00000569547.1_4&quot;</td><td>-0.017484</td></tr><tr><td>&quot;chr8&quot;</td><td>&quot;+&quot;</td><td>&quot;ENSG00000180938.6_6&quot;</td><td>125984519</td><td>125984520</td><td>&quot;C&quot;</td><td>&quot;T&quot;</td><td>&quot;/s/project/rep/processed/train…</td><td>125985536</td><td>125985536</td><td>125991631</td><td>&quot;ENST00000319286.6_3&quot;</td><td>-0.016123</td></tr><tr><td>&quot;chr11&quot;</td><td>&quot;+&quot;</td><td>&quot;ENSG00000177106.17_12&quot;</td><td>727896</td><td>727897</td><td>&quot;G&quot;</td><td>&quot;A&quot;</td><td>&quot;/s/project/rep/processed/train…</td><td>726080</td><td>726080</td><td>727113</td><td>&quot;ENST00000534679.1_1&quot;</td><td>-0.027457</td></tr><tr><td>&quot;chr19&quot;</td><td>&quot;+&quot;</td><td>&quot;ENSG00000064961.19_7&quot;</td><td>3572414</td><td>3572415</td><td>&quot;G&quot;</td><td>&quot;A&quot;</td><td>&quot;/s/project/rep/processed/train…</td><td>3572774</td><td>3572774</td><td>3576942</td><td>&quot;ENST00000416526.5_3&quot;</td><td>-0.023363</td></tr></tbody></table></div>"
      ],
      "text/plain": [
       "shape: (1_271_419, 13)\n",
       "┌───────┬────────┬────────────┬────────────┬───┬────────────┬────────────┬────────────┬────────────┐\n",
       "│ chrom ┆ strand ┆ gene_id    ┆ variant_st ┆ … ┆ transcript ┆ transcript ┆ transcript ┆ veff_score │\n",
       "│ ---   ┆ ---    ┆ ---        ┆ art        ┆   ┆ _start     ┆ _end       ┆ _id        ┆ ---        │\n",
       "│ str   ┆ str    ┆ str        ┆ ---        ┆   ┆ ---        ┆ ---        ┆ ---        ┆ f64        │\n",
       "│       ┆        ┆            ┆ i64        ┆   ┆ i64        ┆ i64        ┆ str        ┆            │\n",
       "╞═══════╪════════╪════════════╪════════════╪═══╪════════════╪════════════╪════════════╪════════════╡\n",
       "│ chr8  ┆ +      ┆ ENSG000001 ┆ 42941211   ┆ … ┆ 42939770   ┆ 42940649   ┆ ENST000005 ┆ -0.017692  │\n",
       "│       ┆        ┆ 68522.13_1 ┆            ┆   ┆            ┆            ┆ 28400.1_1  ┆            │\n",
       "│       ┆        ┆ 1          ┆            ┆   ┆            ┆            ┆            ┆            │\n",
       "│ chr2  ┆ -      ┆ ENSG000001 ┆ 20211183   ┆ … ┆ 20192797   ┆ 20212426   ┆ ENST000004 ┆ -0.047707  │\n",
       "│       ┆        ┆ 32031.13_7 ┆            ┆   ┆            ┆            ┆ 21259.2_3  ┆            │\n",
       "│ chr7  ┆ -      ┆ ENSG000001 ┆ 148705243  ┆ … ┆ 148701290  ┆ 148703375  ┆ ENST000004 ┆ -0.041383  │\n",
       "│       ┆        ┆ 55660.11_1 ┆            ┆   ┆            ┆            ┆ 66592.1_3  ┆            │\n",
       "│       ┆        ┆ 3          ┆            ┆   ┆            ┆            ┆            ┆            │\n",
       "│ chr16 ┆ -      ┆ ENSG000000 ┆ 3793638    ┆ … ┆ 3781911    ┆ 3793469    ┆ ENST000005 ┆ -0.019578  │\n",
       "│       ┆        ┆ 05339.15_1 ┆            ┆   ┆            ┆            ┆ 76720.1_3  ┆            │\n",
       "│       ┆        ┆ 3          ┆            ┆   ┆            ┆            ┆            ┆            │\n",
       "│ chr19 ┆ +      ┆ ENSG000000 ┆ 3114000    ┆ … ┆ 3113460    ┆ 3121455    ┆ ENST000005 ┆ -0.023546  │\n",
       "│       ┆        ┆ 88256.9_6  ┆            ┆   ┆            ┆            ┆ 87636.1_1  ┆            │\n",
       "│ …     ┆ …      ┆ …          ┆ …          ┆ … ┆ …          ┆ …          ┆ …          ┆ …          │\n",
       "│ chr11 ┆ -      ┆ ENSG000001 ┆ 75139698   ┆ … ┆ 75136550   ┆ 75137884   ┆ ENST000005 ┆ -0.021486  │\n",
       "│       ┆        ┆ 49243.17_9 ┆            ┆   ┆            ┆            ┆ 27491.1_3  ┆            │\n",
       "│ chr15 ┆ -      ┆ ENSG000002 ┆ 72614150   ┆ … ┆ 72559086   ┆ 72612287   ┆ ENST000005 ┆ -0.017484  │\n",
       "│       ┆        ┆ 73025.1_11 ┆            ┆   ┆            ┆            ┆ 69547.1_4  ┆            │\n",
       "│ chr8  ┆ +      ┆ ENSG000001 ┆ 125984519  ┆ … ┆ 125985536  ┆ 125991631  ┆ ENST000003 ┆ -0.016123  │\n",
       "│       ┆        ┆ 80938.6_6  ┆            ┆   ┆            ┆            ┆ 19286.6_3  ┆            │\n",
       "│ chr11 ┆ +      ┆ ENSG000001 ┆ 727896     ┆ … ┆ 726080     ┆ 727113     ┆ ENST000005 ┆ -0.027457  │\n",
       "│       ┆        ┆ 77106.17_1 ┆            ┆   ┆            ┆            ┆ 34679.1_1  ┆            │\n",
       "│       ┆        ┆ 2          ┆            ┆   ┆            ┆            ┆            ┆            │\n",
       "│ chr19 ┆ +      ┆ ENSG000000 ┆ 3572414    ┆ … ┆ 3572774    ┆ 3576942    ┆ ENST000004 ┆ -0.023363  │\n",
       "│       ┆        ┆ 64961.19_7 ┆            ┆   ┆            ┆            ┆ 16526.5_3  ┆            │\n",
       "└───────┴────────┴────────────┴────────────┴───┴────────────┴────────────┴────────────┴────────────┘"
      ]
     },
     "execution_count": 20,
     "metadata": {},
     "output_type": "execute_result"
    }
   ],
   "source": [
    "tss_df"
   ]
  },
  {
   "cell_type": "code",
   "execution_count": 21,
   "id": "1955762e-f652-44df-838f-bbe649676b68",
   "metadata": {},
   "outputs": [
    {
     "data": {
      "text/html": [
       "<div><style>\n",
       ".dataframe > thead > tr,\n",
       ".dataframe > tbody > tr {\n",
       "  text-align: right;\n",
       "  white-space: pre-wrap;\n",
       "}\n",
       "</style>\n",
       "<small>shape: (1_345_573, 13)</small><table border=\"1\" class=\"dataframe\"><thead><tr><th>chrom</th><th>strand</th><th>gene_id</th><th>variant_start</th><th>variant_end</th><th>ref</th><th>alt</th><th>vcf_file</th><th>pas_pos</th><th>cse_pos</th><th>pas_id</th><th>transcript_id</th><th>veff_score</th></tr><tr><td>str</td><td>str</td><td>str</td><td>i64</td><td>i64</td><td>str</td><td>str</td><td>str</td><td>i64</td><td>i64</td><td>str</td><td>str</td><td>f64</td></tr></thead><tbody><tr><td>&quot;chr10&quot;</td><td>&quot;-&quot;</td><td>&quot;ENSG00000151474.23_13&quot;</td><td>13715311</td><td>13715312</td><td>&quot;A&quot;</td><td>&quot;G&quot;</td><td>&quot;/s/project/rep/processed/train…</td><td>13717037</td><td>13717067</td><td>&quot;chr10:13717037:-&quot;</td><td>&quot;ENST00000632570.1_6&quot;</td><td>-0.034918</td></tr><tr><td>&quot;chr10&quot;</td><td>&quot;+&quot;</td><td>&quot;ENSG00000171798.19_8&quot;</td><td>135024649</td><td>135024650</td><td>&quot;G&quot;</td><td>&quot;A&quot;</td><td>&quot;/s/project/rep/processed/train…</td><td>135024227</td><td>135024197</td><td>&quot;chr10:135024227:+&quot;</td><td>&quot;ENST00000682309.1_2&quot;</td><td>-0.049111</td></tr><tr><td>&quot;chr2&quot;</td><td>&quot;+&quot;</td><td>&quot;ENSG00000115718.18_11&quot;</td><td>128178841</td><td>128178842</td><td>&quot;C&quot;</td><td>&quot;T&quot;</td><td>&quot;/s/project/rep/processed/train…</td><td>128180672</td><td>128180642</td><td>&quot;chr2:128180672:+&quot;</td><td>&quot;ENST00000474030.5_2&quot;</td><td>-0.04467</td></tr><tr><td>&quot;chr22&quot;</td><td>&quot;-&quot;</td><td>&quot;ENSG00000015475.19_11&quot;</td><td>18222938</td><td>18222939</td><td>&quot;G&quot;</td><td>&quot;A&quot;</td><td>&quot;/s/project/rep/processed/train…</td><td>18222213</td><td>18222243</td><td>&quot;chr22:18222213:-&quot;</td><td>&quot;ENST00000552886.1_3&quot;</td><td>-0.039908</td></tr><tr><td>&quot;chr11&quot;</td><td>&quot;+&quot;</td><td>&quot;ENSG00000165973.19_9&quot;</td><td>21251222</td><td>21251223</td><td>&quot;G&quot;</td><td>&quot;A&quot;</td><td>&quot;/s/project/rep/processed/train…</td><td>21250933</td><td>21250903</td><td>&quot;chr11:21250933:+&quot;</td><td>&quot;ENST00000530672.1_1&quot;</td><td>-0.037994</td></tr><tr><td>&hellip;</td><td>&hellip;</td><td>&hellip;</td><td>&hellip;</td><td>&hellip;</td><td>&hellip;</td><td>&hellip;</td><td>&hellip;</td><td>&hellip;</td><td>&hellip;</td><td>&hellip;</td><td>&hellip;</td><td>&hellip;</td></tr><tr><td>&quot;chr4&quot;</td><td>&quot;-&quot;</td><td>&quot;ENSG00000164093.18_13&quot;</td><td>111542625</td><td>111542626</td><td>&quot;G&quot;</td><td>&quot;A&quot;</td><td>&quot;/s/project/rep/processed/train…</td><td>111541432</td><td>111541462</td><td>&quot;chr4:111541432:-&quot;</td><td>&quot;ENST00000557119.2_3&quot;</td><td>-0.038825</td></tr><tr><td>&quot;chr11&quot;</td><td>&quot;+&quot;</td><td>&quot;ENSG00000110330.10_12&quot;</td><td>102248707</td><td>102248708</td><td>&quot;T&quot;</td><td>&quot;G&quot;</td><td>&quot;/s/project/rep/processed/train…</td><td>102248327</td><td>102248297</td><td>&quot;chr11:102248327:+&quot;</td><td>&quot;ENST00000534130.1_1&quot;</td><td>-0.047017</td></tr><tr><td>&quot;chr1&quot;</td><td>&quot;-&quot;</td><td>&quot;ENSG00000117090.16_10&quot;</td><td>160576287</td><td>160576288</td><td>&quot;G&quot;</td><td>&quot;A&quot;</td><td>&quot;/s/project/rep/processed/train…</td><td>160577895</td><td>160577925</td><td>&quot;chr1:160577895:-&quot;</td><td>&quot;ENST00000302035.11_9&quot;</td><td>-0.064608</td></tr><tr><td>&quot;chr17&quot;</td><td>&quot;-&quot;</td><td>&quot;ENSG00000132514.14_10&quot;</td><td>6979476</td><td>6979477</td><td>&quot;C&quot;</td><td>&quot;T&quot;</td><td>&quot;/s/project/rep/processed/train…</td><td>6977855</td><td>6977885</td><td>&quot;chr17:6977855:-&quot;</td><td>&quot;ENST00000416562.7_6;ENST000002…</td><td>-0.04321</td></tr><tr><td>&quot;chr3&quot;</td><td>&quot;+&quot;</td><td>&quot;ENSG00000058063.16_10&quot;</td><td>182614778</td><td>182614779</td><td>&quot;C&quot;</td><td>&quot;T&quot;</td><td>&quot;/s/project/rep/processed/train…</td><td>182615112</td><td>182615082</td><td>&quot;chr3:182615112:+&quot;</td><td>&quot;ENST00000482070.1_1&quot;</td><td>-0.031092</td></tr></tbody></table></div>"
      ],
      "text/plain": [
       "shape: (1_345_573, 13)\n",
       "┌───────┬────────┬─────────────┬────────────┬───┬───────────┬────────────┬────────────┬────────────┐\n",
       "│ chrom ┆ strand ┆ gene_id     ┆ variant_st ┆ … ┆ cse_pos   ┆ pas_id     ┆ transcript ┆ veff_score │\n",
       "│ ---   ┆ ---    ┆ ---         ┆ art        ┆   ┆ ---       ┆ ---        ┆ _id        ┆ ---        │\n",
       "│ str   ┆ str    ┆ str         ┆ ---        ┆   ┆ i64       ┆ str        ┆ ---        ┆ f64        │\n",
       "│       ┆        ┆             ┆ i64        ┆   ┆           ┆            ┆ str        ┆            │\n",
       "╞═══════╪════════╪═════════════╪════════════╪═══╪═══════════╪════════════╪════════════╪════════════╡\n",
       "│ chr10 ┆ -      ┆ ENSG0000015 ┆ 13715311   ┆ … ┆ 13717067  ┆ chr10:1371 ┆ ENST000006 ┆ -0.034918  │\n",
       "│       ┆        ┆ 1474.23_13  ┆            ┆   ┆           ┆ 7037:-     ┆ 32570.1_6  ┆            │\n",
       "│ chr10 ┆ +      ┆ ENSG0000017 ┆ 135024649  ┆ … ┆ 135024197 ┆ chr10:1350 ┆ ENST000006 ┆ -0.049111  │\n",
       "│       ┆        ┆ 1798.19_8   ┆            ┆   ┆           ┆ 24227:+    ┆ 82309.1_2  ┆            │\n",
       "│ chr2  ┆ +      ┆ ENSG0000011 ┆ 128178841  ┆ … ┆ 128180642 ┆ chr2:12818 ┆ ENST000004 ┆ -0.04467   │\n",
       "│       ┆        ┆ 5718.18_11  ┆            ┆   ┆           ┆ 0672:+     ┆ 74030.5_2  ┆            │\n",
       "│ chr22 ┆ -      ┆ ENSG0000001 ┆ 18222938   ┆ … ┆ 18222243  ┆ chr22:1822 ┆ ENST000005 ┆ -0.039908  │\n",
       "│       ┆        ┆ 5475.19_11  ┆            ┆   ┆           ┆ 2213:-     ┆ 52886.1_3  ┆            │\n",
       "│ chr11 ┆ +      ┆ ENSG0000016 ┆ 21251222   ┆ … ┆ 21250903  ┆ chr11:2125 ┆ ENST000005 ┆ -0.037994  │\n",
       "│       ┆        ┆ 5973.19_9   ┆            ┆   ┆           ┆ 0933:+     ┆ 30672.1_1  ┆            │\n",
       "│ …     ┆ …      ┆ …           ┆ …          ┆ … ┆ …         ┆ …          ┆ …          ┆ …          │\n",
       "│ chr4  ┆ -      ┆ ENSG0000016 ┆ 111542625  ┆ … ┆ 111541462 ┆ chr4:11154 ┆ ENST000005 ┆ -0.038825  │\n",
       "│       ┆        ┆ 4093.18_13  ┆            ┆   ┆           ┆ 1432:-     ┆ 57119.2_3  ┆            │\n",
       "│ chr11 ┆ +      ┆ ENSG0000011 ┆ 102248707  ┆ … ┆ 102248297 ┆ chr11:1022 ┆ ENST000005 ┆ -0.047017  │\n",
       "│       ┆        ┆ 0330.10_12  ┆            ┆   ┆           ┆ 48327:+    ┆ 34130.1_1  ┆            │\n",
       "│ chr1  ┆ -      ┆ ENSG0000011 ┆ 160576287  ┆ … ┆ 160577925 ┆ chr1:16057 ┆ ENST000003 ┆ -0.064608  │\n",
       "│       ┆        ┆ 7090.16_10  ┆            ┆   ┆           ┆ 7895:-     ┆ 02035.11_9 ┆            │\n",
       "│ chr17 ┆ -      ┆ ENSG0000013 ┆ 6979476    ┆ … ┆ 6977885   ┆ chr17:6977 ┆ ENST000004 ┆ -0.04321   │\n",
       "│       ┆        ┆ 2514.14_10  ┆            ┆   ┆           ┆ 855:-      ┆ 16562.7_6; ┆            │\n",
       "│       ┆        ┆             ┆            ┆   ┆           ┆            ┆ ENST000002 ┆            │\n",
       "│       ┆        ┆             ┆            ┆   ┆           ┆            ┆ …          ┆            │\n",
       "│ chr3  ┆ +      ┆ ENSG0000005 ┆ 182614778  ┆ … ┆ 182615082 ┆ chr3:18261 ┆ ENST000004 ┆ -0.031092  │\n",
       "│       ┆        ┆ 8063.16_10  ┆            ┆   ┆           ┆ 5112:+     ┆ 82070.1_1  ┆            │\n",
       "└───────┴────────┴─────────────┴────────────┴───┴───────────┴────────────┴────────────┴────────────┘"
      ]
     },
     "execution_count": 21,
     "metadata": {},
     "output_type": "execute_result"
    }
   ],
   "source": [
    "apa_df"
   ]
  },
  {
   "cell_type": "code",
   "execution_count": 22,
   "id": "ef372f6a-3c79-43ad-ac4e-0f0837ef5000",
   "metadata": {},
   "outputs": [],
   "source": [
    "apa_df = apa_df.rename({'veff_score': 'pas_score', 'transcript_id': 'pas_transcript_id'})\n",
    "tss_df = tss_df.rename({'veff_score': 'tss_score', 'transcript_id': 'tss_transcript_id', \n",
    "                        'transcript_start': 'tss_transcript_start', 'transcript_end': 'tss_transcript_end'})"
   ]
  },
  {
   "cell_type": "code",
   "execution_count": 23,
   "id": "cc70eba3-4462-4f1c-91b7-682a6fc6f229",
   "metadata": {
    "scrolled": true
   },
   "outputs": [],
   "source": [
    "merged_df = (apa_df.join(tss_df, how='full', on=['chrom', 'strand', 'gene_id', 'variant_start',\n",
    "                                     'variant_end','ref', 'alt', 'vcf_file', ], coalesce=True).\n",
    "            with_columns(is_near_tss=~pl.col('tss').is_null(),\n",
    "                         is_near_pas=~pl.col('pas_id').is_null()))"
   ]
  },
  {
   "cell_type": "code",
   "execution_count": 24,
   "id": "92773202-dbfb-41a5-a7e1-3765808ba1ae",
   "metadata": {},
   "outputs": [],
   "source": [
    "merged_df = merged_df.join(tissue_df, how='cross')"
   ]
  },
  {
   "cell_type": "code",
   "execution_count": 25,
   "id": "8ddf5531-3ada-4a39-8dbe-3d61d08b178a",
   "metadata": {
    "scrolled": true
   },
   "outputs": [
    {
     "data": {
      "text/html": [
       "<div><style>\n",
       ".dataframe > thead > tr,\n",
       ".dataframe > tbody > tr {\n",
       "  text-align: right;\n",
       "  white-space: pre-wrap;\n",
       "}\n",
       "</style>\n",
       "<small>shape: (106_823_430, 21)</small><table border=\"1\" class=\"dataframe\"><thead><tr><th>chrom</th><th>strand</th><th>gene_id</th><th>variant_start</th><th>variant_end</th><th>ref</th><th>alt</th><th>vcf_file</th><th>pas_pos</th><th>cse_pos</th><th>pas_id</th><th>pas_transcript_id</th><th>pas_score</th><th>tss</th><th>tss_transcript_start</th><th>tss_transcript_end</th><th>tss_transcript_id</th><th>tss_score</th><th>is_near_tss</th><th>is_near_pas</th><th>tissue</th></tr><tr><td>str</td><td>str</td><td>str</td><td>i64</td><td>i64</td><td>str</td><td>str</td><td>str</td><td>i64</td><td>i64</td><td>str</td><td>str</td><td>f64</td><td>i64</td><td>i64</td><td>i64</td><td>str</td><td>f64</td><td>bool</td><td>bool</td><td>str</td></tr></thead><tbody><tr><td>&quot;chr10&quot;</td><td>&quot;-&quot;</td><td>&quot;ENSG00000151474.23_13&quot;</td><td>13715311</td><td>13715312</td><td>&quot;A&quot;</td><td>&quot;G&quot;</td><td>&quot;/s/project/rep/processed/train…</td><td>13717037</td><td>13717067</td><td>&quot;chr10:13717037:-&quot;</td><td>&quot;ENST00000632570.1_6&quot;</td><td>-0.034918</td><td>null</td><td>null</td><td>null</td><td>null</td><td>null</td><td>false</td><td>true</td><td>&quot;Adipose - Subcutaneous&quot;</td></tr><tr><td>&quot;chr10&quot;</td><td>&quot;-&quot;</td><td>&quot;ENSG00000151474.23_13&quot;</td><td>13715311</td><td>13715312</td><td>&quot;A&quot;</td><td>&quot;G&quot;</td><td>&quot;/s/project/rep/processed/train…</td><td>13717037</td><td>13717067</td><td>&quot;chr10:13717037:-&quot;</td><td>&quot;ENST00000632570.1_6&quot;</td><td>-0.034918</td><td>null</td><td>null</td><td>null</td><td>null</td><td>null</td><td>false</td><td>true</td><td>&quot;Adipose - Visceral (Omentum)&quot;</td></tr><tr><td>&quot;chr10&quot;</td><td>&quot;-&quot;</td><td>&quot;ENSG00000151474.23_13&quot;</td><td>13715311</td><td>13715312</td><td>&quot;A&quot;</td><td>&quot;G&quot;</td><td>&quot;/s/project/rep/processed/train…</td><td>13717037</td><td>13717067</td><td>&quot;chr10:13717037:-&quot;</td><td>&quot;ENST00000632570.1_6&quot;</td><td>-0.034918</td><td>null</td><td>null</td><td>null</td><td>null</td><td>null</td><td>false</td><td>true</td><td>&quot;Adrenal Gland&quot;</td></tr><tr><td>&quot;chr10&quot;</td><td>&quot;-&quot;</td><td>&quot;ENSG00000151474.23_13&quot;</td><td>13715311</td><td>13715312</td><td>&quot;A&quot;</td><td>&quot;G&quot;</td><td>&quot;/s/project/rep/processed/train…</td><td>13717037</td><td>13717067</td><td>&quot;chr10:13717037:-&quot;</td><td>&quot;ENST00000632570.1_6&quot;</td><td>-0.034918</td><td>null</td><td>null</td><td>null</td><td>null</td><td>null</td><td>false</td><td>true</td><td>&quot;Artery - Aorta&quot;</td></tr><tr><td>&quot;chr10&quot;</td><td>&quot;-&quot;</td><td>&quot;ENSG00000151474.23_13&quot;</td><td>13715311</td><td>13715312</td><td>&quot;A&quot;</td><td>&quot;G&quot;</td><td>&quot;/s/project/rep/processed/train…</td><td>13717037</td><td>13717067</td><td>&quot;chr10:13717037:-&quot;</td><td>&quot;ENST00000632570.1_6&quot;</td><td>-0.034918</td><td>null</td><td>null</td><td>null</td><td>null</td><td>null</td><td>false</td><td>true</td><td>&quot;Artery - Coronary&quot;</td></tr><tr><td>&hellip;</td><td>&hellip;</td><td>&hellip;</td><td>&hellip;</td><td>&hellip;</td><td>&hellip;</td><td>&hellip;</td><td>&hellip;</td><td>&hellip;</td><td>&hellip;</td><td>&hellip;</td><td>&hellip;</td><td>&hellip;</td><td>&hellip;</td><td>&hellip;</td><td>&hellip;</td><td>&hellip;</td><td>&hellip;</td><td>&hellip;</td><td>&hellip;</td><td>&hellip;</td></tr><tr><td>&quot;chr10&quot;</td><td>&quot;-&quot;</td><td>&quot;ENSG00000107929.16_8&quot;</td><td>936490</td><td>936491</td><td>&quot;A&quot;</td><td>&quot;G&quot;</td><td>&quot;/s/project/rep/processed/train…</td><td>null</td><td>null</td><td>null</td><td>null</td><td>null</td><td>935773</td><td>910209</td><td>935774</td><td>&quot;ENST00000693234.1_1&quot;</td><td>-0.019352</td><td>true</td><td>false</td><td>&quot;Testis&quot;</td></tr><tr><td>&quot;chr10&quot;</td><td>&quot;-&quot;</td><td>&quot;ENSG00000107929.16_8&quot;</td><td>936490</td><td>936491</td><td>&quot;A&quot;</td><td>&quot;G&quot;</td><td>&quot;/s/project/rep/processed/train…</td><td>null</td><td>null</td><td>null</td><td>null</td><td>null</td><td>935773</td><td>910209</td><td>935774</td><td>&quot;ENST00000693234.1_1&quot;</td><td>-0.019352</td><td>true</td><td>false</td><td>&quot;Thyroid&quot;</td></tr><tr><td>&quot;chr10&quot;</td><td>&quot;-&quot;</td><td>&quot;ENSG00000107929.16_8&quot;</td><td>936490</td><td>936491</td><td>&quot;A&quot;</td><td>&quot;G&quot;</td><td>&quot;/s/project/rep/processed/train…</td><td>null</td><td>null</td><td>null</td><td>null</td><td>null</td><td>935773</td><td>910209</td><td>935774</td><td>&quot;ENST00000693234.1_1&quot;</td><td>-0.019352</td><td>true</td><td>false</td><td>&quot;Uterus&quot;</td></tr><tr><td>&quot;chr10&quot;</td><td>&quot;-&quot;</td><td>&quot;ENSG00000107929.16_8&quot;</td><td>936490</td><td>936491</td><td>&quot;A&quot;</td><td>&quot;G&quot;</td><td>&quot;/s/project/rep/processed/train…</td><td>null</td><td>null</td><td>null</td><td>null</td><td>null</td><td>935773</td><td>910209</td><td>935774</td><td>&quot;ENST00000693234.1_1&quot;</td><td>-0.019352</td><td>true</td><td>false</td><td>&quot;Vagina&quot;</td></tr><tr><td>&quot;chr10&quot;</td><td>&quot;-&quot;</td><td>&quot;ENSG00000107929.16_8&quot;</td><td>936490</td><td>936491</td><td>&quot;A&quot;</td><td>&quot;G&quot;</td><td>&quot;/s/project/rep/processed/train…</td><td>null</td><td>null</td><td>null</td><td>null</td><td>null</td><td>935773</td><td>910209</td><td>935774</td><td>&quot;ENST00000693234.1_1&quot;</td><td>-0.019352</td><td>true</td><td>false</td><td>&quot;Whole Blood&quot;</td></tr></tbody></table></div>"
      ],
      "text/plain": [
       "shape: (106_823_430, 21)\n",
       "┌───────┬────────┬─────────────┬────────────┬───┬───────────┬────────────┬────────────┬────────────┐\n",
       "│ chrom ┆ strand ┆ gene_id     ┆ variant_st ┆ … ┆ tss_score ┆ is_near_ts ┆ is_near_pa ┆ tissue     │\n",
       "│ ---   ┆ ---    ┆ ---         ┆ art        ┆   ┆ ---       ┆ s          ┆ s          ┆ ---        │\n",
       "│ str   ┆ str    ┆ str         ┆ ---        ┆   ┆ f64       ┆ ---        ┆ ---        ┆ str        │\n",
       "│       ┆        ┆             ┆ i64        ┆   ┆           ┆ bool       ┆ bool       ┆            │\n",
       "╞═══════╪════════╪═════════════╪════════════╪═══╪═══════════╪════════════╪════════════╪════════════╡\n",
       "│ chr10 ┆ -      ┆ ENSG0000015 ┆ 13715311   ┆ … ┆ null      ┆ false      ┆ true       ┆ Adipose -  │\n",
       "│       ┆        ┆ 1474.23_13  ┆            ┆   ┆           ┆            ┆            ┆ Subcutaneo │\n",
       "│       ┆        ┆             ┆            ┆   ┆           ┆            ┆            ┆ us         │\n",
       "│ chr10 ┆ -      ┆ ENSG0000015 ┆ 13715311   ┆ … ┆ null      ┆ false      ┆ true       ┆ Adipose -  │\n",
       "│       ┆        ┆ 1474.23_13  ┆            ┆   ┆           ┆            ┆            ┆ Visceral   │\n",
       "│       ┆        ┆             ┆            ┆   ┆           ┆            ┆            ┆ (Omentum)  │\n",
       "│ chr10 ┆ -      ┆ ENSG0000015 ┆ 13715311   ┆ … ┆ null      ┆ false      ┆ true       ┆ Adrenal    │\n",
       "│       ┆        ┆ 1474.23_13  ┆            ┆   ┆           ┆            ┆            ┆ Gland      │\n",
       "│ chr10 ┆ -      ┆ ENSG0000015 ┆ 13715311   ┆ … ┆ null      ┆ false      ┆ true       ┆ Artery -   │\n",
       "│       ┆        ┆ 1474.23_13  ┆            ┆   ┆           ┆            ┆            ┆ Aorta      │\n",
       "│ chr10 ┆ -      ┆ ENSG0000015 ┆ 13715311   ┆ … ┆ null      ┆ false      ┆ true       ┆ Artery -   │\n",
       "│       ┆        ┆ 1474.23_13  ┆            ┆   ┆           ┆            ┆            ┆ Coronary   │\n",
       "│ …     ┆ …      ┆ …           ┆ …          ┆ … ┆ …         ┆ …          ┆ …          ┆ …          │\n",
       "│ chr10 ┆ -      ┆ ENSG0000010 ┆ 936490     ┆ … ┆ -0.019352 ┆ true       ┆ false      ┆ Testis     │\n",
       "│       ┆        ┆ 7929.16_8   ┆            ┆   ┆           ┆            ┆            ┆            │\n",
       "│ chr10 ┆ -      ┆ ENSG0000010 ┆ 936490     ┆ … ┆ -0.019352 ┆ true       ┆ false      ┆ Thyroid    │\n",
       "│       ┆        ┆ 7929.16_8   ┆            ┆   ┆           ┆            ┆            ┆            │\n",
       "│ chr10 ┆ -      ┆ ENSG0000010 ┆ 936490     ┆ … ┆ -0.019352 ┆ true       ┆ false      ┆ Uterus     │\n",
       "│       ┆        ┆ 7929.16_8   ┆            ┆   ┆           ┆            ┆            ┆            │\n",
       "│ chr10 ┆ -      ┆ ENSG0000010 ┆ 936490     ┆ … ┆ -0.019352 ┆ true       ┆ false      ┆ Vagina     │\n",
       "│       ┆        ┆ 7929.16_8   ┆            ┆   ┆           ┆            ┆            ┆            │\n",
       "│ chr10 ┆ -      ┆ ENSG0000010 ┆ 936490     ┆ … ┆ -0.019352 ┆ true       ┆ false      ┆ Whole      │\n",
       "│       ┆        ┆ 7929.16_8   ┆            ┆   ┆           ┆            ┆            ┆ Blood      │\n",
       "└───────┴────────┴─────────────┴────────────┴───┴───────────┴────────────┴────────────┴────────────┘"
      ]
     },
     "execution_count": 25,
     "metadata": {},
     "output_type": "execute_result"
    }
   ],
   "source": [
    "merged_df"
   ]
  },
  {
   "cell_type": "code",
   "execution_count": 27,
   "id": "dc3cf349-c0eb-487a-b53c-980e09fcaede",
   "metadata": {},
   "outputs": [],
   "source": [
    "merged_output_path = Path('/s/project/promoter_prediction/kipoi_expression_prediction/veff/lm_merged_2kb.parquet/')\n",
    "# merged_output_path.mkdir()\n",
    "for vcf_file, group_df in merged_df.group_by(\"vcf_file\"):\n",
    "    vcf_file = Path(vcf_file[0]).name\n",
    "    group_df.select(pl.exclude('vcf_file')).write_parquet(merged_output_path / f'{vcf_file}.parquet')"
   ]
  },
  {
   "cell_type": "code",
   "execution_count": null,
   "id": "40d11026-a7ae-49f0-89d6-05dabfb7181f",
   "metadata": {},
   "outputs": [],
   "source": []
  }
 ],
 "metadata": {
  "kernelspec": {
   "display_name": "Python [conda env:anaconda-kipoi-veff-analysis]",
   "language": "python",
   "name": "conda-env-anaconda-kipoi-veff-analysis-py"
  },
  "language_info": {
   "codemirror_mode": {
    "name": "ipython",
    "version": 3
   },
   "file_extension": ".py",
   "mimetype": "text/x-python",
   "name": "python",
   "nbconvert_exporter": "python",
   "pygments_lexer": "ipython3",
   "version": "3.12.6"
  }
 },
 "nbformat": 4,
 "nbformat_minor": 5
}
