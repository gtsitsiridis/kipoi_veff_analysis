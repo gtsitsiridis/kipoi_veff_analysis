{
 "cells": [
  {
   "cell_type": "markdown",
   "id": "2343df18-f394-4cdc-afcd-f3bdc9c9f4ed",
   "metadata": {},
   "source": [
    "# Enformer-GTEx results"
   ]
  },
  {
   "cell_type": "markdown",
   "id": "f7859e43-37fa-4002-a3f5-de7b0a6dd8c2",
   "metadata": {},
   "source": [
    "Explore Enformer predictions on GTEx variants"
   ]
  },
  {
   "cell_type": "markdown",
   "id": "815614a0-81f3-4da0-bade-2b288e5312ca",
   "metadata": {},
   "source": [
    "## Setup"
   ]
  },
  {
   "cell_type": "code",
   "execution_count": 1,
   "id": "2122e34b-e806-41a5-af16-b7eea0f53861",
   "metadata": {
    "tags": []
   },
   "outputs": [],
   "source": [
    "import polars as pl\n",
    "import matplotlib.pyplot as plt\n",
    "from pathlib import Path\n",
    "import pandas as pd\n",
    "import seaborn as sns\n",
    "import numpy as np\n",
    "import statsmodels.api as sm\n",
    "import plotnine as pn\n",
    "from scipy.stats import ranksums\n",
    "from datetime import datetime\n",
    "\n",
    "%load_ext autoreload\n",
    "%autoreload 2"
   ]
  },
  {
   "cell_type": "code",
   "execution_count": 2,
   "id": "a2ba1d92-0736-4a89-949d-5f877a9f90a6",
   "metadata": {
    "tags": []
   },
   "outputs": [],
   "source": [
    "plt.rcParams['figure.dpi'] = 150"
   ]
  },
  {
   "cell_type": "code",
   "execution_count": 3,
   "id": "54a9bea2-0acc-47eb-bf27-85909ad8a34d",
   "metadata": {
    "tags": []
   },
   "outputs": [
    {
     "data": {
      "text/plain": [
       "polars.config.Config"
      ]
     },
     "execution_count": 3,
     "metadata": {},
     "output_type": "execute_result"
    }
   ],
   "source": [
    "pl.Config.set_fmt_str_lengths(100)"
   ]
  },
  {
   "cell_type": "code",
   "execution_count": 4,
   "id": "ad26162c-e67a-4def-8b5a-d3422e35e628",
   "metadata": {
    "tags": []
   },
   "outputs": [],
   "source": [
    "pn.theme_set(pn.theme_bw())\n",
    "pn.theme_update(dpi=150)"
   ]
  },
  {
   "cell_type": "code",
   "execution_count": 5,
   "id": "269121c2-f008-4b85-8d3c-37f9e293d5c9",
   "metadata": {
    "tags": []
   },
   "outputs": [],
   "source": [
    "# Files relevant to the GTEx analysis\n",
    "veff_path = '/s/project/promoter_prediction/kipoi_expression_prediction/veff/lm_apa_2kb.parquet/*.parquet'\n",
    "# GTEx variants\n",
    "variant_path = '/s/project/rep/processed/training_results_v16/gtex_v8_old_dna/private_variants.parquet/rare_variants.vcf.parquet/**/*.parquet'\n",
    "# abexp benchmark dataset\n",
    "gtex_benchmark_with_annotation_path = \"/s/project/rep/processed/training_results_v16/gtex_benchmark_with_annotation.parquet/*.parquet\""
   ]
  },
  {
   "cell_type": "markdown",
   "id": "79df0229-d2b9-43ca-bf70-deb6ab688864",
   "metadata": {
    "tags": []
   },
   "source": [
    "## Analysis"
   ]
  },
  {
   "cell_type": "markdown",
   "id": "082cde02-be21-4207-9455-7e4a32358457",
   "metadata": {},
   "source": [
    "We are only loading ensembl canonical transcripts for this analysis. So there is 1 transcript per gene!"
   ]
  },
  {
   "cell_type": "code",
   "execution_count": 6,
   "id": "71e4e1c1-2d43-4aea-9c4e-025df9dbe794",
   "metadata": {
    "tags": []
   },
   "outputs": [],
   "source": [
    "veff_transcript_ldf = (pl.scan_parquet(Path(veff_path)).\n",
    "                       select(pl.col(['gene_id', 'pas_id', 'cse_pos']), \n",
    "                              pl.col('strand').cast(pl.Enum(['-', '+'])),\n",
    "                              pl.col(['chrom', 'variant_start', 'variant_end', 'ref', 'alt', 'veff_score'])).\n",
    "                       rename({'gene_id': 'gene', 'pas_id': 'pas'}).\n",
    "                       with_columns(pl.col('gene').str.replace(r'([^\\.]+)\\..+$', \"${1}\").alias('gene')))\n",
    "\n",
    "# It is possible that a gene comes multiple times (different versions)"
   ]
  },
  {
   "cell_type": "code",
   "execution_count": 7,
   "id": "cde38f58-ff43-495b-9994-ea34026c3cfd",
   "metadata": {
    "tags": []
   },
   "outputs": [],
   "source": [
    "variant_ldf = pl.scan_parquet(variant_path, hive_partitioning=True).select(['sampleId', 'chrom', 'start', 'end', 'ref', 'alt']).rename({'sampleId': 'individual',\n",
    "                                                                                                                'start': 'variant_start',\n",
    "                                                                                                                'end': 'variant_end'})"
   ]
  },
  {
   "cell_type": "code",
   "execution_count": 8,
   "id": "8d49e109-c20a-4fb2-805a-93ef6de6be94",
   "metadata": {
    "tags": []
   },
   "outputs": [],
   "source": [
    "training_benchmark_ldf = (pl.scan_parquet(gtex_benchmark_with_annotation_path)\n",
    "                          .select(['gene', 'individual', 'tissue', 'FDR', \n",
    "                                   'mu', 'zscore', 'l2fc'])\n",
    "                          .unique()\n",
    "                          .rename({'l2fc': 'l2fc_outrider'})\n",
    "                          .with_columns((pl.when(pl.col('FDR') > 0.05)\n",
    "                                         .then(pl.lit('normal'))\n",
    "                                         .otherwise(\n",
    "                                             pl.when(pl.col('zscore') > 0)\n",
    "                                             .then(pl.lit('overexpressed'))\n",
    "                                             .otherwise(\n",
    "                                                 pl.when(pl.col('zscore') < 0)\n",
    "                                                 .then(pl.lit('underexpressed'))\n",
    "                                                 # this should never be the case\n",
    "                                                 .otherwise(pl.lit('CHECK'))\n",
    "                                             ))).cast(pl.Enum(['underexpressed', 'normal', 'overexpressed'])).alias('outlier_state')))"
   ]
  },
  {
   "cell_type": "markdown",
   "id": "2218d4e2-dc97-4ed8-bd3c-41ec0f650c78",
   "metadata": {
    "tags": []
   },
   "source": [
    "### What is the enformer variant-effect-score distribution around the TSS?"
   ]
  },
  {
   "cell_type": "code",
   "execution_count": 9,
   "id": "197cf5f9-e149-451b-8152-d18f52db398e",
   "metadata": {},
   "outputs": [
    {
     "data": {
      "text/html": [
       "<div><style>\n",
       ".dataframe > thead > tr,\n",
       ".dataframe > tbody > tr {\n",
       "  text-align: right;\n",
       "  white-space: pre-wrap;\n",
       "}\n",
       "</style>\n",
       "<small>shape: (1, 2)</small><table border=\"1\" class=\"dataframe\"><thead><tr><th>upstream_tss</th><th>downstream_tss</th></tr><tr><td>i64</td><td>i64</td></tr></thead><tbody><tr><td>-2000</td><td>2000</td></tr></tbody></table></div>"
      ],
      "text/plain": [
       "shape: (1, 2)\n",
       "┌──────────────┬────────────────┐\n",
       "│ upstream_tss ┆ downstream_tss │\n",
       "│ ---          ┆ ---            │\n",
       "│ i64          ┆ i64            │\n",
       "╞══════════════╪════════════════╡\n",
       "│ -2000        ┆ 2000           │\n",
       "└──────────────┴────────────────┘"
      ]
     },
     "execution_count": 9,
     "metadata": {},
     "output_type": "execute_result"
    }
   ],
   "source": [
    "veff_transcript_ldf = (veff_transcript_ldf\n",
    "                       .with_columns(cse_distance=(pl.when(pl.col('strand') == '+')\n",
    "                                                   .then(pl.col('variant_start') - pl.col('cse_pos'))\n",
    "                                                   .otherwise(pl.col('cse_pos') - pl.col('variant_start'))))\n",
    "                       .with_columns(absolute_cse_distance=pl.col('cse_distance').abs(),                \n",
    "                                     absolute_veff_score=pl.col('veff_score').abs()))\n",
    "\n",
    "veff_transcript_ldf.select(upstream_tss=pl.col('cse_distance').min(), downstream_tss=pl.col('cse_distance').max()).collect()"
   ]
  },
  {
   "cell_type": "code",
   "execution_count": 10,
   "id": "11ff1a2b-bfe8-4525-9ed5-146ae4de1980",
   "metadata": {},
   "outputs": [],
   "source": [
    "upstream=2000\n",
    "downstream=2000\n",
    "\n",
    "# filter out variants out of this range\n",
    "veff_transcript_ldf = veff_transcript_ldf.filter((pl.col('cse_distance') >= -upstream) & (pl.col('cse_distance') <= downstream))\n",
    "\n",
    "# join tss variants with individuals\n",
    "veff_individual_ldf = (variant_ldf.join(veff_transcript_ldf, how='inner', on=['chrom', 'variant_start', 'variant_end', 'ref', 'alt']).\n",
    "                              select([\n",
    "                                  'individual', 'chrom', 'variant_start', 'variant_end', 'ref', 'alt',\n",
    "                                  'gene', 'pas', 'strand', 'cse_distance', 'absolute_cse_distance', \n",
    "                                  'veff_score', 'absolute_veff_score'\n",
    "                                ])\n",
    "                             )"
   ]
  },
  {
   "cell_type": "code",
   "execution_count": 11,
   "id": "7ae94a77-0cb4-4e5c-b984-4f74cfd0134c",
   "metadata": {},
   "outputs": [],
   "source": [
    "# keep the variant with the signed maximum absolute enformer score for each individual\n",
    "veff_individual_ldf = veff_individual_ldf.sort('absolute_veff_score', descending=True). \\\n",
    "    group_by(['individual', 'gene', 'chrom', 'strand']). \\\n",
    "    agg(pl.col(['variant_start', 'variant_end', 'ref', 'alt', 'pas', 'cse_distance', 'veff_score']).first())\n",
    "\n",
    "# join outrider with variants on individual\n",
    "veff_outrider_ldf = (\n",
    "    veff_individual_ldf\n",
    "    .join(training_benchmark_ldf, how='inner', on=['individual', 'gene'])\n",
    "    .select(['gene', 'tissue', 'individual', 'cse_distance', 'outlier_state', \n",
    "             'zscore', 'FDR', 'veff_score']))"
   ]
  },
  {
   "cell_type": "code",
   "execution_count": 12,
   "id": "c45f7015-2f38-4121-8516-cc6a24c64624",
   "metadata": {
    "tags": []
   },
   "outputs": [],
   "source": [
    "df = veff_outrider_ldf.collect()"
   ]
  },
  {
   "cell_type": "code",
   "execution_count": 13,
   "id": "1a7b4c80-8066-40e9-aa52-42a494fad893",
   "metadata": {},
   "outputs": [
    {
     "data": {
      "text/plain": [
       "(11924158, 8)"
      ]
     },
     "execution_count": 13,
     "metadata": {},
     "output_type": "execute_result"
    }
   ],
   "source": [
    "df.shape"
   ]
  },
  {
   "cell_type": "code",
   "execution_count": 14,
   "id": "d91f5356-bfda-4d3a-b942-61ff05ac46fb",
   "metadata": {},
   "outputs": [
    {
     "data": {
      "text/html": [
       "<div><style>\n",
       ".dataframe > thead > tr,\n",
       ".dataframe > tbody > tr {\n",
       "  text-align: right;\n",
       "  white-space: pre-wrap;\n",
       "}\n",
       "</style>\n",
       "<small>shape: (5, 8)</small><table border=\"1\" class=\"dataframe\"><thead><tr><th>gene</th><th>tissue</th><th>individual</th><th>cse_distance</th><th>outlier_state</th><th>zscore</th><th>FDR</th><th>veff_score</th></tr><tr><td>str</td><td>str</td><td>str</td><td>i64</td><td>enum</td><td>f32</td><td>f64</td><td>f64</td></tr></thead><tbody><tr><td>&quot;ENSG00000186318&quot;</td><td>&quot;Brain - Frontal Cortex (BA9)&quot;</td><td>&quot;GTEX-NL4W&quot;</td><td>1614</td><td>&quot;normal&quot;</td><td>0.22586</td><td>1.0</td><td>-0.037641</td></tr><tr><td>&quot;ENSG00000097021&quot;</td><td>&quot;Cells - Cultured fibroblasts&quot;</td><td>&quot;GTEX-TKQ1&quot;</td><td>1617</td><td>&quot;normal&quot;</td><td>2.016294</td><td>1.0</td><td>-0.040787</td></tr><tr><td>&quot;ENSG00000164039&quot;</td><td>&quot;Artery - Coronary&quot;</td><td>&quot;GTEX-13VXT&quot;</td><td>1550</td><td>&quot;normal&quot;</td><td>0.720083</td><td>1.0</td><td>-0.035602</td></tr><tr><td>&quot;ENSG00000135241&quot;</td><td>&quot;Spleen&quot;</td><td>&quot;GTEX-POMQ&quot;</td><td>5</td><td>&quot;normal&quot;</td><td>0.865943</td><td>1.0</td><td>-0.051857</td></tr><tr><td>&quot;ENSG00000145348&quot;</td><td>&quot;Brain - Hypothalamus&quot;</td><td>&quot;GTEX-1AX9I&quot;</td><td>-326</td><td>&quot;normal&quot;</td><td>1.001836</td><td>1.0</td><td>-0.032431</td></tr></tbody></table></div>"
      ],
      "text/plain": [
       "shape: (5, 8)\n",
       "┌─────────────┬─────────────┬────────────┬─────────────┬─────────────┬──────────┬─────┬────────────┐\n",
       "│ gene        ┆ tissue      ┆ individual ┆ cse_distanc ┆ outlier_sta ┆ zscore   ┆ FDR ┆ veff_score │\n",
       "│ ---         ┆ ---         ┆ ---        ┆ e           ┆ te          ┆ ---      ┆ --- ┆ ---        │\n",
       "│ str         ┆ str         ┆ str        ┆ ---         ┆ ---         ┆ f32      ┆ f64 ┆ f64        │\n",
       "│             ┆             ┆            ┆ i64         ┆ enum        ┆          ┆     ┆            │\n",
       "╞═════════════╪═════════════╪════════════╪═════════════╪═════════════╪══════════╪═════╪════════════╡\n",
       "│ ENSG0000018 ┆ Brain -     ┆ GTEX-NL4W  ┆ 1614        ┆ normal      ┆ 0.22586  ┆ 1.0 ┆ -0.037641  │\n",
       "│ 6318        ┆ Frontal     ┆            ┆             ┆             ┆          ┆     ┆            │\n",
       "│             ┆ Cortex      ┆            ┆             ┆             ┆          ┆     ┆            │\n",
       "│             ┆ (BA9)       ┆            ┆             ┆             ┆          ┆     ┆            │\n",
       "│ ENSG0000009 ┆ Cells -     ┆ GTEX-TKQ1  ┆ 1617        ┆ normal      ┆ 2.016294 ┆ 1.0 ┆ -0.040787  │\n",
       "│ 7021        ┆ Cultured    ┆            ┆             ┆             ┆          ┆     ┆            │\n",
       "│             ┆ fibroblasts ┆            ┆             ┆             ┆          ┆     ┆            │\n",
       "│ ENSG0000016 ┆ Artery -    ┆ GTEX-13VXT ┆ 1550        ┆ normal      ┆ 0.720083 ┆ 1.0 ┆ -0.035602  │\n",
       "│ 4039        ┆ Coronary    ┆            ┆             ┆             ┆          ┆     ┆            │\n",
       "│ ENSG0000013 ┆ Spleen      ┆ GTEX-POMQ  ┆ 5           ┆ normal      ┆ 0.865943 ┆ 1.0 ┆ -0.051857  │\n",
       "│ 5241        ┆             ┆            ┆             ┆             ┆          ┆     ┆            │\n",
       "│ ENSG0000014 ┆ Brain - Hyp ┆ GTEX-1AX9I ┆ -326        ┆ normal      ┆ 1.001836 ┆ 1.0 ┆ -0.032431  │\n",
       "│ 5348        ┆ othalamus   ┆            ┆             ┆             ┆          ┆     ┆            │\n",
       "└─────────────┴─────────────┴────────────┴─────────────┴─────────────┴──────────┴─────┴────────────┘"
      ]
     },
     "execution_count": 14,
     "metadata": {},
     "output_type": "execute_result"
    }
   ],
   "source": [
    "df.head()"
   ]
  },
  {
   "cell_type": "code",
   "execution_count": 15,
   "id": "5aa91767-2825-4f69-b18b-3892274f993e",
   "metadata": {},
   "outputs": [],
   "source": [
    "df_bac = df\n",
    "\n",
    "# cse_distance in bins\n",
    "bin_size=10\n",
    "cuts = list(range(-upstream + bin_size, downstream, bin_size))\n",
    "cut_labels = [str(x) for x in [-upstream, *cuts]]\n",
    "cse_distance_labels = {c: f'[{c}, {int(c) + bin_size})' for c in cut_labels}\n",
    "df = (df.with_columns(cse_distance_bin=(pl.col('cse_distance').cut(cuts, labels=cut_labels))\n",
    "                      .cast(pl.Enum(cut_labels)))\n",
    "      .with_columns(is_underexpressed=(pl.col('outlier_state') == 'underexpressed')))\n",
    "\n",
    "df = (df.with_columns(cse_distance_bin_label=pl.col(\"cse_distance_bin\").replace_strict(cse_distance_labels), \n",
    "                                                      bin_size=pl.lit(50)))"
   ]
  },
  {
   "cell_type": "code",
   "execution_count": 16,
   "id": "2c69ecaf-2f60-45ec-a254-0566a75341a9",
   "metadata": {},
   "outputs": [
    {
     "data": {
      "text/html": [
       "<div><style>\n",
       ".dataframe > thead > tr,\n",
       ".dataframe > tbody > tr {\n",
       "  text-align: right;\n",
       "  white-space: pre-wrap;\n",
       "}\n",
       "</style>\n",
       "<small>shape: (5, 12)</small><table border=\"1\" class=\"dataframe\"><thead><tr><th>gene</th><th>tissue</th><th>individual</th><th>cse_distance</th><th>outlier_state</th><th>zscore</th><th>FDR</th><th>veff_score</th><th>cse_distance_bin</th><th>is_underexpressed</th><th>cse_distance_bin_label</th><th>bin_size</th></tr><tr><td>str</td><td>str</td><td>str</td><td>i64</td><td>enum</td><td>f32</td><td>f64</td><td>f64</td><td>enum</td><td>bool</td><td>str</td><td>i32</td></tr></thead><tbody><tr><td>&quot;ENSG00000186318&quot;</td><td>&quot;Brain - Frontal Cortex (BA9)&quot;</td><td>&quot;GTEX-NL4W&quot;</td><td>1614</td><td>&quot;normal&quot;</td><td>0.22586</td><td>1.0</td><td>-0.037641</td><td>&quot;1610&quot;</td><td>false</td><td>&quot;[1610, 1620)&quot;</td><td>50</td></tr><tr><td>&quot;ENSG00000097021&quot;</td><td>&quot;Cells - Cultured fibroblasts&quot;</td><td>&quot;GTEX-TKQ1&quot;</td><td>1617</td><td>&quot;normal&quot;</td><td>2.016294</td><td>1.0</td><td>-0.040787</td><td>&quot;1610&quot;</td><td>false</td><td>&quot;[1610, 1620)&quot;</td><td>50</td></tr><tr><td>&quot;ENSG00000164039&quot;</td><td>&quot;Artery - Coronary&quot;</td><td>&quot;GTEX-13VXT&quot;</td><td>1550</td><td>&quot;normal&quot;</td><td>0.720083</td><td>1.0</td><td>-0.035602</td><td>&quot;1540&quot;</td><td>false</td><td>&quot;[1540, 1550)&quot;</td><td>50</td></tr><tr><td>&quot;ENSG00000135241&quot;</td><td>&quot;Spleen&quot;</td><td>&quot;GTEX-POMQ&quot;</td><td>5</td><td>&quot;normal&quot;</td><td>0.865943</td><td>1.0</td><td>-0.051857</td><td>&quot;0&quot;</td><td>false</td><td>&quot;[0, 10)&quot;</td><td>50</td></tr><tr><td>&quot;ENSG00000145348&quot;</td><td>&quot;Brain - Hypothalamus&quot;</td><td>&quot;GTEX-1AX9I&quot;</td><td>-326</td><td>&quot;normal&quot;</td><td>1.001836</td><td>1.0</td><td>-0.032431</td><td>&quot;-330&quot;</td><td>false</td><td>&quot;[-330, -320)&quot;</td><td>50</td></tr></tbody></table></div>"
      ],
      "text/plain": [
       "shape: (5, 12)\n",
       "┌───────────┬───────────┬───────────┬───────────┬───┬───────────┬───────────┬───────────┬──────────┐\n",
       "│ gene      ┆ tissue    ┆ individua ┆ cse_dista ┆ … ┆ cse_dista ┆ is_undere ┆ cse_dista ┆ bin_size │\n",
       "│ ---       ┆ ---       ┆ l         ┆ nce       ┆   ┆ nce_bin   ┆ xpressed  ┆ nce_bin_l ┆ ---      │\n",
       "│ str       ┆ str       ┆ ---       ┆ ---       ┆   ┆ ---       ┆ ---       ┆ abel      ┆ i32      │\n",
       "│           ┆           ┆ str       ┆ i64       ┆   ┆ enum      ┆ bool      ┆ ---       ┆          │\n",
       "│           ┆           ┆           ┆           ┆   ┆           ┆           ┆ str       ┆          │\n",
       "╞═══════════╪═══════════╪═══════════╪═══════════╪═══╪═══════════╪═══════════╪═══════════╪══════════╡\n",
       "│ ENSG00000 ┆ Brain -   ┆ GTEX-NL4W ┆ 1614      ┆ … ┆ 1610      ┆ false     ┆ [1610,    ┆ 50       │\n",
       "│ 186318    ┆ Frontal   ┆           ┆           ┆   ┆           ┆           ┆ 1620)     ┆          │\n",
       "│           ┆ Cortex    ┆           ┆           ┆   ┆           ┆           ┆           ┆          │\n",
       "│           ┆ (BA9)     ┆           ┆           ┆   ┆           ┆           ┆           ┆          │\n",
       "│ ENSG00000 ┆ Cells -   ┆ GTEX-TKQ1 ┆ 1617      ┆ … ┆ 1610      ┆ false     ┆ [1610,    ┆ 50       │\n",
       "│ 097021    ┆ Cultured  ┆           ┆           ┆   ┆           ┆           ┆ 1620)     ┆          │\n",
       "│           ┆ fibroblas ┆           ┆           ┆   ┆           ┆           ┆           ┆          │\n",
       "│           ┆ ts        ┆           ┆           ┆   ┆           ┆           ┆           ┆          │\n",
       "│ ENSG00000 ┆ Artery -  ┆ GTEX-13VX ┆ 1550      ┆ … ┆ 1540      ┆ false     ┆ [1540,    ┆ 50       │\n",
       "│ 164039    ┆ Coronary  ┆ T         ┆           ┆   ┆           ┆           ┆ 1550)     ┆          │\n",
       "│ ENSG00000 ┆ Spleen    ┆ GTEX-POMQ ┆ 5         ┆ … ┆ 0         ┆ false     ┆ [0, 10)   ┆ 50       │\n",
       "│ 135241    ┆           ┆           ┆           ┆   ┆           ┆           ┆           ┆          │\n",
       "│ ENSG00000 ┆ Brain -   ┆ GTEX-1AX9 ┆ -326      ┆ … ┆ -330      ┆ false     ┆ [-330,    ┆ 50       │\n",
       "│ 145348    ┆ Hypothala ┆ I         ┆           ┆   ┆           ┆           ┆ -320)     ┆          │\n",
       "│           ┆ mus       ┆           ┆           ┆   ┆           ┆           ┆           ┆          │\n",
       "└───────────┴───────────┴───────────┴───────────┴───┴───────────┴───────────┴───────────┴──────────┘"
      ]
     },
     "execution_count": 16,
     "metadata": {},
     "output_type": "execute_result"
    }
   ],
   "source": [
    "df.head()"
   ]
  },
  {
   "cell_type": "code",
   "execution_count": 19,
   "id": "5f8b45c5-c91e-4153-b161-a178ca8be46f",
   "metadata": {},
   "outputs": [],
   "source": [
    "# set new bins\n",
    "# new_bins = [(-2000, -500),\n",
    "#             *[(i, i + 100) for i in range(-500, -100, 100)],\n",
    "#             (-100, -50),\n",
    "#             (-50, 0),\n",
    "#             (0, 50),\n",
    "#             (50, 100),\n",
    "#             *[(i, i + 100) for i in range(100, 500, 100)],]\n",
    "new_bins = [(-2000, -1000),\n",
    "            (-1000, -500),\n",
    "            *[(i, i + 100) for i in range(-500, -100, 100)],\n",
    "            (-100, -50),\n",
    "            (-50, 0),\n",
    "            (0, 50),\n",
    "            (50, 100),\n",
    "            *[(i, i + 100) for i in range(100, 500, 100)],\n",
    "            (500, 1000),\n",
    "            (1000, 2000),\n",
    "           ]\n",
    "new_bin_labels  = [f'[{start}, {stop})' for start, stop in new_bins]\n",
    "\n",
    "df_bac = df\n",
    "for start, stop in new_bins:\n",
    "    df = df.with_columns(cse_distance_bin_label=(pl.when((pl.col('cse_distance_bin').cast(pl.Int16) >= start) & (pl.col('cse_distance_bin').cast(pl.Int16) <= stop))\n",
    "                                                 .then(pl.lit(f'[{start}, {stop})'))                                  \n",
    "                                                 .otherwise(pl.col('cse_distance_bin_label'))),\n",
    "                         bin_size = (pl.when((pl.col('cse_distance_bin').cast(pl.Int16) >= start) & (pl.col('cse_distance_bin').cast(pl.Int16) < stop))\n",
    "                                     .then(pl.lit(stop - start))\n",
    "                                     .otherwise(pl.col('bin_size'))))\n",
    "\n",
    "df = df.with_columns(cse_distance_bin_label=pl.col('cse_distance_bin_label').cast(pl.Enum(new_bin_labels)))"
   ]
  },
  {
   "cell_type": "code",
   "execution_count": 20,
   "id": "9f1630e5-41a1-43cf-a454-a40d426d0eb2",
   "metadata": {},
   "outputs": [
    {
     "data": {
      "text/html": [
       "<div><style>\n",
       ".dataframe > thead > tr,\n",
       ".dataframe > tbody > tr {\n",
       "  text-align: right;\n",
       "  white-space: pre-wrap;\n",
       "}\n",
       "</style>\n",
       "<small>shape: (5, 12)</small><table border=\"1\" class=\"dataframe\"><thead><tr><th>gene</th><th>tissue</th><th>individual</th><th>cse_distance</th><th>outlier_state</th><th>zscore</th><th>FDR</th><th>veff_score</th><th>cse_distance_bin</th><th>is_underexpressed</th><th>cse_distance_bin_label</th><th>bin_size</th></tr><tr><td>str</td><td>str</td><td>str</td><td>i64</td><td>enum</td><td>f32</td><td>f64</td><td>f64</td><td>enum</td><td>bool</td><td>enum</td><td>i32</td></tr></thead><tbody><tr><td>&quot;ENSG00000186318&quot;</td><td>&quot;Brain - Frontal Cortex (BA9)&quot;</td><td>&quot;GTEX-NL4W&quot;</td><td>1614</td><td>&quot;normal&quot;</td><td>0.22586</td><td>1.0</td><td>-0.037641</td><td>&quot;1610&quot;</td><td>false</td><td>&quot;[1000, 2000)&quot;</td><td>1000</td></tr><tr><td>&quot;ENSG00000097021&quot;</td><td>&quot;Cells - Cultured fibroblasts&quot;</td><td>&quot;GTEX-TKQ1&quot;</td><td>1617</td><td>&quot;normal&quot;</td><td>2.016294</td><td>1.0</td><td>-0.040787</td><td>&quot;1610&quot;</td><td>false</td><td>&quot;[1000, 2000)&quot;</td><td>1000</td></tr><tr><td>&quot;ENSG00000164039&quot;</td><td>&quot;Artery - Coronary&quot;</td><td>&quot;GTEX-13VXT&quot;</td><td>1550</td><td>&quot;normal&quot;</td><td>0.720083</td><td>1.0</td><td>-0.035602</td><td>&quot;1540&quot;</td><td>false</td><td>&quot;[1000, 2000)&quot;</td><td>1000</td></tr><tr><td>&quot;ENSG00000135241&quot;</td><td>&quot;Spleen&quot;</td><td>&quot;GTEX-POMQ&quot;</td><td>5</td><td>&quot;normal&quot;</td><td>0.865943</td><td>1.0</td><td>-0.051857</td><td>&quot;0&quot;</td><td>false</td><td>&quot;[0, 50)&quot;</td><td>50</td></tr><tr><td>&quot;ENSG00000145348&quot;</td><td>&quot;Brain - Hypothalamus&quot;</td><td>&quot;GTEX-1AX9I&quot;</td><td>-326</td><td>&quot;normal&quot;</td><td>1.001836</td><td>1.0</td><td>-0.032431</td><td>&quot;-330&quot;</td><td>false</td><td>&quot;[-400, -300)&quot;</td><td>100</td></tr></tbody></table></div>"
      ],
      "text/plain": [
       "shape: (5, 12)\n",
       "┌───────────┬───────────┬───────────┬───────────┬───┬───────────┬───────────┬───────────┬──────────┐\n",
       "│ gene      ┆ tissue    ┆ individua ┆ cse_dista ┆ … ┆ cse_dista ┆ is_undere ┆ cse_dista ┆ bin_size │\n",
       "│ ---       ┆ ---       ┆ l         ┆ nce       ┆   ┆ nce_bin   ┆ xpressed  ┆ nce_bin_l ┆ ---      │\n",
       "│ str       ┆ str       ┆ ---       ┆ ---       ┆   ┆ ---       ┆ ---       ┆ abel      ┆ i32      │\n",
       "│           ┆           ┆ str       ┆ i64       ┆   ┆ enum      ┆ bool      ┆ ---       ┆          │\n",
       "│           ┆           ┆           ┆           ┆   ┆           ┆           ┆ enum      ┆          │\n",
       "╞═══════════╪═══════════╪═══════════╪═══════════╪═══╪═══════════╪═══════════╪═══════════╪══════════╡\n",
       "│ ENSG00000 ┆ Brain -   ┆ GTEX-NL4W ┆ 1614      ┆ … ┆ 1610      ┆ false     ┆ [1000,    ┆ 1000     │\n",
       "│ 186318    ┆ Frontal   ┆           ┆           ┆   ┆           ┆           ┆ 2000)     ┆          │\n",
       "│           ┆ Cortex    ┆           ┆           ┆   ┆           ┆           ┆           ┆          │\n",
       "│           ┆ (BA9)     ┆           ┆           ┆   ┆           ┆           ┆           ┆          │\n",
       "│ ENSG00000 ┆ Cells -   ┆ GTEX-TKQ1 ┆ 1617      ┆ … ┆ 1610      ┆ false     ┆ [1000,    ┆ 1000     │\n",
       "│ 097021    ┆ Cultured  ┆           ┆           ┆   ┆           ┆           ┆ 2000)     ┆          │\n",
       "│           ┆ fibroblas ┆           ┆           ┆   ┆           ┆           ┆           ┆          │\n",
       "│           ┆ ts        ┆           ┆           ┆   ┆           ┆           ┆           ┆          │\n",
       "│ ENSG00000 ┆ Artery -  ┆ GTEX-13VX ┆ 1550      ┆ … ┆ 1540      ┆ false     ┆ [1000,    ┆ 1000     │\n",
       "│ 164039    ┆ Coronary  ┆ T         ┆           ┆   ┆           ┆           ┆ 2000)     ┆          │\n",
       "│ ENSG00000 ┆ Spleen    ┆ GTEX-POMQ ┆ 5         ┆ … ┆ 0         ┆ false     ┆ [0, 50)   ┆ 50       │\n",
       "│ 135241    ┆           ┆           ┆           ┆   ┆           ┆           ┆           ┆          │\n",
       "│ ENSG00000 ┆ Brain -   ┆ GTEX-1AX9 ┆ -326      ┆ … ┆ -330      ┆ false     ┆ [-400,    ┆ 100      │\n",
       "│ 145348    ┆ Hypothala ┆ I         ┆           ┆   ┆           ┆           ┆ -300)     ┆          │\n",
       "│           ┆ mus       ┆           ┆           ┆   ┆           ┆           ┆           ┆          │\n",
       "└───────────┴───────────┴───────────┴───────────┴───┴───────────┴───────────┴───────────┴──────────┘"
      ]
     },
     "execution_count": 20,
     "metadata": {},
     "output_type": "execute_result"
    }
   ],
   "source": [
    "df.head()"
   ]
  },
  {
   "cell_type": "code",
   "execution_count": 21,
   "id": "1c62b971-b44c-480e-86b8-419877835703",
   "metadata": {},
   "outputs": [],
   "source": [
    "# calculate counts per bins\n",
    "bin_count_df = (df.group_by(['outlier_state', 'cse_distance_bin_label', 'bin_size'])\n",
    "                .agg((pl.len()).alias('count')))\n",
    "\n",
    "# # calculate mean of each bin and then sum the means in each outlier state\n",
    "totals_df = (bin_count_df.group_by('outlier_state').agg(pl.sum('count').alias('total_count')))\n",
    "# # normalize each count by the mean calculated above\n",
    "enrichment_df = (bin_count_df.join(totals_df, on='outlier_state')\n",
    "                 .with_columns((pl.col('count') / pl.col('total_count')).alias('enrichment')))\n",
    "ci_low, ci_high = sm.stats.proportion_confint(enrichment_df[\"count\"], enrichment_df[\"total_count\"])\n",
    "enrichment_df = enrichment_df.with_columns(pl.Series(ci_low).alias('ci_low'), pl.Series(ci_high).alias('ci_high'))\n",
    "# normalize by bin size\n",
    "enrichment_df = enrichment_df.with_columns(enrichment = pl.col('enrichment') / pl.col('bin_size'),\n",
    "                                           ci_low = pl.col('ci_low') / pl.col('bin_size'),\n",
    "                                           ci_high = pl.col('ci_high') / pl.col('bin_size'))"
   ]
  },
  {
   "cell_type": "code",
   "execution_count": 22,
   "id": "751f498c-175a-42af-b000-b5a8f9b61111",
   "metadata": {},
   "outputs": [
    {
     "data": {
      "text/html": [
       "<div><style>\n",
       ".dataframe > thead > tr,\n",
       ".dataframe > tbody > tr {\n",
       "  text-align: right;\n",
       "  white-space: pre-wrap;\n",
       "}\n",
       "</style>\n",
       "<small>shape: (48, 8)</small><table border=\"1\" class=\"dataframe\"><thead><tr><th>outlier_state</th><th>cse_distance_bin_label</th><th>bin_size</th><th>count</th><th>total_count</th><th>enrichment</th><th>ci_low</th><th>ci_high</th></tr><tr><td>enum</td><td>enum</td><td>i32</td><td>u32</td><td>u32</td><td>f64</td><td>f64</td><td>f64</td></tr></thead><tbody><tr><td>&quot;normal&quot;</td><td>&quot;[-50, 0)&quot;</td><td>50</td><td>130239</td><td>11918765</td><td>0.000219</td><td>0.000217</td><td>0.00022</td></tr><tr><td>&quot;underexpressed&quot;</td><td>&quot;[-50, 0)&quot;</td><td>50</td><td>68</td><td>2851</td><td>0.000477</td><td>0.000365</td><td>0.000589</td></tr><tr><td>&quot;underexpressed&quot;</td><td>&quot;[-200, -100)&quot;</td><td>100</td><td>56</td><td>2851</td><td>0.000196</td><td>0.000145</td><td>0.000247</td></tr><tr><td>&quot;normal&quot;</td><td>&quot;[-100, -50)&quot;</td><td>50</td><td>130964</td><td>11918765</td><td>0.00022</td><td>0.000219</td><td>0.000221</td></tr><tr><td>&quot;normal&quot;</td><td>&quot;[50, 100)&quot;</td><td>50</td><td>133884</td><td>11918765</td><td>0.000225</td><td>0.000223</td><td>0.000226</td></tr><tr><td>&hellip;</td><td>&hellip;</td><td>&hellip;</td><td>&hellip;</td><td>&hellip;</td><td>&hellip;</td><td>&hellip;</td><td>&hellip;</td></tr><tr><td>&quot;normal&quot;</td><td>&quot;[-300, -200)&quot;</td><td>100</td><td>266740</td><td>11918765</td><td>0.000224</td><td>0.000223</td><td>0.000225</td></tr><tr><td>&quot;underexpressed&quot;</td><td>&quot;[300, 400)&quot;</td><td>100</td><td>30</td><td>2851</td><td>0.000105</td><td>0.000068</td><td>0.000143</td></tr><tr><td>&quot;overexpressed&quot;</td><td>&quot;[-100, -50)&quot;</td><td>50</td><td>38</td><td>2542</td><td>0.000299</td><td>0.000205</td><td>0.000393</td></tr><tr><td>&quot;normal&quot;</td><td>&quot;[500, 1000)&quot;</td><td>500</td><td>1421304</td><td>11918765</td><td>0.000238</td><td>0.000238</td><td>0.000239</td></tr><tr><td>&quot;normal&quot;</td><td>&quot;[-2000, -1000)&quot;</td><td>1000</td><td>3179327</td><td>11918765</td><td>0.000267</td><td>0.000266</td><td>0.000267</td></tr></tbody></table></div>"
      ],
      "text/plain": [
       "shape: (48, 8)\n",
       "┌──────────────┬─────────────┬──────────┬─────────┬─────────────┬────────────┬──────────┬──────────┐\n",
       "│ outlier_stat ┆ cse_distanc ┆ bin_size ┆ count   ┆ total_count ┆ enrichment ┆ ci_low   ┆ ci_high  │\n",
       "│ e            ┆ e_bin_label ┆ ---      ┆ ---     ┆ ---         ┆ ---        ┆ ---      ┆ ---      │\n",
       "│ ---          ┆ ---         ┆ i32      ┆ u32     ┆ u32         ┆ f64        ┆ f64      ┆ f64      │\n",
       "│ enum         ┆ enum        ┆          ┆         ┆             ┆            ┆          ┆          │\n",
       "╞══════════════╪═════════════╪══════════╪═════════╪═════════════╪════════════╪══════════╪══════════╡\n",
       "│ normal       ┆ [-50, 0)    ┆ 50       ┆ 130239  ┆ 11918765    ┆ 0.000219   ┆ 0.000217 ┆ 0.00022  │\n",
       "│ underexpress ┆ [-50, 0)    ┆ 50       ┆ 68      ┆ 2851        ┆ 0.000477   ┆ 0.000365 ┆ 0.000589 │\n",
       "│ ed           ┆             ┆          ┆         ┆             ┆            ┆          ┆          │\n",
       "│ underexpress ┆ [-200,      ┆ 100      ┆ 56      ┆ 2851        ┆ 0.000196   ┆ 0.000145 ┆ 0.000247 │\n",
       "│ ed           ┆ -100)       ┆          ┆         ┆             ┆            ┆          ┆          │\n",
       "│ normal       ┆ [-100, -50) ┆ 50       ┆ 130964  ┆ 11918765    ┆ 0.00022    ┆ 0.000219 ┆ 0.000221 │\n",
       "│ normal       ┆ [50, 100)   ┆ 50       ┆ 133884  ┆ 11918765    ┆ 0.000225   ┆ 0.000223 ┆ 0.000226 │\n",
       "│ …            ┆ …           ┆ …        ┆ …       ┆ …           ┆ …          ┆ …        ┆ …        │\n",
       "│ normal       ┆ [-300,      ┆ 100      ┆ 266740  ┆ 11918765    ┆ 0.000224   ┆ 0.000223 ┆ 0.000225 │\n",
       "│              ┆ -200)       ┆          ┆         ┆             ┆            ┆          ┆          │\n",
       "│ underexpress ┆ [300, 400)  ┆ 100      ┆ 30      ┆ 2851        ┆ 0.000105   ┆ 0.000068 ┆ 0.000143 │\n",
       "│ ed           ┆             ┆          ┆         ┆             ┆            ┆          ┆          │\n",
       "│ overexpresse ┆ [-100, -50) ┆ 50       ┆ 38      ┆ 2542        ┆ 0.000299   ┆ 0.000205 ┆ 0.000393 │\n",
       "│ d            ┆             ┆          ┆         ┆             ┆            ┆          ┆          │\n",
       "│ normal       ┆ [500, 1000) ┆ 500      ┆ 1421304 ┆ 11918765    ┆ 0.000238   ┆ 0.000238 ┆ 0.000239 │\n",
       "│ normal       ┆ [-2000,     ┆ 1000     ┆ 3179327 ┆ 11918765    ┆ 0.000267   ┆ 0.000266 ┆ 0.000267 │\n",
       "│              ┆ -1000)      ┆          ┆         ┆             ┆            ┆          ┆          │\n",
       "└──────────────┴─────────────┴──────────┴─────────┴─────────────┴────────────┴──────────┴──────────┘"
      ]
     },
     "execution_count": 22,
     "metadata": {},
     "output_type": "execute_result"
    }
   ],
   "source": [
    "enrichment_df"
   ]
  },
  {
   "cell_type": "code",
   "execution_count": 23,
   "id": "3825f050-83be-4290-a921-f99dc70e8120",
   "metadata": {},
   "outputs": [
    {
     "data": {
      "text/html": [
       "<div><style>\n",
       ".dataframe > thead > tr,\n",
       ".dataframe > tbody > tr {\n",
       "  text-align: right;\n",
       "  white-space: pre-wrap;\n",
       "}\n",
       "</style>\n",
       "<small>shape: (3, 2)</small><table border=\"1\" class=\"dataframe\"><thead><tr><th>outlier_state</th><th>total_count</th></tr><tr><td>enum</td><td>u32</td></tr></thead><tbody><tr><td>&quot;normal&quot;</td><td>11918765</td></tr><tr><td>&quot;underexpressed&quot;</td><td>2851</td></tr><tr><td>&quot;overexpressed&quot;</td><td>2542</td></tr></tbody></table></div>"
      ],
      "text/plain": [
       "shape: (3, 2)\n",
       "┌────────────────┬─────────────┐\n",
       "│ outlier_state  ┆ total_count │\n",
       "│ ---            ┆ ---         │\n",
       "│ enum           ┆ u32         │\n",
       "╞════════════════╪═════════════╡\n",
       "│ normal         ┆ 11918765    │\n",
       "│ underexpressed ┆ 2851        │\n",
       "│ overexpressed  ┆ 2542        │\n",
       "└────────────────┴─────────────┘"
      ]
     },
     "execution_count": 23,
     "metadata": {},
     "output_type": "execute_result"
    }
   ],
   "source": [
    "totals_df"
   ]
  },
  {
   "cell_type": "code",
   "execution_count": 24,
   "id": "2486ed23-7275-4e0f-9775-773db69379ac",
   "metadata": {},
   "outputs": [
    {
     "data": {
      "text/plain": [
       "PosixPath('.')"
      ]
     },
     "execution_count": 24,
     "metadata": {},
     "output_type": "execute_result"
    }
   ],
   "source": [
    "base_path = Path('.')\n",
    "df.write_parquet(base_path / 'pas_veff_bin.parquet', use_pyarrow=True)\n",
    "enrichment_df.write_parquet(base_path / 'pas_enrichment.parquet', use_pyarrow=True)\n",
    "base_path"
   ]
  },
  {
   "cell_type": "code",
   "execution_count": null,
   "id": "4b463f55-80ac-4d88-ac21-d9b9fbd63627",
   "metadata": {},
   "outputs": [],
   "source": []
  },
  {
   "cell_type": "code",
   "execution_count": null,
   "id": "eef0e614-e33f-48ad-bb71-3758a958bc4a",
   "metadata": {},
   "outputs": [],
   "source": []
  }
 ],
 "metadata": {
  "kernelspec": {
   "display_name": "Python [conda env:anaconda-kipoi-veff-analysis]",
   "language": "python",
   "name": "conda-env-anaconda-kipoi-veff-analysis-py"
  },
  "language_info": {
   "codemirror_mode": {
    "name": "ipython",
    "version": 3
   },
   "file_extension": ".py",
   "mimetype": "text/x-python",
   "name": "python",
   "nbconvert_exporter": "python",
   "pygments_lexer": "ipython3",
   "version": "3.12.6"
  }
 },
 "nbformat": 4,
 "nbformat_minor": 5
}
