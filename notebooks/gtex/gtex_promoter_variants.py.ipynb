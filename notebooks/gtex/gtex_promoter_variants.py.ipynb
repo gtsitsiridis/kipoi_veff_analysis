{
 "cells": [
  {
   "cell_type": "markdown",
   "id": "012abc6f-ea23-4af5-b0e9-d3a65c698174",
   "metadata": {},
   "source": [
    "# GTEx rare variants analysis"
   ]
  },
  {
   "cell_type": "markdown",
   "id": "77fd1500-ffc1-4727-ba33-7d6ee8965ef9",
   "metadata": {},
   "source": [
    "## Imports"
   ]
  },
  {
   "cell_type": "code",
   "execution_count": 32,
   "id": "e4ddbc31-83e1-498c-bff4-35599b787256",
   "metadata": {
    "tags": []
   },
   "outputs": [
    {
     "name": "stdout",
     "output_type": "stream",
     "text": [
      "The autoreload extension is already loaded. To reload it, use:\n",
      "  %reload_ext autoreload\n"
     ]
    }
   ],
   "source": [
    "import polars as pl\n",
    "import matplotlib.pyplot as plt\n",
    "from pathlib import Path\n",
    "import pandas as pd\n",
    "import statsmodels.api as sm\n",
    "import plotnine as pn\n",
    "import pyranges as pr\n",
    "\n",
    "%load_ext autoreload\n",
    "%autoreload 2"
   ]
  },
  {
   "cell_type": "code",
   "execution_count": 33,
   "id": "6e700dec-5463-4df2-ab57-7595218dc39d",
   "metadata": {
    "tags": []
   },
   "outputs": [],
   "source": [
    "plt.rcParams['figure.dpi'] = 150"
   ]
  },
  {
   "cell_type": "code",
   "execution_count": 34,
   "id": "33d62128-aea7-4c90-883e-61e7600d8314",
   "metadata": {
    "tags": []
   },
   "outputs": [
    {
     "data": {
      "text/plain": [
       "polars.config.Config"
      ]
     },
     "execution_count": 34,
     "metadata": {},
     "output_type": "execute_result"
    }
   ],
   "source": [
    "pl.Config.set_fmt_str_lengths(100)"
   ]
  },
  {
   "cell_type": "code",
   "execution_count": 35,
   "id": "953fae0a-7ad1-4b59-ad8e-e7681132d246",
   "metadata": {
    "tags": []
   },
   "outputs": [],
   "source": [
    "pn.theme_set(pn.theme_bw())\n",
    "pn.theme_update(dpi=150)"
   ]
  },
  {
   "cell_type": "code",
   "execution_count": 36,
   "id": "85e90757-4253-471e-8b35-09e35c36b32e",
   "metadata": {
    "tags": []
   },
   "outputs": [],
   "source": [
    "# tss variant path\n",
    "tss_variant_path = '/s/project/promoter_prediction/kipoi_expression_prediction/variant_tables/tss_variants_2000_2000.parquet'\n",
    "# GTEx variants\n",
    "variant_path = '/s/project/rep/processed/training_results_v16/gtex_v8_old_dna/private_variants.parquet/rare_variants.vcf.parquet/**/*.parquet'\n",
    "# abexp benchmark dataset\n",
    "gtex_benchmark_with_annotation_path = \"/s/project/rep/processed/training_results_v16/gtex_benchmark_with_annotation.parquet/*.parquet\""
   ]
  },
  {
   "cell_type": "markdown",
   "id": "e9bd36a3-268b-457b-9c9c-be3f25c9325a",
   "metadata": {
    "tags": []
   },
   "source": [
    "## Analysis"
   ]
  },
  {
   "cell_type": "code",
   "execution_count": 68,
   "id": "101ccdfe-b4a1-4893-b613-a1a494650801",
   "metadata": {
    "tags": []
   },
   "outputs": [],
   "source": [
    "tss_variants_ldf = (pl.scan_parquet(Path(tss_variant_path)).\n",
    "                       select(pl.col(['gene_id', 'transcript_id', 'transcript_start', 'transcript_end']), \n",
    "                              pl.col('strand').cast(pl.Enum(['-', '+'])),\n",
    "                              pl.col(['chrom', 'variant_start', 'variant_end', 'ref', 'alt',])).\n",
    "                       rename({'gene_id': 'gene', 'transcript_id': 'transcript'}).\n",
    "                       with_columns(pl.col('gene').str.replace(r'([^\\.]+)\\..+$', \"${1}\").alias('gene'),\n",
    "                                    pl.col('transcript').str.replace(r'([^\\.]+)\\..+$', \"${1}\").alias('transcript')))\n",
    "\n",
    "\n",
    "# It is possible that a gene comes multiple times (different versions)"
   ]
  },
  {
   "cell_type": "code",
   "execution_count": 69,
   "id": "2ab8a2d3-af1e-458a-908a-211cedc876b4",
   "metadata": {
    "tags": []
   },
   "outputs": [],
   "source": [
    "variant_ldf = (pl.scan_parquet(variant_path, hive_partitioning=True)\n",
    "               .select(['sampleId', 'chrom', 'start', 'end', 'ref', 'alt'])\n",
    "               .rename({'sampleId': 'individual','start': 'variant_start','end': 'variant_end'}))"
   ]
  },
  {
   "cell_type": "code",
   "execution_count": 70,
   "id": "8f6582af-edf3-4039-a901-5afdebcf46e2",
   "metadata": {
    "tags": []
   },
   "outputs": [
    {
     "name": "stderr",
     "output_type": "stream",
     "text": [
      "/scratch/tmp/tsi/ipykernel_2349429/637943636.py:1: PerformanceWarning: Determining the column names of a LazyFrame requires resolving its schema, which is a potentially expensive operation. Use `LazyFrame.collect_schema().names()` to get the column names without this warning.\n"
     ]
    }
   ],
   "source": [
    "benchmark_columns = pl.scan_parquet(gtex_benchmark_with_annotation_path).columns\n",
    "feature_columns = [c for c in benchmark_columns if '@' in c]\n",
    "training_benchmark_ldf = (pl.scan_parquet(gtex_benchmark_with_annotation_path)\n",
    "                          .select(['gene', 'individual', 'tissue', \n",
    "                                   'FDR', 'zscore', 'AbExp',\n",
    "                                   *feature_columns,\n",
    "                                  ])\n",
    "                          .unique()\n",
    "                          .with_columns(outlier_state=(pl.when(pl.col('FDR') > 0.05)\n",
    "                                                       .then(pl.lit('normal'))\n",
    "                                                       .otherwise(\n",
    "                                                           pl.when(pl.col('zscore') > 0)\n",
    "                                                           .then(pl.lit('overexpressed'))\n",
    "                                                           .otherwise(\n",
    "                                                               pl.when(pl.col('zscore') < 0)\n",
    "                                                               .then(pl.lit('underexpressed'))\n",
    "                                                               # this should never be the case\n",
    "                                                               .otherwise(pl.lit('CHECK'))\n",
    "                                                           ))).cast(pl.Enum(['underexpressed', 'normal', 'overexpressed'])),\n",
    "                                       AbExp=-pl.col('AbExp')))"
   ]
  },
  {
   "cell_type": "code",
   "execution_count": 71,
   "id": "c08bd653-27a2-4d51-a238-6541a5fb22c0",
   "metadata": {},
   "outputs": [
    {
     "data": {
      "text/plain": [
       "['expected_expr@theta',\n",
       " 'splice_ensemble@AbSplice',\n",
       " 'splice_ensemble@MMSplice_SpliceMap_Psi_ref',\n",
       " 'splice_ensemble@SpliceAI',\n",
       " 'vep@cadd_raw.max',\n",
       " 'vep@LoF_HC.proportion',\n",
       " 'vep@transcript_ablation.proportion',\n",
       " 'vep@stop_gained.proportion',\n",
       " 'vep@frameshift_variant.proportion',\n",
       " 'vep@coding_sequence_variant.proportion',\n",
       " 'vep@missense_variant.proportion',\n",
       " 'vep@inframe_deletion.proportion',\n",
       " 'vep@inframe_insertion.proportion',\n",
       " 'vep@stop_lost.proportion',\n",
       " 'vep@3_prime_UTR_variant.proportion',\n",
       " 'vep@5_prime_UTR_variant.proportion',\n",
       " 'vep@NMD_transcript_variant.proportion',\n",
       " 'vep@NMD_escaping_variant.proportion',\n",
       " 'vep@start_lost.proportion',\n",
       " 'vep@splice_donor_variant.proportion',\n",
       " 'vep@splice_acceptor_variant.proportion',\n",
       " 'vep@splice_region_variant.proportion']"
      ]
     },
     "execution_count": 71,
     "metadata": {},
     "output_type": "execute_result"
    }
   ],
   "source": [
    "feature_columns"
   ]
  },
  {
   "cell_type": "markdown",
   "id": "4c68298c-4f0c-4c92-bde5-4209302a2b2b",
   "metadata": {
    "tags": []
   },
   "source": [
    "### What is the enformer variant-effect-score distribution around the TSS?"
   ]
  },
  {
   "cell_type": "code",
   "execution_count": 72,
   "id": "bbef39fe-e87a-4d8f-8f7e-c872a3c08b59",
   "metadata": {},
   "outputs": [
    {
     "data": {
      "text/html": [
       "<div><style>\n",
       ".dataframe > thead > tr,\n",
       ".dataframe > tbody > tr {\n",
       "  text-align: right;\n",
       "  white-space: pre-wrap;\n",
       "}\n",
       "</style>\n",
       "<small>shape: (1, 2)</small><table border=\"1\" class=\"dataframe\"><thead><tr><th>upstream_tss</th><th>downstream_tss</th></tr><tr><td>i64</td><td>i64</td></tr></thead><tbody><tr><td>-2301</td><td>2195</td></tr></tbody></table></div>"
      ],
      "text/plain": [
       "shape: (1, 2)\n",
       "┌──────────────┬────────────────┐\n",
       "│ upstream_tss ┆ downstream_tss │\n",
       "│ ---          ┆ ---            │\n",
       "│ i64          ┆ i64            │\n",
       "╞══════════════╪════════════════╡\n",
       "│ -2301        ┆ 2195           │\n",
       "└──────────────┴────────────────┘"
      ]
     },
     "execution_count": 72,
     "metadata": {},
     "output_type": "execute_result"
    }
   ],
   "source": [
    "tss_variants_ldf = tss_variants_ldf. with_columns(tss_distance=(\n",
    "    pl.when(pl.col('strand') == '+')\n",
    "    .then(pl.col('variant_start') - pl.col('transcript_start'))\n",
    "    .otherwise(pl.col('transcript_end') - pl.col('variant_start'))\n",
    ")).with_columns(absolute_tss_distance=pl.col('tss_distance').abs())\n",
    "\n",
    "tss_variants_ldf.select(upstream_tss=pl.col('tss_distance').min(), downstream_tss=pl.col('tss_distance').max()).collect()"
   ]
  },
  {
   "cell_type": "code",
   "execution_count": 73,
   "id": "ecf27b6d-69eb-4d0f-aef9-b24105523ac0",
   "metadata": {
    "tags": []
   },
   "outputs": [],
   "source": [
    "upstream=2000\n",
    "downstream=2000\n",
    "\n",
    "# filter out variants out of this range\n",
    "tss_variants_ldf = tss_variants_ldf.filter((pl.col('tss_distance') >= -upstream) & (pl.col('tss_distance') <= downstream))\n",
    "\n",
    "# join tss variants with individuals\n",
    "tss_individual_variant_ldf = (variant_ldf.join(tss_variants_ldf, how='inner', on=['chrom', 'variant_start', 'variant_end', 'ref', 'alt']).\n",
    "                              select([\n",
    "                                  'individual', 'chrom', 'variant_start', 'variant_end', 'ref', 'alt',\n",
    "                                  'gene', 'transcript', 'strand', 'tss_distance', 'absolute_tss_distance'])\n",
    "                             )"
   ]
  },
  {
   "cell_type": "code",
   "execution_count": 74,
   "id": "2b9067b1-76fa-43de-b7cb-91964ac84398",
   "metadata": {},
   "outputs": [],
   "source": [
    "# keep the variant closest to the TSS for each individual and gene\n",
    "# tss_individual_variant_ldf = tss_individual_variant_ldf.sort('absolute_tss_distance'). \\\n",
    "#     group_by(['individual', 'gene', 'chrom', 'strand']). \\\n",
    "#     agg(pl.col(['variant_start', 'variant_end', 'ref', 'alt', 'transcript', 'tss_distance']).first())\n",
    "\n",
    "tss_individual_variant_ldf = tss_individual_variant_ldf. \\\n",
    "    group_by(['individual', 'gene', 'chrom', 'strand', 'ref', 'alt', 'variant_start', 'variant_end']). \\\n",
    "    agg(pl.col(['transcript', 'tss_distance']).first())\n",
    "\n",
    "# join outrider with variants on individual\n",
    "tss_individual_variant_outrider_ldf = (\n",
    "    tss_individual_variant_ldf\n",
    "    .join(training_benchmark_ldf, how='inner', on=['individual', 'gene'])\n",
    "    .select(['gene', 'tissue', 'individual', 'tss_distance', 'outlier_state', \n",
    "             'zscore', 'FDR', 'AbExp', *feature_columns]))"
   ]
  },
  {
   "cell_type": "code",
   "execution_count": 75,
   "id": "0be68907-e131-4d75-9149-888dc4472fa1",
   "metadata": {},
   "outputs": [
    {
     "data": {
      "text/plain": [
       "(99459917, 29)"
      ]
     },
     "execution_count": 75,
     "metadata": {},
     "output_type": "execute_result"
    }
   ],
   "source": [
    "training_benchmark_ldf.collect().shape"
   ]
  },
  {
   "cell_type": "code",
   "execution_count": 76,
   "id": "0e1b7b73-e917-4b1a-8177-5d583f712a3e",
   "metadata": {},
   "outputs": [
    {
     "data": {
      "text/plain": [
       "(1506893, 10)"
      ]
     },
     "execution_count": 76,
     "metadata": {},
     "output_type": "execute_result"
    }
   ],
   "source": [
    "tss_individual_variant_ldf.collect().shape"
   ]
  },
  {
   "cell_type": "code",
   "execution_count": 77,
   "id": "b30aa4af-c070-4480-9fe3-c5713cf581a0",
   "metadata": {},
   "outputs": [
    {
     "data": {
      "text/html": [
       "<div><style>\n",
       ".dataframe > thead > tr,\n",
       ".dataframe > tbody > tr {\n",
       "  text-align: right;\n",
       "  white-space: pre-wrap;\n",
       "}\n",
       "</style>\n",
       "<small>shape: (5, 12)</small><table border=\"1\" class=\"dataframe\"><thead><tr><th>gene</th><th>transcript</th><th>transcript_start</th><th>transcript_end</th><th>strand</th><th>chrom</th><th>variant_start</th><th>variant_end</th><th>ref</th><th>alt</th><th>tss_distance</th><th>absolute_tss_distance</th></tr><tr><td>str</td><td>str</td><td>i64</td><td>i64</td><td>enum</td><td>str</td><td>i64</td><td>i64</td><td>str</td><td>str</td><td>i64</td><td>i64</td></tr></thead><tbody><tr><td>&quot;ENSG00000184481&quot;</td><td>&quot;ENST00000374259&quot;</td><td>70315700</td><td>70323382</td><td>&quot;+&quot;</td><td>&quot;chrX&quot;</td><td>70315840</td><td>70315841</td><td>&quot;C&quot;</td><td>&quot;G&quot;</td><td>140</td><td>140</td></tr><tr><td>&quot;ENSG00000184481&quot;</td><td>&quot;ENST00000466874&quot;</td><td>70316102</td><td>70320622</td><td>&quot;+&quot;</td><td>&quot;chrX&quot;</td><td>70315840</td><td>70315841</td><td>&quot;C&quot;</td><td>&quot;G&quot;</td><td>-262</td><td>262</td></tr><tr><td>&quot;ENSG00000184481&quot;</td><td>&quot;ENST00000341558&quot;</td><td>70316378</td><td>70321934</td><td>&quot;+&quot;</td><td>&quot;chrX&quot;</td><td>70315840</td><td>70315841</td><td>&quot;C&quot;</td><td>&quot;G&quot;</td><td>-538</td><td>538</td></tr><tr><td>&quot;ENSG00000184481&quot;</td><td>&quot;ENST00000374259&quot;</td><td>70315700</td><td>70323382</td><td>&quot;+&quot;</td><td>&quot;chrX&quot;</td><td>70315994</td><td>70315995</td><td>&quot;A&quot;</td><td>&quot;G&quot;</td><td>294</td><td>294</td></tr><tr><td>&quot;ENSG00000184481&quot;</td><td>&quot;ENST00000466874&quot;</td><td>70316102</td><td>70320622</td><td>&quot;+&quot;</td><td>&quot;chrX&quot;</td><td>70315994</td><td>70315995</td><td>&quot;A&quot;</td><td>&quot;G&quot;</td><td>-108</td><td>108</td></tr></tbody></table></div>"
      ],
      "text/plain": [
       "shape: (5, 12)\n",
       "┌─────────────┬─────────────┬─────────────┬─────────────┬───┬─────┬─────┬─────────────┬────────────┐\n",
       "│ gene        ┆ transcript  ┆ transcript_ ┆ transcript_ ┆ … ┆ ref ┆ alt ┆ tss_distanc ┆ absolute_t │\n",
       "│ ---         ┆ ---         ┆ start       ┆ end         ┆   ┆ --- ┆ --- ┆ e           ┆ ss_distanc │\n",
       "│ str         ┆ str         ┆ ---         ┆ ---         ┆   ┆ str ┆ str ┆ ---         ┆ e          │\n",
       "│             ┆             ┆ i64         ┆ i64         ┆   ┆     ┆     ┆ i64         ┆ ---        │\n",
       "│             ┆             ┆             ┆             ┆   ┆     ┆     ┆             ┆ i64        │\n",
       "╞═════════════╪═════════════╪═════════════╪═════════════╪═══╪═════╪═════╪═════════════╪════════════╡\n",
       "│ ENSG0000018 ┆ ENST0000037 ┆ 70315700    ┆ 70323382    ┆ … ┆ C   ┆ G   ┆ 140         ┆ 140        │\n",
       "│ 4481        ┆ 4259        ┆             ┆             ┆   ┆     ┆     ┆             ┆            │\n",
       "│ ENSG0000018 ┆ ENST0000046 ┆ 70316102    ┆ 70320622    ┆ … ┆ C   ┆ G   ┆ -262        ┆ 262        │\n",
       "│ 4481        ┆ 6874        ┆             ┆             ┆   ┆     ┆     ┆             ┆            │\n",
       "│ ENSG0000018 ┆ ENST0000034 ┆ 70316378    ┆ 70321934    ┆ … ┆ C   ┆ G   ┆ -538        ┆ 538        │\n",
       "│ 4481        ┆ 1558        ┆             ┆             ┆   ┆     ┆     ┆             ┆            │\n",
       "│ ENSG0000018 ┆ ENST0000037 ┆ 70315700    ┆ 70323382    ┆ … ┆ A   ┆ G   ┆ 294         ┆ 294        │\n",
       "│ 4481        ┆ 4259        ┆             ┆             ┆   ┆     ┆     ┆             ┆            │\n",
       "│ ENSG0000018 ┆ ENST0000046 ┆ 70316102    ┆ 70320622    ┆ … ┆ A   ┆ G   ┆ -108        ┆ 108        │\n",
       "│ 4481        ┆ 6874        ┆             ┆             ┆   ┆     ┆     ┆             ┆            │\n",
       "└─────────────┴─────────────┴─────────────┴─────────────┴───┴─────┴─────┴─────────────┴────────────┘"
      ]
     },
     "execution_count": 77,
     "metadata": {},
     "output_type": "execute_result"
    }
   ],
   "source": [
    "tss_variants_ldf.head().collect()"
   ]
  },
  {
   "cell_type": "code",
   "execution_count": 78,
   "id": "f29c54ce-2c6f-4edf-ab9d-e0bed927d56f",
   "metadata": {},
   "outputs": [
    {
     "data": {
      "text/plain": [
       "(4081025, 12)"
      ]
     },
     "execution_count": 78,
     "metadata": {},
     "output_type": "execute_result"
    }
   ],
   "source": [
    "tss_variants_ldf.collect().shape"
   ]
  },
  {
   "cell_type": "code",
   "execution_count": 79,
   "id": "f68e70ef-8065-42bf-93ac-4b9b88668091",
   "metadata": {
    "scrolled": true,
    "tags": []
   },
   "outputs": [],
   "source": [
    "# pl.Config.set_streaming_chunk_size(100)\n",
    "# print(veff_outrider_ldf.explain(streaming=True))"
   ]
  },
  {
   "cell_type": "code",
   "execution_count": 104,
   "id": "17526836-1ca4-456e-a574-92440667a150",
   "metadata": {
    "tags": []
   },
   "outputs": [],
   "source": [
    "df = tss_individual_variant_outrider_ldf.collect()"
   ]
  },
  {
   "cell_type": "code",
   "execution_count": 105,
   "id": "cf1ad999-e74b-43e9-adf3-054b9ff46070",
   "metadata": {},
   "outputs": [
    {
     "data": {
      "text/plain": [
       "(14903908, 30)"
      ]
     },
     "execution_count": 105,
     "metadata": {},
     "output_type": "execute_result"
    }
   ],
   "source": [
    "df.shape"
   ]
  },
  {
   "cell_type": "code",
   "execution_count": 106,
   "id": "3e3baee6-b92f-4448-a082-8b37188d7525",
   "metadata": {},
   "outputs": [
    {
     "data": {
      "text/html": [
       "<div><style>\n",
       ".dataframe > thead > tr,\n",
       ".dataframe > tbody > tr {\n",
       "  text-align: right;\n",
       "  white-space: pre-wrap;\n",
       "}\n",
       "</style>\n",
       "<small>shape: (5, 30)</small><table border=\"1\" class=\"dataframe\"><thead><tr><th>gene</th><th>tissue</th><th>individual</th><th>tss_distance</th><th>outlier_state</th><th>zscore</th><th>FDR</th><th>AbExp</th><th>expected_expr@theta</th><th>splice_ensemble@AbSplice</th><th>splice_ensemble@MMSplice_SpliceMap_Psi_ref</th><th>splice_ensemble@SpliceAI</th><th>vep@cadd_raw.max</th><th>vep@LoF_HC.proportion</th><th>vep@transcript_ablation.proportion</th><th>vep@stop_gained.proportion</th><th>vep@frameshift_variant.proportion</th><th>vep@coding_sequence_variant.proportion</th><th>vep@missense_variant.proportion</th><th>vep@inframe_deletion.proportion</th><th>vep@inframe_insertion.proportion</th><th>vep@stop_lost.proportion</th><th>vep@3_prime_UTR_variant.proportion</th><th>vep@5_prime_UTR_variant.proportion</th><th>vep@NMD_transcript_variant.proportion</th><th>vep@NMD_escaping_variant.proportion</th><th>vep@start_lost.proportion</th><th>vep@splice_donor_variant.proportion</th><th>vep@splice_acceptor_variant.proportion</th><th>vep@splice_region_variant.proportion</th></tr><tr><td>str</td><td>str</td><td>str</td><td>i64</td><td>enum</td><td>f32</td><td>f64</td><td>f64</td><td>f32</td><td>f64</td><td>f64</td><td>f64</td><td>f32</td><td>f32</td><td>f32</td><td>f32</td><td>f32</td><td>f32</td><td>f32</td><td>f32</td><td>f32</td><td>f32</td><td>f32</td><td>f32</td><td>f32</td><td>f32</td><td>f32</td><td>f32</td><td>f32</td><td>f32</td></tr></thead><tbody><tr><td>&quot;ENSG00000110090&quot;</td><td>&quot;Colon - Transverse&quot;</td><td>&quot;GTEX-WFG7&quot;</td><td>-41</td><td>&quot;normal&quot;</td><td>0.316841</td><td>1.0</td><td>0.00066</td><td>35.676929</td><td>0.000178</td><td>0.000559</td><td>0.0</td><td>-0.283923</td><td>0.0</td><td>0.0</td><td>0.0</td><td>0.0</td><td>0.0</td><td>0.0</td><td>0.0</td><td>0.0</td><td>0.0</td><td>0.0</td><td>0.0</td><td>0.0</td><td>0.0</td><td>0.0</td><td>0.0</td><td>0.0</td><td>0.0</td></tr><tr><td>&quot;ENSG00000154845&quot;</td><td>&quot;Testis&quot;</td><td>&quot;GTEX-ZLFU&quot;</td><td>-1048</td><td>&quot;normal&quot;</td><td>-0.57041</td><td>1.0</td><td>0.000334</td><td>401.348145</td><td>null</td><td>null</td><td>null</td><td>1.005231</td><td>0.0</td><td>0.0</td><td>0.0</td><td>0.0</td><td>0.0</td><td>0.0</td><td>0.0</td><td>0.0</td><td>0.0</td><td>0.0</td><td>0.0</td><td>0.068593</td><td>0.0</td><td>0.0</td><td>0.0</td><td>0.0</td><td>0.0</td></tr><tr><td>&quot;ENSG00000154845&quot;</td><td>&quot;Testis&quot;</td><td>&quot;GTEX-ZLFU&quot;</td><td>-1028</td><td>&quot;normal&quot;</td><td>-0.57041</td><td>1.0</td><td>0.000334</td><td>401.348145</td><td>null</td><td>null</td><td>null</td><td>1.005231</td><td>0.0</td><td>0.0</td><td>0.0</td><td>0.0</td><td>0.0</td><td>0.0</td><td>0.0</td><td>0.0</td><td>0.0</td><td>0.0</td><td>0.0</td><td>0.068593</td><td>0.0</td><td>0.0</td><td>0.0</td><td>0.0</td><td>0.0</td></tr><tr><td>&quot;ENSG00000154845&quot;</td><td>&quot;Testis&quot;</td><td>&quot;GTEX-ZLFU&quot;</td><td>-1157</td><td>&quot;normal&quot;</td><td>-0.57041</td><td>1.0</td><td>0.000334</td><td>401.348145</td><td>null</td><td>null</td><td>null</td><td>1.005231</td><td>0.0</td><td>0.0</td><td>0.0</td><td>0.0</td><td>0.0</td><td>0.0</td><td>0.0</td><td>0.0</td><td>0.0</td><td>0.0</td><td>0.0</td><td>0.068593</td><td>0.0</td><td>0.0</td><td>0.0</td><td>0.0</td><td>0.0</td></tr><tr><td>&quot;ENSG00000154845&quot;</td><td>&quot;Testis&quot;</td><td>&quot;GTEX-ZLFU&quot;</td><td>-449</td><td>&quot;normal&quot;</td><td>-0.57041</td><td>1.0</td><td>0.000334</td><td>401.348145</td><td>null</td><td>null</td><td>null</td><td>1.005231</td><td>0.0</td><td>0.0</td><td>0.0</td><td>0.0</td><td>0.0</td><td>0.0</td><td>0.0</td><td>0.0</td><td>0.0</td><td>0.0</td><td>0.0</td><td>0.068593</td><td>0.0</td><td>0.0</td><td>0.0</td><td>0.0</td><td>0.0</td></tr></tbody></table></div>"
      ],
      "text/plain": [
       "shape: (5, 30)\n",
       "┌───────────┬───────────┬───────────┬───────────┬───┬───────────┬───────────┬───────────┬──────────┐\n",
       "│ gene      ┆ tissue    ┆ individua ┆ tss_dista ┆ … ┆ vep@start ┆ vep@splic ┆ vep@splic ┆ vep@spli │\n",
       "│ ---       ┆ ---       ┆ l         ┆ nce       ┆   ┆ _lost.pro ┆ e_donor_v ┆ e_accepto ┆ ce_regio │\n",
       "│ str       ┆ str       ┆ ---       ┆ ---       ┆   ┆ portion   ┆ ariant.pr ┆ r_variant ┆ n_varian │\n",
       "│           ┆           ┆ str       ┆ i64       ┆   ┆ ---       ┆ oportion  ┆ .proporti ┆ t.propor │\n",
       "│           ┆           ┆           ┆           ┆   ┆ f32       ┆ ---       ┆ on        ┆ tion     │\n",
       "│           ┆           ┆           ┆           ┆   ┆           ┆ f32       ┆ ---       ┆ ---      │\n",
       "│           ┆           ┆           ┆           ┆   ┆           ┆           ┆ f32       ┆ f32      │\n",
       "╞═══════════╪═══════════╪═══════════╪═══════════╪═══╪═══════════╪═══════════╪═══════════╪══════════╡\n",
       "│ ENSG00000 ┆ Colon -   ┆ GTEX-WFG7 ┆ -41       ┆ … ┆ 0.0       ┆ 0.0       ┆ 0.0       ┆ 0.0      │\n",
       "│ 110090    ┆ Transvers ┆           ┆           ┆   ┆           ┆           ┆           ┆          │\n",
       "│           ┆ e         ┆           ┆           ┆   ┆           ┆           ┆           ┆          │\n",
       "│ ENSG00000 ┆ Testis    ┆ GTEX-ZLFU ┆ -1048     ┆ … ┆ 0.0       ┆ 0.0       ┆ 0.0       ┆ 0.0      │\n",
       "│ 154845    ┆           ┆           ┆           ┆   ┆           ┆           ┆           ┆          │\n",
       "│ ENSG00000 ┆ Testis    ┆ GTEX-ZLFU ┆ -1028     ┆ … ┆ 0.0       ┆ 0.0       ┆ 0.0       ┆ 0.0      │\n",
       "│ 154845    ┆           ┆           ┆           ┆   ┆           ┆           ┆           ┆          │\n",
       "│ ENSG00000 ┆ Testis    ┆ GTEX-ZLFU ┆ -1157     ┆ … ┆ 0.0       ┆ 0.0       ┆ 0.0       ┆ 0.0      │\n",
       "│ 154845    ┆           ┆           ┆           ┆   ┆           ┆           ┆           ┆          │\n",
       "│ ENSG00000 ┆ Testis    ┆ GTEX-ZLFU ┆ -449      ┆ … ┆ 0.0       ┆ 0.0       ┆ 0.0       ┆ 0.0      │\n",
       "│ 154845    ┆           ┆           ┆           ┆   ┆           ┆           ┆           ┆          │\n",
       "└───────────┴───────────┴───────────┴───────────┴───┴───────────┴───────────┴───────────┴──────────┘"
      ]
     },
     "execution_count": 106,
     "metadata": {},
     "output_type": "execute_result"
    }
   ],
   "source": [
    "df.head()"
   ]
  },
  {
   "cell_type": "code",
   "execution_count": 107,
   "id": "ebed1fa7-ed2a-440c-9db8-0fefda39a09b",
   "metadata": {},
   "outputs": [],
   "source": [
    "df_bac = df\n",
    "\n",
    "# tss_distance in bins\n",
    "bin_size=50\n",
    "cuts = list(range(-upstream + bin_size, downstream, bin_size))\n",
    "cut_labels = [str(x) for x in [-upstream, *cuts]]\n",
    "tss_distance_labels = {c: f'[{c}, {int(c) + bin_size})' for c in cut_labels}\n",
    "df = (df.with_columns(tss_distance_bin=(pl.col('tss_distance').cut(cuts, labels=cut_labels))\n",
    "                      .cast(pl.Enum(cut_labels)))\n",
    "      .with_columns(is_underexpressed=(pl.col('outlier_state') == 'underexpressed')))\n",
    "\n",
    "df = (df.with_columns(tss_distance_bin_label=pl.col(\"tss_distance_bin\").replace_strict(tss_distance_labels), \n",
    "                                                      bin_size=pl.lit(50)))"
   ]
  },
  {
   "cell_type": "code",
   "execution_count": 108,
   "id": "cb88f9da-3933-4458-b2e1-b64bb6e85384",
   "metadata": {},
   "outputs": [
    {
     "data": {
      "text/html": [
       "<div><style>\n",
       ".dataframe > thead > tr,\n",
       ".dataframe > tbody > tr {\n",
       "  text-align: right;\n",
       "  white-space: pre-wrap;\n",
       "}\n",
       "</style>\n",
       "<small>shape: (5, 34)</small><table border=\"1\" class=\"dataframe\"><thead><tr><th>gene</th><th>tissue</th><th>individual</th><th>tss_distance</th><th>outlier_state</th><th>zscore</th><th>FDR</th><th>AbExp</th><th>expected_expr@theta</th><th>splice_ensemble@AbSplice</th><th>splice_ensemble@MMSplice_SpliceMap_Psi_ref</th><th>splice_ensemble@SpliceAI</th><th>vep@cadd_raw.max</th><th>vep@LoF_HC.proportion</th><th>vep@transcript_ablation.proportion</th><th>vep@stop_gained.proportion</th><th>vep@frameshift_variant.proportion</th><th>vep@coding_sequence_variant.proportion</th><th>vep@missense_variant.proportion</th><th>vep@inframe_deletion.proportion</th><th>vep@inframe_insertion.proportion</th><th>vep@stop_lost.proportion</th><th>vep@3_prime_UTR_variant.proportion</th><th>vep@5_prime_UTR_variant.proportion</th><th>vep@NMD_transcript_variant.proportion</th><th>vep@NMD_escaping_variant.proportion</th><th>vep@start_lost.proportion</th><th>vep@splice_donor_variant.proportion</th><th>vep@splice_acceptor_variant.proportion</th><th>vep@splice_region_variant.proportion</th><th>tss_distance_bin</th><th>is_underexpressed</th><th>tss_distance_bin_label</th><th>bin_size</th></tr><tr><td>str</td><td>str</td><td>str</td><td>i64</td><td>enum</td><td>f32</td><td>f64</td><td>f64</td><td>f32</td><td>f64</td><td>f64</td><td>f64</td><td>f32</td><td>f32</td><td>f32</td><td>f32</td><td>f32</td><td>f32</td><td>f32</td><td>f32</td><td>f32</td><td>f32</td><td>f32</td><td>f32</td><td>f32</td><td>f32</td><td>f32</td><td>f32</td><td>f32</td><td>f32</td><td>enum</td><td>bool</td><td>str</td><td>i32</td></tr></thead><tbody><tr><td>&quot;ENSG00000110090&quot;</td><td>&quot;Colon - Transverse&quot;</td><td>&quot;GTEX-WFG7&quot;</td><td>-41</td><td>&quot;normal&quot;</td><td>0.316841</td><td>1.0</td><td>0.00066</td><td>35.676929</td><td>0.000178</td><td>0.000559</td><td>0.0</td><td>-0.283923</td><td>0.0</td><td>0.0</td><td>0.0</td><td>0.0</td><td>0.0</td><td>0.0</td><td>0.0</td><td>0.0</td><td>0.0</td><td>0.0</td><td>0.0</td><td>0.0</td><td>0.0</td><td>0.0</td><td>0.0</td><td>0.0</td><td>0.0</td><td>&quot;-50&quot;</td><td>false</td><td>&quot;[-50, 0)&quot;</td><td>50</td></tr><tr><td>&quot;ENSG00000154845&quot;</td><td>&quot;Testis&quot;</td><td>&quot;GTEX-ZLFU&quot;</td><td>-1048</td><td>&quot;normal&quot;</td><td>-0.57041</td><td>1.0</td><td>0.000334</td><td>401.348145</td><td>null</td><td>null</td><td>null</td><td>1.005231</td><td>0.0</td><td>0.0</td><td>0.0</td><td>0.0</td><td>0.0</td><td>0.0</td><td>0.0</td><td>0.0</td><td>0.0</td><td>0.0</td><td>0.0</td><td>0.068593</td><td>0.0</td><td>0.0</td><td>0.0</td><td>0.0</td><td>0.0</td><td>&quot;-1050&quot;</td><td>false</td><td>&quot;[-1050, -1000)&quot;</td><td>50</td></tr><tr><td>&quot;ENSG00000154845&quot;</td><td>&quot;Testis&quot;</td><td>&quot;GTEX-ZLFU&quot;</td><td>-1028</td><td>&quot;normal&quot;</td><td>-0.57041</td><td>1.0</td><td>0.000334</td><td>401.348145</td><td>null</td><td>null</td><td>null</td><td>1.005231</td><td>0.0</td><td>0.0</td><td>0.0</td><td>0.0</td><td>0.0</td><td>0.0</td><td>0.0</td><td>0.0</td><td>0.0</td><td>0.0</td><td>0.0</td><td>0.068593</td><td>0.0</td><td>0.0</td><td>0.0</td><td>0.0</td><td>0.0</td><td>&quot;-1050&quot;</td><td>false</td><td>&quot;[-1050, -1000)&quot;</td><td>50</td></tr><tr><td>&quot;ENSG00000154845&quot;</td><td>&quot;Testis&quot;</td><td>&quot;GTEX-ZLFU&quot;</td><td>-1157</td><td>&quot;normal&quot;</td><td>-0.57041</td><td>1.0</td><td>0.000334</td><td>401.348145</td><td>null</td><td>null</td><td>null</td><td>1.005231</td><td>0.0</td><td>0.0</td><td>0.0</td><td>0.0</td><td>0.0</td><td>0.0</td><td>0.0</td><td>0.0</td><td>0.0</td><td>0.0</td><td>0.0</td><td>0.068593</td><td>0.0</td><td>0.0</td><td>0.0</td><td>0.0</td><td>0.0</td><td>&quot;-1200&quot;</td><td>false</td><td>&quot;[-1200, -1150)&quot;</td><td>50</td></tr><tr><td>&quot;ENSG00000154845&quot;</td><td>&quot;Testis&quot;</td><td>&quot;GTEX-ZLFU&quot;</td><td>-449</td><td>&quot;normal&quot;</td><td>-0.57041</td><td>1.0</td><td>0.000334</td><td>401.348145</td><td>null</td><td>null</td><td>null</td><td>1.005231</td><td>0.0</td><td>0.0</td><td>0.0</td><td>0.0</td><td>0.0</td><td>0.0</td><td>0.0</td><td>0.0</td><td>0.0</td><td>0.0</td><td>0.0</td><td>0.068593</td><td>0.0</td><td>0.0</td><td>0.0</td><td>0.0</td><td>0.0</td><td>&quot;-450&quot;</td><td>false</td><td>&quot;[-450, -400)&quot;</td><td>50</td></tr></tbody></table></div>"
      ],
      "text/plain": [
       "shape: (5, 34)\n",
       "┌───────────┬───────────┬───────────┬───────────┬───┬───────────┬───────────┬───────────┬──────────┐\n",
       "│ gene      ┆ tissue    ┆ individua ┆ tss_dista ┆ … ┆ tss_dista ┆ is_undere ┆ tss_dista ┆ bin_size │\n",
       "│ ---       ┆ ---       ┆ l         ┆ nce       ┆   ┆ nce_bin   ┆ xpressed  ┆ nce_bin_l ┆ ---      │\n",
       "│ str       ┆ str       ┆ ---       ┆ ---       ┆   ┆ ---       ┆ ---       ┆ abel      ┆ i32      │\n",
       "│           ┆           ┆ str       ┆ i64       ┆   ┆ enum      ┆ bool      ┆ ---       ┆          │\n",
       "│           ┆           ┆           ┆           ┆   ┆           ┆           ┆ str       ┆          │\n",
       "╞═══════════╪═══════════╪═══════════╪═══════════╪═══╪═══════════╪═══════════╪═══════════╪══════════╡\n",
       "│ ENSG00000 ┆ Colon -   ┆ GTEX-WFG7 ┆ -41       ┆ … ┆ -50       ┆ false     ┆ [-50, 0)  ┆ 50       │\n",
       "│ 110090    ┆ Transvers ┆           ┆           ┆   ┆           ┆           ┆           ┆          │\n",
       "│           ┆ e         ┆           ┆           ┆   ┆           ┆           ┆           ┆          │\n",
       "│ ENSG00000 ┆ Testis    ┆ GTEX-ZLFU ┆ -1048     ┆ … ┆ -1050     ┆ false     ┆ [-1050,   ┆ 50       │\n",
       "│ 154845    ┆           ┆           ┆           ┆   ┆           ┆           ┆ -1000)    ┆          │\n",
       "│ ENSG00000 ┆ Testis    ┆ GTEX-ZLFU ┆ -1028     ┆ … ┆ -1050     ┆ false     ┆ [-1050,   ┆ 50       │\n",
       "│ 154845    ┆           ┆           ┆           ┆   ┆           ┆           ┆ -1000)    ┆          │\n",
       "│ ENSG00000 ┆ Testis    ┆ GTEX-ZLFU ┆ -1157     ┆ … ┆ -1200     ┆ false     ┆ [-1200,   ┆ 50       │\n",
       "│ 154845    ┆           ┆           ┆           ┆   ┆           ┆           ┆ -1150)    ┆          │\n",
       "│ ENSG00000 ┆ Testis    ┆ GTEX-ZLFU ┆ -449      ┆ … ┆ -450      ┆ false     ┆ [-450,    ┆ 50       │\n",
       "│ 154845    ┆           ┆           ┆           ┆   ┆           ┆           ┆ -400)     ┆          │\n",
       "└───────────┴───────────┴───────────┴───────────┴───┴───────────┴───────────┴───────────┴──────────┘"
      ]
     },
     "execution_count": 108,
     "metadata": {},
     "output_type": "execute_result"
    }
   ],
   "source": [
    "df.head()"
   ]
  },
  {
   "cell_type": "code",
   "execution_count": 109,
   "id": "22d4a7dc-9ad4-4c20-8cab-e1810c1763e8",
   "metadata": {},
   "outputs": [],
   "source": [
    "# set new bins\n",
    "# new_bins = [(-2000, -500),\n",
    "#             *[(i, i + 100) for i in range(-500, -100, 100)],\n",
    "#             (-100, -50),\n",
    "#             (-50, 0),\n",
    "#             (0, 50),\n",
    "#             (50, 100),\n",
    "#             *[(i, i + 100) for i in range(100, 500, 100)],]\n",
    "# new_bins = [(-2000, -1000),\n",
    "#             (-1000, -500),\n",
    "#             *[(i, i + 100) for i in range(-500, -100, 100)],\n",
    "#             (-100, 0),\n",
    "#             (0, 100),\n",
    "#             *[(i, i + 100) for i in range(100, 500, 100)],\n",
    "#             (500, 1000),\n",
    "#             (1000, 2000)]\n",
    "new_bins = [(i, i + 250) for i in range(-2000, 2000, 250)]\n",
    "new_bin_labels  = [f'[{start}, {stop})' for start, stop in new_bins]\n",
    "\n",
    "df_bac = df\n",
    "for start, stop in new_bins:\n",
    "    df = df.with_columns(tss_distance_bin_label=(pl.when((pl.col('tss_distance_bin').cast(pl.Int16) >= start) & (pl.col('tss_distance_bin').cast(pl.Int16) <= stop))\n",
    "                                                 .then(pl.lit(f'[{start}, {stop})'))                                  \n",
    "                                                 .otherwise(pl.col('tss_distance_bin_label'))),\n",
    "                         bin_size = (pl.when((pl.col('tss_distance_bin').cast(pl.Int16) >= start) & (pl.col('tss_distance_bin').cast(pl.Int16) < stop))\n",
    "                                     .then(pl.lit(stop - start))\n",
    "                                     .otherwise(pl.col('bin_size'))))\n",
    "\n",
    "df = df.with_columns(tss_distance_bin_label=pl.col('tss_distance_bin_label').cast(pl.Enum(new_bin_labels)))"
   ]
  },
  {
   "cell_type": "code",
   "execution_count": 110,
   "id": "fa867e79-09a4-4814-ae9b-f9b406a2320c",
   "metadata": {},
   "outputs": [
    {
     "data": {
      "text/html": [
       "<div><style>\n",
       ".dataframe > thead > tr,\n",
       ".dataframe > tbody > tr {\n",
       "  text-align: right;\n",
       "  white-space: pre-wrap;\n",
       "}\n",
       "</style>\n",
       "<small>shape: (5, 34)</small><table border=\"1\" class=\"dataframe\"><thead><tr><th>gene</th><th>tissue</th><th>individual</th><th>tss_distance</th><th>outlier_state</th><th>zscore</th><th>FDR</th><th>AbExp</th><th>expected_expr@theta</th><th>splice_ensemble@AbSplice</th><th>splice_ensemble@MMSplice_SpliceMap_Psi_ref</th><th>splice_ensemble@SpliceAI</th><th>vep@cadd_raw.max</th><th>vep@LoF_HC.proportion</th><th>vep@transcript_ablation.proportion</th><th>vep@stop_gained.proportion</th><th>vep@frameshift_variant.proportion</th><th>vep@coding_sequence_variant.proportion</th><th>vep@missense_variant.proportion</th><th>vep@inframe_deletion.proportion</th><th>vep@inframe_insertion.proportion</th><th>vep@stop_lost.proportion</th><th>vep@3_prime_UTR_variant.proportion</th><th>vep@5_prime_UTR_variant.proportion</th><th>vep@NMD_transcript_variant.proportion</th><th>vep@NMD_escaping_variant.proportion</th><th>vep@start_lost.proportion</th><th>vep@splice_donor_variant.proportion</th><th>vep@splice_acceptor_variant.proportion</th><th>vep@splice_region_variant.proportion</th><th>tss_distance_bin</th><th>is_underexpressed</th><th>tss_distance_bin_label</th><th>bin_size</th></tr><tr><td>str</td><td>str</td><td>str</td><td>i64</td><td>enum</td><td>f32</td><td>f64</td><td>f64</td><td>f32</td><td>f64</td><td>f64</td><td>f64</td><td>f32</td><td>f32</td><td>f32</td><td>f32</td><td>f32</td><td>f32</td><td>f32</td><td>f32</td><td>f32</td><td>f32</td><td>f32</td><td>f32</td><td>f32</td><td>f32</td><td>f32</td><td>f32</td><td>f32</td><td>f32</td><td>enum</td><td>bool</td><td>enum</td><td>i32</td></tr></thead><tbody><tr><td>&quot;ENSG00000110090&quot;</td><td>&quot;Colon - Transverse&quot;</td><td>&quot;GTEX-WFG7&quot;</td><td>-41</td><td>&quot;normal&quot;</td><td>0.316841</td><td>1.0</td><td>0.00066</td><td>35.676929</td><td>0.000178</td><td>0.000559</td><td>0.0</td><td>-0.283923</td><td>0.0</td><td>0.0</td><td>0.0</td><td>0.0</td><td>0.0</td><td>0.0</td><td>0.0</td><td>0.0</td><td>0.0</td><td>0.0</td><td>0.0</td><td>0.0</td><td>0.0</td><td>0.0</td><td>0.0</td><td>0.0</td><td>0.0</td><td>&quot;-50&quot;</td><td>false</td><td>&quot;[-250, 0)&quot;</td><td>250</td></tr><tr><td>&quot;ENSG00000154845&quot;</td><td>&quot;Testis&quot;</td><td>&quot;GTEX-ZLFU&quot;</td><td>-1048</td><td>&quot;normal&quot;</td><td>-0.57041</td><td>1.0</td><td>0.000334</td><td>401.348145</td><td>null</td><td>null</td><td>null</td><td>1.005231</td><td>0.0</td><td>0.0</td><td>0.0</td><td>0.0</td><td>0.0</td><td>0.0</td><td>0.0</td><td>0.0</td><td>0.0</td><td>0.0</td><td>0.0</td><td>0.068593</td><td>0.0</td><td>0.0</td><td>0.0</td><td>0.0</td><td>0.0</td><td>&quot;-1050&quot;</td><td>false</td><td>&quot;[-1250, -1000)&quot;</td><td>250</td></tr><tr><td>&quot;ENSG00000154845&quot;</td><td>&quot;Testis&quot;</td><td>&quot;GTEX-ZLFU&quot;</td><td>-1028</td><td>&quot;normal&quot;</td><td>-0.57041</td><td>1.0</td><td>0.000334</td><td>401.348145</td><td>null</td><td>null</td><td>null</td><td>1.005231</td><td>0.0</td><td>0.0</td><td>0.0</td><td>0.0</td><td>0.0</td><td>0.0</td><td>0.0</td><td>0.0</td><td>0.0</td><td>0.0</td><td>0.0</td><td>0.068593</td><td>0.0</td><td>0.0</td><td>0.0</td><td>0.0</td><td>0.0</td><td>&quot;-1050&quot;</td><td>false</td><td>&quot;[-1250, -1000)&quot;</td><td>250</td></tr><tr><td>&quot;ENSG00000154845&quot;</td><td>&quot;Testis&quot;</td><td>&quot;GTEX-ZLFU&quot;</td><td>-1157</td><td>&quot;normal&quot;</td><td>-0.57041</td><td>1.0</td><td>0.000334</td><td>401.348145</td><td>null</td><td>null</td><td>null</td><td>1.005231</td><td>0.0</td><td>0.0</td><td>0.0</td><td>0.0</td><td>0.0</td><td>0.0</td><td>0.0</td><td>0.0</td><td>0.0</td><td>0.0</td><td>0.0</td><td>0.068593</td><td>0.0</td><td>0.0</td><td>0.0</td><td>0.0</td><td>0.0</td><td>&quot;-1200&quot;</td><td>false</td><td>&quot;[-1250, -1000)&quot;</td><td>250</td></tr><tr><td>&quot;ENSG00000154845&quot;</td><td>&quot;Testis&quot;</td><td>&quot;GTEX-ZLFU&quot;</td><td>-449</td><td>&quot;normal&quot;</td><td>-0.57041</td><td>1.0</td><td>0.000334</td><td>401.348145</td><td>null</td><td>null</td><td>null</td><td>1.005231</td><td>0.0</td><td>0.0</td><td>0.0</td><td>0.0</td><td>0.0</td><td>0.0</td><td>0.0</td><td>0.0</td><td>0.0</td><td>0.0</td><td>0.0</td><td>0.068593</td><td>0.0</td><td>0.0</td><td>0.0</td><td>0.0</td><td>0.0</td><td>&quot;-450&quot;</td><td>false</td><td>&quot;[-500, -250)&quot;</td><td>250</td></tr></tbody></table></div>"
      ],
      "text/plain": [
       "shape: (5, 34)\n",
       "┌───────────┬───────────┬───────────┬───────────┬───┬───────────┬───────────┬───────────┬──────────┐\n",
       "│ gene      ┆ tissue    ┆ individua ┆ tss_dista ┆ … ┆ tss_dista ┆ is_undere ┆ tss_dista ┆ bin_size │\n",
       "│ ---       ┆ ---       ┆ l         ┆ nce       ┆   ┆ nce_bin   ┆ xpressed  ┆ nce_bin_l ┆ ---      │\n",
       "│ str       ┆ str       ┆ ---       ┆ ---       ┆   ┆ ---       ┆ ---       ┆ abel      ┆ i32      │\n",
       "│           ┆           ┆ str       ┆ i64       ┆   ┆ enum      ┆ bool      ┆ ---       ┆          │\n",
       "│           ┆           ┆           ┆           ┆   ┆           ┆           ┆ enum      ┆          │\n",
       "╞═══════════╪═══════════╪═══════════╪═══════════╪═══╪═══════════╪═══════════╪═══════════╪══════════╡\n",
       "│ ENSG00000 ┆ Colon -   ┆ GTEX-WFG7 ┆ -41       ┆ … ┆ -50       ┆ false     ┆ [-250, 0) ┆ 250      │\n",
       "│ 110090    ┆ Transvers ┆           ┆           ┆   ┆           ┆           ┆           ┆          │\n",
       "│           ┆ e         ┆           ┆           ┆   ┆           ┆           ┆           ┆          │\n",
       "│ ENSG00000 ┆ Testis    ┆ GTEX-ZLFU ┆ -1048     ┆ … ┆ -1050     ┆ false     ┆ [-1250,   ┆ 250      │\n",
       "│ 154845    ┆           ┆           ┆           ┆   ┆           ┆           ┆ -1000)    ┆          │\n",
       "│ ENSG00000 ┆ Testis    ┆ GTEX-ZLFU ┆ -1028     ┆ … ┆ -1050     ┆ false     ┆ [-1250,   ┆ 250      │\n",
       "│ 154845    ┆           ┆           ┆           ┆   ┆           ┆           ┆ -1000)    ┆          │\n",
       "│ ENSG00000 ┆ Testis    ┆ GTEX-ZLFU ┆ -1157     ┆ … ┆ -1200     ┆ false     ┆ [-1250,   ┆ 250      │\n",
       "│ 154845    ┆           ┆           ┆           ┆   ┆           ┆           ┆ -1000)    ┆          │\n",
       "│ ENSG00000 ┆ Testis    ┆ GTEX-ZLFU ┆ -449      ┆ … ┆ -450      ┆ false     ┆ [-500,    ┆ 250      │\n",
       "│ 154845    ┆           ┆           ┆           ┆   ┆           ┆           ┆ -250)     ┆          │\n",
       "└───────────┴───────────┴───────────┴───────────┴───┴───────────┴───────────┴───────────┴──────────┘"
      ]
     },
     "execution_count": 110,
     "metadata": {},
     "output_type": "execute_result"
    }
   ],
   "source": [
    "df.head()"
   ]
  },
  {
   "cell_type": "code",
   "execution_count": 112,
   "id": "f94f3547-2113-475a-ba83-5dd114761f9d",
   "metadata": {},
   "outputs": [],
   "source": [
    "# calculate counts per bins\n",
    "bin_count_df = (df.group_by(['outlier_state', 'tss_distance_bin_label', 'bin_size'])\n",
    "                .agg((pl.len()).alias('count')))\n",
    "\n",
    "# # calculate mean of each bin and then sum the means in each outlier state\n",
    "totals_df = (bin_count_df.group_by('outlier_state').agg(pl.sum('count').alias('total_count')))\n",
    "# # normalize each count by the mean calculated above\n",
    "enrichment_df = (bin_count_df.join(totals_df, on='outlier_state')\n",
    "                 .with_columns((pl.col('count') / pl.col('total_count')).alias('enrichment')))\n",
    "ci_low, ci_high = sm.stats.proportion_confint(enrichment_df[\"count\"], enrichment_df[\"total_count\"])\n",
    "enrichment_df = enrichment_df.with_columns(pl.Series(ci_low).alias('ci_low'), pl.Series(ci_high).alias('ci_high'))\n",
    "# normalize by bin size\n",
    "enrichment_df = enrichment_df.with_columns(enrichment = pl.col('enrichment') / pl.col('bin_size'),\n",
    "                                           ci_low = pl.col('ci_low') / pl.col('bin_size'),\n",
    "                                           ci_high = pl.col('ci_high') / pl.col('bin_size'))"
   ]
  },
  {
   "cell_type": "code",
   "execution_count": 113,
   "id": "a0799e2e-8dc7-4316-8555-0493d11fd741",
   "metadata": {},
   "outputs": [
    {
     "data": {
      "text/html": [
       "<div><style>\n",
       ".dataframe > thead > tr,\n",
       ".dataframe > tbody > tr {\n",
       "  text-align: right;\n",
       "  white-space: pre-wrap;\n",
       "}\n",
       "</style>\n",
       "<small>shape: (48, 8)</small><table border=\"1\" class=\"dataframe\"><thead><tr><th>outlier_state</th><th>tss_distance_bin_label</th><th>bin_size</th><th>count</th><th>total_count</th><th>enrichment</th><th>ci_low</th><th>ci_high</th></tr><tr><td>enum</td><td>enum</td><td>i32</td><td>u32</td><td>u32</td><td>f64</td><td>f64</td><td>f64</td></tr></thead><tbody><tr><td>&quot;underexpressed&quot;</td><td>&quot;[-2000, -1750)&quot;</td><td>250</td><td>260</td><td>5154</td><td>0.000202</td><td>0.000178</td><td>0.000226</td></tr><tr><td>&quot;overexpressed&quot;</td><td>&quot;[1250, 1500)&quot;</td><td>250</td><td>219</td><td>3434</td><td>0.000255</td><td>0.000222</td><td>0.000288</td></tr><tr><td>&quot;overexpressed&quot;</td><td>&quot;[-250, 0)&quot;</td><td>250</td><td>285</td><td>3434</td><td>0.000332</td><td>0.000295</td><td>0.000369</td></tr><tr><td>&quot;underexpressed&quot;</td><td>&quot;[750, 1000)&quot;</td><td>250</td><td>289</td><td>5154</td><td>0.000224</td><td>0.000199</td><td>0.000249</td></tr><tr><td>&quot;normal&quot;</td><td>&quot;[1500, 1750)&quot;</td><td>250</td><td>972201</td><td>14895320</td><td>0.000261</td><td>0.000261</td><td>0.000262</td></tr><tr><td>&hellip;</td><td>&hellip;</td><td>&hellip;</td><td>&hellip;</td><td>&hellip;</td><td>&hellip;</td><td>&hellip;</td><td>&hellip;</td></tr><tr><td>&quot;underexpressed&quot;</td><td>&quot;[-1000, -750)&quot;</td><td>250</td><td>192</td><td>5154</td><td>0.000149</td><td>0.000128</td><td>0.00017</td></tr><tr><td>&quot;overexpressed&quot;</td><td>&quot;[1500, 1750)&quot;</td><td>250</td><td>213</td><td>3434</td><td>0.000248</td><td>0.000216</td><td>0.00028</td></tr><tr><td>&quot;overexpressed&quot;</td><td>&quot;[1750, 2000)&quot;</td><td>250</td><td>227</td><td>3434</td><td>0.000264</td><td>0.000231</td><td>0.000298</td></tr><tr><td>&quot;normal&quot;</td><td>&quot;[250, 500)&quot;</td><td>250</td><td>882047</td><td>14895320</td><td>0.000237</td><td>0.000236</td><td>0.000237</td></tr><tr><td>&quot;normal&quot;</td><td>&quot;[-250, 0)&quot;</td><td>250</td><td>941750</td><td>14895320</td><td>0.000253</td><td>0.000252</td><td>0.000253</td></tr></tbody></table></div>"
      ],
      "text/plain": [
       "shape: (48, 8)\n",
       "┌──────────────┬──────────────┬──────────┬────────┬─────────────┬────────────┬──────────┬──────────┐\n",
       "│ outlier_stat ┆ tss_distance ┆ bin_size ┆ count  ┆ total_count ┆ enrichment ┆ ci_low   ┆ ci_high  │\n",
       "│ e            ┆ _bin_label   ┆ ---      ┆ ---    ┆ ---         ┆ ---        ┆ ---      ┆ ---      │\n",
       "│ ---          ┆ ---          ┆ i32      ┆ u32    ┆ u32         ┆ f64        ┆ f64      ┆ f64      │\n",
       "│ enum         ┆ enum         ┆          ┆        ┆             ┆            ┆          ┆          │\n",
       "╞══════════════╪══════════════╪══════════╪════════╪═════════════╪════════════╪══════════╪══════════╡\n",
       "│ underexpress ┆ [-2000,      ┆ 250      ┆ 260    ┆ 5154        ┆ 0.000202   ┆ 0.000178 ┆ 0.000226 │\n",
       "│ ed           ┆ -1750)       ┆          ┆        ┆             ┆            ┆          ┆          │\n",
       "│ overexpresse ┆ [1250, 1500) ┆ 250      ┆ 219    ┆ 3434        ┆ 0.000255   ┆ 0.000222 ┆ 0.000288 │\n",
       "│ d            ┆              ┆          ┆        ┆             ┆            ┆          ┆          │\n",
       "│ overexpresse ┆ [-250, 0)    ┆ 250      ┆ 285    ┆ 3434        ┆ 0.000332   ┆ 0.000295 ┆ 0.000369 │\n",
       "│ d            ┆              ┆          ┆        ┆             ┆            ┆          ┆          │\n",
       "│ underexpress ┆ [750, 1000)  ┆ 250      ┆ 289    ┆ 5154        ┆ 0.000224   ┆ 0.000199 ┆ 0.000249 │\n",
       "│ ed           ┆              ┆          ┆        ┆             ┆            ┆          ┆          │\n",
       "│ normal       ┆ [1500, 1750) ┆ 250      ┆ 972201 ┆ 14895320    ┆ 0.000261   ┆ 0.000261 ┆ 0.000262 │\n",
       "│ …            ┆ …            ┆ …        ┆ …      ┆ …           ┆ …          ┆ …        ┆ …        │\n",
       "│ underexpress ┆ [-1000,      ┆ 250      ┆ 192    ┆ 5154        ┆ 0.000149   ┆ 0.000128 ┆ 0.00017  │\n",
       "│ ed           ┆ -750)        ┆          ┆        ┆             ┆            ┆          ┆          │\n",
       "│ overexpresse ┆ [1500, 1750) ┆ 250      ┆ 213    ┆ 3434        ┆ 0.000248   ┆ 0.000216 ┆ 0.00028  │\n",
       "│ d            ┆              ┆          ┆        ┆             ┆            ┆          ┆          │\n",
       "│ overexpresse ┆ [1750, 2000) ┆ 250      ┆ 227    ┆ 3434        ┆ 0.000264   ┆ 0.000231 ┆ 0.000298 │\n",
       "│ d            ┆              ┆          ┆        ┆             ┆            ┆          ┆          │\n",
       "│ normal       ┆ [250, 500)   ┆ 250      ┆ 882047 ┆ 14895320    ┆ 0.000237   ┆ 0.000236 ┆ 0.000237 │\n",
       "│ normal       ┆ [-250, 0)    ┆ 250      ┆ 941750 ┆ 14895320    ┆ 0.000253   ┆ 0.000252 ┆ 0.000253 │\n",
       "└──────────────┴──────────────┴──────────┴────────┴─────────────┴────────────┴──────────┴──────────┘"
      ]
     },
     "execution_count": 113,
     "metadata": {},
     "output_type": "execute_result"
    }
   ],
   "source": [
    "enrichment_df"
   ]
  },
  {
   "cell_type": "code",
   "execution_count": 114,
   "id": "ec669860-7ab9-4049-b1e5-4d0fd67fc366",
   "metadata": {},
   "outputs": [
    {
     "data": {
      "text/html": [
       "<div><style>\n",
       ".dataframe > thead > tr,\n",
       ".dataframe > tbody > tr {\n",
       "  text-align: right;\n",
       "  white-space: pre-wrap;\n",
       "}\n",
       "</style>\n",
       "<small>shape: (3, 2)</small><table border=\"1\" class=\"dataframe\"><thead><tr><th>outlier_state</th><th>total_count</th></tr><tr><td>enum</td><td>u32</td></tr></thead><tbody><tr><td>&quot;overexpressed&quot;</td><td>3434</td></tr><tr><td>&quot;normal&quot;</td><td>14895320</td></tr><tr><td>&quot;underexpressed&quot;</td><td>5154</td></tr></tbody></table></div>"
      ],
      "text/plain": [
       "shape: (3, 2)\n",
       "┌────────────────┬─────────────┐\n",
       "│ outlier_state  ┆ total_count │\n",
       "│ ---            ┆ ---         │\n",
       "│ enum           ┆ u32         │\n",
       "╞════════════════╪═════════════╡\n",
       "│ overexpressed  ┆ 3434        │\n",
       "│ normal         ┆ 14895320    │\n",
       "│ underexpressed ┆ 5154        │\n",
       "└────────────────┴─────────────┘"
      ]
     },
     "execution_count": 114,
     "metadata": {},
     "output_type": "execute_result"
    }
   ],
   "source": [
    "totals_df"
   ]
  },
  {
   "cell_type": "code",
   "execution_count": 115,
   "id": "32b5f44e-a3b7-4368-9d48-74caa27effe8",
   "metadata": {},
   "outputs": [
    {
     "data": {
      "text/plain": [
       "PosixPath('.')"
      ]
     },
     "execution_count": 115,
     "metadata": {},
     "output_type": "execute_result"
    }
   ],
   "source": [
    "base_path = Path('.')\n",
    "df.write_parquet(base_path / 'promoter_bin_abexp.parquet', use_pyarrow=True)\n",
    "enrichment_df.write_parquet(base_path / 'promoter_enrichment.parquet', use_pyarrow=True)\n",
    "base_path"
   ]
  },
  {
   "cell_type": "code",
   "execution_count": null,
   "id": "7e9228c7-a7bb-4568-b007-cec5bc8188af",
   "metadata": {},
   "outputs": [],
   "source": []
  },
  {
   "cell_type": "code",
   "execution_count": null,
   "id": "8813727f-6d17-4346-8445-a371f1e30308",
   "metadata": {},
   "outputs": [],
   "source": []
  }
 ],
 "metadata": {
  "kernelspec": {
   "display_name": "Python [conda env:anaconda-george-enformer]",
   "language": "python",
   "name": "conda-env-anaconda-george-enformer-py"
  },
  "language_info": {
   "codemirror_mode": {
    "name": "ipython",
    "version": 3
   },
   "file_extension": ".py",
   "mimetype": "text/x-python",
   "name": "python",
   "nbconvert_exporter": "python",
   "pygments_lexer": "ipython3",
   "version": "3.12.5"
  }
 },
 "nbformat": 4,
 "nbformat_minor": 5
}
