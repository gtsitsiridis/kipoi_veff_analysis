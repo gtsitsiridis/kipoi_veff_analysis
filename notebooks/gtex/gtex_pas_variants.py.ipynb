{
 "cells": [
  {
   "cell_type": "markdown",
   "id": "012abc6f-ea23-4af5-b0e9-d3a65c698174",
   "metadata": {},
   "source": [
    "# GTEx rare variants analysis"
   ]
  },
  {
   "cell_type": "markdown",
   "id": "77fd1500-ffc1-4727-ba33-7d6ee8965ef9",
   "metadata": {},
   "source": [
    "## Imports"
   ]
  },
  {
   "cell_type": "code",
   "execution_count": 1,
   "id": "e4ddbc31-83e1-498c-bff4-35599b787256",
   "metadata": {
    "tags": []
   },
   "outputs": [],
   "source": [
    "import polars as pl\n",
    "import matplotlib.pyplot as plt\n",
    "from pathlib import Path\n",
    "import pandas as pd\n",
    "import statsmodels.api as sm\n",
    "import plotnine as pn\n",
    "import pyranges as pr\n",
    "\n",
    "%load_ext autoreload\n",
    "%autoreload 2"
   ]
  },
  {
   "cell_type": "code",
   "execution_count": 2,
   "id": "6e700dec-5463-4df2-ab57-7595218dc39d",
   "metadata": {
    "tags": []
   },
   "outputs": [],
   "source": [
    "plt.rcParams['figure.dpi'] = 150"
   ]
  },
  {
   "cell_type": "code",
   "execution_count": 3,
   "id": "33d62128-aea7-4c90-883e-61e7600d8314",
   "metadata": {
    "tags": []
   },
   "outputs": [
    {
     "data": {
      "text/plain": [
       "polars.config.Config"
      ]
     },
     "execution_count": 3,
     "metadata": {},
     "output_type": "execute_result"
    }
   ],
   "source": [
    "pl.Config.set_fmt_str_lengths(100)"
   ]
  },
  {
   "cell_type": "code",
   "execution_count": 4,
   "id": "953fae0a-7ad1-4b59-ad8e-e7681132d246",
   "metadata": {
    "tags": []
   },
   "outputs": [],
   "source": [
    "pn.theme_set(pn.theme_bw())\n",
    "pn.theme_update(dpi=150)"
   ]
  },
  {
   "cell_type": "code",
   "execution_count": 19,
   "id": "85e90757-4253-471e-8b35-09e35c36b32e",
   "metadata": {
    "tags": []
   },
   "outputs": [],
   "source": [
    "# tss variant path\n",
    "pas_variant_path = '/s/project/promoter_prediction/kipoi_expression_prediction/variant_tables/apa_variants_2000_2000.parquet'\n",
    "# GTEx variants\n",
    "variant_path = '/s/project/rep/processed/training_results_v16/gtex_v8_old_dna/private_variants.parquet/rare_variants.vcf.parquet/**/*.parquet'\n",
    "# abexp benchmark dataset\n",
    "gtex_benchmark_with_annotation_path = \"/s/project/rep/processed/training_results_v16/gtex_benchmark_with_annotation.parquet/*.parquet\""
   ]
  },
  {
   "cell_type": "markdown",
   "id": "e9bd36a3-268b-457b-9c9c-be3f25c9325a",
   "metadata": {
    "tags": []
   },
   "source": [
    "## Analysis"
   ]
  },
  {
   "cell_type": "markdown",
   "id": "2122e648-8be6-4307-a3f3-95dd7a3d629a",
   "metadata": {},
   "source": [
    "We are only loading ensembl canonical transcripts for this analysis. So there is 1 transcript per gene!"
   ]
  },
  {
   "cell_type": "code",
   "execution_count": 20,
   "id": "101ccdfe-b4a1-4893-b613-a1a494650801",
   "metadata": {
    "tags": []
   },
   "outputs": [],
   "source": [
    "pas_variants_ldf = (pl.scan_parquet(Path(pas_variant_path)).\n",
    "                       select(pl.col(['gene_id', 'pas_id', 'cse_pos']), \n",
    "                              pl.col('strand').cast(pl.Enum(['-', '+'])),\n",
    "                              pl.col(['chrom', 'variant_start', 'variant_end', 'ref', 'alt',])).\n",
    "                       rename({'gene_id': 'gene', 'pas_id': 'pas'}).\n",
    "                       with_columns(pl.col('gene').str.replace(r'([^\\.]+)\\..+$', \"${1}\").alias('gene')))\n",
    "\n",
    "\n",
    "# It is possible that a gene comes multiple times (different versions)"
   ]
  },
  {
   "cell_type": "code",
   "execution_count": 21,
   "id": "2ab8a2d3-af1e-458a-908a-211cedc876b4",
   "metadata": {
    "tags": []
   },
   "outputs": [],
   "source": [
    "variant_ldf = (pl.scan_parquet(variant_path, hive_partitioning=True)\n",
    "               .select(['sampleId', 'chrom', 'start', 'end', 'ref', 'alt'])\n",
    "               .rename({'sampleId': 'individual','start': 'variant_start','end': 'variant_end'}))"
   ]
  },
  {
   "cell_type": "code",
   "execution_count": 22,
   "id": "8f6582af-edf3-4039-a901-5afdebcf46e2",
   "metadata": {
    "tags": []
   },
   "outputs": [
    {
     "name": "stderr",
     "output_type": "stream",
     "text": [
      "/scratch/tmp/tsi/ipykernel_3433569/637943636.py:1: PerformanceWarning: Determining the column names of a LazyFrame requires resolving its schema, which is a potentially expensive operation. Use `LazyFrame.collect_schema().names()` to get the column names without this warning.\n"
     ]
    }
   ],
   "source": [
    "benchmark_columns = pl.scan_parquet(gtex_benchmark_with_annotation_path).columns\n",
    "feature_columns = [c for c in benchmark_columns if '@' in c]\n",
    "training_benchmark_ldf = (pl.scan_parquet(gtex_benchmark_with_annotation_path)\n",
    "                          .select(['gene', 'individual', 'tissue', \n",
    "                                   'FDR', 'zscore', 'AbExp',\n",
    "                                   *feature_columns,\n",
    "                                  ])\n",
    "                          .unique()\n",
    "                          .with_columns(outlier_state=(pl.when(pl.col('FDR') > 0.05)\n",
    "                                                       .then(pl.lit('normal'))\n",
    "                                                       .otherwise(\n",
    "                                                           pl.when(pl.col('zscore') > 0)\n",
    "                                                           .then(pl.lit('overexpressed'))\n",
    "                                                           .otherwise(\n",
    "                                                               pl.when(pl.col('zscore') < 0)\n",
    "                                                               .then(pl.lit('underexpressed'))\n",
    "                                                               # this should never be the case\n",
    "                                                               .otherwise(pl.lit('CHECK'))\n",
    "                                                           ))).cast(pl.Enum(['underexpressed', 'normal', 'overexpressed'])),\n",
    "                                       AbExp=-pl.col('AbExp')))"
   ]
  },
  {
   "cell_type": "code",
   "execution_count": 23,
   "id": "c08bd653-27a2-4d51-a238-6541a5fb22c0",
   "metadata": {},
   "outputs": [
    {
     "data": {
      "text/plain": [
       "['expected_expr@theta',\n",
       " 'splice_ensemble@AbSplice',\n",
       " 'splice_ensemble@MMSplice_SpliceMap_Psi_ref',\n",
       " 'splice_ensemble@SpliceAI',\n",
       " 'vep@cadd_raw.max',\n",
       " 'vep@LoF_HC.proportion',\n",
       " 'vep@transcript_ablation.proportion',\n",
       " 'vep@stop_gained.proportion',\n",
       " 'vep@frameshift_variant.proportion',\n",
       " 'vep@coding_sequence_variant.proportion',\n",
       " 'vep@missense_variant.proportion',\n",
       " 'vep@inframe_deletion.proportion',\n",
       " 'vep@inframe_insertion.proportion',\n",
       " 'vep@stop_lost.proportion',\n",
       " 'vep@3_prime_UTR_variant.proportion',\n",
       " 'vep@5_prime_UTR_variant.proportion',\n",
       " 'vep@NMD_transcript_variant.proportion',\n",
       " 'vep@NMD_escaping_variant.proportion',\n",
       " 'vep@start_lost.proportion',\n",
       " 'vep@splice_donor_variant.proportion',\n",
       " 'vep@splice_acceptor_variant.proportion',\n",
       " 'vep@splice_region_variant.proportion']"
      ]
     },
     "execution_count": 23,
     "metadata": {},
     "output_type": "execute_result"
    }
   ],
   "source": [
    "feature_columns"
   ]
  },
  {
   "cell_type": "markdown",
   "id": "4c68298c-4f0c-4c92-bde5-4209302a2b2b",
   "metadata": {
    "tags": []
   },
   "source": [
    "### What is the enformer variant-effect-score distribution around the TSS?"
   ]
  },
  {
   "cell_type": "code",
   "execution_count": 24,
   "id": "bbef39fe-e87a-4d8f-8f7e-c872a3c08b59",
   "metadata": {},
   "outputs": [
    {
     "data": {
      "text/html": [
       "<div><style>\n",
       ".dataframe > thead > tr,\n",
       ".dataframe > tbody > tr {\n",
       "  text-align: right;\n",
       "  white-space: pre-wrap;\n",
       "}\n",
       "</style>\n",
       "<small>shape: (1, 2)</small><table border=\"1\" class=\"dataframe\"><thead><tr><th>upstream_tss</th><th>downstream_tss</th></tr><tr><td>i64</td><td>i64</td></tr></thead><tbody><tr><td>-2149</td><td>2063</td></tr></tbody></table></div>"
      ],
      "text/plain": [
       "shape: (1, 2)\n",
       "┌──────────────┬────────────────┐\n",
       "│ upstream_tss ┆ downstream_tss │\n",
       "│ ---          ┆ ---            │\n",
       "│ i64          ┆ i64            │\n",
       "╞══════════════╪════════════════╡\n",
       "│ -2149        ┆ 2063           │\n",
       "└──────────────┴────────────────┘"
      ]
     },
     "execution_count": 24,
     "metadata": {},
     "output_type": "execute_result"
    }
   ],
   "source": [
    "pas_variants_ldf = (pas_variants_ldf\n",
    "                    .with_columns(cse_distance=(pl.when(pl.col('strand') == '+')\n",
    "                                                .then(pl.col('variant_start') - pl.col('cse_pos'))            \n",
    "                                                .otherwise(pl.col('cse_pos') - pl.col('variant_start'))))\n",
    "                    .with_columns(absolute_cse_distance=pl.col('cse_distance').abs()))\n",
    "\n",
    "pas_variants_ldf.select(upstream_tss=pl.col('cse_distance').min(), downstream_tss=pl.col('cse_distance').max()).collect()"
   ]
  },
  {
   "cell_type": "code",
   "execution_count": 25,
   "id": "ecf27b6d-69eb-4d0f-aef9-b24105523ac0",
   "metadata": {
    "tags": []
   },
   "outputs": [],
   "source": [
    "upstream=2000\n",
    "downstream=2000\n",
    "\n",
    "# filter out variants out of this range\n",
    "pas_variants_ldf = pas_variants_ldf.filter((pl.col('cse_distance') >= -upstream) & (pl.col('cse_distance') <= downstream))\n",
    "\n",
    "# join tss variants with individuals\n",
    "pas_individual_variant_ldf = (variant_ldf.join(pas_variants_ldf, how='inner', on=['chrom', 'variant_start', 'variant_end', 'ref', 'alt']).\n",
    "                              select([\n",
    "                                  'individual', 'chrom', 'variant_start', 'variant_end', 'ref', 'alt',\n",
    "                                  'gene', 'pas', 'strand', 'cse_distance', 'absolute_cse_distance', 'cse_pos'])\n",
    "                             )"
   ]
  },
  {
   "cell_type": "code",
   "execution_count": 26,
   "id": "2b9067b1-76fa-43de-b7cb-91964ac84398",
   "metadata": {},
   "outputs": [],
   "source": [
    "# keep the variant closest to the TSS for each individual and gene\n",
    "# pas_individual_variant_ldf = pas_individual_variant_ldf.sort('absolute_cse_distance'). \\\n",
    "#     group_by(['individual', 'gene', 'chrom', 'strand']). \\\n",
    "#     agg(pl.col(['variant_start', 'variant_end', 'ref', 'alt', 'pas', 'cse_distance']).first())\n",
    "\n",
    "pas_individual_variant_ldf = (pas_individual_variant_ldf\n",
    "                              .with_columns(signed_cse_pos=pl.when(pl.col('strand') == '+').then(pl.col('cse_pos')).otherwise(-pl.col('cse_pos')))\n",
    "                              .sort('signed_cse_pos', descending=True)\n",
    "                              .group_by(['individual', 'gene', 'chrom', 'strand', 'ref', 'alt', 'variant_start', 'variant_end'])\n",
    "                              .agg(pl.col(['pas', 'cse_distance']).first()))\n",
    "\n",
    "# pas_individual_variant_ldf = pas_individual_variant_ldf. \\\n",
    "#     group_by(['individual', 'gene', 'chrom', 'strand', 'ref', 'alt', 'variant_start', 'variant_end']). \\\n",
    "#     agg(pl.col(['pas', 'cse_distance']).first())\n",
    "\n",
    "# join outrider with variants on individual\n",
    "pas_individual_variant_outrider_ldf = (\n",
    "    pas_individual_variant_ldf\n",
    "    .join(training_benchmark_ldf, how='inner', on=['individual', 'gene'])\n",
    "    .select(['gene', 'tissue', 'individual', 'cse_distance', 'outlier_state', \n",
    "             'zscore', 'FDR', 'AbExp', *feature_columns]))"
   ]
  },
  {
   "cell_type": "code",
   "execution_count": 27,
   "id": "f68e70ef-8065-42bf-93ac-4b9b88668091",
   "metadata": {
    "scrolled": true,
    "tags": []
   },
   "outputs": [],
   "source": [
    "# pl.Config.set_streaming_chunk_size(100)\n",
    "# print(veff_outrider_ldf.explain(streaming=True))"
   ]
  },
  {
   "cell_type": "code",
   "execution_count": 28,
   "id": "17526836-1ca4-456e-a574-92440667a150",
   "metadata": {
    "tags": []
   },
   "outputs": [],
   "source": [
    "df = pas_individual_variant_outrider_ldf.collect()"
   ]
  },
  {
   "cell_type": "code",
   "execution_count": 29,
   "id": "cf1ad999-e74b-43e9-adf3-054b9ff46070",
   "metadata": {},
   "outputs": [
    {
     "data": {
      "text/plain": [
       "(15794160, 30)"
      ]
     },
     "execution_count": 29,
     "metadata": {},
     "output_type": "execute_result"
    }
   ],
   "source": [
    "df.shape"
   ]
  },
  {
   "cell_type": "code",
   "execution_count": 30,
   "id": "3e3baee6-b92f-4448-a082-8b37188d7525",
   "metadata": {},
   "outputs": [
    {
     "data": {
      "text/html": [
       "<div><style>\n",
       ".dataframe > thead > tr,\n",
       ".dataframe > tbody > tr {\n",
       "  text-align: right;\n",
       "  white-space: pre-wrap;\n",
       "}\n",
       "</style>\n",
       "<small>shape: (5, 30)</small><table border=\"1\" class=\"dataframe\"><thead><tr><th>gene</th><th>tissue</th><th>individual</th><th>cse_distance</th><th>outlier_state</th><th>zscore</th><th>FDR</th><th>AbExp</th><th>expected_expr@theta</th><th>splice_ensemble@AbSplice</th><th>splice_ensemble@MMSplice_SpliceMap_Psi_ref</th><th>splice_ensemble@SpliceAI</th><th>vep@cadd_raw.max</th><th>vep@LoF_HC.proportion</th><th>vep@transcript_ablation.proportion</th><th>vep@stop_gained.proportion</th><th>vep@frameshift_variant.proportion</th><th>vep@coding_sequence_variant.proportion</th><th>vep@missense_variant.proportion</th><th>vep@inframe_deletion.proportion</th><th>vep@inframe_insertion.proportion</th><th>vep@stop_lost.proportion</th><th>vep@3_prime_UTR_variant.proportion</th><th>vep@5_prime_UTR_variant.proportion</th><th>vep@NMD_transcript_variant.proportion</th><th>vep@NMD_escaping_variant.proportion</th><th>vep@start_lost.proportion</th><th>vep@splice_donor_variant.proportion</th><th>vep@splice_acceptor_variant.proportion</th><th>vep@splice_region_variant.proportion</th></tr><tr><td>str</td><td>str</td><td>str</td><td>i64</td><td>enum</td><td>f32</td><td>f64</td><td>f64</td><td>f32</td><td>f64</td><td>f64</td><td>f64</td><td>f32</td><td>f32</td><td>f32</td><td>f32</td><td>f32</td><td>f32</td><td>f32</td><td>f32</td><td>f32</td><td>f32</td><td>f32</td><td>f32</td><td>f32</td><td>f32</td><td>f32</td><td>f32</td><td>f32</td><td>f32</td></tr></thead><tbody><tr><td>&quot;ENSG00000156482&quot;</td><td>&quot;Heart - Left Ventricle&quot;</td><td>&quot;GTEX-1GF9U&quot;</td><td>-1693</td><td>&quot;normal&quot;</td><td>0.281297</td><td>1.0</td><td>0.003678</td><td>636.466736</td><td>null</td><td>null</td><td>null</td><td>-0.20364</td><td>0.0</td><td>0.0</td><td>0.0</td><td>0.0</td><td>0.0</td><td>0.0</td><td>0.0</td><td>0.0</td><td>0.0</td><td>0.0</td><td>0.0</td><td>0.0</td><td>0.0</td><td>0.0</td><td>0.0</td><td>0.0</td><td>0.0</td></tr><tr><td>&quot;ENSG00000072756&quot;</td><td>&quot;Esophagus - Muscularis&quot;</td><td>&quot;GTEX-ZLFU&quot;</td><td>-1501</td><td>&quot;normal&quot;</td><td>0.656318</td><td>1.0</td><td>0.003434</td><td>479.290741</td><td>null</td><td>null</td><td>null</td><td>0.215677</td><td>0.0</td><td>0.0</td><td>0.0</td><td>0.0</td><td>0.0</td><td>0.0</td><td>0.0</td><td>0.0</td><td>0.0</td><td>0.0</td><td>0.0</td><td>0.086614</td><td>0.0</td><td>0.0</td><td>0.0</td><td>0.0</td><td>0.0</td></tr><tr><td>&quot;ENSG00000103544&quot;</td><td>&quot;Artery - Aorta&quot;</td><td>&quot;GTEX-T5JC&quot;</td><td>-1116</td><td>&quot;normal&quot;</td><td>0.833482</td><td>1.0</td><td>0.003991</td><td>547.123352</td><td>0.000006</td><td>null</td><td>0.0</td><td>-0.057801</td><td>0.0</td><td>0.0</td><td>0.0</td><td>0.0</td><td>0.0</td><td>0.0</td><td>0.0</td><td>0.0</td><td>0.0</td><td>0.0</td><td>0.0</td><td>0.0</td><td>0.0</td><td>0.0</td><td>0.0</td><td>0.0</td><td>0.0</td></tr><tr><td>&quot;ENSG00000118217&quot;</td><td>&quot;Whole Blood&quot;</td><td>&quot;GTEX-13FXS&quot;</td><td>401</td><td>&quot;normal&quot;</td><td>0.168664</td><td>1.0</td><td>0.000151</td><td>142.827362</td><td>0.000006</td><td>null</td><td>0.0</td><td>0.165801</td><td>0.0</td><td>0.0</td><td>0.0</td><td>0.0</td><td>0.0</td><td>0.0</td><td>0.0</td><td>0.0</td><td>0.0</td><td>0.0</td><td>0.0</td><td>0.0</td><td>0.0</td><td>0.0</td><td>0.0</td><td>0.0</td><td>0.0</td></tr><tr><td>&quot;ENSG00000112339&quot;</td><td>&quot;Lung&quot;</td><td>&quot;GTEX-15SB6&quot;</td><td>289</td><td>&quot;normal&quot;</td><td>2.450918</td><td>1.0</td><td>0.004213</td><td>463.492432</td><td>null</td><td>null</td><td>null</td><td>0.139572</td><td>0.0</td><td>0.0</td><td>0.0</td><td>0.0</td><td>0.0</td><td>0.0</td><td>0.0</td><td>0.0</td><td>0.0</td><td>0.0</td><td>0.0</td><td>0.0</td><td>0.0</td><td>0.0</td><td>0.0</td><td>0.0</td><td>0.0</td></tr></tbody></table></div>"
      ],
      "text/plain": [
       "shape: (5, 30)\n",
       "┌───────────┬───────────┬───────────┬───────────┬───┬───────────┬───────────┬───────────┬──────────┐\n",
       "│ gene      ┆ tissue    ┆ individua ┆ cse_dista ┆ … ┆ vep@start ┆ vep@splic ┆ vep@splic ┆ vep@spli │\n",
       "│ ---       ┆ ---       ┆ l         ┆ nce       ┆   ┆ _lost.pro ┆ e_donor_v ┆ e_accepto ┆ ce_regio │\n",
       "│ str       ┆ str       ┆ ---       ┆ ---       ┆   ┆ portion   ┆ ariant.pr ┆ r_variant ┆ n_varian │\n",
       "│           ┆           ┆ str       ┆ i64       ┆   ┆ ---       ┆ oportion  ┆ .proporti ┆ t.propor │\n",
       "│           ┆           ┆           ┆           ┆   ┆ f32       ┆ ---       ┆ on        ┆ tion     │\n",
       "│           ┆           ┆           ┆           ┆   ┆           ┆ f32       ┆ ---       ┆ ---      │\n",
       "│           ┆           ┆           ┆           ┆   ┆           ┆           ┆ f32       ┆ f32      │\n",
       "╞═══════════╪═══════════╪═══════════╪═══════════╪═══╪═══════════╪═══════════╪═══════════╪══════════╡\n",
       "│ ENSG00000 ┆ Heart -   ┆ GTEX-1GF9 ┆ -1693     ┆ … ┆ 0.0       ┆ 0.0       ┆ 0.0       ┆ 0.0      │\n",
       "│ 156482    ┆ Left      ┆ U         ┆           ┆   ┆           ┆           ┆           ┆          │\n",
       "│           ┆ Ventricle ┆           ┆           ┆   ┆           ┆           ┆           ┆          │\n",
       "│ ENSG00000 ┆ Esophagus ┆ GTEX-ZLFU ┆ -1501     ┆ … ┆ 0.0       ┆ 0.0       ┆ 0.0       ┆ 0.0      │\n",
       "│ 072756    ┆ - Muscula ┆           ┆           ┆   ┆           ┆           ┆           ┆          │\n",
       "│           ┆ ris       ┆           ┆           ┆   ┆           ┆           ┆           ┆          │\n",
       "│ ENSG00000 ┆ Artery -  ┆ GTEX-T5JC ┆ -1116     ┆ … ┆ 0.0       ┆ 0.0       ┆ 0.0       ┆ 0.0      │\n",
       "│ 103544    ┆ Aorta     ┆           ┆           ┆   ┆           ┆           ┆           ┆          │\n",
       "│ ENSG00000 ┆ Whole     ┆ GTEX-13FX ┆ 401       ┆ … ┆ 0.0       ┆ 0.0       ┆ 0.0       ┆ 0.0      │\n",
       "│ 118217    ┆ Blood     ┆ S         ┆           ┆   ┆           ┆           ┆           ┆          │\n",
       "│ ENSG00000 ┆ Lung      ┆ GTEX-15SB ┆ 289       ┆ … ┆ 0.0       ┆ 0.0       ┆ 0.0       ┆ 0.0      │\n",
       "│ 112339    ┆           ┆ 6         ┆           ┆   ┆           ┆           ┆           ┆          │\n",
       "└───────────┴───────────┴───────────┴───────────┴───┴───────────┴───────────┴───────────┴──────────┘"
      ]
     },
     "execution_count": 30,
     "metadata": {},
     "output_type": "execute_result"
    }
   ],
   "source": [
    "df.head()"
   ]
  },
  {
   "cell_type": "code",
   "execution_count": 31,
   "id": "ebed1fa7-ed2a-440c-9db8-0fefda39a09b",
   "metadata": {},
   "outputs": [],
   "source": [
    "df_bac = df\n",
    "\n",
    "# cse_distance in bins\n",
    "bin_size=50\n",
    "cuts = list(range(-upstream + bin_size, downstream, bin_size))\n",
    "cut_labels = [str(x) for x in [-upstream, *cuts]]\n",
    "cse_distance_labels = {c: f'[{c}, {int(c) + bin_size})' for c in cut_labels}\n",
    "df = (df.with_columns(cse_distance_bin=(pl.col('cse_distance').cut(cuts, labels=cut_labels))\n",
    "                      .cast(pl.Enum(cut_labels)))\n",
    "      .with_columns(is_underexpressed=(pl.col('outlier_state') == 'underexpressed')))\n",
    "\n",
    "df = (df.with_columns(cse_distance_bin_label=pl.col(\"cse_distance_bin\").replace_strict(cse_distance_labels), \n",
    "                                                      bin_size=pl.lit(50)))"
   ]
  },
  {
   "cell_type": "code",
   "execution_count": 32,
   "id": "cb88f9da-3933-4458-b2e1-b64bb6e85384",
   "metadata": {},
   "outputs": [
    {
     "data": {
      "text/html": [
       "<div><style>\n",
       ".dataframe > thead > tr,\n",
       ".dataframe > tbody > tr {\n",
       "  text-align: right;\n",
       "  white-space: pre-wrap;\n",
       "}\n",
       "</style>\n",
       "<small>shape: (5, 34)</small><table border=\"1\" class=\"dataframe\"><thead><tr><th>gene</th><th>tissue</th><th>individual</th><th>cse_distance</th><th>outlier_state</th><th>zscore</th><th>FDR</th><th>AbExp</th><th>expected_expr@theta</th><th>splice_ensemble@AbSplice</th><th>splice_ensemble@MMSplice_SpliceMap_Psi_ref</th><th>splice_ensemble@SpliceAI</th><th>vep@cadd_raw.max</th><th>vep@LoF_HC.proportion</th><th>vep@transcript_ablation.proportion</th><th>vep@stop_gained.proportion</th><th>vep@frameshift_variant.proportion</th><th>vep@coding_sequence_variant.proportion</th><th>vep@missense_variant.proportion</th><th>vep@inframe_deletion.proportion</th><th>vep@inframe_insertion.proportion</th><th>vep@stop_lost.proportion</th><th>vep@3_prime_UTR_variant.proportion</th><th>vep@5_prime_UTR_variant.proportion</th><th>vep@NMD_transcript_variant.proportion</th><th>vep@NMD_escaping_variant.proportion</th><th>vep@start_lost.proportion</th><th>vep@splice_donor_variant.proportion</th><th>vep@splice_acceptor_variant.proportion</th><th>vep@splice_region_variant.proportion</th><th>cse_distance_bin</th><th>is_underexpressed</th><th>cse_distance_bin_label</th><th>bin_size</th></tr><tr><td>str</td><td>str</td><td>str</td><td>i64</td><td>enum</td><td>f32</td><td>f64</td><td>f64</td><td>f32</td><td>f64</td><td>f64</td><td>f64</td><td>f32</td><td>f32</td><td>f32</td><td>f32</td><td>f32</td><td>f32</td><td>f32</td><td>f32</td><td>f32</td><td>f32</td><td>f32</td><td>f32</td><td>f32</td><td>f32</td><td>f32</td><td>f32</td><td>f32</td><td>f32</td><td>enum</td><td>bool</td><td>str</td><td>i32</td></tr></thead><tbody><tr><td>&quot;ENSG00000156482&quot;</td><td>&quot;Heart - Left Ventricle&quot;</td><td>&quot;GTEX-1GF9U&quot;</td><td>-1693</td><td>&quot;normal&quot;</td><td>0.281297</td><td>1.0</td><td>0.003678</td><td>636.466736</td><td>null</td><td>null</td><td>null</td><td>-0.20364</td><td>0.0</td><td>0.0</td><td>0.0</td><td>0.0</td><td>0.0</td><td>0.0</td><td>0.0</td><td>0.0</td><td>0.0</td><td>0.0</td><td>0.0</td><td>0.0</td><td>0.0</td><td>0.0</td><td>0.0</td><td>0.0</td><td>0.0</td><td>&quot;-1700&quot;</td><td>false</td><td>&quot;[-1700, -1650)&quot;</td><td>50</td></tr><tr><td>&quot;ENSG00000072756&quot;</td><td>&quot;Esophagus - Muscularis&quot;</td><td>&quot;GTEX-ZLFU&quot;</td><td>-1501</td><td>&quot;normal&quot;</td><td>0.656318</td><td>1.0</td><td>0.003434</td><td>479.290741</td><td>null</td><td>null</td><td>null</td><td>0.215677</td><td>0.0</td><td>0.0</td><td>0.0</td><td>0.0</td><td>0.0</td><td>0.0</td><td>0.0</td><td>0.0</td><td>0.0</td><td>0.0</td><td>0.0</td><td>0.086614</td><td>0.0</td><td>0.0</td><td>0.0</td><td>0.0</td><td>0.0</td><td>&quot;-1550&quot;</td><td>false</td><td>&quot;[-1550, -1500)&quot;</td><td>50</td></tr><tr><td>&quot;ENSG00000103544&quot;</td><td>&quot;Artery - Aorta&quot;</td><td>&quot;GTEX-T5JC&quot;</td><td>-1116</td><td>&quot;normal&quot;</td><td>0.833482</td><td>1.0</td><td>0.003991</td><td>547.123352</td><td>0.000006</td><td>null</td><td>0.0</td><td>-0.057801</td><td>0.0</td><td>0.0</td><td>0.0</td><td>0.0</td><td>0.0</td><td>0.0</td><td>0.0</td><td>0.0</td><td>0.0</td><td>0.0</td><td>0.0</td><td>0.0</td><td>0.0</td><td>0.0</td><td>0.0</td><td>0.0</td><td>0.0</td><td>&quot;-1150&quot;</td><td>false</td><td>&quot;[-1150, -1100)&quot;</td><td>50</td></tr><tr><td>&quot;ENSG00000118217&quot;</td><td>&quot;Whole Blood&quot;</td><td>&quot;GTEX-13FXS&quot;</td><td>401</td><td>&quot;normal&quot;</td><td>0.168664</td><td>1.0</td><td>0.000151</td><td>142.827362</td><td>0.000006</td><td>null</td><td>0.0</td><td>0.165801</td><td>0.0</td><td>0.0</td><td>0.0</td><td>0.0</td><td>0.0</td><td>0.0</td><td>0.0</td><td>0.0</td><td>0.0</td><td>0.0</td><td>0.0</td><td>0.0</td><td>0.0</td><td>0.0</td><td>0.0</td><td>0.0</td><td>0.0</td><td>&quot;400&quot;</td><td>false</td><td>&quot;[400, 450)&quot;</td><td>50</td></tr><tr><td>&quot;ENSG00000112339&quot;</td><td>&quot;Lung&quot;</td><td>&quot;GTEX-15SB6&quot;</td><td>289</td><td>&quot;normal&quot;</td><td>2.450918</td><td>1.0</td><td>0.004213</td><td>463.492432</td><td>null</td><td>null</td><td>null</td><td>0.139572</td><td>0.0</td><td>0.0</td><td>0.0</td><td>0.0</td><td>0.0</td><td>0.0</td><td>0.0</td><td>0.0</td><td>0.0</td><td>0.0</td><td>0.0</td><td>0.0</td><td>0.0</td><td>0.0</td><td>0.0</td><td>0.0</td><td>0.0</td><td>&quot;250&quot;</td><td>false</td><td>&quot;[250, 300)&quot;</td><td>50</td></tr></tbody></table></div>"
      ],
      "text/plain": [
       "shape: (5, 34)\n",
       "┌───────────┬───────────┬───────────┬───────────┬───┬───────────┬───────────┬───────────┬──────────┐\n",
       "│ gene      ┆ tissue    ┆ individua ┆ cse_dista ┆ … ┆ cse_dista ┆ is_undere ┆ cse_dista ┆ bin_size │\n",
       "│ ---       ┆ ---       ┆ l         ┆ nce       ┆   ┆ nce_bin   ┆ xpressed  ┆ nce_bin_l ┆ ---      │\n",
       "│ str       ┆ str       ┆ ---       ┆ ---       ┆   ┆ ---       ┆ ---       ┆ abel      ┆ i32      │\n",
       "│           ┆           ┆ str       ┆ i64       ┆   ┆ enum      ┆ bool      ┆ ---       ┆          │\n",
       "│           ┆           ┆           ┆           ┆   ┆           ┆           ┆ str       ┆          │\n",
       "╞═══════════╪═══════════╪═══════════╪═══════════╪═══╪═══════════╪═══════════╪═══════════╪══════════╡\n",
       "│ ENSG00000 ┆ Heart -   ┆ GTEX-1GF9 ┆ -1693     ┆ … ┆ -1700     ┆ false     ┆ [-1700,   ┆ 50       │\n",
       "│ 156482    ┆ Left      ┆ U         ┆           ┆   ┆           ┆           ┆ -1650)    ┆          │\n",
       "│           ┆ Ventricle ┆           ┆           ┆   ┆           ┆           ┆           ┆          │\n",
       "│ ENSG00000 ┆ Esophagus ┆ GTEX-ZLFU ┆ -1501     ┆ … ┆ -1550     ┆ false     ┆ [-1550,   ┆ 50       │\n",
       "│ 072756    ┆ - Muscula ┆           ┆           ┆   ┆           ┆           ┆ -1500)    ┆          │\n",
       "│           ┆ ris       ┆           ┆           ┆   ┆           ┆           ┆           ┆          │\n",
       "│ ENSG00000 ┆ Artery -  ┆ GTEX-T5JC ┆ -1116     ┆ … ┆ -1150     ┆ false     ┆ [-1150,   ┆ 50       │\n",
       "│ 103544    ┆ Aorta     ┆           ┆           ┆   ┆           ┆           ┆ -1100)    ┆          │\n",
       "│ ENSG00000 ┆ Whole     ┆ GTEX-13FX ┆ 401       ┆ … ┆ 400       ┆ false     ┆ [400,     ┆ 50       │\n",
       "│ 118217    ┆ Blood     ┆ S         ┆           ┆   ┆           ┆           ┆ 450)      ┆          │\n",
       "│ ENSG00000 ┆ Lung      ┆ GTEX-15SB ┆ 289       ┆ … ┆ 250       ┆ false     ┆ [250,     ┆ 50       │\n",
       "│ 112339    ┆           ┆ 6         ┆           ┆   ┆           ┆           ┆ 300)      ┆          │\n",
       "└───────────┴───────────┴───────────┴───────────┴───┴───────────┴───────────┴───────────┴──────────┘"
      ]
     },
     "execution_count": 32,
     "metadata": {},
     "output_type": "execute_result"
    }
   ],
   "source": [
    "df.head()"
   ]
  },
  {
   "cell_type": "code",
   "execution_count": 33,
   "id": "22d4a7dc-9ad4-4c20-8cab-e1810c1763e8",
   "metadata": {},
   "outputs": [],
   "source": [
    "# set new bins\n",
    "# new_bins = [(-2000, -500),\n",
    "#             *[(i, i + 100) for i in range(-500, -100, 100)],\n",
    "#             (-100, -50),\n",
    "#             (-50, 0),\n",
    "#             (0, 50),\n",
    "#             (50, 100),\n",
    "#             *[(i, i + 100) for i in range(100, 500, 100)],]\n",
    "# new_bins = [(-2000, -1000),\n",
    "#             (-1000, -500),\n",
    "#             *[(i, i + 100) for i in range(-500, -100, 100)],\n",
    "#             (-100, -50),\n",
    "#             (-50, 0),\n",
    "#             (0, 50),\n",
    "#             (50, 100),\n",
    "#             *[(i, i + 100) for i in range(100, 500, 100)],\n",
    "#             (500, 1000),\n",
    "#             (1000, 2000)]\n",
    "new_bins = [(i, i + 250) for i in range(-2000, 2000, 250)]\n",
    "new_bin_labels  = [f'[{start}, {stop})' for start, stop in new_bins]\n",
    "\n",
    "df_bac = df\n",
    "for start, stop in new_bins:\n",
    "    df = df.with_columns(cse_distance_bin_label=(pl.when((pl.col('cse_distance_bin').cast(pl.Int16) >= start) & (pl.col('cse_distance_bin').cast(pl.Int16) <= stop))\n",
    "                                                 .then(pl.lit(f'[{start}, {stop})'))                                  \n",
    "                                                 .otherwise(pl.col('cse_distance_bin_label'))),\n",
    "                         bin_size = (pl.when((pl.col('cse_distance_bin').cast(pl.Int16) >= start) & (pl.col('cse_distance_bin').cast(pl.Int16) < stop))\n",
    "                                     .then(pl.lit(stop - start))\n",
    "                                     .otherwise(pl.col('bin_size'))))\n",
    "\n",
    "df = df.with_columns(cse_distance_bin_label=pl.col('cse_distance_bin_label').cast(pl.Enum(new_bin_labels)))"
   ]
  },
  {
   "cell_type": "code",
   "execution_count": 34,
   "id": "fa867e79-09a4-4814-ae9b-f9b406a2320c",
   "metadata": {},
   "outputs": [
    {
     "data": {
      "text/html": [
       "<div><style>\n",
       ".dataframe > thead > tr,\n",
       ".dataframe > tbody > tr {\n",
       "  text-align: right;\n",
       "  white-space: pre-wrap;\n",
       "}\n",
       "</style>\n",
       "<small>shape: (5, 34)</small><table border=\"1\" class=\"dataframe\"><thead><tr><th>gene</th><th>tissue</th><th>individual</th><th>cse_distance</th><th>outlier_state</th><th>zscore</th><th>FDR</th><th>AbExp</th><th>expected_expr@theta</th><th>splice_ensemble@AbSplice</th><th>splice_ensemble@MMSplice_SpliceMap_Psi_ref</th><th>splice_ensemble@SpliceAI</th><th>vep@cadd_raw.max</th><th>vep@LoF_HC.proportion</th><th>vep@transcript_ablation.proportion</th><th>vep@stop_gained.proportion</th><th>vep@frameshift_variant.proportion</th><th>vep@coding_sequence_variant.proportion</th><th>vep@missense_variant.proportion</th><th>vep@inframe_deletion.proportion</th><th>vep@inframe_insertion.proportion</th><th>vep@stop_lost.proportion</th><th>vep@3_prime_UTR_variant.proportion</th><th>vep@5_prime_UTR_variant.proportion</th><th>vep@NMD_transcript_variant.proportion</th><th>vep@NMD_escaping_variant.proportion</th><th>vep@start_lost.proportion</th><th>vep@splice_donor_variant.proportion</th><th>vep@splice_acceptor_variant.proportion</th><th>vep@splice_region_variant.proportion</th><th>cse_distance_bin</th><th>is_underexpressed</th><th>cse_distance_bin_label</th><th>bin_size</th></tr><tr><td>str</td><td>str</td><td>str</td><td>i64</td><td>enum</td><td>f32</td><td>f64</td><td>f64</td><td>f32</td><td>f64</td><td>f64</td><td>f64</td><td>f32</td><td>f32</td><td>f32</td><td>f32</td><td>f32</td><td>f32</td><td>f32</td><td>f32</td><td>f32</td><td>f32</td><td>f32</td><td>f32</td><td>f32</td><td>f32</td><td>f32</td><td>f32</td><td>f32</td><td>f32</td><td>enum</td><td>bool</td><td>enum</td><td>i32</td></tr></thead><tbody><tr><td>&quot;ENSG00000156482&quot;</td><td>&quot;Heart - Left Ventricle&quot;</td><td>&quot;GTEX-1GF9U&quot;</td><td>-1693</td><td>&quot;normal&quot;</td><td>0.281297</td><td>1.0</td><td>0.003678</td><td>636.466736</td><td>null</td><td>null</td><td>null</td><td>-0.20364</td><td>0.0</td><td>0.0</td><td>0.0</td><td>0.0</td><td>0.0</td><td>0.0</td><td>0.0</td><td>0.0</td><td>0.0</td><td>0.0</td><td>0.0</td><td>0.0</td><td>0.0</td><td>0.0</td><td>0.0</td><td>0.0</td><td>0.0</td><td>&quot;-1700&quot;</td><td>false</td><td>&quot;[-1750, -1500)&quot;</td><td>250</td></tr><tr><td>&quot;ENSG00000072756&quot;</td><td>&quot;Esophagus - Muscularis&quot;</td><td>&quot;GTEX-ZLFU&quot;</td><td>-1501</td><td>&quot;normal&quot;</td><td>0.656318</td><td>1.0</td><td>0.003434</td><td>479.290741</td><td>null</td><td>null</td><td>null</td><td>0.215677</td><td>0.0</td><td>0.0</td><td>0.0</td><td>0.0</td><td>0.0</td><td>0.0</td><td>0.0</td><td>0.0</td><td>0.0</td><td>0.0</td><td>0.0</td><td>0.086614</td><td>0.0</td><td>0.0</td><td>0.0</td><td>0.0</td><td>0.0</td><td>&quot;-1550&quot;</td><td>false</td><td>&quot;[-1750, -1500)&quot;</td><td>250</td></tr><tr><td>&quot;ENSG00000103544&quot;</td><td>&quot;Artery - Aorta&quot;</td><td>&quot;GTEX-T5JC&quot;</td><td>-1116</td><td>&quot;normal&quot;</td><td>0.833482</td><td>1.0</td><td>0.003991</td><td>547.123352</td><td>0.000006</td><td>null</td><td>0.0</td><td>-0.057801</td><td>0.0</td><td>0.0</td><td>0.0</td><td>0.0</td><td>0.0</td><td>0.0</td><td>0.0</td><td>0.0</td><td>0.0</td><td>0.0</td><td>0.0</td><td>0.0</td><td>0.0</td><td>0.0</td><td>0.0</td><td>0.0</td><td>0.0</td><td>&quot;-1150&quot;</td><td>false</td><td>&quot;[-1250, -1000)&quot;</td><td>250</td></tr><tr><td>&quot;ENSG00000118217&quot;</td><td>&quot;Whole Blood&quot;</td><td>&quot;GTEX-13FXS&quot;</td><td>401</td><td>&quot;normal&quot;</td><td>0.168664</td><td>1.0</td><td>0.000151</td><td>142.827362</td><td>0.000006</td><td>null</td><td>0.0</td><td>0.165801</td><td>0.0</td><td>0.0</td><td>0.0</td><td>0.0</td><td>0.0</td><td>0.0</td><td>0.0</td><td>0.0</td><td>0.0</td><td>0.0</td><td>0.0</td><td>0.0</td><td>0.0</td><td>0.0</td><td>0.0</td><td>0.0</td><td>0.0</td><td>&quot;400&quot;</td><td>false</td><td>&quot;[250, 500)&quot;</td><td>250</td></tr><tr><td>&quot;ENSG00000112339&quot;</td><td>&quot;Lung&quot;</td><td>&quot;GTEX-15SB6&quot;</td><td>289</td><td>&quot;normal&quot;</td><td>2.450918</td><td>1.0</td><td>0.004213</td><td>463.492432</td><td>null</td><td>null</td><td>null</td><td>0.139572</td><td>0.0</td><td>0.0</td><td>0.0</td><td>0.0</td><td>0.0</td><td>0.0</td><td>0.0</td><td>0.0</td><td>0.0</td><td>0.0</td><td>0.0</td><td>0.0</td><td>0.0</td><td>0.0</td><td>0.0</td><td>0.0</td><td>0.0</td><td>&quot;250&quot;</td><td>false</td><td>&quot;[250, 500)&quot;</td><td>250</td></tr></tbody></table></div>"
      ],
      "text/plain": [
       "shape: (5, 34)\n",
       "┌───────────┬───────────┬───────────┬───────────┬───┬───────────┬───────────┬───────────┬──────────┐\n",
       "│ gene      ┆ tissue    ┆ individua ┆ cse_dista ┆ … ┆ cse_dista ┆ is_undere ┆ cse_dista ┆ bin_size │\n",
       "│ ---       ┆ ---       ┆ l         ┆ nce       ┆   ┆ nce_bin   ┆ xpressed  ┆ nce_bin_l ┆ ---      │\n",
       "│ str       ┆ str       ┆ ---       ┆ ---       ┆   ┆ ---       ┆ ---       ┆ abel      ┆ i32      │\n",
       "│           ┆           ┆ str       ┆ i64       ┆   ┆ enum      ┆ bool      ┆ ---       ┆          │\n",
       "│           ┆           ┆           ┆           ┆   ┆           ┆           ┆ enum      ┆          │\n",
       "╞═══════════╪═══════════╪═══════════╪═══════════╪═══╪═══════════╪═══════════╪═══════════╪══════════╡\n",
       "│ ENSG00000 ┆ Heart -   ┆ GTEX-1GF9 ┆ -1693     ┆ … ┆ -1700     ┆ false     ┆ [-1750,   ┆ 250      │\n",
       "│ 156482    ┆ Left      ┆ U         ┆           ┆   ┆           ┆           ┆ -1500)    ┆          │\n",
       "│           ┆ Ventricle ┆           ┆           ┆   ┆           ┆           ┆           ┆          │\n",
       "│ ENSG00000 ┆ Esophagus ┆ GTEX-ZLFU ┆ -1501     ┆ … ┆ -1550     ┆ false     ┆ [-1750,   ┆ 250      │\n",
       "│ 072756    ┆ - Muscula ┆           ┆           ┆   ┆           ┆           ┆ -1500)    ┆          │\n",
       "│           ┆ ris       ┆           ┆           ┆   ┆           ┆           ┆           ┆          │\n",
       "│ ENSG00000 ┆ Artery -  ┆ GTEX-T5JC ┆ -1116     ┆ … ┆ -1150     ┆ false     ┆ [-1250,   ┆ 250      │\n",
       "│ 103544    ┆ Aorta     ┆           ┆           ┆   ┆           ┆           ┆ -1000)    ┆          │\n",
       "│ ENSG00000 ┆ Whole     ┆ GTEX-13FX ┆ 401       ┆ … ┆ 400       ┆ false     ┆ [250,     ┆ 250      │\n",
       "│ 118217    ┆ Blood     ┆ S         ┆           ┆   ┆           ┆           ┆ 500)      ┆          │\n",
       "│ ENSG00000 ┆ Lung      ┆ GTEX-15SB ┆ 289       ┆ … ┆ 250       ┆ false     ┆ [250,     ┆ 250      │\n",
       "│ 112339    ┆           ┆ 6         ┆           ┆   ┆           ┆           ┆ 500)      ┆          │\n",
       "└───────────┴───────────┴───────────┴───────────┴───┴───────────┴───────────┴───────────┴──────────┘"
      ]
     },
     "execution_count": 34,
     "metadata": {},
     "output_type": "execute_result"
    }
   ],
   "source": [
    "df.head()"
   ]
  },
  {
   "cell_type": "code",
   "execution_count": 35,
   "id": "f94f3547-2113-475a-ba83-5dd114761f9d",
   "metadata": {},
   "outputs": [],
   "source": [
    "# calculate counts per bins\n",
    "bin_count_df = (df.group_by(['outlier_state', 'cse_distance_bin_label', 'bin_size'])\n",
    "                .agg((pl.len()).alias('count')))\n",
    "\n",
    "# # calculate mean of each bin and then sum the means in each outlier state\n",
    "totals_df = (bin_count_df.group_by('outlier_state').agg(pl.sum('count').alias('total_count')))\n",
    "# # normalize each count by the mean calculated above\n",
    "enrichment_df = (bin_count_df.join(totals_df, on='outlier_state')\n",
    "                 .with_columns((pl.col('count') / pl.col('total_count')).alias('enrichment')))\n",
    "ci_low, ci_high = sm.stats.proportion_confint(enrichment_df[\"count\"], enrichment_df[\"total_count\"])\n",
    "enrichment_df = enrichment_df.with_columns(pl.Series(ci_low).alias('ci_low'), pl.Series(ci_high).alias('ci_high'))\n",
    "# normalize by bin size\n",
    "enrichment_df = enrichment_df.with_columns(enrichment = pl.col('enrichment') / pl.col('bin_size'),\n",
    "                                           ci_low = pl.col('ci_low') / pl.col('bin_size'),\n",
    "                                           ci_high = pl.col('ci_high') / pl.col('bin_size'))"
   ]
  },
  {
   "cell_type": "code",
   "execution_count": 36,
   "id": "a0799e2e-8dc7-4316-8555-0493d11fd741",
   "metadata": {},
   "outputs": [
    {
     "data": {
      "text/html": [
       "<div><style>\n",
       ".dataframe > thead > tr,\n",
       ".dataframe > tbody > tr {\n",
       "  text-align: right;\n",
       "  white-space: pre-wrap;\n",
       "}\n",
       "</style>\n",
       "<small>shape: (48, 8)</small><table border=\"1\" class=\"dataframe\"><thead><tr><th>outlier_state</th><th>cse_distance_bin_label</th><th>bin_size</th><th>count</th><th>total_count</th><th>enrichment</th><th>ci_low</th><th>ci_high</th></tr><tr><td>enum</td><td>enum</td><td>i32</td><td>u32</td><td>u32</td><td>f64</td><td>f64</td><td>f64</td></tr></thead><tbody><tr><td>&quot;overexpressed&quot;</td><td>&quot;[-500, -250)&quot;</td><td>250</td><td>271</td><td>3334</td><td>0.000325</td><td>0.000288</td><td>0.000362</td></tr><tr><td>&quot;underexpressed&quot;</td><td>&quot;[-750, -500)&quot;</td><td>250</td><td>381</td><td>5030</td><td>0.000303</td><td>0.000274</td><td>0.000332</td></tr><tr><td>&quot;normal&quot;</td><td>&quot;[1000, 1250)&quot;</td><td>250</td><td>791529</td><td>15785796</td><td>0.000201</td><td>0.0002</td><td>0.000201</td></tr><tr><td>&quot;underexpressed&quot;</td><td>&quot;[-500, -250)&quot;</td><td>250</td><td>353</td><td>5030</td><td>0.000281</td><td>0.000252</td><td>0.000309</td></tr><tr><td>&quot;underexpressed&quot;</td><td>&quot;[1250, 1500)&quot;</td><td>250</td><td>129</td><td>5030</td><td>0.000103</td><td>0.000085</td><td>0.00012</td></tr><tr><td>&hellip;</td><td>&hellip;</td><td>&hellip;</td><td>&hellip;</td><td>&hellip;</td><td>&hellip;</td><td>&hellip;</td><td>&hellip;</td></tr><tr><td>&quot;overexpressed&quot;</td><td>&quot;[1750, 2000)&quot;</td><td>250</td><td>163</td><td>3334</td><td>0.000196</td><td>0.000166</td><td>0.000225</td></tr><tr><td>&quot;normal&quot;</td><td>&quot;[1750, 2000)&quot;</td><td>250</td><td>714314</td><td>15785796</td><td>0.000181</td><td>0.000181</td><td>0.000181</td></tr><tr><td>&quot;normal&quot;</td><td>&quot;[-250, 0)&quot;</td><td>250</td><td>891263</td><td>15785796</td><td>0.000226</td><td>0.000225</td><td>0.000226</td></tr><tr><td>&quot;underexpressed&quot;</td><td>&quot;[500, 750)&quot;</td><td>250</td><td>181</td><td>5030</td><td>0.000144</td><td>0.000123</td><td>0.000165</td></tr><tr><td>&quot;normal&quot;</td><td>&quot;[-2000, -1750)&quot;</td><td>250</td><td>1706226</td><td>15785796</td><td>0.000432</td><td>0.000432</td><td>0.000433</td></tr></tbody></table></div>"
      ],
      "text/plain": [
       "shape: (48, 8)\n",
       "┌──────────────┬─────────────┬──────────┬─────────┬─────────────┬────────────┬──────────┬──────────┐\n",
       "│ outlier_stat ┆ cse_distanc ┆ bin_size ┆ count   ┆ total_count ┆ enrichment ┆ ci_low   ┆ ci_high  │\n",
       "│ e            ┆ e_bin_label ┆ ---      ┆ ---     ┆ ---         ┆ ---        ┆ ---      ┆ ---      │\n",
       "│ ---          ┆ ---         ┆ i32      ┆ u32     ┆ u32         ┆ f64        ┆ f64      ┆ f64      │\n",
       "│ enum         ┆ enum        ┆          ┆         ┆             ┆            ┆          ┆          │\n",
       "╞══════════════╪═════════════╪══════════╪═════════╪═════════════╪════════════╪══════════╪══════════╡\n",
       "│ overexpresse ┆ [-500,      ┆ 250      ┆ 271     ┆ 3334        ┆ 0.000325   ┆ 0.000288 ┆ 0.000362 │\n",
       "│ d            ┆ -250)       ┆          ┆         ┆             ┆            ┆          ┆          │\n",
       "│ underexpress ┆ [-750,      ┆ 250      ┆ 381     ┆ 5030        ┆ 0.000303   ┆ 0.000274 ┆ 0.000332 │\n",
       "│ ed           ┆ -500)       ┆          ┆         ┆             ┆            ┆          ┆          │\n",
       "│ normal       ┆ [1000,      ┆ 250      ┆ 791529  ┆ 15785796    ┆ 0.000201   ┆ 0.0002   ┆ 0.000201 │\n",
       "│              ┆ 1250)       ┆          ┆         ┆             ┆            ┆          ┆          │\n",
       "│ underexpress ┆ [-500,      ┆ 250      ┆ 353     ┆ 5030        ┆ 0.000281   ┆ 0.000252 ┆ 0.000309 │\n",
       "│ ed           ┆ -250)       ┆          ┆         ┆             ┆            ┆          ┆          │\n",
       "│ underexpress ┆ [1250,      ┆ 250      ┆ 129     ┆ 5030        ┆ 0.000103   ┆ 0.000085 ┆ 0.00012  │\n",
       "│ ed           ┆ 1500)       ┆          ┆         ┆             ┆            ┆          ┆          │\n",
       "│ …            ┆ …           ┆ …        ┆ …       ┆ …           ┆ …          ┆ …        ┆ …        │\n",
       "│ overexpresse ┆ [1750,      ┆ 250      ┆ 163     ┆ 3334        ┆ 0.000196   ┆ 0.000166 ┆ 0.000225 │\n",
       "│ d            ┆ 2000)       ┆          ┆         ┆             ┆            ┆          ┆          │\n",
       "│ normal       ┆ [1750,      ┆ 250      ┆ 714314  ┆ 15785796    ┆ 0.000181   ┆ 0.000181 ┆ 0.000181 │\n",
       "│              ┆ 2000)       ┆          ┆         ┆             ┆            ┆          ┆          │\n",
       "│ normal       ┆ [-250, 0)   ┆ 250      ┆ 891263  ┆ 15785796    ┆ 0.000226   ┆ 0.000225 ┆ 0.000226 │\n",
       "│ underexpress ┆ [500, 750)  ┆ 250      ┆ 181     ┆ 5030        ┆ 0.000144   ┆ 0.000123 ┆ 0.000165 │\n",
       "│ ed           ┆             ┆          ┆         ┆             ┆            ┆          ┆          │\n",
       "│ normal       ┆ [-2000,     ┆ 250      ┆ 1706226 ┆ 15785796    ┆ 0.000432   ┆ 0.000432 ┆ 0.000433 │\n",
       "│              ┆ -1750)      ┆          ┆         ┆             ┆            ┆          ┆          │\n",
       "└──────────────┴─────────────┴──────────┴─────────┴─────────────┴────────────┴──────────┴──────────┘"
      ]
     },
     "execution_count": 36,
     "metadata": {},
     "output_type": "execute_result"
    }
   ],
   "source": [
    "enrichment_df"
   ]
  },
  {
   "cell_type": "code",
   "execution_count": 37,
   "id": "ec669860-7ab9-4049-b1e5-4d0fd67fc366",
   "metadata": {},
   "outputs": [
    {
     "data": {
      "text/html": [
       "<div><style>\n",
       ".dataframe > thead > tr,\n",
       ".dataframe > tbody > tr {\n",
       "  text-align: right;\n",
       "  white-space: pre-wrap;\n",
       "}\n",
       "</style>\n",
       "<small>shape: (3, 2)</small><table border=\"1\" class=\"dataframe\"><thead><tr><th>outlier_state</th><th>total_count</th></tr><tr><td>enum</td><td>u32</td></tr></thead><tbody><tr><td>&quot;overexpressed&quot;</td><td>3334</td></tr><tr><td>&quot;normal&quot;</td><td>15785796</td></tr><tr><td>&quot;underexpressed&quot;</td><td>5030</td></tr></tbody></table></div>"
      ],
      "text/plain": [
       "shape: (3, 2)\n",
       "┌────────────────┬─────────────┐\n",
       "│ outlier_state  ┆ total_count │\n",
       "│ ---            ┆ ---         │\n",
       "│ enum           ┆ u32         │\n",
       "╞════════════════╪═════════════╡\n",
       "│ overexpressed  ┆ 3334        │\n",
       "│ normal         ┆ 15785796    │\n",
       "│ underexpressed ┆ 5030        │\n",
       "└────────────────┴─────────────┘"
      ]
     },
     "execution_count": 37,
     "metadata": {},
     "output_type": "execute_result"
    }
   ],
   "source": [
    "totals_df"
   ]
  },
  {
   "cell_type": "code",
   "execution_count": 38,
   "id": "7e9228c7-a7bb-4568-b007-cec5bc8188af",
   "metadata": {},
   "outputs": [
    {
     "data": {
      "text/plain": [
       "PosixPath('.')"
      ]
     },
     "execution_count": 38,
     "metadata": {},
     "output_type": "execute_result"
    }
   ],
   "source": [
    "base_path = Path('.')\n",
    "df.write_parquet(base_path / 'pas_bin_abexp.parquet', use_pyarrow=True)\n",
    "enrichment_df.write_parquet(base_path / 'pas_enrichment.parquet', use_pyarrow=True)\n",
    "base_path"
   ]
  },
  {
   "cell_type": "code",
   "execution_count": null,
   "id": "7f73c96c-b2f5-413b-9789-557109fede52",
   "metadata": {},
   "outputs": [],
   "source": []
  }
 ],
 "metadata": {
  "kernelspec": {
   "display_name": "Python [conda env:anaconda-kipoi-veff-analysis]",
   "language": "python",
   "name": "conda-env-anaconda-kipoi-veff-analysis-py"
  },
  "language_info": {
   "codemirror_mode": {
    "name": "ipython",
    "version": 3
   },
   "file_extension": ".py",
   "mimetype": "text/x-python",
   "name": "python",
   "nbconvert_exporter": "python",
   "pygments_lexer": "ipython3",
   "version": "3.12.6"
  }
 },
 "nbformat": 4,
 "nbformat_minor": 5
}
