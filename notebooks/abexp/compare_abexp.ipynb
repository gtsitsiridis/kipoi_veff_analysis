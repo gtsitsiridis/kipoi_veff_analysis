{
 "cells": [
  {
   "cell_type": "markdown",
   "id": "3bbc7e9c-a013-4458-8b20-39610a80f026",
   "metadata": {
    "jp-MarkdownHeadingCollapsed": true
   },
   "source": [
    "## Merge data"
   ]
  },
  {
   "cell_type": "code",
   "execution_count": 3,
   "id": "3716a16a-4031-4ca3-9138-00a2df17263c",
   "metadata": {},
   "outputs": [],
   "source": [
    "import polars as pl\n",
    "import gc\n",
    "from sklearn.metrics import average_precision_score"
   ]
  },
  {
   "cell_type": "code",
   "execution_count": 2,
   "id": "2380645f",
   "metadata": {},
   "outputs": [],
   "source": [
    "outrider_input_path = \"/s/project/abexp_veff/paper_submission/zenodo_user_update1/aberrant_expression_prediction_benchmark.parquet/**/*.parquet\"\n",
    "# old model\n",
    "feature_old_input_path = \"/s/project/rep/processed/training_results_v16/gtex_v8_old_dna/models/fset@DNA_only_splice_nosv/data.parquet/**/*.parquet\"\n",
    "AbExp_old_input_path = \"/s/project/rep/processed/training_results_v16/gtex_v8_old_dna/predict_folds/subset=all/fset=DNA_only_splice_nosv/gtex_v8_old_dna/dna_only/DNA_only_splice_nosv@train_simplecv.py#lightgbm/data.parquet/**/*.parquet\"\n",
    "# new model\n",
    "feature_new_input_path = \"/s/project/rep/processed/training_results_v16/gtex_v8_old_dna/models/fset@DNA_only_splice_Enformer_Aparent2_SpeciesLM_nosv/data.parquet/**/*.parquet\"\n",
    "AbExp_new_input_path = \"/s/project/rep/processed/training_results_v16/gtex_v8_old_dna/predict_folds/subset=all/fset=DNA_only_splice_Enformer_Aparent2_SpeciesLM_nosv/gtex_v8_old_dna/dna_only/DNA_only_splice_Enformer_Aparent2_SpeciesLM_nosv@train_simplecv.py#lightgbm/data.parquet/**/*.parquet\""
   ]
  },
  {
   "cell_type": "code",
   "execution_count": 3,
   "id": "da05c4f9-1222-476a-866e-e2a75da47ae8",
   "metadata": {},
   "outputs": [],
   "source": [
    "outrider_input_path = \"/s/project/abexp_veff/paper_submission/zenodo_user_update1/aberrant_expression_prediction_benchmark.parquet\""
   ]
  },
  {
   "cell_type": "code",
   "execution_count": 5,
   "id": "4bd1a146-c759-40eb-b095-5ba9ee3d0288",
   "metadata": {},
   "outputs": [
    {
     "data": {
      "text/html": [
       "<div><style>\n",
       ".dataframe > thead > tr,\n",
       ".dataframe > tbody > tr {\n",
       "  text-align: right;\n",
       "  white-space: pre-wrap;\n",
       "}\n",
       "</style>\n",
       "<small>shape: (5, 4)</small><table border=\"1\" class=\"dataframe\"><thead><tr><th>individual</th><th>subtissue</th><th>gene</th><th>tissue</th></tr><tr><td>str</td><td>str</td><td>str</td><td>str</td></tr></thead><tbody><tr><td>&quot;GTEX-1117F&quot;</td><td>&quot;Adipose - Subcutaneous&quot;</td><td>&quot;ENSG00000000003&quot;</td><td>&quot;Adipose Tissue&quot;</td></tr><tr><td>&quot;GTEX-1117F&quot;</td><td>&quot;Adipose - Subcutaneous&quot;</td><td>&quot;ENSG00000000419&quot;</td><td>&quot;Adipose Tissue&quot;</td></tr><tr><td>&quot;GTEX-1117F&quot;</td><td>&quot;Adipose - Subcutaneous&quot;</td><td>&quot;ENSG00000000457&quot;</td><td>&quot;Adipose Tissue&quot;</td></tr><tr><td>&quot;GTEX-1117F&quot;</td><td>&quot;Adipose - Subcutaneous&quot;</td><td>&quot;ENSG00000000938&quot;</td><td>&quot;Adipose Tissue&quot;</td></tr><tr><td>&quot;GTEX-1117F&quot;</td><td>&quot;Adipose - Subcutaneous&quot;</td><td>&quot;ENSG00000000971&quot;</td><td>&quot;Adipose Tissue&quot;</td></tr></tbody></table></div>"
      ],
      "text/plain": [
       "shape: (5, 4)\n",
       "┌────────────┬────────────────────────┬─────────────────┬────────────────┐\n",
       "│ individual ┆ subtissue              ┆ gene            ┆ tissue         │\n",
       "│ ---        ┆ ---                    ┆ ---             ┆ ---            │\n",
       "│ str        ┆ str                    ┆ str             ┆ str            │\n",
       "╞════════════╪════════════════════════╪═════════════════╪════════════════╡\n",
       "│ GTEX-1117F ┆ Adipose - Subcutaneous ┆ ENSG00000000003 ┆ Adipose Tissue │\n",
       "│ GTEX-1117F ┆ Adipose - Subcutaneous ┆ ENSG00000000419 ┆ Adipose Tissue │\n",
       "│ GTEX-1117F ┆ Adipose - Subcutaneous ┆ ENSG00000000457 ┆ Adipose Tissue │\n",
       "│ GTEX-1117F ┆ Adipose - Subcutaneous ┆ ENSG00000000938 ┆ Adipose Tissue │\n",
       "│ GTEX-1117F ┆ Adipose - Subcutaneous ┆ ENSG00000000971 ┆ Adipose Tissue │\n",
       "└────────────┴────────────────────────┴─────────────────┴────────────────┘"
      ]
     },
     "execution_count": 5,
     "metadata": {},
     "output_type": "execute_result"
    }
   ],
   "source": [
    "outrider_input_df = (pl.scan_parquet(outrider_input_path).rename({'tissue': 'subtissue', 'tissue_type': 'tissue'})\n",
    "                     .filter(pl.col('is_in_benchmark'))\n",
    "                     .select(['individual', 'subtissue', 'gene', 'tissue']))\n",
    "outrider_input_df.head().collect()"
   ]
  },
  {
   "cell_type": "code",
   "execution_count": 6,
   "id": "7aae7039-9d74-4c8f-ba51-699064948317",
   "metadata": {},
   "outputs": [
    {
     "name": "stderr",
     "output_type": "stream",
     "text": [
      "/scratch/tmp/tsi/ipykernel_2295311/1641837241.py:2: PerformanceWarning: Determining the column names of a LazyFrame requires resolving its schema, which is a potentially expensive operation. Use `LazyFrame.collect_schema().names()` to get the column names without this warning.\n",
      "  old_feature_columns = [c for c in old_feature_df.columns if c.startswith('feature.')]\n"
     ]
    },
    {
     "data": {
      "text/html": [
       "<div><style>\n",
       ".dataframe > thead > tr,\n",
       ".dataframe > tbody > tr {\n",
       "  text-align: right;\n",
       "  white-space: pre-wrap;\n",
       "}\n",
       "</style>\n",
       "<small>shape: (5, 28)</small><table border=\"1\" class=\"dataframe\"><thead><tr><th>individual</th><th>gene</th><th>subtissue</th><th>zscore</th><th>hilo_padj</th><th>feature.expected_expr@theta</th><th>feature.splice_ensemble@AbSplice</th><th>feature.splice_ensemble@MMSplice_SpliceMap_Psi_ref</th><th>feature.splice_ensemble@SpliceAI</th><th>feature.vep@features.cadd_raw.max</th><th>feature.vep@features.LoF_HC.proportion</th><th>feature.vep@features.transcript_ablation.proportion</th><th>feature.vep@features.stop_gained.proportion</th><th>feature.vep@features.frameshift_variant.proportion</th><th>feature.vep@features.coding_sequence_variant.proportion</th><th>feature.vep@features.missense_variant.proportion</th><th>feature.vep@features.inframe_deletion.proportion</th><th>feature.vep@features.inframe_insertion.proportion</th><th>feature.vep@features.stop_lost.proportion</th><th>feature.vep@features.3_prime_UTR_variant.proportion</th><th>feature.vep@features.5_prime_UTR_variant.proportion</th><th>feature.vep@features.NMD_transcript_variant.proportion</th><th>feature.vep@features.NMD_escaping_variant.proportion</th><th>feature.vep@features.start_lost.proportion</th><th>feature.vep@features.splice_donor_variant.proportion</th><th>feature.vep@features.splice_acceptor_variant.proportion</th><th>feature.vep@features.splice_region_variant.proportion</th><th>y_pred</th></tr><tr><td>str</td><td>str</td><td>str</td><td>f32</td><td>i64</td><td>f32</td><td>f64</td><td>f64</td><td>f64</td><td>f32</td><td>f32</td><td>f32</td><td>f32</td><td>f32</td><td>f32</td><td>f32</td><td>f32</td><td>f32</td><td>f32</td><td>f32</td><td>f32</td><td>f32</td><td>f32</td><td>f32</td><td>f32</td><td>f32</td><td>f32</td><td>f64</td></tr></thead><tbody><tr><td>&quot;GTEX-117XS&quot;</td><td>&quot;ENSG00000010270&quot;</td><td>&quot;Artery - Aorta&quot;</td><td>-0.379722</td><td>0</td><td>425.092072</td><td>null</td><td>null</td><td>null</td><td>null</td><td>null</td><td>null</td><td>null</td><td>null</td><td>null</td><td>null</td><td>null</td><td>null</td><td>null</td><td>null</td><td>null</td><td>null</td><td>null</td><td>null</td><td>null</td><td>null</td><td>null</td><td>0.003991</td></tr><tr><td>&quot;GTEX-117XS&quot;</td><td>&quot;ENSG00000050130&quot;</td><td>&quot;Artery - Aorta&quot;</td><td>-0.854305</td><td>0</td><td>311.207581</td><td>null</td><td>null</td><td>null</td><td>null</td><td>null</td><td>null</td><td>null</td><td>null</td><td>null</td><td>null</td><td>null</td><td>null</td><td>null</td><td>null</td><td>null</td><td>null</td><td>null</td><td>null</td><td>null</td><td>null</td><td>null</td><td>0.003991</td></tr><tr><td>&quot;GTEX-117XS&quot;</td><td>&quot;ENSG00000071282&quot;</td><td>&quot;Artery - Aorta&quot;</td><td>1.144592</td><td>0</td><td>35.510849</td><td>0.000006</td><td>null</td><td>0.0</td><td>-0.110699</td><td>0.0</td><td>0.0</td><td>0.0</td><td>0.0</td><td>0.0</td><td>0.0</td><td>0.0</td><td>0.0</td><td>0.0</td><td>0.0</td><td>0.0</td><td>0.0</td><td>0.0</td><td>0.0</td><td>0.0</td><td>0.0</td><td>0.0</td><td>0.002247</td></tr><tr><td>&quot;GTEX-117XS&quot;</td><td>&quot;ENSG00000072609&quot;</td><td>&quot;Artery - Aorta&quot;</td><td>-0.149068</td><td>0</td><td>455.533722</td><td>0.000006</td><td>null</td><td>0.01</td><td>0.786077</td><td>0.0</td><td>0.0</td><td>0.0</td><td>0.0</td><td>0.0</td><td>0.0</td><td>0.0</td><td>0.0</td><td>0.0</td><td>0.0</td><td>0.0</td><td>0.0</td><td>0.0</td><td>0.0</td><td>0.0</td><td>0.0</td><td>0.0</td><td>0.000538</td></tr><tr><td>&quot;GTEX-117XS&quot;</td><td>&quot;ENSG00000091039&quot;</td><td>&quot;Artery - Aorta&quot;</td><td>-0.085687</td><td>0</td><td>464.469269</td><td>0.000006</td><td>null</td><td>0.0</td><td>0.018342</td><td>0.0</td><td>0.0</td><td>0.0</td><td>0.0</td><td>0.0</td><td>0.0</td><td>0.0</td><td>0.0</td><td>0.0</td><td>0.0</td><td>0.0</td><td>0.0</td><td>0.0</td><td>0.0</td><td>0.0</td><td>0.0</td><td>0.0</td><td>0.004298</td></tr></tbody></table></div>"
      ],
      "text/plain": [
       "shape: (5, 28)\n",
       "┌───────────┬───────────┬───────────┬───────────┬───┬───────────┬───────────┬───────────┬──────────┐\n",
       "│ individua ┆ gene      ┆ subtissue ┆ zscore    ┆ … ┆ feature.v ┆ feature.v ┆ feature.v ┆ y_pred   │\n",
       "│ l         ┆ ---       ┆ ---       ┆ ---       ┆   ┆ ep@featur ┆ ep@featur ┆ ep@featur ┆ ---      │\n",
       "│ ---       ┆ str       ┆ str       ┆ f32       ┆   ┆ es.splice ┆ es.splice ┆ es.splice ┆ f64      │\n",
       "│ str       ┆           ┆           ┆           ┆   ┆ _do…      ┆ _ac…      ┆ _re…      ┆          │\n",
       "│           ┆           ┆           ┆           ┆   ┆ ---       ┆ ---       ┆ ---       ┆          │\n",
       "│           ┆           ┆           ┆           ┆   ┆ f32       ┆ f32       ┆ f32       ┆          │\n",
       "╞═══════════╪═══════════╪═══════════╪═══════════╪═══╪═══════════╪═══════════╪═══════════╪══════════╡\n",
       "│ GTEX-117X ┆ ENSG00000 ┆ Artery -  ┆ -0.379722 ┆ … ┆ null      ┆ null      ┆ null      ┆ 0.003991 │\n",
       "│ S         ┆ 010270    ┆ Aorta     ┆           ┆   ┆           ┆           ┆           ┆          │\n",
       "│ GTEX-117X ┆ ENSG00000 ┆ Artery -  ┆ -0.854305 ┆ … ┆ null      ┆ null      ┆ null      ┆ 0.003991 │\n",
       "│ S         ┆ 050130    ┆ Aorta     ┆           ┆   ┆           ┆           ┆           ┆          │\n",
       "│ GTEX-117X ┆ ENSG00000 ┆ Artery -  ┆ 1.144592  ┆ … ┆ 0.0       ┆ 0.0       ┆ 0.0       ┆ 0.002247 │\n",
       "│ S         ┆ 071282    ┆ Aorta     ┆           ┆   ┆           ┆           ┆           ┆          │\n",
       "│ GTEX-117X ┆ ENSG00000 ┆ Artery -  ┆ -0.149068 ┆ … ┆ 0.0       ┆ 0.0       ┆ 0.0       ┆ 0.000538 │\n",
       "│ S         ┆ 072609    ┆ Aorta     ┆           ┆   ┆           ┆           ┆           ┆          │\n",
       "│ GTEX-117X ┆ ENSG00000 ┆ Artery -  ┆ -0.085687 ┆ … ┆ 0.0       ┆ 0.0       ┆ 0.0       ┆ 0.004298 │\n",
       "│ S         ┆ 091039    ┆ Aorta     ┆           ┆   ┆           ┆           ┆           ┆          │\n",
       "└───────────┴───────────┴───────────┴───────────┴───┴───────────┴───────────┴───────────┴──────────┘"
      ]
     },
     "execution_count": 6,
     "metadata": {},
     "output_type": "execute_result"
    }
   ],
   "source": [
    "old_feature_df = pl.scan_parquet(feature_old_input_path)\n",
    "old_feature_columns = [c for c in old_feature_df.columns if c.startswith('feature.')]\n",
    "old_feature_df = old_feature_df.select(['individual', 'gene', 'subtissue', 'zscore', 'hilo_padj', *old_feature_columns])\n",
    "old_abexp_df = pl.scan_parquet(AbExp_old_input_path).select(['individual', 'gene', 'subtissue', 'y_pred'])\n",
    "old_df = old_feature_df.join(old_abexp_df, on=['individual', 'gene', 'subtissue'], how='inner')\n",
    "old_df.head().collect()"
   ]
  },
  {
   "cell_type": "code",
   "execution_count": 7,
   "id": "28d44a6f-f0ed-4164-b51f-61a74c8acfb8",
   "metadata": {},
   "outputs": [],
   "source": [
    "old_df = old_df.join(outrider_input_df, on=['individual', 'subtissue', 'gene'], how='inner')"
   ]
  },
  {
   "cell_type": "code",
   "execution_count": 8,
   "id": "62ea070a-8d33-4b4a-af18-8c15a6187894",
   "metadata": {},
   "outputs": [],
   "source": [
    "old_df = old_df.collect()"
   ]
  },
  {
   "cell_type": "code",
   "execution_count": 9,
   "id": "436036cd-ff9c-4d35-8f79-a7d79db37d4a",
   "metadata": {},
   "outputs": [
    {
     "data": {
      "text/html": [
       "<div><style>\n",
       ".dataframe > thead > tr,\n",
       ".dataframe > tbody > tr {\n",
       "  text-align: right;\n",
       "  white-space: pre-wrap;\n",
       "}\n",
       "</style>\n",
       "<small>shape: (5, 29)</small><table border=\"1\" class=\"dataframe\"><thead><tr><th>individual</th><th>gene</th><th>subtissue</th><th>zscore</th><th>hilo_padj</th><th>feature.expected_expr@theta</th><th>feature.splice_ensemble@AbSplice</th><th>feature.splice_ensemble@MMSplice_SpliceMap_Psi_ref</th><th>feature.splice_ensemble@SpliceAI</th><th>feature.vep@features.cadd_raw.max</th><th>feature.vep@features.LoF_HC.proportion</th><th>feature.vep@features.transcript_ablation.proportion</th><th>feature.vep@features.stop_gained.proportion</th><th>feature.vep@features.frameshift_variant.proportion</th><th>feature.vep@features.coding_sequence_variant.proportion</th><th>feature.vep@features.missense_variant.proportion</th><th>feature.vep@features.inframe_deletion.proportion</th><th>feature.vep@features.inframe_insertion.proportion</th><th>feature.vep@features.stop_lost.proportion</th><th>feature.vep@features.3_prime_UTR_variant.proportion</th><th>feature.vep@features.5_prime_UTR_variant.proportion</th><th>feature.vep@features.NMD_transcript_variant.proportion</th><th>feature.vep@features.NMD_escaping_variant.proportion</th><th>feature.vep@features.start_lost.proportion</th><th>feature.vep@features.splice_donor_variant.proportion</th><th>feature.vep@features.splice_acceptor_variant.proportion</th><th>feature.vep@features.splice_region_variant.proportion</th><th>y_pred</th><th>tissue</th></tr><tr><td>str</td><td>str</td><td>str</td><td>f32</td><td>i64</td><td>f32</td><td>f64</td><td>f64</td><td>f64</td><td>f32</td><td>f32</td><td>f32</td><td>f32</td><td>f32</td><td>f32</td><td>f32</td><td>f32</td><td>f32</td><td>f32</td><td>f32</td><td>f32</td><td>f32</td><td>f32</td><td>f32</td><td>f32</td><td>f32</td><td>f32</td><td>f64</td><td>str</td></tr></thead><tbody><tr><td>&quot;GTEX-1117F&quot;</td><td>&quot;ENSG00000000003&quot;</td><td>&quot;Adipose - Subcutaneous&quot;</td><td>0.323383</td><td>0</td><td>78.591827</td><td>null</td><td>null</td><td>null</td><td>null</td><td>null</td><td>null</td><td>null</td><td>null</td><td>null</td><td>null</td><td>null</td><td>null</td><td>null</td><td>null</td><td>null</td><td>null</td><td>null</td><td>null</td><td>null</td><td>null</td><td>null</td><td>0.00246</td><td>&quot;Adipose Tissue&quot;</td></tr><tr><td>&quot;GTEX-1117F&quot;</td><td>&quot;ENSG00000000419&quot;</td><td>&quot;Adipose - Subcutaneous&quot;</td><td>-0.649543</td><td>0</td><td>612.874451</td><td>null</td><td>null</td><td>null</td><td>-0.065188</td><td>0.0</td><td>0.0</td><td>0.0</td><td>0.0</td><td>0.0</td><td>0.0</td><td>0.0</td><td>0.0</td><td>0.0</td><td>0.0</td><td>0.0</td><td>0.0</td><td>0.0</td><td>0.0</td><td>0.0</td><td>0.0</td><td>0.0</td><td>0.003511</td><td>&quot;Adipose Tissue&quot;</td></tr><tr><td>&quot;GTEX-1117F&quot;</td><td>&quot;ENSG00000000457&quot;</td><td>&quot;Adipose - Subcutaneous&quot;</td><td>-0.260915</td><td>0</td><td>374.369202</td><td>null</td><td>null</td><td>null</td><td>null</td><td>null</td><td>null</td><td>null</td><td>null</td><td>null</td><td>null</td><td>null</td><td>null</td><td>null</td><td>null</td><td>null</td><td>null</td><td>null</td><td>null</td><td>null</td><td>null</td><td>null</td><td>0.003511</td><td>&quot;Adipose Tissue&quot;</td></tr><tr><td>&quot;GTEX-1117F&quot;</td><td>&quot;ENSG00000000938&quot;</td><td>&quot;Adipose - Subcutaneous&quot;</td><td>2.05477</td><td>0</td><td>47.495094</td><td>null</td><td>null</td><td>null</td><td>null</td><td>null</td><td>null</td><td>null</td><td>null</td><td>null</td><td>null</td><td>null</td><td>null</td><td>null</td><td>null</td><td>null</td><td>null</td><td>null</td><td>null</td><td>null</td><td>null</td><td>null</td><td>0.00246</td><td>&quot;Adipose Tissue&quot;</td></tr><tr><td>&quot;GTEX-1117F&quot;</td><td>&quot;ENSG00000000971&quot;</td><td>&quot;Adipose - Subcutaneous&quot;</td><td>-0.722197</td><td>0</td><td>25.436121</td><td>null</td><td>null</td><td>null</td><td>0.1505</td><td>0.0</td><td>0.0</td><td>0.0</td><td>0.0</td><td>0.0</td><td>0.0</td><td>0.0</td><td>0.0</td><td>0.0</td><td>0.0</td><td>0.0</td><td>0.0</td><td>0.0</td><td>0.0</td><td>0.0</td><td>0.0</td><td>0.0</td><td>0.00246</td><td>&quot;Adipose Tissue&quot;</td></tr></tbody></table></div>"
      ],
      "text/plain": [
       "shape: (5, 29)\n",
       "┌───────────┬───────────┬───────────┬───────────┬───┬───────────┬───────────┬──────────┬───────────┐\n",
       "│ individua ┆ gene      ┆ subtissue ┆ zscore    ┆ … ┆ feature.v ┆ feature.v ┆ y_pred   ┆ tissue    │\n",
       "│ l         ┆ ---       ┆ ---       ┆ ---       ┆   ┆ ep@featur ┆ ep@featur ┆ ---      ┆ ---       │\n",
       "│ ---       ┆ str       ┆ str       ┆ f32       ┆   ┆ es.splice ┆ es.splice ┆ f64      ┆ str       │\n",
       "│ str       ┆           ┆           ┆           ┆   ┆ _ac…      ┆ _re…      ┆          ┆           │\n",
       "│           ┆           ┆           ┆           ┆   ┆ ---       ┆ ---       ┆          ┆           │\n",
       "│           ┆           ┆           ┆           ┆   ┆ f32       ┆ f32       ┆          ┆           │\n",
       "╞═══════════╪═══════════╪═══════════╪═══════════╪═══╪═══════════╪═══════════╪══════════╪═══════════╡\n",
       "│ GTEX-1117 ┆ ENSG00000 ┆ Adipose - ┆ 0.323383  ┆ … ┆ null      ┆ null      ┆ 0.00246  ┆ Adipose   │\n",
       "│ F         ┆ 000003    ┆ Subcutane ┆           ┆   ┆           ┆           ┆          ┆ Tissue    │\n",
       "│           ┆           ┆ ous       ┆           ┆   ┆           ┆           ┆          ┆           │\n",
       "│ GTEX-1117 ┆ ENSG00000 ┆ Adipose - ┆ -0.649543 ┆ … ┆ 0.0       ┆ 0.0       ┆ 0.003511 ┆ Adipose   │\n",
       "│ F         ┆ 000419    ┆ Subcutane ┆           ┆   ┆           ┆           ┆          ┆ Tissue    │\n",
       "│           ┆           ┆ ous       ┆           ┆   ┆           ┆           ┆          ┆           │\n",
       "│ GTEX-1117 ┆ ENSG00000 ┆ Adipose - ┆ -0.260915 ┆ … ┆ null      ┆ null      ┆ 0.003511 ┆ Adipose   │\n",
       "│ F         ┆ 000457    ┆ Subcutane ┆           ┆   ┆           ┆           ┆          ┆ Tissue    │\n",
       "│           ┆           ┆ ous       ┆           ┆   ┆           ┆           ┆          ┆           │\n",
       "│ GTEX-1117 ┆ ENSG00000 ┆ Adipose - ┆ 2.05477   ┆ … ┆ null      ┆ null      ┆ 0.00246  ┆ Adipose   │\n",
       "│ F         ┆ 000938    ┆ Subcutane ┆           ┆   ┆           ┆           ┆          ┆ Tissue    │\n",
       "│           ┆           ┆ ous       ┆           ┆   ┆           ┆           ┆          ┆           │\n",
       "│ GTEX-1117 ┆ ENSG00000 ┆ Adipose - ┆ -0.722197 ┆ … ┆ 0.0       ┆ 0.0       ┆ 0.00246  ┆ Adipose   │\n",
       "│ F         ┆ 000971    ┆ Subcutane ┆           ┆   ┆           ┆           ┆          ┆ Tissue    │\n",
       "│           ┆           ┆ ous       ┆           ┆   ┆           ┆           ┆          ┆           │\n",
       "└───────────┴───────────┴───────────┴───────────┴───┴───────────┴───────────┴──────────┴───────────┘"
      ]
     },
     "execution_count": 9,
     "metadata": {},
     "output_type": "execute_result"
    }
   ],
   "source": [
    "old_df.head()"
   ]
  },
  {
   "cell_type": "code",
   "execution_count": 10,
   "id": "25bc4492-2177-4c02-8f4f-c7cb637db5ce",
   "metadata": {},
   "outputs": [
    {
     "data": {
      "text/plain": [
       "(99459917, 29)"
      ]
     },
     "execution_count": 10,
     "metadata": {},
     "output_type": "execute_result"
    }
   ],
   "source": [
    "old_df.shape"
   ]
  },
  {
   "cell_type": "code",
   "execution_count": 11,
   "id": "7adcd78d-7641-4b23-89d7-19707b257ad9",
   "metadata": {},
   "outputs": [],
   "source": [
    "old_benchmark_path = '/s/project/rep/processed/training_results_v16/DNA_only_splice_nosv_with_benchmark.parquet'"
   ]
  },
  {
   "cell_type": "code",
   "execution_count": 12,
   "id": "81a85ada-8245-442d-9cdd-c32077ab82ba",
   "metadata": {},
   "outputs": [],
   "source": [
    "old_df.write_parquet(old_benchmark_path)"
   ]
  },
  {
   "cell_type": "code",
   "execution_count": 13,
   "id": "659338c6-a4b1-4c3a-943a-e32cbebb6ae7",
   "metadata": {},
   "outputs": [],
   "source": [
    "del old_df\n",
    "gc.collect()"
   ]
  },
  {
   "cell_type": "code",
   "execution_count": 14,
   "id": "b5b53607-b0bc-401e-9e45-0d2840aff6d3",
   "metadata": {},
   "outputs": [
    {
     "name": "stderr",
     "output_type": "stream",
     "text": [
      "/scratch/tmp/tsi/ipykernel_2295311/11030580.py:2: PerformanceWarning: Determining the column names of a LazyFrame requires resolving its schema, which is a potentially expensive operation. Use `LazyFrame.collect_schema().names()` to get the column names without this warning.\n",
      "  new_feature_columns = [c for c in new_feature_df.columns if c.startswith('feature.')]\n"
     ]
    },
    {
     "data": {
      "text/html": [
       "<div><style>\n",
       ".dataframe > thead > tr,\n",
       ".dataframe > tbody > tr {\n",
       "  text-align: right;\n",
       "  white-space: pre-wrap;\n",
       "}\n",
       "</style>\n",
       "<small>shape: (5, 32)</small><table border=\"1\" class=\"dataframe\"><thead><tr><th>individual</th><th>gene</th><th>subtissue</th><th>zscore</th><th>hilo_padj</th><th>feature.aparent2@Aparent2</th><th>feature.enformer@Enformer</th><th>feature.specieslm@pas_score</th><th>feature.specieslm@tss_score</th><th>feature.splice_ensemble@AbSplice</th><th>feature.splice_ensemble@MMSplice_SpliceMap_Psi_ref</th><th>feature.splice_ensemble@SpliceAI</th><th>feature.vep@features.cadd_raw.max</th><th>feature.vep@features.LoF_HC.proportion</th><th>feature.vep@features.transcript_ablation.proportion</th><th>feature.vep@features.stop_gained.proportion</th><th>feature.vep@features.frameshift_variant.proportion</th><th>feature.vep@features.coding_sequence_variant.proportion</th><th>feature.vep@features.missense_variant.proportion</th><th>feature.vep@features.inframe_deletion.proportion</th><th>feature.vep@features.inframe_insertion.proportion</th><th>feature.vep@features.stop_lost.proportion</th><th>feature.vep@features.3_prime_UTR_variant.proportion</th><th>feature.vep@features.5_prime_UTR_variant.proportion</th><th>feature.vep@features.NMD_transcript_variant.proportion</th><th>feature.vep@features.NMD_escaping_variant.proportion</th><th>feature.vep@features.start_lost.proportion</th><th>feature.vep@features.splice_donor_variant.proportion</th><th>feature.vep@features.splice_acceptor_variant.proportion</th><th>feature.vep@features.splice_region_variant.proportion</th><th>feature.expected_expr@theta</th><th>y_pred</th></tr><tr><td>str</td><td>str</td><td>str</td><td>f32</td><td>i64</td><td>f64</td><td>f32</td><td>f64</td><td>f64</td><td>f64</td><td>f64</td><td>f64</td><td>f32</td><td>f32</td><td>f32</td><td>f32</td><td>f32</td><td>f32</td><td>f32</td><td>f32</td><td>f32</td><td>f32</td><td>f32</td><td>f32</td><td>f32</td><td>f32</td><td>f32</td><td>f32</td><td>f32</td><td>f32</td><td>f32</td><td>f64</td></tr></thead><tbody><tr><td>&quot;GTEX-117XS&quot;</td><td>&quot;ENSG00000010270&quot;</td><td>&quot;Artery - Aorta&quot;</td><td>-0.379722</td><td>0</td><td>null</td><td>null</td><td>null</td><td>null</td><td>null</td><td>null</td><td>null</td><td>null</td><td>null</td><td>null</td><td>null</td><td>null</td><td>null</td><td>null</td><td>null</td><td>null</td><td>null</td><td>null</td><td>null</td><td>null</td><td>null</td><td>null</td><td>null</td><td>null</td><td>null</td><td>425.092072</td><td>0.003799</td></tr><tr><td>&quot;GTEX-117XS&quot;</td><td>&quot;ENSG00000050130&quot;</td><td>&quot;Artery - Aorta&quot;</td><td>-0.854305</td><td>0</td><td>null</td><td>null</td><td>null</td><td>null</td><td>null</td><td>null</td><td>null</td><td>null</td><td>null</td><td>null</td><td>null</td><td>null</td><td>null</td><td>null</td><td>null</td><td>null</td><td>null</td><td>null</td><td>null</td><td>null</td><td>null</td><td>null</td><td>null</td><td>null</td><td>null</td><td>311.207581</td><td>0.003799</td></tr><tr><td>&quot;GTEX-117XS&quot;</td><td>&quot;ENSG00000071282&quot;</td><td>&quot;Artery - Aorta&quot;</td><td>1.144592</td><td>0</td><td>null</td><td>null</td><td>-0.041191</td><td>null</td><td>0.000006</td><td>null</td><td>0.0</td><td>-0.110699</td><td>0.0</td><td>0.0</td><td>0.0</td><td>0.0</td><td>0.0</td><td>0.0</td><td>0.0</td><td>0.0</td><td>0.0</td><td>0.0</td><td>0.0</td><td>0.0</td><td>0.0</td><td>0.0</td><td>0.0</td><td>0.0</td><td>0.0</td><td>35.510849</td><td>0.002456</td></tr><tr><td>&quot;GTEX-117XS&quot;</td><td>&quot;ENSG00000072609&quot;</td><td>&quot;Artery - Aorta&quot;</td><td>-0.149068</td><td>0</td><td>null</td><td>null</td><td>null</td><td>null</td><td>0.000006</td><td>null</td><td>0.01</td><td>0.786077</td><td>0.0</td><td>0.0</td><td>0.0</td><td>0.0</td><td>0.0</td><td>0.0</td><td>0.0</td><td>0.0</td><td>0.0</td><td>0.0</td><td>0.0</td><td>0.0</td><td>0.0</td><td>0.0</td><td>0.0</td><td>0.0</td><td>0.0</td><td>455.533722</td><td>0.002453</td></tr><tr><td>&quot;GTEX-117XS&quot;</td><td>&quot;ENSG00000091039&quot;</td><td>&quot;Artery - Aorta&quot;</td><td>-0.085687</td><td>0</td><td>null</td><td>null</td><td>-0.040564</td><td>-0.030068</td><td>0.000006</td><td>null</td><td>0.0</td><td>0.018342</td><td>0.0</td><td>0.0</td><td>0.0</td><td>0.0</td><td>0.0</td><td>0.0</td><td>0.0</td><td>0.0</td><td>0.0</td><td>0.0</td><td>0.0</td><td>0.0</td><td>0.0</td><td>0.0</td><td>0.0</td><td>0.0</td><td>0.0</td><td>464.469269</td><td>0.003493</td></tr></tbody></table></div>"
      ],
      "text/plain": [
       "shape: (5, 32)\n",
       "┌───────────┬───────────┬───────────┬───────────┬───┬───────────┬───────────┬───────────┬──────────┐\n",
       "│ individua ┆ gene      ┆ subtissue ┆ zscore    ┆ … ┆ feature.v ┆ feature.v ┆ feature.e ┆ y_pred   │\n",
       "│ l         ┆ ---       ┆ ---       ┆ ---       ┆   ┆ ep@featur ┆ ep@featur ┆ xpected_e ┆ ---      │\n",
       "│ ---       ┆ str       ┆ str       ┆ f32       ┆   ┆ es.splice ┆ es.splice ┆ xpr@theta ┆ f64      │\n",
       "│ str       ┆           ┆           ┆           ┆   ┆ _ac…      ┆ _re…      ┆ ---       ┆          │\n",
       "│           ┆           ┆           ┆           ┆   ┆ ---       ┆ ---       ┆ f32       ┆          │\n",
       "│           ┆           ┆           ┆           ┆   ┆ f32       ┆ f32       ┆           ┆          │\n",
       "╞═══════════╪═══════════╪═══════════╪═══════════╪═══╪═══════════╪═══════════╪═══════════╪══════════╡\n",
       "│ GTEX-117X ┆ ENSG00000 ┆ Artery -  ┆ -0.379722 ┆ … ┆ null      ┆ null      ┆ 425.09207 ┆ 0.003799 │\n",
       "│ S         ┆ 010270    ┆ Aorta     ┆           ┆   ┆           ┆           ┆ 2         ┆          │\n",
       "│ GTEX-117X ┆ ENSG00000 ┆ Artery -  ┆ -0.854305 ┆ … ┆ null      ┆ null      ┆ 311.20758 ┆ 0.003799 │\n",
       "│ S         ┆ 050130    ┆ Aorta     ┆           ┆   ┆           ┆           ┆ 1         ┆          │\n",
       "│ GTEX-117X ┆ ENSG00000 ┆ Artery -  ┆ 1.144592  ┆ … ┆ 0.0       ┆ 0.0       ┆ 35.510849 ┆ 0.002456 │\n",
       "│ S         ┆ 071282    ┆ Aorta     ┆           ┆   ┆           ┆           ┆           ┆          │\n",
       "│ GTEX-117X ┆ ENSG00000 ┆ Artery -  ┆ -0.149068 ┆ … ┆ 0.0       ┆ 0.0       ┆ 455.53372 ┆ 0.002453 │\n",
       "│ S         ┆ 072609    ┆ Aorta     ┆           ┆   ┆           ┆           ┆ 2         ┆          │\n",
       "│ GTEX-117X ┆ ENSG00000 ┆ Artery -  ┆ -0.085687 ┆ … ┆ 0.0       ┆ 0.0       ┆ 464.46926 ┆ 0.003493 │\n",
       "│ S         ┆ 091039    ┆ Aorta     ┆           ┆   ┆           ┆           ┆ 9         ┆          │\n",
       "└───────────┴───────────┴───────────┴───────────┴───┴───────────┴───────────┴───────────┴──────────┘"
      ]
     },
     "execution_count": 14,
     "metadata": {},
     "output_type": "execute_result"
    }
   ],
   "source": [
    "new_feature_df = pl.scan_parquet(feature_new_input_path)\n",
    "new_feature_columns = [c for c in new_feature_df.columns if c.startswith('feature.')]\n",
    "new_feature_df = new_feature_df.select(['individual', 'gene', 'subtissue', 'zscore', 'hilo_padj', *new_feature_columns])\n",
    "new_abexp_df = pl.scan_parquet(AbExp_new_input_path).select(['individual', 'gene', 'subtissue', 'y_pred'])\n",
    "new_df = new_feature_df.join(new_abexp_df, on=['individual', 'gene', 'subtissue'], how='inner')\n",
    "new_df.head().collect()"
   ]
  },
  {
   "cell_type": "code",
   "execution_count": 15,
   "id": "f86061a2-5c21-4d84-9622-279a025fb26e",
   "metadata": {},
   "outputs": [],
   "source": [
    "new_df = new_df.join(outrider_input_df, on=['individual', 'subtissue', 'gene'], how='inner')"
   ]
  },
  {
   "cell_type": "code",
   "execution_count": 16,
   "id": "884a30d2-f6e7-4136-8594-78d54bd23775",
   "metadata": {},
   "outputs": [],
   "source": [
    "new_df = new_df.collect()"
   ]
  },
  {
   "cell_type": "code",
   "execution_count": 17,
   "id": "6f3be2d3-5dec-41a9-970f-1b601fdb2760",
   "metadata": {},
   "outputs": [
    {
     "data": {
      "text/plain": [
       "(99459917, 33)"
      ]
     },
     "execution_count": 17,
     "metadata": {},
     "output_type": "execute_result"
    }
   ],
   "source": [
    "new_df.shape"
   ]
  },
  {
   "cell_type": "code",
   "execution_count": 18,
   "id": "f2882066-a743-47d1-8134-752ffee6371b",
   "metadata": {},
   "outputs": [
    {
     "data": {
      "text/html": [
       "<div><style>\n",
       ".dataframe > thead > tr,\n",
       ".dataframe > tbody > tr {\n",
       "  text-align: right;\n",
       "  white-space: pre-wrap;\n",
       "}\n",
       "</style>\n",
       "<small>shape: (5, 33)</small><table border=\"1\" class=\"dataframe\"><thead><tr><th>individual</th><th>gene</th><th>subtissue</th><th>zscore</th><th>hilo_padj</th><th>feature.aparent2@Aparent2</th><th>feature.enformer@Enformer</th><th>feature.specieslm@pas_score</th><th>feature.specieslm@tss_score</th><th>feature.splice_ensemble@AbSplice</th><th>feature.splice_ensemble@MMSplice_SpliceMap_Psi_ref</th><th>feature.splice_ensemble@SpliceAI</th><th>feature.vep@features.cadd_raw.max</th><th>feature.vep@features.LoF_HC.proportion</th><th>feature.vep@features.transcript_ablation.proportion</th><th>feature.vep@features.stop_gained.proportion</th><th>feature.vep@features.frameshift_variant.proportion</th><th>feature.vep@features.coding_sequence_variant.proportion</th><th>feature.vep@features.missense_variant.proportion</th><th>feature.vep@features.inframe_deletion.proportion</th><th>feature.vep@features.inframe_insertion.proportion</th><th>feature.vep@features.stop_lost.proportion</th><th>feature.vep@features.3_prime_UTR_variant.proportion</th><th>feature.vep@features.5_prime_UTR_variant.proportion</th><th>feature.vep@features.NMD_transcript_variant.proportion</th><th>feature.vep@features.NMD_escaping_variant.proportion</th><th>feature.vep@features.start_lost.proportion</th><th>feature.vep@features.splice_donor_variant.proportion</th><th>feature.vep@features.splice_acceptor_variant.proportion</th><th>feature.vep@features.splice_region_variant.proportion</th><th>feature.expected_expr@theta</th><th>y_pred</th><th>tissue</th></tr><tr><td>str</td><td>str</td><td>str</td><td>f32</td><td>i64</td><td>f64</td><td>f32</td><td>f64</td><td>f64</td><td>f64</td><td>f64</td><td>f64</td><td>f32</td><td>f32</td><td>f32</td><td>f32</td><td>f32</td><td>f32</td><td>f32</td><td>f32</td><td>f32</td><td>f32</td><td>f32</td><td>f32</td><td>f32</td><td>f32</td><td>f32</td><td>f32</td><td>f32</td><td>f32</td><td>f32</td><td>f64</td><td>str</td></tr></thead><tbody><tr><td>&quot;GTEX-1117F&quot;</td><td>&quot;ENSG00000000003&quot;</td><td>&quot;Adipose - Subcutaneous&quot;</td><td>0.323383</td><td>0</td><td>null</td><td>null</td><td>null</td><td>null</td><td>null</td><td>null</td><td>null</td><td>null</td><td>null</td><td>null</td><td>null</td><td>null</td><td>null</td><td>null</td><td>null</td><td>null</td><td>null</td><td>null</td><td>null</td><td>null</td><td>null</td><td>null</td><td>null</td><td>null</td><td>null</td><td>78.591827</td><td>0.00251</td><td>&quot;Adipose Tissue&quot;</td></tr><tr><td>&quot;GTEX-1117F&quot;</td><td>&quot;ENSG00000000419&quot;</td><td>&quot;Adipose - Subcutaneous&quot;</td><td>-0.649543</td><td>0</td><td>null</td><td>null</td><td>-0.038405</td><td>null</td><td>null</td><td>null</td><td>null</td><td>-0.065188</td><td>0.0</td><td>0.0</td><td>0.0</td><td>0.0</td><td>0.0</td><td>0.0</td><td>0.0</td><td>0.0</td><td>0.0</td><td>0.0</td><td>0.0</td><td>0.0</td><td>0.0</td><td>0.0</td><td>0.0</td><td>0.0</td><td>0.0</td><td>612.874451</td><td>0.003407</td><td>&quot;Adipose Tissue&quot;</td></tr><tr><td>&quot;GTEX-1117F&quot;</td><td>&quot;ENSG00000000457&quot;</td><td>&quot;Adipose - Subcutaneous&quot;</td><td>-0.260915</td><td>0</td><td>null</td><td>null</td><td>null</td><td>null</td><td>null</td><td>null</td><td>null</td><td>null</td><td>null</td><td>null</td><td>null</td><td>null</td><td>null</td><td>null</td><td>null</td><td>null</td><td>null</td><td>null</td><td>null</td><td>null</td><td>null</td><td>null</td><td>null</td><td>null</td><td>null</td><td>374.369202</td><td>0.003407</td><td>&quot;Adipose Tissue&quot;</td></tr><tr><td>&quot;GTEX-1117F&quot;</td><td>&quot;ENSG00000000938&quot;</td><td>&quot;Adipose - Subcutaneous&quot;</td><td>2.05477</td><td>0</td><td>null</td><td>null</td><td>null</td><td>null</td><td>null</td><td>null</td><td>null</td><td>null</td><td>null</td><td>null</td><td>null</td><td>null</td><td>null</td><td>null</td><td>null</td><td>null</td><td>null</td><td>null</td><td>null</td><td>null</td><td>null</td><td>null</td><td>null</td><td>null</td><td>null</td><td>47.495094</td><td>0.00251</td><td>&quot;Adipose Tissue&quot;</td></tr><tr><td>&quot;GTEX-1117F&quot;</td><td>&quot;ENSG00000000971&quot;</td><td>&quot;Adipose - Subcutaneous&quot;</td><td>-0.722197</td><td>0</td><td>null</td><td>null</td><td>-0.034286</td><td>null</td><td>null</td><td>null</td><td>null</td><td>0.1505</td><td>0.0</td><td>0.0</td><td>0.0</td><td>0.0</td><td>0.0</td><td>0.0</td><td>0.0</td><td>0.0</td><td>0.0</td><td>0.0</td><td>0.0</td><td>0.0</td><td>0.0</td><td>0.0</td><td>0.0</td><td>0.0</td><td>0.0</td><td>25.436121</td><td>0.00251</td><td>&quot;Adipose Tissue&quot;</td></tr></tbody></table></div>"
      ],
      "text/plain": [
       "shape: (5, 33)\n",
       "┌───────────┬───────────┬───────────┬───────────┬───┬───────────┬───────────┬──────────┬───────────┐\n",
       "│ individua ┆ gene      ┆ subtissue ┆ zscore    ┆ … ┆ feature.v ┆ feature.e ┆ y_pred   ┆ tissue    │\n",
       "│ l         ┆ ---       ┆ ---       ┆ ---       ┆   ┆ ep@featur ┆ xpected_e ┆ ---      ┆ ---       │\n",
       "│ ---       ┆ str       ┆ str       ┆ f32       ┆   ┆ es.splice ┆ xpr@theta ┆ f64      ┆ str       │\n",
       "│ str       ┆           ┆           ┆           ┆   ┆ _re…      ┆ ---       ┆          ┆           │\n",
       "│           ┆           ┆           ┆           ┆   ┆ ---       ┆ f32       ┆          ┆           │\n",
       "│           ┆           ┆           ┆           ┆   ┆ f32       ┆           ┆          ┆           │\n",
       "╞═══════════╪═══════════╪═══════════╪═══════════╪═══╪═══════════╪═══════════╪══════════╪═══════════╡\n",
       "│ GTEX-1117 ┆ ENSG00000 ┆ Adipose - ┆ 0.323383  ┆ … ┆ null      ┆ 78.591827 ┆ 0.00251  ┆ Adipose   │\n",
       "│ F         ┆ 000003    ┆ Subcutane ┆           ┆   ┆           ┆           ┆          ┆ Tissue    │\n",
       "│           ┆           ┆ ous       ┆           ┆   ┆           ┆           ┆          ┆           │\n",
       "│ GTEX-1117 ┆ ENSG00000 ┆ Adipose - ┆ -0.649543 ┆ … ┆ 0.0       ┆ 612.87445 ┆ 0.003407 ┆ Adipose   │\n",
       "│ F         ┆ 000419    ┆ Subcutane ┆           ┆   ┆           ┆ 1         ┆          ┆ Tissue    │\n",
       "│           ┆           ┆ ous       ┆           ┆   ┆           ┆           ┆          ┆           │\n",
       "│ GTEX-1117 ┆ ENSG00000 ┆ Adipose - ┆ -0.260915 ┆ … ┆ null      ┆ 374.36920 ┆ 0.003407 ┆ Adipose   │\n",
       "│ F         ┆ 000457    ┆ Subcutane ┆           ┆   ┆           ┆ 2         ┆          ┆ Tissue    │\n",
       "│           ┆           ┆ ous       ┆           ┆   ┆           ┆           ┆          ┆           │\n",
       "│ GTEX-1117 ┆ ENSG00000 ┆ Adipose - ┆ 2.05477   ┆ … ┆ null      ┆ 47.495094 ┆ 0.00251  ┆ Adipose   │\n",
       "│ F         ┆ 000938    ┆ Subcutane ┆           ┆   ┆           ┆           ┆          ┆ Tissue    │\n",
       "│           ┆           ┆ ous       ┆           ┆   ┆           ┆           ┆          ┆           │\n",
       "│ GTEX-1117 ┆ ENSG00000 ┆ Adipose - ┆ -0.722197 ┆ … ┆ 0.0       ┆ 25.436121 ┆ 0.00251  ┆ Adipose   │\n",
       "│ F         ┆ 000971    ┆ Subcutane ┆           ┆   ┆           ┆           ┆          ┆ Tissue    │\n",
       "│           ┆           ┆ ous       ┆           ┆   ┆           ┆           ┆          ┆           │\n",
       "└───────────┴───────────┴───────────┴───────────┴───┴───────────┴───────────┴──────────┴───────────┘"
      ]
     },
     "execution_count": 18,
     "metadata": {},
     "output_type": "execute_result"
    }
   ],
   "source": [
    "new_df.head()"
   ]
  },
  {
   "cell_type": "code",
   "execution_count": 21,
   "id": "7121fcf3-61ec-443c-b1fb-5034eef6f5a3",
   "metadata": {},
   "outputs": [],
   "source": [
    "new_benchmark_path = '/s/project/rep/processed/training_results_v16/Enformer_Aparent2_SpeciesLM_with_benchmark.parquet'"
   ]
  },
  {
   "cell_type": "code",
   "execution_count": 22,
   "id": "e00923d6-e58d-4ed7-8abd-2ed0c1910dea",
   "metadata": {},
   "outputs": [],
   "source": [
    "new_df.write_parquet(new_benchmark_path)"
   ]
  },
  {
   "cell_type": "code",
   "execution_count": 23,
   "id": "5c20bbe1-c315-483f-b37b-ca6486c38601",
   "metadata": {},
   "outputs": [],
   "source": [
    "del new_df\n",
    "gc.collect()"
   ]
  },
  {
   "cell_type": "markdown",
   "id": "9d403681-be25-4064-ab58-78403a6a6c7c",
   "metadata": {
    "jp-MarkdownHeadingCollapsed": true
   },
   "source": [
    "## Read benchmarks"
   ]
  },
  {
   "cell_type": "code",
   "execution_count": 1,
   "id": "31c58eee-1a5c-4b5b-830d-d98c0dedf9e9",
   "metadata": {},
   "outputs": [],
   "source": [
    "import polars as pl\n",
    "import gc\n",
    "from sklearn.metrics import average_precision_score"
   ]
  },
  {
   "cell_type": "code",
   "execution_count": 2,
   "id": "b7964825-3957-4b2b-a2be-a26bb0429725",
   "metadata": {},
   "outputs": [],
   "source": [
    "old_benchmark_path = '/s/project/rep/processed/training_results_v16/DNA_only_splice_nosv_with_benchmark.parquet'\n",
    "new_benchmark_path = '/s/project/rep/processed/training_results_v16/Enformer_Aparent2_SpeciesLM_with_benchmark.parquet'\n",
    "specieslm_raw_path = '/s/project/rep/processed/training_results_v16/gtex_v8_old_dna/raw/SpeciesLM/*.parquet'"
   ]
  },
  {
   "cell_type": "code",
   "execution_count": 3,
   "id": "5163dbf4-f142-480c-915f-3b7a315a5357",
   "metadata": {},
   "outputs": [
    {
     "data": {
      "text/html": [
       "<div><style>\n",
       ".dataframe > thead > tr,\n",
       ".dataframe > tbody > tr {\n",
       "  text-align: right;\n",
       "  white-space: pre-wrap;\n",
       "}\n",
       "</style>\n",
       "<small>shape: (5, 7)</small><table border=\"1\" class=\"dataframe\"><thead><tr><th>individual</th><th>gene</th><th>subtissue</th><th>tissue</th><th>hilo_padj</th><th>y_pred</th><th>y_true</th></tr><tr><td>str</td><td>str</td><td>str</td><td>str</td><td>i64</td><td>f64</td><td>bool</td></tr></thead><tbody><tr><td>&quot;GTEX-1117F&quot;</td><td>&quot;ENSG00000000003&quot;</td><td>&quot;Adipose - Subcutaneous&quot;</td><td>&quot;Adipose Tissue&quot;</td><td>0</td><td>-0.00246</td><td>false</td></tr><tr><td>&quot;GTEX-1117F&quot;</td><td>&quot;ENSG00000000419&quot;</td><td>&quot;Adipose - Subcutaneous&quot;</td><td>&quot;Adipose Tissue&quot;</td><td>0</td><td>-0.003511</td><td>false</td></tr><tr><td>&quot;GTEX-1117F&quot;</td><td>&quot;ENSG00000000457&quot;</td><td>&quot;Adipose - Subcutaneous&quot;</td><td>&quot;Adipose Tissue&quot;</td><td>0</td><td>-0.003511</td><td>false</td></tr><tr><td>&quot;GTEX-1117F&quot;</td><td>&quot;ENSG00000000938&quot;</td><td>&quot;Adipose - Subcutaneous&quot;</td><td>&quot;Adipose Tissue&quot;</td><td>0</td><td>-0.00246</td><td>false</td></tr><tr><td>&quot;GTEX-1117F&quot;</td><td>&quot;ENSG00000000971&quot;</td><td>&quot;Adipose - Subcutaneous&quot;</td><td>&quot;Adipose Tissue&quot;</td><td>0</td><td>-0.00246</td><td>false</td></tr></tbody></table></div>"
      ],
      "text/plain": [
       "shape: (5, 7)\n",
       "┌────────────┬─────────────────┬──────────────┬────────────────┬───────────┬───────────┬────────┐\n",
       "│ individual ┆ gene            ┆ subtissue    ┆ tissue         ┆ hilo_padj ┆ y_pred    ┆ y_true │\n",
       "│ ---        ┆ ---             ┆ ---          ┆ ---            ┆ ---       ┆ ---       ┆ ---    │\n",
       "│ str        ┆ str             ┆ str          ┆ str            ┆ i64       ┆ f64       ┆ bool   │\n",
       "╞════════════╪═════════════════╪══════════════╪════════════════╪═══════════╪═══════════╪════════╡\n",
       "│ GTEX-1117F ┆ ENSG00000000003 ┆ Adipose -    ┆ Adipose Tissue ┆ 0         ┆ -0.00246  ┆ false  │\n",
       "│            ┆                 ┆ Subcutaneous ┆                ┆           ┆           ┆        │\n",
       "│ GTEX-1117F ┆ ENSG00000000419 ┆ Adipose -    ┆ Adipose Tissue ┆ 0         ┆ -0.003511 ┆ false  │\n",
       "│            ┆                 ┆ Subcutaneous ┆                ┆           ┆           ┆        │\n",
       "│ GTEX-1117F ┆ ENSG00000000457 ┆ Adipose -    ┆ Adipose Tissue ┆ 0         ┆ -0.003511 ┆ false  │\n",
       "│            ┆                 ┆ Subcutaneous ┆                ┆           ┆           ┆        │\n",
       "│ GTEX-1117F ┆ ENSG00000000938 ┆ Adipose -    ┆ Adipose Tissue ┆ 0         ┆ -0.00246  ┆ false  │\n",
       "│            ┆                 ┆ Subcutaneous ┆                ┆           ┆           ┆        │\n",
       "│ GTEX-1117F ┆ ENSG00000000971 ┆ Adipose -    ┆ Adipose Tissue ┆ 0         ┆ -0.00246  ┆ false  │\n",
       "│            ┆                 ┆ Subcutaneous ┆                ┆           ┆           ┆        │\n",
       "└────────────┴─────────────────┴──────────────┴────────────────┴───────────┴───────────┴────────┘"
      ]
     },
     "execution_count": 3,
     "metadata": {},
     "output_type": "execute_result"
    }
   ],
   "source": [
    "old_df = pl.scan_parquet(old_benchmark_path).select(['individual', 'gene', 'subtissue', 'tissue', 'hilo_padj', 'y_pred'])\n",
    "old_df = old_df.with_columns(y_true=pl.col(\"hilo_padj\") == -1,\n",
    "                    y_pred=-pl.col('y_pred'))\n",
    "old_df.head().collect()"
   ]
  },
  {
   "cell_type": "code",
   "execution_count": 4,
   "id": "a6ffbede-3841-4926-94e6-d0a588a13783",
   "metadata": {
    "scrolled": true
   },
   "outputs": [],
   "source": [
    "old_tissue_auprc = old_df.collect().group_by('tissue').map_groups(lambda group: pl.DataFrame({\n",
    "    \"tissue\" : group[\"tissue\"][0],\n",
    "    \"AUPRC\" : average_precision_score(group.select('y_true').to_series(), group.select('y_pred').to_series())\n",
    "}))"
   ]
  },
  {
   "cell_type": "code",
   "execution_count": 5,
   "id": "32b5ed48-0766-42cd-8463-c8a036010645",
   "metadata": {},
   "outputs": [
    {
     "data": {
      "text/html": [
       "<div><style>\n",
       ".dataframe > thead > tr,\n",
       ".dataframe > tbody > tr {\n",
       "  text-align: right;\n",
       "  white-space: pre-wrap;\n",
       "}\n",
       "</style>\n",
       "<small>shape: (1, 1)</small><table border=\"1\" class=\"dataframe\"><thead><tr><th>AUPRC</th></tr><tr><td>f64</td></tr></thead><tbody><tr><td>0.058331</td></tr></tbody></table></div>"
      ],
      "text/plain": [
       "shape: (1, 1)\n",
       "┌──────────┐\n",
       "│ AUPRC    │\n",
       "│ ---      │\n",
       "│ f64      │\n",
       "╞══════════╡\n",
       "│ 0.058331 │\n",
       "└──────────┘"
      ]
     },
     "execution_count": 5,
     "metadata": {},
     "output_type": "execute_result"
    }
   ],
   "source": [
    "old_tissue_auprc.select(pl.col('AUPRC').median())"
   ]
  },
  {
   "cell_type": "code",
   "execution_count": 6,
   "id": "dc77d610-784a-4e5b-9f4a-a54c31d04f9d",
   "metadata": {},
   "outputs": [
    {
     "data": {
      "text/plain": [
       "np.float64(0.06860093482034606)"
      ]
     },
     "execution_count": 6,
     "metadata": {},
     "output_type": "execute_result"
    }
   ],
   "source": [
    "average_precision_score(old_df.select('y_true').collect().to_series(), old_df.select('y_pred').collect().to_series())"
   ]
  },
  {
   "cell_type": "code",
   "execution_count": 7,
   "id": "22ebc75c-2da0-44a4-a5b7-56beccbab9d4",
   "metadata": {},
   "outputs": [
    {
     "data": {
      "text/html": [
       "<div><style>\n",
       ".dataframe > thead > tr,\n",
       ".dataframe > tbody > tr {\n",
       "  text-align: right;\n",
       "  white-space: pre-wrap;\n",
       "}\n",
       "</style>\n",
       "<small>shape: (5, 9)</small><table border=\"1\" class=\"dataframe\"><thead><tr><th>individual</th><th>gene</th><th>subtissue</th><th>tissue</th><th>hilo_padj</th><th>y_pred</th><th>pas_score</th><th>tss_score</th><th>y_true</th></tr><tr><td>str</td><td>str</td><td>str</td><td>str</td><td>i64</td><td>f64</td><td>str</td><td>str</td><td>bool</td></tr></thead><tbody><tr><td>&quot;GTEX-1117F&quot;</td><td>&quot;ENSG00000000003&quot;</td><td>&quot;Adipose - Subcutaneous&quot;</td><td>&quot;Adipose Tissue&quot;</td><td>0</td><td>-0.00251</td><td>null</td><td>null</td><td>false</td></tr><tr><td>&quot;GTEX-1117F&quot;</td><td>&quot;ENSG00000000419&quot;</td><td>&quot;Adipose - Subcutaneous&quot;</td><td>&quot;Adipose Tissue&quot;</td><td>0</td><td>-0.003407</td><td>&quot;-0.03840475&quot;</td><td>null</td><td>false</td></tr><tr><td>&quot;GTEX-1117F&quot;</td><td>&quot;ENSG00000000457&quot;</td><td>&quot;Adipose - Subcutaneous&quot;</td><td>&quot;Adipose Tissue&quot;</td><td>0</td><td>-0.003407</td><td>null</td><td>null</td><td>false</td></tr><tr><td>&quot;GTEX-1117F&quot;</td><td>&quot;ENSG00000000938&quot;</td><td>&quot;Adipose - Subcutaneous&quot;</td><td>&quot;Adipose Tissue&quot;</td><td>0</td><td>-0.00251</td><td>null</td><td>null</td><td>false</td></tr><tr><td>&quot;GTEX-1117F&quot;</td><td>&quot;ENSG00000000971&quot;</td><td>&quot;Adipose - Subcutaneous&quot;</td><td>&quot;Adipose Tissue&quot;</td><td>0</td><td>-0.00251</td><td>&quot;-0.034286473&quot;</td><td>null</td><td>false</td></tr></tbody></table></div>"
      ],
      "text/plain": [
       "shape: (5, 9)\n",
       "┌────────────┬────────────┬───────────┬───────────┬───┬───────────┬───────────┬───────────┬────────┐\n",
       "│ individual ┆ gene       ┆ subtissue ┆ tissue    ┆ … ┆ y_pred    ┆ pas_score ┆ tss_score ┆ y_true │\n",
       "│ ---        ┆ ---        ┆ ---       ┆ ---       ┆   ┆ ---       ┆ ---       ┆ ---       ┆ ---    │\n",
       "│ str        ┆ str        ┆ str       ┆ str       ┆   ┆ f64       ┆ str       ┆ str       ┆ bool   │\n",
       "╞════════════╪════════════╪═══════════╪═══════════╪═══╪═══════════╪═══════════╪═══════════╪════════╡\n",
       "│ GTEX-1117F ┆ ENSG000000 ┆ Adipose - ┆ Adipose   ┆ … ┆ -0.00251  ┆ null      ┆ null      ┆ false  │\n",
       "│            ┆ 00003      ┆ Subcutane ┆ Tissue    ┆   ┆           ┆           ┆           ┆        │\n",
       "│            ┆            ┆ ous       ┆           ┆   ┆           ┆           ┆           ┆        │\n",
       "│ GTEX-1117F ┆ ENSG000000 ┆ Adipose - ┆ Adipose   ┆ … ┆ -0.003407 ┆ -0.038404 ┆ null      ┆ false  │\n",
       "│            ┆ 00419      ┆ Subcutane ┆ Tissue    ┆   ┆           ┆ 75        ┆           ┆        │\n",
       "│            ┆            ┆ ous       ┆           ┆   ┆           ┆           ┆           ┆        │\n",
       "│ GTEX-1117F ┆ ENSG000000 ┆ Adipose - ┆ Adipose   ┆ … ┆ -0.003407 ┆ null      ┆ null      ┆ false  │\n",
       "│            ┆ 00457      ┆ Subcutane ┆ Tissue    ┆   ┆           ┆           ┆           ┆        │\n",
       "│            ┆            ┆ ous       ┆           ┆   ┆           ┆           ┆           ┆        │\n",
       "│ GTEX-1117F ┆ ENSG000000 ┆ Adipose - ┆ Adipose   ┆ … ┆ -0.00251  ┆ null      ┆ null      ┆ false  │\n",
       "│            ┆ 00938      ┆ Subcutane ┆ Tissue    ┆   ┆           ┆           ┆           ┆        │\n",
       "│            ┆            ┆ ous       ┆           ┆   ┆           ┆           ┆           ┆        │\n",
       "│ GTEX-1117F ┆ ENSG000000 ┆ Adipose - ┆ Adipose   ┆ … ┆ -0.00251  ┆ -0.034286 ┆ null      ┆ false  │\n",
       "│            ┆ 00971      ┆ Subcutane ┆ Tissue    ┆   ┆           ┆ 473       ┆           ┆        │\n",
       "│            ┆            ┆ ous       ┆           ┆   ┆           ┆           ┆           ┆        │\n",
       "└────────────┴────────────┴───────────┴───────────┴───┴───────────┴───────────┴───────────┴────────┘"
      ]
     },
     "execution_count": 7,
     "metadata": {},
     "output_type": "execute_result"
    }
   ],
   "source": [
    "new_df = (pl.scan_parquet(new_benchmark_path)\n",
    "          .select(['individual', 'gene', 'subtissue', 'tissue', 'hilo_padj', 'y_pred', 'feature.specieslm@pas_score', 'feature.specieslm@tss_score',])\n",
    "          .rename({'feature.specieslm@tss_score': 'tss_score',\n",
    "                   'feature.specieslm@pas_score': 'pas_score'})\n",
    "          .with_columns(tss_score=pl.col('tss_score').cast(pl.String),\n",
    "                        pas_score=pl.col('pas_score').cast(pl.String)))\n",
    "new_df = new_df.with_columns(y_true=pl.col(\"hilo_padj\") == -1,\n",
    "                    y_pred=-pl.col('y_pred'))\n",
    "new_df.head().collect()"
   ]
  },
  {
   "cell_type": "code",
   "execution_count": 8,
   "id": "da6e7f28-ef27-446d-a6f5-7174a1fcc17b",
   "metadata": {
    "scrolled": true
   },
   "outputs": [],
   "source": [
    "new_tissue_auprc = new_df.collect().group_by('tissue').map_groups(lambda group: pl.DataFrame({\n",
    "    \"tissue\" : group[\"tissue\"][0],\n",
    "    \"AUPRC\" : average_precision_score(group.select('y_true').to_series(), group.select('y_pred').to_series())\n",
    "}))"
   ]
  },
  {
   "cell_type": "code",
   "execution_count": 9,
   "id": "2e8565b7-bf79-41c0-ba66-f917d690f0b4",
   "metadata": {},
   "outputs": [
    {
     "data": {
      "text/html": [
       "<div><style>\n",
       ".dataframe > thead > tr,\n",
       ".dataframe > tbody > tr {\n",
       "  text-align: right;\n",
       "  white-space: pre-wrap;\n",
       "}\n",
       "</style>\n",
       "<small>shape: (1, 1)</small><table border=\"1\" class=\"dataframe\"><thead><tr><th>AUPRC</th></tr><tr><td>f64</td></tr></thead><tbody><tr><td>0.067075</td></tr></tbody></table></div>"
      ],
      "text/plain": [
       "shape: (1, 1)\n",
       "┌──────────┐\n",
       "│ AUPRC    │\n",
       "│ ---      │\n",
       "│ f64      │\n",
       "╞══════════╡\n",
       "│ 0.067075 │\n",
       "└──────────┘"
      ]
     },
     "execution_count": 9,
     "metadata": {},
     "output_type": "execute_result"
    }
   ],
   "source": [
    "new_tissue_auprc.select(pl.col('AUPRC').median())"
   ]
  },
  {
   "cell_type": "code",
   "execution_count": 10,
   "id": "4cad5a72-c514-4e49-8c08-f7121e9e8a7b",
   "metadata": {},
   "outputs": [
    {
     "data": {
      "text/plain": [
       "np.float64(0.07639739169256077)"
      ]
     },
     "execution_count": 10,
     "metadata": {},
     "output_type": "execute_result"
    }
   ],
   "source": [
    "average_precision_score(new_df.select('y_true').collect().to_series(), new_df.select('y_pred').collect().to_series())"
   ]
  },
  {
   "cell_type": "code",
   "execution_count": 11,
   "id": "9eba1d44-9b67-4d04-a33a-9ef80fe59bb1",
   "metadata": {},
   "outputs": [],
   "source": [
    "merged_df= old_df.join(new_df, on=['individual', 'gene', 'subtissue', 'tissue', 'hilo_padj', 'y_true'], how='left', suffix='_new').rename({'y_pred': 'y_pred_old'})"
   ]
  },
  {
   "cell_type": "code",
   "execution_count": 12,
   "id": "459052c3-8048-4deb-b4ab-0830e6b54b26",
   "metadata": {},
   "outputs": [
    {
     "data": {
      "text/html": [
       "<div><style>\n",
       ".dataframe > thead > tr,\n",
       ".dataframe > tbody > tr {\n",
       "  text-align: right;\n",
       "  white-space: pre-wrap;\n",
       "}\n",
       "</style>\n",
       "<small>shape: (5, 10)</small><table border=\"1\" class=\"dataframe\"><thead><tr><th>individual</th><th>gene</th><th>subtissue</th><th>tissue</th><th>hilo_padj</th><th>y_pred_old</th><th>y_true</th><th>y_pred_new</th><th>pas_score</th><th>tss_score</th></tr><tr><td>str</td><td>str</td><td>str</td><td>str</td><td>i64</td><td>f64</td><td>bool</td><td>f64</td><td>str</td><td>str</td></tr></thead><tbody><tr><td>&quot;GTEX-1117F&quot;</td><td>&quot;ENSG00000000003&quot;</td><td>&quot;Adipose - Subcutaneous&quot;</td><td>&quot;Adipose Tissue&quot;</td><td>0</td><td>-0.00246</td><td>false</td><td>-0.00251</td><td>null</td><td>null</td></tr><tr><td>&quot;GTEX-1117F&quot;</td><td>&quot;ENSG00000000419&quot;</td><td>&quot;Adipose - Subcutaneous&quot;</td><td>&quot;Adipose Tissue&quot;</td><td>0</td><td>-0.003511</td><td>false</td><td>-0.003407</td><td>&quot;-0.03840475&quot;</td><td>null</td></tr><tr><td>&quot;GTEX-1117F&quot;</td><td>&quot;ENSG00000000457&quot;</td><td>&quot;Adipose - Subcutaneous&quot;</td><td>&quot;Adipose Tissue&quot;</td><td>0</td><td>-0.003511</td><td>false</td><td>-0.003407</td><td>null</td><td>null</td></tr><tr><td>&quot;GTEX-1117F&quot;</td><td>&quot;ENSG00000000938&quot;</td><td>&quot;Adipose - Subcutaneous&quot;</td><td>&quot;Adipose Tissue&quot;</td><td>0</td><td>-0.00246</td><td>false</td><td>-0.00251</td><td>null</td><td>null</td></tr><tr><td>&quot;GTEX-1117F&quot;</td><td>&quot;ENSG00000000971&quot;</td><td>&quot;Adipose - Subcutaneous&quot;</td><td>&quot;Adipose Tissue&quot;</td><td>0</td><td>-0.00246</td><td>false</td><td>-0.00251</td><td>&quot;-0.034286473&quot;</td><td>null</td></tr></tbody></table></div>"
      ],
      "text/plain": [
       "shape: (5, 10)\n",
       "┌────────────┬────────────┬───────────┬───────────┬───┬────────┬───────────┬───────────┬───────────┐\n",
       "│ individual ┆ gene       ┆ subtissue ┆ tissue    ┆ … ┆ y_true ┆ y_pred_ne ┆ pas_score ┆ tss_score │\n",
       "│ ---        ┆ ---        ┆ ---       ┆ ---       ┆   ┆ ---    ┆ w         ┆ ---       ┆ ---       │\n",
       "│ str        ┆ str        ┆ str       ┆ str       ┆   ┆ bool   ┆ ---       ┆ str       ┆ str       │\n",
       "│            ┆            ┆           ┆           ┆   ┆        ┆ f64       ┆           ┆           │\n",
       "╞════════════╪════════════╪═══════════╪═══════════╪═══╪════════╪═══════════╪═══════════╪═══════════╡\n",
       "│ GTEX-1117F ┆ ENSG000000 ┆ Adipose - ┆ Adipose   ┆ … ┆ false  ┆ -0.00251  ┆ null      ┆ null      │\n",
       "│            ┆ 00003      ┆ Subcutane ┆ Tissue    ┆   ┆        ┆           ┆           ┆           │\n",
       "│            ┆            ┆ ous       ┆           ┆   ┆        ┆           ┆           ┆           │\n",
       "│ GTEX-1117F ┆ ENSG000000 ┆ Adipose - ┆ Adipose   ┆ … ┆ false  ┆ -0.003407 ┆ -0.038404 ┆ null      │\n",
       "│            ┆ 00419      ┆ Subcutane ┆ Tissue    ┆   ┆        ┆           ┆ 75        ┆           │\n",
       "│            ┆            ┆ ous       ┆           ┆   ┆        ┆           ┆           ┆           │\n",
       "│ GTEX-1117F ┆ ENSG000000 ┆ Adipose - ┆ Adipose   ┆ … ┆ false  ┆ -0.003407 ┆ null      ┆ null      │\n",
       "│            ┆ 00457      ┆ Subcutane ┆ Tissue    ┆   ┆        ┆           ┆           ┆           │\n",
       "│            ┆            ┆ ous       ┆           ┆   ┆        ┆           ┆           ┆           │\n",
       "│ GTEX-1117F ┆ ENSG000000 ┆ Adipose - ┆ Adipose   ┆ … ┆ false  ┆ -0.00251  ┆ null      ┆ null      │\n",
       "│            ┆ 00938      ┆ Subcutane ┆ Tissue    ┆   ┆        ┆           ┆           ┆           │\n",
       "│            ┆            ┆ ous       ┆           ┆   ┆        ┆           ┆           ┆           │\n",
       "│ GTEX-1117F ┆ ENSG000000 ┆ Adipose - ┆ Adipose   ┆ … ┆ false  ┆ -0.00251  ┆ -0.034286 ┆ null      │\n",
       "│            ┆ 00971      ┆ Subcutane ┆ Tissue    ┆   ┆        ┆           ┆ 473       ┆           │\n",
       "│            ┆            ┆ ous       ┆           ┆   ┆        ┆           ┆           ┆           │\n",
       "└────────────┴────────────┴───────────┴───────────┴───┴────────┴───────────┴───────────┴───────────┘"
      ]
     },
     "execution_count": 12,
     "metadata": {},
     "output_type": "execute_result"
    }
   ],
   "source": [
    "merged_df.head().collect()"
   ]
  },
  {
   "cell_type": "markdown",
   "id": "4dec4e20-f8a8-4964-8485-33820635a72b",
   "metadata": {},
   "source": [
    "### Read specieslm and create bins"
   ]
  },
  {
   "cell_type": "code",
   "execution_count": 13,
   "id": "06d7f0d0-5335-41a3-9055-3ae4f33f1008",
   "metadata": {},
   "outputs": [
    {
     "data": {
      "text/html": [
       "<div><style>\n",
       ".dataframe > thead > tr,\n",
       ".dataframe > tbody > tr {\n",
       "  text-align: right;\n",
       "  white-space: pre-wrap;\n",
       "}\n",
       "</style>\n",
       "<small>shape: (5, 11)</small><table border=\"1\" class=\"dataframe\"><thead><tr><th>gene</th><th>subtissue</th><th>variant_start</th><th>variant_end</th><th>ref</th><th>alt</th><th>cse_pos</th><th>tss</th><th>strand</th><th>tss_score</th><th>pas_score</th></tr><tr><td>str</td><td>str</td><td>i64</td><td>i64</td><td>str</td><td>str</td><td>i64</td><td>i64</td><td>str</td><td>f64</td><td>f64</td></tr></thead><tbody><tr><td>&quot;ENSG00000173673&quot;</td><td>&quot;Adipose - Subcutaneous&quot;</td><td>6304622</td><td>6304623</td><td>&quot;T&quot;</td><td>&quot;C&quot;</td><td>6305607</td><td>6304238</td><td>&quot;+&quot;</td><td>-0.026847</td><td>-0.044187</td></tr><tr><td>&quot;ENSG00000173673&quot;</td><td>&quot;Adipose - Visceral (Omentum)&quot;</td><td>6304622</td><td>6304623</td><td>&quot;T&quot;</td><td>&quot;C&quot;</td><td>6305607</td><td>6304238</td><td>&quot;+&quot;</td><td>-0.026847</td><td>-0.044187</td></tr><tr><td>&quot;ENSG00000173673&quot;</td><td>&quot;Adrenal Gland&quot;</td><td>6304622</td><td>6304623</td><td>&quot;T&quot;</td><td>&quot;C&quot;</td><td>6305607</td><td>6304238</td><td>&quot;+&quot;</td><td>-0.026847</td><td>-0.044187</td></tr><tr><td>&quot;ENSG00000173673&quot;</td><td>&quot;Artery - Aorta&quot;</td><td>6304622</td><td>6304623</td><td>&quot;T&quot;</td><td>&quot;C&quot;</td><td>6305607</td><td>6304238</td><td>&quot;+&quot;</td><td>-0.026847</td><td>-0.044187</td></tr><tr><td>&quot;ENSG00000173673&quot;</td><td>&quot;Artery - Coronary&quot;</td><td>6304622</td><td>6304623</td><td>&quot;T&quot;</td><td>&quot;C&quot;</td><td>6305607</td><td>6304238</td><td>&quot;+&quot;</td><td>-0.026847</td><td>-0.044187</td></tr></tbody></table></div>"
      ],
      "text/plain": [
       "shape: (5, 11)\n",
       "┌────────────┬────────────┬────────────┬────────────┬───┬─────────┬────────┬───────────┬───────────┐\n",
       "│ gene       ┆ subtissue  ┆ variant_st ┆ variant_en ┆ … ┆ tss     ┆ strand ┆ tss_score ┆ pas_score │\n",
       "│ ---        ┆ ---        ┆ art        ┆ d          ┆   ┆ ---     ┆ ---    ┆ ---       ┆ ---       │\n",
       "│ str        ┆ str        ┆ ---        ┆ ---        ┆   ┆ i64     ┆ str    ┆ f64       ┆ f64       │\n",
       "│            ┆            ┆ i64        ┆ i64        ┆   ┆         ┆        ┆           ┆           │\n",
       "╞════════════╪════════════╪════════════╪════════════╪═══╪═════════╪════════╪═══════════╪═══════════╡\n",
       "│ ENSG000001 ┆ Adipose -  ┆ 6304622    ┆ 6304623    ┆ … ┆ 6304238 ┆ +      ┆ -0.026847 ┆ -0.044187 │\n",
       "│ 73673      ┆ Subcutaneo ┆            ┆            ┆   ┆         ┆        ┆           ┆           │\n",
       "│            ┆ us         ┆            ┆            ┆   ┆         ┆        ┆           ┆           │\n",
       "│ ENSG000001 ┆ Adipose -  ┆ 6304622    ┆ 6304623    ┆ … ┆ 6304238 ┆ +      ┆ -0.026847 ┆ -0.044187 │\n",
       "│ 73673      ┆ Visceral   ┆            ┆            ┆   ┆         ┆        ┆           ┆           │\n",
       "│            ┆ (Omentum)  ┆            ┆            ┆   ┆         ┆        ┆           ┆           │\n",
       "│ ENSG000001 ┆ Adrenal    ┆ 6304622    ┆ 6304623    ┆ … ┆ 6304238 ┆ +      ┆ -0.026847 ┆ -0.044187 │\n",
       "│ 73673      ┆ Gland      ┆            ┆            ┆   ┆         ┆        ┆           ┆           │\n",
       "│ ENSG000001 ┆ Artery -   ┆ 6304622    ┆ 6304623    ┆ … ┆ 6304238 ┆ +      ┆ -0.026847 ┆ -0.044187 │\n",
       "│ 73673      ┆ Aorta      ┆            ┆            ┆   ┆         ┆        ┆           ┆           │\n",
       "│ ENSG000001 ┆ Artery -   ┆ 6304622    ┆ 6304623    ┆ … ┆ 6304238 ┆ +      ┆ -0.026847 ┆ -0.044187 │\n",
       "│ 73673      ┆ Coronary   ┆            ┆            ┆   ┆         ┆        ┆           ┆           │\n",
       "└────────────┴────────────┴────────────┴────────────┴───┴─────────┴────────┴───────────┴───────────┘"
      ]
     },
     "execution_count": 13,
     "metadata": {},
     "output_type": "execute_result"
    }
   ],
   "source": [
    "specieslm_df = (pl.scan_parquet(specieslm_raw_path).select(['gene_id', 'tissue', 'variant_start', 'variant_end', 'ref', 'alt', 'cse_pos', 'tss', 'strand', 'tss_score', 'pas_score'])\n",
    "                .rename({'gene_id': 'gene', 'tissue': 'subtissue'})\n",
    "                .with_columns(gene=pl.col('gene').str.replace(r'([^\\.]+)\\..+$', \"${1}\")))\n",
    "specieslm_df.head().collect()"
   ]
  },
  {
   "cell_type": "code",
   "execution_count": 14,
   "id": "34648a40-69cd-4223-bcb4-d9efc4afbbfc",
   "metadata": {},
   "outputs": [
    {
     "data": {
      "text/html": [
       "<div><style>\n",
       ".dataframe > thead > tr,\n",
       ".dataframe > tbody > tr {\n",
       "  text-align: right;\n",
       "  white-space: pre-wrap;\n",
       "}\n",
       "</style>\n",
       "<small>shape: (1, 2)</small><table border=\"1\" class=\"dataframe\"><thead><tr><th>upstream_tss</th><th>downstream_tss</th></tr><tr><td>i64</td><td>i64</td></tr></thead><tbody><tr><td>-2000</td><td>2000</td></tr></tbody></table></div>"
      ],
      "text/plain": [
       "shape: (1, 2)\n",
       "┌──────────────┬────────────────┐\n",
       "│ upstream_tss ┆ downstream_tss │\n",
       "│ ---          ┆ ---            │\n",
       "│ i64          ┆ i64            │\n",
       "╞══════════════╪════════════════╡\n",
       "│ -2000        ┆ 2000           │\n",
       "└──────────────┴────────────────┘"
      ]
     },
     "execution_count": 14,
     "metadata": {},
     "output_type": "execute_result"
    }
   ],
   "source": [
    "specieslm_df = specieslm_df.with_columns(tss_distance=(\n",
    "    pl.when(pl.col('strand') == '+')\n",
    "    .then(pl.col('variant_start') - pl.col('tss'))\n",
    "    .otherwise(pl.col('tss') - pl.col('variant_start'))\n",
    ")).with_columns(absolute_tss_distance=pl.col('tss_distance').abs(),\n",
    "                absolute_tss_score=pl.col('tss_score').abs())\n",
    "\n",
    "specieslm_df.select(upstream_tss=pl.col('tss_distance').min(), downstream_tss=pl.col('tss_distance').max()).collect()"
   ]
  },
  {
   "cell_type": "code",
   "execution_count": 15,
   "id": "383baf88-4cb1-4ee8-bc09-29e52a47cda5",
   "metadata": {},
   "outputs": [
    {
     "data": {
      "text/html": [
       "<div><style>\n",
       ".dataframe > thead > tr,\n",
       ".dataframe > tbody > tr {\n",
       "  text-align: right;\n",
       "  white-space: pre-wrap;\n",
       "}\n",
       "</style>\n",
       "<small>shape: (1, 2)</small><table border=\"1\" class=\"dataframe\"><thead><tr><th>upstream_tss</th><th>downstream_tss</th></tr><tr><td>i64</td><td>i64</td></tr></thead><tbody><tr><td>-2000</td><td>2000</td></tr></tbody></table></div>"
      ],
      "text/plain": [
       "shape: (1, 2)\n",
       "┌──────────────┬────────────────┐\n",
       "│ upstream_tss ┆ downstream_tss │\n",
       "│ ---          ┆ ---            │\n",
       "│ i64          ┆ i64            │\n",
       "╞══════════════╪════════════════╡\n",
       "│ -2000        ┆ 2000           │\n",
       "└──────────────┴────────────────┘"
      ]
     },
     "execution_count": 15,
     "metadata": {},
     "output_type": "execute_result"
    }
   ],
   "source": [
    "specieslm_df = specieslm_df. with_columns(cse_distance=(\n",
    "    pl.when(pl.col('strand') == '+')\n",
    "    .then(pl.col('variant_start') - pl.col('cse_pos'))\n",
    "    .otherwise(pl.col('cse_pos') - pl.col('variant_start'))\n",
    ")).with_columns(absolute_cse_distance=pl.col('cse_distance').abs(),\n",
    "                absolute_cse_score=pl.col('pas_score').abs())\n",
    "\n",
    "specieslm_df.select(upstream_tss=pl.col('cse_distance').min(), downstream_tss=pl.col('cse_distance').max()).collect()"
   ]
  },
  {
   "cell_type": "code",
   "execution_count": 16,
   "id": "7b4b9ac1-f49d-4fd8-aeea-f09b333f0d54",
   "metadata": {},
   "outputs": [
    {
     "data": {
      "text/html": [
       "<div><style>\n",
       ".dataframe > thead > tr,\n",
       ".dataframe > tbody > tr {\n",
       "  text-align: right;\n",
       "  white-space: pre-wrap;\n",
       "}\n",
       "</style>\n",
       "<small>shape: (5, 17)</small><table border=\"1\" class=\"dataframe\"><thead><tr><th>gene</th><th>subtissue</th><th>variant_start</th><th>variant_end</th><th>ref</th><th>alt</th><th>cse_pos</th><th>tss</th><th>strand</th><th>tss_score</th><th>pas_score</th><th>tss_distance</th><th>absolute_tss_distance</th><th>absolute_tss_score</th><th>cse_distance</th><th>absolute_cse_distance</th><th>absolute_cse_score</th></tr><tr><td>str</td><td>str</td><td>i64</td><td>i64</td><td>str</td><td>str</td><td>i64</td><td>i64</td><td>str</td><td>f64</td><td>f64</td><td>i64</td><td>i64</td><td>f64</td><td>i64</td><td>i64</td><td>f64</td></tr></thead><tbody><tr><td>&quot;ENSG00000173673&quot;</td><td>&quot;Adipose - Subcutaneous&quot;</td><td>6304622</td><td>6304623</td><td>&quot;T&quot;</td><td>&quot;C&quot;</td><td>6305607</td><td>6304238</td><td>&quot;+&quot;</td><td>-0.026847</td><td>-0.044187</td><td>384</td><td>384</td><td>0.026847</td><td>-985</td><td>985</td><td>0.044187</td></tr><tr><td>&quot;ENSG00000173673&quot;</td><td>&quot;Adipose - Visceral (Omentum)&quot;</td><td>6304622</td><td>6304623</td><td>&quot;T&quot;</td><td>&quot;C&quot;</td><td>6305607</td><td>6304238</td><td>&quot;+&quot;</td><td>-0.026847</td><td>-0.044187</td><td>384</td><td>384</td><td>0.026847</td><td>-985</td><td>985</td><td>0.044187</td></tr><tr><td>&quot;ENSG00000173673&quot;</td><td>&quot;Adrenal Gland&quot;</td><td>6304622</td><td>6304623</td><td>&quot;T&quot;</td><td>&quot;C&quot;</td><td>6305607</td><td>6304238</td><td>&quot;+&quot;</td><td>-0.026847</td><td>-0.044187</td><td>384</td><td>384</td><td>0.026847</td><td>-985</td><td>985</td><td>0.044187</td></tr><tr><td>&quot;ENSG00000173673&quot;</td><td>&quot;Artery - Aorta&quot;</td><td>6304622</td><td>6304623</td><td>&quot;T&quot;</td><td>&quot;C&quot;</td><td>6305607</td><td>6304238</td><td>&quot;+&quot;</td><td>-0.026847</td><td>-0.044187</td><td>384</td><td>384</td><td>0.026847</td><td>-985</td><td>985</td><td>0.044187</td></tr><tr><td>&quot;ENSG00000173673&quot;</td><td>&quot;Artery - Coronary&quot;</td><td>6304622</td><td>6304623</td><td>&quot;T&quot;</td><td>&quot;C&quot;</td><td>6305607</td><td>6304238</td><td>&quot;+&quot;</td><td>-0.026847</td><td>-0.044187</td><td>384</td><td>384</td><td>0.026847</td><td>-985</td><td>985</td><td>0.044187</td></tr></tbody></table></div>"
      ],
      "text/plain": [
       "shape: (5, 17)\n",
       "┌───────────┬───────────┬───────────┬───────────┬───┬───────────┬───────────┬───────────┬──────────┐\n",
       "│ gene      ┆ subtissue ┆ variant_s ┆ variant_e ┆ … ┆ absolute_ ┆ cse_dista ┆ absolute_ ┆ absolute │\n",
       "│ ---       ┆ ---       ┆ tart      ┆ nd        ┆   ┆ tss_score ┆ nce       ┆ cse_dista ┆ _cse_sco │\n",
       "│ str       ┆ str       ┆ ---       ┆ ---       ┆   ┆ ---       ┆ ---       ┆ nce       ┆ re       │\n",
       "│           ┆           ┆ i64       ┆ i64       ┆   ┆ f64       ┆ i64       ┆ ---       ┆ ---      │\n",
       "│           ┆           ┆           ┆           ┆   ┆           ┆           ┆ i64       ┆ f64      │\n",
       "╞═══════════╪═══════════╪═══════════╪═══════════╪═══╪═══════════╪═══════════╪═══════════╪══════════╡\n",
       "│ ENSG00000 ┆ Adipose - ┆ 6304622   ┆ 6304623   ┆ … ┆ 0.026847  ┆ -985      ┆ 985       ┆ 0.044187 │\n",
       "│ 173673    ┆ Subcutane ┆           ┆           ┆   ┆           ┆           ┆           ┆          │\n",
       "│           ┆ ous       ┆           ┆           ┆   ┆           ┆           ┆           ┆          │\n",
       "│ ENSG00000 ┆ Adipose - ┆ 6304622   ┆ 6304623   ┆ … ┆ 0.026847  ┆ -985      ┆ 985       ┆ 0.044187 │\n",
       "│ 173673    ┆ Visceral  ┆           ┆           ┆   ┆           ┆           ┆           ┆          │\n",
       "│           ┆ (Omentum) ┆           ┆           ┆   ┆           ┆           ┆           ┆          │\n",
       "│ ENSG00000 ┆ Adrenal   ┆ 6304622   ┆ 6304623   ┆ … ┆ 0.026847  ┆ -985      ┆ 985       ┆ 0.044187 │\n",
       "│ 173673    ┆ Gland     ┆           ┆           ┆   ┆           ┆           ┆           ┆          │\n",
       "│ ENSG00000 ┆ Artery -  ┆ 6304622   ┆ 6304623   ┆ … ┆ 0.026847  ┆ -985      ┆ 985       ┆ 0.044187 │\n",
       "│ 173673    ┆ Aorta     ┆           ┆           ┆   ┆           ┆           ┆           ┆          │\n",
       "│ ENSG00000 ┆ Artery -  ┆ 6304622   ┆ 6304623   ┆ … ┆ 0.026847  ┆ -985      ┆ 985       ┆ 0.044187 │\n",
       "│ 173673    ┆ Coronary  ┆           ┆           ┆   ┆           ┆           ┆           ┆          │\n",
       "└───────────┴───────────┴───────────┴───────────┴───┴───────────┴───────────┴───────────┴──────────┘"
      ]
     },
     "execution_count": 16,
     "metadata": {},
     "output_type": "execute_result"
    }
   ],
   "source": [
    "specieslm_df.head().collect()"
   ]
  },
  {
   "cell_type": "code",
   "execution_count": 17,
   "id": "c7e9ebef-d011-4876-a3c5-e10dd6bbf93c",
   "metadata": {},
   "outputs": [],
   "source": [
    "upstream=2000\n",
    "downstream = 2000\n",
    "df_bac = specieslm_df\n",
    "\n",
    "# tss_distance in bins\n",
    "bin_size=250\n",
    "cuts = list(range(-upstream + bin_size, downstream, bin_size))\n",
    "cut_labels = [str(x) for x in [-upstream, *cuts]]\n",
    "tss_distance_labels = {c: f'[{c}, {int(c) + bin_size})' for c in cut_labels}\n",
    "specieslm_df = (specieslm_df.with_columns(tss_distance_bin=(pl.col('tss_distance').cut(cuts, labels=cut_labels))\n",
    "                                          .cast(pl.Enum(cut_labels))))\n",
    "\n",
    "specieslm_df = (specieslm_df.with_columns(tss_distance_bin_label=pl.col(\"tss_distance_bin\").replace_strict(tss_distance_labels),\n",
    "                                          bin_size=pl.lit(bin_size)))"
   ]
  },
  {
   "cell_type": "code",
   "execution_count": 18,
   "id": "9cdd96dd-d4e9-4bf0-a616-15c94905f88d",
   "metadata": {},
   "outputs": [],
   "source": [
    "upstream=2000\n",
    "downstream = 2000\n",
    "df_bac = specieslm_df\n",
    "\n",
    "# cse_distance in bins\n",
    "bin_size=50\n",
    "cuts = list(range(-upstream + bin_size, downstream, bin_size))\n",
    "cut_labels = [str(x) for x in [-upstream, *cuts]]\n",
    "cse_distance_labels = {c: f'[{c}, {int(c) + bin_size})' for c in cut_labels}\n",
    "specieslm_df = (specieslm_df.with_columns(cse_distance_bin=(pl.col('cse_distance').cut(cuts, labels=cut_labels))\n",
    "                                          .cast(pl.Enum(cut_labels))))\n",
    "\n",
    "specieslm_df = (specieslm_df.with_columns(cse_distance_bin_label=pl.col(\"cse_distance_bin\").replace_strict(cse_distance_labels),\n",
    "                                          bin_size=pl.lit(50)))"
   ]
  },
  {
   "cell_type": "code",
   "execution_count": 19,
   "id": "bd395b13-7c14-447d-ab9b-912f52d670b1",
   "metadata": {},
   "outputs": [],
   "source": [
    "specieslm_df = specieslm_df.with_columns(tss_score=pl.col('tss_score').cast(pl.String), pas_score=pl.col('pas_score').cast(pl.String))"
   ]
  },
  {
   "cell_type": "code",
   "execution_count": 20,
   "id": "c8c6bf9a-c1d4-43a4-b98e-1a29a52738a9",
   "metadata": {},
   "outputs": [
    {
     "data": {
      "text/html": [
       "<div><style>\n",
       ".dataframe > thead > tr,\n",
       ".dataframe > tbody > tr {\n",
       "  text-align: right;\n",
       "  white-space: pre-wrap;\n",
       "}\n",
       "</style>\n",
       "<small>shape: (5, 22)</small><table border=\"1\" class=\"dataframe\"><thead><tr><th>gene</th><th>subtissue</th><th>variant_start</th><th>variant_end</th><th>ref</th><th>alt</th><th>cse_pos</th><th>tss</th><th>strand</th><th>tss_score</th><th>pas_score</th><th>tss_distance</th><th>absolute_tss_distance</th><th>absolute_tss_score</th><th>cse_distance</th><th>absolute_cse_distance</th><th>absolute_cse_score</th><th>tss_distance_bin</th><th>tss_distance_bin_label</th><th>bin_size</th><th>cse_distance_bin</th><th>cse_distance_bin_label</th></tr><tr><td>str</td><td>str</td><td>i64</td><td>i64</td><td>str</td><td>str</td><td>i64</td><td>i64</td><td>str</td><td>str</td><td>str</td><td>i64</td><td>i64</td><td>f64</td><td>i64</td><td>i64</td><td>f64</td><td>enum</td><td>str</td><td>i32</td><td>enum</td><td>str</td></tr></thead><tbody><tr><td>&quot;ENSG00000173673&quot;</td><td>&quot;Adipose - Subcutaneous&quot;</td><td>6304622</td><td>6304623</td><td>&quot;T&quot;</td><td>&quot;C&quot;</td><td>6305607</td><td>6304238</td><td>&quot;+&quot;</td><td>&quot;-0.026847221&quot;</td><td>&quot;-0.044186868&quot;</td><td>384</td><td>384</td><td>0.026847</td><td>-985</td><td>985</td><td>0.044187</td><td>&quot;250&quot;</td><td>&quot;[250, 500)&quot;</td><td>50</td><td>&quot;-1000&quot;</td><td>&quot;[-1000, -950)&quot;</td></tr><tr><td>&quot;ENSG00000173673&quot;</td><td>&quot;Adipose - Visceral (Omentum)&quot;</td><td>6304622</td><td>6304623</td><td>&quot;T&quot;</td><td>&quot;C&quot;</td><td>6305607</td><td>6304238</td><td>&quot;+&quot;</td><td>&quot;-0.026847221&quot;</td><td>&quot;-0.044186868&quot;</td><td>384</td><td>384</td><td>0.026847</td><td>-985</td><td>985</td><td>0.044187</td><td>&quot;250&quot;</td><td>&quot;[250, 500)&quot;</td><td>50</td><td>&quot;-1000&quot;</td><td>&quot;[-1000, -950)&quot;</td></tr><tr><td>&quot;ENSG00000173673&quot;</td><td>&quot;Adrenal Gland&quot;</td><td>6304622</td><td>6304623</td><td>&quot;T&quot;</td><td>&quot;C&quot;</td><td>6305607</td><td>6304238</td><td>&quot;+&quot;</td><td>&quot;-0.026847221&quot;</td><td>&quot;-0.044186868&quot;</td><td>384</td><td>384</td><td>0.026847</td><td>-985</td><td>985</td><td>0.044187</td><td>&quot;250&quot;</td><td>&quot;[250, 500)&quot;</td><td>50</td><td>&quot;-1000&quot;</td><td>&quot;[-1000, -950)&quot;</td></tr><tr><td>&quot;ENSG00000173673&quot;</td><td>&quot;Artery - Aorta&quot;</td><td>6304622</td><td>6304623</td><td>&quot;T&quot;</td><td>&quot;C&quot;</td><td>6305607</td><td>6304238</td><td>&quot;+&quot;</td><td>&quot;-0.026847221&quot;</td><td>&quot;-0.044186868&quot;</td><td>384</td><td>384</td><td>0.026847</td><td>-985</td><td>985</td><td>0.044187</td><td>&quot;250&quot;</td><td>&quot;[250, 500)&quot;</td><td>50</td><td>&quot;-1000&quot;</td><td>&quot;[-1000, -950)&quot;</td></tr><tr><td>&quot;ENSG00000173673&quot;</td><td>&quot;Artery - Coronary&quot;</td><td>6304622</td><td>6304623</td><td>&quot;T&quot;</td><td>&quot;C&quot;</td><td>6305607</td><td>6304238</td><td>&quot;+&quot;</td><td>&quot;-0.026847221&quot;</td><td>&quot;-0.044186868&quot;</td><td>384</td><td>384</td><td>0.026847</td><td>-985</td><td>985</td><td>0.044187</td><td>&quot;250&quot;</td><td>&quot;[250, 500)&quot;</td><td>50</td><td>&quot;-1000&quot;</td><td>&quot;[-1000, -950)&quot;</td></tr></tbody></table></div>"
      ],
      "text/plain": [
       "shape: (5, 22)\n",
       "┌───────────┬───────────┬───────────┬───────────┬───┬───────────┬──────────┬───────────┬───────────┐\n",
       "│ gene      ┆ subtissue ┆ variant_s ┆ variant_e ┆ … ┆ tss_dista ┆ bin_size ┆ cse_dista ┆ cse_dista │\n",
       "│ ---       ┆ ---       ┆ tart      ┆ nd        ┆   ┆ nce_bin_l ┆ ---      ┆ nce_bin   ┆ nce_bin_l │\n",
       "│ str       ┆ str       ┆ ---       ┆ ---       ┆   ┆ abel      ┆ i32      ┆ ---       ┆ abel      │\n",
       "│           ┆           ┆ i64       ┆ i64       ┆   ┆ ---       ┆          ┆ enum      ┆ ---       │\n",
       "│           ┆           ┆           ┆           ┆   ┆ str       ┆          ┆           ┆ str       │\n",
       "╞═══════════╪═══════════╪═══════════╪═══════════╪═══╪═══════════╪══════════╪═══════════╪═══════════╡\n",
       "│ ENSG00000 ┆ Adipose - ┆ 6304622   ┆ 6304623   ┆ … ┆ [250,     ┆ 50       ┆ -1000     ┆ [-1000,   │\n",
       "│ 173673    ┆ Subcutane ┆           ┆           ┆   ┆ 500)      ┆          ┆           ┆ -950)     │\n",
       "│           ┆ ous       ┆           ┆           ┆   ┆           ┆          ┆           ┆           │\n",
       "│ ENSG00000 ┆ Adipose - ┆ 6304622   ┆ 6304623   ┆ … ┆ [250,     ┆ 50       ┆ -1000     ┆ [-1000,   │\n",
       "│ 173673    ┆ Visceral  ┆           ┆           ┆   ┆ 500)      ┆          ┆           ┆ -950)     │\n",
       "│           ┆ (Omentum) ┆           ┆           ┆   ┆           ┆          ┆           ┆           │\n",
       "│ ENSG00000 ┆ Adrenal   ┆ 6304622   ┆ 6304623   ┆ … ┆ [250,     ┆ 50       ┆ -1000     ┆ [-1000,   │\n",
       "│ 173673    ┆ Gland     ┆           ┆           ┆   ┆ 500)      ┆          ┆           ┆ -950)     │\n",
       "│ ENSG00000 ┆ Artery -  ┆ 6304622   ┆ 6304623   ┆ … ┆ [250,     ┆ 50       ┆ -1000     ┆ [-1000,   │\n",
       "│ 173673    ┆ Aorta     ┆           ┆           ┆   ┆ 500)      ┆          ┆           ┆ -950)     │\n",
       "│ ENSG00000 ┆ Artery -  ┆ 6304622   ┆ 6304623   ┆ … ┆ [250,     ┆ 50       ┆ -1000     ┆ [-1000,   │\n",
       "│ 173673    ┆ Coronary  ┆           ┆           ┆   ┆ 500)      ┆          ┆           ┆ -950)     │\n",
       "└───────────┴───────────┴───────────┴───────────┴───┴───────────┴──────────┴───────────┴───────────┘"
      ]
     },
     "execution_count": 20,
     "metadata": {},
     "output_type": "execute_result"
    }
   ],
   "source": [
    "specieslm_df.head().collect()"
   ]
  },
  {
   "cell_type": "code",
   "execution_count": 21,
   "id": "1a115110-f0b4-4dd4-b04c-36a9de3d7d03",
   "metadata": {},
   "outputs": [],
   "source": [
    "specieslm_benchmark_df = (merged_df.join(specieslm_df, on=['gene', 'subtissue', 'pas_score', 'tss_score'], how='left', join_nulls=True).collect())"
   ]
  },
  {
   "cell_type": "code",
   "execution_count": 22,
   "id": "e8f5402a-c7b5-4703-828c-9ca8cee68e16",
   "metadata": {},
   "outputs": [
    {
     "data": {
      "text/html": [
       "<div><style>\n",
       ".dataframe > thead > tr,\n",
       ".dataframe > tbody > tr {\n",
       "  text-align: right;\n",
       "  white-space: pre-wrap;\n",
       "}\n",
       "</style>\n",
       "<small>shape: (5, 28)</small><table border=\"1\" class=\"dataframe\"><thead><tr><th>individual</th><th>gene</th><th>subtissue</th><th>tissue</th><th>hilo_padj</th><th>y_pred_old</th><th>y_true</th><th>y_pred_new</th><th>pas_score</th><th>tss_score</th><th>variant_start</th><th>variant_end</th><th>ref</th><th>alt</th><th>cse_pos</th><th>tss</th><th>strand</th><th>tss_distance</th><th>absolute_tss_distance</th><th>absolute_tss_score</th><th>cse_distance</th><th>absolute_cse_distance</th><th>absolute_cse_score</th><th>tss_distance_bin</th><th>tss_distance_bin_label</th><th>bin_size</th><th>cse_distance_bin</th><th>cse_distance_bin_label</th></tr><tr><td>str</td><td>str</td><td>str</td><td>str</td><td>i64</td><td>f64</td><td>bool</td><td>f64</td><td>str</td><td>str</td><td>i64</td><td>i64</td><td>str</td><td>str</td><td>i64</td><td>i64</td><td>str</td><td>i64</td><td>i64</td><td>f64</td><td>i64</td><td>i64</td><td>f64</td><td>enum</td><td>str</td><td>i32</td><td>enum</td><td>str</td></tr></thead><tbody><tr><td>&quot;GTEX-1117F&quot;</td><td>&quot;ENSG00000000003&quot;</td><td>&quot;Adipose - Subcutaneous&quot;</td><td>&quot;Adipose Tissue&quot;</td><td>0</td><td>-0.00246</td><td>false</td><td>-0.00251</td><td>null</td><td>null</td><td>null</td><td>null</td><td>null</td><td>null</td><td>null</td><td>null</td><td>null</td><td>null</td><td>null</td><td>null</td><td>null</td><td>null</td><td>null</td><td>null</td><td>null</td><td>null</td><td>null</td><td>null</td></tr><tr><td>&quot;GTEX-1117F&quot;</td><td>&quot;ENSG00000000419&quot;</td><td>&quot;Adipose - Subcutaneous&quot;</td><td>&quot;Adipose Tissue&quot;</td><td>0</td><td>-0.003511</td><td>false</td><td>-0.003407</td><td>&quot;-0.03840475&quot;</td><td>null</td><td>49550123</td><td>49550124</td><td>&quot;C&quot;</td><td>&quot;T&quot;</td><td>49551433</td><td>null</td><td>&quot;-&quot;</td><td>null</td><td>null</td><td>null</td><td>1310</td><td>1310</td><td>0.038405</td><td>null</td><td>null</td><td>50</td><td>&quot;1300&quot;</td><td>&quot;[1300, 1350)&quot;</td></tr><tr><td>&quot;GTEX-1117F&quot;</td><td>&quot;ENSG00000000457&quot;</td><td>&quot;Adipose - Subcutaneous&quot;</td><td>&quot;Adipose Tissue&quot;</td><td>0</td><td>-0.003511</td><td>false</td><td>-0.003407</td><td>null</td><td>null</td><td>null</td><td>null</td><td>null</td><td>null</td><td>null</td><td>null</td><td>null</td><td>null</td><td>null</td><td>null</td><td>null</td><td>null</td><td>null</td><td>null</td><td>null</td><td>null</td><td>null</td><td>null</td></tr><tr><td>&quot;GTEX-1117F&quot;</td><td>&quot;ENSG00000000938&quot;</td><td>&quot;Adipose - Subcutaneous&quot;</td><td>&quot;Adipose Tissue&quot;</td><td>0</td><td>-0.00246</td><td>false</td><td>-0.00251</td><td>null</td><td>null</td><td>null</td><td>null</td><td>null</td><td>null</td><td>null</td><td>null</td><td>null</td><td>null</td><td>null</td><td>null</td><td>null</td><td>null</td><td>null</td><td>null</td><td>null</td><td>null</td><td>null</td><td>null</td></tr><tr><td>&quot;GTEX-1117F&quot;</td><td>&quot;ENSG00000000971&quot;</td><td>&quot;Adipose - Subcutaneous&quot;</td><td>&quot;Adipose Tissue&quot;</td><td>0</td><td>-0.00246</td><td>false</td><td>-0.00251</td><td>&quot;-0.034286473&quot;</td><td>null</td><td>196717722</td><td>196717723</td><td>&quot;T&quot;</td><td>&quot;C&quot;</td><td>196716601</td><td>null</td><td>&quot;+&quot;</td><td>null</td><td>null</td><td>null</td><td>1121</td><td>1121</td><td>0.034286</td><td>null</td><td>null</td><td>50</td><td>&quot;1100&quot;</td><td>&quot;[1100, 1150)&quot;</td></tr></tbody></table></div>"
      ],
      "text/plain": [
       "shape: (5, 28)\n",
       "┌───────────┬───────────┬───────────┬───────────┬───┬───────────┬──────────┬───────────┬───────────┐\n",
       "│ individua ┆ gene      ┆ subtissue ┆ tissue    ┆ … ┆ tss_dista ┆ bin_size ┆ cse_dista ┆ cse_dista │\n",
       "│ l         ┆ ---       ┆ ---       ┆ ---       ┆   ┆ nce_bin_l ┆ ---      ┆ nce_bin   ┆ nce_bin_l │\n",
       "│ ---       ┆ str       ┆ str       ┆ str       ┆   ┆ abel      ┆ i32      ┆ ---       ┆ abel      │\n",
       "│ str       ┆           ┆           ┆           ┆   ┆ ---       ┆          ┆ enum      ┆ ---       │\n",
       "│           ┆           ┆           ┆           ┆   ┆ str       ┆          ┆           ┆ str       │\n",
       "╞═══════════╪═══════════╪═══════════╪═══════════╪═══╪═══════════╪══════════╪═══════════╪═══════════╡\n",
       "│ GTEX-1117 ┆ ENSG00000 ┆ Adipose - ┆ Adipose   ┆ … ┆ null      ┆ null     ┆ null      ┆ null      │\n",
       "│ F         ┆ 000003    ┆ Subcutane ┆ Tissue    ┆   ┆           ┆          ┆           ┆           │\n",
       "│           ┆           ┆ ous       ┆           ┆   ┆           ┆          ┆           ┆           │\n",
       "│ GTEX-1117 ┆ ENSG00000 ┆ Adipose - ┆ Adipose   ┆ … ┆ null      ┆ 50       ┆ 1300      ┆ [1300,    │\n",
       "│ F         ┆ 000419    ┆ Subcutane ┆ Tissue    ┆   ┆           ┆          ┆           ┆ 1350)     │\n",
       "│           ┆           ┆ ous       ┆           ┆   ┆           ┆          ┆           ┆           │\n",
       "│ GTEX-1117 ┆ ENSG00000 ┆ Adipose - ┆ Adipose   ┆ … ┆ null      ┆ null     ┆ null      ┆ null      │\n",
       "│ F         ┆ 000457    ┆ Subcutane ┆ Tissue    ┆   ┆           ┆          ┆           ┆           │\n",
       "│           ┆           ┆ ous       ┆           ┆   ┆           ┆          ┆           ┆           │\n",
       "│ GTEX-1117 ┆ ENSG00000 ┆ Adipose - ┆ Adipose   ┆ … ┆ null      ┆ null     ┆ null      ┆ null      │\n",
       "│ F         ┆ 000938    ┆ Subcutane ┆ Tissue    ┆   ┆           ┆          ┆           ┆           │\n",
       "│           ┆           ┆ ous       ┆           ┆   ┆           ┆          ┆           ┆           │\n",
       "│ GTEX-1117 ┆ ENSG00000 ┆ Adipose - ┆ Adipose   ┆ … ┆ null      ┆ 50       ┆ 1100      ┆ [1100,    │\n",
       "│ F         ┆ 000971    ┆ Subcutane ┆ Tissue    ┆   ┆           ┆          ┆           ┆ 1150)     │\n",
       "│           ┆           ┆ ous       ┆           ┆   ┆           ┆          ┆           ┆           │\n",
       "└───────────┴───────────┴───────────┴───────────┴───┴───────────┴──────────┴───────────┴───────────┘"
      ]
     },
     "execution_count": 22,
     "metadata": {},
     "output_type": "execute_result"
    }
   ],
   "source": [
    "specieslm_benchmark_df.head()"
   ]
  },
  {
   "cell_type": "code",
   "execution_count": 23,
   "id": "e2dcb6dd-0bc7-4449-a5dc-fa4948fafb4c",
   "metadata": {},
   "outputs": [
    {
     "data": {
      "text/html": [
       "<div><style>\n",
       ".dataframe > thead > tr,\n",
       ".dataframe > tbody > tr {\n",
       "  text-align: right;\n",
       "  white-space: pre-wrap;\n",
       "}\n",
       "</style>\n",
       "<small>shape: (1, 22)</small><table border=\"1\" class=\"dataframe\"><thead><tr><th>gene</th><th>subtissue</th><th>variant_start</th><th>variant_end</th><th>ref</th><th>alt</th><th>cse_pos</th><th>tss</th><th>strand</th><th>tss_score</th><th>pas_score</th><th>tss_distance</th><th>absolute_tss_distance</th><th>absolute_tss_score</th><th>cse_distance</th><th>absolute_cse_distance</th><th>absolute_cse_score</th><th>tss_distance_bin</th><th>tss_distance_bin_label</th><th>bin_size</th><th>cse_distance_bin</th><th>cse_distance_bin_label</th></tr><tr><td>str</td><td>str</td><td>i64</td><td>i64</td><td>str</td><td>str</td><td>i64</td><td>i64</td><td>str</td><td>str</td><td>str</td><td>i64</td><td>i64</td><td>f64</td><td>i64</td><td>i64</td><td>f64</td><td>enum</td><td>str</td><td>i32</td><td>enum</td><td>str</td></tr></thead><tbody><tr><td>&quot;ENSG00000000419&quot;</td><td>&quot;Adipose - Subcutaneous&quot;</td><td>49550123</td><td>49550124</td><td>&quot;C&quot;</td><td>&quot;T&quot;</td><td>49551433</td><td>null</td><td>&quot;-&quot;</td><td>null</td><td>&quot;-0.03840475&quot;</td><td>null</td><td>null</td><td>null</td><td>1310</td><td>1310</td><td>0.038405</td><td>null</td><td>null</td><td>50</td><td>&quot;1300&quot;</td><td>&quot;[1300, 1350)&quot;</td></tr></tbody></table></div>"
      ],
      "text/plain": [
       "shape: (1, 22)\n",
       "┌───────────┬───────────┬───────────┬───────────┬───┬───────────┬──────────┬───────────┬───────────┐\n",
       "│ gene      ┆ subtissue ┆ variant_s ┆ variant_e ┆ … ┆ tss_dista ┆ bin_size ┆ cse_dista ┆ cse_dista │\n",
       "│ ---       ┆ ---       ┆ tart      ┆ nd        ┆   ┆ nce_bin_l ┆ ---      ┆ nce_bin   ┆ nce_bin_l │\n",
       "│ str       ┆ str       ┆ ---       ┆ ---       ┆   ┆ abel      ┆ i32      ┆ ---       ┆ abel      │\n",
       "│           ┆           ┆ i64       ┆ i64       ┆   ┆ ---       ┆          ┆ enum      ┆ ---       │\n",
       "│           ┆           ┆           ┆           ┆   ┆ str       ┆          ┆           ┆ str       │\n",
       "╞═══════════╪═══════════╪═══════════╪═══════════╪═══╪═══════════╪══════════╪═══════════╪═══════════╡\n",
       "│ ENSG00000 ┆ Adipose - ┆ 49550123  ┆ 49550124  ┆ … ┆ null      ┆ 50       ┆ 1300      ┆ [1300,    │\n",
       "│ 000419    ┆ Subcutane ┆           ┆           ┆   ┆           ┆          ┆           ┆ 1350)     │\n",
       "│           ┆ ous       ┆           ┆           ┆   ┆           ┆          ┆           ┆           │\n",
       "└───────────┴───────────┴───────────┴───────────┴───┴───────────┴──────────┴───────────┴───────────┘"
      ]
     },
     "execution_count": 23,
     "metadata": {},
     "output_type": "execute_result"
    }
   ],
   "source": [
    "specieslm_df.filter((pl.col('gene') == 'ENSG00000000419') & (pl.col('subtissue') == 'Adipose - Subcutaneous') & (pl.col('pas_score') == \"-0.03840475\")).collect()"
   ]
  },
  {
   "cell_type": "code",
   "execution_count": 24,
   "id": "99e39af1-1661-4db7-8945-8eb1aebbb5c1",
   "metadata": {},
   "outputs": [],
   "source": [
    "specieslm_benchmark_df.write_parquet('/s/project/rep/processed/training_results_v16/specieslm_variants_with_benchmark_250bin.parquet')"
   ]
  },
  {
   "cell_type": "markdown",
   "id": "1609b0f5-dc59-4be5-939a-0e3c5e7d86fc",
   "metadata": {},
   "source": [
    "## AUPRC"
   ]
  },
  {
   "cell_type": "code",
   "execution_count": 9,
   "id": "c3a114a5-26fb-45e1-b9f0-a42d6681dec3",
   "metadata": {},
   "outputs": [],
   "source": [
    "import polars as pl\n",
    "import gc\n",
    "from sklearn.metrics import average_precision_score\n",
    "import plotnine as pn"
   ]
  },
  {
   "cell_type": "code",
   "execution_count": 10,
   "id": "27a4f976-4530-43d7-b5be-cbb91e3aed44",
   "metadata": {},
   "outputs": [],
   "source": [
    "specieslm_benchmark_df = pl.read_parquet('/s/project/rep/processed/training_results_v16/specieslm_variants_with_benchmark_250bin.parquet')\n",
    "specieslm_benchmark_df = specieslm_benchmark_df.group_by(['individual', 'gene', 'subtissue', 'pas_score', 'tss_score']).agg(pl.exclude(['gene', 'subtissue', 'pas_score', 'tss_score']).first())"
   ]
  },
  {
   "cell_type": "code",
   "execution_count": 11,
   "id": "71fadb86-567b-4c5c-8d47-8684dcb10dac",
   "metadata": {},
   "outputs": [],
   "source": [
    "old_tissue_auprc = specieslm_benchmark_df.group_by('tissue').map_groups(lambda group: pl.DataFrame({\n",
    "    \"tissue\" : group[\"tissue\"][0],\n",
    "    \"auprc\" : average_precision_score(group.select('y_true').to_series(), group.select('y_pred_old').to_series())\n",
    "}))"
   ]
  },
  {
   "cell_type": "code",
   "execution_count": 12,
   "id": "f1e565ff-729d-4560-b57d-15ec16ca3ef8",
   "metadata": {},
   "outputs": [
    {
     "data": {
      "text/html": [
       "<div><style>\n",
       ".dataframe > thead > tr,\n",
       ".dataframe > tbody > tr {\n",
       "  text-align: right;\n",
       "  white-space: pre-wrap;\n",
       "}\n",
       "</style>\n",
       "<small>shape: (1, 1)</small><table border=\"1\" class=\"dataframe\"><thead><tr><th>auprc</th></tr><tr><td>f64</td></tr></thead><tbody><tr><td>0.058331</td></tr></tbody></table></div>"
      ],
      "text/plain": [
       "shape: (1, 1)\n",
       "┌──────────┐\n",
       "│ auprc    │\n",
       "│ ---      │\n",
       "│ f64      │\n",
       "╞══════════╡\n",
       "│ 0.058331 │\n",
       "└──────────┘"
      ]
     },
     "execution_count": 12,
     "metadata": {},
     "output_type": "execute_result"
    }
   ],
   "source": [
    "old_tissue_auprc.select(pl.col('auprc').median())"
   ]
  },
  {
   "cell_type": "code",
   "execution_count": 13,
   "id": "c1ed9875-0d7b-4610-824a-1602f012aa92",
   "metadata": {},
   "outputs": [],
   "source": [
    "new_tissue_auprc = specieslm_benchmark_df.group_by('tissue').map_groups(lambda group: pl.DataFrame({\n",
    "    \"tissue\" : group[\"tissue\"][0],\n",
    "    \"auprc\" : average_precision_score(group.select('y_true').to_series(), group.select('y_pred_new').to_series())\n",
    "}))"
   ]
  },
  {
   "cell_type": "code",
   "execution_count": 14,
   "id": "9e07e946-8c01-4cd5-8918-c1dae25ea930",
   "metadata": {},
   "outputs": [
    {
     "data": {
      "text/html": [
       "<div><style>\n",
       ".dataframe > thead > tr,\n",
       ".dataframe > tbody > tr {\n",
       "  text-align: right;\n",
       "  white-space: pre-wrap;\n",
       "}\n",
       "</style>\n",
       "<small>shape: (1, 1)</small><table border=\"1\" class=\"dataframe\"><thead><tr><th>auprc</th></tr><tr><td>f64</td></tr></thead><tbody><tr><td>0.067075</td></tr></tbody></table></div>"
      ],
      "text/plain": [
       "shape: (1, 1)\n",
       "┌──────────┐\n",
       "│ auprc    │\n",
       "│ ---      │\n",
       "│ f64      │\n",
       "╞══════════╡\n",
       "│ 0.067075 │\n",
       "└──────────┘"
      ]
     },
     "execution_count": 14,
     "metadata": {},
     "output_type": "execute_result"
    }
   ],
   "source": [
    "new_tissue_auprc.select(pl.col('auprc').median())"
   ]
  },
  {
   "cell_type": "code",
   "execution_count": 15,
   "id": "899b7df3-5754-488c-9bd2-26606d657a4a",
   "metadata": {},
   "outputs": [],
   "source": [
    "specieslm_benchmark_df = pl.read_parquet('/s/project/rep/processed/training_results_v16/specieslm_variants_with_benchmark.parquet')\n",
    "tmp = specieslm_benchmark_df.filter(((pl.col('variant_start') == 47018849) & (pl.col('ref') == 'G') & (pl.col('alt') == 'T') & (pl.col('gene') == 'ENSG00000265681')))"
   ]
  },
  {
   "cell_type": "code",
   "execution_count": 16,
   "id": "5b7e12c6-74d9-4151-8624-6802101144c6",
   "metadata": {},
   "outputs": [
    {
     "data": {
      "text/html": [
       "<div><style>\n",
       ".dataframe > thead > tr,\n",
       ".dataframe > tbody > tr {\n",
       "  text-align: right;\n",
       "  white-space: pre-wrap;\n",
       "}\n",
       "</style>\n",
       "<small>shape: (38, 28)</small><table border=\"1\" class=\"dataframe\"><thead><tr><th>individual</th><th>gene</th><th>subtissue</th><th>tissue</th><th>hilo_padj</th><th>y_pred_old</th><th>y_true</th><th>y_pred_new</th><th>pas_score</th><th>tss_score</th><th>variant_start</th><th>variant_end</th><th>ref</th><th>alt</th><th>cse_pos</th><th>tss</th><th>strand</th><th>tss_distance</th><th>absolute_tss_distance</th><th>absolute_tss_score</th><th>cse_distance</th><th>absolute_cse_distance</th><th>absolute_cse_score</th><th>tss_distance_bin</th><th>tss_distance_bin_label</th><th>bin_size</th><th>cse_distance_bin</th><th>cse_distance_bin_label</th></tr><tr><td>str</td><td>str</td><td>str</td><td>str</td><td>i64</td><td>f64</td><td>bool</td><td>f64</td><td>str</td><td>str</td><td>i64</td><td>i64</td><td>str</td><td>str</td><td>i64</td><td>i64</td><td>str</td><td>i64</td><td>i64</td><td>f64</td><td>i64</td><td>i64</td><td>f64</td><td>enum</td><td>str</td><td>i32</td><td>enum</td><td>str</td></tr></thead><tbody><tr><td>&quot;GTEX-YF7O&quot;</td><td>&quot;ENSG00000265681&quot;</td><td>&quot;Adipose - Subcutaneous&quot;</td><td>&quot;Adipose Tissue&quot;</td><td>-1</td><td>0.231308</td><td>true</td><td>4.99077</td><td>&quot;-0.050249927&quot;</td><td>&quot;-0.100487284&quot;</td><td>47018849</td><td>47018850</td><td>&quot;G&quot;</td><td>&quot;T&quot;</td><td>47016875</td><td>47017243</td><td>&quot;-&quot;</td><td>-1606</td><td>1606</td><td>0.100487</td><td>-1974</td><td>1974</td><td>0.05025</td><td>&quot;-1650&quot;</td><td>&quot;[-1650, -1600)&quot;</td><td>50</td><td>&quot;-2000&quot;</td><td>&quot;[-2000, -1950)&quot;</td></tr><tr><td>&quot;GTEX-15CHR&quot;</td><td>&quot;ENSG00000265681&quot;</td><td>&quot;Cells - Cultured fibroblasts&quot;</td><td>&quot;Skin&quot;</td><td>-1</td><td>0.238502</td><td>true</td><td>4.723877</td><td>&quot;-0.050249927&quot;</td><td>&quot;-0.100487284&quot;</td><td>47018849</td><td>47018850</td><td>&quot;G&quot;</td><td>&quot;T&quot;</td><td>47016875</td><td>47017243</td><td>&quot;-&quot;</td><td>-1606</td><td>1606</td><td>0.100487</td><td>-1974</td><td>1974</td><td>0.05025</td><td>&quot;-1650&quot;</td><td>&quot;[-1650, -1600)&quot;</td><td>50</td><td>&quot;-2000&quot;</td><td>&quot;[-2000, -1950)&quot;</td></tr><tr><td>&quot;GTEX-YF7O&quot;</td><td>&quot;ENSG00000265681&quot;</td><td>&quot;Cells - Cultured fibroblasts&quot;</td><td>&quot;Skin&quot;</td><td>-1</td><td>1.289215</td><td>true</td><td>4.69782</td><td>&quot;-0.050249927&quot;</td><td>&quot;-0.100487284&quot;</td><td>47018849</td><td>47018850</td><td>&quot;G&quot;</td><td>&quot;T&quot;</td><td>47016875</td><td>47017243</td><td>&quot;-&quot;</td><td>-1606</td><td>1606</td><td>0.100487</td><td>-1974</td><td>1974</td><td>0.05025</td><td>&quot;-1650&quot;</td><td>&quot;[-1650, -1600)&quot;</td><td>50</td><td>&quot;-2000&quot;</td><td>&quot;[-2000, -1950)&quot;</td></tr><tr><td>&quot;GTEX-YF7O&quot;</td><td>&quot;ENSG00000265681&quot;</td><td>&quot;Cells - EBV-transformed lympho…</td><td>&quot;Blood&quot;</td><td>0</td><td>1.056078</td><td>false</td><td>4.69782</td><td>&quot;-0.050249927&quot;</td><td>&quot;-0.100487284&quot;</td><td>47018849</td><td>47018850</td><td>&quot;G&quot;</td><td>&quot;T&quot;</td><td>47016875</td><td>47017243</td><td>&quot;-&quot;</td><td>-1606</td><td>1606</td><td>0.100487</td><td>-1974</td><td>1974</td><td>0.05025</td><td>&quot;-1650&quot;</td><td>&quot;[-1650, -1600)&quot;</td><td>50</td><td>&quot;-2000&quot;</td><td>&quot;[-2000, -1950)&quot;</td></tr><tr><td>&quot;GTEX-YF7O&quot;</td><td>&quot;ENSG00000265681&quot;</td><td>&quot;Colon - Sigmoid&quot;</td><td>&quot;Colon&quot;</td><td>-1</td><td>0.231308</td><td>true</td><td>4.99077</td><td>&quot;-0.050249927&quot;</td><td>&quot;-0.100487284&quot;</td><td>47018849</td><td>47018850</td><td>&quot;G&quot;</td><td>&quot;T&quot;</td><td>47016875</td><td>47017243</td><td>&quot;-&quot;</td><td>-1606</td><td>1606</td><td>0.100487</td><td>-1974</td><td>1974</td><td>0.05025</td><td>&quot;-1650&quot;</td><td>&quot;[-1650, -1600)&quot;</td><td>50</td><td>&quot;-2000&quot;</td><td>&quot;[-2000, -1950)&quot;</td></tr><tr><td>&hellip;</td><td>&hellip;</td><td>&hellip;</td><td>&hellip;</td><td>&hellip;</td><td>&hellip;</td><td>&hellip;</td><td>&hellip;</td><td>&hellip;</td><td>&hellip;</td><td>&hellip;</td><td>&hellip;</td><td>&hellip;</td><td>&hellip;</td><td>&hellip;</td><td>&hellip;</td><td>&hellip;</td><td>&hellip;</td><td>&hellip;</td><td>&hellip;</td><td>&hellip;</td><td>&hellip;</td><td>&hellip;</td><td>&hellip;</td><td>&hellip;</td><td>&hellip;</td><td>&hellip;</td><td>&hellip;</td></tr><tr><td>&quot;GTEX-YF7O&quot;</td><td>&quot;ENSG00000265681&quot;</td><td>&quot;Thyroid&quot;</td><td>&quot;Thyroid&quot;</td><td>-1</td><td>0.223519</td><td>true</td><td>4.987852</td><td>&quot;-0.050249927&quot;</td><td>&quot;-0.100487284&quot;</td><td>47018849</td><td>47018850</td><td>&quot;G&quot;</td><td>&quot;T&quot;</td><td>47016875</td><td>47017243</td><td>&quot;-&quot;</td><td>-1606</td><td>1606</td><td>0.100487</td><td>-1974</td><td>1974</td><td>0.05025</td><td>&quot;-1650&quot;</td><td>&quot;[-1650, -1600)&quot;</td><td>50</td><td>&quot;-2000&quot;</td><td>&quot;[-2000, -1950)&quot;</td></tr><tr><td>&quot;GTEX-15CHR&quot;</td><td>&quot;ENSG00000265681&quot;</td><td>&quot;Whole Blood&quot;</td><td>&quot;Blood&quot;</td><td>-1</td><td>0.054891</td><td>true</td><td>4.217158</td><td>&quot;-0.050249927&quot;</td><td>&quot;-0.100487284&quot;</td><td>47018849</td><td>47018850</td><td>&quot;G&quot;</td><td>&quot;T&quot;</td><td>47016875</td><td>47017243</td><td>&quot;-&quot;</td><td>-1606</td><td>1606</td><td>0.100487</td><td>-1974</td><td>1974</td><td>0.05025</td><td>&quot;-1650&quot;</td><td>&quot;[-1650, -1600)&quot;</td><td>50</td><td>&quot;-2000&quot;</td><td>&quot;[-2000, -1950)&quot;</td></tr><tr><td>&quot;GTEX-YF7O&quot;</td><td>&quot;ENSG00000265681&quot;</td><td>&quot;Whole Blood&quot;</td><td>&quot;Blood&quot;</td><td>-1</td><td>0.112803</td><td>true</td><td>4.003615</td><td>&quot;-0.050249927&quot;</td><td>&quot;-0.100487284&quot;</td><td>47018849</td><td>47018850</td><td>&quot;G&quot;</td><td>&quot;T&quot;</td><td>47016875</td><td>47017243</td><td>&quot;-&quot;</td><td>-1606</td><td>1606</td><td>0.100487</td><td>-1974</td><td>1974</td><td>0.05025</td><td>&quot;-1650&quot;</td><td>&quot;[-1650, -1600)&quot;</td><td>50</td><td>&quot;-2000&quot;</td><td>&quot;[-2000, -1950)&quot;</td></tr><tr><td>&quot;GTEX-15CHR&quot;</td><td>&quot;ENSG00000265681&quot;</td><td>&quot;Artery - Coronary&quot;</td><td>&quot;Blood Vessel&quot;</td><td>-1</td><td>0.058548</td><td>true</td><td>4.692988</td><td>&quot;-0.050249927&quot;</td><td>&quot;-0.100487284&quot;</td><td>47018849</td><td>47018850</td><td>&quot;G&quot;</td><td>&quot;T&quot;</td><td>47016875</td><td>47017243</td><td>&quot;-&quot;</td><td>-1606</td><td>1606</td><td>0.100487</td><td>-1974</td><td>1974</td><td>0.05025</td><td>&quot;-1650&quot;</td><td>&quot;[-1650, -1600)&quot;</td><td>50</td><td>&quot;-2000&quot;</td><td>&quot;[-2000, -1950)&quot;</td></tr><tr><td>&quot;GTEX-YF7O&quot;</td><td>&quot;ENSG00000265681&quot;</td><td>&quot;Artery - Coronary&quot;</td><td>&quot;Blood Vessel&quot;</td><td>-1</td><td>0.163985</td><td>true</td><td>4.568977</td><td>&quot;-0.050249927&quot;</td><td>&quot;-0.100487284&quot;</td><td>47018849</td><td>47018850</td><td>&quot;G&quot;</td><td>&quot;T&quot;</td><td>47016875</td><td>47017243</td><td>&quot;-&quot;</td><td>-1606</td><td>1606</td><td>0.100487</td><td>-1974</td><td>1974</td><td>0.05025</td><td>&quot;-1650&quot;</td><td>&quot;[-1650, -1600)&quot;</td><td>50</td><td>&quot;-2000&quot;</td><td>&quot;[-2000, -1950)&quot;</td></tr></tbody></table></div>"
      ],
      "text/plain": [
       "shape: (38, 28)\n",
       "┌───────────┬───────────┬───────────┬───────────┬───┬───────────┬──────────┬───────────┬───────────┐\n",
       "│ individua ┆ gene      ┆ subtissue ┆ tissue    ┆ … ┆ tss_dista ┆ bin_size ┆ cse_dista ┆ cse_dista │\n",
       "│ l         ┆ ---       ┆ ---       ┆ ---       ┆   ┆ nce_bin_l ┆ ---      ┆ nce_bin   ┆ nce_bin_l │\n",
       "│ ---       ┆ str       ┆ str       ┆ str       ┆   ┆ abel      ┆ i32      ┆ ---       ┆ abel      │\n",
       "│ str       ┆           ┆           ┆           ┆   ┆ ---       ┆          ┆ enum      ┆ ---       │\n",
       "│           ┆           ┆           ┆           ┆   ┆ str       ┆          ┆           ┆ str       │\n",
       "╞═══════════╪═══════════╪═══════════╪═══════════╪═══╪═══════════╪══════════╪═══════════╪═══════════╡\n",
       "│ GTEX-YF7O ┆ ENSG00000 ┆ Adipose - ┆ Adipose   ┆ … ┆ [-1650,   ┆ 50       ┆ -2000     ┆ [-2000,   │\n",
       "│           ┆ 265681    ┆ Subcutane ┆ Tissue    ┆   ┆ -1600)    ┆          ┆           ┆ -1950)    │\n",
       "│           ┆           ┆ ous       ┆           ┆   ┆           ┆          ┆           ┆           │\n",
       "│ GTEX-15CH ┆ ENSG00000 ┆ Cells -   ┆ Skin      ┆ … ┆ [-1650,   ┆ 50       ┆ -2000     ┆ [-2000,   │\n",
       "│ R         ┆ 265681    ┆ Cultured  ┆           ┆   ┆ -1600)    ┆          ┆           ┆ -1950)    │\n",
       "│           ┆           ┆ fibroblas ┆           ┆   ┆           ┆          ┆           ┆           │\n",
       "│           ┆           ┆ ts        ┆           ┆   ┆           ┆          ┆           ┆           │\n",
       "│ GTEX-YF7O ┆ ENSG00000 ┆ Cells -   ┆ Skin      ┆ … ┆ [-1650,   ┆ 50       ┆ -2000     ┆ [-2000,   │\n",
       "│           ┆ 265681    ┆ Cultured  ┆           ┆   ┆ -1600)    ┆          ┆           ┆ -1950)    │\n",
       "│           ┆           ┆ fibroblas ┆           ┆   ┆           ┆          ┆           ┆           │\n",
       "│           ┆           ┆ ts        ┆           ┆   ┆           ┆          ┆           ┆           │\n",
       "│ GTEX-YF7O ┆ ENSG00000 ┆ Cells -   ┆ Blood     ┆ … ┆ [-1650,   ┆ 50       ┆ -2000     ┆ [-2000,   │\n",
       "│           ┆ 265681    ┆ EBV-trans ┆           ┆   ┆ -1600)    ┆          ┆           ┆ -1950)    │\n",
       "│           ┆           ┆ formed    ┆           ┆   ┆           ┆          ┆           ┆           │\n",
       "│           ┆           ┆ lympho…   ┆           ┆   ┆           ┆          ┆           ┆           │\n",
       "│ GTEX-YF7O ┆ ENSG00000 ┆ Colon -   ┆ Colon     ┆ … ┆ [-1650,   ┆ 50       ┆ -2000     ┆ [-2000,   │\n",
       "│           ┆ 265681    ┆ Sigmoid   ┆           ┆   ┆ -1600)    ┆          ┆           ┆ -1950)    │\n",
       "│ …         ┆ …         ┆ …         ┆ …         ┆ … ┆ …         ┆ …        ┆ …         ┆ …         │\n",
       "│ GTEX-YF7O ┆ ENSG00000 ┆ Thyroid   ┆ Thyroid   ┆ … ┆ [-1650,   ┆ 50       ┆ -2000     ┆ [-2000,   │\n",
       "│           ┆ 265681    ┆           ┆           ┆   ┆ -1600)    ┆          ┆           ┆ -1950)    │\n",
       "│ GTEX-15CH ┆ ENSG00000 ┆ Whole     ┆ Blood     ┆ … ┆ [-1650,   ┆ 50       ┆ -2000     ┆ [-2000,   │\n",
       "│ R         ┆ 265681    ┆ Blood     ┆           ┆   ┆ -1600)    ┆          ┆           ┆ -1950)    │\n",
       "│ GTEX-YF7O ┆ ENSG00000 ┆ Whole     ┆ Blood     ┆ … ┆ [-1650,   ┆ 50       ┆ -2000     ┆ [-2000,   │\n",
       "│           ┆ 265681    ┆ Blood     ┆           ┆   ┆ -1600)    ┆          ┆           ┆ -1950)    │\n",
       "│ GTEX-15CH ┆ ENSG00000 ┆ Artery -  ┆ Blood     ┆ … ┆ [-1650,   ┆ 50       ┆ -2000     ┆ [-2000,   │\n",
       "│ R         ┆ 265681    ┆ Coronary  ┆ Vessel    ┆   ┆ -1600)    ┆          ┆           ┆ -1950)    │\n",
       "│ GTEX-YF7O ┆ ENSG00000 ┆ Artery -  ┆ Blood     ┆ … ┆ [-1650,   ┆ 50       ┆ -2000     ┆ [-2000,   │\n",
       "│           ┆ 265681    ┆ Coronary  ┆ Vessel    ┆   ┆ -1600)    ┆          ┆           ┆ -1950)    │\n",
       "└───────────┴───────────┴───────────┴───────────┴───┴───────────┴──────────┴───────────┴───────────┘"
      ]
     },
     "execution_count": 16,
     "metadata": {},
     "output_type": "execute_result"
    }
   ],
   "source": [
    "tmp"
   ]
  },
  {
   "cell_type": "code",
   "execution_count": 17,
   "id": "1ac7171a-df6b-4a75-98bf-6417881b0ded",
   "metadata": {},
   "outputs": [
    {
     "data": {
      "text/html": [
       "<div><style>\n",
       ".dataframe > thead > tr,\n",
       ".dataframe > tbody > tr {\n",
       "  text-align: right;\n",
       "  white-space: pre-wrap;\n",
       "}\n",
       "</style>\n",
       "<small>shape: (2, 1)</small><table border=\"1\" class=\"dataframe\"><thead><tr><th>individual</th></tr><tr><td>str</td></tr></thead><tbody><tr><td>&quot;GTEX-15CHR&quot;</td></tr><tr><td>&quot;GTEX-YF7O&quot;</td></tr></tbody></table></div>"
      ],
      "text/plain": [
       "shape: (2, 1)\n",
       "┌────────────┐\n",
       "│ individual │\n",
       "│ ---        │\n",
       "│ str        │\n",
       "╞════════════╡\n",
       "│ GTEX-15CHR │\n",
       "│ GTEX-YF7O  │\n",
       "└────────────┘"
      ]
     },
     "execution_count": 17,
     "metadata": {},
     "output_type": "execute_result"
    }
   ],
   "source": [
    "tmp.select(pl.col('individual')).unique()"
   ]
  },
  {
   "cell_type": "code",
   "execution_count": 18,
   "id": "3d9f26a9-7df1-4c10-8e46-6183f9de958f",
   "metadata": {},
   "outputs": [
    {
     "data": {
      "text/html": [
       "<div><style>\n",
       ".dataframe > thead > tr,\n",
       ".dataframe > tbody > tr {\n",
       "  text-align: right;\n",
       "  white-space: pre-wrap;\n",
       "}\n",
       "</style>\n",
       "<small>shape: (17, 1)</small><table border=\"1\" class=\"dataframe\"><thead><tr><th>tissue</th></tr><tr><td>str</td></tr></thead><tbody><tr><td>&quot;Adrenal Gland&quot;</td></tr><tr><td>&quot;Muscle&quot;</td></tr><tr><td>&quot;Colon&quot;</td></tr><tr><td>&quot;Esophagus&quot;</td></tr><tr><td>&quot;Blood Vessel&quot;</td></tr><tr><td>&hellip;</td></tr><tr><td>&quot;Pancreas&quot;</td></tr><tr><td>&quot;Salivary Gland&quot;</td></tr><tr><td>&quot;Testis&quot;</td></tr><tr><td>&quot;Blood&quot;</td></tr><tr><td>&quot;Skin&quot;</td></tr></tbody></table></div>"
      ],
      "text/plain": [
       "shape: (17, 1)\n",
       "┌────────────────┐\n",
       "│ tissue         │\n",
       "│ ---            │\n",
       "│ str            │\n",
       "╞════════════════╡\n",
       "│ Adrenal Gland  │\n",
       "│ Muscle         │\n",
       "│ Colon          │\n",
       "│ Esophagus      │\n",
       "│ Blood Vessel   │\n",
       "│ …              │\n",
       "│ Pancreas       │\n",
       "│ Salivary Gland │\n",
       "│ Testis         │\n",
       "│ Blood          │\n",
       "│ Skin           │\n",
       "└────────────────┘"
      ]
     },
     "execution_count": 18,
     "metadata": {},
     "output_type": "execute_result"
    }
   ],
   "source": [
    "tmp.select(pl.col('tissue')).unique()"
   ]
  },
  {
   "cell_type": "code",
   "execution_count": 19,
   "id": "e27c4ae7-aba3-4b31-b2ff-fbd01c4a0b94",
   "metadata": {},
   "outputs": [],
   "source": [
    "specieslm_wo_benchmark_df = (specieslm_benchmark_df\n",
    "                          .filter(~((pl.col('variant_start') == 47018849) & (pl.col('ref') == 'G') & (pl.col('alt') == 'T') & (pl.col('gene') == 'ENSG00000265681'))))\n",
    "old_wo_tissue_auprc = specieslm_wo_benchmark_df.group_by('tissue').map_groups(lambda group: pl.DataFrame({\n",
    "    \"tissue\" : group[\"tissue\"][0],\n",
    "    \"auprc\" : average_precision_score(group.select('y_true').to_series(), group.select('y_pred_old').to_series())\n",
    "}))\n",
    "new_wo_tissue_auprc = specieslm_wo_benchmark_df.group_by('tissue').map_groups(lambda group: pl.DataFrame({\n",
    "    \"tissue\" : group[\"tissue\"][0],\n",
    "    \"auprc\" : average_precision_score(group.select('y_true').to_series(), group.select('y_pred_new').to_series())\n",
    "}))"
   ]
  },
  {
   "cell_type": "code",
   "execution_count": 20,
   "id": "2021b5c2-6011-4de3-9d39-cd711b321984",
   "metadata": {},
   "outputs": [
    {
     "name": "stdout",
     "output_type": "stream",
     "text": [
      "shape: (1, 1)\n",
      "┌──────────┐\n",
      "│ auprc    │\n",
      "│ ---      │\n",
      "│ f64      │\n",
      "╞══════════╡\n",
      "│ 0.058558 │\n",
      "└──────────┘\n",
      "shape: (1, 1)\n",
      "┌──────────┐\n",
      "│ auprc    │\n",
      "│ ---      │\n",
      "│ f64      │\n",
      "╞══════════╡\n",
      "│ 0.058164 │\n",
      "└──────────┘\n"
     ]
    }
   ],
   "source": [
    "print(old_wo_tissue_auprc.select(pl.col('auprc').median()))\n",
    "print(new_wo_tissue_auprc.select(pl.col('auprc').median()))"
   ]
  },
  {
   "cell_type": "raw",
   "id": "cafbb3bd-34fe-4a6d-99f8-8fdd0d969c99",
   "metadata": {},
   "source": [
    "specieslm_benchmark_df = pl.read_parquet('/s/project/rep/processed/training_results_v16/specieslm_variants_with_benchmark.parquet')\n",
    "specieslm_benchmark_df = specieslm_benchmark_df.group_by(['individual', 'gene', 'subtissue', 'pas_score', 'tss_score']).agg(pl.exclude(['gene', 'subtissue', 'pas_score', 'tss_score']).first())"
   ]
  },
  {
   "cell_type": "raw",
   "id": "ac5beeb2-13fd-4276-9a9a-5dafba6dc999",
   "metadata": {},
   "source": [
    "specieslm_benchmark_df.shape"
   ]
  },
  {
   "cell_type": "raw",
   "id": "6c57e539-f0d2-461a-9553-3273400415ad",
   "metadata": {},
   "source": [
    "old_tissue_auprc = specieslm_benchmark_df.group_by('tissue').map_groups(lambda group: pl.DataFrame({\n",
    "    \"tissue\" : group[\"tissue\"][0],\n",
    "    \"AUPRC\" : average_precision_score(group.select('y_true').to_series(), group.select('y_pred_old').to_series())\n",
    "}))"
   ]
  },
  {
   "cell_type": "raw",
   "id": "bffd1f79-b16c-4540-a356-daca8d406ee7",
   "metadata": {},
   "source": [
    "old_tissue_auprc.select(pl.col('AUPRC').median())"
   ]
  },
  {
   "cell_type": "raw",
   "id": "52736041-2ebd-4a5d-810d-80524bda6926",
   "metadata": {},
   "source": [
    "new_tissue_auprc = specieslm_benchmark_df.group_by('tissue').map_groups(lambda group: pl.DataFrame({\n",
    "    \"tissue\" : group[\"tissue\"][0],\n",
    "    \"AUPRC\" : average_precision_score(group.select('y_true').to_series(), group.select('y_pred_new').to_series())\n",
    "}))"
   ]
  },
  {
   "cell_type": "raw",
   "id": "c650ee9b-f045-499c-9560-c26d78156780",
   "metadata": {},
   "source": [
    "new_tissue_auprc.select(pl.col('AUPRC').median())"
   ]
  },
  {
   "cell_type": "code",
   "execution_count": 21,
   "id": "0fc702f9-6748-44e3-8352-7cc91a5906c6",
   "metadata": {},
   "outputs": [],
   "source": [
    "specieslm_benchmark_df = specieslm_benchmark_df.with_columns(cse_distance_bin_label=pl.col('cse_distance_bin_label').fill_null('no_label'),\n",
    "                                                             tss_distance_bin_label=pl.col('tss_distance_bin_label').fill_null('no_label'),)"
   ]
  },
  {
   "cell_type": "code",
   "execution_count": 22,
   "id": "048fca9d-84b7-4265-84aa-63cddfed6924",
   "metadata": {},
   "outputs": [
    {
     "data": {
      "text/html": [
       "<div><style>\n",
       ".dataframe > thead > tr,\n",
       ".dataframe > tbody > tr {\n",
       "  text-align: right;\n",
       "  white-space: pre-wrap;\n",
       "}\n",
       "</style>\n",
       "<small>shape: (5, 28)</small><table border=\"1\" class=\"dataframe\"><thead><tr><th>individual</th><th>gene</th><th>subtissue</th><th>tissue</th><th>hilo_padj</th><th>y_pred_old</th><th>y_true</th><th>y_pred_new</th><th>pas_score</th><th>tss_score</th><th>variant_start</th><th>variant_end</th><th>ref</th><th>alt</th><th>cse_pos</th><th>tss</th><th>strand</th><th>tss_distance</th><th>absolute_tss_distance</th><th>absolute_tss_score</th><th>cse_distance</th><th>absolute_cse_distance</th><th>absolute_cse_score</th><th>tss_distance_bin</th><th>tss_distance_bin_label</th><th>bin_size</th><th>cse_distance_bin</th><th>cse_distance_bin_label</th></tr><tr><td>str</td><td>str</td><td>str</td><td>str</td><td>i64</td><td>f64</td><td>bool</td><td>f64</td><td>str</td><td>str</td><td>i64</td><td>i64</td><td>str</td><td>str</td><td>i64</td><td>i64</td><td>str</td><td>i64</td><td>i64</td><td>f64</td><td>i64</td><td>i64</td><td>f64</td><td>enum</td><td>str</td><td>i32</td><td>enum</td><td>str</td></tr></thead><tbody><tr><td>&quot;GTEX-1117F&quot;</td><td>&quot;ENSG00000000003&quot;</td><td>&quot;Adipose - Subcutaneous&quot;</td><td>&quot;Adipose Tissue&quot;</td><td>0</td><td>-0.00246</td><td>false</td><td>-0.00251</td><td>null</td><td>null</td><td>null</td><td>null</td><td>null</td><td>null</td><td>null</td><td>null</td><td>null</td><td>null</td><td>null</td><td>null</td><td>null</td><td>null</td><td>null</td><td>null</td><td>&quot;no_label&quot;</td><td>null</td><td>null</td><td>&quot;no_label&quot;</td></tr><tr><td>&quot;GTEX-1117F&quot;</td><td>&quot;ENSG00000000419&quot;</td><td>&quot;Adipose - Subcutaneous&quot;</td><td>&quot;Adipose Tissue&quot;</td><td>0</td><td>-0.003511</td><td>false</td><td>-0.003407</td><td>&quot;-0.03840475&quot;</td><td>null</td><td>49550123</td><td>49550124</td><td>&quot;C&quot;</td><td>&quot;T&quot;</td><td>49551433</td><td>null</td><td>&quot;-&quot;</td><td>null</td><td>null</td><td>null</td><td>1310</td><td>1310</td><td>0.038405</td><td>null</td><td>&quot;no_label&quot;</td><td>50</td><td>&quot;1300&quot;</td><td>&quot;[1300, 1350)&quot;</td></tr><tr><td>&quot;GTEX-1117F&quot;</td><td>&quot;ENSG00000000457&quot;</td><td>&quot;Adipose - Subcutaneous&quot;</td><td>&quot;Adipose Tissue&quot;</td><td>0</td><td>-0.003511</td><td>false</td><td>-0.003407</td><td>null</td><td>null</td><td>null</td><td>null</td><td>null</td><td>null</td><td>null</td><td>null</td><td>null</td><td>null</td><td>null</td><td>null</td><td>null</td><td>null</td><td>null</td><td>null</td><td>&quot;no_label&quot;</td><td>null</td><td>null</td><td>&quot;no_label&quot;</td></tr><tr><td>&quot;GTEX-1117F&quot;</td><td>&quot;ENSG00000000938&quot;</td><td>&quot;Adipose - Subcutaneous&quot;</td><td>&quot;Adipose Tissue&quot;</td><td>0</td><td>-0.00246</td><td>false</td><td>-0.00251</td><td>null</td><td>null</td><td>null</td><td>null</td><td>null</td><td>null</td><td>null</td><td>null</td><td>null</td><td>null</td><td>null</td><td>null</td><td>null</td><td>null</td><td>null</td><td>null</td><td>&quot;no_label&quot;</td><td>null</td><td>null</td><td>&quot;no_label&quot;</td></tr><tr><td>&quot;GTEX-1117F&quot;</td><td>&quot;ENSG00000000971&quot;</td><td>&quot;Adipose - Subcutaneous&quot;</td><td>&quot;Adipose Tissue&quot;</td><td>0</td><td>-0.00246</td><td>false</td><td>-0.00251</td><td>&quot;-0.034286473&quot;</td><td>null</td><td>196717722</td><td>196717723</td><td>&quot;T&quot;</td><td>&quot;C&quot;</td><td>196716601</td><td>null</td><td>&quot;+&quot;</td><td>null</td><td>null</td><td>null</td><td>1121</td><td>1121</td><td>0.034286</td><td>null</td><td>&quot;no_label&quot;</td><td>50</td><td>&quot;1100&quot;</td><td>&quot;[1100, 1150)&quot;</td></tr></tbody></table></div>"
      ],
      "text/plain": [
       "shape: (5, 28)\n",
       "┌───────────┬───────────┬───────────┬───────────┬───┬───────────┬──────────┬───────────┬───────────┐\n",
       "│ individua ┆ gene      ┆ subtissue ┆ tissue    ┆ … ┆ tss_dista ┆ bin_size ┆ cse_dista ┆ cse_dista │\n",
       "│ l         ┆ ---       ┆ ---       ┆ ---       ┆   ┆ nce_bin_l ┆ ---      ┆ nce_bin   ┆ nce_bin_l │\n",
       "│ ---       ┆ str       ┆ str       ┆ str       ┆   ┆ abel      ┆ i32      ┆ ---       ┆ abel      │\n",
       "│ str       ┆           ┆           ┆           ┆   ┆ ---       ┆          ┆ enum      ┆ ---       │\n",
       "│           ┆           ┆           ┆           ┆   ┆ str       ┆          ┆           ┆ str       │\n",
       "╞═══════════╪═══════════╪═══════════╪═══════════╪═══╪═══════════╪══════════╪═══════════╪═══════════╡\n",
       "│ GTEX-1117 ┆ ENSG00000 ┆ Adipose - ┆ Adipose   ┆ … ┆ no_label  ┆ null     ┆ null      ┆ no_label  │\n",
       "│ F         ┆ 000003    ┆ Subcutane ┆ Tissue    ┆   ┆           ┆          ┆           ┆           │\n",
       "│           ┆           ┆ ous       ┆           ┆   ┆           ┆          ┆           ┆           │\n",
       "│ GTEX-1117 ┆ ENSG00000 ┆ Adipose - ┆ Adipose   ┆ … ┆ no_label  ┆ 50       ┆ 1300      ┆ [1300,    │\n",
       "│ F         ┆ 000419    ┆ Subcutane ┆ Tissue    ┆   ┆           ┆          ┆           ┆ 1350)     │\n",
       "│           ┆           ┆ ous       ┆           ┆   ┆           ┆          ┆           ┆           │\n",
       "│ GTEX-1117 ┆ ENSG00000 ┆ Adipose - ┆ Adipose   ┆ … ┆ no_label  ┆ null     ┆ null      ┆ no_label  │\n",
       "│ F         ┆ 000457    ┆ Subcutane ┆ Tissue    ┆   ┆           ┆          ┆           ┆           │\n",
       "│           ┆           ┆ ous       ┆           ┆   ┆           ┆          ┆           ┆           │\n",
       "│ GTEX-1117 ┆ ENSG00000 ┆ Adipose - ┆ Adipose   ┆ … ┆ no_label  ┆ null     ┆ null      ┆ no_label  │\n",
       "│ F         ┆ 000938    ┆ Subcutane ┆ Tissue    ┆   ┆           ┆          ┆           ┆           │\n",
       "│           ┆           ┆ ous       ┆           ┆   ┆           ┆          ┆           ┆           │\n",
       "│ GTEX-1117 ┆ ENSG00000 ┆ Adipose - ┆ Adipose   ┆ … ┆ no_label  ┆ 50       ┆ 1100      ┆ [1100,    │\n",
       "│ F         ┆ 000971    ┆ Subcutane ┆ Tissue    ┆   ┆           ┆          ┆           ┆ 1150)     │\n",
       "│           ┆           ┆ ous       ┆           ┆   ┆           ┆          ┆           ┆           │\n",
       "└───────────┴───────────┴───────────┴───────────┴───┴───────────┴──────────┴───────────┴───────────┘"
      ]
     },
     "execution_count": 22,
     "metadata": {},
     "output_type": "execute_result"
    }
   ],
   "source": [
    "specieslm_benchmark_df.head()"
   ]
  },
  {
   "cell_type": "code",
   "execution_count": 23,
   "id": "40811998-480f-46cb-8cfa-fe0eba866b77",
   "metadata": {},
   "outputs": [],
   "source": [
    "def bin_auprc_new(group_df, is_tss=True):\n",
    "    bin_column = 'tss_distance_bin_label' if is_tss else 'cse_distance_bin_label'\n",
    "    bin_name = group_df[bin_column][0]\n",
    "    tissue = group_df['tissue'][0]\n",
    "    subset_df = specieslm_benchmark_df.filter((pl.col('tissue') == tissue) & (pl.col(bin_column) != bin_name))\n",
    "    y_true = pl.concat([subset_df.select('y_true').to_series(), group_df.select('y_true').to_series()])\n",
    "    y_pred = pl.concat([subset_df.select('y_pred_old').to_series(), group_df.select('y_pred_new').to_series()])\n",
    "    auprc = average_precision_score(y_true, y_pred)\n",
    "\n",
    "    return pl.DataFrame({'tissue': tissue,\n",
    "                         'auprc_new': auprc,\n",
    "                         'bin_name': bin_name,})"
   ]
  },
  {
   "cell_type": "code",
   "execution_count": 24,
   "id": "cc96be5f-9777-4808-8202-faa49abe7d60",
   "metadata": {},
   "outputs": [],
   "source": [
    "# tmp = specieslm_benchmark_df.filter((pl.col('tissue') == 'Nerve') &\n",
    "#                                      (pl.col('cse_distance_bin_label') == '[1300, 1350)'))"
   ]
  },
  {
   "cell_type": "code",
   "execution_count": 25,
   "id": "89962d0d-4ae5-4c2d-8fcd-dd842ef9c2b7",
   "metadata": {},
   "outputs": [],
   "source": [
    "# bin_auprc_new(tmp, is_tss=False)"
   ]
  },
  {
   "cell_type": "code",
   "execution_count": 26,
   "id": "3cac8c47-ddc8-4f45-9247-937e5ad8dfa5",
   "metadata": {},
   "outputs": [],
   "source": [
    "old_tissue_auprc = old_tissue_auprc.rename(dict(auprc='auprc_old'))"
   ]
  },
  {
   "cell_type": "code",
   "execution_count": 27,
   "id": "25b8ce47-b9ef-4783-9f86-e75fe38cb186",
   "metadata": {
    "scrolled": true
   },
   "outputs": [],
   "source": [
    "tss_auprc_bins = specieslm_benchmark_df.group_by('tss_distance_bin_label', 'tissue').map_groups(lambda group: bin_auprc_new(group, is_tss=True))"
   ]
  },
  {
   "cell_type": "code",
   "execution_count": null,
   "id": "e7bd2eac-0f0a-4cb6-96da-8ec1c2102398",
   "metadata": {},
   "outputs": [],
   "source": [
    "cse_auprc_bins = specieslm_benchmark_df.group_by('cse_distance_bin_label', 'tissue').map_groups(lambda group: bin_auprc_new(group, is_tss=False))"
   ]
  },
  {
   "cell_type": "code",
   "execution_count": null,
   "id": "edfe785a-ea04-4604-a2ab-2be7372c60b9",
   "metadata": {},
   "outputs": [],
   "source": [
    "cse_auprc_bins.join(old_tissue_auprc, how='left', on='tissue').write_parquet('cse_auprc_bins_250.parquet')"
   ]
  },
  {
   "cell_type": "code",
   "execution_count": null,
   "id": "2cf101e3-d7b4-418e-9851-c8ffe50b71f6",
   "metadata": {},
   "outputs": [],
   "source": [
    "tss_auprc_bins.join(old_tissue_auprc, how='left', on='tissue').write_parquet('tss_auprc_bins_250.parquet')"
   ]
  },
  {
   "cell_type": "code",
   "execution_count": null,
   "id": "81d79524-e8a4-4894-a02d-c5096692a10f",
   "metadata": {},
   "outputs": [],
   "source": [
    "tss_auprc_bins"
   ]
  },
  {
   "cell_type": "code",
   "execution_count": null,
   "id": "e8103b14-4ff4-4438-a334-b336c8f830da",
   "metadata": {},
   "outputs": [],
   "source": [
    "1"
   ]
  },
  {
   "cell_type": "code",
   "execution_count": null,
   "id": "e548295c-1dd1-4b3b-b87d-3f53dfd80309",
   "metadata": {},
   "outputs": [],
   "source": []
  }
 ],
 "metadata": {
  "kernelspec": {
   "display_name": "Python [conda env:anaconda-kipoi-veff-analysis]",
   "language": "python",
   "name": "conda-env-anaconda-kipoi-veff-analysis-py"
  },
  "language_info": {
   "codemirror_mode": {
    "name": "ipython",
    "version": 3
   },
   "file_extension": ".py",
   "mimetype": "text/x-python",
   "name": "python",
   "nbconvert_exporter": "python",
   "pygments_lexer": "ipython3",
   "version": "3.12.6"
  }
 },
 "nbformat": 4,
 "nbformat_minor": 5
}
