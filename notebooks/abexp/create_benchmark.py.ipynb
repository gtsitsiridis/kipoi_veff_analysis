{
 "cells": [
  {
   "cell_type": "code",
   "execution_count": 1,
   "id": "2f5be36d",
   "metadata": {},
   "outputs": [],
   "source": [
    "from IPython.display import display"
   ]
  },
  {
   "cell_type": "code",
   "execution_count": 2,
   "id": "bcad2ca0",
   "metadata": {
    "collapsed": false,
    "jupyter": {
     "outputs_hidden": false
    },
    "pycharm": {
     "name": "#%%\n"
    }
   },
   "outputs": [],
   "source": [
    "import os\n",
    "import sys\n",
    "import shutil\n",
    "\n",
    "import json\n",
    "import yaml\n",
    "\n",
    "from pprint import pprint"
   ]
  },
  {
   "cell_type": "code",
   "execution_count": 3,
   "id": "90e5bb87",
   "metadata": {},
   "outputs": [],
   "source": [
    "import pandas as pd"
   ]
  },
  {
   "cell_type": "code",
   "execution_count": 4,
   "id": "31e2ff79",
   "metadata": {},
   "outputs": [],
   "source": [
    "import joblib\n",
    "\n",
    "os.environ[\"POLARS_MAX_THREADS\"] = str(joblib.cpu_count())"
   ]
  },
  {
   "cell_type": "code",
   "execution_count": 5,
   "id": "cdf7942f",
   "metadata": {
    "collapsed": false,
    "jupyter": {
     "outputs_hidden": false
    },
    "pycharm": {
     "name": "#%%\n"
    }
   },
   "outputs": [],
   "source": [
    "import numpy as np\n",
    "import polars as pl\n",
    "import polars.datatypes as t\n",
    "\n",
    "import rep.polars_functions as plf"
   ]
  },
  {
   "cell_type": "code",
   "execution_count": 6,
   "id": "739fd03f",
   "metadata": {},
   "outputs": [],
   "source": [
    "pl.enable_string_cache()"
   ]
  },
  {
   "cell_type": "code",
   "execution_count": 7,
   "id": "10454fc1",
   "metadata": {},
   "outputs": [],
   "source": [
    "import matplotlib.pyplot as plt\n",
    "import matplotlib\n",
    "\n",
    "%matplotlib inline\n",
    "%config InlineBackend.figure_format='retina'\n",
    "from IPython.display import display\n",
    "\n",
    "import seaborn as sns\n",
    "import plotnine as pn\n",
    "import mizani"
   ]
  },
  {
   "cell_type": "code",
   "execution_count": 8,
   "id": "23ebec1f",
   "metadata": {},
   "outputs": [],
   "source": [
    "from rep.notebook_init import setup_plot_style\n",
    "setup_plot_style()"
   ]
  },
  {
   "cell_type": "code",
   "execution_count": 9,
   "id": "e718a578",
   "metadata": {},
   "outputs": [
    {
     "name": "stderr",
     "output_type": "stream",
     "text": [
      "24/10/23 14:13:01 WARN Utils: Your hostname, ouga20.cmm.in.tum.de resolves to a loopback address: 127.0.0.1; using 192.168.16.30 instead (on interface eno8303)\n",
      "24/10/23 14:13:01 WARN Utils: Set SPARK_LOCAL_IP if you need to bind to another address\n"
     ]
    },
    {
     "name": "stdout",
     "output_type": "stream",
     "text": [
      ":: loading settings :: url = jar:file:/data/nasif12/modules_if12/SL7/i12g/anaconda/envs/florian4/lib/python3.9/site-packages/pyspark/jars/ivy-2.5.1.jar!/org/apache/ivy/core/settings/ivysettings.xml\n"
     ]
    },
    {
     "name": "stderr",
     "output_type": "stream",
     "text": [
      "Ivy Default Cache set to: /data/nasif12/home_if12/tsi/.ivy2/cache\n",
      "The jars for the packages stored in: /data/nasif12/home_if12/tsi/.ivy2/jars\n",
      "com.databricks#spark-xml_2.12 added as a dependency\n",
      "org.apache.iceberg#iceberg-spark-runtime-3.4_2.12 added as a dependency\n",
      "org.xerial#sqlite-jdbc added as a dependency\n",
      ":: resolving dependencies :: org.apache.spark#spark-submit-parent-4862f0eb-6c84-4a2e-a656-a498d0280b60;1.0\n",
      "\tconfs: [default]\n",
      "\tfound com.databricks#spark-xml_2.12;0.17.0 in central\n",
      "\tfound commons-io#commons-io;2.11.0 in central\n",
      "\tfound org.glassfish.jaxb#txw2;3.0.2 in central\n",
      "\tfound org.apache.ws.xmlschema#xmlschema-core;2.3.0 in central\n",
      "\tfound org.scala-lang.modules#scala-collection-compat_2.12;2.9.0 in central\n",
      "\tfound org.apache.iceberg#iceberg-spark-runtime-3.4_2.12;1.3.0 in central\n",
      "\tfound org.xerial#sqlite-jdbc;3.36.0.1 in central\n",
      ":: resolution report :: resolve 257ms :: artifacts dl 15ms\n",
      "\t:: modules in use:\n",
      "\tcom.databricks#spark-xml_2.12;0.17.0 from central in [default]\n",
      "\tcommons-io#commons-io;2.11.0 from central in [default]\n",
      "\torg.apache.iceberg#iceberg-spark-runtime-3.4_2.12;1.3.0 from central in [default]\n",
      "\torg.apache.ws.xmlschema#xmlschema-core;2.3.0 from central in [default]\n",
      "\torg.glassfish.jaxb#txw2;3.0.2 from central in [default]\n",
      "\torg.scala-lang.modules#scala-collection-compat_2.12;2.9.0 from central in [default]\n",
      "\torg.xerial#sqlite-jdbc;3.36.0.1 from central in [default]\n",
      "\t---------------------------------------------------------------------\n",
      "\t|                  |            modules            ||   artifacts   |\n",
      "\t|       conf       | number| search|dwnlded|evicted|| number|dwnlded|\n",
      "\t---------------------------------------------------------------------\n",
      "\t|      default     |   7   |   0   |   0   |   0   ||   7   |   0   |\n",
      "\t---------------------------------------------------------------------\n",
      ":: retrieving :: org.apache.spark#spark-submit-parent-4862f0eb-6c84-4a2e-a656-a498d0280b60\n",
      "\tconfs: [default]\n",
      "\t0 artifacts copied, 7 already retrieved (0kB/16ms)\n",
      "24/10/23 14:13:01 WARN NativeCodeLoader: Unable to load native-hadoop library for your platform... using builtin-java classes where applicable\n",
      "Setting default log level to \"WARN\".\n",
      "To adjust logging level use sc.setLogLevel(newLevel). For SparkR, use setLogLevel(newLevel).\n",
      "24/10/23 14:13:02 WARN SparkConf: Note that spark.local.dir will be overridden by the value set by the cluster manager (via SPARK_LOCAL_DIRS in mesos/standalone/kubernetes and LOCAL_DIRS in YARN).\n"
     ]
    }
   ],
   "source": [
    "import os\n",
    "import pandas as pd\n",
    "\n",
    "import json\n",
    "import yaml\n",
    "\n",
    "import pyspark\n",
    "from pyspark.sql import SparkSession\n",
    "import pyspark.sql.types as t\n",
    "import pyspark.sql.functions as f\n",
    "\n",
    "import rep.spark_functions as sf\n",
    "from rep.notebook_init import init_spark\n",
    "\n",
    "spark = init_spark(\n",
    "    additional_packages=[\"com.databricks:spark-xml_2.12:0.17.0\"]\n",
    ")"
   ]
  },
  {
   "cell_type": "code",
   "execution_count": 10,
   "id": "8c5de7e0",
   "metadata": {},
   "outputs": [
    {
     "data": {
      "text/html": [
       "\n",
       "            <div>\n",
       "                <p><b>SparkSession - in-memory</b></p>\n",
       "                \n",
       "        <div>\n",
       "            <p><b>SparkContext</b></p>\n",
       "\n",
       "            <p><a href=\"http://192.168.16.30:4040\">Spark UI</a></p>\n",
       "\n",
       "            <dl>\n",
       "              <dt>Version</dt>\n",
       "                <dd><code>v3.4.0</code></dd>\n",
       "              <dt>Master</dt>\n",
       "                <dd><code>local[*]</code></dd>\n",
       "              <dt>AppName</dt>\n",
       "                <dd><code>REP</code></dd>\n",
       "            </dl>\n",
       "        </div>\n",
       "        \n",
       "            </div>\n",
       "        "
      ],
      "text/plain": [
       "<pyspark.sql.session.SparkSession at 0x7fcb548f79d0>"
      ]
     },
     "execution_count": 10,
     "metadata": {},
     "output_type": "execute_result"
    }
   ],
   "source": [
    "spark"
   ]
  },
  {
   "cell_type": "raw",
   "id": "01f42532",
   "metadata": {},
   "source": [
    "(\n",
    "    spark.read.parquet(\"/s/project/rep/processed/training_results_v14/gtex_v8_old_dna/models/fset@DNA_only_splice/data.parquet\")\n",
    "    .groupby([\"individual\",\"gene\",\"subtissue\"])\n",
    "    .count()\n",
    "    .filter(f.col(\"count\") > 1)\n",
    "    .sort(\"count\")\n",
    "    .toPandas()\n",
    ")"
   ]
  },
  {
   "cell_type": "code",
   "execution_count": 11,
   "id": "2380645f",
   "metadata": {},
   "outputs": [],
   "source": [
    "outrider_input_path = \"/s/project/abexp_veff/paper_submission/zenodo_user_update1/aberrant_expression_prediction_benchmark.parquet\"\n",
    "vep_input_path = \"/s/project/rep/processed/training_results_v16/gtex_v8_old_dna/models/fset@DNA_only_splice_Enformer_Aparent2_isna_nosv/data.parquet\"\n",
    "# AbExp_input_path = \"/s/project/rep/processed/training_results_v16/gtex_v8_old_dna/predict_folds/subset=all/fset=DNA_only_splice_nosv/gtex_v8_old_dna/dna_only/DNA_only_splice_nosv@train_simplecv.py#lightgbm/data.parquet\"\n",
    "AbExp_input_path = \"/s/project/rep/processed/training_results_v16/gtex_v8_old_dna/predict_folds/subset=all/fset=DNA_only_splice_Enformer_Aparent2_isna_nosv/gtex_v8_old_dna/dna_only/DNA_only_splice_Enformer_Aparent2_isna_nosv@train_simplecv.py#lightgbm/data.parquet\""
   ]
  },
  {
   "cell_type": "code",
   "execution_count": 12,
   "id": "ada736f5",
   "metadata": {},
   "outputs": [],
   "source": [
    "output_path=\"/s/project/rep/processed/training_results_v16/gtex_benchmark_with_annotation_final.parquet\""
   ]
  },
  {
   "cell_type": "code",
   "execution_count": 13,
   "id": "c7f38794",
   "metadata": {},
   "outputs": [],
   "source": [
    "vep_df = spark.read.parquet(vep_input_path)\n",
    "outrider_df = spark.read.parquet(outrider_input_path)\n",
    "AbExp_df = (\n",
    "    spark.read.parquet(AbExp_input_path)\n",
    "    .select([\"individual\", \"gene\", \"subtissue\", \"y_pred_proba\", \"fold\"])\n",
    "    .withColumnRenamed(\"y_pred_proba\", \"AbExp\")\n",
    ")"
   ]
  },
  {
   "cell_type": "code",
   "execution_count": 14,
   "id": "affb15b6",
   "metadata": {},
   "outputs": [],
   "source": [
    "columns_to_keep = [\n",
    "    \"individual\",\n",
    "    \"gene\",\n",
    "    \"tissue\",\n",
    "    \"AbExp\",\n",
    "    \"cadd_raw\",\n",
    "    \"fold\",\n",
    "    \"outlier_state\",\n",
    "    \"theta\",\n",
    "    \"zscore\"\n",
    "]"
   ]
  },
  {
   "cell_type": "code",
   "execution_count": 15,
   "id": "b9bed993",
   "metadata": {},
   "outputs": [
    {
     "name": "stderr",
     "output_type": "stream",
     "text": [
      "                                                                                \r"
     ]
    },
    {
     "data": {
      "text/html": [
       "<div>\n",
       "<style scoped>\n",
       "    .dataframe tbody tr th:only-of-type {\n",
       "        vertical-align: middle;\n",
       "    }\n",
       "\n",
       "    .dataframe tbody tr th {\n",
       "        vertical-align: top;\n",
       "    }\n",
       "\n",
       "    .dataframe thead th {\n",
       "        text-align: right;\n",
       "    }\n",
       "</style>\n",
       "<table border=\"1\" class=\"dataframe\">\n",
       "  <thead>\n",
       "    <tr style=\"text-align: right;\">\n",
       "      <th></th>\n",
       "      <th>individual</th>\n",
       "      <th>gene</th>\n",
       "      <th>subtissue</th>\n",
       "      <th>AbExp</th>\n",
       "      <th>fold</th>\n",
       "    </tr>\n",
       "  </thead>\n",
       "  <tbody>\n",
       "    <tr>\n",
       "      <th>0</th>\n",
       "      <td>GTEX-148VJ</td>\n",
       "      <td>ENSG00000124333</td>\n",
       "      <td>Prostate</td>\n",
       "      <td>-0.002782</td>\n",
       "      <td>1</td>\n",
       "    </tr>\n",
       "  </tbody>\n",
       "</table>\n",
       "</div>"
      ],
      "text/plain": [
       "   individual             gene subtissue     AbExp fold\n",
       "0  GTEX-148VJ  ENSG00000124333  Prostate -0.002782    1"
      ]
     },
     "execution_count": 15,
     "metadata": {},
     "output_type": "execute_result"
    }
   ],
   "source": [
    "(\n",
    "    AbExp_df\n",
    "    .filter(f.col(\"individual\") == \"GTEX-148VJ\")\n",
    "    .filter(f.col(\"gene\") == \"ENSG00000124333\")\n",
    "    .filter(f.col(\"subtissue\") == \"Prostate\")\n",
    "    .toPandas()\n",
    ")"
   ]
  },
  {
   "cell_type": "code",
   "execution_count": 16,
   "id": "366e27a6",
   "metadata": {},
   "outputs": [
    {
     "name": "stderr",
     "output_type": "stream",
     "text": [
      "                                                                                \r"
     ]
    },
    {
     "data": {
      "text/html": [
       "<div>\n",
       "<style scoped>\n",
       "    .dataframe tbody tr th:only-of-type {\n",
       "        vertical-align: middle;\n",
       "    }\n",
       "\n",
       "    .dataframe tbody tr th {\n",
       "        vertical-align: top;\n",
       "    }\n",
       "\n",
       "    .dataframe thead th {\n",
       "        text-align: right;\n",
       "    }\n",
       "</style>\n",
       "<table border=\"1\" class=\"dataframe\">\n",
       "  <thead>\n",
       "    <tr style=\"text-align: right;\">\n",
       "      <th></th>\n",
       "      <th>individual</th>\n",
       "      <th>gene</th>\n",
       "      <th>subtissue</th>\n",
       "      <th>count</th>\n",
       "    </tr>\n",
       "  </thead>\n",
       "  <tbody>\n",
       "    <tr>\n",
       "      <th>0</th>\n",
       "      <td>GTEX-113JC</td>\n",
       "      <td>ENSG00000007341</td>\n",
       "      <td>Cells - Cultured fibroblasts</td>\n",
       "      <td>1</td>\n",
       "    </tr>\n",
       "    <tr>\n",
       "      <th>1</th>\n",
       "      <td>GTEX-113JC</td>\n",
       "      <td>ENSG00000173960</td>\n",
       "      <td>Cells - Cultured fibroblasts</td>\n",
       "      <td>1</td>\n",
       "    </tr>\n",
       "    <tr>\n",
       "      <th>2</th>\n",
       "      <td>GTEX-113JC</td>\n",
       "      <td>ENSG00000121210</td>\n",
       "      <td>Esophagus - Gastroesophageal Junction</td>\n",
       "      <td>1</td>\n",
       "    </tr>\n",
       "    <tr>\n",
       "      <th>3</th>\n",
       "      <td>GTEX-113JC</td>\n",
       "      <td>ENSG00000108389</td>\n",
       "      <td>Skin - Sun Exposed (Lower leg)</td>\n",
       "      <td>1</td>\n",
       "    </tr>\n",
       "    <tr>\n",
       "      <th>4</th>\n",
       "      <td>GTEX-113JC</td>\n",
       "      <td>ENSG00000075089</td>\n",
       "      <td>Uterus</td>\n",
       "      <td>1</td>\n",
       "    </tr>\n",
       "    <tr>\n",
       "      <th>...</th>\n",
       "      <td>...</td>\n",
       "      <td>...</td>\n",
       "      <td>...</td>\n",
       "      <td>...</td>\n",
       "    </tr>\n",
       "    <tr>\n",
       "      <th>99459912</th>\n",
       "      <td>GTEX-ZE7O</td>\n",
       "      <td>ENSG00000174718</td>\n",
       "      <td>Stomach</td>\n",
       "      <td>1</td>\n",
       "    </tr>\n",
       "    <tr>\n",
       "      <th>99459913</th>\n",
       "      <td>GTEX-ZTSS</td>\n",
       "      <td>ENSG00000053770</td>\n",
       "      <td>Thyroid</td>\n",
       "      <td>1</td>\n",
       "    </tr>\n",
       "    <tr>\n",
       "      <th>99459914</th>\n",
       "      <td>GTEX-ZYFG</td>\n",
       "      <td>ENSG00000116106</td>\n",
       "      <td>Artery - Aorta</td>\n",
       "      <td>1</td>\n",
       "    </tr>\n",
       "    <tr>\n",
       "      <th>99459915</th>\n",
       "      <td>GTEX-ZYFG</td>\n",
       "      <td>ENSG00000134575</td>\n",
       "      <td>Artery - Coronary</td>\n",
       "      <td>1</td>\n",
       "    </tr>\n",
       "    <tr>\n",
       "      <th>99459916</th>\n",
       "      <td>GTEX-ZYFG</td>\n",
       "      <td>ENSG00000111877</td>\n",
       "      <td>Esophagus - Gastroesophageal Junction</td>\n",
       "      <td>1</td>\n",
       "    </tr>\n",
       "  </tbody>\n",
       "</table>\n",
       "<p>99459917 rows × 4 columns</p>\n",
       "</div>"
      ],
      "text/plain": [
       "          individual             gene                              subtissue  \\\n",
       "0         GTEX-113JC  ENSG00000007341           Cells - Cultured fibroblasts   \n",
       "1         GTEX-113JC  ENSG00000173960           Cells - Cultured fibroblasts   \n",
       "2         GTEX-113JC  ENSG00000121210  Esophagus - Gastroesophageal Junction   \n",
       "3         GTEX-113JC  ENSG00000108389         Skin - Sun Exposed (Lower leg)   \n",
       "4         GTEX-113JC  ENSG00000075089                                 Uterus   \n",
       "...              ...              ...                                    ...   \n",
       "99459912   GTEX-ZE7O  ENSG00000174718                                Stomach   \n",
       "99459913   GTEX-ZTSS  ENSG00000053770                                Thyroid   \n",
       "99459914   GTEX-ZYFG  ENSG00000116106                         Artery - Aorta   \n",
       "99459915   GTEX-ZYFG  ENSG00000134575                      Artery - Coronary   \n",
       "99459916   GTEX-ZYFG  ENSG00000111877  Esophagus - Gastroesophageal Junction   \n",
       "\n",
       "          count  \n",
       "0             1  \n",
       "1             1  \n",
       "2             1  \n",
       "3             1  \n",
       "4             1  \n",
       "...         ...  \n",
       "99459912      1  \n",
       "99459913      1  \n",
       "99459914      1  \n",
       "99459915      1  \n",
       "99459916      1  \n",
       "\n",
       "[99459917 rows x 4 columns]"
      ]
     },
     "execution_count": 16,
     "metadata": {},
     "output_type": "execute_result"
    }
   ],
   "source": [
    "AbExp_df.groupby([\"individual\",\"gene\",\"subtissue\"]).count().sort(\"count\").toPandas()"
   ]
  },
  {
   "cell_type": "code",
   "execution_count": 17,
   "id": "96b109ac",
   "metadata": {},
   "outputs": [
    {
     "name": "stderr",
     "output_type": "stream",
     "text": [
      "24/10/23 14:14:42 WARN package: Truncated the string representation of a plan since it was too large. This behavior can be adjusted by setting 'spark.sql.debug.maxToStringFields'.\n"
     ]
    }
   ],
   "source": [
    "features_df = AbExp_df.join(\n",
    "    vep_df.drop(*[\n",
    "        \"fold\",\n",
    "        \"theta\",\n",
    "        \"zscore\",\n",
    "    ]),\n",
    "    on=[\"individual\",\"gene\",\"subtissue\"],\n",
    "    how=\"left\"\n",
    ")\n",
    "# using != True also handles NULL values\n",
    "features_df = (\n",
    "    features_df\n",
    "    .withColumnRenamed(\"subtissue\", \"tissue\")\n",
    "    .select([\n",
    "        \"individual\",\n",
    "        \"gene\",\n",
    "        \"tissue\",\n",
    "        \"AbExp\",\n",
    "        *[f.col(f\"`{c}`\").alias(c[8:].replace(\"features.\", \"\")) for c in vep_df.columns if c.startswith(\"feature\")],\n",
    "        # \"is_obvious_outlier\",\n",
    "    ])\n",
    ")\n",
    "\n",
    "joined = (\n",
    "    outrider_df\n",
    "    .join(features_df, on=[\"individual\", \"gene\", \"tissue\"], how=\"left\")\n",
    "    .filter(f.col(\"is_in_benchmark\"))\n",
    "    .sort([\n",
    "        \"individual\",\n",
    "        \"gene\",\n",
    "        \"tissue_type\",\n",
    "        \"tissue\",\n",
    "    ])\n",
    "    .persist()\n",
    ")"
   ]
  },
  {
   "cell_type": "code",
   "execution_count": 18,
   "id": "2738c232",
   "metadata": {},
   "outputs": [
    {
     "name": "stdout",
     "output_type": "stream",
     "text": [
      "root\n",
      " |-- individual: string (nullable = true)\n",
      " |-- gene: string (nullable = true)\n",
      " |-- tissue: string (nullable = true)\n",
      " |-- tissue_type: string (nullable = true)\n",
      " |-- mu: float (nullable = true)\n",
      " |-- theta: float (nullable = true)\n",
      " |-- counts: integer (nullable = true)\n",
      " |-- normalized_counts: double (nullable = true)\n",
      " |-- l2fc: float (nullable = true)\n",
      " |-- zscore: float (nullable = true)\n",
      " |-- nominal_pvalue: double (nullable = true)\n",
      " |-- FDR: double (nullable = true)\n",
      " |-- is_in_benchmark: boolean (nullable = true)\n",
      " |-- is_underexpressed_outlier: boolean (nullable = true)\n",
      " |-- AbExp: double (nullable = true)\n",
      " |-- aparent2@Aparent2: double (nullable = true)\n",
      " |-- aparent2@is_near_pas: boolean (nullable = true)\n",
      " |-- enformer@Enformer: float (nullable = true)\n",
      " |-- splice_ensemble@AbSplice: double (nullable = true)\n",
      " |-- splice_ensemble@MMSplice_SpliceMap_Psi_ref: double (nullable = true)\n",
      " |-- splice_ensemble@SpliceAI: double (nullable = true)\n",
      " |-- vep@cadd_raw.max: float (nullable = true)\n",
      " |-- vep@LoF_HC.proportion: float (nullable = true)\n",
      " |-- vep@transcript_ablation.proportion: float (nullable = true)\n",
      " |-- vep@stop_gained.proportion: float (nullable = true)\n",
      " |-- vep@frameshift_variant.proportion: float (nullable = true)\n",
      " |-- vep@coding_sequence_variant.proportion: float (nullable = true)\n",
      " |-- vep@missense_variant.proportion: float (nullable = true)\n",
      " |-- vep@inframe_deletion.proportion: float (nullable = true)\n",
      " |-- vep@inframe_insertion.proportion: float (nullable = true)\n",
      " |-- vep@stop_lost.proportion: float (nullable = true)\n",
      " |-- vep@3_prime_UTR_variant.proportion: float (nullable = true)\n",
      " |-- vep@5_prime_UTR_variant.proportion: float (nullable = true)\n",
      " |-- vep@NMD_transcript_variant.proportion: float (nullable = true)\n",
      " |-- vep@NMD_escaping_variant.proportion: float (nullable = true)\n",
      " |-- vep@start_lost.proportion: float (nullable = true)\n",
      " |-- vep@splice_donor_variant.proportion: float (nullable = true)\n",
      " |-- vep@splice_acceptor_variant.proportion: float (nullable = true)\n",
      " |-- vep@splice_region_variant.proportion: float (nullable = true)\n",
      " |-- expected_expr@theta: float (nullable = true)\n",
      "\n"
     ]
    }
   ],
   "source": [
    "joined.printSchema()"
   ]
  },
  {
   "cell_type": "code",
   "execution_count": 19,
   "id": "e42d9a74",
   "metadata": {},
   "outputs": [
    {
     "name": "stderr",
     "output_type": "stream",
     "text": [
      "                                                                                \r"
     ]
    }
   ],
   "source": [
    "joined.write.parquet(output_path, mode=\"overwrite\")"
   ]
  },
  {
   "cell_type": "code",
   "execution_count": 20,
   "id": "5f7efef9",
   "metadata": {},
   "outputs": [
    {
     "data": {
      "text/html": [
       "<div>\n",
       "<style scoped>\n",
       "    .dataframe tbody tr th:only-of-type {\n",
       "        vertical-align: middle;\n",
       "    }\n",
       "\n",
       "    .dataframe tbody tr th {\n",
       "        vertical-align: top;\n",
       "    }\n",
       "\n",
       "    .dataframe thead th {\n",
       "        text-align: right;\n",
       "    }\n",
       "</style>\n",
       "<table border=\"1\" class=\"dataframe\">\n",
       "  <thead>\n",
       "    <tr style=\"text-align: right;\">\n",
       "      <th></th>\n",
       "      <th>is_underexpressed_outlier</th>\n",
       "      <th>count</th>\n",
       "    </tr>\n",
       "  </thead>\n",
       "  <tbody>\n",
       "    <tr>\n",
       "      <th>0</th>\n",
       "      <td>True</td>\n",
       "      <td>11200</td>\n",
       "    </tr>\n",
       "    <tr>\n",
       "      <th>1</th>\n",
       "      <td>False</td>\n",
       "      <td>99448717</td>\n",
       "    </tr>\n",
       "  </tbody>\n",
       "</table>\n",
       "</div>"
      ],
      "text/plain": [
       "   is_underexpressed_outlier     count\n",
       "0                       True     11200\n",
       "1                      False  99448717"
      ]
     },
     "execution_count": 20,
     "metadata": {},
     "output_type": "execute_result"
    }
   ],
   "source": [
    "spark.read.parquet(output_path).groupby([\n",
    "    \"is_underexpressed_outlier\",\n",
    "]).count().toPandas()"
   ]
  },
  {
   "cell_type": "code",
   "execution_count": null,
   "id": "38b19a5b-8c3a-4bf6-9d42-bf85c2b4b2e3",
   "metadata": {},
   "outputs": [],
   "source": []
  }
 ],
 "metadata": {
  "kernelspec": {
   "display_name": "Python [conda env:anaconda-florian4]",
   "language": "python",
   "name": "conda-env-anaconda-florian4-py"
  },
  "language_info": {
   "codemirror_mode": {
    "name": "ipython",
    "version": 3
   },
   "file_extension": ".py",
   "mimetype": "text/x-python",
   "name": "python",
   "nbconvert_exporter": "python",
   "pygments_lexer": "ipython3",
   "version": "3.9.9"
  }
 },
 "nbformat": 4,
 "nbformat_minor": 5
}
