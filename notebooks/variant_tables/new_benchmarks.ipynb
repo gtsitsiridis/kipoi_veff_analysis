{
 "cells": [
  {
   "cell_type": "code",
   "execution_count": 11,
   "id": "6ae324fa-021d-4098-9b12-9fc21f9e57cb",
   "metadata": {},
   "outputs": [],
   "source": [
    "import polars as pl\n",
    "from pathlib import Path"
   ]
  },
  {
   "cell_type": "code",
   "execution_count": 12,
   "id": "faba5409-f440-490c-a308-31bc4540aff0",
   "metadata": {},
   "outputs": [],
   "source": [
    "benchmark_path = '/s/project/rep/processed/training_results_v15/gtex_benchmark_with_annotation.parquet/*.parquet'\n",
    "genotypes_path = '/s/project/rep/processed/training_results_v15/gtex_v8_old_dna/private_variants.parquet/rare_variants.vcf.parquet/**/*.parquet'\n",
    "tss_variant_path = '/data/nasif12/home_if12/tsi/kipoi_expression_prediction/variant_tables/tss_variants_50_500.parquet'\n",
    "apa_variant_path = '/data/nasif12/home_if12/tsi/kipoi_expression_prediction/variant_tables/apa_variants_70_130.parquet'"
   ]
  },
  {
   "cell_type": "code",
   "execution_count": 13,
   "id": "905f30ce-bdf1-4b66-b3bb-64bdaa25d2d4",
   "metadata": {},
   "outputs": [],
   "source": [
    "tss_variant_df = pl.scan_parquet(tss_variant_path).with_columns(\n",
    "    pl.col('gene_id').str.replace(r'([^\\.]+)\\..+$', \"${1}\").alias('gene'),\n",
    ").select(['gene', 'chrom', 'variant_start', 'variant_end', 'ref', 'alt'])\n",
    "apa_variant_df = pl.scan_parquet(apa_variant_path).with_columns(\n",
    "    pl.col('gene_id').str.replace(r'([^\\.]+)\\..+$', \"${1}\").alias('gene'),\n",
    ").select(['gene', 'chrom', 'variant_start', 'variant_end', 'ref', 'alt'])\n",
    "benchmark_df = pl.scan_parquet(benchmark_path)\n",
    "genotypes_df = pl.scan_parquet(genotypes_path, hive_partitioning=True).select(\n",
    "    ['sampleId', 'chrom', 'start', 'end', 'ref', 'alt']).rename(\n",
    "    {'sampleId': 'individual',\n",
    "     'start': 'variant_start',\n",
    "     'end': 'variant_end', })"
   ]
  },
  {
   "cell_type": "code",
   "execution_count": 14,
   "id": "4d795e59-ec68-4ca7-b475-415ee65b2240",
   "metadata": {},
   "outputs": [
    {
     "data": {
      "text/html": [
       "<div><style>\n",
       ".dataframe > thead > tr,\n",
       ".dataframe > tbody > tr {\n",
       "  text-align: right;\n",
       "  white-space: pre-wrap;\n",
       "}\n",
       "</style>\n",
       "<small>shape: (5, 6)</small><table border=\"1\" class=\"dataframe\"><thead><tr><th>gene</th><th>chrom</th><th>variant_start</th><th>variant_end</th><th>ref</th><th>alt</th></tr><tr><td>str</td><td>str</td><td>i64</td><td>i64</td><td>str</td><td>str</td></tr></thead><tbody><tr><td>&quot;ENSG00000184481&quot;</td><td>&quot;chrX&quot;</td><td>70315840</td><td>70315841</td><td>&quot;C&quot;</td><td>&quot;G&quot;</td></tr><tr><td>&quot;ENSG00000184481&quot;</td><td>&quot;chrX&quot;</td><td>70315994</td><td>70315995</td><td>&quot;A&quot;</td><td>&quot;G&quot;</td></tr><tr><td>&quot;ENSG00000184481&quot;</td><td>&quot;chrX&quot;</td><td>70316097</td><td>70316098</td><td>&quot;T&quot;</td><td>&quot;C&quot;</td></tr><tr><td>&quot;ENSG00000184481&quot;</td><td>&quot;chrX&quot;</td><td>70316097</td><td>70316098</td><td>&quot;T&quot;</td><td>&quot;C&quot;</td></tr><tr><td>&quot;ENSG00000184481&quot;</td><td>&quot;chrX&quot;</td><td>70319566</td><td>70319567</td><td>&quot;A&quot;</td><td>&quot;T&quot;</td></tr></tbody></table></div>"
      ],
      "text/plain": [
       "shape: (5, 6)\n",
       "┌─────────────────┬───────┬───────────────┬─────────────┬─────┬─────┐\n",
       "│ gene            ┆ chrom ┆ variant_start ┆ variant_end ┆ ref ┆ alt │\n",
       "│ ---             ┆ ---   ┆ ---           ┆ ---         ┆ --- ┆ --- │\n",
       "│ str             ┆ str   ┆ i64           ┆ i64         ┆ str ┆ str │\n",
       "╞═════════════════╪═══════╪═══════════════╪═════════════╪═════╪═════╡\n",
       "│ ENSG00000184481 ┆ chrX  ┆ 70315840      ┆ 70315841    ┆ C   ┆ G   │\n",
       "│ ENSG00000184481 ┆ chrX  ┆ 70315994      ┆ 70315995    ┆ A   ┆ G   │\n",
       "│ ENSG00000184481 ┆ chrX  ┆ 70316097      ┆ 70316098    ┆ T   ┆ C   │\n",
       "│ ENSG00000184481 ┆ chrX  ┆ 70316097      ┆ 70316098    ┆ T   ┆ C   │\n",
       "│ ENSG00000184481 ┆ chrX  ┆ 70319566      ┆ 70319567    ┆ A   ┆ T   │\n",
       "└─────────────────┴───────┴───────────────┴─────────────┴─────┴─────┘"
      ]
     },
     "execution_count": 14,
     "metadata": {},
     "output_type": "execute_result"
    }
   ],
   "source": [
    "tss_variant_df.head().collect()"
   ]
  },
  {
   "cell_type": "code",
   "execution_count": 15,
   "id": "a029b39a-b997-4fc8-8b61-e0cf64cb4647",
   "metadata": {},
   "outputs": [
    {
     "data": {
      "text/html": [
       "<div><style>\n",
       ".dataframe > thead > tr,\n",
       ".dataframe > tbody > tr {\n",
       "  text-align: right;\n",
       "  white-space: pre-wrap;\n",
       "}\n",
       "</style>\n",
       "<small>shape: (5, 6)</small><table border=\"1\" class=\"dataframe\"><thead><tr><th>gene</th><th>chrom</th><th>variant_start</th><th>variant_end</th><th>ref</th><th>alt</th></tr><tr><td>str</td><td>str</td><td>i64</td><td>i64</td><td>str</td><td>str</td></tr></thead><tbody><tr><td>&quot;ENSG00000184481&quot;</td><td>&quot;chrX&quot;</td><td>70320652</td><td>70320653</td><td>&quot;C&quot;</td><td>&quot;T&quot;</td></tr><tr><td>&quot;ENSG00000184481&quot;</td><td>&quot;chrX&quot;</td><td>70320652</td><td>70320653</td><td>&quot;C&quot;</td><td>&quot;T&quot;</td></tr><tr><td>&quot;ENSG00000184634&quot;</td><td>&quot;chrX&quot;</td><td>70344989</td><td>70344990</td><td>&quot;C&quot;</td><td>&quot;T&quot;</td></tr><tr><td>&quot;ENSG00000184634&quot;</td><td>&quot;chrX&quot;</td><td>70346868</td><td>70346869</td><td>&quot;G&quot;</td><td>&quot;A&quot;</td></tr><tr><td>&quot;ENSG00000184634&quot;</td><td>&quot;chrX&quot;</td><td>70346868</td><td>70346869</td><td>&quot;G&quot;</td><td>&quot;A&quot;</td></tr></tbody></table></div>"
      ],
      "text/plain": [
       "shape: (5, 6)\n",
       "┌─────────────────┬───────┬───────────────┬─────────────┬─────┬─────┐\n",
       "│ gene            ┆ chrom ┆ variant_start ┆ variant_end ┆ ref ┆ alt │\n",
       "│ ---             ┆ ---   ┆ ---           ┆ ---         ┆ --- ┆ --- │\n",
       "│ str             ┆ str   ┆ i64           ┆ i64         ┆ str ┆ str │\n",
       "╞═════════════════╪═══════╪═══════════════╪═════════════╪═════╪═════╡\n",
       "│ ENSG00000184481 ┆ chrX  ┆ 70320652      ┆ 70320653    ┆ C   ┆ T   │\n",
       "│ ENSG00000184481 ┆ chrX  ┆ 70320652      ┆ 70320653    ┆ C   ┆ T   │\n",
       "│ ENSG00000184634 ┆ chrX  ┆ 70344989      ┆ 70344990    ┆ C   ┆ T   │\n",
       "│ ENSG00000184634 ┆ chrX  ┆ 70346868      ┆ 70346869    ┆ G   ┆ A   │\n",
       "│ ENSG00000184634 ┆ chrX  ┆ 70346868      ┆ 70346869    ┆ G   ┆ A   │\n",
       "└─────────────────┴───────┴───────────────┴─────────────┴─────┴─────┘"
      ]
     },
     "execution_count": 15,
     "metadata": {},
     "output_type": "execute_result"
    }
   ],
   "source": [
    "apa_variant_df.head().collect()"
   ]
  },
  {
   "cell_type": "code",
   "execution_count": 16,
   "id": "465429bb-a5ad-4eca-88e8-b5edb0f349f7",
   "metadata": {},
   "outputs": [
    {
     "data": {
      "text/html": [
       "<div><style>\n",
       ".dataframe > thead > tr,\n",
       ".dataframe > tbody > tr {\n",
       "  text-align: right;\n",
       "  white-space: pre-wrap;\n",
       "}\n",
       "</style>\n",
       "<small>shape: (5, 38)</small><table border=\"1\" class=\"dataframe\"><thead><tr><th>individual</th><th>gene</th><th>tissue</th><th>tissue_type</th><th>mu</th><th>theta</th><th>counts</th><th>normalized_counts</th><th>l2fc</th><th>zscore</th><th>nominal_pvalue</th><th>FDR</th><th>is_in_benchmark</th><th>is_underexpressed_outlier</th><th>AbExp</th><th>expected_expr@theta</th><th>splice_ensemble@AbSplice</th><th>splice_ensemble@MMSplice_SpliceMap_Psi_ref</th><th>splice_ensemble@SpliceAI</th><th>vep@cadd_raw.max</th><th>vep@LoF_HC.max</th><th>vep@transcript_ablation.max</th><th>vep@stop_gained.max</th><th>vep@frameshift_variant.max</th><th>vep@coding_sequence_variant.max</th><th>vep@missense_variant.max</th><th>vep@inframe_deletion.max</th><th>vep@inframe_insertion.max</th><th>vep@stop_lost.max</th><th>vep@3_prime_UTR_variant.max</th><th>vep@5_prime_UTR_variant.max</th><th>vep@NMD_transcript_variant.max</th><th>vep@NMD_escaping_variant.max</th><th>vep@start_lost.max</th><th>vep@splice_donor_variant.max</th><th>vep@splice_acceptor_variant.max</th><th>vep@splice_region_variant.max</th><th>is_obvious_outlier</th></tr><tr><td>str</td><td>str</td><td>str</td><td>str</td><td>f32</td><td>f32</td><td>i32</td><td>f64</td><td>f32</td><td>f32</td><td>f64</td><td>f64</td><td>bool</td><td>bool</td><td>f64</td><td>f32</td><td>f64</td><td>f64</td><td>f64</td><td>f32</td><td>bool</td><td>bool</td><td>bool</td><td>bool</td><td>bool</td><td>bool</td><td>bool</td><td>bool</td><td>bool</td><td>bool</td><td>bool</td><td>bool</td><td>bool</td><td>bool</td><td>bool</td><td>bool</td><td>bool</td><td>bool</td></tr></thead><tbody><tr><td>&quot;GTEX-1117F&quot;</td><td>&quot;ENSG00000000003&quot;</td><td>&quot;Adipose - Subcutaneous&quot;</td><td>&quot;Adipose Tissue&quot;</td><td>1135.241089</td><td>78.591827</td><td>1173</td><td>1653.796398</td><td>0.047163</td><td>0.323383</td><td>0.752009</td><td>1.0</td><td>true</td><td>false</td><td>-0.002567</td><td>78.591827</td><td>null</td><td>null</td><td>null</td><td>null</td><td>null</td><td>null</td><td>null</td><td>null</td><td>null</td><td>null</td><td>null</td><td>null</td><td>null</td><td>null</td><td>null</td><td>null</td><td>null</td><td>null</td><td>null</td><td>null</td><td>null</td><td>false</td></tr><tr><td>&quot;GTEX-1117F&quot;</td><td>&quot;ENSG00000000003&quot;</td><td>&quot;Adipose - Visceral (Omentum)&quot;</td><td>&quot;Adipose Tissue&quot;</td><td>1673.81189</td><td>45.643147</td><td>1874</td><td>1684.855628</td><td>0.162892</td><td>0.818604</td><td>0.415125</td><td>1.0</td><td>true</td><td>false</td><td>-0.002567</td><td>45.643147</td><td>null</td><td>null</td><td>null</td><td>null</td><td>null</td><td>null</td><td>null</td><td>null</td><td>null</td><td>null</td><td>null</td><td>null</td><td>null</td><td>null</td><td>null</td><td>null</td><td>null</td><td>null</td><td>null</td><td>null</td><td>null</td><td>false</td></tr><tr><td>&quot;GTEX-1117F&quot;</td><td>&quot;ENSG00000000003&quot;</td><td>&quot;Artery - Coronary&quot;</td><td>&quot;Blood Vessel&quot;</td><td>958.796692</td><td>54.65052</td><td>1414</td><td>718.418106</td><td>0.560001</td><td>3.042509</td><td>0.002392</td><td>1.0</td><td>true</td><td>false</td><td>-0.002567</td><td>54.65052</td><td>null</td><td>null</td><td>null</td><td>null</td><td>null</td><td>null</td><td>null</td><td>null</td><td>null</td><td>null</td><td>null</td><td>null</td><td>null</td><td>null</td><td>null</td><td>null</td><td>null</td><td>null</td><td>null</td><td>null</td><td>null</td><td>false</td></tr><tr><td>&quot;GTEX-1117F&quot;</td><td>&quot;ENSG00000000003&quot;</td><td>&quot;Breast - Mammary Tissue&quot;</td><td>&quot;Breast&quot;</td><td>2295.427734</td><td>59.121643</td><td>2476</td><td>1993.721864</td><td>0.109203</td><td>0.627099</td><td>0.532658</td><td>1.0</td><td>true</td><td>false</td><td>-0.002567</td><td>59.121643</td><td>null</td><td>null</td><td>null</td><td>null</td><td>null</td><td>null</td><td>null</td><td>null</td><td>null</td><td>null</td><td>null</td><td>null</td><td>null</td><td>null</td><td>null</td><td>null</td><td>null</td><td>null</td><td>null</td><td>null</td><td>null</td><td>false</td></tr><tr><td>&quot;GTEX-1117F&quot;</td><td>&quot;ENSG00000000003&quot;</td><td>&quot;Minor Salivary Gland&quot;</td><td>&quot;Salivary Gland&quot;</td><td>1206.162109</td><td>83.073303</td><td>1290</td><td>2047.137887</td><td>0.09687</td><td>0.639452</td><td>0.52709</td><td>1.0</td><td>true</td><td>false</td><td>-0.002567</td><td>83.073303</td><td>null</td><td>null</td><td>null</td><td>null</td><td>null</td><td>null</td><td>null</td><td>null</td><td>null</td><td>null</td><td>null</td><td>null</td><td>null</td><td>null</td><td>null</td><td>null</td><td>null</td><td>null</td><td>null</td><td>null</td><td>null</td><td>false</td></tr></tbody></table></div>"
      ],
      "text/plain": [
       "shape: (5, 38)\n",
       "┌───────────┬───────────┬───────────┬───────────┬───┬───────────┬───────────┬───────────┬──────────┐\n",
       "│ individua ┆ gene      ┆ tissue    ┆ tissue_ty ┆ … ┆ vep@splic ┆ vep@splic ┆ vep@splic ┆ is_obvio │\n",
       "│ l         ┆ ---       ┆ ---       ┆ pe        ┆   ┆ e_donor_v ┆ e_accepto ┆ e_region_ ┆ us_outli │\n",
       "│ ---       ┆ str       ┆ str       ┆ ---       ┆   ┆ ariant.ma ┆ r_variant ┆ variant.m ┆ er       │\n",
       "│ str       ┆           ┆           ┆ str       ┆   ┆ x         ┆ .ma…      ┆ ax        ┆ ---      │\n",
       "│           ┆           ┆           ┆           ┆   ┆ ---       ┆ ---       ┆ ---       ┆ bool     │\n",
       "│           ┆           ┆           ┆           ┆   ┆ bool      ┆ bool      ┆ bool      ┆          │\n",
       "╞═══════════╪═══════════╪═══════════╪═══════════╪═══╪═══════════╪═══════════╪═══════════╪══════════╡\n",
       "│ GTEX-1117 ┆ ENSG00000 ┆ Adipose - ┆ Adipose   ┆ … ┆ null      ┆ null      ┆ null      ┆ false    │\n",
       "│ F         ┆ 000003    ┆ Subcutane ┆ Tissue    ┆   ┆           ┆           ┆           ┆          │\n",
       "│           ┆           ┆ ous       ┆           ┆   ┆           ┆           ┆           ┆          │\n",
       "│ GTEX-1117 ┆ ENSG00000 ┆ Adipose - ┆ Adipose   ┆ … ┆ null      ┆ null      ┆ null      ┆ false    │\n",
       "│ F         ┆ 000003    ┆ Visceral  ┆ Tissue    ┆   ┆           ┆           ┆           ┆          │\n",
       "│           ┆           ┆ (Omentum) ┆           ┆   ┆           ┆           ┆           ┆          │\n",
       "│ GTEX-1117 ┆ ENSG00000 ┆ Artery -  ┆ Blood     ┆ … ┆ null      ┆ null      ┆ null      ┆ false    │\n",
       "│ F         ┆ 000003    ┆ Coronary  ┆ Vessel    ┆   ┆           ┆           ┆           ┆          │\n",
       "│ GTEX-1117 ┆ ENSG00000 ┆ Breast -  ┆ Breast    ┆ … ┆ null      ┆ null      ┆ null      ┆ false    │\n",
       "│ F         ┆ 000003    ┆ Mammary   ┆           ┆   ┆           ┆           ┆           ┆          │\n",
       "│           ┆           ┆ Tissue    ┆           ┆   ┆           ┆           ┆           ┆          │\n",
       "│ GTEX-1117 ┆ ENSG00000 ┆ Minor     ┆ Salivary  ┆ … ┆ null      ┆ null      ┆ null      ┆ false    │\n",
       "│ F         ┆ 000003    ┆ Salivary  ┆ Gland     ┆   ┆           ┆           ┆           ┆          │\n",
       "│           ┆           ┆ Gland     ┆           ┆   ┆           ┆           ┆           ┆          │\n",
       "└───────────┴───────────┴───────────┴───────────┴───┴───────────┴───────────┴───────────┴──────────┘"
      ]
     },
     "execution_count": 16,
     "metadata": {},
     "output_type": "execute_result"
    }
   ],
   "source": [
    "benchmark_df.head().collect()"
   ]
  },
  {
   "cell_type": "code",
   "execution_count": 17,
   "id": "dea48bb3-191a-4794-a746-733137027cec",
   "metadata": {},
   "outputs": [
    {
     "data": {
      "text/html": [
       "<div><style>\n",
       ".dataframe > thead > tr,\n",
       ".dataframe > tbody > tr {\n",
       "  text-align: right;\n",
       "  white-space: pre-wrap;\n",
       "}\n",
       "</style>\n",
       "<small>shape: (5, 6)</small><table border=\"1\" class=\"dataframe\"><thead><tr><th>individual</th><th>chrom</th><th>variant_start</th><th>variant_end</th><th>ref</th><th>alt</th></tr><tr><td>str</td><td>str</td><td>i64</td><td>i64</td><td>str</td><td>str</td></tr></thead><tbody><tr><td>&quot;GTEX-1117F&quot;</td><td>&quot;chr1&quot;</td><td>133957</td><td>133960</td><td>&quot;CCT&quot;</td><td>&quot;C&quot;</td></tr><tr><td>&quot;GTEX-1117F&quot;</td><td>&quot;chr1&quot;</td><td>234426</td><td>234434</td><td>&quot;GACACACC&quot;</td><td>&quot;G&quot;</td></tr><tr><td>&quot;GTEX-1117F&quot;</td><td>&quot;chr1&quot;</td><td>234436</td><td>234437</td><td>&quot;A&quot;</td><td>&quot;ATG&quot;</td></tr><tr><td>&quot;GTEX-1117F&quot;</td><td>&quot;chr1&quot;</td><td>532044</td><td>532045</td><td>&quot;C&quot;</td><td>&quot;A&quot;</td></tr><tr><td>&quot;GTEX-1117F&quot;</td><td>&quot;chr1&quot;</td><td>819127</td><td>819128</td><td>&quot;G&quot;</td><td>&quot;A&quot;</td></tr></tbody></table></div>"
      ],
      "text/plain": [
       "shape: (5, 6)\n",
       "┌────────────┬───────┬───────────────┬─────────────┬──────────┬─────┐\n",
       "│ individual ┆ chrom ┆ variant_start ┆ variant_end ┆ ref      ┆ alt │\n",
       "│ ---        ┆ ---   ┆ ---           ┆ ---         ┆ ---      ┆ --- │\n",
       "│ str        ┆ str   ┆ i64           ┆ i64         ┆ str      ┆ str │\n",
       "╞════════════╪═══════╪═══════════════╪═════════════╪══════════╪═════╡\n",
       "│ GTEX-1117F ┆ chr1  ┆ 133957        ┆ 133960      ┆ CCT      ┆ C   │\n",
       "│ GTEX-1117F ┆ chr1  ┆ 234426        ┆ 234434      ┆ GACACACC ┆ G   │\n",
       "│ GTEX-1117F ┆ chr1  ┆ 234436        ┆ 234437      ┆ A        ┆ ATG │\n",
       "│ GTEX-1117F ┆ chr1  ┆ 532044        ┆ 532045      ┆ C        ┆ A   │\n",
       "│ GTEX-1117F ┆ chr1  ┆ 819127        ┆ 819128      ┆ G        ┆ A   │\n",
       "└────────────┴───────┴───────────────┴─────────────┴──────────┴─────┘"
      ]
     },
     "execution_count": 17,
     "metadata": {},
     "output_type": "execute_result"
    }
   ],
   "source": [
    "genotypes_df.head().collect()"
   ]
  },
  {
   "cell_type": "code",
   "execution_count": 18,
   "id": "f0e424c4-4375-445d-810b-5d3babd3f85d",
   "metadata": {},
   "outputs": [
    {
     "data": {
      "text/html": [
       "<div><style>\n",
       ".dataframe > thead > tr,\n",
       ".dataframe > tbody > tr {\n",
       "  text-align: right;\n",
       "  white-space: pre-wrap;\n",
       "}\n",
       "</style>\n",
       "<small>shape: (5, 7)</small><table border=\"1\" class=\"dataframe\"><thead><tr><th>individual</th><th>chrom</th><th>variant_start</th><th>variant_end</th><th>ref</th><th>alt</th><th>gene</th></tr><tr><td>str</td><td>str</td><td>i64</td><td>i64</td><td>str</td><td>str</td><td>str</td></tr></thead><tbody><tr><td>&quot;GTEX-1117F&quot;</td><td>&quot;chr1&quot;</td><td>3566597</td><td>3566598</td><td>&quot;G&quot;</td><td>&quot;A&quot;</td><td>&quot;ENSG00000116213&quot;</td></tr><tr><td>&quot;GTEX-1117F&quot;</td><td>&quot;chr1&quot;</td><td>3566597</td><td>3566598</td><td>&quot;G&quot;</td><td>&quot;A&quot;</td><td>&quot;ENSG00000116213&quot;</td></tr><tr><td>&quot;GTEX-1117F&quot;</td><td>&quot;chr1&quot;</td><td>3566597</td><td>3566598</td><td>&quot;G&quot;</td><td>&quot;A&quot;</td><td>&quot;ENSG00000116213&quot;</td></tr><tr><td>&quot;GTEX-1117F&quot;</td><td>&quot;chr1&quot;</td><td>3566597</td><td>3566598</td><td>&quot;G&quot;</td><td>&quot;A&quot;</td><td>&quot;ENSG00000116213&quot;</td></tr><tr><td>&quot;GTEX-1117F&quot;</td><td>&quot;chr1&quot;</td><td>3566597</td><td>3566598</td><td>&quot;G&quot;</td><td>&quot;A&quot;</td><td>&quot;ENSG00000116213&quot;</td></tr></tbody></table></div>"
      ],
      "text/plain": [
       "shape: (5, 7)\n",
       "┌────────────┬───────┬───────────────┬─────────────┬─────┬─────┬─────────────────┐\n",
       "│ individual ┆ chrom ┆ variant_start ┆ variant_end ┆ ref ┆ alt ┆ gene            │\n",
       "│ ---        ┆ ---   ┆ ---           ┆ ---         ┆ --- ┆ --- ┆ ---             │\n",
       "│ str        ┆ str   ┆ i64           ┆ i64         ┆ str ┆ str ┆ str             │\n",
       "╞════════════╪═══════╪═══════════════╪═════════════╪═════╪═════╪═════════════════╡\n",
       "│ GTEX-1117F ┆ chr1  ┆ 3566597       ┆ 3566598     ┆ G   ┆ A   ┆ ENSG00000116213 │\n",
       "│ GTEX-1117F ┆ chr1  ┆ 3566597       ┆ 3566598     ┆ G   ┆ A   ┆ ENSG00000116213 │\n",
       "│ GTEX-1117F ┆ chr1  ┆ 3566597       ┆ 3566598     ┆ G   ┆ A   ┆ ENSG00000116213 │\n",
       "│ GTEX-1117F ┆ chr1  ┆ 3566597       ┆ 3566598     ┆ G   ┆ A   ┆ ENSG00000116213 │\n",
       "│ GTEX-1117F ┆ chr1  ┆ 3566597       ┆ 3566598     ┆ G   ┆ A   ┆ ENSG00000116213 │\n",
       "└────────────┴───────┴───────────────┴─────────────┴─────┴─────┴─────────────────┘"
      ]
     },
     "execution_count": 18,
     "metadata": {},
     "output_type": "execute_result"
    }
   ],
   "source": [
    "tss_genotypes_df = genotypes_df.join(tss_variant_df, on=['chrom', 'variant_start', 'variant_end', 'ref', 'alt'], how='inner')\n",
    "tss_genotypes_df.head().collect()"
   ]
  },
  {
   "cell_type": "code",
   "execution_count": 19,
   "id": "0003c14a-0edf-4ca6-825f-fee296c994ff",
   "metadata": {},
   "outputs": [
    {
     "data": {
      "text/html": [
       "<div><style>\n",
       ".dataframe > thead > tr,\n",
       ".dataframe > tbody > tr {\n",
       "  text-align: right;\n",
       "  white-space: pre-wrap;\n",
       "}\n",
       "</style>\n",
       "<small>shape: (5, 7)</small><table border=\"1\" class=\"dataframe\"><thead><tr><th>individual</th><th>chrom</th><th>variant_start</th><th>variant_end</th><th>ref</th><th>alt</th><th>gene</th></tr><tr><td>str</td><td>str</td><td>i64</td><td>i64</td><td>str</td><td>str</td><td>str</td></tr></thead><tbody><tr><td>&quot;GTEX-1117F&quot;</td><td>&quot;chr1&quot;</td><td>8073460</td><td>8073461</td><td>&quot;G&quot;</td><td>&quot;A&quot;</td><td>&quot;ENSG00000116285&quot;</td></tr><tr><td>&quot;GTEX-1117F&quot;</td><td>&quot;chr1&quot;</td><td>15687051</td><td>15687052</td><td>&quot;G&quot;</td><td>&quot;A&quot;</td><td>&quot;ENSG00000142621&quot;</td></tr><tr><td>&quot;GTEX-1117F&quot;</td><td>&quot;chr1&quot;</td><td>15773112</td><td>15773113</td><td>&quot;C&quot;</td><td>&quot;T&quot;</td><td>&quot;ENSG00000162438&quot;</td></tr><tr><td>&quot;GTEX-1117F&quot;</td><td>&quot;chr1&quot;</td><td>20412776</td><td>20412777</td><td>&quot;T&quot;</td><td>&quot;C&quot;</td><td>&quot;ENSG00000127472&quot;</td></tr><tr><td>&quot;GTEX-1117F&quot;</td><td>&quot;chr1&quot;</td><td>25170827</td><td>25170828</td><td>&quot;A&quot;</td><td>&quot;AT&quot;</td><td>&quot;ENSG00000169504&quot;</td></tr></tbody></table></div>"
      ],
      "text/plain": [
       "shape: (5, 7)\n",
       "┌────────────┬───────┬───────────────┬─────────────┬─────┬─────┬─────────────────┐\n",
       "│ individual ┆ chrom ┆ variant_start ┆ variant_end ┆ ref ┆ alt ┆ gene            │\n",
       "│ ---        ┆ ---   ┆ ---           ┆ ---         ┆ --- ┆ --- ┆ ---             │\n",
       "│ str        ┆ str   ┆ i64           ┆ i64         ┆ str ┆ str ┆ str             │\n",
       "╞════════════╪═══════╪═══════════════╪═════════════╪═════╪═════╪═════════════════╡\n",
       "│ GTEX-1117F ┆ chr1  ┆ 8073460       ┆ 8073461     ┆ G   ┆ A   ┆ ENSG00000116285 │\n",
       "│ GTEX-1117F ┆ chr1  ┆ 15687051      ┆ 15687052    ┆ G   ┆ A   ┆ ENSG00000142621 │\n",
       "│ GTEX-1117F ┆ chr1  ┆ 15773112      ┆ 15773113    ┆ C   ┆ T   ┆ ENSG00000162438 │\n",
       "│ GTEX-1117F ┆ chr1  ┆ 20412776      ┆ 20412777    ┆ T   ┆ C   ┆ ENSG00000127472 │\n",
       "│ GTEX-1117F ┆ chr1  ┆ 25170827      ┆ 25170828    ┆ A   ┆ AT  ┆ ENSG00000169504 │\n",
       "└────────────┴───────┴───────────────┴─────────────┴─────┴─────┴─────────────────┘"
      ]
     },
     "execution_count": 19,
     "metadata": {},
     "output_type": "execute_result"
    }
   ],
   "source": [
    "apa_genotypes_df = genotypes_df.join(apa_variant_df, on=['chrom', 'variant_start', 'variant_end', 'ref', 'alt'], how='inner')\n",
    "apa_genotypes_df.head().collect()"
   ]
  },
  {
   "cell_type": "code",
   "execution_count": 20,
   "id": "f91f25ea-6dbf-4766-b2dd-de1761d83339",
   "metadata": {},
   "outputs": [],
   "source": [
    "apa_gene_sample_df = apa_genotypes_df.select(['individual', 'gene']).unique()\n",
    "tss_gene_sample_df = tss_genotypes_df.select(['individual', 'gene']).unique()"
   ]
  },
  {
   "cell_type": "code",
   "execution_count": 21,
   "id": "1c50e65a-3e0d-4022-935b-786390a479a0",
   "metadata": {},
   "outputs": [],
   "source": [
    "tss_benchmark_df = benchmark_df.join(tss_gene_sample_df, on=['individual', 'gene'], how='inner').collect()"
   ]
  },
  {
   "cell_type": "code",
   "execution_count": null,
   "id": "e3717559-7418-49e0-bdbc-710c10df4bf4",
   "metadata": {},
   "outputs": [],
   "source": [
    "apa_benchmark_df = benchmark_df.join(apa_gene_sample_df, on=['individual', 'gene'], how='inner').collect()"
   ]
  },
  {
   "cell_type": "code",
   "execution_count": null,
   "id": "6ee90e10-d3cd-45ac-9027-4ec0c84c8f05",
   "metadata": {},
   "outputs": [],
   "source": [
    "benchmark_df.select(pl.len()).collect()"
   ]
  },
  {
   "cell_type": "code",
   "execution_count": null,
   "id": "4e8351dc-4420-447f-9799-664dd65728c7",
   "metadata": {},
   "outputs": [],
   "source": [
    "apa_benchmark_df.shape"
   ]
  },
  {
   "cell_type": "code",
   "execution_count": null,
   "id": "e5e83a23-20ae-40b2-af70-85046e9658cb",
   "metadata": {},
   "outputs": [],
   "source": [
    "tss_benchmark_df.shape"
   ]
  },
  {
   "cell_type": "code",
   "execution_count": null,
   "id": "be0bbb3d-4afb-472d-be15-82ec1cc9aeeb",
   "metadata": {},
   "outputs": [],
   "source": [
    "apa_benchmark_df.select(pl.col('is_underexpressed_outlier').sum())"
   ]
  },
  {
   "cell_type": "code",
   "execution_count": null,
   "id": "f120fc37-505c-4725-9243-9e69c8c75b0b",
   "metadata": {},
   "outputs": [],
   "source": [
    "tss_benchmark_df.select(pl.col('is_underexpressed_outlier').sum())"
   ]
  },
  {
   "cell_type": "code",
   "execution_count": 23,
   "id": "9e8919d3-b2cc-4bad-9073-3178d7250797",
   "metadata": {},
   "outputs": [],
   "source": [
    "output_dir = Path('/data/nasif12/home_if12/tsi/kipoi_expression_prediction/new_benchmarks')\n",
    "output_dir.mkdir(exist_ok=True)"
   ]
  },
  {
   "cell_type": "code",
   "execution_count": 24,
   "id": "8ddf4364-f70d-47a9-92c1-d2033fb1c31f",
   "metadata": {},
   "outputs": [],
   "source": [
    "tss_benchmark_df.write_parquet(output_dir / 'tss_benchmark.parquet')"
   ]
  },
  {
   "cell_type": "code",
   "execution_count": null,
   "id": "1b112df3-8134-4db9-8c7b-f0f5de3ee13b",
   "metadata": {},
   "outputs": [],
   "source": [
    "apa_benchmark_df.write_parquet(output_dir / 'pas_benchmark.parquet')"
   ]
  },
  {
   "cell_type": "code",
   "execution_count": null,
   "id": "0c001585-414e-42bd-be75-f40d32ea9220",
   "metadata": {},
   "outputs": [],
   "source": []
  }
 ],
 "metadata": {
  "kernelspec": {
   "display_name": "Python [conda env:anaconda-kipoi-veff-analysis]",
   "language": "python",
   "name": "conda-env-anaconda-kipoi-veff-analysis-py"
  },
  "language_info": {
   "codemirror_mode": {
    "name": "ipython",
    "version": 3
   },
   "file_extension": ".py",
   "mimetype": "text/x-python",
   "name": "python",
   "nbconvert_exporter": "python",
   "pygments_lexer": "ipython3",
   "version": "3.12.6"
  }
 },
 "nbformat": 4,
 "nbformat_minor": 5
}
