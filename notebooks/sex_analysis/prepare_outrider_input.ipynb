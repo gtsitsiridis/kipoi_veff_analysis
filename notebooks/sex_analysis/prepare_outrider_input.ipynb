{
 "cells": [
  {
   "cell_type": "code",
   "execution_count": 1,
   "id": "cf5b199b-644a-4dec-90c1-d174bbe3adca",
   "metadata": {
    "scrolled": true
   },
   "outputs": [
    {
     "name": "stderr",
     "output_type": "stream",
     "text": [
      "Loading required package: BiocParallel\n",
      "\n",
      "Loading required package: GenomicFeatures\n",
      "\n",
      "Loading required package: BiocGenerics\n",
      "\n",
      "\n",
      "Attaching package: ‘BiocGenerics’\n",
      "\n",
      "\n",
      "The following objects are masked from ‘package:stats’:\n",
      "\n",
      "    IQR, mad, sd, var, xtabs\n",
      "\n",
      "\n",
      "The following objects are masked from ‘package:base’:\n",
      "\n",
      "    anyDuplicated, aperm, append, as.data.frame, basename, cbind,\n",
      "    colnames, dirname, do.call, duplicated, eval, evalq, Filter, Find,\n",
      "    get, grep, grepl, intersect, is.unsorted, lapply, Map, mapply,\n",
      "    match, mget, order, paste, pmax, pmax.int, pmin, pmin.int,\n",
      "    Position, rank, rbind, Reduce, rownames, sapply, setdiff, sort,\n",
      "    table, tapply, union, unique, unsplit, which.max, which.min\n",
      "\n",
      "\n",
      "Loading required package: S4Vectors\n",
      "\n",
      "Loading required package: stats4\n",
      "\n",
      "\n",
      "Attaching package: ‘S4Vectors’\n",
      "\n",
      "\n",
      "The following objects are masked from ‘package:base’:\n",
      "\n",
      "    expand.grid, I, unname\n",
      "\n",
      "\n",
      "Loading required package: IRanges\n",
      "\n",
      "Loading required package: GenomeInfoDb\n",
      "\n",
      "Warning message:\n",
      "“package ‘GenomeInfoDb’ was built under R version 4.2.3”\n",
      "Loading required package: GenomicRanges\n",
      "\n",
      "Loading required package: AnnotationDbi\n",
      "\n",
      "Loading required package: Biobase\n",
      "\n",
      "Welcome to Bioconductor\n",
      "\n",
      "    Vignettes contain introductory material; view with\n",
      "    'browseVignettes()'. To cite Bioconductor, see\n",
      "    'citation(\"Biobase\")', and for packages 'citation(\"pkgname\")'.\n",
      "\n",
      "\n",
      "Loading required package: SummarizedExperiment\n",
      "\n",
      "Loading required package: MatrixGenerics\n",
      "\n",
      "Loading required package: matrixStats\n",
      "\n",
      "\n",
      "Attaching package: ‘matrixStats’\n",
      "\n",
      "\n",
      "The following objects are masked from ‘package:Biobase’:\n",
      "\n",
      "    anyMissing, rowMedians\n",
      "\n",
      "\n",
      "\n",
      "Attaching package: ‘MatrixGenerics’\n",
      "\n",
      "\n",
      "The following objects are masked from ‘package:matrixStats’:\n",
      "\n",
      "    colAlls, colAnyNAs, colAnys, colAvgsPerRowSet, colCollapse,\n",
      "    colCounts, colCummaxs, colCummins, colCumprods, colCumsums,\n",
      "    colDiffs, colIQRDiffs, colIQRs, colLogSumExps, colMadDiffs,\n",
      "    colMads, colMaxs, colMeans2, colMedians, colMins, colOrderStats,\n",
      "    colProds, colQuantiles, colRanges, colRanks, colSdDiffs, colSds,\n",
      "    colSums2, colTabulates, colVarDiffs, colVars, colWeightedMads,\n",
      "    colWeightedMeans, colWeightedMedians, colWeightedSds,\n",
      "    colWeightedVars, rowAlls, rowAnyNAs, rowAnys, rowAvgsPerColSet,\n",
      "    rowCollapse, rowCounts, rowCummaxs, rowCummins, rowCumprods,\n",
      "    rowCumsums, rowDiffs, rowIQRDiffs, rowIQRs, rowLogSumExps,\n",
      "    rowMadDiffs, rowMads, rowMaxs, rowMeans2, rowMedians, rowMins,\n",
      "    rowOrderStats, rowProds, rowQuantiles, rowRanges, rowRanks,\n",
      "    rowSdDiffs, rowSds, rowSums2, rowTabulates, rowVarDiffs, rowVars,\n",
      "    rowWeightedMads, rowWeightedMeans, rowWeightedMedians,\n",
      "    rowWeightedSds, rowWeightedVars\n",
      "\n",
      "\n",
      "The following object is masked from ‘package:Biobase’:\n",
      "\n",
      "    rowMedians\n",
      "\n",
      "\n",
      "Loading required package: data.table\n",
      "\n",
      "\n",
      "Attaching package: ‘data.table’\n",
      "\n",
      "\n",
      "The following object is masked from ‘package:SummarizedExperiment’:\n",
      "\n",
      "    shift\n",
      "\n",
      "\n",
      "The following object is masked from ‘package:GenomicRanges’:\n",
      "\n",
      "    shift\n",
      "\n",
      "\n",
      "The following object is masked from ‘package:IRanges’:\n",
      "\n",
      "    shift\n",
      "\n",
      "\n",
      "The following objects are masked from ‘package:S4Vectors’:\n",
      "\n",
      "    first, second\n",
      "\n",
      "\n",
      "Warning message:\n",
      "“package ‘dplyr’ was built under R version 4.2.3”\n",
      "\n",
      "Attaching package: ‘dplyr’\n",
      "\n",
      "\n",
      "The following objects are masked from ‘package:data.table’:\n",
      "\n",
      "    between, first, last\n",
      "\n",
      "\n",
      "The following object is masked from ‘package:matrixStats’:\n",
      "\n",
      "    count\n",
      "\n",
      "\n",
      "The following object is masked from ‘package:AnnotationDbi’:\n",
      "\n",
      "    select\n",
      "\n",
      "\n",
      "The following object is masked from ‘package:Biobase’:\n",
      "\n",
      "    combine\n",
      "\n",
      "\n",
      "The following objects are masked from ‘package:GenomicRanges’:\n",
      "\n",
      "    intersect, setdiff, union\n",
      "\n",
      "\n",
      "The following object is masked from ‘package:GenomeInfoDb’:\n",
      "\n",
      "    intersect\n",
      "\n",
      "\n",
      "The following objects are masked from ‘package:IRanges’:\n",
      "\n",
      "    collapse, desc, intersect, setdiff, slice, union\n",
      "\n",
      "\n",
      "The following objects are masked from ‘package:S4Vectors’:\n",
      "\n",
      "    first, intersect, rename, setdiff, setequal, union\n",
      "\n",
      "\n",
      "The following objects are masked from ‘package:BiocGenerics’:\n",
      "\n",
      "    combine, intersect, setdiff, union\n",
      "\n",
      "\n",
      "The following objects are masked from ‘package:stats’:\n",
      "\n",
      "    filter, lag\n",
      "\n",
      "\n",
      "The following objects are masked from ‘package:base’:\n",
      "\n",
      "    intersect, setdiff, setequal, union\n",
      "\n",
      "\n"
     ]
    }
   ],
   "source": [
    "library(OUTRIDER)\n",
    "library(dplyr)"
   ]
  },
  {
   "cell_type": "code",
   "execution_count": 3,
   "id": "bc1491ae-d1a0-4438-9cae-b085c9ee5d5a",
   "metadata": {},
   "outputs": [],
   "source": [
    "ods_parent_dir <- '/s/project/gtex_genetic_diagnosis/v8/processed_results/aberrant_expression/gencode34/outrider'\n",
    "sample_annotation_path <- '/s/project/gtex_genetic_diagnosis/v8/sample_annotation.tsv'\n",
    "drop_group_map_path <-  '/data/nasif12/home_if12/tsi/projects/rep_scripts/config/gtex_v8_old_dna/drop_groups.tsv'\n",
    "output_dir <- '/s/project/promoter_prediction/sex_analysis/bcv'\n",
    "output_count_filename = 'gtexv8_rnaseq_counts.csv'\n",
    "output_annot_filename = 'sample_annotation.csv'\n",
    "# output_count_filename = 'gtexv8_rnaseq_subset_counts.csv'\n",
    "# output_annot_filename = 'sample_subset_annotation.csv'"
   ]
  },
  {
   "cell_type": "markdown",
   "id": "a2717fec-a92c-43a6-ad3c-74cd5461fe44",
   "metadata": {},
   "source": [
    "## Extract necessary sample annotation"
   ]
  },
  {
   "cell_type": "code",
   "execution_count": 4,
   "id": "7993fcb6-9820-4d9f-b2c7-6ed235a6793b",
   "metadata": {},
   "outputs": [],
   "source": [
    "drop_df <- read.table(drop_group_map_path,  sep = \"\\t\", header = TRUE, quote = \"\")\n",
    "rownames(drop_df) <- drop_df$DROP_GROUP"
   ]
  },
  {
   "cell_type": "code",
   "execution_count": 5,
   "id": "ee985035-e842-447f-b6b0-dbf6d852c96f",
   "metadata": {
    "scrolled": true
   },
   "outputs": [
    {
     "data": {
      "text/html": [
       "<table class=\"dataframe\">\n",
       "<caption>A data.frame: 6 × 6</caption>\n",
       "<thead>\n",
       "\t<tr><th></th><th scope=col>sampleID</th><th scope=col>individualID</th><th scope=col>sex</th><th scope=col>tissue</th><th scope=col>DROP_GROUP</th><th scope=col>subtissue</th></tr>\n",
       "\t<tr><th></th><th scope=col>&lt;chr&gt;</th><th scope=col>&lt;chr&gt;</th><th scope=col>&lt;chr&gt;</th><th scope=col>&lt;chr&gt;</th><th scope=col>&lt;chr&gt;</th><th scope=col>&lt;chr&gt;</th></tr>\n",
       "</thead>\n",
       "<tbody>\n",
       "\t<tr><th scope=row>GTEX-1117F-2426-SM-5EGGH</th><td>GTEX-1117F-2426-SM-5EGGH</td><td>GTEX-1117F</td><td>1</td><td>Uterus        </td><td>Uterus                    </td><td>Uterus                      </td></tr>\n",
       "\t<tr><th scope=row>GTEX-1117F-0226-SM-5GZZ7</th><td>GTEX-1117F-0226-SM-5GZZ7</td><td>GTEX-1117F</td><td>1</td><td>Adipose Tissue</td><td>Adipose_-_Subcutaneous    </td><td>Adipose - Subcutaneous      </td></tr>\n",
       "\t<tr><th scope=row>GTEX-1117F-3226-SM-5N9CT</th><td>GTEX-1117F-3226-SM-5N9CT</td><td>GTEX-1117F</td><td>1</td><td>Brain         </td><td>Brain_-_Cortex            </td><td>Brain - Cortex              </td></tr>\n",
       "\t<tr><th scope=row>GTEX-1117F-2526-SM-5GZY6</th><td>GTEX-1117F-2526-SM-5GZY6</td><td>GTEX-1117F</td><td>1</td><td>Vagina        </td><td>Vagina                    </td><td>Vagina                      </td></tr>\n",
       "\t<tr><th scope=row>GTEX-1117F-1326-SM-5EGHH</th><td>GTEX-1117F-1326-SM-5EGHH</td><td>GTEX-1117F</td><td>1</td><td>Adipose Tissue</td><td>Adipose_-_Visceral_Omentum</td><td>Adipose - Visceral (Omentum)</td></tr>\n",
       "\t<tr><th scope=row>GTEX-1117F-0726-SM-5GIEN</th><td>GTEX-1117F-0726-SM-5GIEN</td><td>GTEX-1117F</td><td>1</td><td>Heart         </td><td>Heart_-_Atrial_Appendage  </td><td>Heart - Atrial Appendage    </td></tr>\n",
       "</tbody>\n",
       "</table>\n"
      ],
      "text/latex": [
       "A data.frame: 6 × 6\n",
       "\\begin{tabular}{r|llllll}\n",
       "  & sampleID & individualID & sex & tissue & DROP\\_GROUP & subtissue\\\\\n",
       "  & <chr> & <chr> & <chr> & <chr> & <chr> & <chr>\\\\\n",
       "\\hline\n",
       "\tGTEX-1117F-2426-SM-5EGGH & GTEX-1117F-2426-SM-5EGGH & GTEX-1117F & 1 & Uterus         & Uterus                     & Uterus                      \\\\\n",
       "\tGTEX-1117F-0226-SM-5GZZ7 & GTEX-1117F-0226-SM-5GZZ7 & GTEX-1117F & 1 & Adipose Tissue & Adipose\\_-\\_Subcutaneous     & Adipose - Subcutaneous      \\\\\n",
       "\tGTEX-1117F-3226-SM-5N9CT & GTEX-1117F-3226-SM-5N9CT & GTEX-1117F & 1 & Brain          & Brain\\_-\\_Cortex             & Brain - Cortex              \\\\\n",
       "\tGTEX-1117F-2526-SM-5GZY6 & GTEX-1117F-2526-SM-5GZY6 & GTEX-1117F & 1 & Vagina         & Vagina                     & Vagina                      \\\\\n",
       "\tGTEX-1117F-1326-SM-5EGHH & GTEX-1117F-1326-SM-5EGHH & GTEX-1117F & 1 & Adipose Tissue & Adipose\\_-\\_Visceral\\_Omentum & Adipose - Visceral (Omentum)\\\\\n",
       "\tGTEX-1117F-0726-SM-5GIEN & GTEX-1117F-0726-SM-5GIEN & GTEX-1117F & 1 & Heart          & Heart\\_-\\_Atrial\\_Appendage   & Heart - Atrial Appendage    \\\\\n",
       "\\end{tabular}\n"
      ],
      "text/markdown": [
       "\n",
       "A data.frame: 6 × 6\n",
       "\n",
       "| <!--/--> | sampleID &lt;chr&gt; | individualID &lt;chr&gt; | sex &lt;chr&gt; | tissue &lt;chr&gt; | DROP_GROUP &lt;chr&gt; | subtissue &lt;chr&gt; |\n",
       "|---|---|---|---|---|---|---|\n",
       "| GTEX-1117F-2426-SM-5EGGH | GTEX-1117F-2426-SM-5EGGH | GTEX-1117F | 1 | Uterus         | Uterus                     | Uterus                       |\n",
       "| GTEX-1117F-0226-SM-5GZZ7 | GTEX-1117F-0226-SM-5GZZ7 | GTEX-1117F | 1 | Adipose Tissue | Adipose_-_Subcutaneous     | Adipose - Subcutaneous       |\n",
       "| GTEX-1117F-3226-SM-5N9CT | GTEX-1117F-3226-SM-5N9CT | GTEX-1117F | 1 | Brain          | Brain_-_Cortex             | Brain - Cortex               |\n",
       "| GTEX-1117F-2526-SM-5GZY6 | GTEX-1117F-2526-SM-5GZY6 | GTEX-1117F | 1 | Vagina         | Vagina                     | Vagina                       |\n",
       "| GTEX-1117F-1326-SM-5EGHH | GTEX-1117F-1326-SM-5EGHH | GTEX-1117F | 1 | Adipose Tissue | Adipose_-_Visceral_Omentum | Adipose - Visceral (Omentum) |\n",
       "| GTEX-1117F-0726-SM-5GIEN | GTEX-1117F-0726-SM-5GIEN | GTEX-1117F | 1 | Heart          | Heart_-_Atrial_Appendage   | Heart - Atrial Appendage     |\n",
       "\n"
      ],
      "text/plain": [
       "                         sampleID                 individualID sex\n",
       "GTEX-1117F-2426-SM-5EGGH GTEX-1117F-2426-SM-5EGGH GTEX-1117F   1  \n",
       "GTEX-1117F-0226-SM-5GZZ7 GTEX-1117F-0226-SM-5GZZ7 GTEX-1117F   1  \n",
       "GTEX-1117F-3226-SM-5N9CT GTEX-1117F-3226-SM-5N9CT GTEX-1117F   1  \n",
       "GTEX-1117F-2526-SM-5GZY6 GTEX-1117F-2526-SM-5GZY6 GTEX-1117F   1  \n",
       "GTEX-1117F-1326-SM-5EGHH GTEX-1117F-1326-SM-5EGHH GTEX-1117F   1  \n",
       "GTEX-1117F-0726-SM-5GIEN GTEX-1117F-0726-SM-5GIEN GTEX-1117F   1  \n",
       "                         tissue         DROP_GROUP                \n",
       "GTEX-1117F-2426-SM-5EGGH Uterus         Uterus                    \n",
       "GTEX-1117F-0226-SM-5GZZ7 Adipose Tissue Adipose_-_Subcutaneous    \n",
       "GTEX-1117F-3226-SM-5N9CT Brain          Brain_-_Cortex            \n",
       "GTEX-1117F-2526-SM-5GZY6 Vagina         Vagina                    \n",
       "GTEX-1117F-1326-SM-5EGHH Adipose Tissue Adipose_-_Visceral_Omentum\n",
       "GTEX-1117F-0726-SM-5GIEN Heart          Heart_-_Atrial_Appendage  \n",
       "                         subtissue                   \n",
       "GTEX-1117F-2426-SM-5EGGH Uterus                      \n",
       "GTEX-1117F-0226-SM-5GZZ7 Adipose - Subcutaneous      \n",
       "GTEX-1117F-3226-SM-5N9CT Brain - Cortex              \n",
       "GTEX-1117F-2526-SM-5GZY6 Vagina                      \n",
       "GTEX-1117F-1326-SM-5EGHH Adipose - Visceral (Omentum)\n",
       "GTEX-1117F-0726-SM-5GIEN Heart - Atrial Appendage    "
      ]
     },
     "metadata": {},
     "output_type": "display_data"
    }
   ],
   "source": [
    "sample_annot <- read.table(sample_annotation_path, sep = \"\\t\", header = TRUE, quote = \"\")[, c('RNA_ID', 'INDIVIDUAL_ID','SEX', 'tissue_type', 'TISSUE')] %>%\n",
    "  mutate(SEX = ifelse(`SEX` == \"Male\", 0, ifelse(`SEX` == \"Female\", 1, `SEX`)))\n",
    "colnames(sample_annot)[colnames(sample_annot) == \"RNA_ID\"] <- \"sampleID\"\n",
    "colnames(sample_annot)[colnames(sample_annot) == \"INDIVIDUAL_ID\"] <- \"individualID\"\n",
    "colnames(sample_annot)[colnames(sample_annot) == \"SEX\"] <- \"sex\"\n",
    "colnames(sample_annot)[colnames(sample_annot) == \"tissue_type\"] <- \"tissue\"\n",
    "colnames(sample_annot)[colnames(sample_annot) == \"TISSUE\"] <- \"DROP_GROUP\"\n",
    "rownames(sample_annot) <- sample_annot$sampleID\n",
    "sample_annot$subtissue <- drop_df[sample_annot$DROP_GROUP, 'subtissue']\n",
    "head(sample_annot)"
   ]
  },
  {
   "cell_type": "code",
   "execution_count": 6,
   "id": "4e6332b2-95f6-4fc3-94dc-36ab25de1065",
   "metadata": {},
   "outputs": [
    {
     "data": {
      "text/html": [
       "<style>\n",
       ".list-inline {list-style: none; margin:0; padding: 0}\n",
       ".list-inline>li {display: inline-block}\n",
       ".list-inline>li:not(:last-child)::after {content: \"\\00b7\"; padding: 0 .5ex}\n",
       "</style>\n",
       "<ol class=list-inline><li>16213</li><li>6</li></ol>\n"
      ],
      "text/latex": [
       "\\begin{enumerate*}\n",
       "\\item 16213\n",
       "\\item 6\n",
       "\\end{enumerate*}\n"
      ],
      "text/markdown": [
       "1. 16213\n",
       "2. 6\n",
       "\n",
       "\n"
      ],
      "text/plain": [
       "[1] 16213     6"
      ]
     },
     "metadata": {},
     "output_type": "display_data"
    }
   ],
   "source": [
    "dim(sample_annot)"
   ]
  },
  {
   "cell_type": "code",
   "execution_count": 7,
   "id": "93495c8a-6a7e-496e-93ac-f6aefd3937b7",
   "metadata": {},
   "outputs": [
    {
     "data": {
      "text/html": [
       "49"
      ],
      "text/latex": [
       "49"
      ],
      "text/markdown": [
       "49"
      ],
      "text/plain": [
       "[1] 49"
      ]
     },
     "metadata": {},
     "output_type": "display_data"
    }
   ],
   "source": [
    "sample_annot$subtissue %>% unique %>% length"
   ]
  },
  {
   "cell_type": "code",
   "execution_count": 8,
   "id": "9fc4e3d7-498f-459f-82ca-a64b70242ec3",
   "metadata": {},
   "outputs": [],
   "source": [
    "# # Filter the data to keep tissues that have both sexes (male and female)\n",
    "# sample_annot = sample_annot %>%\n",
    "#   group_by(`subtissue`) %>%                             # Group by tissue\n",
    "#   filter(all(c(0, 1) %in% `sex`)) %>%      # Check for both sexes\n",
    "#   ungroup()\n",
    "# sample_annot$subtissue %>% unique %>% length"
   ]
  },
  {
   "cell_type": "code",
   "execution_count": 9,
   "id": "2129f4b1-9427-438f-bd26-c60488fb07a3",
   "metadata": {},
   "outputs": [],
   "source": [
    "# sample_annot <- sample_annot %>%\n",
    "#   group_by(`tissue`, `sex`) %>%   # Group by tissue, sample, and sex\n",
    "#   filter(n() >= 50) %>%                # Keep only groups with at least 50 samples\n",
    "#   ungroup()        \n",
    "# sample_annot$subtissue %>% unique %>% length"
   ]
  },
  {
   "cell_type": "code",
   "execution_count": 10,
   "id": "d641621e-c05e-4dbe-b2f3-1aadad0cd2d7",
   "metadata": {},
   "outputs": [],
   "source": [
    "drop_groups <- sample_annot$DROP_GROUP %>% unique"
   ]
  },
  {
   "cell_type": "code",
   "execution_count": 11,
   "id": "9638f979-2d25-4f07-ace4-f5eac9541113",
   "metadata": {},
   "outputs": [],
   "source": [
    "# # Sample n rows from each tissue-sex combination\n",
    "# sample_annot <- sample_annot %>%\n",
    "#   group_by(`tissue`, `sex`) %>%                      # Group by tissue and sex\n",
    "#   sample_n(20, replace = FALSE) %>%               # Take n samples from each group\n",
    "#   ungroup()    \n",
    "# dim(sample_annot)"
   ]
  },
  {
   "cell_type": "code",
   "execution_count": 12,
   "id": "63e66e13-1fdd-4f49-911f-04fa4e6bf3ce",
   "metadata": {},
   "outputs": [],
   "source": [
    "write.csv(sample_annot, paste0(output_dir, '/', output_annot_filename), row.names = TRUE, quote=FALSE)"
   ]
  },
  {
   "cell_type": "markdown",
   "id": "0917d86f-2964-4c7e-ad6a-7b6773b14c52",
   "metadata": {},
   "source": [
    "## Extract OUTRIDER count table"
   ]
  },
  {
   "cell_type": "code",
   "execution_count": 13,
   "id": "528584c5-f6ef-4697-8cbd-2368fa399517",
   "metadata": {},
   "outputs": [
    {
     "data": {
      "text/html": [
       "<style>\n",
       ".list-inline {list-style: none; margin:0; padding: 0}\n",
       ".list-inline>li {display: inline-block}\n",
       ".list-inline>li:not(:last-child)::after {content: \"\\00b7\"; padding: 0 .5ex}\n",
       "</style>\n",
       "<ol class=list-inline><li>'/s/project/gtex_genetic_diagnosis/v8/processed_results/aberrant_expression/gencode34/outrider/Uterus/ods_unfitted.Rds'</li><li>'/s/project/gtex_genetic_diagnosis/v8/processed_results/aberrant_expression/gencode34/outrider/Adipose_-_Subcutaneous/ods_unfitted.Rds'</li><li>'/s/project/gtex_genetic_diagnosis/v8/processed_results/aberrant_expression/gencode34/outrider/Brain_-_Cortex/ods_unfitted.Rds'</li><li>'/s/project/gtex_genetic_diagnosis/v8/processed_results/aberrant_expression/gencode34/outrider/Vagina/ods_unfitted.Rds'</li><li>'/s/project/gtex_genetic_diagnosis/v8/processed_results/aberrant_expression/gencode34/outrider/Adipose_-_Visceral_Omentum/ods_unfitted.Rds'</li><li>'/s/project/gtex_genetic_diagnosis/v8/processed_results/aberrant_expression/gencode34/outrider/Heart_-_Atrial_Appendage/ods_unfitted.Rds'</li><li>'/s/project/gtex_genetic_diagnosis/v8/processed_results/aberrant_expression/gencode34/outrider/Minor_Salivary_Gland/ods_unfitted.Rds'</li><li>'/s/project/gtex_genetic_diagnosis/v8/processed_results/aberrant_expression/gencode34/outrider/Breast_-_Mammary_Tissue/ods_unfitted.Rds'</li><li>'/s/project/gtex_genetic_diagnosis/v8/processed_results/aberrant_expression/gencode34/outrider/Artery_-_Coronary/ods_unfitted.Rds'</li><li>'/s/project/gtex_genetic_diagnosis/v8/processed_results/aberrant_expression/gencode34/outrider/Skin_-_Not_Sun_Exposed_Suprapubic/ods_unfitted.Rds'</li><li>'/s/project/gtex_genetic_diagnosis/v8/processed_results/aberrant_expression/gencode34/outrider/Esophagus_-_Gastroesophageal_Junction/ods_unfitted.Rds'</li><li>'/s/project/gtex_genetic_diagnosis/v8/processed_results/aberrant_expression/gencode34/outrider/Esophagus_-_Muscularis/ods_unfitted.Rds'</li><li>'/s/project/gtex_genetic_diagnosis/v8/processed_results/aberrant_expression/gencode34/outrider/Stomach/ods_unfitted.Rds'</li><li>'/s/project/gtex_genetic_diagnosis/v8/processed_results/aberrant_expression/gencode34/outrider/Esophagus_-_Mucosa/ods_unfitted.Rds'</li><li>'/s/project/gtex_genetic_diagnosis/v8/processed_results/aberrant_expression/gencode34/outrider/Adrenal_Gland/ods_unfitted.Rds'</li><li>'/s/project/gtex_genetic_diagnosis/v8/processed_results/aberrant_expression/gencode34/outrider/Lung/ods_unfitted.Rds'</li><li>'/s/project/gtex_genetic_diagnosis/v8/processed_results/aberrant_expression/gencode34/outrider/Thyroid/ods_unfitted.Rds'</li><li>'/s/project/gtex_genetic_diagnosis/v8/processed_results/aberrant_expression/gencode34/outrider/Colon_-_Transverse/ods_unfitted.Rds'</li><li>'/s/project/gtex_genetic_diagnosis/v8/processed_results/aberrant_expression/gencode34/outrider/Pancreas/ods_unfitted.Rds'</li><li>'/s/project/gtex_genetic_diagnosis/v8/processed_results/aberrant_expression/gencode34/outrider/Small_Intestine_-_Terminal_Ileum/ods_unfitted.Rds'</li><li>'/s/project/gtex_genetic_diagnosis/v8/processed_results/aberrant_expression/gencode34/outrider/Testis/ods_unfitted.Rds'</li><li>'/s/project/gtex_genetic_diagnosis/v8/processed_results/aberrant_expression/gencode34/outrider/Colon_-_Sigmoid/ods_unfitted.Rds'</li><li>'/s/project/gtex_genetic_diagnosis/v8/processed_results/aberrant_expression/gencode34/outrider/Spleen/ods_unfitted.Rds'</li><li>'/s/project/gtex_genetic_diagnosis/v8/processed_results/aberrant_expression/gencode34/outrider/Muscle_-_Skeletal/ods_unfitted.Rds'</li><li>'/s/project/gtex_genetic_diagnosis/v8/processed_results/aberrant_expression/gencode34/outrider/Skin_-_Sun_Exposed_Lower_leg/ods_unfitted.Rds'</li><li>'/s/project/gtex_genetic_diagnosis/v8/processed_results/aberrant_expression/gencode34/outrider/Heart_-_Left_Ventricle/ods_unfitted.Rds'</li><li>'/s/project/gtex_genetic_diagnosis/v8/processed_results/aberrant_expression/gencode34/outrider/Nerve_-_Tibial/ods_unfitted.Rds'</li><li>'/s/project/gtex_genetic_diagnosis/v8/processed_results/aberrant_expression/gencode34/outrider/Artery_-_Tibial/ods_unfitted.Rds'</li><li>'/s/project/gtex_genetic_diagnosis/v8/processed_results/aberrant_expression/gencode34/outrider/Brain_-_Cerebellum/ods_unfitted.Rds'</li><li>'/s/project/gtex_genetic_diagnosis/v8/processed_results/aberrant_expression/gencode34/outrider/Prostate/ods_unfitted.Rds'</li><li>'/s/project/gtex_genetic_diagnosis/v8/processed_results/aberrant_expression/gencode34/outrider/Cells_-_Cultured_fibroblasts/ods_unfitted.Rds'</li><li>'/s/project/gtex_genetic_diagnosis/v8/processed_results/aberrant_expression/gencode34/outrider/Whole_Blood/ods_unfitted.Rds'</li><li>'/s/project/gtex_genetic_diagnosis/v8/processed_results/aberrant_expression/gencode34/outrider/Artery_-_Aorta/ods_unfitted.Rds'</li><li>'/s/project/gtex_genetic_diagnosis/v8/processed_results/aberrant_expression/gencode34/outrider/Cells_-_EBV-transformed_lymphocytes/ods_unfitted.Rds'</li><li>'/s/project/gtex_genetic_diagnosis/v8/processed_results/aberrant_expression/gencode34/outrider/Pituitary/ods_unfitted.Rds'</li><li>'/s/project/gtex_genetic_diagnosis/v8/processed_results/aberrant_expression/gencode34/outrider/Brain_-_Nucleus_accumbens_basal_ganglia/ods_unfitted.Rds'</li><li>'/s/project/gtex_genetic_diagnosis/v8/processed_results/aberrant_expression/gencode34/outrider/Brain_-_Spinal_cord_cervical_c-1/ods_unfitted.Rds'</li><li>'/s/project/gtex_genetic_diagnosis/v8/processed_results/aberrant_expression/gencode34/outrider/Brain_-_Frontal_Cortex_BA9/ods_unfitted.Rds'</li><li>'/s/project/gtex_genetic_diagnosis/v8/processed_results/aberrant_expression/gencode34/outrider/Brain_-_Putamen_basal_ganglia/ods_unfitted.Rds'</li><li>'/s/project/gtex_genetic_diagnosis/v8/processed_results/aberrant_expression/gencode34/outrider/Brain_-_Hypothalamus/ods_unfitted.Rds'</li><li>'/s/project/gtex_genetic_diagnosis/v8/processed_results/aberrant_expression/gencode34/outrider/Brain_-_Caudate_basal_ganglia/ods_unfitted.Rds'</li><li>'/s/project/gtex_genetic_diagnosis/v8/processed_results/aberrant_expression/gencode34/outrider/Brain_-_Anterior_cingulate_cortex_BA24/ods_unfitted.Rds'</li><li>'/s/project/gtex_genetic_diagnosis/v8/processed_results/aberrant_expression/gencode34/outrider/Brain_-_Hippocampus/ods_unfitted.Rds'</li><li>'/s/project/gtex_genetic_diagnosis/v8/processed_results/aberrant_expression/gencode34/outrider/Ovary/ods_unfitted.Rds'</li><li>'/s/project/gtex_genetic_diagnosis/v8/processed_results/aberrant_expression/gencode34/outrider/Brain_-_Cerebellar_Hemisphere/ods_unfitted.Rds'</li><li>'/s/project/gtex_genetic_diagnosis/v8/processed_results/aberrant_expression/gencode34/outrider/Liver/ods_unfitted.Rds'</li><li>'/s/project/gtex_genetic_diagnosis/v8/processed_results/aberrant_expression/gencode34/outrider/Brain_-_Substantia_nigra/ods_unfitted.Rds'</li><li>'/s/project/gtex_genetic_diagnosis/v8/processed_results/aberrant_expression/gencode34/outrider/Kidney_-_Cortex/ods_unfitted.Rds'</li><li>'/s/project/gtex_genetic_diagnosis/v8/processed_results/aberrant_expression/gencode34/outrider/Brain_-_Amygdala/ods_unfitted.Rds'</li></ol>\n"
      ],
      "text/latex": [
       "\\begin{enumerate*}\n",
       "\\item '/s/project/gtex\\_genetic\\_diagnosis/v8/processed\\_results/aberrant\\_expression/gencode34/outrider/Uterus/ods\\_unfitted.Rds'\n",
       "\\item '/s/project/gtex\\_genetic\\_diagnosis/v8/processed\\_results/aberrant\\_expression/gencode34/outrider/Adipose\\_-\\_Subcutaneous/ods\\_unfitted.Rds'\n",
       "\\item '/s/project/gtex\\_genetic\\_diagnosis/v8/processed\\_results/aberrant\\_expression/gencode34/outrider/Brain\\_-\\_Cortex/ods\\_unfitted.Rds'\n",
       "\\item '/s/project/gtex\\_genetic\\_diagnosis/v8/processed\\_results/aberrant\\_expression/gencode34/outrider/Vagina/ods\\_unfitted.Rds'\n",
       "\\item '/s/project/gtex\\_genetic\\_diagnosis/v8/processed\\_results/aberrant\\_expression/gencode34/outrider/Adipose\\_-\\_Visceral\\_Omentum/ods\\_unfitted.Rds'\n",
       "\\item '/s/project/gtex\\_genetic\\_diagnosis/v8/processed\\_results/aberrant\\_expression/gencode34/outrider/Heart\\_-\\_Atrial\\_Appendage/ods\\_unfitted.Rds'\n",
       "\\item '/s/project/gtex\\_genetic\\_diagnosis/v8/processed\\_results/aberrant\\_expression/gencode34/outrider/Minor\\_Salivary\\_Gland/ods\\_unfitted.Rds'\n",
       "\\item '/s/project/gtex\\_genetic\\_diagnosis/v8/processed\\_results/aberrant\\_expression/gencode34/outrider/Breast\\_-\\_Mammary\\_Tissue/ods\\_unfitted.Rds'\n",
       "\\item '/s/project/gtex\\_genetic\\_diagnosis/v8/processed\\_results/aberrant\\_expression/gencode34/outrider/Artery\\_-\\_Coronary/ods\\_unfitted.Rds'\n",
       "\\item '/s/project/gtex\\_genetic\\_diagnosis/v8/processed\\_results/aberrant\\_expression/gencode34/outrider/Skin\\_-\\_Not\\_Sun\\_Exposed\\_Suprapubic/ods\\_unfitted.Rds'\n",
       "\\item '/s/project/gtex\\_genetic\\_diagnosis/v8/processed\\_results/aberrant\\_expression/gencode34/outrider/Esophagus\\_-\\_Gastroesophageal\\_Junction/ods\\_unfitted.Rds'\n",
       "\\item '/s/project/gtex\\_genetic\\_diagnosis/v8/processed\\_results/aberrant\\_expression/gencode34/outrider/Esophagus\\_-\\_Muscularis/ods\\_unfitted.Rds'\n",
       "\\item '/s/project/gtex\\_genetic\\_diagnosis/v8/processed\\_results/aberrant\\_expression/gencode34/outrider/Stomach/ods\\_unfitted.Rds'\n",
       "\\item '/s/project/gtex\\_genetic\\_diagnosis/v8/processed\\_results/aberrant\\_expression/gencode34/outrider/Esophagus\\_-\\_Mucosa/ods\\_unfitted.Rds'\n",
       "\\item '/s/project/gtex\\_genetic\\_diagnosis/v8/processed\\_results/aberrant\\_expression/gencode34/outrider/Adrenal\\_Gland/ods\\_unfitted.Rds'\n",
       "\\item '/s/project/gtex\\_genetic\\_diagnosis/v8/processed\\_results/aberrant\\_expression/gencode34/outrider/Lung/ods\\_unfitted.Rds'\n",
       "\\item '/s/project/gtex\\_genetic\\_diagnosis/v8/processed\\_results/aberrant\\_expression/gencode34/outrider/Thyroid/ods\\_unfitted.Rds'\n",
       "\\item '/s/project/gtex\\_genetic\\_diagnosis/v8/processed\\_results/aberrant\\_expression/gencode34/outrider/Colon\\_-\\_Transverse/ods\\_unfitted.Rds'\n",
       "\\item '/s/project/gtex\\_genetic\\_diagnosis/v8/processed\\_results/aberrant\\_expression/gencode34/outrider/Pancreas/ods\\_unfitted.Rds'\n",
       "\\item '/s/project/gtex\\_genetic\\_diagnosis/v8/processed\\_results/aberrant\\_expression/gencode34/outrider/Small\\_Intestine\\_-\\_Terminal\\_Ileum/ods\\_unfitted.Rds'\n",
       "\\item '/s/project/gtex\\_genetic\\_diagnosis/v8/processed\\_results/aberrant\\_expression/gencode34/outrider/Testis/ods\\_unfitted.Rds'\n",
       "\\item '/s/project/gtex\\_genetic\\_diagnosis/v8/processed\\_results/aberrant\\_expression/gencode34/outrider/Colon\\_-\\_Sigmoid/ods\\_unfitted.Rds'\n",
       "\\item '/s/project/gtex\\_genetic\\_diagnosis/v8/processed\\_results/aberrant\\_expression/gencode34/outrider/Spleen/ods\\_unfitted.Rds'\n",
       "\\item '/s/project/gtex\\_genetic\\_diagnosis/v8/processed\\_results/aberrant\\_expression/gencode34/outrider/Muscle\\_-\\_Skeletal/ods\\_unfitted.Rds'\n",
       "\\item '/s/project/gtex\\_genetic\\_diagnosis/v8/processed\\_results/aberrant\\_expression/gencode34/outrider/Skin\\_-\\_Sun\\_Exposed\\_Lower\\_leg/ods\\_unfitted.Rds'\n",
       "\\item '/s/project/gtex\\_genetic\\_diagnosis/v8/processed\\_results/aberrant\\_expression/gencode34/outrider/Heart\\_-\\_Left\\_Ventricle/ods\\_unfitted.Rds'\n",
       "\\item '/s/project/gtex\\_genetic\\_diagnosis/v8/processed\\_results/aberrant\\_expression/gencode34/outrider/Nerve\\_-\\_Tibial/ods\\_unfitted.Rds'\n",
       "\\item '/s/project/gtex\\_genetic\\_diagnosis/v8/processed\\_results/aberrant\\_expression/gencode34/outrider/Artery\\_-\\_Tibial/ods\\_unfitted.Rds'\n",
       "\\item '/s/project/gtex\\_genetic\\_diagnosis/v8/processed\\_results/aberrant\\_expression/gencode34/outrider/Brain\\_-\\_Cerebellum/ods\\_unfitted.Rds'\n",
       "\\item '/s/project/gtex\\_genetic\\_diagnosis/v8/processed\\_results/aberrant\\_expression/gencode34/outrider/Prostate/ods\\_unfitted.Rds'\n",
       "\\item '/s/project/gtex\\_genetic\\_diagnosis/v8/processed\\_results/aberrant\\_expression/gencode34/outrider/Cells\\_-\\_Cultured\\_fibroblasts/ods\\_unfitted.Rds'\n",
       "\\item '/s/project/gtex\\_genetic\\_diagnosis/v8/processed\\_results/aberrant\\_expression/gencode34/outrider/Whole\\_Blood/ods\\_unfitted.Rds'\n",
       "\\item '/s/project/gtex\\_genetic\\_diagnosis/v8/processed\\_results/aberrant\\_expression/gencode34/outrider/Artery\\_-\\_Aorta/ods\\_unfitted.Rds'\n",
       "\\item '/s/project/gtex\\_genetic\\_diagnosis/v8/processed\\_results/aberrant\\_expression/gencode34/outrider/Cells\\_-\\_EBV-transformed\\_lymphocytes/ods\\_unfitted.Rds'\n",
       "\\item '/s/project/gtex\\_genetic\\_diagnosis/v8/processed\\_results/aberrant\\_expression/gencode34/outrider/Pituitary/ods\\_unfitted.Rds'\n",
       "\\item '/s/project/gtex\\_genetic\\_diagnosis/v8/processed\\_results/aberrant\\_expression/gencode34/outrider/Brain\\_-\\_Nucleus\\_accumbens\\_basal\\_ganglia/ods\\_unfitted.Rds'\n",
       "\\item '/s/project/gtex\\_genetic\\_diagnosis/v8/processed\\_results/aberrant\\_expression/gencode34/outrider/Brain\\_-\\_Spinal\\_cord\\_cervical\\_c-1/ods\\_unfitted.Rds'\n",
       "\\item '/s/project/gtex\\_genetic\\_diagnosis/v8/processed\\_results/aberrant\\_expression/gencode34/outrider/Brain\\_-\\_Frontal\\_Cortex\\_BA9/ods\\_unfitted.Rds'\n",
       "\\item '/s/project/gtex\\_genetic\\_diagnosis/v8/processed\\_results/aberrant\\_expression/gencode34/outrider/Brain\\_-\\_Putamen\\_basal\\_ganglia/ods\\_unfitted.Rds'\n",
       "\\item '/s/project/gtex\\_genetic\\_diagnosis/v8/processed\\_results/aberrant\\_expression/gencode34/outrider/Brain\\_-\\_Hypothalamus/ods\\_unfitted.Rds'\n",
       "\\item '/s/project/gtex\\_genetic\\_diagnosis/v8/processed\\_results/aberrant\\_expression/gencode34/outrider/Brain\\_-\\_Caudate\\_basal\\_ganglia/ods\\_unfitted.Rds'\n",
       "\\item '/s/project/gtex\\_genetic\\_diagnosis/v8/processed\\_results/aberrant\\_expression/gencode34/outrider/Brain\\_-\\_Anterior\\_cingulate\\_cortex\\_BA24/ods\\_unfitted.Rds'\n",
       "\\item '/s/project/gtex\\_genetic\\_diagnosis/v8/processed\\_results/aberrant\\_expression/gencode34/outrider/Brain\\_-\\_Hippocampus/ods\\_unfitted.Rds'\n",
       "\\item '/s/project/gtex\\_genetic\\_diagnosis/v8/processed\\_results/aberrant\\_expression/gencode34/outrider/Ovary/ods\\_unfitted.Rds'\n",
       "\\item '/s/project/gtex\\_genetic\\_diagnosis/v8/processed\\_results/aberrant\\_expression/gencode34/outrider/Brain\\_-\\_Cerebellar\\_Hemisphere/ods\\_unfitted.Rds'\n",
       "\\item '/s/project/gtex\\_genetic\\_diagnosis/v8/processed\\_results/aberrant\\_expression/gencode34/outrider/Liver/ods\\_unfitted.Rds'\n",
       "\\item '/s/project/gtex\\_genetic\\_diagnosis/v8/processed\\_results/aberrant\\_expression/gencode34/outrider/Brain\\_-\\_Substantia\\_nigra/ods\\_unfitted.Rds'\n",
       "\\item '/s/project/gtex\\_genetic\\_diagnosis/v8/processed\\_results/aberrant\\_expression/gencode34/outrider/Kidney\\_-\\_Cortex/ods\\_unfitted.Rds'\n",
       "\\item '/s/project/gtex\\_genetic\\_diagnosis/v8/processed\\_results/aberrant\\_expression/gencode34/outrider/Brain\\_-\\_Amygdala/ods\\_unfitted.Rds'\n",
       "\\end{enumerate*}\n"
      ],
      "text/markdown": [
       "1. '/s/project/gtex_genetic_diagnosis/v8/processed_results/aberrant_expression/gencode34/outrider/Uterus/ods_unfitted.Rds'\n",
       "2. '/s/project/gtex_genetic_diagnosis/v8/processed_results/aberrant_expression/gencode34/outrider/Adipose_-_Subcutaneous/ods_unfitted.Rds'\n",
       "3. '/s/project/gtex_genetic_diagnosis/v8/processed_results/aberrant_expression/gencode34/outrider/Brain_-_Cortex/ods_unfitted.Rds'\n",
       "4. '/s/project/gtex_genetic_diagnosis/v8/processed_results/aberrant_expression/gencode34/outrider/Vagina/ods_unfitted.Rds'\n",
       "5. '/s/project/gtex_genetic_diagnosis/v8/processed_results/aberrant_expression/gencode34/outrider/Adipose_-_Visceral_Omentum/ods_unfitted.Rds'\n",
       "6. '/s/project/gtex_genetic_diagnosis/v8/processed_results/aberrant_expression/gencode34/outrider/Heart_-_Atrial_Appendage/ods_unfitted.Rds'\n",
       "7. '/s/project/gtex_genetic_diagnosis/v8/processed_results/aberrant_expression/gencode34/outrider/Minor_Salivary_Gland/ods_unfitted.Rds'\n",
       "8. '/s/project/gtex_genetic_diagnosis/v8/processed_results/aberrant_expression/gencode34/outrider/Breast_-_Mammary_Tissue/ods_unfitted.Rds'\n",
       "9. '/s/project/gtex_genetic_diagnosis/v8/processed_results/aberrant_expression/gencode34/outrider/Artery_-_Coronary/ods_unfitted.Rds'\n",
       "10. '/s/project/gtex_genetic_diagnosis/v8/processed_results/aberrant_expression/gencode34/outrider/Skin_-_Not_Sun_Exposed_Suprapubic/ods_unfitted.Rds'\n",
       "11. '/s/project/gtex_genetic_diagnosis/v8/processed_results/aberrant_expression/gencode34/outrider/Esophagus_-_Gastroesophageal_Junction/ods_unfitted.Rds'\n",
       "12. '/s/project/gtex_genetic_diagnosis/v8/processed_results/aberrant_expression/gencode34/outrider/Esophagus_-_Muscularis/ods_unfitted.Rds'\n",
       "13. '/s/project/gtex_genetic_diagnosis/v8/processed_results/aberrant_expression/gencode34/outrider/Stomach/ods_unfitted.Rds'\n",
       "14. '/s/project/gtex_genetic_diagnosis/v8/processed_results/aberrant_expression/gencode34/outrider/Esophagus_-_Mucosa/ods_unfitted.Rds'\n",
       "15. '/s/project/gtex_genetic_diagnosis/v8/processed_results/aberrant_expression/gencode34/outrider/Adrenal_Gland/ods_unfitted.Rds'\n",
       "16. '/s/project/gtex_genetic_diagnosis/v8/processed_results/aberrant_expression/gencode34/outrider/Lung/ods_unfitted.Rds'\n",
       "17. '/s/project/gtex_genetic_diagnosis/v8/processed_results/aberrant_expression/gencode34/outrider/Thyroid/ods_unfitted.Rds'\n",
       "18. '/s/project/gtex_genetic_diagnosis/v8/processed_results/aberrant_expression/gencode34/outrider/Colon_-_Transverse/ods_unfitted.Rds'\n",
       "19. '/s/project/gtex_genetic_diagnosis/v8/processed_results/aberrant_expression/gencode34/outrider/Pancreas/ods_unfitted.Rds'\n",
       "20. '/s/project/gtex_genetic_diagnosis/v8/processed_results/aberrant_expression/gencode34/outrider/Small_Intestine_-_Terminal_Ileum/ods_unfitted.Rds'\n",
       "21. '/s/project/gtex_genetic_diagnosis/v8/processed_results/aberrant_expression/gencode34/outrider/Testis/ods_unfitted.Rds'\n",
       "22. '/s/project/gtex_genetic_diagnosis/v8/processed_results/aberrant_expression/gencode34/outrider/Colon_-_Sigmoid/ods_unfitted.Rds'\n",
       "23. '/s/project/gtex_genetic_diagnosis/v8/processed_results/aberrant_expression/gencode34/outrider/Spleen/ods_unfitted.Rds'\n",
       "24. '/s/project/gtex_genetic_diagnosis/v8/processed_results/aberrant_expression/gencode34/outrider/Muscle_-_Skeletal/ods_unfitted.Rds'\n",
       "25. '/s/project/gtex_genetic_diagnosis/v8/processed_results/aberrant_expression/gencode34/outrider/Skin_-_Sun_Exposed_Lower_leg/ods_unfitted.Rds'\n",
       "26. '/s/project/gtex_genetic_diagnosis/v8/processed_results/aberrant_expression/gencode34/outrider/Heart_-_Left_Ventricle/ods_unfitted.Rds'\n",
       "27. '/s/project/gtex_genetic_diagnosis/v8/processed_results/aberrant_expression/gencode34/outrider/Nerve_-_Tibial/ods_unfitted.Rds'\n",
       "28. '/s/project/gtex_genetic_diagnosis/v8/processed_results/aberrant_expression/gencode34/outrider/Artery_-_Tibial/ods_unfitted.Rds'\n",
       "29. '/s/project/gtex_genetic_diagnosis/v8/processed_results/aberrant_expression/gencode34/outrider/Brain_-_Cerebellum/ods_unfitted.Rds'\n",
       "30. '/s/project/gtex_genetic_diagnosis/v8/processed_results/aberrant_expression/gencode34/outrider/Prostate/ods_unfitted.Rds'\n",
       "31. '/s/project/gtex_genetic_diagnosis/v8/processed_results/aberrant_expression/gencode34/outrider/Cells_-_Cultured_fibroblasts/ods_unfitted.Rds'\n",
       "32. '/s/project/gtex_genetic_diagnosis/v8/processed_results/aberrant_expression/gencode34/outrider/Whole_Blood/ods_unfitted.Rds'\n",
       "33. '/s/project/gtex_genetic_diagnosis/v8/processed_results/aberrant_expression/gencode34/outrider/Artery_-_Aorta/ods_unfitted.Rds'\n",
       "34. '/s/project/gtex_genetic_diagnosis/v8/processed_results/aberrant_expression/gencode34/outrider/Cells_-_EBV-transformed_lymphocytes/ods_unfitted.Rds'\n",
       "35. '/s/project/gtex_genetic_diagnosis/v8/processed_results/aberrant_expression/gencode34/outrider/Pituitary/ods_unfitted.Rds'\n",
       "36. '/s/project/gtex_genetic_diagnosis/v8/processed_results/aberrant_expression/gencode34/outrider/Brain_-_Nucleus_accumbens_basal_ganglia/ods_unfitted.Rds'\n",
       "37. '/s/project/gtex_genetic_diagnosis/v8/processed_results/aberrant_expression/gencode34/outrider/Brain_-_Spinal_cord_cervical_c-1/ods_unfitted.Rds'\n",
       "38. '/s/project/gtex_genetic_diagnosis/v8/processed_results/aberrant_expression/gencode34/outrider/Brain_-_Frontal_Cortex_BA9/ods_unfitted.Rds'\n",
       "39. '/s/project/gtex_genetic_diagnosis/v8/processed_results/aberrant_expression/gencode34/outrider/Brain_-_Putamen_basal_ganglia/ods_unfitted.Rds'\n",
       "40. '/s/project/gtex_genetic_diagnosis/v8/processed_results/aberrant_expression/gencode34/outrider/Brain_-_Hypothalamus/ods_unfitted.Rds'\n",
       "41. '/s/project/gtex_genetic_diagnosis/v8/processed_results/aberrant_expression/gencode34/outrider/Brain_-_Caudate_basal_ganglia/ods_unfitted.Rds'\n",
       "42. '/s/project/gtex_genetic_diagnosis/v8/processed_results/aberrant_expression/gencode34/outrider/Brain_-_Anterior_cingulate_cortex_BA24/ods_unfitted.Rds'\n",
       "43. '/s/project/gtex_genetic_diagnosis/v8/processed_results/aberrant_expression/gencode34/outrider/Brain_-_Hippocampus/ods_unfitted.Rds'\n",
       "44. '/s/project/gtex_genetic_diagnosis/v8/processed_results/aberrant_expression/gencode34/outrider/Ovary/ods_unfitted.Rds'\n",
       "45. '/s/project/gtex_genetic_diagnosis/v8/processed_results/aberrant_expression/gencode34/outrider/Brain_-_Cerebellar_Hemisphere/ods_unfitted.Rds'\n",
       "46. '/s/project/gtex_genetic_diagnosis/v8/processed_results/aberrant_expression/gencode34/outrider/Liver/ods_unfitted.Rds'\n",
       "47. '/s/project/gtex_genetic_diagnosis/v8/processed_results/aberrant_expression/gencode34/outrider/Brain_-_Substantia_nigra/ods_unfitted.Rds'\n",
       "48. '/s/project/gtex_genetic_diagnosis/v8/processed_results/aberrant_expression/gencode34/outrider/Kidney_-_Cortex/ods_unfitted.Rds'\n",
       "49. '/s/project/gtex_genetic_diagnosis/v8/processed_results/aberrant_expression/gencode34/outrider/Brain_-_Amygdala/ods_unfitted.Rds'\n",
       "\n",
       "\n"
      ],
      "text/plain": [
       " [1] \"/s/project/gtex_genetic_diagnosis/v8/processed_results/aberrant_expression/gencode34/outrider/Uterus/ods_unfitted.Rds\"                                 \n",
       " [2] \"/s/project/gtex_genetic_diagnosis/v8/processed_results/aberrant_expression/gencode34/outrider/Adipose_-_Subcutaneous/ods_unfitted.Rds\"                 \n",
       " [3] \"/s/project/gtex_genetic_diagnosis/v8/processed_results/aberrant_expression/gencode34/outrider/Brain_-_Cortex/ods_unfitted.Rds\"                         \n",
       " [4] \"/s/project/gtex_genetic_diagnosis/v8/processed_results/aberrant_expression/gencode34/outrider/Vagina/ods_unfitted.Rds\"                                 \n",
       " [5] \"/s/project/gtex_genetic_diagnosis/v8/processed_results/aberrant_expression/gencode34/outrider/Adipose_-_Visceral_Omentum/ods_unfitted.Rds\"             \n",
       " [6] \"/s/project/gtex_genetic_diagnosis/v8/processed_results/aberrant_expression/gencode34/outrider/Heart_-_Atrial_Appendage/ods_unfitted.Rds\"               \n",
       " [7] \"/s/project/gtex_genetic_diagnosis/v8/processed_results/aberrant_expression/gencode34/outrider/Minor_Salivary_Gland/ods_unfitted.Rds\"                   \n",
       " [8] \"/s/project/gtex_genetic_diagnosis/v8/processed_results/aberrant_expression/gencode34/outrider/Breast_-_Mammary_Tissue/ods_unfitted.Rds\"                \n",
       " [9] \"/s/project/gtex_genetic_diagnosis/v8/processed_results/aberrant_expression/gencode34/outrider/Artery_-_Coronary/ods_unfitted.Rds\"                      \n",
       "[10] \"/s/project/gtex_genetic_diagnosis/v8/processed_results/aberrant_expression/gencode34/outrider/Skin_-_Not_Sun_Exposed_Suprapubic/ods_unfitted.Rds\"      \n",
       "[11] \"/s/project/gtex_genetic_diagnosis/v8/processed_results/aberrant_expression/gencode34/outrider/Esophagus_-_Gastroesophageal_Junction/ods_unfitted.Rds\"  \n",
       "[12] \"/s/project/gtex_genetic_diagnosis/v8/processed_results/aberrant_expression/gencode34/outrider/Esophagus_-_Muscularis/ods_unfitted.Rds\"                 \n",
       "[13] \"/s/project/gtex_genetic_diagnosis/v8/processed_results/aberrant_expression/gencode34/outrider/Stomach/ods_unfitted.Rds\"                                \n",
       "[14] \"/s/project/gtex_genetic_diagnosis/v8/processed_results/aberrant_expression/gencode34/outrider/Esophagus_-_Mucosa/ods_unfitted.Rds\"                     \n",
       "[15] \"/s/project/gtex_genetic_diagnosis/v8/processed_results/aberrant_expression/gencode34/outrider/Adrenal_Gland/ods_unfitted.Rds\"                          \n",
       "[16] \"/s/project/gtex_genetic_diagnosis/v8/processed_results/aberrant_expression/gencode34/outrider/Lung/ods_unfitted.Rds\"                                   \n",
       "[17] \"/s/project/gtex_genetic_diagnosis/v8/processed_results/aberrant_expression/gencode34/outrider/Thyroid/ods_unfitted.Rds\"                                \n",
       "[18] \"/s/project/gtex_genetic_diagnosis/v8/processed_results/aberrant_expression/gencode34/outrider/Colon_-_Transverse/ods_unfitted.Rds\"                     \n",
       "[19] \"/s/project/gtex_genetic_diagnosis/v8/processed_results/aberrant_expression/gencode34/outrider/Pancreas/ods_unfitted.Rds\"                               \n",
       "[20] \"/s/project/gtex_genetic_diagnosis/v8/processed_results/aberrant_expression/gencode34/outrider/Small_Intestine_-_Terminal_Ileum/ods_unfitted.Rds\"       \n",
       "[21] \"/s/project/gtex_genetic_diagnosis/v8/processed_results/aberrant_expression/gencode34/outrider/Testis/ods_unfitted.Rds\"                                 \n",
       "[22] \"/s/project/gtex_genetic_diagnosis/v8/processed_results/aberrant_expression/gencode34/outrider/Colon_-_Sigmoid/ods_unfitted.Rds\"                        \n",
       "[23] \"/s/project/gtex_genetic_diagnosis/v8/processed_results/aberrant_expression/gencode34/outrider/Spleen/ods_unfitted.Rds\"                                 \n",
       "[24] \"/s/project/gtex_genetic_diagnosis/v8/processed_results/aberrant_expression/gencode34/outrider/Muscle_-_Skeletal/ods_unfitted.Rds\"                      \n",
       "[25] \"/s/project/gtex_genetic_diagnosis/v8/processed_results/aberrant_expression/gencode34/outrider/Skin_-_Sun_Exposed_Lower_leg/ods_unfitted.Rds\"           \n",
       "[26] \"/s/project/gtex_genetic_diagnosis/v8/processed_results/aberrant_expression/gencode34/outrider/Heart_-_Left_Ventricle/ods_unfitted.Rds\"                 \n",
       "[27] \"/s/project/gtex_genetic_diagnosis/v8/processed_results/aberrant_expression/gencode34/outrider/Nerve_-_Tibial/ods_unfitted.Rds\"                         \n",
       "[28] \"/s/project/gtex_genetic_diagnosis/v8/processed_results/aberrant_expression/gencode34/outrider/Artery_-_Tibial/ods_unfitted.Rds\"                        \n",
       "[29] \"/s/project/gtex_genetic_diagnosis/v8/processed_results/aberrant_expression/gencode34/outrider/Brain_-_Cerebellum/ods_unfitted.Rds\"                     \n",
       "[30] \"/s/project/gtex_genetic_diagnosis/v8/processed_results/aberrant_expression/gencode34/outrider/Prostate/ods_unfitted.Rds\"                               \n",
       "[31] \"/s/project/gtex_genetic_diagnosis/v8/processed_results/aberrant_expression/gencode34/outrider/Cells_-_Cultured_fibroblasts/ods_unfitted.Rds\"           \n",
       "[32] \"/s/project/gtex_genetic_diagnosis/v8/processed_results/aberrant_expression/gencode34/outrider/Whole_Blood/ods_unfitted.Rds\"                            \n",
       "[33] \"/s/project/gtex_genetic_diagnosis/v8/processed_results/aberrant_expression/gencode34/outrider/Artery_-_Aorta/ods_unfitted.Rds\"                         \n",
       "[34] \"/s/project/gtex_genetic_diagnosis/v8/processed_results/aberrant_expression/gencode34/outrider/Cells_-_EBV-transformed_lymphocytes/ods_unfitted.Rds\"    \n",
       "[35] \"/s/project/gtex_genetic_diagnosis/v8/processed_results/aberrant_expression/gencode34/outrider/Pituitary/ods_unfitted.Rds\"                              \n",
       "[36] \"/s/project/gtex_genetic_diagnosis/v8/processed_results/aberrant_expression/gencode34/outrider/Brain_-_Nucleus_accumbens_basal_ganglia/ods_unfitted.Rds\"\n",
       "[37] \"/s/project/gtex_genetic_diagnosis/v8/processed_results/aberrant_expression/gencode34/outrider/Brain_-_Spinal_cord_cervical_c-1/ods_unfitted.Rds\"       \n",
       "[38] \"/s/project/gtex_genetic_diagnosis/v8/processed_results/aberrant_expression/gencode34/outrider/Brain_-_Frontal_Cortex_BA9/ods_unfitted.Rds\"             \n",
       "[39] \"/s/project/gtex_genetic_diagnosis/v8/processed_results/aberrant_expression/gencode34/outrider/Brain_-_Putamen_basal_ganglia/ods_unfitted.Rds\"          \n",
       "[40] \"/s/project/gtex_genetic_diagnosis/v8/processed_results/aberrant_expression/gencode34/outrider/Brain_-_Hypothalamus/ods_unfitted.Rds\"                   \n",
       "[41] \"/s/project/gtex_genetic_diagnosis/v8/processed_results/aberrant_expression/gencode34/outrider/Brain_-_Caudate_basal_ganglia/ods_unfitted.Rds\"          \n",
       "[42] \"/s/project/gtex_genetic_diagnosis/v8/processed_results/aberrant_expression/gencode34/outrider/Brain_-_Anterior_cingulate_cortex_BA24/ods_unfitted.Rds\" \n",
       "[43] \"/s/project/gtex_genetic_diagnosis/v8/processed_results/aberrant_expression/gencode34/outrider/Brain_-_Hippocampus/ods_unfitted.Rds\"                    \n",
       "[44] \"/s/project/gtex_genetic_diagnosis/v8/processed_results/aberrant_expression/gencode34/outrider/Ovary/ods_unfitted.Rds\"                                  \n",
       "[45] \"/s/project/gtex_genetic_diagnosis/v8/processed_results/aberrant_expression/gencode34/outrider/Brain_-_Cerebellar_Hemisphere/ods_unfitted.Rds\"          \n",
       "[46] \"/s/project/gtex_genetic_diagnosis/v8/processed_results/aberrant_expression/gencode34/outrider/Liver/ods_unfitted.Rds\"                                  \n",
       "[47] \"/s/project/gtex_genetic_diagnosis/v8/processed_results/aberrant_expression/gencode34/outrider/Brain_-_Substantia_nigra/ods_unfitted.Rds\"               \n",
       "[48] \"/s/project/gtex_genetic_diagnosis/v8/processed_results/aberrant_expression/gencode34/outrider/Kidney_-_Cortex/ods_unfitted.Rds\"                        \n",
       "[49] \"/s/project/gtex_genetic_diagnosis/v8/processed_results/aberrant_expression/gencode34/outrider/Brain_-_Amygdala/ods_unfitted.Rds\"                       "
      ]
     },
     "metadata": {},
     "output_type": "display_data"
    }
   ],
   "source": [
    "rds_dirs = list.dirs(path = ods_parent_dir, full.names = TRUE, recursive = FALSE)\n",
    "names(rds_dirs) <- sapply(rds_dirs, basename)\n",
    "rds_dirs <- rds_dirs[drop_groups]\n",
    "rds_files = paste0(rds_dirs, '/ods_unfitted.Rds')\n",
    "rds_files"
   ]
  },
  {
   "cell_type": "code",
   "execution_count": 14,
   "id": "e11ab77e-5a55-4005-bd25-e619b1bdcb0d",
   "metadata": {},
   "outputs": [],
   "source": [
    "mat_list = lapply(rds_files, function(x) counts(readRDS(x)))"
   ]
  },
  {
   "cell_type": "code",
   "execution_count": 15,
   "id": "0b762224-7657-4e7a-947d-0c67252d83cc",
   "metadata": {},
   "outputs": [
    {
     "data": {
      "text/html": [
       "<style>\n",
       ".list-inline {list-style: none; margin:0; padding: 0}\n",
       ".list-inline>li {display: inline-block}\n",
       ".list-inline>li:not(:last-child)::after {content: \"\\00b7\"; padding: 0 .5ex}\n",
       "</style>\n",
       "<ol class=list-inline><li>60669</li><li>133</li></ol>\n"
      ],
      "text/latex": [
       "\\begin{enumerate*}\n",
       "\\item 60669\n",
       "\\item 133\n",
       "\\end{enumerate*}\n"
      ],
      "text/markdown": [
       "1. 60669\n",
       "2. 133\n",
       "\n",
       "\n"
      ],
      "text/plain": [
       "[1] 60669   133"
      ]
     },
     "metadata": {},
     "output_type": "display_data"
    }
   ],
   "source": [
    "dim(mat_list[[1]])"
   ]
  },
  {
   "cell_type": "code",
   "execution_count": 16,
   "id": "9e36ba88-4bd7-4329-a8a3-e2a0ff1e89a5",
   "metadata": {},
   "outputs": [],
   "source": [
    "combined_matrix <- do.call(cbind, mat_list) %>% t"
   ]
  },
  {
   "cell_type": "code",
   "execution_count": 17,
   "id": "cfbbf72d-2411-40e6-9271-33f33e627110",
   "metadata": {},
   "outputs": [
    {
     "data": {
      "text/html": [
       "<style>\n",
       ".list-inline {list-style: none; margin:0; padding: 0}\n",
       ".list-inline>li {display: inline-block}\n",
       ".list-inline>li:not(:last-child)::after {content: \"\\00b7\"; padding: 0 .5ex}\n",
       "</style>\n",
       "<ol class=list-inline><li>16213</li><li>60669</li></ol>\n"
      ],
      "text/latex": [
       "\\begin{enumerate*}\n",
       "\\item 16213\n",
       "\\item 60669\n",
       "\\end{enumerate*}\n"
      ],
      "text/markdown": [
       "1. 16213\n",
       "2. 60669\n",
       "\n",
       "\n"
      ],
      "text/plain": [
       "[1] 16213 60669"
      ]
     },
     "metadata": {},
     "output_type": "display_data"
    }
   ],
   "source": [
    "dim(combined_matrix)"
   ]
  },
  {
   "cell_type": "code",
   "execution_count": 18,
   "id": "5f5a1b3d-f13f-4c2e-bcaa-e51ac6bc44fc",
   "metadata": {},
   "outputs": [],
   "source": [
    "combined_matrix = combined_matrix[sample_annot$sampleID, ]"
   ]
  },
  {
   "cell_type": "code",
   "execution_count": 19,
   "id": "00a1dd42-8b21-4de8-8e53-fbde8f83e486",
   "metadata": {},
   "outputs": [
    {
     "data": {
      "text/html": [
       "<style>\n",
       ".list-inline {list-style: none; margin:0; padding: 0}\n",
       ".list-inline>li {display: inline-block}\n",
       ".list-inline>li:not(:last-child)::after {content: \"\\00b7\"; padding: 0 .5ex}\n",
       "</style>\n",
       "<ol class=list-inline><li>16213</li><li>60669</li></ol>\n"
      ],
      "text/latex": [
       "\\begin{enumerate*}\n",
       "\\item 16213\n",
       "\\item 60669\n",
       "\\end{enumerate*}\n"
      ],
      "text/markdown": [
       "1. 16213\n",
       "2. 60669\n",
       "\n",
       "\n"
      ],
      "text/plain": [
       "[1] 16213 60669"
      ]
     },
     "metadata": {},
     "output_type": "display_data"
    }
   ],
   "source": [
    "dim(combined_matrix)"
   ]
  },
  {
   "cell_type": "code",
   "execution_count": 20,
   "id": "de2f0742-a4a5-4c74-a480-0564165cf4d5",
   "metadata": {},
   "outputs": [
    {
     "data": {
      "text/html": [
       "0"
      ],
      "text/latex": [
       "0"
      ],
      "text/markdown": [
       "0"
      ],
      "text/plain": [
       "[1] 0"
      ]
     },
     "metadata": {},
     "output_type": "display_data"
    }
   ],
   "source": [
    "setdiff(rownames(combined_matrix), sample_annot$sampleID) %>% length"
   ]
  },
  {
   "cell_type": "code",
   "execution_count": 21,
   "id": "629fae17-b230-4227-b3aa-a08e4ddbe732",
   "metadata": {},
   "outputs": [],
   "source": [
    "write.csv(combined_matrix, paste0(output_dir, '/', output_count_filename), row.names = TRUE, quote=FALSE)"
   ]
  },
  {
   "cell_type": "raw",
   "id": "88f11a55-5986-42db-bed7-74a05c2017ce",
   "metadata": {},
   "source": [
    "cd '/s/project/promoter_prediction/sex_analysis/bcv'\n",
    "py_outrider --input gtexv8_rnaseq_counts.csv --encod_dim 5 --profile outrider --output py_outrider_results.h5ad --output_res_table py_outrider_results.csv  --num_cpus 10 --sample_anno sample_annotation.csv --covariates subtissue sex"
   ]
  }
 ],
 "metadata": {
  "kernelspec": {
   "display_name": "R [conda env:anaconda-drop2py2]",
   "language": "R",
   "name": "conda-env-anaconda-drop2py2-r"
  },
  "language_info": {
   "codemirror_mode": "r",
   "file_extension": ".r",
   "mimetype": "text/x-r-source",
   "name": "R",
   "pygments_lexer": "r",
   "version": "4.2.2"
  }
 },
 "nbformat": 4,
 "nbformat_minor": 5
}
