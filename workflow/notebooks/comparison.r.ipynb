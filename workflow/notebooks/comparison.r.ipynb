{
 "cells": [
  {
   "cell_type": "markdown",
   "id": "d5f2f78c-b671-44e3-a451-e26067843a26",
   "metadata": {},
   "source": [
    "# Variant-effect prediction comparison"
   ]
  },
  {
   "cell_type": "markdown",
   "id": "c52d28fc-a151-4158-9e79-3066d16dfc92",
   "metadata": {},
   "source": [
    "## Setup"
   ]
  },
  {
   "cell_type": "code",
   "execution_count": 1,
   "id": "2b80497d",
   "metadata": {
    "tags": [
     "snakemake-job-properties"
    ]
   },
   "outputs": [],
   "source": [
    "if (! exists(\"snakemake\")) {\n",
    "    library(methods)\n",
    "    Snakemake <- setClass(\n",
    "        \"Snakemake\",\n",
    "        slots = c(\n",
    "            input = \"list\",\n",
    "            output = \"list\",\n",
    "            params = \"list\",\n",
    "            wildcards = \"list\",\n",
    "            threads = \"numeric\",\n",
    "            log = \"list\",\n",
    "            resources = \"list\",\n",
    "            config = \"list\",\n",
    "            rule = \"character\",\n",
    "            bench_iteration = \"numeric\",\n",
    "            scriptdir = \"character\",\n",
    "            source = \"function\"\n",
    "        )\n",
    "    )\n",
    "    snakemake <- Snakemake(\n",
    "        input = list('output/smk/evaluation/prc.parquet/run=enformer_veff1/data.parquet', 'output/smk/evaluation/prc.parquet/run=enformer_veff2/data.parquet', 'output/smk/evaluation/prc.parquet/run=enformer_veff3/data.parquet', 'output/smk/evaluation/prc_tissue.parquet/run=enformer_veff1/data.parquet', 'output/smk/evaluation/prc_tissue.parquet/run=enformer_veff2/data.parquet', 'output/smk/evaluation/prc_tissue.parquet/run=enformer_veff3/data.parquet', 'output/smk/evaluation/prc_tissue_type.parquet/run=enformer_veff1/data.parquet', 'output/smk/evaluation/prc_tissue_type.parquet/run=enformer_veff2/data.parquet', 'output/smk/evaluation/prc_tissue_type.parquet/run=enformer_veff3/data.parquet', 'output/smk/evaluation/prc_fold.parquet/run=enformer_veff1/data.parquet', 'output/smk/evaluation/prc_fold.parquet/run=enformer_veff2/data.parquet', 'output/smk/evaluation/prc_fold.parquet/run=enformer_veff3/data.parquet', 'output/smk/evaluation/r2.parquet/run=enformer_veff1/data.parquet', 'output/smk/evaluation/r2.parquet/run=enformer_veff2/data.parquet', 'output/smk/evaluation/r2.parquet/run=enformer_veff3/data.parquet', 'output/smk/evaluation/r2_tissue.parquet/run=enformer_veff1/data.parquet', 'output/smk/evaluation/r2_tissue.parquet/run=enformer_veff2/data.parquet', 'output/smk/evaluation/r2_tissue.parquet/run=enformer_veff3/data.parquet', 'output/smk/evaluation/r2_tissue_type.parquet/run=enformer_veff1/data.parquet', 'output/smk/evaluation/r2_tissue_type.parquet/run=enformer_veff2/data.parquet', 'output/smk/evaluation/r2_tissue_type.parquet/run=enformer_veff3/data.parquet', 'output/smk/evaluation/r2_fold.parquet/run=enformer_veff1/data.parquet', 'output/smk/evaluation/r2_fold.parquet/run=enformer_veff2/data.parquet', 'output/smk/evaluation/r2_fold.parquet/run=enformer_veff3/data.parquet'),\n",
    "        output = list(),\n",
    "        params = list(),\n",
    "        wildcards = list('dev1', \"comparison_id\" = 'dev1'),\n",
    "        threads = 1,\n",
    "        log = list('output/smk/comparison/notebooks/dev1.r.ipynb', \"notebook\" = 'output/smk/comparison/notebooks/dev1.r.ipynb'),\n",
    "        resources = list('tmpdir', 'mem_mb', 'mem_mib', \"tmpdir\" = '/tmp', \"mem_mb\" = 121000, \"mem_mib\" = 115395),\n",
    "        config = list(\"output_path\" = 'output/smk', \"debug\" = TRUE, \"test\" = list(\"dataloader_size\" = 100, \"is_random_enformer\" = TRUE, \"precomputed_enformer_mapper_path\" = 'example_files/gtex_enformer_lm_models_pseudocount1.pkl'), \"benchmark\" = list(\"genotypes_path\" = 'example_files/gtex_samples/rare_variants.vcf.parquet', \"annotation_path\" = 'example_files/gtex_samples/benchmark_with_annotation.parquet', \"folds_path\" = 'example_files/gtex_samples/folds.parquet', \"fdr_cutoff\" = 0.2), \"runs\" = list(\"enformer_veff1\" = list(\"predictor\" = 'enformer', \"alternative\" = 'alt1', \"mapper\" = 'elasticnet_cage', \"isoform_file\" = 'example_files/isoform_proportions.tsv', \"aggregation_mode\" = 'logsumexp', \"upstream_tss\" = 2000, \"downstream_tss\" = 500), \"enformer_veff2\" = list(\"predictor\" = 'enformer', \"alternative\" = 'alt1', \"mapper\" = 'elasticnet_cage', \"isoform_file\" = NULL, \"aggregation_mode\" = 'canonical', \"upstream_tss\" = 2000, \"downstream_tss\" = 500), \"enformer_veff3\" = list(\"predictor\" = 'enformer', \"alternative\" = 'alt1', \"mapper\" = 'lightgbm_cage', \"isoform_file\" = 'example_files/isoform_proportions.tsv', \"aggregation_mode\" = 'logsumexp', \"upstream_tss\" = 2000, \"downstream_tss\" = 500), \"enformer_veff4\" = list(\"predictor\" = 'enformer', \"alternative\" = 'alt1', \"mapper\" = 'lightgbm_cage', \"isoform_file\" = NULL, \"aggregation_mode\" = 'canonical', \"upstream_tss\" = 2000, \"downstream_tss\" = 500), \"enformer_veff5\" = list(\"predictor\" = 'enformer', \"alternative\" = 'alt1', \"mapper\" = 'lightgbm_cage', \"isoform_file\" = 'example_files/isoform_proportions.tsv', \"aggregation_mode\" = 'logsumexp', \"upstream_tss\" = 100, \"downstream_tss\" = 500), \"enformer_veff6\" = list(\"predictor\" = 'enformer', \"alternative\" = 'alt1', \"mapper\" = 'lightgbm_cage', \"isoform_file\" = NULL, \"aggregation_mode\" = 'canonical', \"upstream_tss\" = 100, \"downstream_tss\" = 500), \"enformer_veff7\" = list(\"predictor\" = 'enformer', \"alternative\" = 'alt1', \"mapper\" = 'lightgbm_cage', \"isoform_file\" = NULL, \"aggregation_mode\" = 'canonical', \"upstream_tss\" = NULL, \"downstream_tss\" = NULL)), \"comparisons\" = list(\"dev1\" = c('enformer_veff1', 'enformer_veff2', 'enformer_veff3')), \"genomes\" = list(\"chr21_22\" = list(\"gtf_file\" = 'example_files/annot.gtf.gz', \"fasta_file\" = 'example_files/seq.fa', \"canonical_only\" = FALSE, \"protein_coding_only\" = TRUE, \"chromosomes\" = c('chr21', 'chr22'))), \"vcfs\" = list(\"chr21_22_var\" = list(\"path\" = 'example_files/vcf', \"variant_upstream_tss\" = 2000, \"variant_downstream_tss\" = 500)), \"enformer\" = list(\"models\" = list(\"short\" = list(\"shift\" = 43, \"batch_size\" = 2, \"num_output_bins\" = 21), \"complete\" = list(\"shift\" = 43, \"batch_size\" = 2, \"num_output_bins\" = 896)), \"references\" = list(\"ref1\" = list(\"genome\" = 'chr21_22', \"model\" = 'short')), \"alternatives\" = list(\"alt1\" = list(\"reference\" = 'ref1', \"vcf\" = 'chr21_22_var')), \"mappers\" = list(\"elasticnet_cage\" = list(\"num_agg_bins\" = 3, \"expression_path\" = 'example_files/gtex_samples/transcripts_tpms.zarr', \"tracks_path\" = 'assets/enformer_tracks/cage_nonuniversal_enformer_tracks.yaml', \"type\" = 'ElasticNet', \"params\" = list(\"cv\" = 2, \"max_iter\" = 1000)), \"lightgbm_cage\" = list(\"num_agg_bins\" = 3, \"expression_path\" = 'example_files/gtex_samples/transcripts_tpms.zarr', \"tracks_path\" = 'assets/enformer_tracks/cage_nonuniversal_enformer_tracks.yaml', \"type\" = 'LightGBM')))),\n",
    "        rule = 'comparison',\n",
    "        bench_iteration = as.numeric(NA),\n",
    "        scriptdir = '/home/george/Projects/kipoi_enformer/workflow/notebooks',\n",
    "        source = function(...){\n",
    "            wd <- getwd()\n",
    "            setwd(snakemake@scriptdir)\n",
    "            source(...)\n",
    "            setwd(wd)\n",
    "        }\n",
    "    )\n",
    "    setwd('/home/george/Projects/kipoi_enformer');\n",
    "}"
   ]
  },
  {
   "cell_type": "code",
   "execution_count": 2,
   "id": "7fb7d611",
   "metadata": {},
   "outputs": [
    {
     "name": "stderr",
     "output_type": "stream",
     "text": [
      "Warning message:\n",
      "“package ‘data.table’ was built under R version 4.3.3”\n",
      "Warning message:\n",
      "“package ‘arrow’ was built under R version 4.3.3”\n",
      "\n",
      "Attaching package: ‘arrow’\n",
      "\n",
      "\n",
      "The following object is masked from ‘package:utils’:\n",
      "\n",
      "    timestamp\n",
      "\n",
      "\n",
      "Warning message:\n",
      "“package ‘dplyr’ was built under R version 4.3.2”\n",
      "\n",
      "Attaching package: ‘dplyr’\n",
      "\n",
      "\n",
      "The following objects are masked from ‘package:data.table’:\n",
      "\n",
      "    between, first, last\n",
      "\n",
      "\n",
      "The following objects are masked from ‘package:stats’:\n",
      "\n",
      "    filter, lag\n",
      "\n",
      "\n",
      "The following objects are masked from ‘package:base’:\n",
      "\n",
      "    intersect, setdiff, setequal, union\n",
      "\n",
      "\n",
      "\n",
      "Attaching package: ‘rstatix’\n",
      "\n",
      "\n",
      "The following object is masked from ‘package:stats’:\n",
      "\n",
      "    filter\n",
      "\n",
      "\n",
      "Warning message:\n",
      "“package ‘ggplot2’ was built under R version 4.3.3”\n",
      "Warning message:\n",
      "“package ‘cowplot’ was built under R version 4.3.2”\n"
     ]
    }
   ],
   "source": [
    "library('data.table')\n",
    "library('arrow')\n",
    "library('dplyr')\n",
    "library('rstatix')\n",
    "library('ggplot2')\n",
    "library('cowplot')"
   ]
  },
  {
   "cell_type": "code",
   "execution_count": 3,
   "id": "64387b3d-5869-4d77-b2de-5783b44b3e57",
   "metadata": {},
   "outputs": [],
   "source": [
    "LINESIZE = 1\n",
    "FONTSIZE = 12\n",
    "THEME = theme_cowplot(font_size = FONTSIZE, font_family = 'Helvetica') + theme(plot.tag = element_text(face = \"bold\"))"
   ]
  },
  {
   "cell_type": "code",
   "execution_count": 5,
   "id": "8e5f9fcc-aab8-4c54-9776-90a035ab9c32",
   "metadata": {},
   "outputs": [],
   "source": [
    "evaluation_path = file.path(snakemake@config[['output_path']], 'evaluation')\n",
    "eval_list = list()\n",
    "for (metric in c('prc', 'r2')){\n",
    "    for (feature in c('', '_tissue', '_tissue_type', '_fold')){\n",
    "        fname = paste0(metric, feature, '.parquet')\n",
    "        eval_list[[fname]] = (file.path(evaluation_path, fname) %>%\n",
    "                               open_dataset(partitioning = c(\"run\")) %>%\n",
    "                               as.data.table())\n",
    "    }\n",
    "}"
   ]
  },
  {
   "cell_type": "markdown",
   "id": "8f8e6966-7e61-4bfb-824c-c08019048d38",
   "metadata": {},
   "source": [
    "## Analysis"
   ]
  },
  {
   "cell_type": "code",
   "execution_count": 6,
   "id": "7a824765-65c3-44b7-99c1-eab415817c3d",
   "metadata": {},
   "outputs": [],
   "source": [
    "types = c('total', 'obvious', 'not_obvious')"
   ]
  },
  {
   "cell_type": "code",
   "execution_count": 7,
   "id": "335c08ff-c684-4424-b81a-49ad5fe03191",
   "metadata": {},
   "outputs": [],
   "source": [
    "# # PRC curve faceted by type and colored by run\n",
    "# prc_plot = (\n",
    "#     ggplot(prc_df[is_binary == FALSE,], aes(x=`recall`, y=`precision`))\n",
    "#     + geom_step(aes(color=reorder(`model`, `idx`)), linewidth=LINESIZE, direction=\"hv\")\n",
    "#     + scale_color_manual(name = element_blank(), values=nonbinary_model_colors)\n",
    "#     # + new_scale(\"color\")\n",
    "#     + geom_point(\n",
    "#         data=prc_df[is_binary == TRUE, .(`precision`, `recall`, `baseline model type` = `model`)],\n",
    "#         aes(x=`recall`, y=`precision`),\n",
    "#         # shape=\"x\",\n",
    "#         size=2\n",
    "#         # size = 10\n",
    "#     )\n",
    "#     + geom_text_repel(\n",
    "#         data=prc_df[`is_binary` == TRUE,],\n",
    "#         aes(label=`model`),\n",
    "#         nudge_x = 0.02,\n",
    "#         nudge_y = 0.02,\n",
    "#         min.segment.length = 0,\n",
    "#         box.padding = 0.5\n",
    "#         # nudge_x = 0.1,\n",
    "#     )\n",
    "#     + THEME\n",
    "#     + background_grid(major = \"xy\", minor = \"xy\")\n",
    "#     + scale_x_continuous(\n",
    "#         limits = c(0, 0.35),\n",
    "#         breaks = seq(0, 1, 0.1),\n",
    "#         minor_breaks = seq(0, 1, 0.2)\n",
    "#     )\n",
    "#     + scale_y_continuous(\n",
    "#         limits = c(-0.0, 0.3),\n",
    "#         breaks = seq(0, 1, 0.05),\n",
    "#         minor_breaks = seq(0, 1, 0.2)\n",
    "#         # breaks = seq(0, 1, 0.05),\n",
    "#         # minor_breaks = seq(0, 1, 0.025)\n",
    "#     )\n",
    "#     + scale_shape_manual(name=element_blank(), values=c(4, 4))\n",
    "#     + guides(color=guide_legend(order = 1), shape=guide_legend(order = 2))\n",
    "#     + theme(\n",
    "#         #legend.position=\"right\",\n",
    "#         legend.position = c(0.95, 0.95),\n",
    "#         legend.justification = c(\"right\", \"top\")\n",
    "#         # axis.text.x=element_text(angle=45, hjust=1),\n",
    "#     )\n",
    "#     + labs(\n",
    "#         x='Recall',\n",
    "#         y='Precision',\n",
    "#         title=\"All tissues\"\n",
    "#     )\n",
    "# )"
   ]
  },
  {
   "cell_type": "code",
   "execution_count": null,
   "id": "f28aa6e8-3c27-4b26-a072-5d0944800999",
   "metadata": {},
   "outputs": [],
   "source": [
    "# AUPRC Box plots across tissues with p-values\n",
    "# only test best model against all others\n",
    "# for each type"
   ]
  },
  {
   "cell_type": "code",
   "execution_count": null,
   "id": "cc64d79c-09cb-4c69-8561-faebeb65fd33",
   "metadata": {},
   "outputs": [],
   "source": [
    "# AUPRC Box plots across tissue types with p-values\n",
    "# only test best model against all others\n",
    "# for each type"
   ]
  },
  {
   "cell_type": "code",
   "execution_count": 5,
   "id": "711b0487-d6e9-4cfc-9ed7-1bd24bb35a0c",
   "metadata": {},
   "outputs": [],
   "source": [
    "# AUPRC Box plots across folds with p-values\n",
    "# only test best model against all others\n",
    "# for each type"
   ]
  },
  {
   "cell_type": "code",
   "execution_count": null,
   "id": "3140522d-fe55-4cc2-83f1-2500e0c9ed78",
   "metadata": {},
   "outputs": [],
   "source": [
    "# R2 Box plots across tissues with p-values\n",
    "# only test best model against all others\n",
    "# for each type"
   ]
  },
  {
   "cell_type": "code",
   "execution_count": null,
   "id": "29cc99fc-915f-469c-9d59-b60fa9669d28",
   "metadata": {},
   "outputs": [],
   "source": [
    "# R2 Box plots across tissue types with p-values\n",
    "# only test best model against all others\n",
    "# for each type"
   ]
  },
  {
   "cell_type": "code",
   "execution_count": 5,
   "id": "4c5d4103-0ee2-4350-8301-3eef3988c605",
   "metadata": {},
   "outputs": [],
   "source": [
    "# R2 Box plots across folds with p-values\n",
    "# only test best model against all others\n",
    "# for each type"
   ]
  }
 ],
 "metadata": {
  "kernelspec": {
   "display_name": "R",
   "language": "R",
   "name": "ir"
  },
  "language_info": {
   "codemirror_mode": "r",
   "file_extension": ".r",
   "mimetype": "text/x-r-source",
   "name": "R",
   "pygments_lexer": "r",
   "version": "4.3.1"
  }
 },
 "nbformat": 4,
 "nbformat_minor": 5
}
