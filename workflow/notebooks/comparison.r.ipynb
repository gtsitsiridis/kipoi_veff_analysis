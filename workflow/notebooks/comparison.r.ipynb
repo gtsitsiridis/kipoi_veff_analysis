{
 "cells": [
  {
   "cell_type": "markdown",
   "id": "d5f2f78c-b671-44e3-a451-e26067843a26",
   "metadata": {},
   "source": [
    "# Variant-effect prediction comparison"
   ]
  },
  {
   "cell_type": "markdown",
   "id": "c52d28fc-a151-4158-9e79-3066d16dfc92",
   "metadata": {},
   "source": [
    "## Setup"
   ]
  },
  {
   "cell_type": "code",
   "execution_count": 1,
   "id": "2b80497d",
   "metadata": {
    "tags": [
     "snakemake-job-properties"
    ]
   },
   "outputs": [],
   "source": [
    "if (! exists(\"snakemake\")) {\n",
    "    library(methods)\n",
    "    Snakemake <- setClass(\n",
    "        \"Snakemake\",\n",
    "        slots = c(\n",
    "            input = \"list\",\n",
    "            output = \"list\",\n",
    "            params = \"list\",\n",
    "            wildcards = \"list\",\n",
    "            threads = \"numeric\",\n",
    "            log = \"list\",\n",
    "            resources = \"list\",\n",
    "            config = \"list\",\n",
    "            rule = \"character\",\n",
    "            bench_iteration = \"numeric\",\n",
    "            scriptdir = \"character\",\n",
    "            source = \"function\"\n",
    "        )\n",
    "    )\n",
    "    snakemake <- Snakemake(\n",
    "        input = list('output/smk/evaluation/prc.parquet/run=enformer_veff1/data.parquet', 'output/smk/evaluation/prc.parquet/run=enformer_veff2/data.parquet', 'output/smk/evaluation/prc.parquet/run=enformer_veff3/data.parquet', 'output/smk/evaluation/prc_tissue.parquet/run=enformer_veff1/data.parquet', 'output/smk/evaluation/prc_tissue.parquet/run=enformer_veff2/data.parquet', 'output/smk/evaluation/prc_tissue.parquet/run=enformer_veff3/data.parquet', 'output/smk/evaluation/prc_tissue_type.parquet/run=enformer_veff1/data.parquet', 'output/smk/evaluation/prc_tissue_type.parquet/run=enformer_veff2/data.parquet', 'output/smk/evaluation/prc_tissue_type.parquet/run=enformer_veff3/data.parquet', 'output/smk/evaluation/prc_fold.parquet/run=enformer_veff1/data.parquet', 'output/smk/evaluation/prc_fold.parquet/run=enformer_veff2/data.parquet', 'output/smk/evaluation/prc_fold.parquet/run=enformer_veff3/data.parquet', 'output/smk/evaluation/r2.parquet/run=enformer_veff1/data.parquet', 'output/smk/evaluation/r2.parquet/run=enformer_veff2/data.parquet', 'output/smk/evaluation/r2.parquet/run=enformer_veff3/data.parquet', 'output/smk/evaluation/r2_tissue.parquet/run=enformer_veff1/data.parquet', 'output/smk/evaluation/r2_tissue.parquet/run=enformer_veff2/data.parquet', 'output/smk/evaluation/r2_tissue.parquet/run=enformer_veff3/data.parquet', 'output/smk/evaluation/r2_tissue_type.parquet/run=enformer_veff1/data.parquet', 'output/smk/evaluation/r2_tissue_type.parquet/run=enformer_veff2/data.parquet', 'output/smk/evaluation/r2_tissue_type.parquet/run=enformer_veff3/data.parquet', 'output/smk/evaluation/r2_fold.parquet/run=enformer_veff1/data.parquet', 'output/smk/evaluation/r2_fold.parquet/run=enformer_veff2/data.parquet', 'output/smk/evaluation/r2_fold.parquet/run=enformer_veff3/data.parquet'),\n",
    "        output = list(),\n",
    "        params = list(),\n",
    "        wildcards = list('dev1', \"comparison_id\" = 'dev1'),\n",
    "        threads = 1,\n",
    "        log = list('output/smk/comparison/notebooks/dev1.r.ipynb', \"notebook\" = 'output/smk/comparison/notebooks/dev1.r.ipynb'),\n",
    "        resources = list('tmpdir', 'mem_mb', 'mem_mib', \"tmpdir\" = '/tmp', \"mem_mb\" = 121000, \"mem_mib\" = 115395),\n",
    "        config = list(\"output_path\" = 'output/smk', \"debug\" = TRUE, \"test\" = list(\"dataloader_size\" = 100, \"is_random_enformer\" = TRUE, \"precomputed_enformer_mapper_path\" = 'example_files/gtex_enformer_lm_models_pseudocount1.pkl'), \"benchmark\" = list(\"genotypes_path\" = 'example_files/gtex_samples/rare_variants.vcf.parquet', \"annotation_path\" = 'example_files/gtex_samples/benchmark_with_annotation.parquet', \"folds_path\" = 'example_files/gtex_samples/folds.parquet', \"fdr_cutoff\" = 0.2), \"runs\" = list(\"enformer_veff1\" = list(\"predictor\" = 'enformer', \"alternative\" = 'alt1', \"mapper\" = 'elasticnet_cage', \"isoform_file\" = 'example_files/isoform_proportions.tsv', \"aggregation_mode\" = 'logsumexp', \"upstream_tss\" = 2000, \"downstream_tss\" = 500), \"enformer_veff2\" = list(\"predictor\" = 'enformer', \"alternative\" = 'alt1', \"mapper\" = 'elasticnet_cage', \"isoform_file\" = NULL, \"aggregation_mode\" = 'canonical', \"upstream_tss\" = 2000, \"downstream_tss\" = 500), \"enformer_veff3\" = list(\"predictor\" = 'enformer', \"alternative\" = 'alt1', \"mapper\" = 'lightgbm_cage', \"isoform_file\" = 'example_files/isoform_proportions.tsv', \"aggregation_mode\" = 'logsumexp', \"upstream_tss\" = 2000, \"downstream_tss\" = 500), \"enformer_veff4\" = list(\"predictor\" = 'enformer', \"alternative\" = 'alt1', \"mapper\" = 'lightgbm_cage', \"isoform_file\" = NULL, \"aggregation_mode\" = 'canonical', \"upstream_tss\" = 2000, \"downstream_tss\" = 500), \"enformer_veff5\" = list(\"predictor\" = 'enformer', \"alternative\" = 'alt1', \"mapper\" = 'lightgbm_cage', \"isoform_file\" = 'example_files/isoform_proportions.tsv', \"aggregation_mode\" = 'logsumexp', \"upstream_tss\" = 100, \"downstream_tss\" = 500), \"enformer_veff6\" = list(\"predictor\" = 'enformer', \"alternative\" = 'alt1', \"mapper\" = 'lightgbm_cage', \"isoform_file\" = NULL, \"aggregation_mode\" = 'canonical', \"upstream_tss\" = 100, \"downstream_tss\" = 500), \"enformer_veff7\" = list(\"predictor\" = 'enformer', \"alternative\" = 'alt1', \"mapper\" = 'lightgbm_cage', \"isoform_file\" = NULL, \"aggregation_mode\" = 'canonical', \"upstream_tss\" = NULL, \"downstream_tss\" = NULL)), \"comparisons\" = list(\"dev1\" = c('enformer_veff1', 'enformer_veff2', 'enformer_veff3')), \"genomes\" = list(\"chr21_22\" = list(\"gtf_file\" = 'example_files/annot.gtf.gz', \"fasta_file\" = 'example_files/seq.fa', \"canonical_only\" = FALSE, \"protein_coding_only\" = TRUE, \"chromosomes\" = c('chr21', 'chr22'))), \"vcfs\" = list(\"chr21_22_var\" = list(\"path\" = 'example_files/vcf', \"variant_upstream_tss\" = 2000, \"variant_downstream_tss\" = 500)), \"enformer\" = list(\"models\" = list(\"short\" = list(\"shift\" = 43, \"batch_size\" = 2, \"num_output_bins\" = 21), \"complete\" = list(\"shift\" = 43, \"batch_size\" = 2, \"num_output_bins\" = 896)), \"references\" = list(\"ref1\" = list(\"genome\" = 'chr21_22', \"model\" = 'short')), \"alternatives\" = list(\"alt1\" = list(\"reference\" = 'ref1', \"vcf\" = 'chr21_22_var')), \"mappers\" = list(\"elasticnet_cage\" = list(\"num_agg_bins\" = 3, \"expression_path\" = 'example_files/gtex_samples/transcripts_tpms.zarr', \"tracks_path\" = 'assets/enformer_tracks/cage_nonuniversal_enformer_tracks.yaml', \"type\" = 'ElasticNet', \"params\" = list(\"cv\" = 2, \"max_iter\" = 1000)), \"lightgbm_cage\" = list(\"num_agg_bins\" = 3, \"expression_path\" = 'example_files/gtex_samples/transcripts_tpms.zarr', \"tracks_path\" = 'assets/enformer_tracks/cage_nonuniversal_enformer_tracks.yaml', \"type\" = 'LightGBM')))),\n",
    "        rule = 'comparison',\n",
    "        bench_iteration = as.numeric(NA),\n",
    "        scriptdir = '/home/george/Projects/kipoi_enformer/workflow/notebooks',\n",
    "        source = function(...){\n",
    "            wd <- getwd()\n",
    "            setwd(snakemake@scriptdir)\n",
    "            source(...)\n",
    "            setwd(wd)\n",
    "        }\n",
    "    )\n",
    "    setwd('/home/george/Projects/kipoi_enformer');\n",
    "}"
   ]
  },
  {
   "cell_type": "code",
   "execution_count": 2,
   "id": "7fb7d611",
   "metadata": {},
   "outputs": [
    {
     "name": "stderr",
     "output_type": "stream",
     "text": [
      "Warning message:\n",
      "“package ‘data.table’ was built under R version 4.3.3”\n",
      "Warning message:\n",
      "“package ‘arrow’ was built under R version 4.3.3”\n",
      "\n",
      "Attaching package: ‘arrow’\n",
      "\n",
      "\n",
      "The following object is masked from ‘package:utils’:\n",
      "\n",
      "    timestamp\n",
      "\n",
      "\n",
      "Warning message:\n",
      "“package ‘dplyr’ was built under R version 4.3.2”\n",
      "\n",
      "Attaching package: ‘dplyr’\n",
      "\n",
      "\n",
      "The following objects are masked from ‘package:data.table’:\n",
      "\n",
      "    between, first, last\n",
      "\n",
      "\n",
      "The following objects are masked from ‘package:stats’:\n",
      "\n",
      "    filter, lag\n",
      "\n",
      "\n",
      "The following objects are masked from ‘package:base’:\n",
      "\n",
      "    intersect, setdiff, setequal, union\n",
      "\n",
      "\n",
      "\n",
      "Attaching package: ‘rstatix’\n",
      "\n",
      "\n",
      "The following object is masked from ‘package:stats’:\n",
      "\n",
      "    filter\n",
      "\n",
      "\n"
     ]
    }
   ],
   "source": [
    "library('data.table')\n",
    "library('arrow')\n",
    "library('dplyr')\n",
    "library('rstatix')"
   ]
  },
  {
   "cell_type": "code",
   "execution_count": 3,
   "id": "2b5d4cb3-cd68-4040-8846-ba85922150d8",
   "metadata": {},
   "outputs": [
    {
     "data": {
      "text/html": [
       "<ol>\n",
       "\t<li>'output/smk/evaluation/prc.parquet/run=enformer_veff1/data.parquet'</li>\n",
       "\t<li>'output/smk/evaluation/prc.parquet/run=enformer_veff2/data.parquet'</li>\n",
       "\t<li>'output/smk/evaluation/prc.parquet/run=enformer_veff3/data.parquet'</li>\n",
       "\t<li>'output/smk/evaluation/prc_tissue.parquet/run=enformer_veff1/data.parquet'</li>\n",
       "\t<li>'output/smk/evaluation/prc_tissue.parquet/run=enformer_veff2/data.parquet'</li>\n",
       "\t<li>'output/smk/evaluation/prc_tissue.parquet/run=enformer_veff3/data.parquet'</li>\n",
       "\t<li>'output/smk/evaluation/prc_tissue_type.parquet/run=enformer_veff1/data.parquet'</li>\n",
       "\t<li>'output/smk/evaluation/prc_tissue_type.parquet/run=enformer_veff2/data.parquet'</li>\n",
       "\t<li>'output/smk/evaluation/prc_tissue_type.parquet/run=enformer_veff3/data.parquet'</li>\n",
       "\t<li>'output/smk/evaluation/prc_fold.parquet/run=enformer_veff1/data.parquet'</li>\n",
       "\t<li>'output/smk/evaluation/prc_fold.parquet/run=enformer_veff2/data.parquet'</li>\n",
       "\t<li>'output/smk/evaluation/prc_fold.parquet/run=enformer_veff3/data.parquet'</li>\n",
       "\t<li>'output/smk/evaluation/r2.parquet/run=enformer_veff1/data.parquet'</li>\n",
       "\t<li>'output/smk/evaluation/r2.parquet/run=enformer_veff2/data.parquet'</li>\n",
       "\t<li>'output/smk/evaluation/r2.parquet/run=enformer_veff3/data.parquet'</li>\n",
       "\t<li>'output/smk/evaluation/r2_tissue.parquet/run=enformer_veff1/data.parquet'</li>\n",
       "\t<li>'output/smk/evaluation/r2_tissue.parquet/run=enformer_veff2/data.parquet'</li>\n",
       "\t<li>'output/smk/evaluation/r2_tissue.parquet/run=enformer_veff3/data.parquet'</li>\n",
       "\t<li>'output/smk/evaluation/r2_tissue_type.parquet/run=enformer_veff1/data.parquet'</li>\n",
       "\t<li>'output/smk/evaluation/r2_tissue_type.parquet/run=enformer_veff2/data.parquet'</li>\n",
       "\t<li>'output/smk/evaluation/r2_tissue_type.parquet/run=enformer_veff3/data.parquet'</li>\n",
       "\t<li>'output/smk/evaluation/r2_fold.parquet/run=enformer_veff1/data.parquet'</li>\n",
       "\t<li>'output/smk/evaluation/r2_fold.parquet/run=enformer_veff2/data.parquet'</li>\n",
       "\t<li>'output/smk/evaluation/r2_fold.parquet/run=enformer_veff3/data.parquet'</li>\n",
       "</ol>\n"
      ],
      "text/latex": [
       "\\begin{enumerate}\n",
       "\\item 'output/smk/evaluation/prc.parquet/run=enformer\\_veff1/data.parquet'\n",
       "\\item 'output/smk/evaluation/prc.parquet/run=enformer\\_veff2/data.parquet'\n",
       "\\item 'output/smk/evaluation/prc.parquet/run=enformer\\_veff3/data.parquet'\n",
       "\\item 'output/smk/evaluation/prc\\_tissue.parquet/run=enformer\\_veff1/data.parquet'\n",
       "\\item 'output/smk/evaluation/prc\\_tissue.parquet/run=enformer\\_veff2/data.parquet'\n",
       "\\item 'output/smk/evaluation/prc\\_tissue.parquet/run=enformer\\_veff3/data.parquet'\n",
       "\\item 'output/smk/evaluation/prc\\_tissue\\_type.parquet/run=enformer\\_veff1/data.parquet'\n",
       "\\item 'output/smk/evaluation/prc\\_tissue\\_type.parquet/run=enformer\\_veff2/data.parquet'\n",
       "\\item 'output/smk/evaluation/prc\\_tissue\\_type.parquet/run=enformer\\_veff3/data.parquet'\n",
       "\\item 'output/smk/evaluation/prc\\_fold.parquet/run=enformer\\_veff1/data.parquet'\n",
       "\\item 'output/smk/evaluation/prc\\_fold.parquet/run=enformer\\_veff2/data.parquet'\n",
       "\\item 'output/smk/evaluation/prc\\_fold.parquet/run=enformer\\_veff3/data.parquet'\n",
       "\\item 'output/smk/evaluation/r2.parquet/run=enformer\\_veff1/data.parquet'\n",
       "\\item 'output/smk/evaluation/r2.parquet/run=enformer\\_veff2/data.parquet'\n",
       "\\item 'output/smk/evaluation/r2.parquet/run=enformer\\_veff3/data.parquet'\n",
       "\\item 'output/smk/evaluation/r2\\_tissue.parquet/run=enformer\\_veff1/data.parquet'\n",
       "\\item 'output/smk/evaluation/r2\\_tissue.parquet/run=enformer\\_veff2/data.parquet'\n",
       "\\item 'output/smk/evaluation/r2\\_tissue.parquet/run=enformer\\_veff3/data.parquet'\n",
       "\\item 'output/smk/evaluation/r2\\_tissue\\_type.parquet/run=enformer\\_veff1/data.parquet'\n",
       "\\item 'output/smk/evaluation/r2\\_tissue\\_type.parquet/run=enformer\\_veff2/data.parquet'\n",
       "\\item 'output/smk/evaluation/r2\\_tissue\\_type.parquet/run=enformer\\_veff3/data.parquet'\n",
       "\\item 'output/smk/evaluation/r2\\_fold.parquet/run=enformer\\_veff1/data.parquet'\n",
       "\\item 'output/smk/evaluation/r2\\_fold.parquet/run=enformer\\_veff2/data.parquet'\n",
       "\\item 'output/smk/evaluation/r2\\_fold.parquet/run=enformer\\_veff3/data.parquet'\n",
       "\\end{enumerate}\n"
      ],
      "text/markdown": [
       "1. 'output/smk/evaluation/prc.parquet/run=enformer_veff1/data.parquet'\n",
       "2. 'output/smk/evaluation/prc.parquet/run=enformer_veff2/data.parquet'\n",
       "3. 'output/smk/evaluation/prc.parquet/run=enformer_veff3/data.parquet'\n",
       "4. 'output/smk/evaluation/prc_tissue.parquet/run=enformer_veff1/data.parquet'\n",
       "5. 'output/smk/evaluation/prc_tissue.parquet/run=enformer_veff2/data.parquet'\n",
       "6. 'output/smk/evaluation/prc_tissue.parquet/run=enformer_veff3/data.parquet'\n",
       "7. 'output/smk/evaluation/prc_tissue_type.parquet/run=enformer_veff1/data.parquet'\n",
       "8. 'output/smk/evaluation/prc_tissue_type.parquet/run=enformer_veff2/data.parquet'\n",
       "9. 'output/smk/evaluation/prc_tissue_type.parquet/run=enformer_veff3/data.parquet'\n",
       "10. 'output/smk/evaluation/prc_fold.parquet/run=enformer_veff1/data.parquet'\n",
       "11. 'output/smk/evaluation/prc_fold.parquet/run=enformer_veff2/data.parquet'\n",
       "12. 'output/smk/evaluation/prc_fold.parquet/run=enformer_veff3/data.parquet'\n",
       "13. 'output/smk/evaluation/r2.parquet/run=enformer_veff1/data.parquet'\n",
       "14. 'output/smk/evaluation/r2.parquet/run=enformer_veff2/data.parquet'\n",
       "15. 'output/smk/evaluation/r2.parquet/run=enformer_veff3/data.parquet'\n",
       "16. 'output/smk/evaluation/r2_tissue.parquet/run=enformer_veff1/data.parquet'\n",
       "17. 'output/smk/evaluation/r2_tissue.parquet/run=enformer_veff2/data.parquet'\n",
       "18. 'output/smk/evaluation/r2_tissue.parquet/run=enformer_veff3/data.parquet'\n",
       "19. 'output/smk/evaluation/r2_tissue_type.parquet/run=enformer_veff1/data.parquet'\n",
       "20. 'output/smk/evaluation/r2_tissue_type.parquet/run=enformer_veff2/data.parquet'\n",
       "21. 'output/smk/evaluation/r2_tissue_type.parquet/run=enformer_veff3/data.parquet'\n",
       "22. 'output/smk/evaluation/r2_fold.parquet/run=enformer_veff1/data.parquet'\n",
       "23. 'output/smk/evaluation/r2_fold.parquet/run=enformer_veff2/data.parquet'\n",
       "24. 'output/smk/evaluation/r2_fold.parquet/run=enformer_veff3/data.parquet'\n",
       "\n",
       "\n"
      ],
      "text/plain": [
       "[[1]]\n",
       "[1] \"output/smk/evaluation/prc.parquet/run=enformer_veff1/data.parquet\"\n",
       "\n",
       "[[2]]\n",
       "[1] \"output/smk/evaluation/prc.parquet/run=enformer_veff2/data.parquet\"\n",
       "\n",
       "[[3]]\n",
       "[1] \"output/smk/evaluation/prc.parquet/run=enformer_veff3/data.parquet\"\n",
       "\n",
       "[[4]]\n",
       "[1] \"output/smk/evaluation/prc_tissue.parquet/run=enformer_veff1/data.parquet\"\n",
       "\n",
       "[[5]]\n",
       "[1] \"output/smk/evaluation/prc_tissue.parquet/run=enformer_veff2/data.parquet\"\n",
       "\n",
       "[[6]]\n",
       "[1] \"output/smk/evaluation/prc_tissue.parquet/run=enformer_veff3/data.parquet\"\n",
       "\n",
       "[[7]]\n",
       "[1] \"output/smk/evaluation/prc_tissue_type.parquet/run=enformer_veff1/data.parquet\"\n",
       "\n",
       "[[8]]\n",
       "[1] \"output/smk/evaluation/prc_tissue_type.parquet/run=enformer_veff2/data.parquet\"\n",
       "\n",
       "[[9]]\n",
       "[1] \"output/smk/evaluation/prc_tissue_type.parquet/run=enformer_veff3/data.parquet\"\n",
       "\n",
       "[[10]]\n",
       "[1] \"output/smk/evaluation/prc_fold.parquet/run=enformer_veff1/data.parquet\"\n",
       "\n",
       "[[11]]\n",
       "[1] \"output/smk/evaluation/prc_fold.parquet/run=enformer_veff2/data.parquet\"\n",
       "\n",
       "[[12]]\n",
       "[1] \"output/smk/evaluation/prc_fold.parquet/run=enformer_veff3/data.parquet\"\n",
       "\n",
       "[[13]]\n",
       "[1] \"output/smk/evaluation/r2.parquet/run=enformer_veff1/data.parquet\"\n",
       "\n",
       "[[14]]\n",
       "[1] \"output/smk/evaluation/r2.parquet/run=enformer_veff2/data.parquet\"\n",
       "\n",
       "[[15]]\n",
       "[1] \"output/smk/evaluation/r2.parquet/run=enformer_veff3/data.parquet\"\n",
       "\n",
       "[[16]]\n",
       "[1] \"output/smk/evaluation/r2_tissue.parquet/run=enformer_veff1/data.parquet\"\n",
       "\n",
       "[[17]]\n",
       "[1] \"output/smk/evaluation/r2_tissue.parquet/run=enformer_veff2/data.parquet\"\n",
       "\n",
       "[[18]]\n",
       "[1] \"output/smk/evaluation/r2_tissue.parquet/run=enformer_veff3/data.parquet\"\n",
       "\n",
       "[[19]]\n",
       "[1] \"output/smk/evaluation/r2_tissue_type.parquet/run=enformer_veff1/data.parquet\"\n",
       "\n",
       "[[20]]\n",
       "[1] \"output/smk/evaluation/r2_tissue_type.parquet/run=enformer_veff2/data.parquet\"\n",
       "\n",
       "[[21]]\n",
       "[1] \"output/smk/evaluation/r2_tissue_type.parquet/run=enformer_veff3/data.parquet\"\n",
       "\n",
       "[[22]]\n",
       "[1] \"output/smk/evaluation/r2_fold.parquet/run=enformer_veff1/data.parquet\"\n",
       "\n",
       "[[23]]\n",
       "[1] \"output/smk/evaluation/r2_fold.parquet/run=enformer_veff2/data.parquet\"\n",
       "\n",
       "[[24]]\n",
       "[1] \"output/smk/evaluation/r2_fold.parquet/run=enformer_veff3/data.parquet\"\n"
      ]
     },
     "metadata": {},
     "output_type": "display_data"
    }
   ],
   "source": [
    "snakemake@input"
   ]
  },
  {
   "cell_type": "code",
   "execution_count": 4,
   "id": "8e5f9fcc-aab8-4c54-9776-90a035ab9c32",
   "metadata": {},
   "outputs": [],
   "source": [
    "prc_df = as.data.table(open_dataset(\"output/smk/evaluation/prc.parquet\", partitioning = c(\"run\")))\n",
    "prc_tissue_df = as.data.table(open_dataset(\"output/smk/evaluation/prc_tissue.parquet\", partitioning = c(\"run\")))\n",
    "prc_tissue_type_df = as.data.table(open_dataset(\"output/smk/evaluation/prc_tissue_type.parquet\", partitioning = c(\"run\")))\n",
    "prc_fold_df = as.data.table(open_dataset(\"output/smk/evaluation/prc_fold.parquet\", partitioning = c(\"run\")))\n",
    "r2_df = as.data.table(open_dataset(\"output/smk/evaluation/r2.parquet\", partitioning = c(\"run\")))\n",
    "r2_tissue_df = as.data.table(open_dataset(\"output/smk/evaluation/r2_tissue.parquet\", partitioning = c(\"run\")))\n",
    "r2_tissue_type_df = as.data.table(open_dataset(\"output/smk/evaluation/r2_tissue_type.parquet\", partitioning = c(\"run\")))\n",
    "r2_fold_df = as.data.table(open_dataset(\"output/smk/evaluation/r2_fold.parquet\", partitioning = c(\"run\")))"
   ]
  },
  {
   "cell_type": "markdown",
   "id": "8f8e6966-7e61-4bfb-824c-c08019048d38",
   "metadata": {},
   "source": [
    "## Analysis"
   ]
  },
  {
   "cell_type": "code",
   "execution_count": 27,
   "id": "7a824765-65c3-44b7-99c1-eab415817c3d",
   "metadata": {},
   "outputs": [],
   "source": [
    "types = c('total', 'obvious', 'not_obvious')"
   ]
  },
  {
   "cell_type": "code",
   "execution_count": 18,
   "id": "da15c57f-f872-428f-a1e9-42df52eb41a9",
   "metadata": {},
   "outputs": [
    {
     "data": {
      "text/html": [
       "<table class=\"dataframe\">\n",
       "<caption>A data.table: 6 × 8</caption>\n",
       "<thead>\n",
       "\t<tr><th scope=col>precision</th><th scope=col>recall</th><th scope=col>threshold</th><th scope=col>is_binary</th><th scope=col>auc</th><th scope=col>tissue</th><th scope=col>type_</th><th scope=col>run</th></tr>\n",
       "\t<tr><th scope=col>&lt;dbl&gt;</th><th scope=col>&lt;dbl&gt;</th><th scope=col>&lt;dbl&gt;</th><th scope=col>&lt;lgl&gt;</th><th scope=col>&lt;dbl&gt;</th><th scope=col>&lt;chr&gt;</th><th scope=col>&lt;chr&gt;</th><th scope=col>&lt;chr&gt;</th></tr>\n",
       "</thead>\n",
       "<tbody>\n",
       "\t<tr><td>0e+00</td><td>0</td><td>1.9486269</td><td>FALSE</td><td>1.287333e-04</td><td>Adipose - Subcutaneous      </td><td>total</td><td>enformer_veff1</td></tr>\n",
       "\t<tr><td>1e-04</td><td>1</td><td>0.0000000</td><td>FALSE</td><td>1.287333e-04</td><td>Adipose - Subcutaneous      </td><td>total</td><td>enformer_veff1</td></tr>\n",
       "\t<tr><td>0e+00</td><td>0</td><td>2.1741420</td><td>FALSE</td><td>6.333924e-05</td><td>Adipose - Visceral (Omentum)</td><td>total</td><td>enformer_veff1</td></tr>\n",
       "\t<tr><td>1e-04</td><td>1</td><td>0.0000000</td><td>FALSE</td><td>6.333924e-05</td><td>Adipose - Visceral (Omentum)</td><td>total</td><td>enformer_veff1</td></tr>\n",
       "\t<tr><td>0e+00</td><td>0</td><td>0.4322566</td><td> TRUE</td><td>1.009285e-04</td><td>Adrenal Gland               </td><td>total</td><td>enformer_veff1</td></tr>\n",
       "\t<tr><td>0e+00</td><td>0</td><td>0.0000000</td><td> TRUE</td><td>0.000000e+00</td><td>Artery - Aorta              </td><td>total</td><td>enformer_veff1</td></tr>\n",
       "</tbody>\n",
       "</table>\n"
      ],
      "text/latex": [
       "A data.table: 6 × 8\n",
       "\\begin{tabular}{llllllll}\n",
       " precision & recall & threshold & is\\_binary & auc & tissue & type\\_ & run\\\\\n",
       " <dbl> & <dbl> & <dbl> & <lgl> & <dbl> & <chr> & <chr> & <chr>\\\\\n",
       "\\hline\n",
       "\t 0e+00 & 0 & 1.9486269 & FALSE & 1.287333e-04 & Adipose - Subcutaneous       & total & enformer\\_veff1\\\\\n",
       "\t 1e-04 & 1 & 0.0000000 & FALSE & 1.287333e-04 & Adipose - Subcutaneous       & total & enformer\\_veff1\\\\\n",
       "\t 0e+00 & 0 & 2.1741420 & FALSE & 6.333924e-05 & Adipose - Visceral (Omentum) & total & enformer\\_veff1\\\\\n",
       "\t 1e-04 & 1 & 0.0000000 & FALSE & 6.333924e-05 & Adipose - Visceral (Omentum) & total & enformer\\_veff1\\\\\n",
       "\t 0e+00 & 0 & 0.4322566 &  TRUE & 1.009285e-04 & Adrenal Gland                & total & enformer\\_veff1\\\\\n",
       "\t 0e+00 & 0 & 0.0000000 &  TRUE & 0.000000e+00 & Artery - Aorta               & total & enformer\\_veff1\\\\\n",
       "\\end{tabular}\n"
      ],
      "text/markdown": [
       "\n",
       "A data.table: 6 × 8\n",
       "\n",
       "| precision &lt;dbl&gt; | recall &lt;dbl&gt; | threshold &lt;dbl&gt; | is_binary &lt;lgl&gt; | auc &lt;dbl&gt; | tissue &lt;chr&gt; | type_ &lt;chr&gt; | run &lt;chr&gt; |\n",
       "|---|---|---|---|---|---|---|---|\n",
       "| 0e+00 | 0 | 1.9486269 | FALSE | 1.287333e-04 | Adipose - Subcutaneous       | total | enformer_veff1 |\n",
       "| 1e-04 | 1 | 0.0000000 | FALSE | 1.287333e-04 | Adipose - Subcutaneous       | total | enformer_veff1 |\n",
       "| 0e+00 | 0 | 2.1741420 | FALSE | 6.333924e-05 | Adipose - Visceral (Omentum) | total | enformer_veff1 |\n",
       "| 1e-04 | 1 | 0.0000000 | FALSE | 6.333924e-05 | Adipose - Visceral (Omentum) | total | enformer_veff1 |\n",
       "| 0e+00 | 0 | 0.4322566 |  TRUE | 1.009285e-04 | Adrenal Gland                | total | enformer_veff1 |\n",
       "| 0e+00 | 0 | 0.0000000 |  TRUE | 0.000000e+00 | Artery - Aorta               | total | enformer_veff1 |\n",
       "\n"
      ],
      "text/plain": [
       "  precision recall threshold is_binary auc         \n",
       "1 0e+00     0      1.9486269 FALSE     1.287333e-04\n",
       "2 1e-04     1      0.0000000 FALSE     1.287333e-04\n",
       "3 0e+00     0      2.1741420 FALSE     6.333924e-05\n",
       "4 1e-04     1      0.0000000 FALSE     6.333924e-05\n",
       "5 0e+00     0      0.4322566  TRUE     1.009285e-04\n",
       "6 0e+00     0      0.0000000  TRUE     0.000000e+00\n",
       "  tissue                       type_ run           \n",
       "1 Adipose - Subcutaneous       total enformer_veff1\n",
       "2 Adipose - Subcutaneous       total enformer_veff1\n",
       "3 Adipose - Visceral (Omentum) total enformer_veff1\n",
       "4 Adipose - Visceral (Omentum) total enformer_veff1\n",
       "5 Adrenal Gland                total enformer_veff1\n",
       "6 Artery - Aorta               total enformer_veff1"
      ]
     },
     "metadata": {},
     "output_type": "display_data"
    }
   ],
   "source": [
    "head(prc_tissue_df)"
   ]
  },
  {
   "cell_type": "code",
   "execution_count": null,
   "id": "335c08ff-c684-4424-b81a-49ad5fe03191",
   "metadata": {},
   "outputs": [],
   "source": [
    "# PRC curve faceted by type and colored by run\n"
   ]
  },
  {
   "cell_type": "code",
   "execution_count": null,
   "id": "f28aa6e8-3c27-4b26-a072-5d0944800999",
   "metadata": {},
   "outputs": [],
   "source": [
    "# AUPRC Box plots across tissues with p-values\n",
    "# only test best model against all others\n",
    "# for each type"
   ]
  },
  {
   "cell_type": "code",
   "execution_count": null,
   "id": "cc64d79c-09cb-4c69-8561-faebeb65fd33",
   "metadata": {},
   "outputs": [],
   "source": [
    "# AUPRC Box plots across tissue types with p-values\n",
    "# only test best model against all others\n",
    "# for each type"
   ]
  },
  {
   "cell_type": "code",
   "execution_count": 5,
   "id": "711b0487-d6e9-4cfc-9ed7-1bd24bb35a0c",
   "metadata": {},
   "outputs": [],
   "source": [
    "# AUPRC Box plots across folds with p-values\n",
    "# only test best model against all others\n",
    "# for each type"
   ]
  },
  {
   "cell_type": "code",
   "execution_count": null,
   "id": "3140522d-fe55-4cc2-83f1-2500e0c9ed78",
   "metadata": {},
   "outputs": [],
   "source": [
    "# R2 Box plots across tissues with p-values\n",
    "# only test best model against all others\n",
    "# for each type"
   ]
  },
  {
   "cell_type": "code",
   "execution_count": null,
   "id": "29cc99fc-915f-469c-9d59-b60fa9669d28",
   "metadata": {},
   "outputs": [],
   "source": [
    "# R2 Box plots across tissue types with p-values\n",
    "# only test best model against all others\n",
    "# for each type"
   ]
  },
  {
   "cell_type": "code",
   "execution_count": 5,
   "id": "4c5d4103-0ee2-4350-8301-3eef3988c605",
   "metadata": {},
   "outputs": [],
   "source": [
    "# R2 Box plots across folds with p-values\n",
    "# only test best model against all others\n",
    "# for each type"
   ]
  }
 ],
 "metadata": {
  "kernelspec": {
   "display_name": "R",
   "language": "R",
   "name": "ir"
  },
  "language_info": {
   "codemirror_mode": "r",
   "file_extension": ".r",
   "mimetype": "text/x-r-source",
   "name": "R",
   "pygments_lexer": "r",
   "version": "4.3.1"
  }
 },
 "nbformat": 4,
 "nbformat_minor": 5
}
