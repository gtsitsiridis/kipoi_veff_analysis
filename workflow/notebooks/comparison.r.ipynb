{
 "cells": [
  {
   "cell_type": "code",
   "execution_count": 1,
   "id": "2b80497d",
   "metadata": {
    "tags": [
     "snakemake-job-properties"
    ]
   },
   "outputs": [],
   "source": [
    "if (! exists(\"snakemake\")) {\n",
    "    library(methods)\n",
    "    Snakemake <- setClass(\n",
    "        \"Snakemake\",\n",
    "        slots = c(\n",
    "            input = \"list\",\n",
    "            output = \"list\",\n",
    "            params = \"list\",\n",
    "            wildcards = \"list\",\n",
    "            threads = \"numeric\",\n",
    "            log = \"list\",\n",
    "            resources = \"list\",\n",
    "            config = \"list\",\n",
    "            rule = \"character\",\n",
    "            bench_iteration = \"numeric\",\n",
    "            scriptdir = \"character\",\n",
    "            source = \"function\"\n",
    "        )\n",
    "    )\n",
    "    snakemake <- Snakemake(\n",
    "        input = list('output/smk/evaluation/prc.parquet/run=enformer_veff1/data.parquet', 'output/smk/evaluation/prc.parquet/run=enformer_veff2/data.parquet', 'output/smk/evaluation/prc.parquet/run=enformer_veff3/data.parquet', 'output/smk/evaluation/prc_tissue.parquet/run=enformer_veff1/data.parquet', 'output/smk/evaluation/prc_tissue.parquet/run=enformer_veff2/data.parquet', 'output/smk/evaluation/prc_tissue.parquet/run=enformer_veff3/data.parquet', 'output/smk/evaluation/prc_tissue_type.parquet/run=enformer_veff1/data.parquet', 'output/smk/evaluation/prc_tissue_type.parquet/run=enformer_veff2/data.parquet', 'output/smk/evaluation/prc_tissue_type.parquet/run=enformer_veff3/data.parquet', 'output/smk/evaluation/prc_fold.parquet/run=enformer_veff1/data.parquet', 'output/smk/evaluation/prc_fold.parquet/run=enformer_veff2/data.parquet', 'output/smk/evaluation/prc_fold.parquet/run=enformer_veff3/data.parquet', 'output/smk/evaluation/r2.parquet/run=enformer_veff1/data.parquet', 'output/smk/evaluation/r2.parquet/run=enformer_veff2/data.parquet', 'output/smk/evaluation/r2.parquet/run=enformer_veff3/data.parquet', 'output/smk/evaluation/r2_tissue.parquet/run=enformer_veff1/data.parquet', 'output/smk/evaluation/r2_tissue.parquet/run=enformer_veff2/data.parquet', 'output/smk/evaluation/r2_tissue.parquet/run=enformer_veff3/data.parquet', 'output/smk/evaluation/r2_tissue_type.parquet/run=enformer_veff1/data.parquet', 'output/smk/evaluation/r2_tissue_type.parquet/run=enformer_veff2/data.parquet', 'output/smk/evaluation/r2_tissue_type.parquet/run=enformer_veff3/data.parquet', 'output/smk/evaluation/r2_fold.parquet/run=enformer_veff1/data.parquet', 'output/smk/evaluation/r2_fold.parquet/run=enformer_veff2/data.parquet', 'output/smk/evaluation/r2_fold.parquet/run=enformer_veff3/data.parquet'),\n",
    "        output = list(),\n",
    "        params = list(),\n",
    "        wildcards = list('dev1', \"comparison_id\" = 'dev1'),\n",
    "        threads = 1,\n",
    "        log = list('output/smk/comparison/notebooks/dev1.r.ipynb', \"notebook\" = 'output/smk/comparison/notebooks/dev1.r.ipynb'),\n",
    "        resources = list('tmpdir', 'mem_mb', 'mem_mib', \"tmpdir\" = '/tmp', \"mem_mb\" = 121000, \"mem_mib\" = 115395),\n",
    "        config = list(\"output_path\" = 'output/smk', \"debug\" = TRUE, \"test\" = list(\"dataloader_size\" = 100, \"is_random_enformer\" = TRUE, \"precomputed_enformer_mapper_path\" = 'example_files/gtex_enformer_lm_models_pseudocount1.pkl'), \"benchmark\" = list(\"genotypes_path\" = 'example_files/gtex_samples/rare_variants.vcf.parquet', \"annotation_path\" = 'example_files/gtex_samples/benchmark_with_annotation.parquet', \"folds_path\" = 'example_files/gtex_samples/folds.parquet', \"fdr_cutoff\" = 0.2), \"runs\" = list(\"enformer_veff1\" = list(\"predictor\" = 'enformer', \"alternative\" = 'alt1', \"mapper\" = 'elasticnet_cage', \"isoform_file\" = 'example_files/isoform_proportions.tsv', \"aggregation_mode\" = 'logsumexp', \"upstream_tss\" = 2000, \"downstream_tss\" = 500), \"enformer_veff2\" = list(\"predictor\" = 'enformer', \"alternative\" = 'alt1', \"mapper\" = 'elasticnet_cage', \"isoform_file\" = NULL, \"aggregation_mode\" = 'canonical', \"upstream_tss\" = 2000, \"downstream_tss\" = 500), \"enformer_veff3\" = list(\"predictor\" = 'enformer', \"alternative\" = 'alt1', \"mapper\" = 'lightgbm_cage', \"isoform_file\" = 'example_files/isoform_proportions.tsv', \"aggregation_mode\" = 'logsumexp', \"upstream_tss\" = 2000, \"downstream_tss\" = 500), \"enformer_veff4\" = list(\"predictor\" = 'enformer', \"alternative\" = 'alt1', \"mapper\" = 'lightgbm_cage', \"isoform_file\" = NULL, \"aggregation_mode\" = 'canonical', \"upstream_tss\" = 2000, \"downstream_tss\" = 500), \"enformer_veff5\" = list(\"predictor\" = 'enformer', \"alternative\" = 'alt1', \"mapper\" = 'lightgbm_cage', \"isoform_file\" = 'example_files/isoform_proportions.tsv', \"aggregation_mode\" = 'logsumexp', \"upstream_tss\" = 100, \"downstream_tss\" = 500), \"enformer_veff6\" = list(\"predictor\" = 'enformer', \"alternative\" = 'alt1', \"mapper\" = 'lightgbm_cage', \"isoform_file\" = NULL, \"aggregation_mode\" = 'canonical', \"upstream_tss\" = 100, \"downstream_tss\" = 500), \"enformer_veff7\" = list(\"predictor\" = 'enformer', \"alternative\" = 'alt1', \"mapper\" = 'lightgbm_cage', \"isoform_file\" = NULL, \"aggregation_mode\" = 'canonical', \"upstream_tss\" = NULL, \"downstream_tss\" = NULL)), \"comparisons\" = list(\"dev1\" = c('enformer_veff1', 'enformer_veff2', 'enformer_veff3')), \"genomes\" = list(\"chr21_22\" = list(\"gtf_file\" = 'example_files/annot.gtf.gz', \"fasta_file\" = 'example_files/seq.fa', \"canonical_only\" = FALSE, \"protein_coding_only\" = TRUE, \"chromosomes\" = c('chr21', 'chr22'))), \"vcfs\" = list(\"chr21_22_var\" = list(\"path\" = 'example_files/vcf', \"variant_upstream_tss\" = 2000, \"variant_downstream_tss\" = 500)), \"enformer\" = list(\"models\" = list(\"short\" = list(\"shift\" = 43, \"batch_size\" = 2, \"num_output_bins\" = 21), \"complete\" = list(\"shift\" = 43, \"batch_size\" = 2, \"num_output_bins\" = 896)), \"references\" = list(\"ref1\" = list(\"genome\" = 'chr21_22', \"model\" = 'short')), \"alternatives\" = list(\"alt1\" = list(\"reference\" = 'ref1', \"vcf\" = 'chr21_22_var')), \"mappers\" = list(\"elasticnet_cage\" = list(\"num_agg_bins\" = 3, \"expression_path\" = 'example_files/gtex_samples/transcripts_tpms.zarr', \"tracks_path\" = 'assets/enformer_tracks/cage_nonuniversal_enformer_tracks.yaml', \"type\" = 'ElasticNet', \"params\" = list(\"cv\" = 2, \"max_iter\" = 1000)), \"lightgbm_cage\" = list(\"num_agg_bins\" = 3, \"expression_path\" = 'example_files/gtex_samples/transcripts_tpms.zarr', \"tracks_path\" = 'assets/enformer_tracks/cage_nonuniversal_enformer_tracks.yaml', \"type\" = 'LightGBM')))),\n",
    "        rule = 'comparison',\n",
    "        bench_iteration = as.numeric(NA),\n",
    "        scriptdir = '/home/george/Projects/kipoi_enformer/workflow/notebooks',\n",
    "        source = function(...){\n",
    "            wd <- getwd()\n",
    "            setwd(snakemake@scriptdir)\n",
    "            source(...)\n",
    "            setwd(wd)\n",
    "        }\n",
    "    )\n",
    "    setwd('/home/george/Projects/kipoi_enformer');\n",
    "}"
   ]
  },
  {
   "cell_type": "code",
   "execution_count": 2,
   "id": "7fb7d611",
   "metadata": {},
   "outputs": [
    {
     "name": "stderr",
     "output_type": "stream",
     "text": [
      "Warning message:\n",
      "“package ‘data.table’ was built under R version 4.3.3”\n"
     ]
    }
   ],
   "source": [
    "library('data.table')"
   ]
  },
  {
   "cell_type": "code",
   "execution_count": null,
   "id": "2b5d4cb3-cd68-4040-8846-ba85922150d8",
   "metadata": {},
   "outputs": [],
   "source": []
  }
 ],
 "metadata": {
  "kernelspec": {
   "display_name": "R",
   "language": "R",
   "name": "ir"
  },
  "language_info": {
   "codemirror_mode": "r",
   "file_extension": ".r",
   "mimetype": "text/x-r-source",
   "name": "R",
   "pygments_lexer": "r",
   "version": "4.3.1"
  }
 },
 "nbformat": 4,
 "nbformat_minor": 5
}
