{
 "cells": [
  {
   "cell_type": "markdown",
   "id": "d5f2f78c-b671-44e3-a451-e26067843a26",
   "metadata": {},
   "source": [
    "# Variant-effect prediction comparison"
   ]
  },
  {
   "cell_type": "markdown",
   "id": "c52d28fc-a151-4158-9e79-3066d16dfc92",
   "metadata": {},
   "source": [
    "## Setup"
   ]
  },
  {
   "cell_type": "code",
   "execution_count": 2,
   "id": "2b80497d",
   "metadata": {
    "tags": [
     "snakemake-job-properties"
    ]
   },
   "outputs": [],
   "source": [
    "if (! exists(\"snakemake\")) {\n",
    "    library(methods)\n",
    "    Snakemake <- setClass(\n",
    "        \"Snakemake\",\n",
    "        slots = c(\n",
    "            input = \"list\",\n",
    "            output = \"list\",\n",
    "            params = \"list\",\n",
    "            wildcards = \"list\",\n",
    "            threads = \"numeric\",\n",
    "            log = \"list\",\n",
    "            resources = \"list\",\n",
    "            config = \"list\",\n",
    "            rule = \"character\",\n",
    "            bench_iteration = \"numeric\",\n",
    "            scriptdir = \"character\",\n",
    "            source = \"function\"\n",
    "        )\n",
    "    )\n",
    "    snakemake <- Snakemake(\n",
    "        input = list('output/smk/evaluation/prc.parquet/run=enformer_veff1/data.parquet', 'output/smk/evaluation/prc.parquet/run=enformer_veff2/data.parquet', 'output/smk/evaluation/prc.parquet/run=enformer_veff3/data.parquet', 'output/smk/evaluation/prc_tissue.parquet/run=enformer_veff1/data.parquet', 'output/smk/evaluation/prc_tissue.parquet/run=enformer_veff2/data.parquet', 'output/smk/evaluation/prc_tissue.parquet/run=enformer_veff3/data.parquet', 'output/smk/evaluation/prc_tissue_type.parquet/run=enformer_veff1/data.parquet', 'output/smk/evaluation/prc_tissue_type.parquet/run=enformer_veff2/data.parquet', 'output/smk/evaluation/prc_tissue_type.parquet/run=enformer_veff3/data.parquet', 'output/smk/evaluation/prc_fold.parquet/run=enformer_veff1/data.parquet', 'output/smk/evaluation/prc_fold.parquet/run=enformer_veff2/data.parquet', 'output/smk/evaluation/prc_fold.parquet/run=enformer_veff3/data.parquet', 'output/smk/evaluation/r2.parquet/run=enformer_veff1/data.parquet', 'output/smk/evaluation/r2.parquet/run=enformer_veff2/data.parquet', 'output/smk/evaluation/r2.parquet/run=enformer_veff3/data.parquet', 'output/smk/evaluation/r2_tissue.parquet/run=enformer_veff1/data.parquet', 'output/smk/evaluation/r2_tissue.parquet/run=enformer_veff2/data.parquet', 'output/smk/evaluation/r2_tissue.parquet/run=enformer_veff3/data.parquet', 'output/smk/evaluation/r2_tissue_type.parquet/run=enformer_veff1/data.parquet', 'output/smk/evaluation/r2_tissue_type.parquet/run=enformer_veff2/data.parquet', 'output/smk/evaluation/r2_tissue_type.parquet/run=enformer_veff3/data.parquet', 'output/smk/evaluation/r2_fold.parquet/run=enformer_veff1/data.parquet', 'output/smk/evaluation/r2_fold.parquet/run=enformer_veff2/data.parquet', 'output/smk/evaluation/r2_fold.parquet/run=enformer_veff3/data.parquet'),\n",
    "        output = list(),\n",
    "        params = list(),\n",
    "        wildcards = list('dev1', \"comparison_id\" = 'dev1'),\n",
    "        threads = 1,\n",
    "        log = list('output/smk/comparison/notebooks/dev1.r.ipynb', \"notebook\" = 'output/smk/comparison/notebooks/dev1.r.ipynb'),\n",
    "        resources = list('tmpdir', 'mem_mb', 'mem_mib', \"tmpdir\" = '/tmp', \"mem_mb\" = 121000, \"mem_mib\" = 115395),\n",
    "        config = list(\"output_path\" = 'output/smk', \"debug\" = TRUE, \"test\" = list(\"dataloader_size\" = 100, \"is_random_enformer\" = TRUE, \"precomputed_enformer_mapper_path\" = 'example_files/gtex_enformer_lm_models_pseudocount1.pkl'), \"benchmark\" = list(\"genotypes_path\" = 'example_files/gtex_samples/rare_variants.vcf.parquet', \"annotation_path\" = 'example_files/gtex_samples/benchmark_with_annotation.parquet', \"folds_path\" = 'example_files/gtex_samples/folds.parquet', \"fdr_cutoff\" = 0.2), \"runs\" = list(\"enformer_veff1\" = list(\"predictor\" = 'enformer', \"alternative\" = 'alt1', \"mapper\" = 'elasticnet_cage', \"isoform_file\" = 'example_files/isoform_proportions.tsv', \"aggregation_mode\" = 'logsumexp', \"upstream_tss\" = 2000, \"downstream_tss\" = 500), \"enformer_veff2\" = list(\"predictor\" = 'enformer', \"alternative\" = 'alt1', \"mapper\" = 'elasticnet_cage', \"isoform_file\" = NULL, \"aggregation_mode\" = 'canonical', \"upstream_tss\" = 2000, \"downstream_tss\" = 500), \"enformer_veff3\" = list(\"predictor\" = 'enformer', \"alternative\" = 'alt1', \"mapper\" = 'lightgbm_cage', \"isoform_file\" = 'example_files/isoform_proportions.tsv', \"aggregation_mode\" = 'logsumexp', \"upstream_tss\" = 2000, \"downstream_tss\" = 500), \"enformer_veff4\" = list(\"predictor\" = 'enformer', \"alternative\" = 'alt1', \"mapper\" = 'lightgbm_cage', \"isoform_file\" = NULL, \"aggregation_mode\" = 'canonical', \"upstream_tss\" = 2000, \"downstream_tss\" = 500), \"enformer_veff5\" = list(\"predictor\" = 'enformer', \"alternative\" = 'alt1', \"mapper\" = 'lightgbm_cage', \"isoform_file\" = 'example_files/isoform_proportions.tsv', \"aggregation_mode\" = 'logsumexp', \"upstream_tss\" = 100, \"downstream_tss\" = 500), \"enformer_veff6\" = list(\"predictor\" = 'enformer', \"alternative\" = 'alt1', \"mapper\" = 'lightgbm_cage', \"isoform_file\" = NULL, \"aggregation_mode\" = 'canonical', \"upstream_tss\" = 100, \"downstream_tss\" = 500), \"enformer_veff7\" = list(\"predictor\" = 'enformer', \"alternative\" = 'alt1', \"mapper\" = 'lightgbm_cage', \"isoform_file\" = NULL, \"aggregation_mode\" = 'canonical', \"upstream_tss\" = NULL, \"downstream_tss\" = NULL)), \"comparisons\" = list(\"dev1\" = c('enformer_veff1', 'enformer_veff2', 'enformer_veff3')), \"genomes\" = list(\"chr21_22\" = list(\"gtf_file\" = 'example_files/annot.gtf.gz', \"fasta_file\" = 'example_files/seq.fa', \"canonical_only\" = FALSE, \"protein_coding_only\" = TRUE, \"chromosomes\" = c('chr21', 'chr22'))), \"vcfs\" = list(\"chr21_22_var\" = list(\"path\" = 'example_files/vcf', \"variant_upstream_tss\" = 2000, \"variant_downstream_tss\" = 500)), \"enformer\" = list(\"models\" = list(\"short\" = list(\"shift\" = 43, \"batch_size\" = 2, \"num_output_bins\" = 21), \"complete\" = list(\"shift\" = 43, \"batch_size\" = 2, \"num_output_bins\" = 896)), \"references\" = list(\"ref1\" = list(\"genome\" = 'chr21_22', \"model\" = 'short')), \"alternatives\" = list(\"alt1\" = list(\"reference\" = 'ref1', \"vcf\" = 'chr21_22_var')), \"mappers\" = list(\"elasticnet_cage\" = list(\"num_agg_bins\" = 3, \"expression_path\" = 'example_files/gtex_samples/transcripts_tpms.zarr', \"tracks_path\" = 'assets/enformer_tracks/cage_nonuniversal_enformer_tracks.yaml', \"type\" = 'ElasticNet', \"params\" = list(\"cv\" = 2, \"max_iter\" = 1000)), \"lightgbm_cage\" = list(\"num_agg_bins\" = 3, \"expression_path\" = 'example_files/gtex_samples/transcripts_tpms.zarr', \"tracks_path\" = 'assets/enformer_tracks/cage_nonuniversal_enformer_tracks.yaml', \"type\" = 'LightGBM')))),\n",
    "        rule = 'comparison',\n",
    "        bench_iteration = as.numeric(NA),\n",
    "        scriptdir = '/home/george/Projects/kipoi_enformer/workflow/notebooks',\n",
    "        source = function(...){\n",
    "            wd <- getwd()\n",
    "            setwd(snakemake@scriptdir)\n",
    "            source(...)\n",
    "            setwd(wd)\n",
    "        }\n",
    "    )\n",
    "    setwd('/home/george/Projects/kipoi_enformer');\n",
    "}"
   ]
  },
  {
   "cell_type": "code",
   "execution_count": 23,
   "id": "7fb7d611",
   "metadata": {},
   "outputs": [
    {
     "name": "stderr",
     "output_type": "stream",
     "text": [
      "\n",
      "Attaching package: ‘rstatix’\n",
      "\n",
      "\n",
      "The following object is masked from ‘package:stats’:\n",
      "\n",
      "    filter\n",
      "\n",
      "\n"
     ]
    }
   ],
   "source": [
    "library('data.table')\n",
    "library('arrow')\n",
    "library('dplyr')\n",
    "library('rstatix')"
   ]
  },
  {
   "cell_type": "code",
   "execution_count": 4,
   "id": "2b5d4cb3-cd68-4040-8846-ba85922150d8",
   "metadata": {},
   "outputs": [
    {
     "data": {
      "text/html": [
       "<ol>\n",
       "\t<li>'output/smk/evaluation/prc.parquet/run=enformer_veff1/data.parquet'</li>\n",
       "\t<li>'output/smk/evaluation/prc.parquet/run=enformer_veff2/data.parquet'</li>\n",
       "\t<li>'output/smk/evaluation/prc.parquet/run=enformer_veff3/data.parquet'</li>\n",
       "\t<li>'output/smk/evaluation/prc_tissue.parquet/run=enformer_veff1/data.parquet'</li>\n",
       "\t<li>'output/smk/evaluation/prc_tissue.parquet/run=enformer_veff2/data.parquet'</li>\n",
       "\t<li>'output/smk/evaluation/prc_tissue.parquet/run=enformer_veff3/data.parquet'</li>\n",
       "\t<li>'output/smk/evaluation/prc_tissue_type.parquet/run=enformer_veff1/data.parquet'</li>\n",
       "\t<li>'output/smk/evaluation/prc_tissue_type.parquet/run=enformer_veff2/data.parquet'</li>\n",
       "\t<li>'output/smk/evaluation/prc_tissue_type.parquet/run=enformer_veff3/data.parquet'</li>\n",
       "\t<li>'output/smk/evaluation/prc_fold.parquet/run=enformer_veff1/data.parquet'</li>\n",
       "\t<li>'output/smk/evaluation/prc_fold.parquet/run=enformer_veff2/data.parquet'</li>\n",
       "\t<li>'output/smk/evaluation/prc_fold.parquet/run=enformer_veff3/data.parquet'</li>\n",
       "\t<li>'output/smk/evaluation/r2.parquet/run=enformer_veff1/data.parquet'</li>\n",
       "\t<li>'output/smk/evaluation/r2.parquet/run=enformer_veff2/data.parquet'</li>\n",
       "\t<li>'output/smk/evaluation/r2.parquet/run=enformer_veff3/data.parquet'</li>\n",
       "\t<li>'output/smk/evaluation/r2_tissue.parquet/run=enformer_veff1/data.parquet'</li>\n",
       "\t<li>'output/smk/evaluation/r2_tissue.parquet/run=enformer_veff2/data.parquet'</li>\n",
       "\t<li>'output/smk/evaluation/r2_tissue.parquet/run=enformer_veff3/data.parquet'</li>\n",
       "\t<li>'output/smk/evaluation/r2_tissue_type.parquet/run=enformer_veff1/data.parquet'</li>\n",
       "\t<li>'output/smk/evaluation/r2_tissue_type.parquet/run=enformer_veff2/data.parquet'</li>\n",
       "\t<li>'output/smk/evaluation/r2_tissue_type.parquet/run=enformer_veff3/data.parquet'</li>\n",
       "\t<li>'output/smk/evaluation/r2_fold.parquet/run=enformer_veff1/data.parquet'</li>\n",
       "\t<li>'output/smk/evaluation/r2_fold.parquet/run=enformer_veff2/data.parquet'</li>\n",
       "\t<li>'output/smk/evaluation/r2_fold.parquet/run=enformer_veff3/data.parquet'</li>\n",
       "</ol>\n"
      ],
      "text/latex": [
       "\\begin{enumerate}\n",
       "\\item 'output/smk/evaluation/prc.parquet/run=enformer\\_veff1/data.parquet'\n",
       "\\item 'output/smk/evaluation/prc.parquet/run=enformer\\_veff2/data.parquet'\n",
       "\\item 'output/smk/evaluation/prc.parquet/run=enformer\\_veff3/data.parquet'\n",
       "\\item 'output/smk/evaluation/prc\\_tissue.parquet/run=enformer\\_veff1/data.parquet'\n",
       "\\item 'output/smk/evaluation/prc\\_tissue.parquet/run=enformer\\_veff2/data.parquet'\n",
       "\\item 'output/smk/evaluation/prc\\_tissue.parquet/run=enformer\\_veff3/data.parquet'\n",
       "\\item 'output/smk/evaluation/prc\\_tissue\\_type.parquet/run=enformer\\_veff1/data.parquet'\n",
       "\\item 'output/smk/evaluation/prc\\_tissue\\_type.parquet/run=enformer\\_veff2/data.parquet'\n",
       "\\item 'output/smk/evaluation/prc\\_tissue\\_type.parquet/run=enformer\\_veff3/data.parquet'\n",
       "\\item 'output/smk/evaluation/prc\\_fold.parquet/run=enformer\\_veff1/data.parquet'\n",
       "\\item 'output/smk/evaluation/prc\\_fold.parquet/run=enformer\\_veff2/data.parquet'\n",
       "\\item 'output/smk/evaluation/prc\\_fold.parquet/run=enformer\\_veff3/data.parquet'\n",
       "\\item 'output/smk/evaluation/r2.parquet/run=enformer\\_veff1/data.parquet'\n",
       "\\item 'output/smk/evaluation/r2.parquet/run=enformer\\_veff2/data.parquet'\n",
       "\\item 'output/smk/evaluation/r2.parquet/run=enformer\\_veff3/data.parquet'\n",
       "\\item 'output/smk/evaluation/r2\\_tissue.parquet/run=enformer\\_veff1/data.parquet'\n",
       "\\item 'output/smk/evaluation/r2\\_tissue.parquet/run=enformer\\_veff2/data.parquet'\n",
       "\\item 'output/smk/evaluation/r2\\_tissue.parquet/run=enformer\\_veff3/data.parquet'\n",
       "\\item 'output/smk/evaluation/r2\\_tissue\\_type.parquet/run=enformer\\_veff1/data.parquet'\n",
       "\\item 'output/smk/evaluation/r2\\_tissue\\_type.parquet/run=enformer\\_veff2/data.parquet'\n",
       "\\item 'output/smk/evaluation/r2\\_tissue\\_type.parquet/run=enformer\\_veff3/data.parquet'\n",
       "\\item 'output/smk/evaluation/r2\\_fold.parquet/run=enformer\\_veff1/data.parquet'\n",
       "\\item 'output/smk/evaluation/r2\\_fold.parquet/run=enformer\\_veff2/data.parquet'\n",
       "\\item 'output/smk/evaluation/r2\\_fold.parquet/run=enformer\\_veff3/data.parquet'\n",
       "\\end{enumerate}\n"
      ],
      "text/markdown": [
       "1. 'output/smk/evaluation/prc.parquet/run=enformer_veff1/data.parquet'\n",
       "2. 'output/smk/evaluation/prc.parquet/run=enformer_veff2/data.parquet'\n",
       "3. 'output/smk/evaluation/prc.parquet/run=enformer_veff3/data.parquet'\n",
       "4. 'output/smk/evaluation/prc_tissue.parquet/run=enformer_veff1/data.parquet'\n",
       "5. 'output/smk/evaluation/prc_tissue.parquet/run=enformer_veff2/data.parquet'\n",
       "6. 'output/smk/evaluation/prc_tissue.parquet/run=enformer_veff3/data.parquet'\n",
       "7. 'output/smk/evaluation/prc_tissue_type.parquet/run=enformer_veff1/data.parquet'\n",
       "8. 'output/smk/evaluation/prc_tissue_type.parquet/run=enformer_veff2/data.parquet'\n",
       "9. 'output/smk/evaluation/prc_tissue_type.parquet/run=enformer_veff3/data.parquet'\n",
       "10. 'output/smk/evaluation/prc_fold.parquet/run=enformer_veff1/data.parquet'\n",
       "11. 'output/smk/evaluation/prc_fold.parquet/run=enformer_veff2/data.parquet'\n",
       "12. 'output/smk/evaluation/prc_fold.parquet/run=enformer_veff3/data.parquet'\n",
       "13. 'output/smk/evaluation/r2.parquet/run=enformer_veff1/data.parquet'\n",
       "14. 'output/smk/evaluation/r2.parquet/run=enformer_veff2/data.parquet'\n",
       "15. 'output/smk/evaluation/r2.parquet/run=enformer_veff3/data.parquet'\n",
       "16. 'output/smk/evaluation/r2_tissue.parquet/run=enformer_veff1/data.parquet'\n",
       "17. 'output/smk/evaluation/r2_tissue.parquet/run=enformer_veff2/data.parquet'\n",
       "18. 'output/smk/evaluation/r2_tissue.parquet/run=enformer_veff3/data.parquet'\n",
       "19. 'output/smk/evaluation/r2_tissue_type.parquet/run=enformer_veff1/data.parquet'\n",
       "20. 'output/smk/evaluation/r2_tissue_type.parquet/run=enformer_veff2/data.parquet'\n",
       "21. 'output/smk/evaluation/r2_tissue_type.parquet/run=enformer_veff3/data.parquet'\n",
       "22. 'output/smk/evaluation/r2_fold.parquet/run=enformer_veff1/data.parquet'\n",
       "23. 'output/smk/evaluation/r2_fold.parquet/run=enformer_veff2/data.parquet'\n",
       "24. 'output/smk/evaluation/r2_fold.parquet/run=enformer_veff3/data.parquet'\n",
       "\n",
       "\n"
      ],
      "text/plain": [
       "[[1]]\n",
       "[1] \"output/smk/evaluation/prc.parquet/run=enformer_veff1/data.parquet\"\n",
       "\n",
       "[[2]]\n",
       "[1] \"output/smk/evaluation/prc.parquet/run=enformer_veff2/data.parquet\"\n",
       "\n",
       "[[3]]\n",
       "[1] \"output/smk/evaluation/prc.parquet/run=enformer_veff3/data.parquet\"\n",
       "\n",
       "[[4]]\n",
       "[1] \"output/smk/evaluation/prc_tissue.parquet/run=enformer_veff1/data.parquet\"\n",
       "\n",
       "[[5]]\n",
       "[1] \"output/smk/evaluation/prc_tissue.parquet/run=enformer_veff2/data.parquet\"\n",
       "\n",
       "[[6]]\n",
       "[1] \"output/smk/evaluation/prc_tissue.parquet/run=enformer_veff3/data.parquet\"\n",
       "\n",
       "[[7]]\n",
       "[1] \"output/smk/evaluation/prc_tissue_type.parquet/run=enformer_veff1/data.parquet\"\n",
       "\n",
       "[[8]]\n",
       "[1] \"output/smk/evaluation/prc_tissue_type.parquet/run=enformer_veff2/data.parquet\"\n",
       "\n",
       "[[9]]\n",
       "[1] \"output/smk/evaluation/prc_tissue_type.parquet/run=enformer_veff3/data.parquet\"\n",
       "\n",
       "[[10]]\n",
       "[1] \"output/smk/evaluation/prc_fold.parquet/run=enformer_veff1/data.parquet\"\n",
       "\n",
       "[[11]]\n",
       "[1] \"output/smk/evaluation/prc_fold.parquet/run=enformer_veff2/data.parquet\"\n",
       "\n",
       "[[12]]\n",
       "[1] \"output/smk/evaluation/prc_fold.parquet/run=enformer_veff3/data.parquet\"\n",
       "\n",
       "[[13]]\n",
       "[1] \"output/smk/evaluation/r2.parquet/run=enformer_veff1/data.parquet\"\n",
       "\n",
       "[[14]]\n",
       "[1] \"output/smk/evaluation/r2.parquet/run=enformer_veff2/data.parquet\"\n",
       "\n",
       "[[15]]\n",
       "[1] \"output/smk/evaluation/r2.parquet/run=enformer_veff3/data.parquet\"\n",
       "\n",
       "[[16]]\n",
       "[1] \"output/smk/evaluation/r2_tissue.parquet/run=enformer_veff1/data.parquet\"\n",
       "\n",
       "[[17]]\n",
       "[1] \"output/smk/evaluation/r2_tissue.parquet/run=enformer_veff2/data.parquet\"\n",
       "\n",
       "[[18]]\n",
       "[1] \"output/smk/evaluation/r2_tissue.parquet/run=enformer_veff3/data.parquet\"\n",
       "\n",
       "[[19]]\n",
       "[1] \"output/smk/evaluation/r2_tissue_type.parquet/run=enformer_veff1/data.parquet\"\n",
       "\n",
       "[[20]]\n",
       "[1] \"output/smk/evaluation/r2_tissue_type.parquet/run=enformer_veff2/data.parquet\"\n",
       "\n",
       "[[21]]\n",
       "[1] \"output/smk/evaluation/r2_tissue_type.parquet/run=enformer_veff3/data.parquet\"\n",
       "\n",
       "[[22]]\n",
       "[1] \"output/smk/evaluation/r2_fold.parquet/run=enformer_veff1/data.parquet\"\n",
       "\n",
       "[[23]]\n",
       "[1] \"output/smk/evaluation/r2_fold.parquet/run=enformer_veff2/data.parquet\"\n",
       "\n",
       "[[24]]\n",
       "[1] \"output/smk/evaluation/r2_fold.parquet/run=enformer_veff3/data.parquet\"\n"
      ]
     },
     "metadata": {},
     "output_type": "display_data"
    }
   ],
   "source": [
    "snakemake@input"
   ]
  },
  {
   "cell_type": "code",
   "execution_count": 14,
   "id": "8e5f9fcc-aab8-4c54-9776-90a035ab9c32",
   "metadata": {},
   "outputs": [],
   "source": [
    "prc_df = as.data.table(open_dataset(\"output/smk/evaluation/prc.parquet\", partitioning = c(\"run\")))\n",
    "prc_tissue_df = as.data.table(open_dataset(\"output/smk/evaluation/prc_tissue.parquet\", partitioning = c(\"run\")))\n",
    "prc_tissue_type_df = as.data.table(open_dataset(\"output/smk/evaluation/prc_tissue_type.parquet\", partitioning = c(\"run\")))\n",
    "prc_fold_df = as.data.table(open_dataset(\"output/smk/evaluation/prc_fold.parquet\", partitioning = c(\"run\")))\n",
    "r2_df = as.data.table(open_dataset(\"output/smk/evaluation/r2.parquet\", partitioning = c(\"run\")))\n",
    "r2_tissue_df = as.data.table(open_dataset(\"output/smk/evaluation/r2_tissue.parquet\", partitioning = c(\"run\")))\n",
    "r2_tissue_type_df = as.data.table(open_dataset(\"output/smk/evaluation/r2_tissue_type.parquet\", partitioning = c(\"run\")))\n",
    "r2_fold_df = as.data.table(open_dataset(\"output/smk/evaluation/r2_fold.parquet\", partitioning = c(\"run\")))"
   ]
  },
  {
   "cell_type": "markdown",
   "id": "8f8e6966-7e61-4bfb-824c-c08019048d38",
   "metadata": {},
   "source": [
    "## Analysis"
   ]
  },
  {
   "cell_type": "code",
   "execution_count": 27,
   "id": "7a824765-65c3-44b7-99c1-eab415817c3d",
   "metadata": {},
   "outputs": [],
   "source": [
    "types = c('total', 'obvious', 'not_obvious')"
   ]
  },
  {
   "cell_type": "code",
   "execution_count": 18,
   "id": "da15c57f-f872-428f-a1e9-42df52eb41a9",
   "metadata": {},
   "outputs": [
    {
     "data": {
      "text/html": [
       "<table class=\"dataframe\">\n",
       "<caption>A data.table: 6 × 8</caption>\n",
       "<thead>\n",
       "\t<tr><th scope=col>precision</th><th scope=col>recall</th><th scope=col>threshold</th><th scope=col>is_binary</th><th scope=col>auc</th><th scope=col>tissue</th><th scope=col>type_</th><th scope=col>run</th></tr>\n",
       "\t<tr><th scope=col>&lt;dbl&gt;</th><th scope=col>&lt;dbl&gt;</th><th scope=col>&lt;dbl&gt;</th><th scope=col>&lt;lgl&gt;</th><th scope=col>&lt;dbl&gt;</th><th scope=col>&lt;chr&gt;</th><th scope=col>&lt;chr&gt;</th><th scope=col>&lt;chr&gt;</th></tr>\n",
       "</thead>\n",
       "<tbody>\n",
       "\t<tr><td>0e+00</td><td>0</td><td>1.9486269</td><td>FALSE</td><td>1.287333e-04</td><td>Adipose - Subcutaneous      </td><td>total</td><td>enformer_veff1</td></tr>\n",
       "\t<tr><td>1e-04</td><td>1</td><td>0.0000000</td><td>FALSE</td><td>1.287333e-04</td><td>Adipose - Subcutaneous      </td><td>total</td><td>enformer_veff1</td></tr>\n",
       "\t<tr><td>0e+00</td><td>0</td><td>2.1741420</td><td>FALSE</td><td>6.333924e-05</td><td>Adipose - Visceral (Omentum)</td><td>total</td><td>enformer_veff1</td></tr>\n",
       "\t<tr><td>1e-04</td><td>1</td><td>0.0000000</td><td>FALSE</td><td>6.333924e-05</td><td>Adipose - Visceral (Omentum)</td><td>total</td><td>enformer_veff1</td></tr>\n",
       "\t<tr><td>0e+00</td><td>0</td><td>0.4322566</td><td> TRUE</td><td>1.009285e-04</td><td>Adrenal Gland               </td><td>total</td><td>enformer_veff1</td></tr>\n",
       "\t<tr><td>0e+00</td><td>0</td><td>0.0000000</td><td> TRUE</td><td>0.000000e+00</td><td>Artery - Aorta              </td><td>total</td><td>enformer_veff1</td></tr>\n",
       "</tbody>\n",
       "</table>\n"
      ],
      "text/latex": [
       "A data.table: 6 × 8\n",
       "\\begin{tabular}{llllllll}\n",
       " precision & recall & threshold & is\\_binary & auc & tissue & type\\_ & run\\\\\n",
       " <dbl> & <dbl> & <dbl> & <lgl> & <dbl> & <chr> & <chr> & <chr>\\\\\n",
       "\\hline\n",
       "\t 0e+00 & 0 & 1.9486269 & FALSE & 1.287333e-04 & Adipose - Subcutaneous       & total & enformer\\_veff1\\\\\n",
       "\t 1e-04 & 1 & 0.0000000 & FALSE & 1.287333e-04 & Adipose - Subcutaneous       & total & enformer\\_veff1\\\\\n",
       "\t 0e+00 & 0 & 2.1741420 & FALSE & 6.333924e-05 & Adipose - Visceral (Omentum) & total & enformer\\_veff1\\\\\n",
       "\t 1e-04 & 1 & 0.0000000 & FALSE & 6.333924e-05 & Adipose - Visceral (Omentum) & total & enformer\\_veff1\\\\\n",
       "\t 0e+00 & 0 & 0.4322566 &  TRUE & 1.009285e-04 & Adrenal Gland                & total & enformer\\_veff1\\\\\n",
       "\t 0e+00 & 0 & 0.0000000 &  TRUE & 0.000000e+00 & Artery - Aorta               & total & enformer\\_veff1\\\\\n",
       "\\end{tabular}\n"
      ],
      "text/markdown": [
       "\n",
       "A data.table: 6 × 8\n",
       "\n",
       "| precision &lt;dbl&gt; | recall &lt;dbl&gt; | threshold &lt;dbl&gt; | is_binary &lt;lgl&gt; | auc &lt;dbl&gt; | tissue &lt;chr&gt; | type_ &lt;chr&gt; | run &lt;chr&gt; |\n",
       "|---|---|---|---|---|---|---|---|\n",
       "| 0e+00 | 0 | 1.9486269 | FALSE | 1.287333e-04 | Adipose - Subcutaneous       | total | enformer_veff1 |\n",
       "| 1e-04 | 1 | 0.0000000 | FALSE | 1.287333e-04 | Adipose - Subcutaneous       | total | enformer_veff1 |\n",
       "| 0e+00 | 0 | 2.1741420 | FALSE | 6.333924e-05 | Adipose - Visceral (Omentum) | total | enformer_veff1 |\n",
       "| 1e-04 | 1 | 0.0000000 | FALSE | 6.333924e-05 | Adipose - Visceral (Omentum) | total | enformer_veff1 |\n",
       "| 0e+00 | 0 | 0.4322566 |  TRUE | 1.009285e-04 | Adrenal Gland                | total | enformer_veff1 |\n",
       "| 0e+00 | 0 | 0.0000000 |  TRUE | 0.000000e+00 | Artery - Aorta               | total | enformer_veff1 |\n",
       "\n"
      ],
      "text/plain": [
       "  precision recall threshold is_binary auc         \n",
       "1 0e+00     0      1.9486269 FALSE     1.287333e-04\n",
       "2 1e-04     1      0.0000000 FALSE     1.287333e-04\n",
       "3 0e+00     0      2.1741420 FALSE     6.333924e-05\n",
       "4 1e-04     1      0.0000000 FALSE     6.333924e-05\n",
       "5 0e+00     0      0.4322566  TRUE     1.009285e-04\n",
       "6 0e+00     0      0.0000000  TRUE     0.000000e+00\n",
       "  tissue                       type_ run           \n",
       "1 Adipose - Subcutaneous       total enformer_veff1\n",
       "2 Adipose - Subcutaneous       total enformer_veff1\n",
       "3 Adipose - Visceral (Omentum) total enformer_veff1\n",
       "4 Adipose - Visceral (Omentum) total enformer_veff1\n",
       "5 Adrenal Gland                total enformer_veff1\n",
       "6 Artery - Aorta               total enformer_veff1"
      ]
     },
     "metadata": {},
     "output_type": "display_data"
    }
   ],
   "source": [
    "head(prc_tissue_df)"
   ]
  },
  {
   "cell_type": "code",
   "execution_count": 29,
   "id": "71249a2f-3b59-471b-b644-093a83528050",
   "metadata": {},
   "outputs": [],
   "source": [
    "stat.test <- (\n",
    "    prc_tissue_df\n",
    "    %>% filter(type_=='total')\n",
    "    %>% wilcox_test(`auc` ~ `run`, paired=TRUE)\n",
    "    %>% add_significance(\"p\")\n",
    ")"
   ]
  },
  {
   "cell_type": "code",
   "execution_count": 34,
   "id": "2a9500f4-5603-404a-9d54-93a5842ee462",
   "metadata": {},
   "outputs": [
    {
     "data": {
      "text/html": [
       "<table class=\"dataframe\">\n",
       "<caption>A rstatix_test: 3 × 10</caption>\n",
       "<thead>\n",
       "\t<tr><th scope=col>.y.</th><th scope=col>group1</th><th scope=col>group2</th><th scope=col>n1</th><th scope=col>n2</th><th scope=col>statistic</th><th scope=col>p</th><th scope=col>p.adj</th><th scope=col>p.adj.signif</th><th scope=col>p.signif</th></tr>\n",
       "\t<tr><th scope=col>&lt;chr&gt;</th><th scope=col>&lt;chr&gt;</th><th scope=col>&lt;chr&gt;</th><th scope=col>&lt;int&gt;</th><th scope=col>&lt;int&gt;</th><th scope=col>&lt;dbl&gt;</th><th scope=col>&lt;dbl&gt;</th><th scope=col>&lt;dbl&gt;</th><th scope=col>&lt;chr&gt;</th><th scope=col>&lt;chr&gt;</th></tr>\n",
       "</thead>\n",
       "<tbody>\n",
       "\t<tr><td>auc</td><td>enformer_veff1</td><td>enformer_veff2</td><td>41</td><td>41</td><td>0</td><td>NaN</td><td>NaN</td><td></td><td></td></tr>\n",
       "\t<tr><td>auc</td><td>enformer_veff1</td><td>enformer_veff3</td><td>41</td><td>41</td><td>0</td><td>NaN</td><td>NaN</td><td></td><td></td></tr>\n",
       "\t<tr><td>auc</td><td>enformer_veff2</td><td>enformer_veff3</td><td>41</td><td>41</td><td>0</td><td>NaN</td><td>NaN</td><td></td><td></td></tr>\n",
       "</tbody>\n",
       "</table>\n"
      ],
      "text/latex": [
       "A rstatix\\_test: 3 × 10\n",
       "\\begin{tabular}{llllllllll}\n",
       " .y. & group1 & group2 & n1 & n2 & statistic & p & p.adj & p.adj.signif & p.signif\\\\\n",
       " <chr> & <chr> & <chr> & <int> & <int> & <dbl> & <dbl> & <dbl> & <chr> & <chr>\\\\\n",
       "\\hline\n",
       "\t auc & enformer\\_veff1 & enformer\\_veff2 & 41 & 41 & 0 & NaN & NaN &  & \\\\\n",
       "\t auc & enformer\\_veff1 & enformer\\_veff3 & 41 & 41 & 0 & NaN & NaN &  & \\\\\n",
       "\t auc & enformer\\_veff2 & enformer\\_veff3 & 41 & 41 & 0 & NaN & NaN &  & \\\\\n",
       "\\end{tabular}\n"
      ],
      "text/markdown": [
       "\n",
       "A rstatix_test: 3 × 10\n",
       "\n",
       "| .y. &lt;chr&gt; | group1 &lt;chr&gt; | group2 &lt;chr&gt; | n1 &lt;int&gt; | n2 &lt;int&gt; | statistic &lt;dbl&gt; | p &lt;dbl&gt; | p.adj &lt;dbl&gt; | p.adj.signif &lt;chr&gt; | p.signif &lt;chr&gt; |\n",
       "|---|---|---|---|---|---|---|---|---|---|\n",
       "| auc | enformer_veff1 | enformer_veff2 | 41 | 41 | 0 | NaN | NaN | <!----> | <!----> |\n",
       "| auc | enformer_veff1 | enformer_veff3 | 41 | 41 | 0 | NaN | NaN | <!----> | <!----> |\n",
       "| auc | enformer_veff2 | enformer_veff3 | 41 | 41 | 0 | NaN | NaN | <!----> | <!----> |\n",
       "\n"
      ],
      "text/plain": [
       "  .y. group1         group2         n1 n2 statistic p   p.adj p.adj.signif\n",
       "1 auc enformer_veff1 enformer_veff2 41 41 0         NaN NaN               \n",
       "2 auc enformer_veff1 enformer_veff3 41 41 0         NaN NaN               \n",
       "3 auc enformer_veff2 enformer_veff3 41 41 0         NaN NaN               \n",
       "  p.signif\n",
       "1         \n",
       "2         \n",
       "3         "
      ]
     },
     "metadata": {},
     "output_type": "display_data"
    }
   ],
   "source": [
    "stat.test"
   ]
  },
  {
   "cell_type": "code",
   "execution_count": 35,
   "id": "7081f4b4-3cdd-40d4-b3d5-8f10d4022189",
   "metadata": {},
   "outputs": [
    {
     "data": {
      "text/html": [
       "<table class=\"dataframe\">\n",
       "<caption>A rstatix_test: 3 × 9</caption>\n",
       "<thead>\n",
       "\t<tr><th></th><th scope=col>.y.</th><th scope=col>group1</th><th scope=col>group2</th><th scope=col>n1</th><th scope=col>n2</th><th scope=col>statistic</th><th scope=col>p</th><th scope=col>p.adj</th><th scope=col>p.adj.signif</th></tr>\n",
       "\t<tr><th></th><th scope=col>&lt;chr&gt;</th><th scope=col>&lt;chr&gt;</th><th scope=col>&lt;chr&gt;</th><th scope=col>&lt;int&gt;</th><th scope=col>&lt;int&gt;</th><th scope=col>&lt;dbl&gt;</th><th scope=col>&lt;dbl&gt;</th><th scope=col>&lt;dbl&gt;</th><th scope=col>&lt;chr&gt;</th></tr>\n",
       "</thead>\n",
       "<tbody>\n",
       "\t<tr><th scope=row>1</th><td>auc</td><td>enformer_veff1</td><td>enformer_veff2</td><td>30</td><td>30</td><td>0</td><td>NaN</td><td>NaN</td><td></td></tr>\n",
       "\t<tr><th scope=row>2</th><td>auc</td><td>enformer_veff1</td><td>enformer_veff3</td><td>30</td><td>30</td><td>0</td><td>NaN</td><td>NaN</td><td></td></tr>\n",
       "\t<tr><th scope=row>3</th><td>auc</td><td>enformer_veff2</td><td>enformer_veff3</td><td>30</td><td>30</td><td>0</td><td>NaN</td><td>NaN</td><td></td></tr>\n",
       "</tbody>\n",
       "</table>\n"
      ],
      "text/latex": [
       "A rstatix\\_test: 3 × 9\n",
       "\\begin{tabular}{r|lllllllll}\n",
       "  & .y. & group1 & group2 & n1 & n2 & statistic & p & p.adj & p.adj.signif\\\\\n",
       "  & <chr> & <chr> & <chr> & <int> & <int> & <dbl> & <dbl> & <dbl> & <chr>\\\\\n",
       "\\hline\n",
       "\t1 & auc & enformer\\_veff1 & enformer\\_veff2 & 30 & 30 & 0 & NaN & NaN & \\\\\n",
       "\t2 & auc & enformer\\_veff1 & enformer\\_veff3 & 30 & 30 & 0 & NaN & NaN & \\\\\n",
       "\t3 & auc & enformer\\_veff2 & enformer\\_veff3 & 30 & 30 & 0 & NaN & NaN & \\\\\n",
       "\\end{tabular}\n"
      ],
      "text/markdown": [
       "\n",
       "A rstatix_test: 3 × 9\n",
       "\n",
       "| <!--/--> | .y. &lt;chr&gt; | group1 &lt;chr&gt; | group2 &lt;chr&gt; | n1 &lt;int&gt; | n2 &lt;int&gt; | statistic &lt;dbl&gt; | p &lt;dbl&gt; | p.adj &lt;dbl&gt; | p.adj.signif &lt;chr&gt; |\n",
       "|---|---|---|---|---|---|---|---|---|---|\n",
       "| 1 | auc | enformer_veff1 | enformer_veff2 | 30 | 30 | 0 | NaN | NaN | <!----> |\n",
       "| 2 | auc | enformer_veff1 | enformer_veff3 | 30 | 30 | 0 | NaN | NaN | <!----> |\n",
       "| 3 | auc | enformer_veff2 | enformer_veff3 | 30 | 30 | 0 | NaN | NaN | <!----> |\n",
       "\n"
      ],
      "text/plain": [
       "  .y. group1         group2         n1 n2 statistic p   p.adj p.adj.signif\n",
       "1 auc enformer_veff1 enformer_veff2 30 30 0         NaN NaN               \n",
       "2 auc enformer_veff1 enformer_veff3 30 30 0         NaN NaN               \n",
       "3 auc enformer_veff2 enformer_veff3 30 30 0         NaN NaN               "
      ]
     },
     "metadata": {},
     "output_type": "display_data"
    }
   ],
   "source": [
    "(prc_tissue_df\n",
    "%>% filter(type_=='obvious')\n",
    "%>% wilcox_test(`auc` ~ `run`, paired=TRUE))"
   ]
  }
 ],
 "metadata": {
  "kernelspec": {
   "display_name": "R",
   "language": "R",
   "name": "ir"
  },
  "language_info": {
   "codemirror_mode": "r",
   "file_extension": ".r",
   "mimetype": "text/x-r-source",
   "name": "R",
   "pygments_lexer": "r",
   "version": "4.3.1"
  }
 },
 "nbformat": 4,
 "nbformat_minor": 5
}
